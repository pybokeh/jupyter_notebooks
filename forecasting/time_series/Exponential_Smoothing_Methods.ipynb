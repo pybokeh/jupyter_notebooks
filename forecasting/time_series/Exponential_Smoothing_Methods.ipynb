{
 "cells": [
  {
   "cell_type": "markdown",
   "id": "ed92088c-6a79-47f5-bf28-1151cb061330",
   "metadata": {},
   "source": [
    "# Single Exponential Smoothing Method"
   ]
  },
  {
   "cell_type": "code",
   "execution_count": 1,
   "id": "e26db6f3-823d-48b1-8137-a5b3c8d26a6f",
   "metadata": {},
   "outputs": [],
   "source": [
    "import numpy as np\n",
    "import pandas as pd\n",
    "import statsmodels.api as sm"
   ]
  },
  {
   "cell_type": "code",
   "execution_count": 2,
   "id": "9c52a4e5-1768-4ed1-9c9d-000dbb609485",
   "metadata": {},
   "outputs": [
    {
     "name": "stdout",
     "output_type": "stream",
     "text": [
      "2023-11-30    45.0\n",
      "2023-12-31    45.0\n",
      "2024-01-31    45.0\n",
      "Freq: M, dtype: float64\n"
     ]
    }
   ],
   "source": [
    "# Sample data\n",
    "data = np.array([23, 25, 30, 28, 33, 35, 38, 42, 40, 45])\n",
    "\n",
    "# Create a DataFrame with a time index\n",
    "index = pd.date_range(start='2023-01-01', periods=len(data), freq='M')\n",
    "df = pd.DataFrame(data, index=index, columns=['Value'])\n",
    "\n",
    "# Apply SES\n",
    "ses_model = sm.tsa.SimpleExpSmoothing(df['Value']).fit()\n",
    "ses_forecast = ses_model.forecast(steps=3)  # Forecast the next 3 periods\n",
    "print(ses_forecast)"
   ]
  },
  {
   "cell_type": "markdown",
   "id": "020d8c39-1733-43d8-80ca-f64380b547d4",
   "metadata": {},
   "source": [
    "# Double-Exponential Smoothing Method (Holt's Method)"
   ]
  },
  {
   "cell_type": "code",
   "execution_count": 3,
   "id": "9c16d5e6-472b-4ad3-9647-d6582e92fa7c",
   "metadata": {},
   "outputs": [
    {
     "name": "stdout",
     "output_type": "stream",
     "text": [
      "2023-11-30    45.0\n",
      "2023-12-31    47.0\n",
      "2024-01-31    49.0\n",
      "Freq: M, dtype: float64\n"
     ]
    }
   ],
   "source": [
    "# Sample data\n",
    "data = np.array([23, 25, 30, 28, 33, 35, 38, 42, 40, 45])\n",
    "\n",
    "# Create a DataFrame with a time index\n",
    "index = pd.date_range(start='2023-01-01', periods=len(data), freq='M')\n",
    "df = pd.DataFrame(data, index=index, columns=['Value'])\n",
    "\n",
    "# Apply Holt's method\n",
    "holt_model = sm.tsa.Holt(df['Value']).fit()\n",
    "holt_forecast = holt_model.forecast(steps=3)  # Forecast the next 3 periods\n",
    "print(holt_forecast)"
   ]
  },
  {
   "cell_type": "markdown",
   "id": "3ac12bf7-551e-4e51-b79a-dc8eafccb68b",
   "metadata": {},
   "source": [
    "# Triple Exponential Smoothing Method (Holt-Winters Method)"
   ]
  },
  {
   "cell_type": "code",
   "execution_count": 4,
   "id": "6773841e-ad8a-47e1-8318-a44e4ce9de18",
   "metadata": {},
   "outputs": [
    {
     "name": "stdout",
     "output_type": "stream",
     "text": [
      "2023-11-30    46.409106\n",
      "2023-12-31    44.818193\n",
      "2024-01-31    43.727277\n",
      "Freq: M, dtype: float64\n"
     ]
    }
   ],
   "source": [
    "# Sample data\n",
    "data = np.array([23, 25, 30, 28, 33, 35, 38, 42, 40, 45])\n",
    "\n",
    "# Create a DataFrame with a time index\n",
    "index = pd.date_range(start='2023-01-01', periods=len(data), freq='M')\n",
    "df = pd.DataFrame(data, index=index, columns=['Value'])\n",
    "\n",
    "# Apply Holt-Winters method\n",
    "holt_winters_model = sm.tsa.ExponentialSmoothing(df['Value'], seasonal='add', seasonal_periods=4).fit()\n",
    "holt_winters_forecast = holt_winters_model.forecast(steps=3)  # Forecast the next 3 periods\n",
    "print(holt_winters_forecast)"
   ]
  }
 ],
 "metadata": {
  "kernelspec": {
   "display_name": "Py3.11 (eda_dev)",
   "language": "python",
   "name": "eda_dev"
  },
  "language_info": {
   "codemirror_mode": {
    "name": "ipython",
    "version": 3
   },
   "file_extension": ".py",
   "mimetype": "text/x-python",
   "name": "python",
   "nbconvert_exporter": "python",
   "pygments_lexer": "ipython3",
   "version": "3.11.5"
  }
 },
 "nbformat": 4,
 "nbformat_minor": 5
}
