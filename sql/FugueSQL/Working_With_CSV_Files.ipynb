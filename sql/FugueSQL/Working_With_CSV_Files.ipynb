{
 "cells": [
  {
   "cell_type": "code",
   "execution_count": null,
   "id": "2e0eeda6-20f1-45a5-908a-884290a60f26",
   "metadata": {},
   "outputs": [],
   "source": [
    "from fugue_notebook import setup\n",
    "setup ()"
   ]
  },
  {
   "cell_type": "code",
   "execution_count": null,
   "id": "13f13d20-5e99-46cc-b270-7a3957f45906",
   "metadata": {},
   "outputs": [],
   "source": [
    "%%fsql dask\n",
    "df = LOAD \"C:/Users/some_user/temp/all_plants_shipping_receiving.cs\" (header=true)\n",
    "YIELD DATAFRAME AS df"
   ]
  },
  {
   "cell_type": "code",
   "execution_count": null,
   "id": "825adede-50e1-449e-b3b8-e4ad4eafb550",
   "metadata": {},
   "outputs": [],
   "source": [
    "df.as_pandas().sample(2).transpose()"
   ]
  },
  {
   "cell_type": "code",
   "execution_count": null,
   "id": "a8111e4b-d98b-4fc6-8d9b-be72d0f40e7d",
   "metadata": {},
   "outputs": [],
   "source": [
    "%%fsql\n",
    "df = LOAD \"C:/Users/some_user/temp/all_plants_shipping_receiving.csv\" (header=true)\n",
    "ALTER COLUMNS\n",
    "DELV_SCDL_DT: datetime,\n",
    "DATE: datetime,\n",
    "ADJ_TSTMP: datetime,\n",
    "ASN_PART_QTY1: int,\n",
    "ADJ_QTY: int,\n",
    "TOTAL_ASN_PART_QTY: int\n",
    "SELECT SUM(TOTAL_ASN_PART_QTY) AS Qty\n",
    "PRINT"
   ]
  }
 ],
 "metadata": {
  "kernelspec": {
   "display_name": "Python 3 (ipykernel)",
   "language": "python",
   "name": "python3"
  },
  "language_info": {
   "codemirror_mode": {
    "name": "ipython",
    "version": 3
   },
   "file_extension": ".py",
   "mimetype": "text/x-python",
   "name": "python",
   "nbconvert_exporter": "python",
   "pygments_lexer": "ipython3",
   "version": "3.8.10"
  }
 },
 "nbformat": 4,
 "nbformat_minor": 5
}
