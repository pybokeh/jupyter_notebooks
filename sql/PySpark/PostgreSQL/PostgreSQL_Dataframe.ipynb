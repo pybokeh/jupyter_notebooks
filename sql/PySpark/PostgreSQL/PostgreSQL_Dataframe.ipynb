{
 "cells": [
  {
   "cell_type": "markdown",
   "id": "8e379f8e-0528-414d-a473-ce79b881c415",
   "metadata": {},
   "source": [
    "## PostgreSQL Query as PySpark Dataframe and PySpark Dataframe as PostgreSQL Table"
   ]
  },
  {
   "cell_type": "code",
   "execution_count": 1,
   "id": "39e026fc-0a48-4810-96db-e579b07444d6",
   "metadata": {},
   "outputs": [],
   "source": [
    "from pathlib import Path\n",
    "import configparser\n",
    "import os\n",
    "import pyspark\n",
    "from pyspark.sql import SparkSession"
   ]
  },
  {
   "cell_type": "code",
   "execution_count": 2,
   "id": "d3ec3a3c-fe51-4650-95cf-82e4afdcf72e",
   "metadata": {},
   "outputs": [],
   "source": [
    "config_file = os.getenv(\"CONFIG_PATH\")"
   ]
  },
  {
   "cell_type": "code",
   "execution_count": 3,
   "id": "5b3dbe97-9653-4d0f-ab5f-9824bcf10f72",
   "metadata": {},
   "outputs": [],
   "source": [
    "config = configparser.ConfigParser()\n",
    "try:\n",
    "    config.read(config_file)\n",
    "except ConfigFileNotFound:\n",
    "    print(\"config.ini file not found\")"
   ]
  },
  {
   "cell_type": "code",
   "execution_count": 4,
   "id": "2c3c25e5-3e3a-4aa9-b375-56d79d9bdf66",
   "metadata": {},
   "outputs": [],
   "source": [
    "postgres_jdbc_driver = Path(config['postgresql']['jdbc_driver_path'])"
   ]
  },
  {
   "cell_type": "code",
   "execution_count": 5,
   "id": "5e6bfdf4-f187-4a03-8af0-4e0b5ec46218",
   "metadata": {},
   "outputs": [],
   "source": [
    "# Read in the Postgresql database credentials for DSN-less connection\n",
    "pg_host = config[\"postgresql\"][\"host\"]\n",
    "pg_port = config[\"postgresql\"][\"port\"]\n",
    "pg_db = config[\"postgresql\"][\"database\"]\n",
    "pg_user = config[\"postgresql\"][\"username\"]\n",
    "pg_pwd = config[\"postgresql\"][\"password\"]"
   ]
  },
  {
   "cell_type": "code",
   "execution_count": 6,
   "id": "d3da528e-2e77-4558-9d47-f97259dce5b8",
   "metadata": {},
   "outputs": [],
   "source": [
    "url = f'jdbc:postgresql://{pg_host}:{pg_port}/{pg_db}'\n",
    "driver = 'org.postgresql.Driver'"
   ]
  },
  {
   "cell_type": "code",
   "execution_count": 7,
   "id": "73587abb-e7b4-4b09-a264-d3e106fbd2e8",
   "metadata": {},
   "outputs": [],
   "source": [
    "spark = (\n",
    "    SparkSession\n",
    "    .builder.master(\"local[*]\")\n",
    "    .appName(\"Postgres\")\n",
    "    .config(\"spark.jars\", postgres_jdbc_driver)\n",
    "    .getOrCreate()\n",
    ")"
   ]
  },
  {
   "cell_type": "markdown",
   "id": "ff618ce1-ebcf-42a3-a545-3a6bb21ea2e5",
   "metadata": {},
   "source": [
    "#### PostgreSQL Query as Dataframe"
   ]
  },
  {
   "cell_type": "code",
   "execution_count": 8,
   "id": "b2c12223-c755-416c-93f4-107811b6cddb",
   "metadata": {},
   "outputs": [],
   "source": [
    "query = \"SELECT CURRENT_DATE\""
   ]
  },
  {
   "cell_type": "code",
   "execution_count": 10,
   "id": "782858a7-67e1-459b-bd00-eb82e931cdc7",
   "metadata": {},
   "outputs": [],
   "source": [
    "jdbcDF = (spark.read\n",
    "          .format(\"jdbc\")\n",
    "          .option(\"driver\", driver)\n",
    "          .option(\"url\", url)\n",
    "          .option(\"user\", pg_user)\n",
    "          .option(\"password\", pg_pwd)\n",
    "          .option(\"query\", query)\n",
    "          .load()\n",
    "         )"
   ]
  },
  {
   "cell_type": "code",
   "execution_count": 11,
   "id": "1dea0ff0-ee65-4b9a-b9f2-72ba331aeb0b",
   "metadata": {},
   "outputs": [
    {
     "name": "stdout",
     "output_type": "stream",
     "text": [
      "+------------+\n",
      "|current_date|\n",
      "+------------+\n",
      "|  2022-02-26|\n",
      "+------------+\n",
      "\n"
     ]
    }
   ],
   "source": [
    "jdbcDF.show()"
   ]
  },
  {
   "cell_type": "code",
   "execution_count": 12,
   "id": "00f4c593-a7cb-4517-8822-634a1d15e05f",
   "metadata": {},
   "outputs": [
    {
     "data": {
      "text/plain": [
       "StructType(List(StructField(current_date,DateType,true)))"
      ]
     },
     "execution_count": 12,
     "metadata": {},
     "output_type": "execute_result"
    }
   ],
   "source": [
    "jdbcDF.schema"
   ]
  },
  {
   "cell_type": "markdown",
   "id": "8dc2fa32-d7f0-4c76-89c5-70ac88da1b10",
   "metadata": {},
   "source": [
    "#### Dataframe as PostgreSQL Table"
   ]
  },
  {
   "cell_type": "code",
   "execution_count": 15,
   "id": "a3f00288-aeba-4fec-84f3-703c6d1d400a",
   "metadata": {},
   "outputs": [],
   "source": [
    "(jdbcDF\n",
    " .select(\"current_date\").write.format(\"jdbc\")\n",
    " .option(\"url\", url)\n",
    " .option(\"driver\", driver)\n",
    " .option(\"dbtable\", \"my_table\")\n",
    " .option(\"user\", pg_user)\n",
    " .option(\"password\", pg_pwd)\n",
    " # https://spark.apache.org/docs/latest/api/python/reference/api/pyspark.sql.DataFrameWriter.mode.html#pyspark.sql.DataFrameWriter.mode\n",
    " .mode(\"overwrite\")\n",
    " .save()\n",
    ")"
   ]
  },
  {
   "cell_type": "code",
   "execution_count": 16,
   "id": "6f3e7733-ea34-4c02-97c8-518fab999b01",
   "metadata": {},
   "outputs": [],
   "source": [
    "spark.stop()"
   ]
  },
  {
   "cell_type": "markdown",
   "id": "7c196350-e7e0-48e4-973d-a4a8184885e9",
   "metadata": {},
   "source": [
    "#### Using Context Manager (with)"
   ]
  },
  {
   "cell_type": "code",
   "execution_count": 19,
   "id": "bdd769b5-dcb2-4b2e-a942-44d2a6533e10",
   "metadata": {},
   "outputs": [
    {
     "name": "stdout",
     "output_type": "stream",
     "text": [
      "+------------+\n",
      "|current_date|\n",
      "+------------+\n",
      "|  2022-02-26|\n",
      "+------------+\n",
      "\n",
      "Completed saving dataframe as Postgres table\n"
     ]
    }
   ],
   "source": [
    "with (SparkSession.builder.master(\"local[*]\").appName(\"Postgres\").config(\"spark.jars\", postgres_jdbc_driver).getOrCreate()) as spark:\n",
    "    query = \"SELECT CURRENT_DATE\"\n",
    "    jdbcDF = (\n",
    "        spark.read\n",
    "        .format(\"jdbc\")\n",
    "        .option(\"driver\", driver)\n",
    "        .option(\"url\", url)\n",
    "        .option(\"user\", pg_user)\n",
    "        .option(\"password\", pg_pwd)\n",
    "        .option(\"query\", query)\n",
    "        .load()\n",
    "    )\n",
    "    jdbcDF.show()\n",
    "    \n",
    "    (jdbcDF\n",
    "     .select(\"current_date\").write.format(\"jdbc\")\n",
    "     .option(\"url\", url)\n",
    "     .option(\"driver\", driver)\n",
    "     .option(\"dbtable\", \"my_table\")\n",
    "     .option(\"user\", pg_user)\n",
    "     .option(\"password\", pg_pwd)\n",
    "     # https://spark.apache.org/docs/latest/api/python/reference/api/pyspark.sql.DataFrameWriter.mode.html#pyspark.sql.DataFrameWriter.mode\n",
    "     .mode(\"overwrite\")\n",
    "     .save()\n",
    "    )\n",
    "    print(\"Completed saving dataframe as Postgres table\")"
   ]
  }
 ],
 "metadata": {
  "kernelspec": {
   "display_name": "Py3.9 (pyspark_dev)",
   "language": "python",
   "name": "pyspark_dev"
  },
  "language_info": {
   "codemirror_mode": {
    "name": "ipython",
    "version": 3
   },
   "file_extension": ".py",
   "mimetype": "text/x-python",
   "name": "python",
   "nbconvert_exporter": "python",
   "pygments_lexer": "ipython3",
   "version": "3.9.8"
  },
  "widgets": {
   "application/vnd.jupyter.widget-state+json": {
    "state": {},
    "version_major": 2,
    "version_minor": 0
   }
  }
 },
 "nbformat": 4,
 "nbformat_minor": 5
}
