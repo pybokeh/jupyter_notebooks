{
 "cells": [
  {
   "cell_type": "markdown",
   "id": "4cf402ad-c242-4eec-bbe7-e4b98a9cd9da",
   "metadata": {},
   "source": [
    "<a id=\"top\">"
   ]
  },
  {
   "cell_type": "markdown",
   "id": "1a73829b-5f48-4033-92f3-b166183d672c",
   "metadata": {},
   "source": [
    "# A PySpark Tutorial"
   ]
  },
  {
   "cell_type": "markdown",
   "id": "1398052e-9f95-462c-8d9d-f3c5d6b528f7",
   "metadata": {},
   "source": [
    "## Table of Contents"
   ]
  },
  {
   "cell_type": "markdown",
   "id": "f2492cce-c61b-424e-b314-48db8e8ae2f3",
   "metadata": {},
   "source": [
    "- [Installing \"local\" PySpark environment](#local)\n",
    "- [Creating Spark Session](#session)\n",
    "- [Reading a simple text file](#read_text)\n",
    "- [Getting familiar with your data - `printSchema()`, `dtypes`, and `show()`](#schema)\n",
    "- [Splitting words into Python lists](#split_words)\n",
    "- [Different ways to select a dataframe column](#select_column)\n",
    "- [Renaming column with `alias()`](#rename_column)\n",
    "- [Exploding a column of arrays into rows of elements](#explode)\n",
    "- [Lower the case of the words in the data frame](#lower_case)\n",
    "- [Using `regexp_extract` to keep what looks like a word](#regexp_extract)\n",
    "- [Filtering rows in your data frame using `where` or `filter`](#filtering)\n",
    "- [Counting word frequencies using groupby() and count()](#word_freq)\n",
    "- [Ordering / Sorting Dataframe by Single Column](#sorting)\n",
    "- [Writing data from a dataframe as csv](#write)\n",
    "- [Complete Word Count Script](#complete_word_count_script)\n",
    "- [Simplifying your dependencies with PySpark’s import conventions](#imports)\n",
    "- [Removing intermediate variables by chaining transformation methods](#method_chaining)"
   ]
  },
  {
   "cell_type": "markdown",
   "id": "c9cc2e26-08c2-4b6c-ac34-c2d1432ff1b5",
   "metadata": {},
   "source": [
    "<a id=\"local\">"
   ]
  },
  {
   "cell_type": "markdown",
   "id": "fe0e53ce-0a7f-44fa-8e12-0dd6db86fa80",
   "metadata": {},
   "source": [
    "## Installing \"Local\" PySpark on Windows 10"
   ]
  },
  {
   "cell_type": "markdown",
   "id": "a51271b5-200a-472e-b05e-2413e8027fff",
   "metadata": {},
   "source": [
    "[[back to top]](#top)"
   ]
  },
  {
   "cell_type": "markdown",
   "id": "7a120c34-f664-4973-9130-e7fa1f5869d1",
   "metadata": {},
   "source": [
    "1. Install Java 1.8 from Sun Java [site](https://www.java.com/download/ie_manual.jsp). Include path to java.exe in your PATH environment variable.\n",
    "2. Install Python - download binaries at python.org\n",
    "3. Create pyspark_dev virtual environment: `python -m venv pyspark_dev`\n",
    "4. Change directory into `pyspark_dev` folder: `cd pyspark_dev`.  Then activate \"pyspark_dev\" environment with `Scripts/activate.bat`\n",
    "5. Update pip and then install necessary packages: `python -m pip install -U pip`, then `pip install wheel`, then `pip install pyspark ipykernel`\n",
    "6. Install kernel: `python -m ipykernel install --user --name pyspark_dev --display-name \"Python (pyspark_dev)\"`\n",
    "7. Set environment variables: `PYSPARK_PYTHON=[path_to_python.exe]` and `SPARK_HOME=[path_to_site_packages/pyspark folder]`\n",
    "8. \\* Download `winutils.exe`,`hadoop.dll`, and `hdfs.dll` from https://github.com/cdarlint/winutils, save locally to \"hadoop/bin\" folder and then\n",
    "9. `set HADOOP_HOME=[path_to_hadoop_folder]` and append `HADOOP_HOME\\bin` to PATH: `set PATH=%PATH%;%HADOOP_HOME%\\bin`\n",
    "10. De-activate your pyspark_dev virtual environment, then activate your python virutal environment that has jupyterlab installed.\n",
    "11. Confirm you have pyspark_dev installed as a kernel by issuing the following command: `jupyter kernelspec list`  If you see it, then launch jupyterlab via `jupyter lab`\n",
    "12. Choose your PySpark kernel that you defined in Step 5 when opening a new jupyterlab notebook\n",
    "\n",
    "\\* Hadoop version 2.7.3 has worked for me for PySpark 3.x series.  Hadoop versions 2.7+ _should_ work with PySpark 3.x series\n",
    "\n",
    "See this article https://phoenixnap.com/kb/install-spark-on-windows-10"
   ]
  },
  {
   "cell_type": "markdown",
   "id": "c025a9fd-95df-401e-a166-99f6be83d288",
   "metadata": {},
   "source": [
    "## Installing \"Local\" PySpark on Ubuntu Linux WSL via pip in virtual environment, NOT system level installation"
   ]
  },
  {
   "cell_type": "markdown",
   "id": "77383abf-c2fe-4a15-96f8-ea7aa33e296e",
   "metadata": {},
   "source": [
    "1. Install Java 1.8 `sudo apt-get update` then `sudo apt-get install openjdk-8-jdk` and set JAVA_HOME environment variable, as an example: `export JAVA_HOME=/usr/lib/jvm/java-8-openjdk-amd64`\n",
    "2. Create \"pyspark_dev\" virtual environment: `python3 -m venv pyspark_dev`\n",
    "3. Activate \"pyspark_dev\" environment, then: `python -m pip install -U pip`, then `pip install wheel`, then `PYSPARK_HADOOP_VERSION=2 pip install pyspark pandas ipykernel`\n",
    "4. Install kernel: `python -m ipykernel install --user --name pyspark_dev --display-name \"Python (pyspark_dev)\"`\n",
    "5. Add 2 environment variables (SPARK_HOME and PYSPARK_HOME), as an example: `export SPARK_HOME=/home/pybokeh/envs/pyspark_local/lib/python3.10/site-packages/pyspark` and `export PYSPARK_PYTHON=/home/pybokeh/envs/pyspark_local/bin/python`\n",
    "6. Append `SPARK_HOME/bin` and `SPARK_HOME/sbin` to your PATH, as an example: `export PATH=$PATH:$SPARK_HOME/bin:$SPARK_HOME/sbin`\n",
    "7. `source ~/.bashrc` or `source ~/.profile`\n",
    "8. Issue the \"pyspark\" command to check if everything was installed correctly\n",
    "9. De-activate your pyspark_dev virtual environment, then activate your python virutal environment that has jupyterlab installed.\n",
    "10. Confirm you have pyspark_dev installed as a kernel by issuing the following command: `jupyter kernelspec list`  If you see it, then launch jupyterlab via `jupyter lab`\n",
    "11. Choose your PySpark kernel that you defined in Step 4 when opening a new jupyterlab notebook\n",
    "\n",
    "Official installation [instructions](https://spark.apache.org/docs/latest/api/python/getting_started/install.html) from spark documentation"
   ]
  },
  {
   "cell_type": "markdown",
   "id": "6dfd5be5-fb30-4c0b-a756-1c62649cbe75",
   "metadata": {},
   "source": [
    "<a id=\"session\">"
   ]
  },
  {
   "cell_type": "markdown",
   "id": "07a807f0-9278-4244-856d-ef603b8149c0",
   "metadata": {},
   "source": [
    "## We will be performing a simple word count from a text file"
   ]
  },
  {
   "cell_type": "markdown",
   "id": "4ab6a9d1-0066-43f5-a3d0-37f09476bcc2",
   "metadata": {},
   "source": [
    "#### Creating `SparkSession`"
   ]
  },
  {
   "cell_type": "markdown",
   "id": "157b5aac-91fe-4145-b3c5-d057f8a8fb56",
   "metadata": {},
   "source": [
    "[[back to top]](#top)"
   ]
  },
  {
   "cell_type": "code",
   "execution_count": 1,
   "id": "40703452-5ebe-4dd8-81d7-ae48a6c392ca",
   "metadata": {
    "tags": []
   },
   "outputs": [],
   "source": [
    "from pyspark.sql import SparkSession"
   ]
  },
  {
   "cell_type": "code",
   "execution_count": 2,
   "id": "79b46318-cdf4-45cd-a463-7511d0f9f157",
   "metadata": {
    "tags": []
   },
   "outputs": [
    {
     "name": "stdout",
     "output_type": "stream",
     "text": [
      "23/03/24 13:42:18 WARN Utils: Your hostname, pybokeh-Lemur resolves to a loopback address: 127.0.1.1; using 192.168.1.101 instead (on interface wlp2s0)\n",
      "23/03/24 13:42:18 WARN Utils: Set SPARK_LOCAL_IP if you need to bind to another address\n"
     ]
    },
    {
     "name": "stderr",
     "output_type": "stream",
     "text": [
      "Setting default log level to \"WARN\".\n",
      "To adjust logging level use sc.setLogLevel(newLevel). For SparkR, use setLogLevel(newLevel).\n"
     ]
    },
    {
     "name": "stdout",
     "output_type": "stream",
     "text": [
      "23/03/24 13:42:21 WARN NativeCodeLoader: Unable to load native-hadoop library for your platform... using builtin-java classes where applicable\n"
     ]
    }
   ],
   "source": [
    "spark = (SparkSession.builder\n",
    "    # Enable eager, interactive mode - typically do not do this with production code\n",
    "    .config(\"spark.sql.repl.eagerEval.enabled\", \"True\")\n",
    "    .getOrCreate()\n",
    ")"
   ]
  },
  {
   "cell_type": "markdown",
   "id": "a86e164d-a68e-4901-a4a4-df3fb4ee2b02",
   "metadata": {},
   "source": [
    "<a id=\"read_text\">"
   ]
  },
  {
   "cell_type": "markdown",
   "id": "ffaa5446-1e68-4dec-a87e-d30953c533ea",
   "metadata": {},
   "source": [
    "#### Reading a text file"
   ]
  },
  {
   "cell_type": "markdown",
   "id": "dff4da7a-1830-4d74-97ac-e28df4719989",
   "metadata": {},
   "source": [
    "[[back to top]](#top)"
   ]
  },
  {
   "cell_type": "code",
   "execution_count": 3,
   "id": "146f730f-784b-4055-8e3a-a4211369a42d",
   "metadata": {},
   "outputs": [],
   "source": [
    "book = spark.read.text(\"data/gutenberg_books/1342-0.txt\")"
   ]
  },
  {
   "cell_type": "code",
   "execution_count": 4,
   "id": "6c4fcd79-71f2-4de4-9e67-b33de2bf266e",
   "metadata": {},
   "outputs": [
    {
     "data": {
      "text/html": [
       "<table border='1'>\n",
       "<tr><th>value</th></tr>\n",
       "<tr><td>The Project Guten...</td></tr>\n",
       "<tr><td></td></tr>\n",
       "<tr><td>This eBook is for...</td></tr>\n",
       "<tr><td>almost no restric...</td></tr>\n",
       "<tr><td>re-use it under t...</td></tr>\n",
       "<tr><td>with this eBook o...</td></tr>\n",
       "<tr><td></td></tr>\n",
       "<tr><td></td></tr>\n",
       "<tr><td>Title: Pride and ...</td></tr>\n",
       "<tr><td></td></tr>\n",
       "<tr><td>Author: Jane Austen</td></tr>\n",
       "<tr><td></td></tr>\n",
       "<tr><td>Posting Date: Aug...</td></tr>\n",
       "<tr><td>Release Date: Jun...</td></tr>\n",
       "<tr><td>Last Updated: Mar...</td></tr>\n",
       "<tr><td></td></tr>\n",
       "<tr><td>Language: English</td></tr>\n",
       "<tr><td></td></tr>\n",
       "<tr><td>Character set enc...</td></tr>\n",
       "<tr><td></td></tr>\n",
       "</table>\n",
       "only showing top 20 rows\n"
      ],
      "text/plain": [
       "+--------------------+\n",
       "|               value|\n",
       "+--------------------+\n",
       "|The Project Guten...|\n",
       "|                    |\n",
       "|This eBook is for...|\n",
       "|almost no restric...|\n",
       "|re-use it under t...|\n",
       "|with this eBook o...|\n",
       "|                    |\n",
       "|                    |\n",
       "|Title: Pride and ...|\n",
       "|                    |\n",
       "| Author: Jane Austen|\n",
       "|                    |\n",
       "|Posting Date: Aug...|\n",
       "|Release Date: Jun...|\n",
       "|Last Updated: Mar...|\n",
       "|                    |\n",
       "|   Language: English|\n",
       "|                    |\n",
       "|Character set enc...|\n",
       "|                    |\n",
       "+--------------------+\n",
       "only showing top 20 rows"
      ]
     },
     "execution_count": 4,
     "metadata": {},
     "output_type": "execute_result"
    }
   ],
   "source": [
    "book"
   ]
  },
  {
   "cell_type": "markdown",
   "id": "df25ab5d-dde4-400d-9493-645bfe22bb6e",
   "metadata": {},
   "source": [
    "<a id=\"schema\">"
   ]
  },
  {
   "cell_type": "markdown",
   "id": "fb1fc31c-dd28-4ee1-b5be-7b5d88fed315",
   "metadata": {},
   "source": [
    "#### Getting familiar with your data - `printSchema()`, `dtypes`, and `show()`"
   ]
  },
  {
   "cell_type": "markdown",
   "id": "c790ce66-0acd-47da-bf85-49d259f92850",
   "metadata": {},
   "source": [
    "[[back to top]](#top)"
   ]
  },
  {
   "cell_type": "code",
   "execution_count": 5,
   "id": "92bdcd95-61ce-4c3a-a75e-88b7e447b277",
   "metadata": {},
   "outputs": [
    {
     "name": "stdout",
     "output_type": "stream",
     "text": [
      "root\n",
      " |-- value: string (nullable = true)\n",
      "\n"
     ]
    }
   ],
   "source": [
    "book.printSchema()"
   ]
  },
  {
   "cell_type": "code",
   "execution_count": 6,
   "id": "a73c87e5-978a-43f5-a2e0-065e6cbdf568",
   "metadata": {},
   "outputs": [
    {
     "name": "stdout",
     "output_type": "stream",
     "text": [
      "[('value', 'string')]\n"
     ]
    }
   ],
   "source": [
    "print(book.dtypes)"
   ]
  },
  {
   "cell_type": "code",
   "execution_count": 7,
   "id": "e9a61081-143c-4109-b9eb-e3f693561909",
   "metadata": {},
   "outputs": [
    {
     "name": "stdout",
     "output_type": "stream",
     "text": [
      "+--------------------+\n",
      "|               value|\n",
      "+--------------------+\n",
      "|The Project Guten...|\n",
      "|                    |\n",
      "|This eBook is for...|\n",
      "|almost no restric...|\n",
      "|re-use it under t...|\n",
      "|with this eBook o...|\n",
      "|                    |\n",
      "|                    |\n",
      "|Title: Pride and ...|\n",
      "|                    |\n",
      "| Author: Jane Austen|\n",
      "|                    |\n",
      "|Posting Date: Aug...|\n",
      "|Release Date: Jun...|\n",
      "|Last Updated: Mar...|\n",
      "|                    |\n",
      "|   Language: English|\n",
      "|                    |\n",
      "|Character set enc...|\n",
      "|                    |\n",
      "+--------------------+\n",
      "only showing top 20 rows\n",
      "\n"
     ]
    }
   ],
   "source": [
    "book.show()"
   ]
  },
  {
   "cell_type": "markdown",
   "id": "66f2d91d-16d8-4c8a-9371-a1c68f02fcd4",
   "metadata": {},
   "source": [
    "<a id=\"split_words\">"
   ]
  },
  {
   "cell_type": "markdown",
   "id": "40d0d859-f78b-4b8e-9508-d086e1934628",
   "metadata": {},
   "source": [
    "#### Splitting words into Python lists"
   ]
  },
  {
   "cell_type": "markdown",
   "id": "36cdc5d0-ff0e-47f7-8459-425b3214ec2b",
   "metadata": {},
   "source": [
    "[[back to top]](#top)"
   ]
  },
  {
   "cell_type": "code",
   "execution_count": 8,
   "id": "6fe6864f-fe0f-4a73-9c4d-e710b1e70db3",
   "metadata": {},
   "outputs": [],
   "source": [
    "from pyspark.sql.functions import split"
   ]
  },
  {
   "cell_type": "code",
   "execution_count": 9,
   "id": "4e2cadf1-a5f1-497c-b4bf-03337d3b0d86",
   "metadata": {},
   "outputs": [],
   "source": [
    "lines = book.select(split(book.value, \" \").alias(\"line\"))"
   ]
  },
  {
   "cell_type": "code",
   "execution_count": 10,
   "id": "a33a7bcb-c8bc-46fe-a549-ce5a264ba210",
   "metadata": {},
   "outputs": [
    {
     "data": {
      "text/html": [
       "<table border='1'>\n",
       "<tr><th>line</th></tr>\n",
       "<tr><td>[The, Project, Gu...</td></tr>\n",
       "<tr><td>[]</td></tr>\n",
       "<tr><td>[This, eBook, is,...</td></tr>\n",
       "<tr><td>[almost, no, rest...</td></tr>\n",
       "<tr><td>[re-use, it, unde...</td></tr>\n",
       "<tr><td>[with, this, eBoo...</td></tr>\n",
       "<tr><td>[]</td></tr>\n",
       "<tr><td>[]</td></tr>\n",
       "<tr><td>[Title:, Pride, a...</td></tr>\n",
       "<tr><td>[]</td></tr>\n",
       "<tr><td>[Author:, Jane, A...</td></tr>\n",
       "<tr><td>[]</td></tr>\n",
       "<tr><td>[Posting, Date:, ...</td></tr>\n",
       "<tr><td>[Release, Date:, ...</td></tr>\n",
       "<tr><td>[Last, Updated:, ...</td></tr>\n",
       "<tr><td>[]</td></tr>\n",
       "<tr><td>[Language:, English]</td></tr>\n",
       "<tr><td>[]</td></tr>\n",
       "<tr><td>[Character, set, ...</td></tr>\n",
       "<tr><td>[]</td></tr>\n",
       "</table>\n",
       "only showing top 20 rows\n"
      ],
      "text/plain": [
       "+--------------------+\n",
       "|                line|\n",
       "+--------------------+\n",
       "|[The, Project, Gu...|\n",
       "|                  []|\n",
       "|[This, eBook, is,...|\n",
       "|[almost, no, rest...|\n",
       "|[re-use, it, unde...|\n",
       "|[with, this, eBoo...|\n",
       "|                  []|\n",
       "|                  []|\n",
       "|[Title:, Pride, a...|\n",
       "|                  []|\n",
       "|[Author:, Jane, A...|\n",
       "|                  []|\n",
       "|[Posting, Date:, ...|\n",
       "|[Release, Date:, ...|\n",
       "|[Last, Updated:, ...|\n",
       "|                  []|\n",
       "|[Language:, English]|\n",
       "|                  []|\n",
       "|[Character, set, ...|\n",
       "|                  []|\n",
       "+--------------------+\n",
       "only showing top 20 rows"
      ]
     },
     "execution_count": 10,
     "metadata": {},
     "output_type": "execute_result"
    }
   ],
   "source": [
    "lines"
   ]
  },
  {
   "cell_type": "markdown",
   "id": "6d814ff8-9f36-4418-87a3-50efd388a8ed",
   "metadata": {},
   "source": [
    "<a id=\"select_column\">"
   ]
  },
  {
   "cell_type": "markdown",
   "id": "1ecb9b32-89f9-4309-b9aa-e71d7aca5582",
   "metadata": {},
   "source": [
    "### Different ways to select a dataframe column"
   ]
  },
  {
   "cell_type": "markdown",
   "id": "dd4934af-2339-4ed9-b9d3-cc8811d3903b",
   "metadata": {},
   "source": [
    "[[back to top]](#top)"
   ]
  },
  {
   "cell_type": "code",
   "execution_count": 11,
   "id": "27a328b3-f576-4961-9c2f-545bc667f9eb",
   "metadata": {},
   "outputs": [],
   "source": [
    "from pyspark.sql.functions import col"
   ]
  },
  {
   "cell_type": "markdown",
   "id": "0a460ffa-7233-4be3-9f85-3168d753b6ae",
   "metadata": {},
   "source": [
    "#### Dot/. notation `dataframe.column_name`"
   ]
  },
  {
   "cell_type": "code",
   "execution_count": 12,
   "id": "39a31d8a-e630-4bb1-8404-3d0212f59622",
   "metadata": {},
   "outputs": [
    {
     "data": {
      "text/html": [
       "<table border='1'>\n",
       "<tr><th>value</th></tr>\n",
       "<tr><td>The Project Guten...</td></tr>\n",
       "<tr><td></td></tr>\n",
       "<tr><td>This eBook is for...</td></tr>\n",
       "<tr><td>almost no restric...</td></tr>\n",
       "<tr><td>re-use it under t...</td></tr>\n",
       "<tr><td>with this eBook o...</td></tr>\n",
       "<tr><td></td></tr>\n",
       "<tr><td></td></tr>\n",
       "<tr><td>Title: Pride and ...</td></tr>\n",
       "<tr><td></td></tr>\n",
       "<tr><td>Author: Jane Austen</td></tr>\n",
       "<tr><td></td></tr>\n",
       "<tr><td>Posting Date: Aug...</td></tr>\n",
       "<tr><td>Release Date: Jun...</td></tr>\n",
       "<tr><td>Last Updated: Mar...</td></tr>\n",
       "<tr><td></td></tr>\n",
       "<tr><td>Language: English</td></tr>\n",
       "<tr><td></td></tr>\n",
       "<tr><td>Character set enc...</td></tr>\n",
       "<tr><td></td></tr>\n",
       "</table>\n",
       "only showing top 20 rows\n"
      ],
      "text/plain": [
       "+--------------------+\n",
       "|               value|\n",
       "+--------------------+\n",
       "|The Project Guten...|\n",
       "|                    |\n",
       "|This eBook is for...|\n",
       "|almost no restric...|\n",
       "|re-use it under t...|\n",
       "|with this eBook o...|\n",
       "|                    |\n",
       "|                    |\n",
       "|Title: Pride and ...|\n",
       "|                    |\n",
       "| Author: Jane Austen|\n",
       "|                    |\n",
       "|Posting Date: Aug...|\n",
       "|Release Date: Jun...|\n",
       "|Last Updated: Mar...|\n",
       "|                    |\n",
       "|   Language: English|\n",
       "|                    |\n",
       "|Character set enc...|\n",
       "|                    |\n",
       "+--------------------+\n",
       "only showing top 20 rows"
      ]
     },
     "execution_count": 12,
     "metadata": {},
     "output_type": "execute_result"
    }
   ],
   "source": [
    "book.select(book.value)"
   ]
  },
  {
   "cell_type": "markdown",
   "id": "a2ace9ec-71e5-442a-9d6c-0a9b34e13268",
   "metadata": {},
   "source": [
    "#### Bracket notation `dataframe[\"column_name\"]`"
   ]
  },
  {
   "cell_type": "code",
   "execution_count": 13,
   "id": "e362e26b-757a-4c14-9555-96acdea55288",
   "metadata": {},
   "outputs": [
    {
     "data": {
      "text/html": [
       "<table border='1'>\n",
       "<tr><th>value</th></tr>\n",
       "<tr><td>The Project Guten...</td></tr>\n",
       "<tr><td></td></tr>\n",
       "<tr><td>This eBook is for...</td></tr>\n",
       "<tr><td>almost no restric...</td></tr>\n",
       "<tr><td>re-use it under t...</td></tr>\n",
       "<tr><td>with this eBook o...</td></tr>\n",
       "<tr><td></td></tr>\n",
       "<tr><td></td></tr>\n",
       "<tr><td>Title: Pride and ...</td></tr>\n",
       "<tr><td></td></tr>\n",
       "<tr><td>Author: Jane Austen</td></tr>\n",
       "<tr><td></td></tr>\n",
       "<tr><td>Posting Date: Aug...</td></tr>\n",
       "<tr><td>Release Date: Jun...</td></tr>\n",
       "<tr><td>Last Updated: Mar...</td></tr>\n",
       "<tr><td></td></tr>\n",
       "<tr><td>Language: English</td></tr>\n",
       "<tr><td></td></tr>\n",
       "<tr><td>Character set enc...</td></tr>\n",
       "<tr><td></td></tr>\n",
       "</table>\n",
       "only showing top 20 rows\n"
      ],
      "text/plain": [
       "+--------------------+\n",
       "|               value|\n",
       "+--------------------+\n",
       "|The Project Guten...|\n",
       "|                    |\n",
       "|This eBook is for...|\n",
       "|almost no restric...|\n",
       "|re-use it under t...|\n",
       "|with this eBook o...|\n",
       "|                    |\n",
       "|                    |\n",
       "|Title: Pride and ...|\n",
       "|                    |\n",
       "| Author: Jane Austen|\n",
       "|                    |\n",
       "|Posting Date: Aug...|\n",
       "|Release Date: Jun...|\n",
       "|Last Updated: Mar...|\n",
       "|                    |\n",
       "|   Language: English|\n",
       "|                    |\n",
       "|Character set enc...|\n",
       "|                    |\n",
       "+--------------------+\n",
       "only showing top 20 rows"
      ]
     },
     "execution_count": 13,
     "metadata": {},
     "output_type": "execute_result"
    }
   ],
   "source": [
    "book.select(book[\"value\"])"
   ]
  },
  {
   "cell_type": "markdown",
   "id": "ceb37353-8d4e-4696-858c-0a2b9c677ea0",
   "metadata": {},
   "source": [
    "#### Using `col()` function - recommended"
   ]
  },
  {
   "cell_type": "code",
   "execution_count": 14,
   "id": "8bff087c-14bd-45ca-970b-247078daea9e",
   "metadata": {},
   "outputs": [
    {
     "data": {
      "text/html": [
       "<table border='1'>\n",
       "<tr><th>value</th></tr>\n",
       "<tr><td>The Project Guten...</td></tr>\n",
       "<tr><td></td></tr>\n",
       "<tr><td>This eBook is for...</td></tr>\n",
       "<tr><td>almost no restric...</td></tr>\n",
       "<tr><td>re-use it under t...</td></tr>\n",
       "<tr><td>with this eBook o...</td></tr>\n",
       "<tr><td></td></tr>\n",
       "<tr><td></td></tr>\n",
       "<tr><td>Title: Pride and ...</td></tr>\n",
       "<tr><td></td></tr>\n",
       "<tr><td>Author: Jane Austen</td></tr>\n",
       "<tr><td></td></tr>\n",
       "<tr><td>Posting Date: Aug...</td></tr>\n",
       "<tr><td>Release Date: Jun...</td></tr>\n",
       "<tr><td>Last Updated: Mar...</td></tr>\n",
       "<tr><td></td></tr>\n",
       "<tr><td>Language: English</td></tr>\n",
       "<tr><td></td></tr>\n",
       "<tr><td>Character set enc...</td></tr>\n",
       "<tr><td></td></tr>\n",
       "</table>\n",
       "only showing top 20 rows\n"
      ],
      "text/plain": [
       "+--------------------+\n",
       "|               value|\n",
       "+--------------------+\n",
       "|The Project Guten...|\n",
       "|                    |\n",
       "|This eBook is for...|\n",
       "|almost no restric...|\n",
       "|re-use it under t...|\n",
       "|with this eBook o...|\n",
       "|                    |\n",
       "|                    |\n",
       "|Title: Pride and ...|\n",
       "|                    |\n",
       "| Author: Jane Austen|\n",
       "|                    |\n",
       "|Posting Date: Aug...|\n",
       "|Release Date: Jun...|\n",
       "|Last Updated: Mar...|\n",
       "|                    |\n",
       "|   Language: English|\n",
       "|                    |\n",
       "|Character set enc...|\n",
       "|                    |\n",
       "+--------------------+\n",
       "only showing top 20 rows"
      ]
     },
     "execution_count": 14,
     "metadata": {},
     "output_type": "execute_result"
    }
   ],
   "source": [
    "book.select(col(\"value\"))"
   ]
  },
  {
   "cell_type": "markdown",
   "id": "065df575-7d68-4ada-80f9-7bb0b69cd4c8",
   "metadata": {},
   "source": [
    "#### Just the column name itself - NOT recommended"
   ]
  },
  {
   "cell_type": "code",
   "execution_count": 15,
   "id": "96a5c390-45b9-4e37-82b3-2e09d63a2e6d",
   "metadata": {},
   "outputs": [
    {
     "data": {
      "text/html": [
       "<table border='1'>\n",
       "<tr><th>value</th></tr>\n",
       "<tr><td>The Project Guten...</td></tr>\n",
       "<tr><td></td></tr>\n",
       "<tr><td>This eBook is for...</td></tr>\n",
       "<tr><td>almost no restric...</td></tr>\n",
       "<tr><td>re-use it under t...</td></tr>\n",
       "<tr><td>with this eBook o...</td></tr>\n",
       "<tr><td></td></tr>\n",
       "<tr><td></td></tr>\n",
       "<tr><td>Title: Pride and ...</td></tr>\n",
       "<tr><td></td></tr>\n",
       "<tr><td>Author: Jane Austen</td></tr>\n",
       "<tr><td></td></tr>\n",
       "<tr><td>Posting Date: Aug...</td></tr>\n",
       "<tr><td>Release Date: Jun...</td></tr>\n",
       "<tr><td>Last Updated: Mar...</td></tr>\n",
       "<tr><td></td></tr>\n",
       "<tr><td>Language: English</td></tr>\n",
       "<tr><td></td></tr>\n",
       "<tr><td>Character set enc...</td></tr>\n",
       "<tr><td></td></tr>\n",
       "</table>\n",
       "only showing top 20 rows\n"
      ],
      "text/plain": [
       "+--------------------+\n",
       "|               value|\n",
       "+--------------------+\n",
       "|The Project Guten...|\n",
       "|                    |\n",
       "|This eBook is for...|\n",
       "|almost no restric...|\n",
       "|re-use it under t...|\n",
       "|with this eBook o...|\n",
       "|                    |\n",
       "|                    |\n",
       "|Title: Pride and ...|\n",
       "|                    |\n",
       "| Author: Jane Austen|\n",
       "|                    |\n",
       "|Posting Date: Aug...|\n",
       "|Release Date: Jun...|\n",
       "|Last Updated: Mar...|\n",
       "|                    |\n",
       "|   Language: English|\n",
       "|                    |\n",
       "|Character set enc...|\n",
       "|                    |\n",
       "+--------------------+\n",
       "only showing top 20 rows"
      ]
     },
     "execution_count": 15,
     "metadata": {},
     "output_type": "execute_result"
    }
   ],
   "source": [
    "book.select(\"value\")"
   ]
  },
  {
   "cell_type": "markdown",
   "id": "418b993e-dfa6-44cd-b194-b5e5b6aa1b5f",
   "metadata": {},
   "source": [
    "#### PySpark API documentation can be accessed [here](http://spark.apache.org/docs/latest/api/python/)"
   ]
  },
  {
   "cell_type": "code",
   "execution_count": 16,
   "id": "1d3ee192-5470-44f1-a796-b97a197f08b6",
   "metadata": {},
   "outputs": [
    {
     "name": "stdout",
     "output_type": "stream",
     "text": [
      "root\n",
      " |-- split(value,  , -1): array (nullable = true)\n",
      " |    |-- element: string (containsNull = false)\n",
      "\n"
     ]
    }
   ],
   "source": [
    "book.select(split(col(\"value\"), \" \")).printSchema()"
   ]
  },
  {
   "cell_type": "markdown",
   "id": "8d16333a-42c8-40b8-8155-d6681df1ec43",
   "metadata": {},
   "source": [
    "#### Default column name"
   ]
  },
  {
   "cell_type": "code",
   "execution_count": 17,
   "id": "aef25f92-0d9b-4a8b-870e-a6c0c4e40b8a",
   "metadata": {},
   "outputs": [
    {
     "name": "stdout",
     "output_type": "stream",
     "text": [
      "root\n",
      " |-- split(value,  , -1): array (nullable = true)\n",
      " |    |-- element: string (containsNull = false)\n",
      "\n"
     ]
    }
   ],
   "source": [
    "book.select(split(col(\"value\"), \" \")).printSchema()"
   ]
  },
  {
   "cell_type": "markdown",
   "id": "c715b2ae-94ec-475e-8bbf-1d6b804416b3",
   "metadata": {},
   "source": [
    "The column name is \"split(value, , -1)\" - that's not good!"
   ]
  },
  {
   "cell_type": "markdown",
   "id": "49758e41-7cb5-4e07-a746-7c8cd4efdc1b",
   "metadata": {},
   "source": [
    "<a id=\"rename_column\">"
   ]
  },
  {
   "cell_type": "markdown",
   "id": "e1215836-9a87-4a65-8eaf-4d6bc5f01813",
   "metadata": {},
   "source": [
    "#### Renaming column with `alias()`"
   ]
  },
  {
   "cell_type": "markdown",
   "id": "9e18d08b-638f-43e0-a027-075e5527476f",
   "metadata": {},
   "source": [
    "[[back to top]](#top)"
   ]
  },
  {
   "cell_type": "code",
   "execution_count": 18,
   "id": "3b69b5e5-5007-4ee4-9bc0-d038e0a2db35",
   "metadata": {},
   "outputs": [
    {
     "name": "stdout",
     "output_type": "stream",
     "text": [
      "root\n",
      " |-- line: array (nullable = true)\n",
      " |    |-- element: string (containsNull = false)\n",
      "\n"
     ]
    }
   ],
   "source": [
    "book.select(split(book.value, \" \").alias(\"line\")).printSchema()"
   ]
  },
  {
   "cell_type": "markdown",
   "id": "c456d3df-0483-42f0-b198-cbb248cc3464",
   "metadata": {},
   "source": [
    "Another way to rename column which is hardly ever used since you have to know the current column name"
   ]
  },
  {
   "cell_type": "code",
   "execution_count": 19,
   "id": "e98fd333-5a1f-47f8-8307-e0f23c9f8c07",
   "metadata": {},
   "outputs": [
    {
     "name": "stdout",
     "output_type": "stream",
     "text": [
      "root\n",
      " |-- line: array (nullable = true)\n",
      " |    |-- element: string (containsNull = false)\n",
      "\n"
     ]
    }
   ],
   "source": [
    "lines.withColumnRenamed(\"split(value,  , -1)\", \"line\").printSchema()"
   ]
  },
  {
   "cell_type": "markdown",
   "id": "ccad90b3-90ea-4e26-8b48-f8cd079ce165",
   "metadata": {},
   "source": [
    "<a id=\"explode\">"
   ]
  },
  {
   "cell_type": "markdown",
   "id": "bb8ebc7f-d497-4491-ac19-989b2fdcfd64",
   "metadata": {},
   "source": [
    "#### Exploding a column of arrays into rows of elements"
   ]
  },
  {
   "cell_type": "markdown",
   "id": "bc002f76-5412-4260-8171-4e9219e26c74",
   "metadata": {},
   "source": [
    "[[back to top]](#top)"
   ]
  },
  {
   "cell_type": "code",
   "execution_count": 20,
   "id": "01393e78-ccc2-4dba-aaae-0ccc3b52c157",
   "metadata": {},
   "outputs": [],
   "source": [
    "from pyspark.sql.functions import explode, col"
   ]
  },
  {
   "cell_type": "code",
   "execution_count": 21,
   "id": "4b2ef31a-43d1-4901-bb5e-310c09c6b5b2",
   "metadata": {},
   "outputs": [],
   "source": [
    "words = lines.select(explode(col(\"line\")).alias(\"word\"))"
   ]
  },
  {
   "cell_type": "code",
   "execution_count": 22,
   "id": "eac7c89d-7bc4-4531-a3a9-256e01add05e",
   "metadata": {},
   "outputs": [
    {
     "name": "stdout",
     "output_type": "stream",
     "text": [
      "+----------+\n",
      "|      word|\n",
      "+----------+\n",
      "|       The|\n",
      "|   Project|\n",
      "| Gutenberg|\n",
      "|     EBook|\n",
      "|        of|\n",
      "|     Pride|\n",
      "|       and|\n",
      "|Prejudice,|\n",
      "|        by|\n",
      "|      Jane|\n",
      "|    Austen|\n",
      "|          |\n",
      "|      This|\n",
      "|     eBook|\n",
      "|        is|\n",
      "|       for|\n",
      "|       the|\n",
      "|       use|\n",
      "|        of|\n",
      "|    anyone|\n",
      "+----------+\n",
      "only showing top 20 rows\n",
      "\n"
     ]
    }
   ],
   "source": [
    "words.show()"
   ]
  },
  {
   "cell_type": "markdown",
   "id": "47f336c6-2ce5-4e20-b72d-1cc2c83462a7",
   "metadata": {},
   "source": [
    "`Prejudice,` has a comma and that the cell between `Austen` and `This` contains an empty string."
   ]
  },
  {
   "cell_type": "markdown",
   "id": "11171fc1-f3e1-4272-a3c2-21d1cc385c42",
   "metadata": {},
   "source": [
    "<a id=\"lower_case\">"
   ]
  },
  {
   "cell_type": "markdown",
   "id": "647a14be-bd8a-4ae1-aed1-4b30949af283",
   "metadata": {},
   "source": [
    "#### Lower the case of the words in the data frame"
   ]
  },
  {
   "cell_type": "markdown",
   "id": "b50c0c16-d0f7-48c7-97be-dc369e8bea39",
   "metadata": {},
   "source": [
    "[[back to top]](#top)"
   ]
  },
  {
   "cell_type": "code",
   "execution_count": 23,
   "id": "4a12e57c-eee2-4ea9-9979-8fade4e79609",
   "metadata": {},
   "outputs": [],
   "source": [
    "from pyspark.sql.functions import lower"
   ]
  },
  {
   "cell_type": "code",
   "execution_count": 24,
   "id": "9361cfc5-aa4b-45d8-82a0-e5478e7918e8",
   "metadata": {},
   "outputs": [],
   "source": [
    "words_lower = words.select(lower(col(\"word\")).alias(\"word_lower\"))"
   ]
  },
  {
   "cell_type": "code",
   "execution_count": 25,
   "id": "d1e54eaa-6a29-4c11-9c07-f16165cf35bd",
   "metadata": {},
   "outputs": [
    {
     "name": "stdout",
     "output_type": "stream",
     "text": [
      "+----------+\n",
      "|word_lower|\n",
      "+----------+\n",
      "|       the|\n",
      "|   project|\n",
      "| gutenberg|\n",
      "|     ebook|\n",
      "|        of|\n",
      "|     pride|\n",
      "|       and|\n",
      "|prejudice,|\n",
      "|        by|\n",
      "|      jane|\n",
      "|    austen|\n",
      "|          |\n",
      "|      this|\n",
      "|     ebook|\n",
      "|        is|\n",
      "|       for|\n",
      "|       the|\n",
      "|       use|\n",
      "|        of|\n",
      "|    anyone|\n",
      "+----------+\n",
      "only showing top 20 rows\n",
      "\n"
     ]
    }
   ],
   "source": [
    "words_lower.show()"
   ]
  },
  {
   "cell_type": "markdown",
   "id": "3157e041-3c45-4a62-a26f-aa29bafe5e59",
   "metadata": {},
   "source": [
    "<a id=\"regexp_extract\">"
   ]
  },
  {
   "cell_type": "markdown",
   "id": "686baea4-9fb7-4d26-af39-a0b2218f91d3",
   "metadata": {},
   "source": [
    "#### Using regexp_extract to keep what looks like a word"
   ]
  },
  {
   "cell_type": "markdown",
   "id": "4f3bed2b-e9e6-4b21-990a-6d14fa4484ba",
   "metadata": {},
   "source": [
    "[[back to top]](#top)"
   ]
  },
  {
   "cell_type": "code",
   "execution_count": 26,
   "id": "32cc400e-7f15-440a-981c-273982272d7e",
   "metadata": {},
   "outputs": [],
   "source": [
    "from pyspark.sql.functions import regexp_extract"
   ]
  },
  {
   "cell_type": "code",
   "execution_count": 27,
   "id": "e43183e9-b6df-4973-babb-31567ad441dd",
   "metadata": {},
   "outputs": [],
   "source": [
    "words_clean = words_lower.select(\n",
    "    regexp_extract(col(\"word_lower\"), \"[a-z]+\", 0).alias(\"word\")\n",
    ")"
   ]
  },
  {
   "cell_type": "code",
   "execution_count": 28,
   "id": "61e4c975-f87b-46d4-9b6a-6ca541b38173",
   "metadata": {},
   "outputs": [
    {
     "name": "stdout",
     "output_type": "stream",
     "text": [
      "+---------+\n",
      "|     word|\n",
      "+---------+\n",
      "|      the|\n",
      "|  project|\n",
      "|gutenberg|\n",
      "|    ebook|\n",
      "|       of|\n",
      "|    pride|\n",
      "|      and|\n",
      "|prejudice|\n",
      "|       by|\n",
      "|     jane|\n",
      "|   austen|\n",
      "|         |\n",
      "|     this|\n",
      "|    ebook|\n",
      "|       is|\n",
      "|      for|\n",
      "|      the|\n",
      "|      use|\n",
      "|       of|\n",
      "|   anyone|\n",
      "+---------+\n",
      "only showing top 20 rows\n",
      "\n"
     ]
    }
   ],
   "source": [
    "words_clean.show()"
   ]
  },
  {
   "cell_type": "markdown",
   "id": "ff980e67-b3cb-42e8-b8c2-674941592eab",
   "metadata": {},
   "source": [
    "<a id=\"filtering\">"
   ]
  },
  {
   "cell_type": "markdown",
   "id": "a562da60-3674-4090-a684-07fa1a416412",
   "metadata": {},
   "source": [
    "#### Filtering rows in your data frame using `where` or `filter`"
   ]
  },
  {
   "cell_type": "markdown",
   "id": "3914519f-837f-40b3-8013-1eeb680d5bcb",
   "metadata": {},
   "source": [
    "[[back to top]](#top)"
   ]
  },
  {
   "cell_type": "code",
   "execution_count": 29,
   "id": "73ea07cf-d0b9-4c3b-8c59-8c70002e4403",
   "metadata": {},
   "outputs": [],
   "source": [
    "words_nonull = words_clean.filter(col(\"word\") != \"\")"
   ]
  },
  {
   "cell_type": "code",
   "execution_count": 30,
   "id": "f307e137-faa9-4748-b86d-7095b89ab757",
   "metadata": {},
   "outputs": [
    {
     "name": "stdout",
     "output_type": "stream",
     "text": [
      "+---------+\n",
      "|     word|\n",
      "+---------+\n",
      "|      the|\n",
      "|  project|\n",
      "|gutenberg|\n",
      "|    ebook|\n",
      "|       of|\n",
      "|    pride|\n",
      "|      and|\n",
      "|prejudice|\n",
      "|       by|\n",
      "|     jane|\n",
      "|   austen|\n",
      "|     this|\n",
      "|    ebook|\n",
      "|       is|\n",
      "|      for|\n",
      "|      the|\n",
      "|      use|\n",
      "|       of|\n",
      "|   anyone|\n",
      "| anywhere|\n",
      "+---------+\n",
      "only showing top 20 rows\n",
      "\n"
     ]
    }
   ],
   "source": [
    "words_nonull.show()"
   ]
  },
  {
   "cell_type": "markdown",
   "id": "7c2901b9-1800-4b8b-9a88-7e42e4e1660f",
   "metadata": {},
   "source": [
    "<a id=\"word_freq\">"
   ]
  },
  {
   "cell_type": "markdown",
   "id": "f89ca425-bfb3-4d0b-bf5c-982ce56cf9b3",
   "metadata": {},
   "source": [
    "#### Counting word frequencies using groupby() and count()"
   ]
  },
  {
   "cell_type": "markdown",
   "id": "bfd42c85-1bda-4df3-9bb8-9accaef1fd40",
   "metadata": {},
   "source": [
    "[[back to top]](#top)"
   ]
  },
  {
   "cell_type": "code",
   "execution_count": 31,
   "id": "b183f7df-c2b2-49db-b378-d6c12d880395",
   "metadata": {},
   "outputs": [],
   "source": [
    "groups = words_nonull.groupby(col(\"word\"))"
   ]
  },
  {
   "cell_type": "code",
   "execution_count": 32,
   "id": "45ba3df7-1801-4620-a64b-a2c5b44811ba",
   "metadata": {},
   "outputs": [
    {
     "name": "stdout",
     "output_type": "stream",
     "text": [
      "<pyspark.sql.group.GroupedData object at 0x000002A4FFFCB130>\n"
     ]
    }
   ],
   "source": [
    "print(groups)"
   ]
  },
  {
   "cell_type": "code",
   "execution_count": 33,
   "id": "447a7c4f-4d9f-420b-8fa6-ae1347e31df0",
   "metadata": {},
   "outputs": [],
   "source": [
    "results = words_nonull.groupby(col(\"word\")).count()"
   ]
  },
  {
   "cell_type": "code",
   "execution_count": 34,
   "id": "075380cb-ebda-456f-9dbe-fe342f49544f",
   "metadata": {},
   "outputs": [
    {
     "name": "stdout",
     "output_type": "stream",
     "text": [
      "+-------------+-----+\n",
      "|         word|count|\n",
      "+-------------+-----+\n",
      "|       online|    4|\n",
      "|         some|  209|\n",
      "|        still|   72|\n",
      "|          few|   72|\n",
      "|         hope|  122|\n",
      "|        those|   60|\n",
      "|     cautious|    4|\n",
      "|    imitation|    1|\n",
      "|          art|    3|\n",
      "|      solaced|    1|\n",
      "|       poetry|    2|\n",
      "|    arguments|    5|\n",
      "| premeditated|    1|\n",
      "|      elevate|    1|\n",
      "|       doubts|    2|\n",
      "|    destitute|    1|\n",
      "|    solemnity|    5|\n",
      "|   lieutenant|    1|\n",
      "|gratification|    1|\n",
      "|    connected|   14|\n",
      "+-------------+-----+\n",
      "only showing top 20 rows\n",
      "\n"
     ]
    }
   ],
   "source": [
    "print(results)"
   ]
  },
  {
   "cell_type": "markdown",
   "id": "5e7db3d2-f187-4c49-a986-2ebc8f572b0e",
   "metadata": {},
   "source": [
    "<a id=\"sorting\">"
   ]
  },
  {
   "cell_type": "markdown",
   "id": "af40ba43-8b09-4bb7-a6d4-27b0eac9861a",
   "metadata": {},
   "source": [
    "#### Ordering / Sorting Dataframe by Single Column"
   ]
  },
  {
   "cell_type": "markdown",
   "id": "415da6ee-bf1f-4bd9-8c4e-716de07ff1b2",
   "metadata": {},
   "source": [
    "[[back to top]](#top)"
   ]
  },
  {
   "cell_type": "code",
   "execution_count": 35,
   "id": "d4bc7d25-9fda-4f3c-9cec-b8ba97d13e9c",
   "metadata": {},
   "outputs": [
    {
     "name": "stdout",
     "output_type": "stream",
     "text": [
      "+----+-----+\n",
      "|word|count|\n",
      "+----+-----+\n",
      "| the| 4496|\n",
      "|  to| 4235|\n",
      "|  of| 3719|\n",
      "| and| 3602|\n",
      "| her| 2223|\n",
      "|   i| 2052|\n",
      "|   a| 1997|\n",
      "|  in| 1920|\n",
      "| was| 1844|\n",
      "| she| 1703|\n",
      "+----+-----+\n",
      "only showing top 10 rows\n",
      "\n"
     ]
    }
   ],
   "source": [
    "results.orderBy(col(\"count\"), ascending=False).show(10)\n",
    "# or\n",
    "# results.orderBy(col(\"count\").desc()).show(10)"
   ]
  },
  {
   "cell_type": "markdown",
   "id": "7011efb8-3187-4c31-8999-5e992b9eb2a6",
   "metadata": {},
   "source": [
    "<a id=\"write\">"
   ]
  },
  {
   "cell_type": "markdown",
   "id": "f9c9a65e-28a8-4c19-b8de-6ea7e30ad47d",
   "metadata": {},
   "source": [
    "#### Writing data from a dataframe as csv"
   ]
  },
  {
   "cell_type": "markdown",
   "id": "246b9cfe-0c71-4bd2-968e-5b780cabae53",
   "metadata": {},
   "source": [
    "[[back to top]](#top)"
   ]
  },
  {
   "cell_type": "code",
   "execution_count": 36,
   "id": "c0f9335d-044b-4919-8193-89050aec0fb4",
   "metadata": {},
   "outputs": [],
   "source": [
    "results.coalesce(1).write.option(\"header\", \"true\").csv(\"data/simple_count_single_partition.csv\")"
   ]
  },
  {
   "cell_type": "markdown",
   "id": "94d240fe-e7a3-4892-a9b8-49ef915279eb",
   "metadata": {},
   "source": [
    "<a id=\"complete_word_count_script\">"
   ]
  },
  {
   "cell_type": "markdown",
   "id": "d026a9c8-c430-44e3-9e7f-6698b7900a7f",
   "metadata": {},
   "source": [
    "#### Complete Word Count Script"
   ]
  },
  {
   "cell_type": "markdown",
   "id": "92b3a20c-1191-461b-a66d-bb292369bee4",
   "metadata": {},
   "source": [
    "[[back to top]](#top)"
   ]
  },
  {
   "cell_type": "code",
   "execution_count": null,
   "id": "d4a5d545-22a8-4812-b0dc-110d5094cd22",
   "metadata": {},
   "outputs": [],
   "source": [
    "from pyspark.sql import SparkSession\n",
    "from pyspark.sql.functions import (\n",
    "    col,\n",
    "    explode,\n",
    "    lower,\n",
    "    regexp_extract,\n",
    "    split,\n",
    ")\n",
    " \n",
    "spark = SparkSession.builder.appName(\n",
    "    \"Analyzing the vocabulary of Pride and Prejudice.\"\n",
    ").getOrCreate()\n",
    " \n",
    "book = spark.read.text(\"./data/gutenberg_books/1342-0.txt\")\n",
    " \n",
    "lines = book.select(split(book.value, \" \").alias(\"line\"))\n",
    " \n",
    "words = lines.select(explode(col(\"line\")).alias(\"word\"))\n",
    " \n",
    "words_lower = words.select(lower(col(\"word\")).alias(\"word\"))\n",
    " \n",
    "words_clean = words_lower.select(\n",
    "    regexp_extract(col(\"word\"), \"[a-z']*\", 0).alias(\"word\")\n",
    ")\n",
    " \n",
    "words_nonull = words_clean.where(col(\"word\") != \"\")\n",
    " \n",
    "results = words_nonull.groupby(col(\"word\")).count()\n",
    " \n",
    "results.orderBy(\"count\", ascending=False).show(10)\n",
    " \n",
    "results.coalesce(1).write.option(\"header\", \"true\").csv(\"data/simple_count_single_partition.csv\")"
   ]
  },
  {
   "cell_type": "markdown",
   "id": "99f63c9d-a855-4202-b3dd-e0919ccee200",
   "metadata": {},
   "source": [
    "<a id=\"imports\">"
   ]
  },
  {
   "cell_type": "markdown",
   "id": "0e70ffce-29ae-4f17-99b3-fb97bc2a31c5",
   "metadata": {},
   "source": [
    "#### Simplifying your dependencies with PySpark’s import conventions"
   ]
  },
  {
   "cell_type": "markdown",
   "id": "9fa094a4-c77a-4f9f-9230-ec8255cc8570",
   "metadata": {},
   "source": [
    "[[back to top]](#top)"
   ]
  },
  {
   "cell_type": "code",
   "execution_count": null,
   "id": "0684efa6-0d34-403f-b1ec-80d86b525f4c",
   "metadata": {},
   "outputs": [],
   "source": [
    "# Before\n",
    "from pyspark.sql.functions import col, explode, lower, regexp_extract, split\n",
    " \n",
    "# After\n",
    "import pyspark.sql.functions as F"
   ]
  },
  {
   "cell_type": "markdown",
   "id": "8107cc4c-610c-4599-9d0a-23df4366438d",
   "metadata": {},
   "source": [
    "<a id=\"method_chaining\">"
   ]
  },
  {
   "cell_type": "markdown",
   "id": "6eb4cf7a-8c34-4ee4-ad47-753cab1b391f",
   "metadata": {},
   "source": [
    "#### Removing intermediate variables by chaining transformation methods"
   ]
  },
  {
   "cell_type": "markdown",
   "id": "570546cd-b3f5-420e-bc79-faa386d9d9e1",
   "metadata": {},
   "source": [
    "[[back to top]](#top)"
   ]
  },
  {
   "cell_type": "code",
   "execution_count": null,
   "id": "efba4ad6-71e3-4332-a20b-9a325a15bfc3",
   "metadata": {},
   "outputs": [],
   "source": [
    "# Before\n",
    "book = spark.read.text(\"./data/gutenberg_books/1342-0.txt\")\n",
    " \n",
    "lines = book.select(split(book.value, \" \").alias(\"line\"))\n",
    " \n",
    "words = lines.select(explode(col(\"line\")).alias(\"word\"))\n",
    " \n",
    "words_lower = words.select(lower(col(\"word\")).alias(\"word\"))\n",
    " \n",
    "words_clean = words_lower.select(\n",
    "    regexp_extract(col(\"word\"), \"[a-z']*\", 0).alias(\"word\")\n",
    ")\n",
    " \n",
    "words_nonull = words_clean.where(col(\"word\") != \"\")\n",
    " \n",
    "results = words_nonull.groupby(\"word\").count()\n",
    " \n",
    "# After\n",
    "import pyspark.sql.functions as F\n",
    " \n",
    "results = (\n",
    "    spark.read.text(\"./data/gutenberg_books/1342-0.txt\")\n",
    "    .select(F.split(F.col(\"value\"), \" \").alias(\"line\"))\n",
    "    .select(F.explode(F.col(\"line\")).alias(\"word\"))\n",
    "    .select(F.lower(F.col(\"word\")).alias(\"word\"))\n",
    "    .select(F.regexp_extract(F.col(\"word\"), \"[a-z']*\", 0).alias(\"word\"))\n",
    "    .where(F.col(\"word\") != \"\")\n",
    "    .groupby(\"word\")\n",
    "    .count()\n",
    ")"
   ]
  },
  {
   "cell_type": "markdown",
   "id": "0c02d28d-8a5d-48ea-9a41-9ace7837e090",
   "metadata": {},
   "source": [
    "#### Modified Complete Word Count Script using Method Chaining"
   ]
  },
  {
   "cell_type": "markdown",
   "id": "386a2640-88b7-4b65-b9d3-69e966034280",
   "metadata": {},
   "source": [
    "[[back to top]](#top)"
   ]
  },
  {
   "cell_type": "code",
   "execution_count": null,
   "id": "46a7efb6-f27b-430a-90fa-1ceaffcd6341",
   "metadata": {},
   "outputs": [],
   "source": [
    "from pyspark.sql import SparkSession\n",
    "import pyspark.sql.functions as F\n",
    " \n",
    "spark = SparkSession.builder.appName(\n",
    "    \"Analyzing the vocabulary of Pride and Prejudice.\"\n",
    ").getOrCreate()\n",
    "\n",
    "spark.sparkContext.setLogLevel(\"ERROR\")\n",
    " \n",
    "results = (\n",
    "    spark.read.text(\"./data/gutenberg_books/1342-0.txt\")\n",
    "    .select(F.split(F.col(\"value\"), \" \").alias(\"line\"))\n",
    "    .select(F.explode(F.col(\"line\")).alias(\"word\"))\n",
    "    .select(F.lower(F.col(\"word\")).alias(\"word\"))\n",
    "    .select(F.regexp_extract(F.col(\"word\"), \"[a-z']*\", 0).alias(\"word\"))\n",
    "    .where(F.col(\"word\") != \"\")\n",
    "    .groupby(\"word\")\n",
    "    .count()\n",
    ")\n",
    " \n",
    "results.coalesce(1).write.option(\"header\", \"true\").csv(\"data/simple_count_single_partition.csv\")"
   ]
  }
 ],
 "metadata": {
  "kernelspec": {
   "display_name": "Py3.10 (PySpark 3.3.2)",
   "language": "python",
   "name": "pyspark_local"
  },
  "language_info": {
   "codemirror_mode": {
    "name": "ipython",
    "version": 3
   },
   "file_extension": ".py",
   "mimetype": "text/x-python",
   "name": "python",
   "nbconvert_exporter": "python",
   "pygments_lexer": "ipython3",
   "version": "3.10.6"
  }
 },
 "nbformat": 4,
 "nbformat_minor": 5
}
