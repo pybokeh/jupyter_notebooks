{
 "cells": [
  {
   "cell_type": "markdown",
   "id": "ffe3df32-06f5-4205-a06a-52df3f38034b",
   "metadata": {},
   "source": [
    "<a id=\"top_of_page\">"
   ]
  },
  {
   "cell_type": "markdown",
   "id": "188b77c1-0cb7-40e5-88a2-f1e20a8a6b7a",
   "metadata": {},
   "source": [
    "# Working with Tabular Data"
   ]
  },
  {
   "cell_type": "markdown",
   "id": "8010eb0d-73d5-4030-9922-b7de0345a17e",
   "metadata": {},
   "source": [
    "## Table of Contents"
   ]
  },
  {
   "cell_type": "markdown",
   "id": "3fe18137-e594-44c8-b1f7-23e7738de31b",
   "metadata": {},
   "source": [
    "- [CLI tool to view sample of CSV file](#cli)\n",
    "- [Read CSV file](#read_csv)\n",
    "- [Viewing 3 Columns at a Time](#view_n_columns_at_a_time)\n",
    "- [Getting rid of columns using the drop() method](#drop_column)\n",
    "- [Extracting parts of a string with `substr()`](#substr)\n",
    "- [Creating new column with withColumn()](#withColumn)\n",
    "- [Renaming one column at a type, the withColumnRenamed() way](#withColumnRenamed)\n",
    "- [Changing multiple columns - Batch lowercasing using the toDF() method](#toDF)\n",
    "- [Selecting our columns in alphabetical order using select()](#sorting_columns)\n",
    "- [Diagnosing a dataframe with describe() and summary()](#describe_and_summarize)\n",
    "- [Joining Data](#joining)\n",
    "- [INNER join](#inner_join)\n",
    "- [Avoiding duplicate column names](#duplicate_column_names)\n",
    "- [Using multiple left joins](#multiple_left_joins)\n",
    "- [Summarizing the data via groupby and GroupedData](#groupby)\n",
    "- [Using `when()` function](#when)\n",
    "- [Taking care of null values: `dropna()` and `fillna()`](#null_values)"
   ]
  },
  {
   "cell_type": "markdown",
   "id": "316946b5-1a9f-428a-8311-b1304a39a134",
   "metadata": {},
   "source": [
    "<a id=\"cli\">"
   ]
  },
  {
   "cell_type": "markdown",
   "id": "b0f85d6f-4ba1-49f1-ae39-f305c00c7d25",
   "metadata": {},
   "source": [
    "## Useful CLI tool to initially assess or view sample of CSV file"
   ]
  },
  {
   "cell_type": "markdown",
   "id": "b5c49863-7d0d-4a11-8863-e401f3c46329",
   "metadata": {},
   "source": [
    "[[back to top]](#top_of_page)"
   ]
  },
  {
   "cell_type": "markdown",
   "id": "7861c888-ba48-47fa-9924-3b91e0386859",
   "metadata": {},
   "source": [
    "Linux Command Line:\n",
    "- `head -n 5 BroadcastLogs_2018_Q3_M8_sample.csv`    # To view first 5 rows of the csv file\n",
    "\n",
    "\n",
    "Windows Command Line:\n",
    "- Not really sure what CLI tool can be used??  Perhaps just use pandas read_csv() with nrows= parameter?"
   ]
  },
  {
   "cell_type": "markdown",
   "id": "35fd19fd-61d8-451d-aa0e-470302556bc1",
   "metadata": {},
   "source": [
    "<a id=\"read_csv\">"
   ]
  },
  {
   "cell_type": "markdown",
   "id": "357fd553-6882-4c10-9385-46e91a8f2af6",
   "metadata": {},
   "source": [
    "## Read CSV file"
   ]
  },
  {
   "cell_type": "markdown",
   "id": "07ad39d3-d40d-4ffa-bb72-735fd958e36a",
   "metadata": {},
   "source": [
    "[[back to top]](#top_of_page)"
   ]
  },
  {
   "cell_type": "code",
   "execution_count": 1,
   "id": "cdaef2a6-e8a5-411d-9d1e-234640c8bf3e",
   "metadata": {},
   "outputs": [],
   "source": [
    "from pathlib import Path\n",
    "from pyspark.sql import SparkSession\n",
    "import os\n",
    "import pyspark.sql.functions as F"
   ]
  },
  {
   "cell_type": "code",
   "execution_count": 2,
   "id": "22162d8d-c497-4838-8f7c-6d7fc2e52153",
   "metadata": {},
   "outputs": [],
   "source": [
    "spark = (\n",
    "    SparkSession.builder\n",
    "    # Enable eager, interactive mode - typically do not do this with production code\n",
    "    .config(\"spark.sql.repl.eagerEval.enabled\", \"True\")\n",
    "    .config(\"spark.executor.cores\", str(os.cpu_count()))\n",
    "    .appName(\"Working with Tabular Data\")\n",
    "    .getOrCreate()\n",
    ")\n",
    "\n",
    "spark.sparkContext.setLogLevel(\"ERROR\")"
   ]
  },
  {
   "cell_type": "code",
   "execution_count": 3,
   "id": "ae654355-e375-4c0d-a91a-d047f22b8ca0",
   "metadata": {},
   "outputs": [],
   "source": [
    "DIRECTORY = Path(\"./data/broadcast_logs\")"
   ]
  },
  {
   "cell_type": "code",
   "execution_count": 4,
   "id": "7df7c4e0-f93e-4f7c-9e6f-fd44fb15d012",
   "metadata": {},
   "outputs": [],
   "source": [
    "logs = spark.read.csv(\n",
    "    str(DIRECTORY / \"BroadcastLogs_2018_Q3_M8.CSV\"),\n",
    "    sep=\"|\",\n",
    "    header=True,\n",
    "    inferSchema=True,\n",
    "    timestampFormat=\"yyyy-MM-dd\",\n",
    ")"
   ]
  },
  {
   "cell_type": "code",
   "execution_count": 5,
   "id": "c81c3f7d-8732-415b-bde1-92e4df4d00a0",
   "metadata": {},
   "outputs": [
    {
     "name": "stdout",
     "output_type": "stream",
     "text": [
      "root\n",
      " |-- BroadcastLogID: integer (nullable = true)\n",
      " |-- LogServiceID: integer (nullable = true)\n",
      " |-- LogDate: timestamp (nullable = true)\n",
      " |-- SequenceNO: integer (nullable = true)\n",
      " |-- AudienceTargetAgeID: integer (nullable = true)\n",
      " |-- AudienceTargetEthnicID: integer (nullable = true)\n",
      " |-- CategoryID: integer (nullable = true)\n",
      " |-- ClosedCaptionID: integer (nullable = true)\n",
      " |-- CountryOfOriginID: integer (nullable = true)\n",
      " |-- DubDramaCreditID: integer (nullable = true)\n",
      " |-- EthnicProgramID: integer (nullable = true)\n",
      " |-- ProductionSourceID: integer (nullable = true)\n",
      " |-- ProgramClassID: integer (nullable = true)\n",
      " |-- FilmClassificationID: integer (nullable = true)\n",
      " |-- ExhibitionID: integer (nullable = true)\n",
      " |-- Duration: string (nullable = true)\n",
      " |-- EndTime: string (nullable = true)\n",
      " |-- LogEntryDate: timestamp (nullable = true)\n",
      " |-- ProductionNO: string (nullable = true)\n",
      " |-- ProgramTitle: string (nullable = true)\n",
      " |-- StartTime: string (nullable = true)\n",
      " |-- Subtitle: string (nullable = true)\n",
      " |-- NetworkAffiliationID: integer (nullable = true)\n",
      " |-- SpecialAttentionID: integer (nullable = true)\n",
      " |-- BroadcastOriginPointID: integer (nullable = true)\n",
      " |-- CompositionID: integer (nullable = true)\n",
      " |-- Producer1: string (nullable = true)\n",
      " |-- Producer2: string (nullable = true)\n",
      " |-- Language1: integer (nullable = true)\n",
      " |-- Language2: integer (nullable = true)\n",
      "\n"
     ]
    }
   ],
   "source": [
    "logs.printSchema()"
   ]
  },
  {
   "cell_type": "markdown",
   "id": "46c26f46-1b94-41aa-b102-cd59ac3be803",
   "metadata": {},
   "source": [
    "<a id=\"view_n_columns_at_a_time\">"
   ]
  },
  {
   "cell_type": "markdown",
   "id": "d227d61b-ed00-4917-8675-8f8b4bb83d9f",
   "metadata": {},
   "source": [
    "## Viewing 3 Columns at a Time"
   ]
  },
  {
   "cell_type": "markdown",
   "id": "a3503b86-6cf6-423a-b1d7-06086537da86",
   "metadata": {},
   "source": [
    "[[back to top]](#top_of_page)"
   ]
  },
  {
   "cell_type": "code",
   "execution_count": 6,
   "id": "9b972b27-fd67-4269-801a-35ea3224010a",
   "metadata": {},
   "outputs": [],
   "source": [
    "import numpy as np"
   ]
  },
  {
   "cell_type": "code",
   "execution_count": 7,
   "id": "2b2466ad-24be-48e1-b9a5-d2bd49173982",
   "metadata": {},
   "outputs": [],
   "source": [
    "column_split = np.array_split(\n",
    "    np.array(logs.columns), len(logs.columns) // 3\n",
    ")"
   ]
  },
  {
   "cell_type": "code",
   "execution_count": 8,
   "id": "92fc8d1d-66d5-456b-b0e7-82af1e1d7ee2",
   "metadata": {},
   "outputs": [
    {
     "name": "stdout",
     "output_type": "stream",
     "text": [
      "[array(['BroadcastLogID', 'LogServiceID', 'LogDate'], dtype='<U22'), array(['SequenceNO', 'AudienceTargetAgeID', 'AudienceTargetEthnicID'],\n",
      "      dtype='<U22'), array(['CategoryID', 'ClosedCaptionID', 'CountryOfOriginID'], dtype='<U22'), array(['DubDramaCreditID', 'EthnicProgramID', 'ProductionSourceID'],\n",
      "      dtype='<U22'), array(['ProgramClassID', 'FilmClassificationID', 'ExhibitionID'],\n",
      "      dtype='<U22'), array(['Duration', 'EndTime', 'LogEntryDate'], dtype='<U22'), array(['ProductionNO', 'ProgramTitle', 'StartTime'], dtype='<U22'), array(['Subtitle', 'NetworkAffiliationID', 'SpecialAttentionID'],\n",
      "      dtype='<U22'), array(['BroadcastOriginPointID', 'CompositionID', 'Producer1'],\n",
      "      dtype='<U22'), array(['Producer2', 'Language1', 'Language2'], dtype='<U22')]\n"
     ]
    }
   ],
   "source": [
    "print(column_split)"
   ]
  },
  {
   "cell_type": "code",
   "execution_count": 9,
   "id": "67464e3b-3c0b-41b7-8fe8-c9fe4bb93526",
   "metadata": {},
   "outputs": [
    {
     "name": "stdout",
     "output_type": "stream",
     "text": [
      "+--------------+------------+-------------------+\n",
      "|BroadcastLogID|LogServiceID|LogDate            |\n",
      "+--------------+------------+-------------------+\n",
      "|1196192316    |3157        |2018-08-01 00:00:00|\n",
      "|1196192317    |3157        |2018-08-01 00:00:00|\n",
      "|1196192318    |3157        |2018-08-01 00:00:00|\n",
      "|1196192319    |3157        |2018-08-01 00:00:00|\n",
      "|1196192320    |3157        |2018-08-01 00:00:00|\n",
      "+--------------+------------+-------------------+\n",
      "only showing top 5 rows\n",
      "\n",
      "+----------+-------------------+----------------------+\n",
      "|SequenceNO|AudienceTargetAgeID|AudienceTargetEthnicID|\n",
      "+----------+-------------------+----------------------+\n",
      "|1         |4                  |null                  |\n",
      "|2         |null               |null                  |\n",
      "|3         |null               |null                  |\n",
      "|4         |null               |null                  |\n",
      "|5         |null               |null                  |\n",
      "+----------+-------------------+----------------------+\n",
      "only showing top 5 rows\n",
      "\n",
      "+----------+---------------+-----------------+\n",
      "|CategoryID|ClosedCaptionID|CountryOfOriginID|\n",
      "+----------+---------------+-----------------+\n",
      "|13        |3              |3                |\n",
      "|null      |1              |null             |\n",
      "|null      |1              |null             |\n",
      "|null      |1              |null             |\n",
      "|null      |1              |null             |\n",
      "+----------+---------------+-----------------+\n",
      "only showing top 5 rows\n",
      "\n",
      "+----------------+---------------+------------------+\n",
      "|DubDramaCreditID|EthnicProgramID|ProductionSourceID|\n",
      "+----------------+---------------+------------------+\n",
      "|null            |null           |10                |\n",
      "|null            |null           |null              |\n",
      "|null            |null           |null              |\n",
      "|null            |null           |null              |\n",
      "|null            |null           |null              |\n",
      "+----------------+---------------+------------------+\n",
      "only showing top 5 rows\n",
      "\n",
      "+--------------+--------------------+------------+\n",
      "|ProgramClassID|FilmClassificationID|ExhibitionID|\n",
      "+--------------+--------------------+------------+\n",
      "|19            |null                |2           |\n",
      "|20            |null                |null        |\n",
      "|3             |null                |null        |\n",
      "|3             |null                |null        |\n",
      "|3             |null                |null        |\n",
      "+--------------+--------------------+------------+\n",
      "only showing top 5 rows\n",
      "\n",
      "+----------------+----------------+-------------------+\n",
      "|Duration        |EndTime         |LogEntryDate       |\n",
      "+----------------+----------------+-------------------+\n",
      "|02:00:00.0000000|08:00:00.0000000|2018-08-01 00:00:00|\n",
      "|00:00:30.0000000|06:13:45.0000000|2018-08-01 00:00:00|\n",
      "|00:00:15.0000000|06:14:00.0000000|2018-08-01 00:00:00|\n",
      "|00:00:15.0000000|06:14:15.0000000|2018-08-01 00:00:00|\n",
      "|00:00:15.0000000|06:14:30.0000000|2018-08-01 00:00:00|\n",
      "+----------------+----------------+-------------------+\n",
      "only showing top 5 rows\n",
      "\n",
      "+------------+-------------------------------------------+----------------+\n",
      "|ProductionNO|ProgramTitle                               |StartTime       |\n",
      "+------------+-------------------------------------------+----------------+\n",
      "|A39082      |Newlywed and Dead                          |06:00:00.0000000|\n",
      "|null        |15-SPECIALTY CHANNELS-Canadian Generic     |06:13:15.0000000|\n",
      "|null        |3-PROCTER & GAMBLE INC-Anti-Perspirant 3rd |06:13:45.0000000|\n",
      "|null        |12-CREDIT KARMA-Bank/Credit Union/Trust 3rd|06:14:00.0000000|\n",
      "|null        |3-L'OREAL CANADA-Hair Products 3rd         |06:14:15.0000000|\n",
      "+------------+-------------------------------------------+----------------+\n",
      "only showing top 5 rows\n",
      "\n",
      "+--------+--------------------+------------------+\n",
      "|Subtitle|NetworkAffiliationID|SpecialAttentionID|\n",
      "+--------+--------------------+------------------+\n",
      "|null    |null                |null              |\n",
      "|null    |null                |null              |\n",
      "|null    |null                |null              |\n",
      "|null    |null                |null              |\n",
      "|null    |null                |null              |\n",
      "+--------+--------------------+------------------+\n",
      "only showing top 5 rows\n",
      "\n",
      "+----------------------+-------------+---------+\n",
      "|BroadcastOriginPointID|CompositionID|Producer1|\n",
      "+----------------------+-------------+---------+\n",
      "|null                  |null         |null     |\n",
      "|null                  |null         |null     |\n",
      "|null                  |null         |null     |\n",
      "|null                  |null         |null     |\n",
      "|null                  |null         |null     |\n",
      "+----------------------+-------------+---------+\n",
      "only showing top 5 rows\n",
      "\n",
      "+---------+---------+---------+\n",
      "|Producer2|Language1|Language2|\n",
      "+---------+---------+---------+\n",
      "|null     |94       |null     |\n",
      "|null     |null     |null     |\n",
      "|null     |null     |null     |\n",
      "|null     |null     |null     |\n",
      "|null     |null     |null     |\n",
      "+---------+---------+---------+\n",
      "only showing top 5 rows\n",
      "\n"
     ]
    }
   ],
   "source": [
    "for x in column_split:\n",
    "    logs.select(*x).show(5, False)"
   ]
  },
  {
   "cell_type": "markdown",
   "id": "89f8a6f0-f443-4047-a80b-03671bb8f598",
   "metadata": {},
   "source": [
    "<a id=\"drop_column\">"
   ]
  },
  {
   "cell_type": "markdown",
   "id": "405160b6-7bb0-4ca4-b1bb-8460d1e0d2e4",
   "metadata": {},
   "source": [
    "## Getting rid of columns using the drop() method"
   ]
  },
  {
   "cell_type": "markdown",
   "id": "0ed7f335-8f2f-433a-8292-d757501c073c",
   "metadata": {},
   "source": [
    "[[back to top]](#top_of_page)"
   ]
  },
  {
   "cell_type": "code",
   "execution_count": 10,
   "id": "8297a51b-3e22-4fdb-9cd1-a1f55df427d8",
   "metadata": {},
   "outputs": [
    {
     "name": "stdout",
     "output_type": "stream",
     "text": [
      "False\n",
      "False\n"
     ]
    }
   ],
   "source": [
    "logs = logs.drop(\"BroadcastLogID\", \"SequenceNO\")\n",
    " \n",
    "# Testing if we effectively got rid of the columns\n",
    "print(\"BroadcastLogID\" in logs.columns)  # => False\n",
    "print(\"SequenceNo\" in logs.columns)  # => False"
   ]
  },
  {
   "cell_type": "markdown",
   "id": "491460ef-4f94-4499-a827-84ee9b05d1e3",
   "metadata": {},
   "source": [
    "#### Another way using select() with list comprehension and then unpacking items in list to strings of column names"
   ]
  },
  {
   "cell_type": "code",
   "execution_count": null,
   "id": "005e83d7-b56a-40cd-9115-79dc4a0a510d",
   "metadata": {},
   "outputs": [],
   "source": [
    "logs = logs.select(\n",
    "    *[x for x in logs.columns if x not in [\"BroadcastLogID\", \"SequenceNO\"]]\n",
    ")\n",
    "\n",
    "# Testing if we effectively got rid of the columns\n",
    "print(\"BroadcastLogID\" in logs.columns)  # => False\n",
    "print(\"SequenceNo\" in logs.columns)  # => False"
   ]
  },
  {
   "cell_type": "markdown",
   "id": "06d39e23-4d80-497f-abbb-8dd7efbe86d3",
   "metadata": {},
   "source": [
    "## Unfortunate Inconsistency When Unpacking is Needed or Not"
   ]
  },
  {
   "cell_type": "markdown",
   "id": "cb516dcc-5ec0-4f30-8eca-e9ebab1d7d98",
   "metadata": {},
   "source": [
    "With `select()`, you don't necessarily need to unpack list, but with `drop()`, you do need to explicitly unpack a list.  Therefore, best practice to always unpack/* a list."
   ]
  },
  {
   "cell_type": "markdown",
   "id": "c5b8f9de-5a1c-4a5c-977a-0655f7e34514",
   "metadata": {},
   "source": [
    "<a id=\"substr\">"
   ]
  },
  {
   "cell_type": "markdown",
   "id": "3acade64-74b7-4935-9403-2937b631523f",
   "metadata": {},
   "source": [
    "## Extracting parts of a string with `substr()`"
   ]
  },
  {
   "cell_type": "markdown",
   "id": "3d7a047b-2cc2-469b-9a4f-d702bedc52de",
   "metadata": {},
   "source": [
    "[[back to top]](#top_of_page)"
   ]
  },
  {
   "cell_type": "code",
   "execution_count": 11,
   "id": "1605429f-4704-4a14-8a46-af8125c1ae00",
   "metadata": {},
   "outputs": [
    {
     "name": "stdout",
     "output_type": "stream",
     "text": [
      "+----------------+\n",
      "|        Duration|\n",
      "+----------------+\n",
      "|02:00:00.0000000|\n",
      "|00:00:30.0000000|\n",
      "|00:00:15.0000000|\n",
      "|00:00:15.0000000|\n",
      "|00:00:15.0000000|\n",
      "+----------------+\n",
      "only showing top 5 rows\n",
      "\n"
     ]
    }
   ],
   "source": [
    "logs.select(F.col(\"Duration\")).show(5)"
   ]
  },
  {
   "cell_type": "markdown",
   "id": "96fa54fb-5321-4f4a-b048-62209463cfac",
   "metadata": {},
   "source": [
    "#### What data type is \"Duration\" column?"
   ]
  },
  {
   "cell_type": "code",
   "execution_count": 12,
   "id": "12890ab7-42be-42b8-8c34-097518e80060",
   "metadata": {},
   "outputs": [
    {
     "name": "stdout",
     "output_type": "stream",
     "text": [
      "[('Duration', 'string')]\n"
     ]
    }
   ],
   "source": [
    "print(logs.select(F.col(\"Duration\")).dtypes)"
   ]
  },
  {
   "cell_type": "markdown",
   "id": "2d0aaafc-cc05-4a20-af64-337b8142101d",
   "metadata": {},
   "source": [
    "[REFERENCE](https://spark.apache.org/docs/latest/sql-ref-datetime-pattern.html) - Datetime patterns for formatting and parsing"
   ]
  },
  {
   "cell_type": "code",
   "execution_count": 13,
   "id": "014e469d-98f4-461d-a9a0-613961c259e7",
   "metadata": {},
   "outputs": [
    {
     "name": "stdout",
     "output_type": "stream",
     "text": [
      "+----------------+---------+-----------+-----------+\n",
      "|        Duration|dur_hours|dur_minutes|dur_seconds|\n",
      "+----------------+---------+-----------+-----------+\n",
      "|00:10:06.0000000|        0|         10|          6|\n",
      "|00:10:37.0000000|        0|         10|         37|\n",
      "|00:04:52.0000000|        0|          4|         52|\n",
      "|00:26:41.0000000|        0|         26|         41|\n",
      "|00:08:18.0000000|        0|          8|         18|\n",
      "+----------------+---------+-----------+-----------+\n",
      "only showing top 5 rows\n",
      "\n"
     ]
    }
   ],
   "source": [
    "logs.select(\n",
    "    F.col(\"Duration\"),\n",
    "    F.col(\"Duration\").substr(1, 2).cast(\"int\").alias(\"dur_hours\"),\n",
    "    F.col(\"Duration\").substr(4, 2).cast(\"int\").alias(\"dur_minutes\"),\n",
    "    F.col(\"Duration\").substr(7, 2).cast(\"int\").alias(\"dur_seconds\"),\n",
    ").distinct().show(5)"
   ]
  },
  {
   "cell_type": "code",
   "execution_count": 14,
   "id": "da08b128-193f-4c3b-a2d6-9404c7cee314",
   "metadata": {},
   "outputs": [
    {
     "name": "stdout",
     "output_type": "stream",
     "text": [
      "+----------------+----------------+\n",
      "|        Duration|Duration_seconds|\n",
      "+----------------+----------------+\n",
      "|00:10:30.0000000|             630|\n",
      "|00:25:52.0000000|            1552|\n",
      "|00:28:08.0000000|            1688|\n",
      "|06:00:00.0000000|           21600|\n",
      "|00:32:08.0000000|            1928|\n",
      "+----------------+----------------+\n",
      "only showing top 5 rows\n",
      "\n"
     ]
    }
   ],
   "source": [
    "logs.select(\n",
    "    F.col(\"Duration\"),\n",
    "    (\n",
    "        F.col(\"Duration\").substr(1, 2).cast(\"int\") * 60 * 60\n",
    "        + F.col(\"Duration\").substr(4, 2).cast(\"int\") * 60\n",
    "        + F.col(\"Duration\").substr(7, 2).cast(\"int\")\n",
    "    ).alias(\"Duration_seconds\"),\n",
    ").distinct().show(5)"
   ]
  },
  {
   "cell_type": "markdown",
   "id": "c3e51c95-b3b6-4cbd-a211-5da4da9717ab",
   "metadata": {},
   "source": [
    "<a id=\"withColumn\">"
   ]
  },
  {
   "cell_type": "markdown",
   "id": "deed7906-8e43-4f1f-a20e-6cf9db63cfba",
   "metadata": {},
   "source": [
    "## Creating new column with withColumn()"
   ]
  },
  {
   "cell_type": "markdown",
   "id": "85405312-251d-4f2c-8629-076ac541e576",
   "metadata": {},
   "source": [
    "[[back to top]](#top_of_page)"
   ]
  },
  {
   "cell_type": "code",
   "execution_count": 15,
   "id": "04b58f3c-19ad-4da6-9ffa-feb15dfc6ead",
   "metadata": {},
   "outputs": [],
   "source": [
    "logs = logs.withColumn(\n",
    "    \"Duration_seconds\",\n",
    "    (\n",
    "        F.col(\"Duration\").substr(1, 2).cast(\"int\") * 60 * 60\n",
    "        + F.col(\"Duration\").substr(4, 2).cast(\"int\") * 60\n",
    "        + F.col(\"Duration\").substr(7, 2).cast(\"int\")\n",
    "    ),\n",
    ")"
   ]
  },
  {
   "cell_type": "code",
   "execution_count": 16,
   "id": "dfd2661b-3492-433b-945d-22b2f7981984",
   "metadata": {},
   "outputs": [
    {
     "name": "stdout",
     "output_type": "stream",
     "text": [
      "root\n",
      " |-- LogServiceID: integer (nullable = true)\n",
      " |-- LogDate: timestamp (nullable = true)\n",
      " |-- AudienceTargetAgeID: integer (nullable = true)\n",
      " |-- AudienceTargetEthnicID: integer (nullable = true)\n",
      " |-- CategoryID: integer (nullable = true)\n",
      " |-- ClosedCaptionID: integer (nullable = true)\n",
      " |-- CountryOfOriginID: integer (nullable = true)\n",
      " |-- DubDramaCreditID: integer (nullable = true)\n",
      " |-- EthnicProgramID: integer (nullable = true)\n",
      " |-- ProductionSourceID: integer (nullable = true)\n",
      " |-- ProgramClassID: integer (nullable = true)\n",
      " |-- FilmClassificationID: integer (nullable = true)\n",
      " |-- ExhibitionID: integer (nullable = true)\n",
      " |-- Duration: string (nullable = true)\n",
      " |-- EndTime: string (nullable = true)\n",
      " |-- LogEntryDate: timestamp (nullable = true)\n",
      " |-- ProductionNO: string (nullable = true)\n",
      " |-- ProgramTitle: string (nullable = true)\n",
      " |-- StartTime: string (nullable = true)\n",
      " |-- Subtitle: string (nullable = true)\n",
      " |-- NetworkAffiliationID: integer (nullable = true)\n",
      " |-- SpecialAttentionID: integer (nullable = true)\n",
      " |-- BroadcastOriginPointID: integer (nullable = true)\n",
      " |-- CompositionID: integer (nullable = true)\n",
      " |-- Producer1: string (nullable = true)\n",
      " |-- Producer2: string (nullable = true)\n",
      " |-- Language1: integer (nullable = true)\n",
      " |-- Language2: integer (nullable = true)\n",
      " |-- Duration_seconds: integer (nullable = true)\n",
      "\n"
     ]
    }
   ],
   "source": [
    "logs.printSchema()"
   ]
  },
  {
   "cell_type": "markdown",
   "id": "63c34bc0-c565-48a7-9576-ed5154b62376",
   "metadata": {},
   "source": [
    "<a id=\"withColumnRenamed\">"
   ]
  },
  {
   "cell_type": "markdown",
   "id": "b7f45684-7d3f-4e3b-9b3f-71162d9669ca",
   "metadata": {},
   "source": [
    "## Renaming one column at a type, the withColumnRenamed() way"
   ]
  },
  {
   "cell_type": "markdown",
   "id": "a5e5ad20-320d-4661-be2f-38f5b2d45653",
   "metadata": {},
   "source": [
    "[[back to top]](#top_of_page)"
   ]
  },
  {
   "cell_type": "code",
   "execution_count": 17,
   "id": "35d12b57-1765-420f-9a48-82eedf68c83e",
   "metadata": {},
   "outputs": [],
   "source": [
    "logs = logs.withColumnRenamed(\"Duration_seconds\", \"duration_seconds\")"
   ]
  },
  {
   "cell_type": "code",
   "execution_count": 18,
   "id": "51b0bd7a-d996-48f6-9a2a-8177c26696f6",
   "metadata": {},
   "outputs": [
    {
     "name": "stdout",
     "output_type": "stream",
     "text": [
      "root\n",
      " |-- LogServiceID: integer (nullable = true)\n",
      " |-- LogDate: timestamp (nullable = true)\n",
      " |-- AudienceTargetAgeID: integer (nullable = true)\n",
      " |-- AudienceTargetEthnicID: integer (nullable = true)\n",
      " |-- CategoryID: integer (nullable = true)\n",
      " |-- ClosedCaptionID: integer (nullable = true)\n",
      " |-- CountryOfOriginID: integer (nullable = true)\n",
      " |-- DubDramaCreditID: integer (nullable = true)\n",
      " |-- EthnicProgramID: integer (nullable = true)\n",
      " |-- ProductionSourceID: integer (nullable = true)\n",
      " |-- ProgramClassID: integer (nullable = true)\n",
      " |-- FilmClassificationID: integer (nullable = true)\n",
      " |-- ExhibitionID: integer (nullable = true)\n",
      " |-- Duration: string (nullable = true)\n",
      " |-- EndTime: string (nullable = true)\n",
      " |-- LogEntryDate: timestamp (nullable = true)\n",
      " |-- ProductionNO: string (nullable = true)\n",
      " |-- ProgramTitle: string (nullable = true)\n",
      " |-- StartTime: string (nullable = true)\n",
      " |-- Subtitle: string (nullable = true)\n",
      " |-- NetworkAffiliationID: integer (nullable = true)\n",
      " |-- SpecialAttentionID: integer (nullable = true)\n",
      " |-- BroadcastOriginPointID: integer (nullable = true)\n",
      " |-- CompositionID: integer (nullable = true)\n",
      " |-- Producer1: string (nullable = true)\n",
      " |-- Producer2: string (nullable = true)\n",
      " |-- Language1: integer (nullable = true)\n",
      " |-- Language2: integer (nullable = true)\n",
      " |-- duration_seconds: integer (nullable = true)\n",
      "\n"
     ]
    }
   ],
   "source": [
    "logs.printSchema()"
   ]
  },
  {
   "cell_type": "markdown",
   "id": "f5bcc485-39d5-46fb-8752-d3b2461e5f82",
   "metadata": {},
   "source": [
    "<a id=\"toDF\">"
   ]
  },
  {
   "cell_type": "markdown",
   "id": "cbb7e17d-e06e-4aed-9264-9fa091b9e0b8",
   "metadata": {},
   "source": [
    "## Changing multiple columns - Batch lowercasing using the toDF() method"
   ]
  },
  {
   "cell_type": "markdown",
   "id": "87016d26-b99f-4046-831e-43801c8657f8",
   "metadata": {},
   "source": [
    "[[back to top]](#top_of_page)"
   ]
  },
  {
   "cell_type": "code",
   "execution_count": 19,
   "id": "f0080c1b-48c4-4a9a-a04e-93130224b480",
   "metadata": {},
   "outputs": [
    {
     "name": "stdout",
     "output_type": "stream",
     "text": [
      "root\n",
      " |-- logserviceid: integer (nullable = true)\n",
      " |-- logdate: timestamp (nullable = true)\n",
      " |-- audiencetargetageid: integer (nullable = true)\n",
      " |-- audiencetargetethnicid: integer (nullable = true)\n",
      " |-- categoryid: integer (nullable = true)\n",
      " |-- closedcaptionid: integer (nullable = true)\n",
      " |-- countryoforiginid: integer (nullable = true)\n",
      " |-- dubdramacreditid: integer (nullable = true)\n",
      " |-- ethnicprogramid: integer (nullable = true)\n",
      " |-- productionsourceid: integer (nullable = true)\n",
      " |-- programclassid: integer (nullable = true)\n",
      " |-- filmclassificationid: integer (nullable = true)\n",
      " |-- exhibitionid: integer (nullable = true)\n",
      " |-- duration: string (nullable = true)\n",
      " |-- endtime: string (nullable = true)\n",
      " |-- logentrydate: timestamp (nullable = true)\n",
      " |-- productionno: string (nullable = true)\n",
      " |-- programtitle: string (nullable = true)\n",
      " |-- starttime: string (nullable = true)\n",
      " |-- subtitle: string (nullable = true)\n",
      " |-- networkaffiliationid: integer (nullable = true)\n",
      " |-- specialattentionid: integer (nullable = true)\n",
      " |-- broadcastoriginpointid: integer (nullable = true)\n",
      " |-- compositionid: integer (nullable = true)\n",
      " |-- producer1: string (nullable = true)\n",
      " |-- producer2: string (nullable = true)\n",
      " |-- language1: integer (nullable = true)\n",
      " |-- language2: integer (nullable = true)\n",
      " |-- duration_seconds: integer (nullable = true)\n",
      "\n"
     ]
    }
   ],
   "source": [
    "logs.toDF(*[x.lower() for x in logs.columns]).printSchema()"
   ]
  },
  {
   "cell_type": "markdown",
   "id": "0fcf6fb1-5e8a-4811-88c7-42170bda897c",
   "metadata": {},
   "source": [
    "<a id=\"sorting_columns\">"
   ]
  },
  {
   "cell_type": "markdown",
   "id": "81af56d0-0302-4800-bf97-521e17d5813a",
   "metadata": {},
   "source": [
    "## Selecting our columns in alphabetical order using select()"
   ]
  },
  {
   "cell_type": "markdown",
   "id": "f8d70380-a7f3-4791-8fa9-58de7d4f9005",
   "metadata": {},
   "source": [
    "[[back to top]](#top_of_page)"
   ]
  },
  {
   "cell_type": "code",
   "execution_count": 20,
   "id": "3c52886f-dcee-4874-8d48-3087b0c89425",
   "metadata": {},
   "outputs": [
    {
     "name": "stdout",
     "output_type": "stream",
     "text": [
      "root\n",
      " |-- AudienceTargetAgeID: integer (nullable = true)\n",
      " |-- AudienceTargetEthnicID: integer (nullable = true)\n",
      " |-- BroadcastOriginPointID: integer (nullable = true)\n",
      " |-- CategoryID: integer (nullable = true)\n",
      " |-- ClosedCaptionID: integer (nullable = true)\n",
      " |-- CompositionID: integer (nullable = true)\n",
      " |-- CountryOfOriginID: integer (nullable = true)\n",
      " |-- DubDramaCreditID: integer (nullable = true)\n",
      " |-- Duration: string (nullable = true)\n",
      " |-- EndTime: string (nullable = true)\n",
      " |-- EthnicProgramID: integer (nullable = true)\n",
      " |-- ExhibitionID: integer (nullable = true)\n",
      " |-- FilmClassificationID: integer (nullable = true)\n",
      " |-- Language1: integer (nullable = true)\n",
      " |-- Language2: integer (nullable = true)\n",
      " |-- LogDate: timestamp (nullable = true)\n",
      " |-- LogEntryDate: timestamp (nullable = true)\n",
      " |-- LogServiceID: integer (nullable = true)\n",
      " |-- NetworkAffiliationID: integer (nullable = true)\n",
      " |-- Producer1: string (nullable = true)\n",
      " |-- Producer2: string (nullable = true)\n",
      " |-- ProductionNO: string (nullable = true)\n",
      " |-- ProductionSourceID: integer (nullable = true)\n",
      " |-- ProgramClassID: integer (nullable = true)\n",
      " |-- ProgramTitle: string (nullable = true)\n",
      " |-- SpecialAttentionID: integer (nullable = true)\n",
      " |-- StartTime: string (nullable = true)\n",
      " |-- Subtitle: string (nullable = true)\n",
      " |-- duration_seconds: integer (nullable = true)\n",
      "\n"
     ]
    }
   ],
   "source": [
    "logs.select(sorted(logs.columns)).printSchema()"
   ]
  },
  {
   "cell_type": "markdown",
   "id": "ca7d2c1e-aa68-4fb5-bd1c-6a5d5fef9afb",
   "metadata": {},
   "source": [
    "<a id=\"describe_and_summarize\">"
   ]
  },
  {
   "cell_type": "markdown",
   "id": "3306a77c-8438-4a05-8651-b1c74d0d2611",
   "metadata": {},
   "source": [
    "## Diagnosing a dataframe with describe() and summary()"
   ]
  },
  {
   "cell_type": "markdown",
   "id": "acaa6a3b-3f31-48c3-a053-60feb47b8dcc",
   "metadata": {},
   "source": [
    "[[back to top]](#top_of_page)"
   ]
  },
  {
   "cell_type": "code",
   "execution_count": null,
   "id": "49b07381-da4f-4826-bf2f-56935adf251b",
   "metadata": {},
   "outputs": [],
   "source": [
    "for i in logs.columns:\n",
    "    logs.describe(i).show()"
   ]
  },
  {
   "cell_type": "code",
   "execution_count": null,
   "id": "ab36947b-f336-445b-8147-e0cf8b39a79a",
   "metadata": {},
   "outputs": [],
   "source": [
    "for i in logs.columns:\n",
    "    logs.select(i).summary().show()"
   ]
  },
  {
   "cell_type": "markdown",
   "id": "596caef2-4c7e-4889-a70a-b985e1b4c971",
   "metadata": {},
   "source": [
    "<a id=\"joining\">"
   ]
  },
  {
   "cell_type": "markdown",
   "id": "ab8e62d7-2bc7-49f0-a21e-5c1742a1dc5b",
   "metadata": {},
   "source": [
    "## Joining Data"
   ]
  },
  {
   "cell_type": "markdown",
   "id": "2d576316-4a43-47f8-b2ba-67c7be964904",
   "metadata": {},
   "source": [
    "[[back to top]](#top_of_page)"
   ]
  },
  {
   "cell_type": "markdown",
   "id": "9645774d-3846-4f37-99f4-e7e8fc14d689",
   "metadata": {},
   "source": [
    "#### Let's create a 2nd dataframe called \"log_identifier\""
   ]
  },
  {
   "cell_type": "code",
   "execution_count": 21,
   "id": "7c96d8f7-557e-4e39-876b-d4a20a1c55a0",
   "metadata": {},
   "outputs": [],
   "source": [
    "DIRECTORY = Path(\"./data/broadcast_logs\")\n",
    "log_identifier = spark.read.csv(\n",
    "    str(DIRECTORY / \"ReferenceTables/LogIdentifier.csv\"),\n",
    "    sep=\"|\",\n",
    "    header=True,\n",
    "    inferSchema=True,\n",
    ")"
   ]
  },
  {
   "cell_type": "code",
   "execution_count": 22,
   "id": "841ba068-3266-4029-a816-1c8569003a30",
   "metadata": {},
   "outputs": [
    {
     "name": "stdout",
     "output_type": "stream",
     "text": [
      "root\n",
      " |-- LogIdentifierID: string (nullable = true)\n",
      " |-- LogServiceID: integer (nullable = true)\n",
      " |-- PrimaryFG: integer (nullable = true)\n",
      "\n"
     ]
    }
   ],
   "source": [
    "log_identifier.printSchema()"
   ]
  },
  {
   "cell_type": "code",
   "execution_count": 23,
   "id": "33d49230-f07e-4c6c-8bc5-31f9a552490d",
   "metadata": {},
   "outputs": [
    {
     "name": "stdout",
     "output_type": "stream",
     "text": [
      "+---------------+------------+---------+\n",
      "|LogIdentifierID|LogServiceID|PrimaryFG|\n",
      "+---------------+------------+---------+\n",
      "|           13ST|        3157|        1|\n",
      "|         2000SM|        3466|        1|\n",
      "|           70SM|        3883|        1|\n",
      "|           80SM|        3590|        1|\n",
      "|           90SM|        3470|        1|\n",
      "|         9DAPTN|        3158|        1|\n",
      "|         9DCFCF|        3159|        1|\n",
      "|         9DCFRN|        3160|        1|\n",
      "|         9DCHRO|        3161|        1|\n",
      "|         9DCIVI|        3162|        1|\n",
      "+---------------+------------+---------+\n",
      "only showing top 10 rows\n",
      "\n"
     ]
    }
   ],
   "source": [
    "log_identifier.show(10)"
   ]
  },
  {
   "cell_type": "code",
   "execution_count": 24,
   "id": "97924c99-f845-4dbf-84da-c234c26ece48",
   "metadata": {},
   "outputs": [
    {
     "data": {
      "text/html": [
       "<table border='1'>\n",
       "<tr><th>PrimaryFG</th></tr>\n",
       "<tr><td>1</td></tr>\n",
       "<tr><td>0</td></tr>\n",
       "</table>\n"
      ],
      "text/plain": [
       "+---------+\n",
       "|PrimaryFG|\n",
       "+---------+\n",
       "|        1|\n",
       "|        0|\n",
       "+---------+"
      ]
     },
     "execution_count": 24,
     "metadata": {},
     "output_type": "execute_result"
    }
   ],
   "source": [
    "log_identifier.select(F.col(\"PrimaryFG\")).distinct()"
   ]
  },
  {
   "cell_type": "markdown",
   "id": "64ce8966-6e7c-43e9-af98-1870fda62911",
   "metadata": {},
   "source": [
    "#### Let's do a simple groupBy count"
   ]
  },
  {
   "cell_type": "code",
   "execution_count": 25,
   "id": "a595e68b-6679-4836-b081-c1cbbe5b3b52",
   "metadata": {},
   "outputs": [
    {
     "data": {
      "text/html": [
       "<table border='1'>\n",
       "<tr><th>PrimaryFG</th><th>count</th></tr>\n",
       "<tr><td>1</td><td>758</td></tr>\n",
       "<tr><td>0</td><td>162</td></tr>\n",
       "</table>\n"
      ],
      "text/plain": [
       "+---------+-----+\n",
       "|PrimaryFG|count|\n",
       "+---------+-----+\n",
       "|        1|  758|\n",
       "|        0|  162|\n",
       "+---------+-----+"
      ]
     },
     "execution_count": 25,
     "metadata": {},
     "output_type": "execute_result"
    }
   ],
   "source": [
    "(\n",
    "    log_identifier\n",
    "    .select(F.col(\"PrimaryFG\"))\n",
    "    .groupBy(F.col(\"PrimaryFG\"))\n",
    "    .count()\n",
    ")"
   ]
  },
  {
   "cell_type": "code",
   "execution_count": 26,
   "id": "af5c6774-8b71-4053-b6d0-49a70c478d33",
   "metadata": {},
   "outputs": [
    {
     "data": {
      "text/plain": [
       "920"
      ]
     },
     "execution_count": 26,
     "metadata": {},
     "output_type": "execute_result"
    }
   ],
   "source": [
    "log_identifier.count()"
   ]
  },
  {
   "cell_type": "markdown",
   "id": "d4b0aad1-54d2-47ea-9a38-b3dfa444928f",
   "metadata": {},
   "source": [
    "#### Filter or limit our log_identifier to have PrimaryFG equal to 1"
   ]
  },
  {
   "cell_type": "code",
   "execution_count": 27,
   "id": "b56e178b-1208-4ffc-8644-311c507454d8",
   "metadata": {},
   "outputs": [
    {
     "name": "stdout",
     "output_type": "stream",
     "text": [
      "758\n"
     ]
    }
   ],
   "source": [
    "log_identifier = log_identifier.where(F.col(\"PrimaryFG\") == 1)\n",
    "print(log_identifier.count())"
   ]
  },
  {
   "cell_type": "markdown",
   "id": "ba28056f-80fc-41bc-a36f-ef33dcf9ec77",
   "metadata": {},
   "source": [
    "#### Let's compare or see which column we can join `logs` and `log_identifier` with.  Let's print out the schema for both:"
   ]
  },
  {
   "cell_type": "code",
   "execution_count": 28,
   "id": "de9cd058-7ad0-4b56-96c9-ad03dd216508",
   "metadata": {},
   "outputs": [
    {
     "name": "stdout",
     "output_type": "stream",
     "text": [
      "root\n",
      " |-- LogServiceID: integer (nullable = true)\n",
      " |-- LogDate: timestamp (nullable = true)\n",
      " |-- AudienceTargetAgeID: integer (nullable = true)\n",
      " |-- AudienceTargetEthnicID: integer (nullable = true)\n",
      " |-- CategoryID: integer (nullable = true)\n",
      " |-- ClosedCaptionID: integer (nullable = true)\n",
      " |-- CountryOfOriginID: integer (nullable = true)\n",
      " |-- DubDramaCreditID: integer (nullable = true)\n",
      " |-- EthnicProgramID: integer (nullable = true)\n",
      " |-- ProductionSourceID: integer (nullable = true)\n",
      " |-- ProgramClassID: integer (nullable = true)\n",
      " |-- FilmClassificationID: integer (nullable = true)\n",
      " |-- ExhibitionID: integer (nullable = true)\n",
      " |-- Duration: string (nullable = true)\n",
      " |-- EndTime: string (nullable = true)\n",
      " |-- LogEntryDate: timestamp (nullable = true)\n",
      " |-- ProductionNO: string (nullable = true)\n",
      " |-- ProgramTitle: string (nullable = true)\n",
      " |-- StartTime: string (nullable = true)\n",
      " |-- Subtitle: string (nullable = true)\n",
      " |-- NetworkAffiliationID: integer (nullable = true)\n",
      " |-- SpecialAttentionID: integer (nullable = true)\n",
      " |-- BroadcastOriginPointID: integer (nullable = true)\n",
      " |-- CompositionID: integer (nullable = true)\n",
      " |-- Producer1: string (nullable = true)\n",
      " |-- Producer2: string (nullable = true)\n",
      " |-- Language1: integer (nullable = true)\n",
      " |-- Language2: integer (nullable = true)\n",
      " |-- duration_seconds: integer (nullable = true)\n",
      "\n"
     ]
    }
   ],
   "source": [
    "logs.printSchema()"
   ]
  },
  {
   "cell_type": "code",
   "execution_count": 29,
   "id": "9037d7b2-8b6c-4e86-bbf0-6882c75a7786",
   "metadata": {},
   "outputs": [
    {
     "name": "stdout",
     "output_type": "stream",
     "text": [
      "root\n",
      " |-- LogIdentifierID: string (nullable = true)\n",
      " |-- LogServiceID: integer (nullable = true)\n",
      " |-- PrimaryFG: integer (nullable = true)\n",
      "\n"
     ]
    }
   ],
   "source": [
    "log_identifier.printSchema()"
   ]
  },
  {
   "cell_type": "markdown",
   "id": "4ce8e61c-7783-4216-82b2-228c79589200",
   "metadata": {},
   "source": [
    "#### From the data dictionary and also based on the columns listed, looks like we can join with the `LogServiceID` column"
   ]
  },
  {
   "cell_type": "markdown",
   "id": "617b157f-330d-4f97-ab43-d4b8f1e51da7",
   "metadata": {},
   "source": [
    "<a id=\"inner_join\">"
   ]
  },
  {
   "cell_type": "markdown",
   "id": "b44648b3-c46c-44e8-a4dd-5ab37caa838e",
   "metadata": {},
   "source": [
    "## Perform INNER join"
   ]
  },
  {
   "cell_type": "markdown",
   "id": "0d0d455b-811f-4502-ae71-771fc46567b9",
   "metadata": {},
   "source": [
    "[[back to top]](#top_of_page)"
   ]
  },
  {
   "cell_type": "code",
   "execution_count": 30,
   "id": "c7ac3aae-b353-4f22-9ff1-af986f1ededf",
   "metadata": {},
   "outputs": [],
   "source": [
    "logs_and_channels = logs.join(\n",
    "    log_identifier,\n",
    "    on=\"LogServiceID\",\n",
    "    how=\"inner\"\n",
    ")"
   ]
  },
  {
   "cell_type": "code",
   "execution_count": 31,
   "id": "9e5c06b7-c18f-4187-82f0-5e96d44ea4bf",
   "metadata": {},
   "outputs": [
    {
     "name": "stdout",
     "output_type": "stream",
     "text": [
      "root\n",
      " |-- LogServiceID: integer (nullable = true)\n",
      " |-- LogDate: timestamp (nullable = true)\n",
      " |-- AudienceTargetAgeID: integer (nullable = true)\n",
      " |-- AudienceTargetEthnicID: integer (nullable = true)\n",
      " |-- CategoryID: integer (nullable = true)\n",
      " |-- ClosedCaptionID: integer (nullable = true)\n",
      " |-- CountryOfOriginID: integer (nullable = true)\n",
      " |-- DubDramaCreditID: integer (nullable = true)\n",
      " |-- EthnicProgramID: integer (nullable = true)\n",
      " |-- ProductionSourceID: integer (nullable = true)\n",
      " |-- ProgramClassID: integer (nullable = true)\n",
      " |-- FilmClassificationID: integer (nullable = true)\n",
      " |-- ExhibitionID: integer (nullable = true)\n",
      " |-- Duration: string (nullable = true)\n",
      " |-- EndTime: string (nullable = true)\n",
      " |-- LogEntryDate: timestamp (nullable = true)\n",
      " |-- ProductionNO: string (nullable = true)\n",
      " |-- ProgramTitle: string (nullable = true)\n",
      " |-- StartTime: string (nullable = true)\n",
      " |-- Subtitle: string (nullable = true)\n",
      " |-- NetworkAffiliationID: integer (nullable = true)\n",
      " |-- SpecialAttentionID: integer (nullable = true)\n",
      " |-- BroadcastOriginPointID: integer (nullable = true)\n",
      " |-- CompositionID: integer (nullable = true)\n",
      " |-- Producer1: string (nullable = true)\n",
      " |-- Producer2: string (nullable = true)\n",
      " |-- Language1: integer (nullable = true)\n",
      " |-- Language2: integer (nullable = true)\n",
      " |-- duration_seconds: integer (nullable = true)\n",
      " |-- LogIdentifierID: string (nullable = true)\n",
      " |-- PrimaryFG: integer (nullable = true)\n",
      "\n"
     ]
    }
   ],
   "source": [
    "logs_and_channels.printSchema()"
   ]
  },
  {
   "cell_type": "markdown",
   "id": "e8f915bb-3a2e-4c6a-b858-9c373ea94bd1",
   "metadata": {},
   "source": [
    "#### Consequences of Joining - Duplicate Column Names"
   ]
  },
  {
   "cell_type": "code",
   "execution_count": 32,
   "id": "1e4a5232-1278-498b-8adb-1c056136248a",
   "metadata": {},
   "outputs": [],
   "source": [
    "logs_and_channels_verbose = logs.join(\n",
    "    log_identifier, logs[\"LogServiceID\"] == log_identifier[\"LogServiceID\"]\n",
    ")"
   ]
  },
  {
   "cell_type": "code",
   "execution_count": 36,
   "id": "b0d55478-f9cc-4dcb-89e2-6541d307f210",
   "metadata": {},
   "outputs": [
    {
     "name": "stdout",
     "output_type": "stream",
     "text": [
      "root\n",
      " |-- LogServiceID: integer (nullable = true)\n",
      " |-- LogDate: timestamp (nullable = true)\n",
      " |-- AudienceTargetAgeID: integer (nullable = true)\n",
      " |-- AudienceTargetEthnicID: integer (nullable = true)\n",
      " |-- CategoryID: integer (nullable = true)\n",
      " |-- ClosedCaptionID: integer (nullable = true)\n",
      " |-- CountryOfOriginID: integer (nullable = true)\n",
      " |-- DubDramaCreditID: integer (nullable = true)\n",
      " |-- EthnicProgramID: integer (nullable = true)\n",
      " |-- ProductionSourceID: integer (nullable = true)\n",
      " |-- ProgramClassID: integer (nullable = true)\n",
      " |-- FilmClassificationID: integer (nullable = true)\n",
      " |-- ExhibitionID: integer (nullable = true)\n",
      " |-- Duration: string (nullable = true)\n",
      " |-- EndTime: string (nullable = true)\n",
      " |-- LogEntryDate: timestamp (nullable = true)\n",
      " |-- ProductionNO: string (nullable = true)\n",
      " |-- ProgramTitle: string (nullable = true)\n",
      " |-- StartTime: string (nullable = true)\n",
      " |-- Subtitle: string (nullable = true)\n",
      " |-- NetworkAffiliationID: integer (nullable = true)\n",
      " |-- SpecialAttentionID: integer (nullable = true)\n",
      " |-- BroadcastOriginPointID: integer (nullable = true)\n",
      " |-- CompositionID: integer (nullable = true)\n",
      " |-- Producer1: string (nullable = true)\n",
      " |-- Producer2: string (nullable = true)\n",
      " |-- Language1: integer (nullable = true)\n",
      " |-- Language2: integer (nullable = true)\n",
      " |-- duration_seconds: integer (nullable = true)\n",
      " |-- LogIdentifierID: string (nullable = true)\n",
      " |-- LogServiceID: integer (nullable = true)\n",
      " |-- PrimaryFG: integer (nullable = true)\n",
      "\n"
     ]
    }
   ],
   "source": [
    "logs_and_channels_verbose.printSchema()"
   ]
  },
  {
   "cell_type": "markdown",
   "id": "b71ca737-22fa-41db-a11b-5b1edc5e5f23",
   "metadata": {},
   "source": [
    "#### We get an error below because \"LogServiceID\" is listed twice:"
   ]
  },
  {
   "cell_type": "code",
   "execution_count": 37,
   "id": "f71d9d55-24e1-4a40-b8b9-da6a8e1d159d",
   "metadata": {},
   "outputs": [
    {
     "ename": "NameError",
     "evalue": "name 'AnalysisException' is not defined",
     "output_type": "error",
     "traceback": [
      "\u001b[1;31m---------------------------------------------------------------------------\u001b[0m",
      "\u001b[1;31mAnalysisException\u001b[0m                         Traceback (most recent call last)",
      "\u001b[1;32m~\\AppData\\Local\\Temp\\ipykernel_11380\\3400166778.py\u001b[0m in \u001b[0;36m<module>\u001b[1;34m\u001b[0m\n\u001b[0;32m      1\u001b[0m \u001b[1;32mtry\u001b[0m\u001b[1;33m:\u001b[0m\u001b[1;33m\u001b[0m\u001b[1;33m\u001b[0m\u001b[0m\n\u001b[1;32m----> 2\u001b[1;33m     \u001b[0mlogs_and_channels_verbose\u001b[0m\u001b[1;33m.\u001b[0m\u001b[0mselect\u001b[0m\u001b[1;33m(\u001b[0m\u001b[1;34m\"LogServiceID\"\u001b[0m\u001b[1;33m)\u001b[0m\u001b[1;33m\u001b[0m\u001b[1;33m\u001b[0m\u001b[0m\n\u001b[0m\u001b[0;32m      3\u001b[0m \u001b[1;32mexcept\u001b[0m \u001b[0mAnalysisException\u001b[0m \u001b[1;32mas\u001b[0m \u001b[0merr\u001b[0m\u001b[1;33m:\u001b[0m\u001b[1;33m\u001b[0m\u001b[1;33m\u001b[0m\u001b[0m\n",
      "\u001b[1;32m~\\apps\\Python39\\envs\\pyspark_dev\\lib\\site-packages\\pyspark\\sql\\dataframe.py\u001b[0m in \u001b[0;36mselect\u001b[1;34m(self, *cols)\u001b[0m\n\u001b[0;32m   2022\u001b[0m         \"\"\"\n\u001b[1;32m-> 2023\u001b[1;33m         \u001b[0mjdf\u001b[0m \u001b[1;33m=\u001b[0m \u001b[0mself\u001b[0m\u001b[1;33m.\u001b[0m\u001b[0m_jdf\u001b[0m\u001b[1;33m.\u001b[0m\u001b[0mselect\u001b[0m\u001b[1;33m(\u001b[0m\u001b[0mself\u001b[0m\u001b[1;33m.\u001b[0m\u001b[0m_jcols\u001b[0m\u001b[1;33m(\u001b[0m\u001b[1;33m*\u001b[0m\u001b[0mcols\u001b[0m\u001b[1;33m)\u001b[0m\u001b[1;33m)\u001b[0m\u001b[1;33m\u001b[0m\u001b[1;33m\u001b[0m\u001b[0m\n\u001b[0m\u001b[0;32m   2024\u001b[0m         \u001b[1;32mreturn\u001b[0m \u001b[0mDataFrame\u001b[0m\u001b[1;33m(\u001b[0m\u001b[0mjdf\u001b[0m\u001b[1;33m,\u001b[0m \u001b[0mself\u001b[0m\u001b[1;33m.\u001b[0m\u001b[0msparkSession\u001b[0m\u001b[1;33m)\u001b[0m\u001b[1;33m\u001b[0m\u001b[1;33m\u001b[0m\u001b[0m\n",
      "\u001b[1;32m~\\apps\\Python39\\envs\\pyspark_dev\\lib\\site-packages\\py4j\\java_gateway.py\u001b[0m in \u001b[0;36m__call__\u001b[1;34m(self, *args)\u001b[0m\n\u001b[0;32m   1320\u001b[0m         \u001b[0manswer\u001b[0m \u001b[1;33m=\u001b[0m \u001b[0mself\u001b[0m\u001b[1;33m.\u001b[0m\u001b[0mgateway_client\u001b[0m\u001b[1;33m.\u001b[0m\u001b[0msend_command\u001b[0m\u001b[1;33m(\u001b[0m\u001b[0mcommand\u001b[0m\u001b[1;33m)\u001b[0m\u001b[1;33m\u001b[0m\u001b[1;33m\u001b[0m\u001b[0m\n\u001b[1;32m-> 1321\u001b[1;33m         return_value = get_return_value(\n\u001b[0m\u001b[0;32m   1322\u001b[0m             answer, self.gateway_client, self.target_id, self.name)\n",
      "\u001b[1;32m~\\apps\\Python39\\envs\\pyspark_dev\\lib\\site-packages\\pyspark\\sql\\utils.py\u001b[0m in \u001b[0;36mdeco\u001b[1;34m(*a, **kw)\u001b[0m\n\u001b[0;32m    195\u001b[0m                 \u001b[1;31m# JVM exception message.\u001b[0m\u001b[1;33m\u001b[0m\u001b[1;33m\u001b[0m\u001b[0m\n\u001b[1;32m--> 196\u001b[1;33m                 \u001b[1;32mraise\u001b[0m \u001b[0mconverted\u001b[0m \u001b[1;32mfrom\u001b[0m \u001b[1;32mNone\u001b[0m\u001b[1;33m\u001b[0m\u001b[1;33m\u001b[0m\u001b[0m\n\u001b[0m\u001b[0;32m    197\u001b[0m             \u001b[1;32melse\u001b[0m\u001b[1;33m:\u001b[0m\u001b[1;33m\u001b[0m\u001b[1;33m\u001b[0m\u001b[0m\n",
      "\u001b[1;31mAnalysisException\u001b[0m: Reference 'LogServiceID' is ambiguous, could be: LogServiceID, LogServiceID.",
      "\nDuring handling of the above exception, another exception occurred:\n",
      "\u001b[1;31mNameError\u001b[0m                                 Traceback (most recent call last)",
      "\u001b[1;32m~\\AppData\\Local\\Temp\\ipykernel_11380\\3400166778.py\u001b[0m in \u001b[0;36m<module>\u001b[1;34m\u001b[0m\n\u001b[0;32m      1\u001b[0m \u001b[1;32mtry\u001b[0m\u001b[1;33m:\u001b[0m\u001b[1;33m\u001b[0m\u001b[1;33m\u001b[0m\u001b[0m\n\u001b[0;32m      2\u001b[0m     \u001b[0mlogs_and_channels_verbose\u001b[0m\u001b[1;33m.\u001b[0m\u001b[0mselect\u001b[0m\u001b[1;33m(\u001b[0m\u001b[1;34m\"LogServiceID\"\u001b[0m\u001b[1;33m)\u001b[0m\u001b[1;33m\u001b[0m\u001b[1;33m\u001b[0m\u001b[0m\n\u001b[1;32m----> 3\u001b[1;33m \u001b[1;32mexcept\u001b[0m \u001b[0mAnalysisException\u001b[0m \u001b[1;32mas\u001b[0m \u001b[0merr\u001b[0m\u001b[1;33m:\u001b[0m\u001b[1;33m\u001b[0m\u001b[1;33m\u001b[0m\u001b[0m\n\u001b[0m\u001b[0;32m      4\u001b[0m     \u001b[0mprint\u001b[0m\u001b[1;33m(\u001b[0m\u001b[0merr\u001b[0m\u001b[1;33m)\u001b[0m\u001b[1;33m\u001b[0m\u001b[1;33m\u001b[0m\u001b[0m\n",
      "\u001b[1;31mNameError\u001b[0m: name 'AnalysisException' is not defined"
     ]
    }
   ],
   "source": [
    "try:\n",
    "    logs_and_channels_verbose.select(\"LogServiceID\")\n",
    "except AnalysisException as err:\n",
    "    print(err)"
   ]
  },
  {
   "cell_type": "markdown",
   "id": "2e1b85ba-f8d1-4f64-b81d-fdea55d2c4e8",
   "metadata": {},
   "source": [
    "<a id=\"duplicate_column_names\">"
   ]
  },
  {
   "cell_type": "markdown",
   "id": "a41f0682-3881-4f52-8bdf-846e924c5121",
   "metadata": {},
   "source": [
    "## How to avoid Duplicate Column Names"
   ]
  },
  {
   "cell_type": "markdown",
   "id": "6c201153-ec8c-4321-bd5a-f19f8e8456a0",
   "metadata": {},
   "source": [
    "[[back to top]](#top_of_page)"
   ]
  },
  {
   "cell_type": "markdown",
   "id": "fce9f782-9114-4fc3-a4f5-da45296143cc",
   "metadata": {},
   "source": [
    "3 ways:\n",
    "- Using simplified join syntax on equi-joins\n",
    "- Using the origin name\n",
    "- Using aliases"
   ]
  },
  {
   "cell_type": "markdown",
   "id": "7ad0cdc0-cd8b-493c-bc10-0f1716482834",
   "metadata": {},
   "source": [
    "#### Simplified Join Syntax"
   ]
  },
  {
   "cell_type": "code",
   "execution_count": 38,
   "id": "b87fe33b-a81a-4de9-9c36-f33d4bd616c3",
   "metadata": {},
   "outputs": [
    {
     "name": "stdout",
     "output_type": "stream",
     "text": [
      "root\n",
      " |-- LogServiceID: integer (nullable = true)\n",
      " |-- LogDate: timestamp (nullable = true)\n",
      " |-- AudienceTargetAgeID: integer (nullable = true)\n",
      " |-- AudienceTargetEthnicID: integer (nullable = true)\n",
      " |-- CategoryID: integer (nullable = true)\n",
      " |-- ClosedCaptionID: integer (nullable = true)\n",
      " |-- CountryOfOriginID: integer (nullable = true)\n",
      " |-- DubDramaCreditID: integer (nullable = true)\n",
      " |-- EthnicProgramID: integer (nullable = true)\n",
      " |-- ProductionSourceID: integer (nullable = true)\n",
      " |-- ProgramClassID: integer (nullable = true)\n",
      " |-- FilmClassificationID: integer (nullable = true)\n",
      " |-- ExhibitionID: integer (nullable = true)\n",
      " |-- Duration: string (nullable = true)\n",
      " |-- EndTime: string (nullable = true)\n",
      " |-- LogEntryDate: timestamp (nullable = true)\n",
      " |-- ProductionNO: string (nullable = true)\n",
      " |-- ProgramTitle: string (nullable = true)\n",
      " |-- StartTime: string (nullable = true)\n",
      " |-- Subtitle: string (nullable = true)\n",
      " |-- NetworkAffiliationID: integer (nullable = true)\n",
      " |-- SpecialAttentionID: integer (nullable = true)\n",
      " |-- BroadcastOriginPointID: integer (nullable = true)\n",
      " |-- CompositionID: integer (nullable = true)\n",
      " |-- Producer1: string (nullable = true)\n",
      " |-- Producer2: string (nullable = true)\n",
      " |-- Language1: integer (nullable = true)\n",
      " |-- Language2: integer (nullable = true)\n",
      " |-- duration_seconds: integer (nullable = true)\n",
      " |-- LogIdentifierID: string (nullable = true)\n",
      " |-- PrimaryFG: integer (nullable = true)\n",
      "\n"
     ]
    }
   ],
   "source": [
    "logs_and_channels = logs.join(log_identifier, \"LogServiceID\")\n",
    " \n",
    "logs_and_channels.printSchema()"
   ]
  },
  {
   "cell_type": "markdown",
   "id": "1a2af700-dfab-4811-b5ce-72682e006a38",
   "metadata": {},
   "source": [
    "From the printSchema, we see that only first \"LogServiceID\" is listed"
   ]
  },
  {
   "cell_type": "markdown",
   "id": "8e96262a-24f6-44ae-a53d-a8963d54117b",
   "metadata": {},
   "source": [
    "#### Using the origin name of the column for unambiguous selection"
   ]
  },
  {
   "cell_type": "code",
   "execution_count": 40,
   "id": "8ad2c2b1-b14f-45e0-88e1-5ce0006e554d",
   "metadata": {},
   "outputs": [
    {
     "data": {
      "text/html": [
       "<table border='1'>\n",
       "<tr><th>LogServiceID</th></tr>\n",
       "<tr><td>3157</td></tr>\n",
       "<tr><td>3157</td></tr>\n",
       "<tr><td>3157</td></tr>\n",
       "<tr><td>3157</td></tr>\n",
       "<tr><td>3157</td></tr>\n",
       "<tr><td>3157</td></tr>\n",
       "<tr><td>3157</td></tr>\n",
       "<tr><td>3157</td></tr>\n",
       "<tr><td>3157</td></tr>\n",
       "<tr><td>3157</td></tr>\n",
       "<tr><td>3157</td></tr>\n",
       "<tr><td>3157</td></tr>\n",
       "<tr><td>3157</td></tr>\n",
       "<tr><td>3157</td></tr>\n",
       "<tr><td>3157</td></tr>\n",
       "<tr><td>3157</td></tr>\n",
       "<tr><td>3157</td></tr>\n",
       "<tr><td>3157</td></tr>\n",
       "<tr><td>3157</td></tr>\n",
       "<tr><td>3157</td></tr>\n",
       "</table>\n",
       "only showing top 20 rows\n"
      ],
      "text/plain": [
       "+------------+\n",
       "|LogServiceID|\n",
       "+------------+\n",
       "|        3157|\n",
       "|        3157|\n",
       "|        3157|\n",
       "|        3157|\n",
       "|        3157|\n",
       "|        3157|\n",
       "|        3157|\n",
       "|        3157|\n",
       "|        3157|\n",
       "|        3157|\n",
       "|        3157|\n",
       "|        3157|\n",
       "|        3157|\n",
       "|        3157|\n",
       "|        3157|\n",
       "|        3157|\n",
       "|        3157|\n",
       "|        3157|\n",
       "|        3157|\n",
       "|        3157|\n",
       "+------------+\n",
       "only showing top 20 rows"
      ]
     },
     "execution_count": 40,
     "metadata": {},
     "output_type": "execute_result"
    }
   ],
   "source": [
    "logs_and_channels_verbose = logs.join(\n",
    "    log_identifier, logs[\"LogServiceID\"] == log_identifier[\"LogServiceID\"]\n",
    ")\n",
    "\n",
    "logs_and_channels.drop(log_identifier[\"LogServiceID\"]).select(\n",
    "    \"LogServiceID\")"
   ]
  },
  {
   "cell_type": "markdown",
   "id": "09cdff6d-37f1-4bb6-93e7-fb072674b97d",
   "metadata": {},
   "source": [
    "#### Using aliases"
   ]
  },
  {
   "cell_type": "code",
   "execution_count": 42,
   "id": "53abb70a-5aa8-4810-8fc0-82ddc215df51",
   "metadata": {},
   "outputs": [
    {
     "data": {
      "text/html": [
       "<table border='1'>\n",
       "<tr><th>LogServiceID</th></tr>\n",
       "<tr><td>3157</td></tr>\n",
       "<tr><td>3157</td></tr>\n",
       "<tr><td>3157</td></tr>\n",
       "<tr><td>3157</td></tr>\n",
       "<tr><td>3157</td></tr>\n",
       "<tr><td>3157</td></tr>\n",
       "<tr><td>3157</td></tr>\n",
       "<tr><td>3157</td></tr>\n",
       "<tr><td>3157</td></tr>\n",
       "<tr><td>3157</td></tr>\n",
       "<tr><td>3157</td></tr>\n",
       "<tr><td>3157</td></tr>\n",
       "<tr><td>3157</td></tr>\n",
       "<tr><td>3157</td></tr>\n",
       "<tr><td>3157</td></tr>\n",
       "<tr><td>3157</td></tr>\n",
       "<tr><td>3157</td></tr>\n",
       "<tr><td>3157</td></tr>\n",
       "<tr><td>3157</td></tr>\n",
       "<tr><td>3157</td></tr>\n",
       "</table>\n",
       "only showing top 20 rows\n"
      ],
      "text/plain": [
       "+------------+\n",
       "|LogServiceID|\n",
       "+------------+\n",
       "|        3157|\n",
       "|        3157|\n",
       "|        3157|\n",
       "|        3157|\n",
       "|        3157|\n",
       "|        3157|\n",
       "|        3157|\n",
       "|        3157|\n",
       "|        3157|\n",
       "|        3157|\n",
       "|        3157|\n",
       "|        3157|\n",
       "|        3157|\n",
       "|        3157|\n",
       "|        3157|\n",
       "|        3157|\n",
       "|        3157|\n",
       "|        3157|\n",
       "|        3157|\n",
       "|        3157|\n",
       "+------------+\n",
       "only showing top 20 rows"
      ]
     },
     "execution_count": 42,
     "metadata": {},
     "output_type": "execute_result"
    }
   ],
   "source": [
    "logs_and_channels_verbose = logs.alias(\"left\").join(\n",
    "    log_identifier.alias(\"right\"),\n",
    "    logs[\"LogServiceID\"] == log_identifier[\"LogServiceID\"],\n",
    ")\n",
    " \n",
    "logs_and_channels_verbose.drop(F.col(\"right.LogServiceID\")).select(\n",
    "    \"LogServiceID\"\n",
    ")"
   ]
  },
  {
   "cell_type": "markdown",
   "id": "b17c93ad-e2c2-4fe6-845a-8196c28f6350",
   "metadata": {},
   "source": [
    "In summary: All three approaches are valid. The first one works only in the case of equi-joins, but the two others are mostly interchangeable."
   ]
  },
  {
   "cell_type": "markdown",
   "id": "1ae251e4-ed7e-4df0-8bed-6630889c3d80",
   "metadata": {},
   "source": [
    "<a id=\"multiple_left_joins\">"
   ]
  },
  {
   "cell_type": "markdown",
   "id": "e6bbf4db-1e95-414e-8a58-7130d6163544",
   "metadata": {},
   "source": [
    "## Using 2 Left JOINs"
   ]
  },
  {
   "cell_type": "markdown",
   "id": "1be922d6-4906-4db2-9a20-55937f591aa8",
   "metadata": {},
   "source": [
    "[[back to top]](#top_of_page)"
   ]
  },
  {
   "cell_type": "code",
   "execution_count": 43,
   "id": "726eac67-3c93-41be-9120-53b4c16320ba",
   "metadata": {},
   "outputs": [],
   "source": [
    "DIRECTORY = \"./data/broadcast_logs\"\n",
    " \n",
    "cd_category = spark.read.csv(\n",
    "    os.path.join(DIRECTORY, \"ReferenceTables/CD_Category.csv\"),\n",
    "    sep=\"|\",\n",
    "    header=True,\n",
    "    inferSchema=True,\n",
    ").select(\n",
    "    \"CategoryID\",\n",
    "    \"CategoryCD\",\n",
    "    F.col(\"EnglishDescription\").alias(\"Category_Description\"),\n",
    ")\n",
    " \n",
    "cd_program_class = spark.read.csv(\n",
    "    os.path.join(DIRECTORY, \"ReferenceTables/CD_ProgramClass.csv\"),\n",
    "    sep=\"|\",\n",
    "    header=True,\n",
    "    inferSchema=True,\n",
    ").select(\n",
    "    \"ProgramClassID\",\n",
    "    \"ProgramClassCD\",\n",
    "    F.col(\"EnglishDescription\").alias(\"ProgramClass_Description\"),\n",
    ")\n",
    " \n",
    "full_log = logs_and_channels.join(cd_category, \"CategoryID\", how=\"left\").join(\n",
    "    cd_program_class, \"ProgramClassID\", how=\"left\"\n",
    ")"
   ]
  },
  {
   "cell_type": "code",
   "execution_count": 44,
   "id": "e3956233-927b-450a-afd5-c6b35ed3aadf",
   "metadata": {},
   "outputs": [
    {
     "name": "stdout",
     "output_type": "stream",
     "text": [
      "root\n",
      " |-- ProgramClassID: integer (nullable = true)\n",
      " |-- CategoryID: integer (nullable = true)\n",
      " |-- LogServiceID: integer (nullable = true)\n",
      " |-- LogDate: timestamp (nullable = true)\n",
      " |-- AudienceTargetAgeID: integer (nullable = true)\n",
      " |-- AudienceTargetEthnicID: integer (nullable = true)\n",
      " |-- ClosedCaptionID: integer (nullable = true)\n",
      " |-- CountryOfOriginID: integer (nullable = true)\n",
      " |-- DubDramaCreditID: integer (nullable = true)\n",
      " |-- EthnicProgramID: integer (nullable = true)\n",
      " |-- ProductionSourceID: integer (nullable = true)\n",
      " |-- FilmClassificationID: integer (nullable = true)\n",
      " |-- ExhibitionID: integer (nullable = true)\n",
      " |-- Duration: string (nullable = true)\n",
      " |-- EndTime: string (nullable = true)\n",
      " |-- LogEntryDate: timestamp (nullable = true)\n",
      " |-- ProductionNO: string (nullable = true)\n",
      " |-- ProgramTitle: string (nullable = true)\n",
      " |-- StartTime: string (nullable = true)\n",
      " |-- Subtitle: string (nullable = true)\n",
      " |-- NetworkAffiliationID: integer (nullable = true)\n",
      " |-- SpecialAttentionID: integer (nullable = true)\n",
      " |-- BroadcastOriginPointID: integer (nullable = true)\n",
      " |-- CompositionID: integer (nullable = true)\n",
      " |-- Producer1: string (nullable = true)\n",
      " |-- Producer2: string (nullable = true)\n",
      " |-- Language1: integer (nullable = true)\n",
      " |-- Language2: integer (nullable = true)\n",
      " |-- duration_seconds: integer (nullable = true)\n",
      " |-- LogIdentifierID: string (nullable = true)\n",
      " |-- PrimaryFG: integer (nullable = true)\n",
      " |-- CategoryCD: string (nullable = true)\n",
      " |-- Category_Description: string (nullable = true)\n",
      " |-- ProgramClassCD: string (nullable = true)\n",
      " |-- ProgramClass_Description: string (nullable = true)\n",
      "\n"
     ]
    }
   ],
   "source": [
    "full_log.printSchema()"
   ]
  },
  {
   "cell_type": "markdown",
   "id": "5e55b41f-a50f-4d95-85b1-5b3b984178f2",
   "metadata": {},
   "source": [
    "<a id=\"groupby\">"
   ]
  },
  {
   "cell_type": "markdown",
   "id": "083aaa40-fee2-4be8-85f8-cc4a6b2605d2",
   "metadata": {},
   "source": [
    "## Summarizing the data via groupby and GroupedData"
   ]
  },
  {
   "cell_type": "markdown",
   "id": "93a17484-683c-4b34-8b08-fc8fa113640b",
   "metadata": {},
   "source": [
    "[[back to top]](#top_of_page)"
   ]
  },
  {
   "cell_type": "markdown",
   "id": "a158c9bf-0778-4446-8d41-0dd1c3c9752e",
   "metadata": {},
   "source": [
    "#### Displaying the most popular types of programs"
   ]
  },
  {
   "cell_type": "code",
   "execution_count": 45,
   "id": "028ce80c-155f-46f2-a931-db73b5f2e563",
   "metadata": {},
   "outputs": [
    {
     "name": "stdout",
     "output_type": "stream",
     "text": [
      "+--------------+--------------------------------------+--------------+\n",
      "|ProgramClassCD|ProgramClass_Description              |duration_total|\n",
      "+--------------+--------------------------------------+--------------+\n",
      "|PGR           |PROGRAM                               |652802250     |\n",
      "|COM           |COMMERCIAL MESSAGE                    |106810189     |\n",
      "|PFS           |PROGRAM FIRST SEGMENT                 |38817891      |\n",
      "|SEG           |SEGMENT OF A PROGRAM                  |34891264      |\n",
      "|PRC           |PROMOTION OF UPCOMING CANADIAN PROGRAM|27017583      |\n",
      "|PGI           |PROGRAM INFOMERCIAL                   |23196392      |\n",
      "|PRO           |PROMOTION OF NON-CANADIAN PROGRAM     |10213461      |\n",
      "|OFF           |SCHEDULED OFF AIR TIME PERIOD         |4537071       |\n",
      "|ID            |NETWORK IDENTIFICATION MESSAGE        |2179067       |\n",
      "|NRN           |No recognized nationality             |1704127       |\n",
      "|PSA           |PUBLIC SERVICE ANNOUNCEMENT           |1622200       |\n",
      "|MAG           |MAGAZINE PROGRAM                      |1323611       |\n",
      "|SO            |MAY IDENTIFY THE SIGN ON\\OFF OF A DAY |959118        |\n",
      "|LOC           |LOCAL ADVERTISING                     |483042        |\n",
      "|MVC           |MUSIC VIDEO CLIP                      |214916        |\n",
      "|REG           |REGIONAL                              |202736        |\n",
      "|OFT           |OFF AIR DUE TO TECHNICAL DIFFICULTY   |52387         |\n",
      "|SPO           |SPONSORSHIP MESSAGE                   |45257         |\n",
      "|MER           |MERCHANDISING                         |40695         |\n",
      "|SOL           |SOLICITATION MESSAGE                  |7808          |\n",
      "|null          |null                                  |360           |\n",
      "|MOS           |Mosaic                                |null          |\n",
      "|COR           |CORNERSTONE                           |null          |\n",
      "+--------------+--------------------------------------+--------------+\n",
      "\n"
     ]
    }
   ],
   "source": [
    "(full_log\n",
    "    .groupby(\"ProgramClassCD\", \"ProgramClass_Description\")\n",
    "    .agg(F.sum(\"duration_seconds\").alias(\"duration_total\"))\n",
    "    .orderBy(\"duration_total\", ascending=False).show(100, False)\n",
    ")"
   ]
  },
  {
   "cell_type": "markdown",
   "id": "9fa39ac8-87fe-4262-ac80-8b4a2e39e586",
   "metadata": {},
   "source": [
    "#### agg() also accepts a dictionary in the form {column_name: aggregation_function} where both are string. Because of this, we can rewrite listing 5.11 like so:"
   ]
  },
  {
   "cell_type": "code",
   "execution_count": 46,
   "id": "2e270eca-0de9-449d-80a2-ae80f511b2ef",
   "metadata": {},
   "outputs": [
    {
     "name": "stdout",
     "output_type": "stream",
     "text": [
      "+--------------+--------------------------------------+--------------+\n",
      "|ProgramClassCD|ProgramClass_Description              |duration_total|\n",
      "+--------------+--------------------------------------+--------------+\n",
      "|PGR           |PROGRAM                               |652802250     |\n",
      "|COM           |COMMERCIAL MESSAGE                    |106810189     |\n",
      "|PFS           |PROGRAM FIRST SEGMENT                 |38817891      |\n",
      "|SEG           |SEGMENT OF A PROGRAM                  |34891264      |\n",
      "|PRC           |PROMOTION OF UPCOMING CANADIAN PROGRAM|27017583      |\n",
      "|PGI           |PROGRAM INFOMERCIAL                   |23196392      |\n",
      "|PRO           |PROMOTION OF NON-CANADIAN PROGRAM     |10213461      |\n",
      "|OFF           |SCHEDULED OFF AIR TIME PERIOD         |4537071       |\n",
      "|ID            |NETWORK IDENTIFICATION MESSAGE        |2179067       |\n",
      "|NRN           |No recognized nationality             |1704127       |\n",
      "|PSA           |PUBLIC SERVICE ANNOUNCEMENT           |1622200       |\n",
      "|MAG           |MAGAZINE PROGRAM                      |1323611       |\n",
      "|SO            |MAY IDENTIFY THE SIGN ON\\OFF OF A DAY |959118        |\n",
      "|LOC           |LOCAL ADVERTISING                     |483042        |\n",
      "|MVC           |MUSIC VIDEO CLIP                      |214916        |\n",
      "|REG           |REGIONAL                              |202736        |\n",
      "|OFT           |OFF AIR DUE TO TECHNICAL DIFFICULTY   |52387         |\n",
      "|SPO           |SPONSORSHIP MESSAGE                   |45257         |\n",
      "|MER           |MERCHANDISING                         |40695         |\n",
      "|SOL           |SOLICITATION MESSAGE                  |7808          |\n",
      "|null          |null                                  |360           |\n",
      "|MOS           |Mosaic                                |null          |\n",
      "|COR           |CORNERSTONE                           |null          |\n",
      "+--------------+--------------------------------------+--------------+\n",
      "\n"
     ]
    }
   ],
   "source": [
    "full_log.groupby(\"ProgramClassCD\", \"ProgramClass_Description\").agg(\n",
    "    {\"duration_seconds\": \"sum\"}\n",
    ").withColumnRenamed(\"sum(duration_seconds)\", \"duration_total\").orderBy(\n",
    "    \"duration_total\", ascending=False\n",
    ").show(\n",
    "    100, False\n",
    ")"
   ]
  },
  {
   "cell_type": "markdown",
   "id": "1e340289-d51c-4fb2-a5cc-22961ebc8c0c",
   "metadata": {},
   "source": [
    "<a id=\"when\">"
   ]
  },
  {
   "cell_type": "markdown",
   "id": "2c6ac372-e095-4336-8b28-f70099adb481",
   "metadata": {},
   "source": [
    "## Using `when()` function"
   ]
  },
  {
   "cell_type": "markdown",
   "id": "e2759346-6716-42ac-ad34-c5df318792c7",
   "metadata": {},
   "source": [
    "[[back to top]](#top_of_page)"
   ]
  },
  {
   "cell_type": "code",
   "execution_count": null,
   "id": "484e41ea-c6a3-4374-9ac6-a16ba587e46f",
   "metadata": {},
   "outputs": [],
   "source": [
    "F.when(\n",
    "    F.trim(F.col(\"ProgramClassCD\")).isin(\n",
    "        [\"COM\", \"PRC\", \"PGI\", \"PRO\", \"PSA\", \"MAG\", \"LOC\", \"SPO\", \"MER\", \"SOL\"]\n",
    "    ),\n",
    "    F.col(\"duration_seconds\"),\n",
    ").otherwise(0)"
   ]
  },
  {
   "cell_type": "markdown",
   "id": "07c873bc-e721-43f1-96ae-86e51098459c",
   "metadata": {},
   "source": [
    "The above can be translated as:\n",
    "\n",
    "`\"When the field of the column ProgramClass, trimmed of spaces at the beginning and end of the field, is in our list of commercial codes, then take the value of the field in the column duration_seconds. Otherwise, use zero as a value.\"`"
   ]
  },
  {
   "cell_type": "markdown",
   "id": "2d2dd2e6-52a9-49be-b5c8-1fa1f1dbe34c",
   "metadata": {},
   "source": [
    "General `when()` usage:\n",
    "\n",
    "```\n",
    "(\n",
    "    F.when([BOOLEAN TEST], [RESULT IF TRUE])\n",
    "    .when([ANOTHER BOOLEAN TEST], [RESULT IF TRUE])\n",
    "    .otherwise([DEFAULT RESULT, WILL DEFAULT TO null IF OMITTED])\n",
    ")\n",
    "```"
   ]
  },
  {
   "cell_type": "markdown",
   "id": "c120a46b-43d6-4219-9813-a5929f58a3a0",
   "metadata": {},
   "source": [
    "**Goal:**\n",
    "```\n",
    "\"By LogIdentifierID, sum the duration seconds for only commercials, rename this column \"duration_commercial\", then add duration_seconds, but rename it duration_total, then add a new column called \"commercial_ratio\" which is a derived or calculated column whose value equals to duration_commercial divided by duration_total\"\n",
    "```"
   ]
  },
  {
   "cell_type": "markdown",
   "id": "8507ddf0-3594-4075-bee2-b8394f2463a2",
   "metadata": {},
   "source": [
    "**Answer:**"
   ]
  },
  {
   "cell_type": "code",
   "execution_count": 47,
   "id": "98b2f3bf-3c01-496f-a751-5714b25d2969",
   "metadata": {},
   "outputs": [
    {
     "name": "stdout",
     "output_type": "stream",
     "text": [
      "+---------------+-------------------+--------------+---------------------+\n",
      "|LogIdentifierID|duration_commercial|duration_total|commercial_ratio     |\n",
      "+---------------+-------------------+--------------+---------------------+\n",
      "|HPITV          |403                |403           |1.0                  |\n",
      "|CIMT           |19935              |19935         |1.0                  |\n",
      "|TELENO         |545255             |545255        |1.0                  |\n",
      "|TANG           |271468             |271468        |1.0                  |\n",
      "|MSET           |101670             |101670        |1.0                  |\n",
      "|TLNSP          |234455             |234455        |1.0                  |\n",
      "|INVST          |623057             |633659        |0.9832686034602207   |\n",
      "|ZT�L�          |669624             |682023        |0.9818202611935375   |\n",
      "|CANALD         |660132             |673746        |0.9797935720583127   |\n",
      "|ONEBMS         |563058             |576441        |0.9767834002092148   |\n",
      "|MMAX           |701438             |719026        |0.9755391321037069   |\n",
      "|CANALVIE       |639073             |655108        |0.9755231198519939   |\n",
      "|RAPT           |465144             |477174        |0.9747890706534723   |\n",
      "|V              |468277             |480889        |0.9737735735273628   |\n",
      "|CFJP           |467425             |480037        |0.9737270252084735   |\n",
      "|CFRS           |453172             |465773        |0.9729460488263596   |\n",
      "|CFAP           |450101             |462702        |0.9727664890145277   |\n",
      "|CFKS           |452689             |467095        |0.9691583082670548   |\n",
      "|MPLU           |636819             |657243        |0.9689247356000749   |\n",
      "|CFKM           |452900             |468175        |0.9673733112618145   |\n",
      "|CIVM           |354250             |366846        |0.9656640661203884   |\n",
      "|unis           |329211             |341254        |0.9647095711698618   |\n",
      "|TV5            |351816             |366029        |0.9611697433809889   |\n",
      "|LEAF           |360124             |375471        |0.9591260044051338   |\n",
      "|VISION         |327648             |349476        |0.9375407753322117   |\n",
      "|CJIL           |122912             |131945        |0.9315396566751298   |\n",
      "|CHNU           |133281             |154868        |0.8606103262132914   |\n",
      "|RURAL          |87150              |101425        |0.8592556075918166   |\n",
      "|CIIT           |91190              |113576        |0.8028984996830316   |\n",
      "|CFTU           |161388             |247080        |0.6531811559009227   |\n",
      "|CHEK           |1421355            |3093750       |0.4594278787878788   |\n",
      "|VRAK           |486970             |1172579       |0.41529824429739914  |\n",
      "|CKVR           |1197360            |3251190       |0.3682836130770579   |\n",
      "|CHWI           |1152301            |3244711       |0.35513209034641297  |\n",
      "|CFPL           |1151246            |3243566       |0.3549321949977278   |\n",
      "|CIVI           |1147623            |3238173       |0.35440447437490213  |\n",
      "|CHRO           |1110492            |3292017       |0.3373287562002262   |\n",
      "|CESS           |1078980            |3248280       |0.3321696405482286   |\n",
      "|ASN            |1084525            |3282175       |0.33042875532230914  |\n",
      "|FAMCHA         |1260934            |3891648       |0.32401029075599846  |\n",
      "|CFVS           |920470             |2842735       |0.3237973289807175   |\n",
      "|CFGS           |917040             |2840800       |0.3228104759222754   |\n",
      "|ALLTV          |168088             |529135        |0.31766562408459087  |\n",
      "|CHAT           |883815             |2833845       |0.31187838431530307  |\n",
      "|CFTK           |849340             |2855520       |0.2974379447526195   |\n",
      "|CHCH           |918489             |3267565       |0.2810928015203982   |\n",
      "|CFTO           |926890             |3314121       |0.27967898577028416  |\n",
      "|CFCF           |924020             |3311341       |0.27904706884612607  |\n",
      "|CJOH           |924918             |3321405       |0.2784719117361478   |\n",
      "|CICI           |921809             |3318581       |0.2777720356983904   |\n",
      "|CKCO           |921474             |3319251       |0.2776150402605889   |\n",
      "|CITO           |920346             |3316429       |0.27751114225572143  |\n",
      "|CHBX           |919866             |3316728       |0.27734140393785683  |\n",
      "|CKNY           |919469             |3316091       |0.277274960186557    |\n",
      "|CKY            |916263             |3307701       |0.27700901623212015  |\n",
      "|CJCH           |912078             |3312649       |0.27533191714546273  |\n",
      "|CFQC           |912810             |3319310       |0.274999924683142    |\n",
      "|CKLT           |910820             |3314181       |0.2748250623608065   |\n",
      "|CKCW           |910820             |3314181       |0.2748250623608065   |\n",
      "|CJCB           |910297             |3312922       |0.27477163663980014  |\n",
      "|CKCK           |908193             |3314940       |0.2739696646093142   |\n",
      "|CICC           |897204             |3313074       |0.270807111462044    |\n",
      "|CIPA           |896405             |3310156       |0.2708044575542663   |\n",
      "|CFRE           |887346             |3321857       |0.26712347942732034  |\n",
      "|CIVT           |885624             |3325458       |0.2663163991245717   |\n",
      "|CHNB2          |886842             |3332360       |0.2661303100505348   |\n",
      "|CIHF           |886556             |3331633       |0.2661025389050955   |\n",
      "|CFSK           |880868             |3315758       |0.2656611248468676   |\n",
      "|CKMI           |865102             |3325143       |0.2601698633712896   |\n",
      "|CIII           |861596             |3312211       |0.2601271476968104   |\n",
      "|CJDC           |729451             |2826301       |0.2580938831355896   |\n",
      "|CFRN6          |858846             |3336378       |0.25741867378336625  |\n",
      "|CHEX           |779648             |3029346       |0.2573651210525308   |\n",
      "|CHAU           |24285              |94485         |0.25702492459120496  |\n",
      "|CFCNL          |854595             |3329280       |0.25669063581314877  |\n",
      "|OUTDR          |864848             |3372147       |0.256468060259532    |\n",
      "|CFCN           |853676             |3329051       |0.25643223849679686  |\n",
      "|CKND           |854712             |3333947       |0.2563664029452178   |\n",
      "|CFRN           |851021             |3328253       |0.2556960062831762   |\n",
      "|CKWS1          |757574             |3026228       |0.2503360619226311   |\n",
      "|CKWS           |757521             |3026239       |0.25031763849451416  |\n",
      "|CFMT           |798517             |3198204       |0.2496766935442517   |\n",
      "|DIY            |860310             |3483191       |0.24698903964784016  |\n",
      "|GAME           |821240             |3341794       |0.2457482418126312   |\n",
      "|CITY           |837431             |3412632       |0.24539153357291382  |\n",
      "|CFTM           |791848             |3244558       |0.24405419782910337  |\n",
      "|CHBC           |809760             |3325589       |0.2434937089339663   |\n",
      "|CHAN           |803024             |3319542       |0.24190807045068266  |\n",
      "|CHEX02         |711756             |2996872       |0.23749963295062318  |\n",
      "|CHEM           |769332             |3242111       |0.23729354115266257  |\n",
      "|CHLT           |768907             |3243696       |0.2370465666326314   |\n",
      "|CJPM           |766771             |3241561       |0.23654375160609348  |\n",
      "|CFCM           |768025             |3250014       |0.2363143666458052   |\n",
      "|CFER           |765392             |3240182       |0.236218829683024    |\n",
      "|CISA           |783975             |3332157       |0.23527552873409027  |\n",
      "|CITV           |783139             |3330110       |0.23516910852794654  |\n",
      "|CICT           |778169             |3326786       |0.2339101463093809   |\n",
      "|FYI            |794945             |3415798       |0.23272599843433364  |\n",
      "|COOK           |798691             |3476886       |0.2297144628843166   |\n",
      "|CJNT           |796196             |3470359       |0.22942756066447303  |\n",
      "|CKVU           |796336             |3472687       |0.22931407293545314  |\n",
      "|CKEM           |788490             |3470407       |0.22720389856290632  |\n",
      "|CAVE           |768530             |3394588       |0.22639860860876196  |\n",
      "|DEJA           |764998             |3387367       |0.2258385347675643   |\n",
      "|CHMI           |784825             |3475582       |0.22581110156514794  |\n",
      "|WTN            |760395             |3367923       |0.22577564867130276  |\n",
      "|CKAL           |784886             |3479747       |0.2255583523744686   |\n",
      "|FOOD           |773217             |3436925       |0.22497348647410112  |\n",
      "|HGTV           |760844             |3383399       |0.22487563541870173  |\n",
      "|DTOUR          |754876             |3420915       |0.22066493905870213  |\n",
      "|HISTORY        |746018             |3402249       |0.21927201683357098  |\n",
      "|FASH           |752060             |3433790       |0.21901747049178896  |\n",
      "|LIFENT         |728184             |3353799       |0.21712213522635077  |\n",
      "|WFN            |739561             |3432534       |0.21545627807328346  |\n",
      "|OWN            |732372             |3411927       |0.21465054791617758  |\n",
      "|13ST           |720130             |3401530       |0.2117076727237449   |\n",
      "|MAKE           |718540             |3411100       |0.2106475916859664   |\n",
      "|TDC            |710286             |3391896       |0.20940677426430526  |\n",
      "|FXC            |704296             |3390017       |0.2077558903096946   |\n",
      "|DIVA           |702757             |3386997       |0.20748675006207565  |\n",
      "|CMT            |701347             |3381987       |0.20737720162732737  |\n",
      "|COSMO          |271206             |1308274       |0.20730061133982636  |\n",
      "|BRAVO          |701000             |3383060       |0.2072088582525879   |\n",
      "|RAZER          |699421             |3382501       |0.20677628772319653  |\n",
      "|TRV            |700740             |3390796       |0.20665943925851038  |\n",
      "|CASA           |696398             |3374798       |0.20635249872733125  |\n",
      "|NGCE           |688251             |3339221       |0.20611124570670825  |\n",
      "|ANIMAL         |694930             |3379506       |0.2056306454256924   |\n",
      "|E!             |693881             |3375281       |0.20557725416046843  |\n",
      "|SPARK          |693152             |3374501       |0.20540874043302995  |\n",
      "|CHISTO         |695085             |3384668       |0.20536283026872945  |\n",
      "|FXX            |693089             |3381614       |0.20495804666055914  |\n",
      "|SHOW           |681739             |3343620       |0.20389248778270258  |\n",
      "|DISSCI         |686700             |3371651       |0.20366876642926565  |\n",
      "|TCN            |684995             |3366785       |0.20345671018493905  |\n",
      "|INVDIS         |681510             |3365495       |0.20249918659810814  |\n",
      "|COMGLD         |680320             |3361000       |0.20241594763463255  |\n",
      "|COTT           |679640             |3366389       |0.2018899182477129   |\n",
      "|NGWILD         |676734             |3358594       |0.20149324389908396  |\n",
      "|SERIEP         |678227             |3368489       |0.20134457912731793  |\n",
      "|MOICIE         |674049             |3352052       |0.20108548435406134  |\n",
      "|ZEST           |673845             |3367650       |0.2000935370362122   |\n",
      "|BBCCND         |668994             |3350299       |0.19968187913974245  |\n",
      "|TVADIK         |665865             |3340695       |0.19931930331862083  |\n",
      "|MTV1           |665840             |3346730       |0.19895241026315238  |\n",
      "|DISVEL         |666645             |3351586       |0.19890433961712456  |\n",
      "|ATN3           |661150             |3341356       |0.1978687694456981   |\n",
      "|CFJC           |575485             |2918305       |0.19719837371350835  |\n",
      "|BNN            |632353             |3220501       |0.1963523687774045   |\n",
      "|GUS            |652080             |3333360       |0.19562243502051985  |\n",
      "|MUCHM          |651611             |3335351       |0.19536504553793588  |\n",
      "|CEVASI         |651195             |3342135       |0.19484401438002955  |\n",
      "|SPACE          |646009             |3327649       |0.1941337562946092   |\n",
      "|RDI            |622330             |3301120       |0.18852086564559906  |\n",
      "|EXP            |622429             |3301729       |0.18851607748546292  |\n",
      "|CKPG           |582245             |3095120       |0.18811710046783323  |\n",
      "|PRIS           |615265             |3293665       |0.18680254367095622  |\n",
      "|FIGHT          |603183             |3255039       |0.18530745714567476  |\n",
      "|BOOK           |607620             |3292170       |0.18456519560047022  |\n",
      "|NEWSW          |604796             |3285296       |0.1840917835105269   |\n",
      "|CARTN          |602096             |3281623       |0.18347506706285274  |\n",
      "|LCN            |590110             |3268510       |0.18054403994480667  |\n",
      "|CP24           |590505             |3272810       |0.18042752252651392  |\n",
      "|TOON           |592124             |3282200       |0.18040460666626043  |\n",
      "|SN360          |587574             |3275150       |0.17940369143398013  |\n",
      "|YTV            |583400             |3272273       |0.1782858581787033   |\n",
      "|CTVNC          |573535             |3253525       |0.17628111048785547  |\n",
      "|ABORIH         |576793             |3305082       |0.17451700139361143  |\n",
      "|DSNYXD         |568755             |3270708       |0.17389354231560872  |\n",
      "|ARTV           |562527             |3242532       |0.17348387001269377  |\n",
      "|DOCS           |560730             |3248640       |0.17260453605200946  |\n",
      "|CBUT           |548617             |3228337       |0.16993795876948412  |\n",
      "|CBXT           |547783             |3227623       |0.16971715717727875  |\n",
      "|CBRT           |547638             |3227418       |0.1696830097619831   |\n",
      "|TLTOON         |547784             |3234450       |0.16935924191129867  |\n",
      "|ABORI          |553459             |3279923       |0.16874146130869536  |\n",
      "|ABORIW         |552027             |3277562       |0.16842610452525383  |\n",
      "|CBOT           |542628             |3222558       |0.16838424630371276  |\n",
      "|CBLT           |542486             |3222596       |0.16833819690708982  |\n",
      "|CBET           |541716             |3222786       |0.16808934878083745  |\n",
      "|TSN5           |541203             |3222423       |0.16794908675862852  |\n",
      "|CBKT           |539627             |3221057       |0.1675310309628175   |\n",
      "|CBMT           |537621             |3219711       |0.16697803001573744  |\n",
      "|CBWT           |536659             |3216529       |0.1668441354018571   |\n",
      "|CBHT           |532878             |3212658       |0.1658682623547231   |\n",
      "|CBCT           |532872             |3212652       |0.16586670451701585  |\n",
      "|DSNYEN         |534514             |3223676       |0.16580884679477714  |\n",
      "|CBNT           |531741             |3211581       |0.16556985484719208  |\n",
      "|TSN1           |531325             |3212305       |0.16540303613760213  |\n",
      "|CBAT           |529914             |3209874       |0.16508872310875755  |\n",
      "|BLC            |535680             |3246344       |0.16501023921063201  |\n",
      "|CFYK           |529514             |3215834       |0.1646583747792952   |\n",
      "|TSN            |527765             |3208775       |0.16447553973089418  |\n",
      "|CJMT           |541588             |3295560       |0.16433868598963453  |\n",
      "|OMAB           |538455             |3281593       |0.16408341924181336  |\n",
      "|CJCO           |538455             |3281593       |0.16408341924181336  |\n",
      "|WILD           |545791             |3337400       |0.16353778390363757  |\n",
      "|OMON           |535780             |3287726       |0.16296370196299814  |\n",
      "|ABORIN         |528665             |3246416       |0.16284573511219758  |\n",
      "|RDS2           |523392             |3214106       |0.1628421713534028   |\n",
      "|CJEO           |532013             |3275789       |0.16240759096510796  |\n",
      "|TSN3           |518118             |3199218       |0.16195145188605464  |\n",
      "|RDS            |515760             |3200954       |0.16112696402385038  |\n",
      "|RDSINF         |511126             |3202140       |0.15962012903870537  |\n",
      "|CHNM           |523472             |3284582       |0.15937248636203938  |\n",
      "|OMBC           |523472             |3284582       |0.15937248636203938  |\n",
      "|SNEST          |513935             |3225332       |0.15934328621053584  |\n",
      "|SNONT          |513801             |3225127       |0.15931186585830573  |\n",
      "|SNWST          |512374             |3225692       |0.1588415756991058   |\n",
      "|SNPAC          |509469             |3225138       |0.15796812415468733  |\n",
      "|CKSA           |498376             |3179711       |0.15673625684849976  |\n",
      "|CHFD           |471785             |3011855       |0.15664266706066526  |\n",
      "|SPRTVA         |495977             |3174377       |0.15624388659570052  |\n",
      "|CFEM           |456170             |2922610       |0.1560830901146578   |\n",
      "|CHLF           |59322              |380714        |0.15581775295891404  |\n",
      "|SPTVA2         |492690             |3171090       |0.15536928942414122  |\n",
      "|SATV           |497323             |3206428       |0.15510187660536898  |\n",
      "|TSN2           |491667             |3172527       |0.154976458829192    |\n",
      "|CJON           |503435             |3250929       |0.15485881112752692  |\n",
      "|TRESR          |492385             |3187774       |0.15446044794894495  |\n",
      "|SMITH          |478445             |3165202       |0.15115780920143485  |\n",
      "|BC1            |477238             |3169344       |0.1505794259001232   |\n",
      "|CHOT           |433281             |2902386       |0.14928441633883294  |\n",
      "|FNTSY          |469317             |3156898       |0.14866397330544098  |\n",
      "|PRIDE          |463220             |3118798       |0.14852516899138707  |\n",
      "|CSCN           |467751             |3158319       |0.14810125259671364  |\n",
      "|NICK           |457749             |3150669       |0.14528628681718073  |\n",
      "|ESPN           |448632             |3130302       |0.1433190791176059   |\n",
      "|ATN1           |446926             |3129055       |0.14283098251708584  |\n",
      "|CHMG           |424518             |3022465       |0.14045423189350414  |\n",
      "|ASIDE          |435795             |3122660       |0.13955890170559715  |\n",
      "|CBOFT          |430362             |3108942       |0.13842715624800978  |\n",
      "|CBVT           |428352             |3106752       |0.13787775786416168  |\n",
      "|CBFT           |426372             |3104832       |0.13732530455754127  |\n",
      "|ATN9           |421803             |3103423       |0.1359154069554811   |\n",
      "|BBCE           |420117             |3105233       |0.13529322920373446  |\n",
      "|CKTM           |412842             |3091242       |0.13355214506014088  |\n",
      "|CBLFT          |413012             |3095207       |0.13343598667229686  |\n",
      "|CKSH           |412332             |3090762       |0.1334078780572558   |\n",
      "|CJBRT          |411987             |3091392       |0.1332690904291659   |\n",
      "|CKTV           |410517             |3090852       |0.13281677673340556  |\n",
      "|CBAFT          |406067             |3087707       |0.13151085902904647  |\n",
      "|CBWFT          |405922             |3087937       |0.1314541067385766   |\n",
      "|CBUFT          |405592             |3087607       |0.1313612775200989   |\n",
      "|CBKFT          |401496             |3083511       |0.13020741615645282  |\n",
      "|CBXFT          |401492             |3083507       |0.13020628784043622  |\n",
      "|CBC            |386381             |3066191       |0.12601335011419706  |\n",
      "|DSNYFR         |384755             |3074615       |0.1251392450762128   |\n",
      "|ATN10          |373025             |3055591       |0.12207949296879066  |\n",
      "|CFHD           |378901             |3177873       |0.11923100765826702  |\n",
      "|OMQC           |378901             |3177873       |0.11923100765826702  |\n",
      "|ATN5           |358626             |3039898       |0.11797303725322363  |\n",
      "|SCSD04         |310340             |2678400       |0.11586768219832735  |\n",
      "|FACHV2         |350805             |3041085       |0.11535521039365884  |\n",
      "|CKPR           |329475             |2961075       |0.11126871153212937  |\n",
      "|ATN2           |324115             |3013600       |0.10755076984337669  |\n",
      "|CITS           |315973             |3006102       |0.10511053849802834  |\n",
      "|CKCS           |314774             |3005153       |0.10474475010091     |\n",
      "|CKES           |303945             |2994495       |0.1015012548025627   |\n",
      "|FTV            |298418             |2944145       |0.10135981753616076  |\n",
      "|FACHTV         |298403             |2944130       |0.10135523906892699  |\n",
      "|ATN6           |296923             |2976605       |0.09975223450877761  |\n",
      "|CITL           |293980             |2976745       |0.09875887924561895  |\n",
      "|AMIFR          |277658             |2984391       |0.09303673680828015  |\n",
      "|SRC            |271077             |2949477       |0.09190680246023278  |\n",
      "|SCSD02         |245302             |2678400       |0.09158527479091995  |\n",
      "|AMITV          |270232             |3022307       |0.0894124918481147   |\n",
      "|FPTV           |263208             |2944246       |0.08939742127526029  |\n",
      "|SCSD01         |238388             |2678400       |0.08900388291517324  |\n",
      "|CHRGD          |260117             |2975210       |0.08742811431798092  |\n",
      "|SALT           |247090             |2936341       |0.08414894591602269  |\n",
      "|CKNO           |236085             |2963974       |0.07965150841404142  |\n",
      "|ATN7           |216641             |2896472       |0.07479478482788716  |\n",
      "|TTV            |198764             |2875870       |0.06911438973249834  |\n",
      "|SCSD03         |168676             |2678400       |0.06297640382317801  |\n",
      "|MVOLA          |180660             |2893653       |0.06243319430491493  |\n",
      "|YOOP           |177704             |2856104       |0.06221902283670343  |\n",
      "|FAMJR          |164015             |2678369       |0.06123689454291026  |\n",
      "|NATUR          |169205             |2855999       |0.059245468923483514 |\n",
      "|SN2            |168337             |2846737       |0.05913331649534186  |\n",
      "|THTV           |164303             |2854567       |0.057557941362034945 |\n",
      "|CFTV           |150                |2741          |0.05472455308281649  |\n",
      "|SLVSC          |146915             |2789718       |0.052663029023005195 |\n",
      "|TMN2           |138979             |2678400       |0.05188881421744325  |\n",
      "|MAGINO         |146586             |2850340       |0.05142754899415508  |\n",
      "|DSNYJR         |145313             |2832516       |0.05130174021964924  |\n",
      "|TCC            |140320             |2831838       |0.049550857075863805 |\n",
      "|MPIX2          |123942             |2699926       |0.045905702600737945 |\n",
      "|BBCKID         |123132             |2860479       |0.04304593741118183  |\n",
      "|MOVIEP         |107888             |2678400       |0.040280764635603344 |\n",
      "|SE04           |105856             |2678400       |0.039522102747909196 |\n",
      "|NEOCRI         |109835             |2793529       |0.03931765161557299  |\n",
      "|TMN4           |100801             |2678400       |0.037634781959378735 |\n",
      "|CICA           |102779             |2791916       |0.036813070307272856 |\n",
      "|TMN3           |96066              |2678400       |0.03586693548387097  |\n",
      "|TMN1           |94811              |2678400       |0.035398372162485064 |\n",
      "|SE03           |85473              |2678400       |0.0319119623655914   |\n",
      "|SE02           |76988              |2678400       |0.028744026284348866 |\n",
      "|2000SM         |78659              |2769589       |0.028400964908511697 |\n",
      "|70SM           |77216              |2767435       |0.027901648999886175 |\n",
      "|SE01           |70848              |2678400       |0.026451612903225806 |\n",
      "|90SM           |70660              |2761152       |0.025590767911364533 |\n",
      "|80SM           |69452              |2760482       |0.02515937434114767  |\n",
      "|ATN8           |63111              |2744672       |0.022994004383766076 |\n",
      "|CPOP           |41447              |2678400       |0.015474537037037037 |\n",
      "|CFTF           |665                |45780         |0.01452599388379205  |\n",
      "|ZEETV          |34532              |2717004       |0.012709587472083221 |\n",
      "|SAB            |18486              |2703832       |0.006836963243278428 |\n",
      "|IDNR           |12533              |2682430       |0.004672256125975329 |\n",
      "|OTN1           |7200               |2688750       |0.002677824267782427 |\n",
      "|CKRT           |780                |504780        |0.0015452276239153692|\n",
      "|PENT           |0                  |2678400       |0.0                  |\n",
      "|OTN3           |0                  |2678400       |0.0                  |\n",
      "|SKIN           |0                  |2678400       |0.0                  |\n",
      "|PLAY           |0                  |2678400       |0.0                  |\n",
      "|SNONE          |0                  |1800          |0.0                  |\n",
      "|ATN11          |0                  |2678400       |0.0                  |\n",
      "|TENCH2         |0                  |2678400       |0.0                  |\n",
      "|ATN14          |0                  |2678400       |0.0                  |\n",
      "|ATN13          |0                  |2678400       |0.0                  |\n",
      "|ZOOM           |0                  |2678400       |0.0                  |\n",
      "|TIMESN         |0                  |2678400       |0.0                  |\n",
      "|EURO           |0                  |null          |null                 |\n",
      "|NINOS          |0                  |null          |null                 |\n",
      "+---------------+-------------------+--------------+---------------------+\n",
      "\n"
     ]
    }
   ],
   "source": [
    "answer = (\n",
    "    full_log.groupby(\"LogIdentifierID\")\n",
    "    .agg(\n",
    "        F.sum(\n",
    "            F.when(\n",
    "                F.trim(F.col(\"ProgramClassCD\")).isin(\n",
    "                    [\"COM\", \"PRC\", \"PGI\", \"PRO\", \"LOC\", \"SPO\", \"MER\", \"SOL\"]\n",
    "                ),\n",
    "                F.col(\"duration_seconds\"),\n",
    "            ).otherwise(0)\n",
    "        ).alias(\"duration_commercial\"),\n",
    "        F.sum(\"duration_seconds\").alias(\"duration_total\"),\n",
    "    )\n",
    "    .withColumn(\n",
    "        \"commercial_ratio\", F.col(\"duration_commercial\") / F.col(\"duration_total\")\n",
    "    )\n",
    ")\n",
    " \n",
    "answer.orderBy(\"commercial_ratio\", ascending=False).show(1000, False)"
   ]
  },
  {
   "cell_type": "markdown",
   "id": "a86bb2da-0977-40f8-962b-9f03dc238344",
   "metadata": {},
   "source": [
    "<a id=\"null_values\">"
   ]
  },
  {
   "cell_type": "markdown",
   "id": "3e0fe90b-3705-4ca0-829b-91b36ddea8a8",
   "metadata": {},
   "source": [
    "## Taking care of null values: `dropna()` and `fillna()`"
   ]
  },
  {
   "cell_type": "markdown",
   "id": "5ab4b937-e17c-4835-8acc-a1ca7c8b5b47",
   "metadata": {},
   "source": [
    "[[back to top]](#top_of_page)"
   ]
  },
  {
   "cell_type": "markdown",
   "id": "ac46efd0-94d3-45a8-a453-a0623a37d848",
   "metadata": {},
   "source": [
    "#### `dropna()`"
   ]
  },
  {
   "cell_type": "markdown",
   "id": "b239d33c-7724-48ca-9a0a-aef1102e04db",
   "metadata": {},
   "source": [
    "dropna() has 3 parameters:"
   ]
  },
  {
   "cell_type": "markdown",
   "id": "964b28df-2726-4b6a-96b1-8955f7d48b4e",
   "metadata": {},
   "source": [
    "- `how`, which can take the value any or all. If any is selected, PySpark will drop records where at least one of the fields is null. In the case of all, only the records where all fields are null will be removed. By default, PySpark will take the any mode.\n",
    "\n",
    "- `thresh` takes an integer value. If set (its default is None), PySpark will ignore the how parameter and only drop the records with less than thresh non-null values.\n",
    "\n",
    "- `subset` will take an optional list of columns that dropna() will use to make its decision."
   ]
  },
  {
   "cell_type": "markdown",
   "id": "d90278d4-4843-45e2-bb46-6eb1097a9a28",
   "metadata": {},
   "source": [
    "<a id=\"dropna\">"
   ]
  },
  {
   "cell_type": "markdown",
   "id": "6a4da32d-df71-4349-988f-1ef65ed75bed",
   "metadata": {},
   "source": [
    "**Goal:**\n",
    "\n",
    "```\n",
    "we want to keep only the records that have a commercial_ratio and that are non-null.\n",
    "```"
   ]
  },
  {
   "cell_type": "code",
   "execution_count": 48,
   "id": "4831e5ca-6f2b-4264-ad6d-d761cd1024a4",
   "metadata": {},
   "outputs": [
    {
     "name": "stdout",
     "output_type": "stream",
     "text": [
      "+---------------+-------------------+--------------+---------------------+\n",
      "|LogIdentifierID|duration_commercial|duration_total|commercial_ratio     |\n",
      "+---------------+-------------------+--------------+---------------------+\n",
      "|HPITV          |403                |403           |1.0                  |\n",
      "|CIMT           |19935              |19935         |1.0                  |\n",
      "|TELENO         |545255             |545255        |1.0                  |\n",
      "|TANG           |271468             |271468        |1.0                  |\n",
      "|MSET           |101670             |101670        |1.0                  |\n",
      "|TLNSP          |234455             |234455        |1.0                  |\n",
      "|INVST          |623057             |633659        |0.9832686034602207   |\n",
      "|ZT�L�          |669624             |682023        |0.9818202611935375   |\n",
      "|CANALD         |660132             |673746        |0.9797935720583127   |\n",
      "|ONEBMS         |563058             |576441        |0.9767834002092148   |\n",
      "|MMAX           |701438             |719026        |0.9755391321037069   |\n",
      "|CANALVIE       |639073             |655108        |0.9755231198519939   |\n",
      "|RAPT           |465144             |477174        |0.9747890706534723   |\n",
      "|V              |468277             |480889        |0.9737735735273628   |\n",
      "|CFJP           |467425             |480037        |0.9737270252084735   |\n",
      "|CFRS           |453172             |465773        |0.9729460488263596   |\n",
      "|CFAP           |450101             |462702        |0.9727664890145277   |\n",
      "|CFKS           |452689             |467095        |0.9691583082670548   |\n",
      "|MPLU           |636819             |657243        |0.9689247356000749   |\n",
      "|CFKM           |452900             |468175        |0.9673733112618145   |\n",
      "|CIVM           |354250             |366846        |0.9656640661203884   |\n",
      "|unis           |329211             |341254        |0.9647095711698618   |\n",
      "|TV5            |351816             |366029        |0.9611697433809889   |\n",
      "|LEAF           |360124             |375471        |0.9591260044051338   |\n",
      "|VISION         |327648             |349476        |0.9375407753322117   |\n",
      "|CJIL           |122912             |131945        |0.9315396566751298   |\n",
      "|CHNU           |133281             |154868        |0.8606103262132914   |\n",
      "|RURAL          |87150              |101425        |0.8592556075918166   |\n",
      "|CIIT           |91190              |113576        |0.8028984996830316   |\n",
      "|CFTU           |161388             |247080        |0.6531811559009227   |\n",
      "|CHEK           |1421355            |3093750       |0.4594278787878788   |\n",
      "|VRAK           |486970             |1172579       |0.41529824429739914  |\n",
      "|CKVR           |1197360            |3251190       |0.3682836130770579   |\n",
      "|CHWI           |1152301            |3244711       |0.35513209034641297  |\n",
      "|CFPL           |1151246            |3243566       |0.3549321949977278   |\n",
      "|CIVI           |1147623            |3238173       |0.35440447437490213  |\n",
      "|CHRO           |1110492            |3292017       |0.3373287562002262   |\n",
      "|CESS           |1078980            |3248280       |0.3321696405482286   |\n",
      "|ASN            |1084525            |3282175       |0.33042875532230914  |\n",
      "|FAMCHA         |1260934            |3891648       |0.32401029075599846  |\n",
      "|CFVS           |920470             |2842735       |0.3237973289807175   |\n",
      "|CFGS           |917040             |2840800       |0.3228104759222754   |\n",
      "|ALLTV          |168088             |529135        |0.31766562408459087  |\n",
      "|CHAT           |883815             |2833845       |0.31187838431530307  |\n",
      "|CFTK           |849340             |2855520       |0.2974379447526195   |\n",
      "|CHCH           |918489             |3267565       |0.2810928015203982   |\n",
      "|CFTO           |926890             |3314121       |0.27967898577028416  |\n",
      "|CFCF           |924020             |3311341       |0.27904706884612607  |\n",
      "|CJOH           |924918             |3321405       |0.2784719117361478   |\n",
      "|CICI           |921809             |3318581       |0.2777720356983904   |\n",
      "|CKCO           |921474             |3319251       |0.2776150402605889   |\n",
      "|CITO           |920346             |3316429       |0.27751114225572143  |\n",
      "|CHBX           |919866             |3316728       |0.27734140393785683  |\n",
      "|CKNY           |919469             |3316091       |0.277274960186557    |\n",
      "|CKY            |916263             |3307701       |0.27700901623212015  |\n",
      "|CJCH           |912078             |3312649       |0.27533191714546273  |\n",
      "|CFQC           |912810             |3319310       |0.274999924683142    |\n",
      "|CKLT           |910820             |3314181       |0.2748250623608065   |\n",
      "|CKCW           |910820             |3314181       |0.2748250623608065   |\n",
      "|CJCB           |910297             |3312922       |0.27477163663980014  |\n",
      "|CKCK           |908193             |3314940       |0.2739696646093142   |\n",
      "|CICC           |897204             |3313074       |0.270807111462044    |\n",
      "|CIPA           |896405             |3310156       |0.2708044575542663   |\n",
      "|CFRE           |887346             |3321857       |0.26712347942732034  |\n",
      "|CIVT           |885624             |3325458       |0.2663163991245717   |\n",
      "|CHNB2          |886842             |3332360       |0.2661303100505348   |\n",
      "|CIHF           |886556             |3331633       |0.2661025389050955   |\n",
      "|CFSK           |880868             |3315758       |0.2656611248468676   |\n",
      "|CKMI           |865102             |3325143       |0.2601698633712896   |\n",
      "|CIII           |861596             |3312211       |0.2601271476968104   |\n",
      "|CJDC           |729451             |2826301       |0.2580938831355896   |\n",
      "|CFRN6          |858846             |3336378       |0.25741867378336625  |\n",
      "|CHEX           |779648             |3029346       |0.2573651210525308   |\n",
      "|CHAU           |24285              |94485         |0.25702492459120496  |\n",
      "|CFCNL          |854595             |3329280       |0.25669063581314877  |\n",
      "|OUTDR          |864848             |3372147       |0.256468060259532    |\n",
      "|CFCN           |853676             |3329051       |0.25643223849679686  |\n",
      "|CKND           |854712             |3333947       |0.2563664029452178   |\n",
      "|CFRN           |851021             |3328253       |0.2556960062831762   |\n",
      "|CKWS1          |757574             |3026228       |0.2503360619226311   |\n",
      "|CKWS           |757521             |3026239       |0.25031763849451416  |\n",
      "|CFMT           |798517             |3198204       |0.2496766935442517   |\n",
      "|DIY            |860310             |3483191       |0.24698903964784016  |\n",
      "|GAME           |821240             |3341794       |0.2457482418126312   |\n",
      "|CITY           |837431             |3412632       |0.24539153357291382  |\n",
      "|CFTM           |791848             |3244558       |0.24405419782910337  |\n",
      "|CHBC           |809760             |3325589       |0.2434937089339663   |\n",
      "|CHAN           |803024             |3319542       |0.24190807045068266  |\n",
      "|CHEX02         |711756             |2996872       |0.23749963295062318  |\n",
      "|CHEM           |769332             |3242111       |0.23729354115266257  |\n",
      "|CHLT           |768907             |3243696       |0.2370465666326314   |\n",
      "|CJPM           |766771             |3241561       |0.23654375160609348  |\n",
      "|CFCM           |768025             |3250014       |0.2363143666458052   |\n",
      "|CFER           |765392             |3240182       |0.236218829683024    |\n",
      "|CISA           |783975             |3332157       |0.23527552873409027  |\n",
      "|CITV           |783139             |3330110       |0.23516910852794654  |\n",
      "|CICT           |778169             |3326786       |0.2339101463093809   |\n",
      "|FYI            |794945             |3415798       |0.23272599843433364  |\n",
      "|COOK           |798691             |3476886       |0.2297144628843166   |\n",
      "|CJNT           |796196             |3470359       |0.22942756066447303  |\n",
      "|CKVU           |796336             |3472687       |0.22931407293545314  |\n",
      "|CKEM           |788490             |3470407       |0.22720389856290632  |\n",
      "|CAVE           |768530             |3394588       |0.22639860860876196  |\n",
      "|DEJA           |764998             |3387367       |0.2258385347675643   |\n",
      "|CHMI           |784825             |3475582       |0.22581110156514794  |\n",
      "|WTN            |760395             |3367923       |0.22577564867130276  |\n",
      "|CKAL           |784886             |3479747       |0.2255583523744686   |\n",
      "|FOOD           |773217             |3436925       |0.22497348647410112  |\n",
      "|HGTV           |760844             |3383399       |0.22487563541870173  |\n",
      "|DTOUR          |754876             |3420915       |0.22066493905870213  |\n",
      "|HISTORY        |746018             |3402249       |0.21927201683357098  |\n",
      "|FASH           |752060             |3433790       |0.21901747049178896  |\n",
      "|LIFENT         |728184             |3353799       |0.21712213522635077  |\n",
      "|WFN            |739561             |3432534       |0.21545627807328346  |\n",
      "|OWN            |732372             |3411927       |0.21465054791617758  |\n",
      "|13ST           |720130             |3401530       |0.2117076727237449   |\n",
      "|MAKE           |718540             |3411100       |0.2106475916859664   |\n",
      "|TDC            |710286             |3391896       |0.20940677426430526  |\n",
      "|FXC            |704296             |3390017       |0.2077558903096946   |\n",
      "|DIVA           |702757             |3386997       |0.20748675006207565  |\n",
      "|CMT            |701347             |3381987       |0.20737720162732737  |\n",
      "|COSMO          |271206             |1308274       |0.20730061133982636  |\n",
      "|BRAVO          |701000             |3383060       |0.2072088582525879   |\n",
      "|RAZER          |699421             |3382501       |0.20677628772319653  |\n",
      "|TRV            |700740             |3390796       |0.20665943925851038  |\n",
      "|CASA           |696398             |3374798       |0.20635249872733125  |\n",
      "|NGCE           |688251             |3339221       |0.20611124570670825  |\n",
      "|ANIMAL         |694930             |3379506       |0.2056306454256924   |\n",
      "|E!             |693881             |3375281       |0.20557725416046843  |\n",
      "|SPARK          |693152             |3374501       |0.20540874043302995  |\n",
      "|CHISTO         |695085             |3384668       |0.20536283026872945  |\n",
      "|FXX            |693089             |3381614       |0.20495804666055914  |\n",
      "|SHOW           |681739             |3343620       |0.20389248778270258  |\n",
      "|DISSCI         |686700             |3371651       |0.20366876642926565  |\n",
      "|TCN            |684995             |3366785       |0.20345671018493905  |\n",
      "|INVDIS         |681510             |3365495       |0.20249918659810814  |\n",
      "|COMGLD         |680320             |3361000       |0.20241594763463255  |\n",
      "|COTT           |679640             |3366389       |0.2018899182477129   |\n",
      "|NGWILD         |676734             |3358594       |0.20149324389908396  |\n",
      "|SERIEP         |678227             |3368489       |0.20134457912731793  |\n",
      "|MOICIE         |674049             |3352052       |0.20108548435406134  |\n",
      "|ZEST           |673845             |3367650       |0.2000935370362122   |\n",
      "|BBCCND         |668994             |3350299       |0.19968187913974245  |\n",
      "|TVADIK         |665865             |3340695       |0.19931930331862083  |\n",
      "|MTV1           |665840             |3346730       |0.19895241026315238  |\n",
      "|DISVEL         |666645             |3351586       |0.19890433961712456  |\n",
      "|ATN3           |661150             |3341356       |0.1978687694456981   |\n",
      "|CFJC           |575485             |2918305       |0.19719837371350835  |\n",
      "|BNN            |632353             |3220501       |0.1963523687774045   |\n",
      "|GUS            |652080             |3333360       |0.19562243502051985  |\n",
      "|MUCHM          |651611             |3335351       |0.19536504553793588  |\n",
      "|CEVASI         |651195             |3342135       |0.19484401438002955  |\n",
      "|SPACE          |646009             |3327649       |0.1941337562946092   |\n",
      "|RDI            |622330             |3301120       |0.18852086564559906  |\n",
      "|EXP            |622429             |3301729       |0.18851607748546292  |\n",
      "|CKPG           |582245             |3095120       |0.18811710046783323  |\n",
      "|PRIS           |615265             |3293665       |0.18680254367095622  |\n",
      "|FIGHT          |603183             |3255039       |0.18530745714567476  |\n",
      "|BOOK           |607620             |3292170       |0.18456519560047022  |\n",
      "|NEWSW          |604796             |3285296       |0.1840917835105269   |\n",
      "|CARTN          |602096             |3281623       |0.18347506706285274  |\n",
      "|LCN            |590110             |3268510       |0.18054403994480667  |\n",
      "|CP24           |590505             |3272810       |0.18042752252651392  |\n",
      "|TOON           |592124             |3282200       |0.18040460666626043  |\n",
      "|SN360          |587574             |3275150       |0.17940369143398013  |\n",
      "|YTV            |583400             |3272273       |0.1782858581787033   |\n",
      "|CTVNC          |573535             |3253525       |0.17628111048785547  |\n",
      "|ABORIH         |576793             |3305082       |0.17451700139361143  |\n",
      "|DSNYXD         |568755             |3270708       |0.17389354231560872  |\n",
      "|ARTV           |562527             |3242532       |0.17348387001269377  |\n",
      "|DOCS           |560730             |3248640       |0.17260453605200946  |\n",
      "|CBUT           |548617             |3228337       |0.16993795876948412  |\n",
      "|CBXT           |547783             |3227623       |0.16971715717727875  |\n",
      "|CBRT           |547638             |3227418       |0.1696830097619831   |\n",
      "|TLTOON         |547784             |3234450       |0.16935924191129867  |\n",
      "|ABORI          |553459             |3279923       |0.16874146130869536  |\n",
      "|ABORIW         |552027             |3277562       |0.16842610452525383  |\n",
      "|CBOT           |542628             |3222558       |0.16838424630371276  |\n",
      "|CBLT           |542486             |3222596       |0.16833819690708982  |\n",
      "|CBET           |541716             |3222786       |0.16808934878083745  |\n",
      "|TSN5           |541203             |3222423       |0.16794908675862852  |\n",
      "|CBKT           |539627             |3221057       |0.1675310309628175   |\n",
      "|CBMT           |537621             |3219711       |0.16697803001573744  |\n",
      "|CBWT           |536659             |3216529       |0.1668441354018571   |\n",
      "|CBHT           |532878             |3212658       |0.1658682623547231   |\n",
      "|CBCT           |532872             |3212652       |0.16586670451701585  |\n",
      "|DSNYEN         |534514             |3223676       |0.16580884679477714  |\n",
      "|CBNT           |531741             |3211581       |0.16556985484719208  |\n",
      "|TSN1           |531325             |3212305       |0.16540303613760213  |\n",
      "|CBAT           |529914             |3209874       |0.16508872310875755  |\n",
      "|BLC            |535680             |3246344       |0.16501023921063201  |\n",
      "|CFYK           |529514             |3215834       |0.1646583747792952   |\n",
      "|TSN            |527765             |3208775       |0.16447553973089418  |\n",
      "|CJMT           |541588             |3295560       |0.16433868598963453  |\n",
      "|OMAB           |538455             |3281593       |0.16408341924181336  |\n",
      "|CJCO           |538455             |3281593       |0.16408341924181336  |\n",
      "|WILD           |545791             |3337400       |0.16353778390363757  |\n",
      "|OMON           |535780             |3287726       |0.16296370196299814  |\n",
      "|ABORIN         |528665             |3246416       |0.16284573511219758  |\n",
      "|RDS2           |523392             |3214106       |0.1628421713534028   |\n",
      "|CJEO           |532013             |3275789       |0.16240759096510796  |\n",
      "|TSN3           |518118             |3199218       |0.16195145188605464  |\n",
      "|RDS            |515760             |3200954       |0.16112696402385038  |\n",
      "|RDSINF         |511126             |3202140       |0.15962012903870537  |\n",
      "|CHNM           |523472             |3284582       |0.15937248636203938  |\n",
      "|OMBC           |523472             |3284582       |0.15937248636203938  |\n",
      "|SNEST          |513935             |3225332       |0.15934328621053584  |\n",
      "|SNONT          |513801             |3225127       |0.15931186585830573  |\n",
      "|SNWST          |512374             |3225692       |0.1588415756991058   |\n",
      "|SNPAC          |509469             |3225138       |0.15796812415468733  |\n",
      "|CKSA           |498376             |3179711       |0.15673625684849976  |\n",
      "|CHFD           |471785             |3011855       |0.15664266706066526  |\n",
      "|SPRTVA         |495977             |3174377       |0.15624388659570052  |\n",
      "|CFEM           |456170             |2922610       |0.1560830901146578   |\n",
      "|CHLF           |59322              |380714        |0.15581775295891404  |\n",
      "|SPTVA2         |492690             |3171090       |0.15536928942414122  |\n",
      "|SATV           |497323             |3206428       |0.15510187660536898  |\n",
      "|TSN2           |491667             |3172527       |0.154976458829192    |\n",
      "|CJON           |503435             |3250929       |0.15485881112752692  |\n",
      "|TRESR          |492385             |3187774       |0.15446044794894495  |\n",
      "|SMITH          |478445             |3165202       |0.15115780920143485  |\n",
      "|BC1            |477238             |3169344       |0.1505794259001232   |\n",
      "|CHOT           |433281             |2902386       |0.14928441633883294  |\n",
      "|FNTSY          |469317             |3156898       |0.14866397330544098  |\n",
      "|PRIDE          |463220             |3118798       |0.14852516899138707  |\n",
      "|CSCN           |467751             |3158319       |0.14810125259671364  |\n",
      "|NICK           |457749             |3150669       |0.14528628681718073  |\n",
      "|ESPN           |448632             |3130302       |0.1433190791176059   |\n",
      "|ATN1           |446926             |3129055       |0.14283098251708584  |\n",
      "|CHMG           |424518             |3022465       |0.14045423189350414  |\n",
      "|ASIDE          |435795             |3122660       |0.13955890170559715  |\n",
      "|CBOFT          |430362             |3108942       |0.13842715624800978  |\n",
      "|CBVT           |428352             |3106752       |0.13787775786416168  |\n",
      "|CBFT           |426372             |3104832       |0.13732530455754127  |\n",
      "|ATN9           |421803             |3103423       |0.1359154069554811   |\n",
      "|BBCE           |420117             |3105233       |0.13529322920373446  |\n",
      "|CKTM           |412842             |3091242       |0.13355214506014088  |\n",
      "|CBLFT          |413012             |3095207       |0.13343598667229686  |\n",
      "|CKSH           |412332             |3090762       |0.1334078780572558   |\n",
      "|CJBRT          |411987             |3091392       |0.1332690904291659   |\n",
      "|CKTV           |410517             |3090852       |0.13281677673340556  |\n",
      "|CBAFT          |406067             |3087707       |0.13151085902904647  |\n",
      "|CBWFT          |405922             |3087937       |0.1314541067385766   |\n",
      "|CBUFT          |405592             |3087607       |0.1313612775200989   |\n",
      "|CBKFT          |401496             |3083511       |0.13020741615645282  |\n",
      "|CBXFT          |401492             |3083507       |0.13020628784043622  |\n",
      "|CBC            |386381             |3066191       |0.12601335011419706  |\n",
      "|DSNYFR         |384755             |3074615       |0.1251392450762128   |\n",
      "|ATN10          |373025             |3055591       |0.12207949296879066  |\n",
      "|CFHD           |378901             |3177873       |0.11923100765826702  |\n",
      "|OMQC           |378901             |3177873       |0.11923100765826702  |\n",
      "|ATN5           |358626             |3039898       |0.11797303725322363  |\n",
      "|SCSD04         |310340             |2678400       |0.11586768219832735  |\n",
      "|FACHV2         |350805             |3041085       |0.11535521039365884  |\n",
      "|CKPR           |329475             |2961075       |0.11126871153212937  |\n",
      "|ATN2           |324115             |3013600       |0.10755076984337669  |\n",
      "|CITS           |315973             |3006102       |0.10511053849802834  |\n",
      "|CKCS           |314774             |3005153       |0.10474475010091     |\n",
      "|CKES           |303945             |2994495       |0.1015012548025627   |\n",
      "|FTV            |298418             |2944145       |0.10135981753616076  |\n",
      "|FACHTV         |298403             |2944130       |0.10135523906892699  |\n",
      "|ATN6           |296923             |2976605       |0.09975223450877761  |\n",
      "|CITL           |293980             |2976745       |0.09875887924561895  |\n",
      "|AMIFR          |277658             |2984391       |0.09303673680828015  |\n",
      "|SRC            |271077             |2949477       |0.09190680246023278  |\n",
      "|SCSD02         |245302             |2678400       |0.09158527479091995  |\n",
      "|AMITV          |270232             |3022307       |0.0894124918481147   |\n",
      "|FPTV           |263208             |2944246       |0.08939742127526029  |\n",
      "|SCSD01         |238388             |2678400       |0.08900388291517324  |\n",
      "|CHRGD          |260117             |2975210       |0.08742811431798092  |\n",
      "|SALT           |247090             |2936341       |0.08414894591602269  |\n",
      "|CKNO           |236085             |2963974       |0.07965150841404142  |\n",
      "|ATN7           |216641             |2896472       |0.07479478482788716  |\n",
      "|TTV            |198764             |2875870       |0.06911438973249834  |\n",
      "|SCSD03         |168676             |2678400       |0.06297640382317801  |\n",
      "|MVOLA          |180660             |2893653       |0.06243319430491493  |\n",
      "|YOOP           |177704             |2856104       |0.06221902283670343  |\n",
      "|FAMJR          |164015             |2678369       |0.06123689454291026  |\n",
      "|NATUR          |169205             |2855999       |0.059245468923483514 |\n",
      "|SN2            |168337             |2846737       |0.05913331649534186  |\n",
      "|THTV           |164303             |2854567       |0.057557941362034945 |\n",
      "|CFTV           |150                |2741          |0.05472455308281649  |\n",
      "|SLVSC          |146915             |2789718       |0.052663029023005195 |\n",
      "|TMN2           |138979             |2678400       |0.05188881421744325  |\n",
      "|MAGINO         |146586             |2850340       |0.05142754899415508  |\n",
      "|DSNYJR         |145313             |2832516       |0.05130174021964924  |\n",
      "|TCC            |140320             |2831838       |0.049550857075863805 |\n",
      "|MPIX2          |123942             |2699926       |0.045905702600737945 |\n",
      "|BBCKID         |123132             |2860479       |0.04304593741118183  |\n",
      "|MOVIEP         |107888             |2678400       |0.040280764635603344 |\n",
      "|SE04           |105856             |2678400       |0.039522102747909196 |\n",
      "|NEOCRI         |109835             |2793529       |0.03931765161557299  |\n",
      "|TMN4           |100801             |2678400       |0.037634781959378735 |\n",
      "|CICA           |102779             |2791916       |0.036813070307272856 |\n",
      "|TMN3           |96066              |2678400       |0.03586693548387097  |\n",
      "|TMN1           |94811              |2678400       |0.035398372162485064 |\n",
      "|SE03           |85473              |2678400       |0.0319119623655914   |\n",
      "|SE02           |76988              |2678400       |0.028744026284348866 |\n",
      "|2000SM         |78659              |2769589       |0.028400964908511697 |\n",
      "|70SM           |77216              |2767435       |0.027901648999886175 |\n",
      "|SE01           |70848              |2678400       |0.026451612903225806 |\n",
      "|90SM           |70660              |2761152       |0.025590767911364533 |\n",
      "|80SM           |69452              |2760482       |0.02515937434114767  |\n",
      "|ATN8           |63111              |2744672       |0.022994004383766076 |\n",
      "|CPOP           |41447              |2678400       |0.015474537037037037 |\n",
      "|CFTF           |665                |45780         |0.01452599388379205  |\n",
      "|ZEETV          |34532              |2717004       |0.012709587472083221 |\n",
      "|SAB            |18486              |2703832       |0.006836963243278428 |\n",
      "|IDNR           |12533              |2682430       |0.004672256125975329 |\n",
      "|OTN1           |7200               |2688750       |0.002677824267782427 |\n",
      "|CKRT           |780                |504780        |0.0015452276239153692|\n",
      "|OTN3           |0                  |2678400       |0.0                  |\n",
      "|PLAY           |0                  |2678400       |0.0                  |\n",
      "|PENT           |0                  |2678400       |0.0                  |\n",
      "|ATN11          |0                  |2678400       |0.0                  |\n",
      "|SKIN           |0                  |2678400       |0.0                  |\n",
      "|ATN14          |0                  |2678400       |0.0                  |\n",
      "|SNONE          |0                  |1800          |0.0                  |\n",
      "|ZOOM           |0                  |2678400       |0.0                  |\n",
      "|TENCH2         |0                  |2678400       |0.0                  |\n",
      "|ATN13          |0                  |2678400       |0.0                  |\n",
      "|TIMESN         |0                  |2678400       |0.0                  |\n",
      "+---------------+-------------------+--------------+---------------------+\n",
      "\n"
     ]
    }
   ],
   "source": [
    "answer_no_null = answer.dropna(subset=[\"commercial_ratio\"])\n",
    " \n",
    "answer_no_null.orderBy(\n",
    "    \"commercial_ratio\", ascending=False).show(1000, False)"
   ]
  },
  {
   "cell_type": "code",
   "execution_count": 49,
   "id": "4e857259-4a8a-4c37-a3ad-590ce78d60e7",
   "metadata": {},
   "outputs": [
    {
     "name": "stdout",
     "output_type": "stream",
     "text": [
      "322\n"
     ]
    }
   ],
   "source": [
    "print(answer_no_null.count())"
   ]
  },
  {
   "cell_type": "markdown",
   "id": "81711b2d-fa75-4ebb-9c27-4bfeaf2dc06e",
   "metadata": {},
   "source": [
    "#### `fillna()`"
   ]
  },
  {
   "cell_type": "markdown",
   "id": "dfa1ac38-9c50-4525-ad72-9093b652fb75",
   "metadata": {},
   "source": [
    "fillna() takes on two parameters:"
   ]
  },
  {
   "cell_type": "markdown",
   "id": "f8c6b93b-8757-4f40-9930-bae0ad5a3cc2",
   "metadata": {},
   "source": [
    "- The `value`, which is a Python int, float, string, or bool. PySpark will only fill the compatible columns; for instance, if we were to fillna(\"zero\"), our commercial_ratio, being a double, would not be filled.\n",
    "\n",
    "- The same `subset` parameter we encountered in dropna(). We can limit the scope of our filling to only the columns we want."
   ]
  },
  {
   "cell_type": "code",
   "execution_count": 50,
   "id": "d9929034-6805-49f1-add9-29346f4f4cd4",
   "metadata": {},
   "outputs": [
    {
     "name": "stdout",
     "output_type": "stream",
     "text": [
      "+---------------+-------------------+--------------+---------------------+\n",
      "|LogIdentifierID|duration_commercial|duration_total|commercial_ratio     |\n",
      "+---------------+-------------------+--------------+---------------------+\n",
      "|HPITV          |403                |403           |1.0                  |\n",
      "|CIMT           |19935              |19935         |1.0                  |\n",
      "|TELENO         |545255             |545255        |1.0                  |\n",
      "|TANG           |271468             |271468        |1.0                  |\n",
      "|MSET           |101670             |101670        |1.0                  |\n",
      "|TLNSP          |234455             |234455        |1.0                  |\n",
      "|INVST          |623057             |633659        |0.9832686034602207   |\n",
      "|ZT�L�          |669624             |682023        |0.9818202611935375   |\n",
      "|CANALD         |660132             |673746        |0.9797935720583127   |\n",
      "|ONEBMS         |563058             |576441        |0.9767834002092148   |\n",
      "|MMAX           |701438             |719026        |0.9755391321037069   |\n",
      "|CANALVIE       |639073             |655108        |0.9755231198519939   |\n",
      "|RAPT           |465144             |477174        |0.9747890706534723   |\n",
      "|V              |468277             |480889        |0.9737735735273628   |\n",
      "|CFJP           |467425             |480037        |0.9737270252084735   |\n",
      "|CFRS           |453172             |465773        |0.9729460488263596   |\n",
      "|CFAP           |450101             |462702        |0.9727664890145277   |\n",
      "|CFKS           |452689             |467095        |0.9691583082670548   |\n",
      "|MPLU           |636819             |657243        |0.9689247356000749   |\n",
      "|CFKM           |452900             |468175        |0.9673733112618145   |\n",
      "|CIVM           |354250             |366846        |0.9656640661203884   |\n",
      "|unis           |329211             |341254        |0.9647095711698618   |\n",
      "|TV5            |351816             |366029        |0.9611697433809889   |\n",
      "|LEAF           |360124             |375471        |0.9591260044051338   |\n",
      "|VISION         |327648             |349476        |0.9375407753322117   |\n",
      "|CJIL           |122912             |131945        |0.9315396566751298   |\n",
      "|CHNU           |133281             |154868        |0.8606103262132914   |\n",
      "|RURAL          |87150              |101425        |0.8592556075918166   |\n",
      "|CIIT           |91190              |113576        |0.8028984996830316   |\n",
      "|CFTU           |161388             |247080        |0.6531811559009227   |\n",
      "|CHEK           |1421355            |3093750       |0.4594278787878788   |\n",
      "|VRAK           |486970             |1172579       |0.41529824429739914  |\n",
      "|CKVR           |1197360            |3251190       |0.3682836130770579   |\n",
      "|CHWI           |1152301            |3244711       |0.35513209034641297  |\n",
      "|CFPL           |1151246            |3243566       |0.3549321949977278   |\n",
      "|CIVI           |1147623            |3238173       |0.35440447437490213  |\n",
      "|CHRO           |1110492            |3292017       |0.3373287562002262   |\n",
      "|CESS           |1078980            |3248280       |0.3321696405482286   |\n",
      "|ASN            |1084525            |3282175       |0.33042875532230914  |\n",
      "|FAMCHA         |1260934            |3891648       |0.32401029075599846  |\n",
      "|CFVS           |920470             |2842735       |0.3237973289807175   |\n",
      "|CFGS           |917040             |2840800       |0.3228104759222754   |\n",
      "|ALLTV          |168088             |529135        |0.31766562408459087  |\n",
      "|CHAT           |883815             |2833845       |0.31187838431530307  |\n",
      "|CFTK           |849340             |2855520       |0.2974379447526195   |\n",
      "|CHCH           |918489             |3267565       |0.2810928015203982   |\n",
      "|CFTO           |926890             |3314121       |0.27967898577028416  |\n",
      "|CFCF           |924020             |3311341       |0.27904706884612607  |\n",
      "|CJOH           |924918             |3321405       |0.2784719117361478   |\n",
      "|CICI           |921809             |3318581       |0.2777720356983904   |\n",
      "|CKCO           |921474             |3319251       |0.2776150402605889   |\n",
      "|CITO           |920346             |3316429       |0.27751114225572143  |\n",
      "|CHBX           |919866             |3316728       |0.27734140393785683  |\n",
      "|CKNY           |919469             |3316091       |0.277274960186557    |\n",
      "|CKY            |916263             |3307701       |0.27700901623212015  |\n",
      "|CJCH           |912078             |3312649       |0.27533191714546273  |\n",
      "|CFQC           |912810             |3319310       |0.274999924683142    |\n",
      "|CKLT           |910820             |3314181       |0.2748250623608065   |\n",
      "|CKCW           |910820             |3314181       |0.2748250623608065   |\n",
      "|CJCB           |910297             |3312922       |0.27477163663980014  |\n",
      "|CKCK           |908193             |3314940       |0.2739696646093142   |\n",
      "|CICC           |897204             |3313074       |0.270807111462044    |\n",
      "|CIPA           |896405             |3310156       |0.2708044575542663   |\n",
      "|CFRE           |887346             |3321857       |0.26712347942732034  |\n",
      "|CIVT           |885624             |3325458       |0.2663163991245717   |\n",
      "|CHNB2          |886842             |3332360       |0.2661303100505348   |\n",
      "|CIHF           |886556             |3331633       |0.2661025389050955   |\n",
      "|CFSK           |880868             |3315758       |0.2656611248468676   |\n",
      "|CKMI           |865102             |3325143       |0.2601698633712896   |\n",
      "|CIII           |861596             |3312211       |0.2601271476968104   |\n",
      "|CJDC           |729451             |2826301       |0.2580938831355896   |\n",
      "|CFRN6          |858846             |3336378       |0.25741867378336625  |\n",
      "|CHEX           |779648             |3029346       |0.2573651210525308   |\n",
      "|CHAU           |24285              |94485         |0.25702492459120496  |\n",
      "|CFCNL          |854595             |3329280       |0.25669063581314877  |\n",
      "|OUTDR          |864848             |3372147       |0.256468060259532    |\n",
      "|CFCN           |853676             |3329051       |0.25643223849679686  |\n",
      "|CKND           |854712             |3333947       |0.2563664029452178   |\n",
      "|CFRN           |851021             |3328253       |0.2556960062831762   |\n",
      "|CKWS1          |757574             |3026228       |0.2503360619226311   |\n",
      "|CKWS           |757521             |3026239       |0.25031763849451416  |\n",
      "|CFMT           |798517             |3198204       |0.2496766935442517   |\n",
      "|DIY            |860310             |3483191       |0.24698903964784016  |\n",
      "|GAME           |821240             |3341794       |0.2457482418126312   |\n",
      "|CITY           |837431             |3412632       |0.24539153357291382  |\n",
      "|CFTM           |791848             |3244558       |0.24405419782910337  |\n",
      "|CHBC           |809760             |3325589       |0.2434937089339663   |\n",
      "|CHAN           |803024             |3319542       |0.24190807045068266  |\n",
      "|CHEX02         |711756             |2996872       |0.23749963295062318  |\n",
      "|CHEM           |769332             |3242111       |0.23729354115266257  |\n",
      "|CHLT           |768907             |3243696       |0.2370465666326314   |\n",
      "|CJPM           |766771             |3241561       |0.23654375160609348  |\n",
      "|CFCM           |768025             |3250014       |0.2363143666458052   |\n",
      "|CFER           |765392             |3240182       |0.236218829683024    |\n",
      "|CISA           |783975             |3332157       |0.23527552873409027  |\n",
      "|CITV           |783139             |3330110       |0.23516910852794654  |\n",
      "|CICT           |778169             |3326786       |0.2339101463093809   |\n",
      "|FYI            |794945             |3415798       |0.23272599843433364  |\n",
      "|COOK           |798691             |3476886       |0.2297144628843166   |\n",
      "|CJNT           |796196             |3470359       |0.22942756066447303  |\n",
      "|CKVU           |796336             |3472687       |0.22931407293545314  |\n",
      "|CKEM           |788490             |3470407       |0.22720389856290632  |\n",
      "|CAVE           |768530             |3394588       |0.22639860860876196  |\n",
      "|DEJA           |764998             |3387367       |0.2258385347675643   |\n",
      "|CHMI           |784825             |3475582       |0.22581110156514794  |\n",
      "|WTN            |760395             |3367923       |0.22577564867130276  |\n",
      "|CKAL           |784886             |3479747       |0.2255583523744686   |\n",
      "|FOOD           |773217             |3436925       |0.22497348647410112  |\n",
      "|HGTV           |760844             |3383399       |0.22487563541870173  |\n",
      "|DTOUR          |754876             |3420915       |0.22066493905870213  |\n",
      "|HISTORY        |746018             |3402249       |0.21927201683357098  |\n",
      "|FASH           |752060             |3433790       |0.21901747049178896  |\n",
      "|LIFENT         |728184             |3353799       |0.21712213522635077  |\n",
      "|WFN            |739561             |3432534       |0.21545627807328346  |\n",
      "|OWN            |732372             |3411927       |0.21465054791617758  |\n",
      "|13ST           |720130             |3401530       |0.2117076727237449   |\n",
      "|MAKE           |718540             |3411100       |0.2106475916859664   |\n",
      "|TDC            |710286             |3391896       |0.20940677426430526  |\n",
      "|FXC            |704296             |3390017       |0.2077558903096946   |\n",
      "|DIVA           |702757             |3386997       |0.20748675006207565  |\n",
      "|CMT            |701347             |3381987       |0.20737720162732737  |\n",
      "|COSMO          |271206             |1308274       |0.20730061133982636  |\n",
      "|BRAVO          |701000             |3383060       |0.2072088582525879   |\n",
      "|RAZER          |699421             |3382501       |0.20677628772319653  |\n",
      "|TRV            |700740             |3390796       |0.20665943925851038  |\n",
      "|CASA           |696398             |3374798       |0.20635249872733125  |\n",
      "|NGCE           |688251             |3339221       |0.20611124570670825  |\n",
      "|ANIMAL         |694930             |3379506       |0.2056306454256924   |\n",
      "|E!             |693881             |3375281       |0.20557725416046843  |\n",
      "|SPARK          |693152             |3374501       |0.20540874043302995  |\n",
      "|CHISTO         |695085             |3384668       |0.20536283026872945  |\n",
      "|FXX            |693089             |3381614       |0.20495804666055914  |\n",
      "|SHOW           |681739             |3343620       |0.20389248778270258  |\n",
      "|DISSCI         |686700             |3371651       |0.20366876642926565  |\n",
      "|TCN            |684995             |3366785       |0.20345671018493905  |\n",
      "|INVDIS         |681510             |3365495       |0.20249918659810814  |\n",
      "|COMGLD         |680320             |3361000       |0.20241594763463255  |\n",
      "|COTT           |679640             |3366389       |0.2018899182477129   |\n",
      "|NGWILD         |676734             |3358594       |0.20149324389908396  |\n",
      "|SERIEP         |678227             |3368489       |0.20134457912731793  |\n",
      "|MOICIE         |674049             |3352052       |0.20108548435406134  |\n",
      "|ZEST           |673845             |3367650       |0.2000935370362122   |\n",
      "|BBCCND         |668994             |3350299       |0.19968187913974245  |\n",
      "|TVADIK         |665865             |3340695       |0.19931930331862083  |\n",
      "|MTV1           |665840             |3346730       |0.19895241026315238  |\n",
      "|DISVEL         |666645             |3351586       |0.19890433961712456  |\n",
      "|ATN3           |661150             |3341356       |0.1978687694456981   |\n",
      "|CFJC           |575485             |2918305       |0.19719837371350835  |\n",
      "|BNN            |632353             |3220501       |0.1963523687774045   |\n",
      "|GUS            |652080             |3333360       |0.19562243502051985  |\n",
      "|MUCHM          |651611             |3335351       |0.19536504553793588  |\n",
      "|CEVASI         |651195             |3342135       |0.19484401438002955  |\n",
      "|SPACE          |646009             |3327649       |0.1941337562946092   |\n",
      "|RDI            |622330             |3301120       |0.18852086564559906  |\n",
      "|EXP            |622429             |3301729       |0.18851607748546292  |\n",
      "|CKPG           |582245             |3095120       |0.18811710046783323  |\n",
      "|PRIS           |615265             |3293665       |0.18680254367095622  |\n",
      "|FIGHT          |603183             |3255039       |0.18530745714567476  |\n",
      "|BOOK           |607620             |3292170       |0.18456519560047022  |\n",
      "|NEWSW          |604796             |3285296       |0.1840917835105269   |\n",
      "|CARTN          |602096             |3281623       |0.18347506706285274  |\n",
      "|LCN            |590110             |3268510       |0.18054403994480667  |\n",
      "|CP24           |590505             |3272810       |0.18042752252651392  |\n",
      "|TOON           |592124             |3282200       |0.18040460666626043  |\n",
      "|SN360          |587574             |3275150       |0.17940369143398013  |\n",
      "|YTV            |583400             |3272273       |0.1782858581787033   |\n",
      "|CTVNC          |573535             |3253525       |0.17628111048785547  |\n",
      "|ABORIH         |576793             |3305082       |0.17451700139361143  |\n",
      "|DSNYXD         |568755             |3270708       |0.17389354231560872  |\n",
      "|ARTV           |562527             |3242532       |0.17348387001269377  |\n",
      "|DOCS           |560730             |3248640       |0.17260453605200946  |\n",
      "|CBUT           |548617             |3228337       |0.16993795876948412  |\n",
      "|CBXT           |547783             |3227623       |0.16971715717727875  |\n",
      "|CBRT           |547638             |3227418       |0.1696830097619831   |\n",
      "|TLTOON         |547784             |3234450       |0.16935924191129867  |\n",
      "|ABORI          |553459             |3279923       |0.16874146130869536  |\n",
      "|ABORIW         |552027             |3277562       |0.16842610452525383  |\n",
      "|CBOT           |542628             |3222558       |0.16838424630371276  |\n",
      "|CBLT           |542486             |3222596       |0.16833819690708982  |\n",
      "|CBET           |541716             |3222786       |0.16808934878083745  |\n",
      "|TSN5           |541203             |3222423       |0.16794908675862852  |\n",
      "|CBKT           |539627             |3221057       |0.1675310309628175   |\n",
      "|CBMT           |537621             |3219711       |0.16697803001573744  |\n",
      "|CBWT           |536659             |3216529       |0.1668441354018571   |\n",
      "|CBHT           |532878             |3212658       |0.1658682623547231   |\n",
      "|CBCT           |532872             |3212652       |0.16586670451701585  |\n",
      "|DSNYEN         |534514             |3223676       |0.16580884679477714  |\n",
      "|CBNT           |531741             |3211581       |0.16556985484719208  |\n",
      "|TSN1           |531325             |3212305       |0.16540303613760213  |\n",
      "|CBAT           |529914             |3209874       |0.16508872310875755  |\n",
      "|BLC            |535680             |3246344       |0.16501023921063201  |\n",
      "|CFYK           |529514             |3215834       |0.1646583747792952   |\n",
      "|TSN            |527765             |3208775       |0.16447553973089418  |\n",
      "|CJMT           |541588             |3295560       |0.16433868598963453  |\n",
      "|OMAB           |538455             |3281593       |0.16408341924181336  |\n",
      "|CJCO           |538455             |3281593       |0.16408341924181336  |\n",
      "|WILD           |545791             |3337400       |0.16353778390363757  |\n",
      "|OMON           |535780             |3287726       |0.16296370196299814  |\n",
      "|ABORIN         |528665             |3246416       |0.16284573511219758  |\n",
      "|RDS2           |523392             |3214106       |0.1628421713534028   |\n",
      "|CJEO           |532013             |3275789       |0.16240759096510796  |\n",
      "|TSN3           |518118             |3199218       |0.16195145188605464  |\n",
      "|RDS            |515760             |3200954       |0.16112696402385038  |\n",
      "|RDSINF         |511126             |3202140       |0.15962012903870537  |\n",
      "|CHNM           |523472             |3284582       |0.15937248636203938  |\n",
      "|OMBC           |523472             |3284582       |0.15937248636203938  |\n",
      "|SNEST          |513935             |3225332       |0.15934328621053584  |\n",
      "|SNONT          |513801             |3225127       |0.15931186585830573  |\n",
      "|SNWST          |512374             |3225692       |0.1588415756991058   |\n",
      "|SNPAC          |509469             |3225138       |0.15796812415468733  |\n",
      "|CKSA           |498376             |3179711       |0.15673625684849976  |\n",
      "|CHFD           |471785             |3011855       |0.15664266706066526  |\n",
      "|SPRTVA         |495977             |3174377       |0.15624388659570052  |\n",
      "|CFEM           |456170             |2922610       |0.1560830901146578   |\n",
      "|CHLF           |59322              |380714        |0.15581775295891404  |\n",
      "|SPTVA2         |492690             |3171090       |0.15536928942414122  |\n",
      "|SATV           |497323             |3206428       |0.15510187660536898  |\n",
      "|TSN2           |491667             |3172527       |0.154976458829192    |\n",
      "|CJON           |503435             |3250929       |0.15485881112752692  |\n",
      "|TRESR          |492385             |3187774       |0.15446044794894495  |\n",
      "|SMITH          |478445             |3165202       |0.15115780920143485  |\n",
      "|BC1            |477238             |3169344       |0.1505794259001232   |\n",
      "|CHOT           |433281             |2902386       |0.14928441633883294  |\n",
      "|FNTSY          |469317             |3156898       |0.14866397330544098  |\n",
      "|PRIDE          |463220             |3118798       |0.14852516899138707  |\n",
      "|CSCN           |467751             |3158319       |0.14810125259671364  |\n",
      "|NICK           |457749             |3150669       |0.14528628681718073  |\n",
      "|ESPN           |448632             |3130302       |0.1433190791176059   |\n",
      "|ATN1           |446926             |3129055       |0.14283098251708584  |\n",
      "|CHMG           |424518             |3022465       |0.14045423189350414  |\n",
      "|ASIDE          |435795             |3122660       |0.13955890170559715  |\n",
      "|CBOFT          |430362             |3108942       |0.13842715624800978  |\n",
      "|CBVT           |428352             |3106752       |0.13787775786416168  |\n",
      "|CBFT           |426372             |3104832       |0.13732530455754127  |\n",
      "|ATN9           |421803             |3103423       |0.1359154069554811   |\n",
      "|BBCE           |420117             |3105233       |0.13529322920373446  |\n",
      "|CKTM           |412842             |3091242       |0.13355214506014088  |\n",
      "|CBLFT          |413012             |3095207       |0.13343598667229686  |\n",
      "|CKSH           |412332             |3090762       |0.1334078780572558   |\n",
      "|CJBRT          |411987             |3091392       |0.1332690904291659   |\n",
      "|CKTV           |410517             |3090852       |0.13281677673340556  |\n",
      "|CBAFT          |406067             |3087707       |0.13151085902904647  |\n",
      "|CBWFT          |405922             |3087937       |0.1314541067385766   |\n",
      "|CBUFT          |405592             |3087607       |0.1313612775200989   |\n",
      "|CBKFT          |401496             |3083511       |0.13020741615645282  |\n",
      "|CBXFT          |401492             |3083507       |0.13020628784043622  |\n",
      "|CBC            |386381             |3066191       |0.12601335011419706  |\n",
      "|DSNYFR         |384755             |3074615       |0.1251392450762128   |\n",
      "|ATN10          |373025             |3055591       |0.12207949296879066  |\n",
      "|CFHD           |378901             |3177873       |0.11923100765826702  |\n",
      "|OMQC           |378901             |3177873       |0.11923100765826702  |\n",
      "|ATN5           |358626             |3039898       |0.11797303725322363  |\n",
      "|SCSD04         |310340             |2678400       |0.11586768219832735  |\n",
      "|FACHV2         |350805             |3041085       |0.11535521039365884  |\n",
      "|CKPR           |329475             |2961075       |0.11126871153212937  |\n",
      "|ATN2           |324115             |3013600       |0.10755076984337669  |\n",
      "|CITS           |315973             |3006102       |0.10511053849802834  |\n",
      "|CKCS           |314774             |3005153       |0.10474475010091     |\n",
      "|CKES           |303945             |2994495       |0.1015012548025627   |\n",
      "|FTV            |298418             |2944145       |0.10135981753616076  |\n",
      "|FACHTV         |298403             |2944130       |0.10135523906892699  |\n",
      "|ATN6           |296923             |2976605       |0.09975223450877761  |\n",
      "|CITL           |293980             |2976745       |0.09875887924561895  |\n",
      "|AMIFR          |277658             |2984391       |0.09303673680828015  |\n",
      "|SRC            |271077             |2949477       |0.09190680246023278  |\n",
      "|SCSD02         |245302             |2678400       |0.09158527479091995  |\n",
      "|AMITV          |270232             |3022307       |0.0894124918481147   |\n",
      "|FPTV           |263208             |2944246       |0.08939742127526029  |\n",
      "|SCSD01         |238388             |2678400       |0.08900388291517324  |\n",
      "|CHRGD          |260117             |2975210       |0.08742811431798092  |\n",
      "|SALT           |247090             |2936341       |0.08414894591602269  |\n",
      "|CKNO           |236085             |2963974       |0.07965150841404142  |\n",
      "|ATN7           |216641             |2896472       |0.07479478482788716  |\n",
      "|TTV            |198764             |2875870       |0.06911438973249834  |\n",
      "|SCSD03         |168676             |2678400       |0.06297640382317801  |\n",
      "|MVOLA          |180660             |2893653       |0.06243319430491493  |\n",
      "|YOOP           |177704             |2856104       |0.06221902283670343  |\n",
      "|FAMJR          |164015             |2678369       |0.06123689454291026  |\n",
      "|NATUR          |169205             |2855999       |0.059245468923483514 |\n",
      "|SN2            |168337             |2846737       |0.05913331649534186  |\n",
      "|THTV           |164303             |2854567       |0.057557941362034945 |\n",
      "|CFTV           |150                |2741          |0.05472455308281649  |\n",
      "|SLVSC          |146915             |2789718       |0.052663029023005195 |\n",
      "|TMN2           |138979             |2678400       |0.05188881421744325  |\n",
      "|MAGINO         |146586             |2850340       |0.05142754899415508  |\n",
      "|DSNYJR         |145313             |2832516       |0.05130174021964924  |\n",
      "|TCC            |140320             |2831838       |0.049550857075863805 |\n",
      "|MPIX2          |123942             |2699926       |0.045905702600737945 |\n",
      "|BBCKID         |123132             |2860479       |0.04304593741118183  |\n",
      "|MOVIEP         |107888             |2678400       |0.040280764635603344 |\n",
      "|SE04           |105856             |2678400       |0.039522102747909196 |\n",
      "|NEOCRI         |109835             |2793529       |0.03931765161557299  |\n",
      "|TMN4           |100801             |2678400       |0.037634781959378735 |\n",
      "|CICA           |102779             |2791916       |0.036813070307272856 |\n",
      "|TMN3           |96066              |2678400       |0.03586693548387097  |\n",
      "|TMN1           |94811              |2678400       |0.035398372162485064 |\n",
      "|SE03           |85473              |2678400       |0.0319119623655914   |\n",
      "|SE02           |76988              |2678400       |0.028744026284348866 |\n",
      "|2000SM         |78659              |2769589       |0.028400964908511697 |\n",
      "|70SM           |77216              |2767435       |0.027901648999886175 |\n",
      "|SE01           |70848              |2678400       |0.026451612903225806 |\n",
      "|90SM           |70660              |2761152       |0.025590767911364533 |\n",
      "|80SM           |69452              |2760482       |0.02515937434114767  |\n",
      "|ATN8           |63111              |2744672       |0.022994004383766076 |\n",
      "|CPOP           |41447              |2678400       |0.015474537037037037 |\n",
      "|CFTF           |665                |45780         |0.01452599388379205  |\n",
      "|ZEETV          |34532              |2717004       |0.012709587472083221 |\n",
      "|SAB            |18486              |2703832       |0.006836963243278428 |\n",
      "|IDNR           |12533              |2682430       |0.004672256125975329 |\n",
      "|OTN1           |7200               |2688750       |0.002677824267782427 |\n",
      "|CKRT           |780                |504780        |0.0015452276239153692|\n",
      "|EURO           |0                  |0             |0.0                  |\n",
      "|OTN3           |0                  |2678400       |0.0                  |\n",
      "|PLAY           |0                  |2678400       |0.0                  |\n",
      "|ATN13          |0                  |2678400       |0.0                  |\n",
      "|PENT           |0                  |2678400       |0.0                  |\n",
      "|TIMESN         |0                  |2678400       |0.0                  |\n",
      "|NINOS          |0                  |0             |0.0                  |\n",
      "|ATN11          |0                  |2678400       |0.0                  |\n",
      "|SKIN           |0                  |2678400       |0.0                  |\n",
      "|ATN14          |0                  |2678400       |0.0                  |\n",
      "|SNONE          |0                  |1800          |0.0                  |\n",
      "|ZOOM           |0                  |2678400       |0.0                  |\n",
      "|TENCH2         |0                  |2678400       |0.0                  |\n",
      "+---------------+-------------------+--------------+---------------------+\n",
      "\n"
     ]
    }
   ],
   "source": [
    "answer_no_null = answer.fillna(0)\n",
    " \n",
    "answer_no_null.orderBy(\n",
    "    \"commercial_ratio\", ascending=False).show(1000, False)"
   ]
  },
  {
   "cell_type": "code",
   "execution_count": 51,
   "id": "05583fcf-655e-4c09-80b0-01e806993b3d",
   "metadata": {},
   "outputs": [
    {
     "name": "stdout",
     "output_type": "stream",
     "text": [
      "324\n"
     ]
    }
   ],
   "source": [
    "print(answer_no_null.count())"
   ]
  },
  {
   "cell_type": "markdown",
   "id": "d11523a7-51d4-4770-b9bd-870cbd7b2e4c",
   "metadata": {},
   "source": [
    "You can also pass a dict to the fillna() method, with the column names as key and the values as dict values. If we were to use this method for our filling, the code would be like the following code:"
   ]
  },
  {
   "cell_type": "code",
   "execution_count": null,
   "id": "c877c1a7-4abc-4d92-a668-e753e7c92cfc",
   "metadata": {},
   "outputs": [],
   "source": [
    "# Filling our numerical records with zero using the fillna() method and a dict\n",
    "answer_no_null = answer.fillna(\n",
    "    {\"duration_commercial\": 0, \"duration_total\": 0, \"commercial_ratio\": 0}\n",
    ")"
   ]
  },
  {
   "cell_type": "markdown",
   "id": "b2eeafac-b4e9-490a-be6a-16810d8af26c",
   "metadata": {},
   "source": [
    "## Full Program"
   ]
  },
  {
   "cell_type": "markdown",
   "id": "1cc47b29-5523-4548-89b2-d72bb2e4e03f",
   "metadata": {},
   "source": [
    "**GOAL**: Our full program, ordering channels by decreasing proportion of commercials"
   ]
  },
  {
   "cell_type": "code",
   "execution_count": null,
   "id": "e72b01a4-356d-473c-9a3a-693729830343",
   "metadata": {},
   "outputs": [],
   "source": [
    "from pathlib import Path\n",
    " \n",
    "import pyspark.sql.functions as F\n",
    "from pyspark.sql import SparkSession\n",
    " \n",
    "spark = SparkSession.builder.appName(\n",
    "    \"Getting the Canadian TV channels with the highest/lowest proportion of commercials.\"\n",
    ").getOrCreate()\n",
    " \n",
    "spark.sparkContext.setLogLevel(\"WARN\")\n",
    " \n",
    "# Reading all the relevant data sources\n",
    " \n",
    "DIRECTORY = Path(\"./data/broadcast_logs\")\n",
    " \n",
    "logs = spark.read.csv(\n",
    "    str(DIRECTORY / \"BroadcastLogs_2018_Q3_M8.CSV\"),\n",
    "    sep=\"|\",\n",
    "    header=True,\n",
    "    inferSchema=True,\n",
    ")\n",
    " \n",
    "log_identifier = spark.read.csv(\n",
    "    str(DIRECTORY / \"ReferenceTables/LogIdentifier.csv\"),\n",
    "    sep=\"|\",\n",
    "    header=True,\n",
    "    inferSchema=True,\n",
    ")\n",
    "cd_category = spark.read.csv(\n",
    "    str(DIRECTORY / \"ReferenceTables/CD_Category.csv\"),\n",
    "    sep=\"|\",\n",
    "    header=True,\n",
    "    inferSchema=True,\n",
    ").select(\n",
    "    \"CategoryID\",\n",
    "    \"CategoryCD\",\n",
    "    F.col(\"EnglishDescription\").alias(\"Category_Description\"),\n",
    ")\n",
    " \n",
    "cd_program_class = spark.read.csv(\n",
    "    \"./data/broadcast_logs/ReferenceTables/CD_ProgramClass.csv\",\n",
    "    sep=\"|\",\n",
    "    header=True,\n",
    "    inferSchema=True,\n",
    ").select(\n",
    "    \"ProgramClassID\",\n",
    "    \"ProgramClassCD\",\n",
    "    F.col(\"EnglishDescription\").alias(\"ProgramClass_Description\"),\n",
    ")\n",
    " \n",
    "# Data processing\n",
    " \n",
    "logs = logs.drop(\"BroadcastLogID\", \"SequenceNO\")\n",
    " \n",
    "logs = logs.withColumn(\n",
    "    \"duration_seconds\",\n",
    "    (\n",
    "        F.col(\"Duration\").substr(1, 2).cast(\"int\") * 60 * 60\n",
    "        + F.col(\"Duration\").substr(4, 2).cast(\"int\") * 60\n",
    "        + F.col(\"Duration\").substr(7, 2).cast(\"int\")\n",
    "    ),\n",
    ")\n",
    " \n",
    "log_identifier = log_identifier.where(F.col(\"PrimaryFG\") == 1)\n",
    " \n",
    "logs_and_channels = logs.join(log_identifier, \"LogServiceID\")\n",
    " \n",
    "full_log = logs_and_channels.join(cd_category, \"CategoryID\", how=\"left\").join(\n",
    "    cd_program_class, \"ProgramClassID\", how=\"left\"\n",
    ")\n",
    " \n",
    "answer = (\n",
    "    full_log.groupby(\"LogIdentifierID\")\n",
    "    .agg(\n",
    "        F.sum(\n",
    "            F.when(\n",
    "                F.trim(F.col(\"ProgramClassCD\")).isin(\n",
    "                    [\"COM\", \"PRC\", \"PGI\", \"PRO\", \"LOC\", \"SPO\", \"MER\", \"SOL\"]\n",
    "                ),\n",
    "                F.col(\"duration_seconds\"),\n",
    "            ).otherwise(0)\n",
    "        ).alias(\"duration_commercial\"),\n",
    "        F.sum(\"duration_seconds\").alias(\"duration_total\"),\n",
    "    )\n",
    "    .withColumn(\n",
    "        \"commercial_ratio\", F.col(\"duration_commercial\") / F.col(\"duration_total\")\n",
    "    )\n",
    "    .fillna(0)\n",
    ")\n",
    " \n",
    "answer.orderBy(\"commercial_ratio\", ascending=False).show(1000, False)"
   ]
  }
 ],
 "metadata": {
  "kernelspec": {
   "display_name": "Py3.10 (pyspark_dev)",
   "language": "python",
   "name": "pyspark_dev"
  },
  "language_info": {
   "codemirror_mode": {
    "name": "ipython",
    "version": 3
   },
   "file_extension": ".py",
   "mimetype": "text/x-python",
   "name": "python",
   "nbconvert_exporter": "python",
   "pygments_lexer": "ipython3",
   "version": "3.10.11"
  }
 },
 "nbformat": 4,
 "nbformat_minor": 5
}
