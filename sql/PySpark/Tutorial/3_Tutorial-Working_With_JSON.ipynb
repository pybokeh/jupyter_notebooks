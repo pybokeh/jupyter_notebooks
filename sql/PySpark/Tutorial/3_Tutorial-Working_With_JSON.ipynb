{
 "cells": [
  {
   "cell_type": "markdown",
   "id": "8a0517c6-1958-4959-83bf-70fdf2102eed",
   "metadata": {},
   "source": [
    "# Working with Multidimensional Data"
   ]
  },
  {
   "cell_type": "markdown",
   "id": "4e2c0a89-7639-4453-bed7-8cc7ebb6981c",
   "metadata": {},
   "source": [
    "## Table of Contents"
   ]
  },
  {
   "cell_type": "code",
   "execution_count": 1,
   "id": "b47fce5c-a53f-4f08-9b97-c06c57965c61",
   "metadata": {
    "tags": []
   },
   "outputs": [],
   "source": [
    "from pyspark.sql import SparkSession"
   ]
  },
  {
   "cell_type": "code",
   "execution_count": 2,
   "id": "b7912141-1230-4c29-a6d8-0f789f06205c",
   "metadata": {
    "tags": []
   },
   "outputs": [
    {
     "name": "stderr",
     "output_type": "stream",
     "text": [
      "Setting default log level to \"WARN\".\n",
      "To adjust logging level use sc.setLogLevel(newLevel). For SparkR, use setLogLevel(newLevel).\n"
     ]
    },
    {
     "name": "stdout",
     "output_type": "stream",
     "text": [
      "23/03/31 11:44:02 WARN NativeCodeLoader: Unable to load native-hadoop library for your platform... using builtin-java classes where applicable\n"
     ]
    }
   ],
   "source": [
    "spark = SparkSession.builder.getOrCreate()"
   ]
  },
  {
   "cell_type": "code",
   "execution_count": 3,
   "id": "8b50fe3c-33e0-47c3-b3c0-2fc61496dd27",
   "metadata": {
    "tags": []
   },
   "outputs": [
    {
     "name": "stdout",
     "output_type": "stream",
     "text": [
      "23/03/31 11:41:50 WARN Utils: Your hostname, pybokeh-Lemur resolves to a loopback address: 127.0.1.1; using 192.168.1.109 instead (on interface wlp2s0)\n",
      "23/03/31 11:41:50 WARN Utils: Set SPARK_LOCAL_IP if you need to bind to another address\n"
     ]
    },
    {
     "name": "stderr",
     "output_type": "stream",
     "text": [
      "Setting default log level to \"WARN\".\n",
      "To adjust logging level use sc.setLogLevel(newLevel). For SparkR, use setLogLevel(newLevel).\n"
     ]
    },
    {
     "name": "stdout",
     "output_type": "stream",
     "text": [
      "23/03/31 11:41:51 WARN NativeCodeLoader: Unable to load native-hadoop library for your platform... using builtin-java classes where applicable\n"
     ]
    },
    {
     "name": "stderr",
     "output_type": "stream",
     "text": [
      "                                                                                \r"
     ]
    },
    {
     "data": {
      "text/plain": [
       "1"
      ]
     },
     "execution_count": 3,
     "metadata": {},
     "output_type": "execute_result"
    }
   ],
   "source": [
    "shows = spark.read.json(\"./data/shows/shows-silicon-valley.json\")\n",
    "\n",
    "shows.count()"
   ]
  },
  {
   "cell_type": "code",
   "execution_count": null,
   "id": "c062c935-5863-41f7-99b9-1703e7a4067b",
   "metadata": {
    "tags": []
   },
   "outputs": [],
   "source": [
    "shows.printSchema()"
   ]
  },
  {
   "cell_type": "code",
   "execution_count": null,
   "id": "ab07fc51-70fb-482c-afd9-6607d8316f71",
   "metadata": {
    "tags": []
   },
   "outputs": [],
   "source": [
    "shows.columns"
   ]
  },
  {
   "cell_type": "code",
   "execution_count": null,
   "id": "b892ede0-5531-4f72-9c43-72719d3b39b5",
   "metadata": {},
   "outputs": [],
   "source": [
    "array_subset = shows.select(\"name\", \"genres\")"
   ]
  },
  {
   "cell_type": "code",
   "execution_count": null,
   "id": "581c4791-4a7d-4982-9868-ff184a063f4a",
   "metadata": {},
   "outputs": [],
   "source": [
    "array_subset.show(1, False)"
   ]
  },
  {
   "cell_type": "code",
   "execution_count": null,
   "id": "35777f26-d199-49e7-8291-6b4a62fa08c4",
   "metadata": {},
   "outputs": [],
   "source": [
    "import pyspark.sql.functions as F"
   ]
  },
  {
   "cell_type": "markdown",
   "id": "625f5b7f-04a4-4e26-a7d1-4782d636a2e8",
   "metadata": {},
   "source": [
    "#### The 4 ways to access a value for a specific element or index in an array"
   ]
  },
  {
   "cell_type": "code",
   "execution_count": null,
   "id": "70310271-0133-4ba7-82eb-28baa09bc3f9",
   "metadata": {},
   "outputs": [],
   "source": [
    "array_subset = array_subset.select(\n",
    "    \"name\",\n",
    "    array_subset.genres[0].alias(\"dot_and_index\"),\n",
    "    F.col(\"genres\")[0].alias(\"col_and_index\"),\n",
    "    array_subset.genres.getItem(0).alias(\"dot_and_method\"),\n",
    "    F.col(\"genres\").getItem(0).alias(\"col_and_method\"),\n",
    ")\n",
    "\n",
    "array_subset.show()"
   ]
  }
 ],
 "metadata": {
  "kernelspec": {
   "display_name": "Py3.10 (PySpark 3.3.2)",
   "language": "python",
   "name": "pyspark_local"
  },
  "language_info": {
   "codemirror_mode": {
    "name": "ipython",
    "version": 3
   },
   "file_extension": ".py",
   "mimetype": "text/x-python",
   "name": "python",
   "nbconvert_exporter": "python",
   "pygments_lexer": "ipython3",
   "version": "3.10.6"
  }
 },
 "nbformat": 4,
 "nbformat_minor": 5
}
