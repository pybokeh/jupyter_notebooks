{
 "cells": [
  {
   "cell_type": "markdown",
   "id": "f76ecd48-62a8-4d68-932c-3c6cb9bdbd00",
   "metadata": {},
   "source": [
    "<a id=\"top\">"
   ]
  },
  {
   "cell_type": "markdown",
   "id": "b53947ed-3385-4a7e-b3e9-3e8f65bb7cda",
   "metadata": {},
   "source": [
    "# Table of Contents"
   ]
  },
  {
   "cell_type": "markdown",
   "id": "4d34e965-1d56-446e-9bed-3f32337c27ef",
   "metadata": {},
   "source": [
    "- [Reading from CSV file](#csv)\n",
    "- [Sorting on a single column: sort() / orderBy()](#sort_single)\n",
    "- [Sorting on multiple columns sort() / orderBy()](#sort_multiple)\n",
    "- [Removing duplicates across all columns](#distinct)\n",
    "- [Removing duplicates across specific column(s)](#drop_duplicates)\n",
    "- [Create new column based on values from another column](#new_column)\n",
    "- [Using User-Defined Function UDF to Create New Column](#udf)\n",
    "- [Using `when` to duplicate IF-ELSE Logic To Create New Column](#when)\n",
    "- [Using sql to create new column](#sql_when)\n",
    "- [Re-Arrange Columns using select()](#re-order)\n",
    "- [Data summarizations](#summarizations)\n",
    "- [Running total](#running_total)\n",
    "- [Joining or merging](#merging)\n",
    "- [Filtering](#filtering)\n",
    "- [Exploding arrays](#exploding_arrays)\n",
    "- [Using regular expressions](#regex)\n",
    "- [Connecting to relational databases](#databases)"
   ]
  },
  {
   "cell_type": "markdown",
   "id": "c65ecf7f-ec2f-461d-b577-dfb3ae12de0a",
   "metadata": {},
   "source": [
    "## Input / Reading Data"
   ]
  },
  {
   "cell_type": "markdown",
   "id": "d6d4df0b-e8ba-4eb4-8ab7-0d6df6718ae2",
   "metadata": {},
   "source": [
    "[[Back to Top](#top)]"
   ]
  },
  {
   "cell_type": "code",
   "execution_count": 4,
   "id": "79135a95-6936-468a-aadc-715527a0609d",
   "metadata": {
    "tags": []
   },
   "outputs": [],
   "source": [
    "from pyspark.sql import SparkSession\n",
    "from pyspark.sql.types import *"
   ]
  },
  {
   "cell_type": "code",
   "execution_count": 2,
   "id": "d9fc2f65-303e-4d61-ac62-9acf5d400c94",
   "metadata": {
    "tags": []
   },
   "outputs": [
    {
     "name": "stderr",
     "output_type": "stream",
     "text": [
      "23/08/06 18:03:32 WARN Utils: Your hostname, asus-q530 resolves to a loopback address: 127.0.1.1; using 172.31.125.182 instead (on interface eth0)\n",
      "23/08/06 18:03:32 WARN Utils: Set SPARK_LOCAL_IP if you need to bind to another address\n",
      "Setting default log level to \"WARN\".\n",
      "To adjust logging level use sc.setLogLevel(newLevel). For SparkR, use setLogLevel(newLevel).\n",
      "23/08/06 18:03:34 WARN NativeCodeLoader: Unable to load native-hadoop library for your platform... using builtin-java classes where applicable\n",
      "23/08/06 18:03:34 WARN Utils: Service 'SparkUI' could not bind on port 4040. Attempting port 4041.\n"
     ]
    }
   ],
   "source": [
    "spark = (\n",
    "    SparkSession.builder\n",
    "    # Enable eager, interactive mode - typically do not do this with production code\n",
    "    .config(\"spark.sql.repl.eagerEval.enabled\", \"True\")\n",
    "    .appName(\"PySpark Cheat Sheet\")\n",
    "    .getOrCreate()\n",
    ")"
   ]
  },
  {
   "cell_type": "markdown",
   "id": "0b5e3f60-a4c5-4cda-beb9-dd815ca518e1",
   "metadata": {},
   "source": [
    "Sample data can be obtained from [here](https://jacobceles.github.io/knowledge_repo/colab_and_pyspark/cars.csv)."
   ]
  },
  {
   "cell_type": "markdown",
   "id": "e61a8cae-8776-4de1-8fba-c90c46e2f28c",
   "metadata": {},
   "source": [
    "<a id=\"csv\">"
   ]
  },
  {
   "cell_type": "markdown",
   "id": "1991eb8b-1a17-4281-babc-3221525b626b",
   "metadata": {},
   "source": [
    "#### Read csv file by infering or guessing schema"
   ]
  },
  {
   "cell_type": "markdown",
   "id": "fb0219dc-bccd-4fd4-b31c-09edc963578a",
   "metadata": {},
   "source": [
    "[[Back to Top](#top)]"
   ]
  },
  {
   "cell_type": "markdown",
   "id": "cc9d93b4-9b3c-4018-bc32-918258afa5aa",
   "metadata": {},
   "source": [
    "There is a sample data set located at `data/cars.csv`.  Let's first inspect it and see if it has header row and how it is delimited using plain old terminal command `head`:"
   ]
  },
  {
   "cell_type": "code",
   "execution_count": 3,
   "id": "10773942-b83a-4d2d-8bf2-a4caf2777b92",
   "metadata": {
    "tags": []
   },
   "outputs": [
    {
     "name": "stdout",
     "output_type": "stream",
     "text": [
      "Car;MPG;Cylinders;Displacement;Horsepower;Weight;Acceleration;Model;Origin\n",
      "Chevrolet Chevelle Malibu;18.0;8;307.0;130.0;3504.;12.0;70;US\n",
      "Buick Skylark 320;15.0;8;350.0;165.0;3693.;11.5;70;US\n",
      "Plymouth Satellite;18.0;8;318.0;150.0;3436.;11.0;70;US\n",
      "AMC Rebel SST;16.0;8;304.0;150.0;3433.;12.0;70;US\n",
      "Ford Torino;17.0;8;302.0;140.0;3449.;10.5;70;US\n",
      "Ford Galaxie 500;15.0;8;429.0;198.0;4341.;10.0;70;US\n",
      "Chevrolet Impala;14.0;8;454.0;220.0;4354.;9.0;70;US\n",
      "Plymouth Fury iii;14.0;8;440.0;215.0;4312.;8.5;70;US\n",
      "Pontiac Catalina;14.0;8;455.0;225.0;4425.;10.0;70;US\n"
     ]
    }
   ],
   "source": [
    "# Terminal commands can be executed within a code cell by preceding it with an exclamation symbol\n",
    "!head data/cars.csv"
   ]
  },
  {
   "cell_type": "markdown",
   "id": "d15a7ee8-3057-4e12-a2e1-5de3d0fea7ea",
   "metadata": {},
   "source": [
    "We see that it does indeed have a header row and the columns are delimited by semi-colon."
   ]
  },
  {
   "cell_type": "code",
   "execution_count": 4,
   "id": "577c2f43-78af-4704-8df6-0f8dd4f535fc",
   "metadata": {
    "tags": []
   },
   "outputs": [],
   "source": [
    "cars = spark.read.csv('data/cars.csv', header=True, sep=\";\")"
   ]
  },
  {
   "cell_type": "code",
   "execution_count": 5,
   "id": "451fcd41-3635-47e7-987a-b8f2069e6d36",
   "metadata": {
    "tags": []
   },
   "outputs": [
    {
     "name": "stdout",
     "output_type": "stream",
     "text": [
      "+--------------------+----+---------+------------+----------+------+------------+-----+------+\n",
      "|                 Car| MPG|Cylinders|Displacement|Horsepower|Weight|Acceleration|Model|Origin|\n",
      "+--------------------+----+---------+------------+----------+------+------------+-----+------+\n",
      "|Chevrolet Chevell...|18.0|        8|       307.0|     130.0| 3504.|        12.0|   70|    US|\n",
      "|   Buick Skylark 320|15.0|        8|       350.0|     165.0| 3693.|        11.5|   70|    US|\n",
      "|  Plymouth Satellite|18.0|        8|       318.0|     150.0| 3436.|        11.0|   70|    US|\n",
      "|       AMC Rebel SST|16.0|        8|       304.0|     150.0| 3433.|        12.0|   70|    US|\n",
      "|         Ford Torino|17.0|        8|       302.0|     140.0| 3449.|        10.5|   70|    US|\n",
      "+--------------------+----+---------+------------+----------+------+------------+-----+------+\n",
      "only showing top 5 rows\n",
      "\n"
     ]
    }
   ],
   "source": [
    "cars.show(5)"
   ]
  },
  {
   "cell_type": "code",
   "execution_count": 6,
   "id": "e1f62653-0911-4cd1-a6c5-7f4eceff08b2",
   "metadata": {
    "tags": []
   },
   "outputs": [
    {
     "name": "stdout",
     "output_type": "stream",
     "text": [
      "root\n",
      " |-- Car: string (nullable = true)\n",
      " |-- MPG: string (nullable = true)\n",
      " |-- Cylinders: string (nullable = true)\n",
      " |-- Displacement: string (nullable = true)\n",
      " |-- Horsepower: string (nullable = true)\n",
      " |-- Weight: string (nullable = true)\n",
      " |-- Acceleration: string (nullable = true)\n",
      " |-- Model: string (nullable = true)\n",
      " |-- Origin: string (nullable = true)\n",
      "\n"
     ]
    }
   ],
   "source": [
    "cars.printSchema()"
   ]
  },
  {
   "cell_type": "markdown",
   "id": "d638ea9e-daf5-4b03-b5b9-e751ae989e70",
   "metadata": {},
   "source": [
    "#### Explicitly defining schema"
   ]
  },
  {
   "cell_type": "code",
   "execution_count": 60,
   "id": "21c857db-1950-4e45-bf1a-b26b7fb1067d",
   "metadata": {
    "tags": []
   },
   "outputs": [],
   "source": [
    "from pyspark.sql.types import *"
   ]
  },
  {
   "cell_type": "code",
   "execution_count": 61,
   "id": "a0dcf822-7925-45f8-be43-0e33ca6aed01",
   "metadata": {
    "tags": []
   },
   "outputs": [],
   "source": [
    "schema = StructType([\n",
    "    StructField(\"Car\", StringType(),True),\n",
    "    StructField(\"MPG\", DoubleType(),True),\n",
    "    StructField(\"Cylinders\", IntegerType(),True),\n",
    "    StructField(\"Displacement\", DoubleType(), True),\n",
    "    StructField(\"Horsepower\", DoubleType(), True),\n",
    "    StructField(\"Weight\", DoubleType(), True),\n",
    "    StructField(\"Acceleration\", IntegerType(), True),\n",
    "    StructField(\"Model\", IntegerType(), True),\n",
    "    StructField(\"Origin\", StringType(), True)\n",
    "  ])"
   ]
  },
  {
   "cell_type": "code",
   "execution_count": 62,
   "id": "631e2f4a-de57-424f-848f-4f89d3ba16fb",
   "metadata": {
    "tags": []
   },
   "outputs": [],
   "source": [
    "cars = spark.read.csv('data/cars.csv', header=True, sep=\";\", schema=schema)"
   ]
  },
  {
   "cell_type": "code",
   "execution_count": 10,
   "id": "46553d3a-b22f-4f4f-9721-fcf3c8181079",
   "metadata": {
    "tags": []
   },
   "outputs": [
    {
     "name": "stdout",
     "output_type": "stream",
     "text": [
      "root\n",
      " |-- Car: string (nullable = true)\n",
      " |-- MPG: double (nullable = true)\n",
      " |-- Cylinders: integer (nullable = true)\n",
      " |-- Displacement: double (nullable = true)\n",
      " |-- Horsepower: double (nullable = true)\n",
      " |-- Weight: double (nullable = true)\n",
      " |-- Acceleration: integer (nullable = true)\n",
      " |-- Model: integer (nullable = true)\n",
      " |-- Origin: string (nullable = true)\n",
      "\n"
     ]
    }
   ],
   "source": [
    "cars.printSchema()"
   ]
  },
  {
   "cell_type": "code",
   "execution_count": 12,
   "id": "869a898e-da63-4602-a626-9ba1283733ff",
   "metadata": {
    "tags": []
   },
   "outputs": [
    {
     "name": "stdout",
     "output_type": "stream",
     "text": [
      "+--------------------+----+---------+------------+----------+------+------------+-----+------+\n",
      "|                 Car| MPG|Cylinders|Displacement|Horsepower|Weight|Acceleration|Model|Origin|\n",
      "+--------------------+----+---------+------------+----------+------+------------+-----+------+\n",
      "|Chevrolet Chevell...|18.0|        8|       307.0|     130.0|3504.0|        null|   70|    US|\n",
      "|   Buick Skylark 320|15.0|        8|       350.0|     165.0|3693.0|        null|   70|    US|\n",
      "|  Plymouth Satellite|18.0|        8|       318.0|     150.0|3436.0|        null|   70|    US|\n",
      "|       AMC Rebel SST|16.0|        8|       304.0|     150.0|3433.0|        null|   70|    US|\n",
      "|         Ford Torino|17.0|        8|       302.0|     140.0|3449.0|        null|   70|    US|\n",
      "+--------------------+----+---------+------------+----------+------+------------+-----+------+\n",
      "only showing top 5 rows\n",
      "\n"
     ]
    }
   ],
   "source": [
    "cars.show(5)"
   ]
  },
  {
   "cell_type": "markdown",
   "id": "0f543d2f-bb42-4ab7-8063-dad8447f70e9",
   "metadata": {},
   "source": [
    "<a id=\"sort_single\">"
   ]
  },
  {
   "cell_type": "markdown",
   "id": "b16a8fca-c1b5-4517-87ed-1c49f4cb92d0",
   "metadata": {},
   "source": [
    "## Sorting on Single Column"
   ]
  },
  {
   "cell_type": "markdown",
   "id": "f9f0b525-8636-4553-bc12-4642aa11b4b9",
   "metadata": {},
   "source": [
    "[[Back to Top](#top)]"
   ]
  },
  {
   "cell_type": "code",
   "execution_count": 13,
   "id": "446d6284-58e1-44e1-ac6d-21cbf7f55f51",
   "metadata": {
    "tags": []
   },
   "outputs": [
    {
     "data": {
      "text/html": [
       "<table border='1'>\n",
       "<tr><th>Car</th><th>MPG</th><th>Cylinders</th><th>Displacement</th><th>Horsepower</th><th>Weight</th><th>Acceleration</th><th>Model</th><th>Origin</th></tr>\n",
       "<tr><td>Citroen DS-21 Pallas</td><td>0.0</td><td>4</td><td>133.0</td><td>115.0</td><td>3090.0</td><td>null</td><td>70</td><td>Europe</td></tr>\n",
       "<tr><td>Ford Mustang Boss...</td><td>0.0</td><td>8</td><td>302.0</td><td>140.0</td><td>3353.0</td><td>null</td><td>70</td><td>US</td></tr>\n",
       "<tr><td>Ford Torino (sw)</td><td>0.0</td><td>8</td><td>351.0</td><td>153.0</td><td>4034.0</td><td>null</td><td>70</td><td>US</td></tr>\n",
       "<tr><td>Volkswagen Super ...</td><td>0.0</td><td>4</td><td>97.0</td><td>48.0</td><td>1978.0</td><td>null</td><td>71</td><td>Europe</td></tr>\n",
       "<tr><td>Saab 900s</td><td>0.0</td><td>4</td><td>121.0</td><td>110.0</td><td>2800.0</td><td>null</td><td>81</td><td>Europe</td></tr>\n",
       "<tr><td>Chevrolet Chevell...</td><td>0.0</td><td>8</td><td>350.0</td><td>165.0</td><td>4142.0</td><td>null</td><td>70</td><td>US</td></tr>\n",
       "<tr><td>Plymouth Satellit...</td><td>0.0</td><td>8</td><td>383.0</td><td>175.0</td><td>4166.0</td><td>null</td><td>70</td><td>US</td></tr>\n",
       "<tr><td>AMC Rebel SST (sw)</td><td>0.0</td><td>8</td><td>360.0</td><td>175.0</td><td>3850.0</td><td>null</td><td>70</td><td>US</td></tr>\n",
       "<tr><td>Hi 1200D</td><td>9.0</td><td>8</td><td>304.0</td><td>193.0</td><td>4732.0</td><td>null</td><td>70</td><td>US</td></tr>\n",
       "<tr><td>Ford F250</td><td>10.0</td><td>8</td><td>360.0</td><td>215.0</td><td>4615.0</td><td>null</td><td>70</td><td>US</td></tr>\n",
       "<tr><td>Chevy C20</td><td>10.0</td><td>8</td><td>307.0</td><td>200.0</td><td>4376.0</td><td>null</td><td>70</td><td>US</td></tr>\n",
       "<tr><td>Mercury Marquis</td><td>11.0</td><td>8</td><td>429.0</td><td>208.0</td><td>4633.0</td><td>null</td><td>72</td><td>US</td></tr>\n",
       "<tr><td>Chevrolet Impala</td><td>11.0</td><td>8</td><td>400.0</td><td>150.0</td><td>4997.0</td><td>null</td><td>73</td><td>US</td></tr>\n",
       "<tr><td>Oldsmobile Omega</td><td>11.0</td><td>8</td><td>350.0</td><td>180.0</td><td>3664.0</td><td>null</td><td>73</td><td>US</td></tr>\n",
       "<tr><td>Dodge D200</td><td>11.0</td><td>8</td><td>318.0</td><td>210.0</td><td>4382.0</td><td>null</td><td>70</td><td>US</td></tr>\n",
       "<tr><td>Dodge Monaco (sw)</td><td>12.0</td><td>8</td><td>383.0</td><td>180.0</td><td>4955.0</td><td>null</td><td>71</td><td>US</td></tr>\n",
       "<tr><td>Oldsmobile Delta ...</td><td>12.0</td><td>8</td><td>350.0</td><td>160.0</td><td>4456.0</td><td>null</td><td>72</td><td>US</td></tr>\n",
       "<tr><td>Mercury Marquis B...</td><td>12.0</td><td>8</td><td>429.0</td><td>198.0</td><td>4952.0</td><td>null</td><td>73</td><td>US</td></tr>\n",
       "<tr><td>Ford Country</td><td>12.0</td><td>8</td><td>400.0</td><td>167.0</td><td>4906.0</td><td>null</td><td>73</td><td>US</td></tr>\n",
       "<tr><td>Buick Electra 225...</td><td>12.0</td><td>8</td><td>455.0</td><td>225.0</td><td>4951.0</td><td>null</td><td>73</td><td>US</td></tr>\n",
       "</table>\n",
       "only showing top 20 rows\n"
      ],
      "text/plain": [
       "+--------------------+----+---------+------------+----------+------+------------+-----+------+\n",
       "|                 Car| MPG|Cylinders|Displacement|Horsepower|Weight|Acceleration|Model|Origin|\n",
       "+--------------------+----+---------+------------+----------+------+------------+-----+------+\n",
       "|Citroen DS-21 Pallas| 0.0|        4|       133.0|     115.0|3090.0|        null|   70|Europe|\n",
       "|Ford Mustang Boss...| 0.0|        8|       302.0|     140.0|3353.0|        null|   70|    US|\n",
       "|    Ford Torino (sw)| 0.0|        8|       351.0|     153.0|4034.0|        null|   70|    US|\n",
       "|Volkswagen Super ...| 0.0|        4|        97.0|      48.0|1978.0|        null|   71|Europe|\n",
       "|           Saab 900s| 0.0|        4|       121.0|     110.0|2800.0|        null|   81|Europe|\n",
       "|Chevrolet Chevell...| 0.0|        8|       350.0|     165.0|4142.0|        null|   70|    US|\n",
       "|Plymouth Satellit...| 0.0|        8|       383.0|     175.0|4166.0|        null|   70|    US|\n",
       "|  AMC Rebel SST (sw)| 0.0|        8|       360.0|     175.0|3850.0|        null|   70|    US|\n",
       "|            Hi 1200D| 9.0|        8|       304.0|     193.0|4732.0|        null|   70|    US|\n",
       "|           Ford F250|10.0|        8|       360.0|     215.0|4615.0|        null|   70|    US|\n",
       "|           Chevy C20|10.0|        8|       307.0|     200.0|4376.0|        null|   70|    US|\n",
       "|     Mercury Marquis|11.0|        8|       429.0|     208.0|4633.0|        null|   72|    US|\n",
       "|    Chevrolet Impala|11.0|        8|       400.0|     150.0|4997.0|        null|   73|    US|\n",
       "|    Oldsmobile Omega|11.0|        8|       350.0|     180.0|3664.0|        null|   73|    US|\n",
       "|          Dodge D200|11.0|        8|       318.0|     210.0|4382.0|        null|   70|    US|\n",
       "|   Dodge Monaco (sw)|12.0|        8|       383.0|     180.0|4955.0|        null|   71|    US|\n",
       "|Oldsmobile Delta ...|12.0|        8|       350.0|     160.0|4456.0|        null|   72|    US|\n",
       "|Mercury Marquis B...|12.0|        8|       429.0|     198.0|4952.0|        null|   73|    US|\n",
       "|        Ford Country|12.0|        8|       400.0|     167.0|4906.0|        null|   73|    US|\n",
       "|Buick Electra 225...|12.0|        8|       455.0|     225.0|4951.0|        null|   73|    US|\n",
       "+--------------------+----+---------+------------+----------+------+------------+-----+------+\n",
       "only showing top 20 rows"
      ]
     },
     "execution_count": 13,
     "metadata": {},
     "output_type": "execute_result"
    }
   ],
   "source": [
    "from pyspark.sql.functions import col\n",
    "\n",
    "cars.sort(col(\"MPG\").asc())\n",
    "\n",
    "# Alternate method to refer to a dataframe column\n",
    "# cars.sort(df.MPG.asc())\n",
    "\n",
    "# Alternative methods if your column names has a space in it\n",
    "# cars.orderBy(['MPG'], ascending=[False]).show(10, truncate=False)\n",
    "# cars.sort(col(\"MPG\").asc())"
   ]
  },
  {
   "cell_type": "markdown",
   "id": "e3ef028e-9f3a-4cf0-a174-ec8faf7b0936",
   "metadata": {},
   "source": [
    "<a id=\"sort_multiple\">"
   ]
  },
  {
   "cell_type": "markdown",
   "id": "8818fe7c-f33c-4405-9fe6-fcd124fa7e7f",
   "metadata": {},
   "source": [
    "## Sorting on Multiple Columns"
   ]
  },
  {
   "cell_type": "markdown",
   "id": "05bae678-c4d7-4f2a-a4b5-31a1147e24b4",
   "metadata": {},
   "source": [
    "[[Back to Top](#top)]"
   ]
  },
  {
   "cell_type": "code",
   "execution_count": 14,
   "id": "c4da5514-aab9-4ac0-813a-bec5fdce0167",
   "metadata": {
    "tags": []
   },
   "outputs": [
    {
     "data": {
      "text/html": [
       "<table border='1'>\n",
       "<tr><th>Car</th><th>MPG</th><th>Cylinders</th><th>Displacement</th><th>Horsepower</th><th>Weight</th><th>Acceleration</th><th>Model</th><th>Origin</th></tr>\n",
       "<tr><td>Plymouth Satellit...</td><td>0.0</td><td>8</td><td>383.0</td><td>175.0</td><td>4166.0</td><td>null</td><td>70</td><td>US</td></tr>\n",
       "<tr><td>AMC Rebel SST (sw)</td><td>0.0</td><td>8</td><td>360.0</td><td>175.0</td><td>3850.0</td><td>null</td><td>70</td><td>US</td></tr>\n",
       "<tr><td>Ford Torino (sw)</td><td>0.0</td><td>8</td><td>351.0</td><td>153.0</td><td>4034.0</td><td>null</td><td>70</td><td>US</td></tr>\n",
       "<tr><td>Chevrolet Chevell...</td><td>0.0</td><td>8</td><td>350.0</td><td>165.0</td><td>4142.0</td><td>null</td><td>70</td><td>US</td></tr>\n",
       "<tr><td>Ford Mustang Boss...</td><td>0.0</td><td>8</td><td>302.0</td><td>140.0</td><td>3353.0</td><td>null</td><td>70</td><td>US</td></tr>\n",
       "<tr><td>Citroen DS-21 Pallas</td><td>0.0</td><td>4</td><td>133.0</td><td>115.0</td><td>3090.0</td><td>null</td><td>70</td><td>Europe</td></tr>\n",
       "<tr><td>Saab 900s</td><td>0.0</td><td>4</td><td>121.0</td><td>110.0</td><td>2800.0</td><td>null</td><td>81</td><td>Europe</td></tr>\n",
       "<tr><td>Volkswagen Super ...</td><td>0.0</td><td>4</td><td>97.0</td><td>48.0</td><td>1978.0</td><td>null</td><td>71</td><td>Europe</td></tr>\n",
       "<tr><td>Hi 1200D</td><td>9.0</td><td>8</td><td>304.0</td><td>193.0</td><td>4732.0</td><td>null</td><td>70</td><td>US</td></tr>\n",
       "<tr><td>Ford F250</td><td>10.0</td><td>8</td><td>360.0</td><td>215.0</td><td>4615.0</td><td>null</td><td>70</td><td>US</td></tr>\n",
       "<tr><td>Chevy C20</td><td>10.0</td><td>8</td><td>307.0</td><td>200.0</td><td>4376.0</td><td>null</td><td>70</td><td>US</td></tr>\n",
       "<tr><td>Mercury Marquis</td><td>11.0</td><td>8</td><td>429.0</td><td>208.0</td><td>4633.0</td><td>null</td><td>72</td><td>US</td></tr>\n",
       "<tr><td>Chevrolet Impala</td><td>11.0</td><td>8</td><td>400.0</td><td>150.0</td><td>4997.0</td><td>null</td><td>73</td><td>US</td></tr>\n",
       "<tr><td>Oldsmobile Omega</td><td>11.0</td><td>8</td><td>350.0</td><td>180.0</td><td>3664.0</td><td>null</td><td>73</td><td>US</td></tr>\n",
       "<tr><td>Dodge D200</td><td>11.0</td><td>8</td><td>318.0</td><td>210.0</td><td>4382.0</td><td>null</td><td>70</td><td>US</td></tr>\n",
       "<tr><td>Buick Electra 225...</td><td>12.0</td><td>8</td><td>455.0</td><td>225.0</td><td>4951.0</td><td>null</td><td>73</td><td>US</td></tr>\n",
       "<tr><td>Mercury Marquis B...</td><td>12.0</td><td>8</td><td>429.0</td><td>198.0</td><td>4952.0</td><td>null</td><td>73</td><td>US</td></tr>\n",
       "<tr><td>Ford Country</td><td>12.0</td><td>8</td><td>400.0</td><td>167.0</td><td>4906.0</td><td>null</td><td>73</td><td>US</td></tr>\n",
       "<tr><td>Dodge Monaco (sw)</td><td>12.0</td><td>8</td><td>383.0</td><td>180.0</td><td>4955.0</td><td>null</td><td>71</td><td>US</td></tr>\n",
       "<tr><td>Oldsmobile Vista ...</td><td>12.0</td><td>8</td><td>350.0</td><td>180.0</td><td>4499.0</td><td>null</td><td>73</td><td>US</td></tr>\n",
       "</table>\n",
       "only showing top 20 rows\n"
      ],
      "text/plain": [
       "+--------------------+----+---------+------------+----------+------+------------+-----+------+\n",
       "|                 Car| MPG|Cylinders|Displacement|Horsepower|Weight|Acceleration|Model|Origin|\n",
       "+--------------------+----+---------+------------+----------+------+------------+-----+------+\n",
       "|Plymouth Satellit...| 0.0|        8|       383.0|     175.0|4166.0|        null|   70|    US|\n",
       "|  AMC Rebel SST (sw)| 0.0|        8|       360.0|     175.0|3850.0|        null|   70|    US|\n",
       "|    Ford Torino (sw)| 0.0|        8|       351.0|     153.0|4034.0|        null|   70|    US|\n",
       "|Chevrolet Chevell...| 0.0|        8|       350.0|     165.0|4142.0|        null|   70|    US|\n",
       "|Ford Mustang Boss...| 0.0|        8|       302.0|     140.0|3353.0|        null|   70|    US|\n",
       "|Citroen DS-21 Pallas| 0.0|        4|       133.0|     115.0|3090.0|        null|   70|Europe|\n",
       "|           Saab 900s| 0.0|        4|       121.0|     110.0|2800.0|        null|   81|Europe|\n",
       "|Volkswagen Super ...| 0.0|        4|        97.0|      48.0|1978.0|        null|   71|Europe|\n",
       "|            Hi 1200D| 9.0|        8|       304.0|     193.0|4732.0|        null|   70|    US|\n",
       "|           Ford F250|10.0|        8|       360.0|     215.0|4615.0|        null|   70|    US|\n",
       "|           Chevy C20|10.0|        8|       307.0|     200.0|4376.0|        null|   70|    US|\n",
       "|     Mercury Marquis|11.0|        8|       429.0|     208.0|4633.0|        null|   72|    US|\n",
       "|    Chevrolet Impala|11.0|        8|       400.0|     150.0|4997.0|        null|   73|    US|\n",
       "|    Oldsmobile Omega|11.0|        8|       350.0|     180.0|3664.0|        null|   73|    US|\n",
       "|          Dodge D200|11.0|        8|       318.0|     210.0|4382.0|        null|   70|    US|\n",
       "|Buick Electra 225...|12.0|        8|       455.0|     225.0|4951.0|        null|   73|    US|\n",
       "|Mercury Marquis B...|12.0|        8|       429.0|     198.0|4952.0|        null|   73|    US|\n",
       "|        Ford Country|12.0|        8|       400.0|     167.0|4906.0|        null|   73|    US|\n",
       "|   Dodge Monaco (sw)|12.0|        8|       383.0|     180.0|4955.0|        null|   71|    US|\n",
       "|Oldsmobile Vista ...|12.0|        8|       350.0|     180.0|4499.0|        null|   73|    US|\n",
       "+--------------------+----+---------+------------+----------+------+------------+-----+------+\n",
       "only showing top 20 rows"
      ]
     },
     "execution_count": 14,
     "metadata": {},
     "output_type": "execute_result"
    }
   ],
   "source": [
    "from pyspark.sql.functions import col\n",
    "\n",
    "cars.sort(col(\"MPG\").asc(), col(\"Displacement\").desc())\n",
    "\n",
    "# Alternative methods\n",
    "# cars.sort(df.MPG.asc(), df.Displacement.desc())\n",
    "# cars.orderBy(['MPG','Displacement'], ascending=[True, False]).show(10, truncate=False)"
   ]
  },
  {
   "cell_type": "markdown",
   "id": "d5228cf0-28d9-4c49-94b7-ad2250c37562",
   "metadata": {},
   "source": [
    "<a id=\"distinct\">"
   ]
  },
  {
   "cell_type": "markdown",
   "id": "c4edefca-2ed0-48b5-b6d4-6a07f29ae093",
   "metadata": {},
   "source": [
    "## Removing Duplicates Across All Columns Using distinct()"
   ]
  },
  {
   "cell_type": "markdown",
   "id": "511b0439-0ff8-4bdb-ae54-48411569388c",
   "metadata": {},
   "source": [
    "[[Back to Top](#top)]"
   ]
  },
  {
   "cell_type": "code",
   "execution_count": 15,
   "id": "470d8287-a93e-4483-ace1-d70b13b59bc5",
   "metadata": {
    "tags": []
   },
   "outputs": [
    {
     "name": "stdout",
     "output_type": "stream",
     "text": [
      "root\n",
      " |-- employee_name: string (nullable = true)\n",
      " |-- department: string (nullable = true)\n",
      " |-- salary: long (nullable = true)\n",
      "\n"
     ]
    },
    {
     "name": "stderr",
     "output_type": "stream",
     "text": [
      "                                                                                \r"
     ]
    },
    {
     "name": "stdout",
     "output_type": "stream",
     "text": [
      "+-------------+----------+------+\n",
      "|employee_name|department|salary|\n",
      "+-------------+----------+------+\n",
      "|James        |Sales     |3000  |\n",
      "|Michael      |Sales     |4600  |\n",
      "|Robert       |Sales     |4600  |\n",
      "|James        |Sales     |3000  |\n",
      "+-------------+----------+------+\n",
      "\n"
     ]
    }
   ],
   "source": [
    "data = [(\"James\", \"Sales\", 3000), \\\n",
    "    (\"Michael\", \"Sales\", 4600), \\\n",
    "    (\"Robert\", \"Sales\", 4600), \\\n",
    "    (\"James\", \"Sales\", 3000)\n",
    "]\n",
    "columns= [\"employee_name\", \"department\", \"salary\"]\n",
    "\n",
    "# Create DataFrame\n",
    "df = spark.createDataFrame(data = data, schema = columns)\n",
    "df.printSchema()\n",
    "df.show(truncate=False)"
   ]
  },
  {
   "cell_type": "markdown",
   "id": "1d21bf1b-c6f3-4eb9-9767-c61ecd14b265",
   "metadata": {},
   "source": [
    "We see that James show up twice.  So let's delete the extra row or record."
   ]
  },
  {
   "cell_type": "code",
   "execution_count": 16,
   "id": "b353ca9b-9661-4ed5-bf9f-415c87f36d4e",
   "metadata": {
    "tags": []
   },
   "outputs": [
    {
     "name": "stdout",
     "output_type": "stream",
     "text": [
      "+-------------+----------+------+\n",
      "|employee_name|department|salary|\n",
      "+-------------+----------+------+\n",
      "|James        |Sales     |3000  |\n",
      "|Michael      |Sales     |4600  |\n",
      "|Robert       |Sales     |4600  |\n",
      "+-------------+----------+------+\n",
      "\n"
     ]
    }
   ],
   "source": [
    "distinctDF = df.distinct()\n",
    "distinctDF.show(truncate=False)"
   ]
  },
  {
   "cell_type": "markdown",
   "id": "71920923-a0b8-4665-af9f-28c005597b48",
   "metadata": {},
   "source": [
    "<a id=\"drop_duplicates\">"
   ]
  },
  {
   "cell_type": "markdown",
   "id": "ef64db16-120e-4ff3-8919-d6f7507dea42",
   "metadata": {},
   "source": [
    "## Removing Duplicates Across Specific Columns Using drop_duplicates()"
   ]
  },
  {
   "cell_type": "markdown",
   "id": "d528b87f-12ce-44ab-8fcd-a59ca8b6b54e",
   "metadata": {},
   "source": [
    "[[Back to Top](#top)]"
   ]
  },
  {
   "cell_type": "code",
   "execution_count": 17,
   "id": "bb03d9d9-701d-466c-950f-89291101b9df",
   "metadata": {
    "tags": []
   },
   "outputs": [
    {
     "name": "stdout",
     "output_type": "stream",
     "text": [
      "+-------------+----------+------+\n",
      "|employee_name|department|salary|\n",
      "+-------------+----------+------+\n",
      "|James        |Sales     |3000  |\n",
      "|Michael      |Sales     |4600  |\n",
      "+-------------+----------+------+\n",
      "\n"
     ]
    }
   ],
   "source": [
    "dropDisDF = df.drop_duplicates([\"department\",\"salary\"])\n",
    "dropDisDF.show(truncate=False)"
   ]
  },
  {
   "cell_type": "markdown",
   "id": "8c1bc4eb-0ac5-4060-8644-24a2c41069f1",
   "metadata": {},
   "source": [
    "## Data Transformations"
   ]
  },
  {
   "cell_type": "markdown",
   "id": "219c8d30-fd3d-4503-8870-f792dc410b99",
   "metadata": {},
   "source": [
    "<a id=\"new_column\">"
   ]
  },
  {
   "cell_type": "markdown",
   "id": "280e9342-9202-4223-ba58-d7d11658e637",
   "metadata": {},
   "source": [
    "#### Create new column based on values from another column"
   ]
  },
  {
   "cell_type": "markdown",
   "id": "7858f846-48a5-49e8-8994-310efc7a7293",
   "metadata": {},
   "source": [
    "[[Back to Top](#top)]"
   ]
  },
  {
   "cell_type": "code",
   "execution_count": 18,
   "id": "41ae9161-0e84-4134-971a-d0721cee31f7",
   "metadata": {
    "tags": []
   },
   "outputs": [],
   "source": [
    "from pyspark.sql.functions import split, col"
   ]
  },
  {
   "cell_type": "code",
   "execution_count": 19,
   "id": "169b694f-4246-4a32-94e6-fbf63af0b75a",
   "metadata": {
    "tags": []
   },
   "outputs": [],
   "source": [
    "cars = cars.withColumn(\n",
    "    \"Make\", split(col(\"Car\"), \" \")\n",
    "    .getItem(0)\n",
    ").withColumn(\n",
    "    \"Model\", split(col(\"Car\"), \" \")\n",
    "    .getItem(1)\n",
    ")"
   ]
  },
  {
   "cell_type": "code",
   "execution_count": 20,
   "id": "4eb921f7-14d5-4db0-99af-2ff6576ffe00",
   "metadata": {
    "tags": []
   },
   "outputs": [
    {
     "name": "stdout",
     "output_type": "stream",
     "text": [
      "+-------------------------+----+---------+------------+----------+------+------------+---------+------+---------+\n",
      "|Car                      |MPG |Cylinders|Displacement|Horsepower|Weight|Acceleration|Model    |Origin|Make     |\n",
      "+-------------------------+----+---------+------------+----------+------+------------+---------+------+---------+\n",
      "|Chevrolet Chevelle Malibu|18.0|8        |307.0       |130.0     |3504.0|null        |Chevelle |US    |Chevrolet|\n",
      "|Buick Skylark 320        |15.0|8        |350.0       |165.0     |3693.0|null        |Skylark  |US    |Buick    |\n",
      "|Plymouth Satellite       |18.0|8        |318.0       |150.0     |3436.0|null        |Satellite|US    |Plymouth |\n",
      "|AMC Rebel SST            |16.0|8        |304.0       |150.0     |3433.0|null        |Rebel    |US    |AMC      |\n",
      "|Ford Torino              |17.0|8        |302.0       |140.0     |3449.0|null        |Torino   |US    |Ford     |\n",
      "+-------------------------+----+---------+------------+----------+------+------------+---------+------+---------+\n",
      "only showing top 5 rows\n",
      "\n"
     ]
    }
   ],
   "source": [
    "cars.show(5, truncate=False)"
   ]
  },
  {
   "cell_type": "markdown",
   "id": "5885ec6d-26fc-4e9e-a39e-6e0208b1f2ec",
   "metadata": {},
   "source": [
    "<a id=\"udf\">"
   ]
  },
  {
   "cell_type": "markdown",
   "id": "272d38de-be61-445d-a90e-eca39e4ce26e",
   "metadata": {},
   "source": [
    "#### Using UDF to Create New Column"
   ]
  },
  {
   "cell_type": "markdown",
   "id": "d68e0135-562f-435a-b615-6245582226d9",
   "metadata": {},
   "source": [
    "[[Back to Top](#top)]"
   ]
  },
  {
   "cell_type": "code",
   "execution_count": 21,
   "id": "b371fde8-a5e2-4630-b0c9-f5131899cba8",
   "metadata": {
    "tags": []
   },
   "outputs": [],
   "source": [
    "data = [\n",
    "    (\"bacon\", 4.0),\n",
    "    (\"pulled pork\", 3.0),\n",
    "    (\"bacon\", 12.0),\n",
    "    (\"pastrami\", 6.0),\n",
    "    (\"corned beef\", 7.5),\n",
    "    (\"bacon\", 8.0),\n",
    "    (\"pastrami\", 3.0),\n",
    "    (\"honey ham\", 5.0),\n",
    "    (\"nova lox\", 6.0),\n",
    "  ]"
   ]
  },
  {
   "cell_type": "code",
   "execution_count": 22,
   "id": "5068972a-f7be-44f8-875f-cc2eed32ed8b",
   "metadata": {
    "tags": []
   },
   "outputs": [],
   "source": [
    "schema = StructType([\n",
    "    StructField(\"Food\", StringType(),True),\n",
    "    StructField(\"Ounces\", DoubleType(),True),\n",
    "])"
   ]
  },
  {
   "cell_type": "code",
   "execution_count": 23,
   "id": "0c73dae9-1c66-4005-9c76-1071d694dec9",
   "metadata": {
    "tags": []
   },
   "outputs": [],
   "source": [
    "df_food = spark.createDataFrame(data=data,schema=schema)"
   ]
  },
  {
   "cell_type": "code",
   "execution_count": 24,
   "id": "3a509065-aa38-4aaf-8f69-b4b4e0ebaea9",
   "metadata": {
    "tags": []
   },
   "outputs": [
    {
     "name": "stdout",
     "output_type": "stream",
     "text": [
      "+-----------+------+\n",
      "|       Food|Ounces|\n",
      "+-----------+------+\n",
      "|      bacon|   4.0|\n",
      "|pulled pork|   3.0|\n",
      "|      bacon|  12.0|\n",
      "|   pastrami|   6.0|\n",
      "|corned beef|   7.5|\n",
      "|      bacon|   8.0|\n",
      "|   pastrami|   3.0|\n",
      "|  honey ham|   5.0|\n",
      "|   nova lox|   6.0|\n",
      "+-----------+------+\n",
      "\n"
     ]
    }
   ],
   "source": [
    "df_food.show()"
   ]
  },
  {
   "cell_type": "code",
   "execution_count": 25,
   "id": "f1b9bb1b-cb03-4bd0-9056-ae9068bd64f7",
   "metadata": {
    "tags": []
   },
   "outputs": [],
   "source": [
    "from pyspark.sql.functions import udf"
   ]
  },
  {
   "cell_type": "code",
   "execution_count": 26,
   "id": "9f77d167-9c78-4109-9db1-47d36642ddf8",
   "metadata": {
    "tags": []
   },
   "outputs": [],
   "source": [
    "def food2animal(column):\n",
    "    if column == 'bacon':\n",
    "        return 'pig'\n",
    "    elif column == 'pulled pork':\n",
    "        return 'pig'\n",
    "    elif column == 'pastrami':\n",
    "        return 'cow'\n",
    "    elif column == 'corned beef':\n",
    "        return 'cow'\n",
    "    elif column == 'honey ham':\n",
    "        return 'pig'\n",
    "    else:\n",
    "        return 'salmon'"
   ]
  },
  {
   "cell_type": "code",
   "execution_count": 27,
   "id": "5c27b954-7ba5-4ab9-8fe1-ba04c699b587",
   "metadata": {
    "tags": []
   },
   "outputs": [],
   "source": [
    "food2animal_udf = udf(food2animal, StringType())"
   ]
  },
  {
   "cell_type": "code",
   "execution_count": 28,
   "id": "85c09490-2482-417b-8d64-33e207f0f6c7",
   "metadata": {
    "tags": []
   },
   "outputs": [],
   "source": [
    "df_food_with_animal = df_food.withColumn(\"animal\", food2animal_udf(\"Food\"))"
   ]
  },
  {
   "cell_type": "code",
   "execution_count": 29,
   "id": "ba999d25-4ff8-4156-91db-0cc0a1f486c7",
   "metadata": {
    "tags": []
   },
   "outputs": [
    {
     "name": "stderr",
     "output_type": "stream",
     "text": [
      "                                                                                \r"
     ]
    },
    {
     "name": "stdout",
     "output_type": "stream",
     "text": [
      "+-----------+------+------+\n",
      "|       Food|Ounces|animal|\n",
      "+-----------+------+------+\n",
      "|      bacon|   4.0|   pig|\n",
      "|pulled pork|   3.0|   pig|\n",
      "|      bacon|  12.0|   pig|\n",
      "|   pastrami|   6.0|   cow|\n",
      "|corned beef|   7.5|   cow|\n",
      "|      bacon|   8.0|   pig|\n",
      "|   pastrami|   3.0|   cow|\n",
      "|  honey ham|   5.0|   pig|\n",
      "|   nova lox|   6.0|salmon|\n",
      "+-----------+------+------+\n",
      "\n"
     ]
    }
   ],
   "source": [
    "df_food_with_animal.show()"
   ]
  },
  {
   "cell_type": "markdown",
   "id": "e052571d-f7de-4546-83dc-36c36e61a93b",
   "metadata": {},
   "source": [
    "<a id=\"when\">"
   ]
  },
  {
   "cell_type": "markdown",
   "id": "ecb7f0f4-771c-4b9c-9332-4bd571642463",
   "metadata": {},
   "source": [
    "#### Using `when` to duplicate IF-ELSE Logic To Create New Column"
   ]
  },
  {
   "cell_type": "markdown",
   "id": "afeb3b31-e989-4b61-b68f-d07dc8030c92",
   "metadata": {},
   "source": [
    "[[Back to Top](#top)]"
   ]
  },
  {
   "cell_type": "code",
   "execution_count": 30,
   "id": "9e27ff58-d312-4aee-be3e-5aede9ec0f59",
   "metadata": {
    "tags": []
   },
   "outputs": [],
   "source": [
    "from pyspark.sql.functions import when"
   ]
  },
  {
   "cell_type": "code",
   "execution_count": 31,
   "id": "c3e4a3de-319e-4c7c-a793-3dcb26feeecf",
   "metadata": {
    "tags": []
   },
   "outputs": [],
   "source": [
    "data = [\n",
    "    (\"bacon\", 4.0),\n",
    "    (\"pulled pork\", 3.0),\n",
    "    (\"bacon\", 12.0),\n",
    "    (\"pastrami\", 6.0),\n",
    "    (\"corned beef\", 7.5),\n",
    "    (\"bacon\", 8.0),\n",
    "    (\"pastrami\", 3.0),\n",
    "    (\"honey ham\", 5.0),\n",
    "    (\"nova lox\", 6.0),\n",
    "  ]\n",
    "\n",
    "schema = StructType([\n",
    "    StructField(\"Food\", StringType(),True),\n",
    "    StructField(\"Ounces\", DoubleType(),True),\n",
    "])\n",
    "\n",
    "df_food = spark.createDataFrame(data=data,schema=schema)"
   ]
  },
  {
   "cell_type": "code",
   "execution_count": 32,
   "id": "da733348-e6e7-4ac6-8ff4-dc323912475f",
   "metadata": {
    "tags": []
   },
   "outputs": [
    {
     "name": "stdout",
     "output_type": "stream",
     "text": [
      "+-----------+------+\n",
      "|       Food|Ounces|\n",
      "+-----------+------+\n",
      "|      bacon|   4.0|\n",
      "|pulled pork|   3.0|\n",
      "|      bacon|  12.0|\n",
      "|   pastrami|   6.0|\n",
      "|corned beef|   7.5|\n",
      "|      bacon|   8.0|\n",
      "|   pastrami|   3.0|\n",
      "|  honey ham|   5.0|\n",
      "|   nova lox|   6.0|\n",
      "+-----------+------+\n",
      "\n"
     ]
    }
   ],
   "source": [
    "df_food.show()"
   ]
  },
  {
   "cell_type": "code",
   "execution_count": 33,
   "id": "13926ea7-9a7d-4a01-87d7-299b29c19ddc",
   "metadata": {
    "tags": []
   },
   "outputs": [
    {
     "data": {
      "text/html": [
       "<table border='1'>\n",
       "<tr><th>Food</th><th>Ounces</th><th>Animal</th></tr>\n",
       "<tr><td>bacon</td><td>4.0</td><td>pork</td></tr>\n",
       "<tr><td>pulled pork</td><td>3.0</td><td>pork</td></tr>\n",
       "<tr><td>bacon</td><td>12.0</td><td>pork</td></tr>\n",
       "<tr><td>pastrami</td><td>6.0</td><td>cow</td></tr>\n",
       "<tr><td>corned beef</td><td>7.5</td><td>cow</td></tr>\n",
       "<tr><td>bacon</td><td>8.0</td><td>pork</td></tr>\n",
       "<tr><td>pastrami</td><td>3.0</td><td>cow</td></tr>\n",
       "<tr><td>honey ham</td><td>5.0</td><td>pig</td></tr>\n",
       "<tr><td>nova lox</td><td>6.0</td><td>salmon</td></tr>\n",
       "</table>\n"
      ],
      "text/plain": [
       "+-----------+------+------+\n",
       "|       Food|Ounces|Animal|\n",
       "+-----------+------+------+\n",
       "|      bacon|   4.0|  pork|\n",
       "|pulled pork|   3.0|  pork|\n",
       "|      bacon|  12.0|  pork|\n",
       "|   pastrami|   6.0|   cow|\n",
       "|corned beef|   7.5|   cow|\n",
       "|      bacon|   8.0|  pork|\n",
       "|   pastrami|   3.0|   cow|\n",
       "|  honey ham|   5.0|   pig|\n",
       "|   nova lox|   6.0|salmon|\n",
       "+-----------+------+------+"
      ]
     },
     "execution_count": 33,
     "metadata": {},
     "output_type": "execute_result"
    }
   ],
   "source": [
    "df_food.withColumn(\n",
    "    'Animal',\n",
    "    when(col(\"Food\") == 'bacon', 'pork')\n",
    "    .when(col(\"Food\") == 'pulled pork', 'pork')\n",
    "    .when(col(\"Food\") == 'pastrami', 'cow')\n",
    "    .when(col(\"Food\") == 'corned beef', 'cow')\n",
    "    .when(col(\"Food\") == 'honey ham', 'pig')\n",
    "    .otherwise('salmon')\n",
    ")"
   ]
  },
  {
   "cell_type": "markdown",
   "id": "abc8dec1-538c-47ed-9ba9-e03a5fd25821",
   "metadata": {},
   "source": [
    "<a id=\"re-order\">"
   ]
  },
  {
   "cell_type": "markdown",
   "id": "49bdce4e-9099-4b44-8fd4-5e0cd05b38fd",
   "metadata": {},
   "source": [
    "<a id=\"sql_when\">"
   ]
  },
  {
   "cell_type": "markdown",
   "id": "42a2bcab-89a9-40b2-9453-f9f7b02397f1",
   "metadata": {},
   "source": [
    "## Using sql to create new column"
   ]
  },
  {
   "cell_type": "markdown",
   "id": "158a00f4-83d7-47dd-8507-b0a145d35bea",
   "metadata": {},
   "source": [
    "[[Back to Top](#top)]"
   ]
  },
  {
   "cell_type": "code",
   "execution_count": 5,
   "id": "ea65a8f1-76b4-459a-9079-e30187d4f0a9",
   "metadata": {
    "tags": []
   },
   "outputs": [],
   "source": [
    "data = [\n",
    "    (\"bacon\", 4.0),\n",
    "    (\"pulled pork\", 3.0),\n",
    "    (\"bacon\", 12.0),\n",
    "    (\"pastrami\", 6.0),\n",
    "    (\"corned beef\", 7.5),\n",
    "    (\"bacon\", 8.0),\n",
    "    (\"pastrami\", 3.0),\n",
    "    (\"honey ham\", 5.0),\n",
    "    (\"nova lox\", 6.0),\n",
    "  ]\n",
    "\n",
    "schema = StructType([\n",
    "    StructField(\"Food\", StringType(),True),\n",
    "    StructField(\"Ounces\", DoubleType(),True),\n",
    "  ])\n",
    "\n",
    "df_food = spark.createDataFrame(data=data,schema=schema)"
   ]
  },
  {
   "cell_type": "code",
   "execution_count": 6,
   "id": "865f34fa-5050-4831-8174-fd27d3744aa7",
   "metadata": {},
   "outputs": [
    {
     "name": "stderr",
     "output_type": "stream",
     "text": [
      "                                                                                \r"
     ]
    },
    {
     "name": "stdout",
     "output_type": "stream",
     "text": [
      "+-----------+------+\n",
      "|       Food|Ounces|\n",
      "+-----------+------+\n",
      "|      bacon|   4.0|\n",
      "|pulled pork|   3.0|\n",
      "|      bacon|  12.0|\n",
      "|   pastrami|   6.0|\n",
      "|corned beef|   7.5|\n",
      "|      bacon|   8.0|\n",
      "|   pastrami|   3.0|\n",
      "|  honey ham|   5.0|\n",
      "|   nova lox|   6.0|\n",
      "+-----------+------+\n",
      "\n"
     ]
    }
   ],
   "source": [
    "df_food.show()"
   ]
  },
  {
   "cell_type": "code",
   "execution_count": 7,
   "id": "467b9233-5c3a-4bef-90b6-b5caac73f802",
   "metadata": {
    "tags": []
   },
   "outputs": [
    {
     "name": "stdout",
     "output_type": "stream",
     "text": [
      "+-----------+------+------+\n",
      "|       Food|Ounces|Animal|\n",
      "+-----------+------+------+\n",
      "|      bacon|   4.0|   pig|\n",
      "|pulled pork|   3.0|   pig|\n",
      "|      bacon|  12.0|   pig|\n",
      "|   pastrami|   6.0|   cow|\n",
      "|corned beef|   7.5|   cow|\n",
      "|      bacon|   8.0|   pig|\n",
      "|   pastrami|   3.0|   cow|\n",
      "|  honey ham|   5.0|   pig|\n",
      "|   nova lox|   6.0|salmon|\n",
      "+-----------+------+------+\n",
      "\n"
     ]
    }
   ],
   "source": [
    "df_food.createOrReplaceTempView('food_table')\n",
    "newDF = spark.sql(\n",
    "    '''\n",
    "    select *,\n",
    "    case\n",
    "    when Food = 'bacon' then 'pig'\n",
    "    when Food = 'pulled pork' then 'pig'\n",
    "    when Food = 'pastrami' then 'cow'\n",
    "    when Food = 'corned beef' then 'cow'\n",
    "    when Food = 'honey ham' then 'pig'\n",
    "    else 'salmon' end as Animal from food_table\n",
    "    '''\n",
    ")\n",
    "newDF.show()"
   ]
  },
  {
   "cell_type": "markdown",
   "id": "a8e6237c-c75f-4e7d-b61b-b3345e200ea0",
   "metadata": {},
   "source": [
    "**New in PySpark 3.4** - We no longer need to create temp view to directly query a dataframe using SQL:"
   ]
  },
  {
   "cell_type": "code",
   "execution_count": 10,
   "id": "26fdde28-1354-4aab-b0bb-e273817cb588",
   "metadata": {},
   "outputs": [
    {
     "data": {
      "text/html": [
       "<table border='1'>\n",
       "<tr><th>Food</th><th>Ounces</th><th>Animal</th></tr>\n",
       "<tr><td>bacon</td><td>4.0</td><td>pig</td></tr>\n",
       "<tr><td>pulled pork</td><td>3.0</td><td>pig</td></tr>\n",
       "<tr><td>bacon</td><td>12.0</td><td>pig</td></tr>\n",
       "<tr><td>pastrami</td><td>6.0</td><td>cow</td></tr>\n",
       "<tr><td>corned beef</td><td>7.5</td><td>cow</td></tr>\n",
       "<tr><td>bacon</td><td>8.0</td><td>pig</td></tr>\n",
       "<tr><td>pastrami</td><td>3.0</td><td>cow</td></tr>\n",
       "<tr><td>honey ham</td><td>5.0</td><td>pig</td></tr>\n",
       "<tr><td>nova lox</td><td>6.0</td><td>salmon</td></tr>\n",
       "</table>\n"
      ],
      "text/plain": [
       "+-----------+------+------+\n",
       "|       Food|Ounces|Animal|\n",
       "+-----------+------+------+\n",
       "|      bacon|   4.0|   pig|\n",
       "|pulled pork|   3.0|   pig|\n",
       "|      bacon|  12.0|   pig|\n",
       "|   pastrami|   6.0|   cow|\n",
       "|corned beef|   7.5|   cow|\n",
       "|      bacon|   8.0|   pig|\n",
       "|   pastrami|   3.0|   cow|\n",
       "|  honey ham|   5.0|   pig|\n",
       "|   nova lox|   6.0|salmon|\n",
       "+-----------+------+------+"
      ]
     },
     "execution_count": 10,
     "metadata": {},
     "output_type": "execute_result"
    }
   ],
   "source": [
    "spark.sql(\n",
    "    \"select * from {df}\", df=newDF\n",
    ")"
   ]
  },
  {
   "cell_type": "markdown",
   "id": "1eb58e54-b071-4858-9150-e60311a2e890",
   "metadata": {},
   "source": [
    "#### Re-Arrange Columns using `select()`"
   ]
  },
  {
   "cell_type": "markdown",
   "id": "3cfeb414-0f2e-45e7-a96e-325204dab0b9",
   "metadata": {},
   "source": [
    "[[Back to Top](#top)]"
   ]
  },
  {
   "cell_type": "code",
   "execution_count": 36,
   "id": "a2c87957-0040-4f1a-8e74-942d221af823",
   "metadata": {
    "tags": []
   },
   "outputs": [
    {
     "data": {
      "text/html": [
       "<table border='1'>\n",
       "<tr><th>Make</th><th>Model</th><th>MPG</th><th>Cylinders</th><th>Displacement</th><th>Horsepower</th><th>Weight</th><th>Acceleration</th><th>Origin</th></tr>\n",
       "<tr><td>Chevrolet</td><td>Chevelle</td><td>18.0</td><td>8</td><td>307.0</td><td>130.0</td><td>3504.0</td><td>null</td><td>US</td></tr>\n",
       "<tr><td>Buick</td><td>Skylark</td><td>15.0</td><td>8</td><td>350.0</td><td>165.0</td><td>3693.0</td><td>null</td><td>US</td></tr>\n",
       "<tr><td>Plymouth</td><td>Satellite</td><td>18.0</td><td>8</td><td>318.0</td><td>150.0</td><td>3436.0</td><td>null</td><td>US</td></tr>\n",
       "<tr><td>AMC</td><td>Rebel</td><td>16.0</td><td>8</td><td>304.0</td><td>150.0</td><td>3433.0</td><td>null</td><td>US</td></tr>\n",
       "<tr><td>Ford</td><td>Torino</td><td>17.0</td><td>8</td><td>302.0</td><td>140.0</td><td>3449.0</td><td>null</td><td>US</td></tr>\n",
       "<tr><td>Ford</td><td>Galaxie</td><td>15.0</td><td>8</td><td>429.0</td><td>198.0</td><td>4341.0</td><td>null</td><td>US</td></tr>\n",
       "<tr><td>Chevrolet</td><td>Impala</td><td>14.0</td><td>8</td><td>454.0</td><td>220.0</td><td>4354.0</td><td>null</td><td>US</td></tr>\n",
       "<tr><td>Plymouth</td><td>Fury</td><td>14.0</td><td>8</td><td>440.0</td><td>215.0</td><td>4312.0</td><td>null</td><td>US</td></tr>\n",
       "<tr><td>Pontiac</td><td>Catalina</td><td>14.0</td><td>8</td><td>455.0</td><td>225.0</td><td>4425.0</td><td>null</td><td>US</td></tr>\n",
       "<tr><td>AMC</td><td>Ambassador</td><td>15.0</td><td>8</td><td>390.0</td><td>190.0</td><td>3850.0</td><td>null</td><td>US</td></tr>\n",
       "<tr><td>Citroen</td><td>DS-21</td><td>0.0</td><td>4</td><td>133.0</td><td>115.0</td><td>3090.0</td><td>null</td><td>Europe</td></tr>\n",
       "<tr><td>Chevrolet</td><td>Chevelle</td><td>0.0</td><td>8</td><td>350.0</td><td>165.0</td><td>4142.0</td><td>null</td><td>US</td></tr>\n",
       "<tr><td>Ford</td><td>Torino</td><td>0.0</td><td>8</td><td>351.0</td><td>153.0</td><td>4034.0</td><td>null</td><td>US</td></tr>\n",
       "<tr><td>Plymouth</td><td>Satellite</td><td>0.0</td><td>8</td><td>383.0</td><td>175.0</td><td>4166.0</td><td>null</td><td>US</td></tr>\n",
       "<tr><td>AMC</td><td>Rebel</td><td>0.0</td><td>8</td><td>360.0</td><td>175.0</td><td>3850.0</td><td>null</td><td>US</td></tr>\n",
       "<tr><td>Dodge</td><td>Challenger</td><td>15.0</td><td>8</td><td>383.0</td><td>170.0</td><td>3563.0</td><td>null</td><td>US</td></tr>\n",
       "<tr><td>Plymouth</td><td>&#x27;Cuda</td><td>14.0</td><td>8</td><td>340.0</td><td>160.0</td><td>3609.0</td><td>null</td><td>US</td></tr>\n",
       "<tr><td>Ford</td><td>Mustang</td><td>0.0</td><td>8</td><td>302.0</td><td>140.0</td><td>3353.0</td><td>null</td><td>US</td></tr>\n",
       "<tr><td>Chevrolet</td><td>Monte</td><td>15.0</td><td>8</td><td>400.0</td><td>150.0</td><td>3761.0</td><td>null</td><td>US</td></tr>\n",
       "<tr><td>Buick</td><td>Estate</td><td>14.0</td><td>8</td><td>455.0</td><td>225.0</td><td>3086.0</td><td>null</td><td>US</td></tr>\n",
       "</table>\n",
       "only showing top 20 rows\n"
      ],
      "text/plain": [
       "+---------+----------+----+---------+------------+----------+------+------------+------+\n",
       "|     Make|     Model| MPG|Cylinders|Displacement|Horsepower|Weight|Acceleration|Origin|\n",
       "+---------+----------+----+---------+------------+----------+------+------------+------+\n",
       "|Chevrolet|  Chevelle|18.0|        8|       307.0|     130.0|3504.0|        null|    US|\n",
       "|    Buick|   Skylark|15.0|        8|       350.0|     165.0|3693.0|        null|    US|\n",
       "| Plymouth| Satellite|18.0|        8|       318.0|     150.0|3436.0|        null|    US|\n",
       "|      AMC|     Rebel|16.0|        8|       304.0|     150.0|3433.0|        null|    US|\n",
       "|     Ford|    Torino|17.0|        8|       302.0|     140.0|3449.0|        null|    US|\n",
       "|     Ford|   Galaxie|15.0|        8|       429.0|     198.0|4341.0|        null|    US|\n",
       "|Chevrolet|    Impala|14.0|        8|       454.0|     220.0|4354.0|        null|    US|\n",
       "| Plymouth|      Fury|14.0|        8|       440.0|     215.0|4312.0|        null|    US|\n",
       "|  Pontiac|  Catalina|14.0|        8|       455.0|     225.0|4425.0|        null|    US|\n",
       "|      AMC|Ambassador|15.0|        8|       390.0|     190.0|3850.0|        null|    US|\n",
       "|  Citroen|     DS-21| 0.0|        4|       133.0|     115.0|3090.0|        null|Europe|\n",
       "|Chevrolet|  Chevelle| 0.0|        8|       350.0|     165.0|4142.0|        null|    US|\n",
       "|     Ford|    Torino| 0.0|        8|       351.0|     153.0|4034.0|        null|    US|\n",
       "| Plymouth| Satellite| 0.0|        8|       383.0|     175.0|4166.0|        null|    US|\n",
       "|      AMC|     Rebel| 0.0|        8|       360.0|     175.0|3850.0|        null|    US|\n",
       "|    Dodge|Challenger|15.0|        8|       383.0|     170.0|3563.0|        null|    US|\n",
       "| Plymouth|     'Cuda|14.0|        8|       340.0|     160.0|3609.0|        null|    US|\n",
       "|     Ford|   Mustang| 0.0|        8|       302.0|     140.0|3353.0|        null|    US|\n",
       "|Chevrolet|     Monte|15.0|        8|       400.0|     150.0|3761.0|        null|    US|\n",
       "|    Buick|    Estate|14.0|        8|       455.0|     225.0|3086.0|        null|    US|\n",
       "+---------+----------+----+---------+------------+----------+------+------------+------+\n",
       "only showing top 20 rows"
      ]
     },
     "execution_count": 36,
     "metadata": {},
     "output_type": "execute_result"
    }
   ],
   "source": [
    "cars.select('Make', 'Model', 'MPG', 'Cylinders', 'Displacement', 'Horsepower', 'Weight', 'Acceleration', 'Origin')"
   ]
  },
  {
   "cell_type": "markdown",
   "id": "fbdd7dbf-16b4-446b-b610-5c8e84bb1ed1",
   "metadata": {},
   "source": [
    "<a id=\"summarizations\">"
   ]
  },
  {
   "cell_type": "markdown",
   "id": "1f7385bf-9470-40b5-80ff-caf34ac03fde",
   "metadata": {},
   "source": [
    "## Data Summarizations"
   ]
  },
  {
   "cell_type": "markdown",
   "id": "884f72da-f77a-4b60-9ba1-22fc12eead4b",
   "metadata": {},
   "source": [
    "[[Back to Top](#top)]"
   ]
  },
  {
   "cell_type": "code",
   "execution_count": 37,
   "id": "27b9ecaa-40b4-449e-bddb-7e704a7a228a",
   "metadata": {
    "tags": []
   },
   "outputs": [
    {
     "name": "stdout",
     "output_type": "stream",
     "text": [
      "+--------------------------------+----+---------+------------+----------+------+------------+----------+------+---------+\n",
      "|Car                             |MPG |Cylinders|Displacement|Horsepower|Weight|Acceleration|Model     |Origin|Make     |\n",
      "+--------------------------------+----+---------+------------+----------+------+------------+----------+------+---------+\n",
      "|Chevrolet Chevelle Malibu       |18.0|8        |307.0       |130.0     |3504.0|null        |Chevelle  |US    |Chevrolet|\n",
      "|Buick Skylark 320               |15.0|8        |350.0       |165.0     |3693.0|null        |Skylark   |US    |Buick    |\n",
      "|Plymouth Satellite              |18.0|8        |318.0       |150.0     |3436.0|null        |Satellite |US    |Plymouth |\n",
      "|AMC Rebel SST                   |16.0|8        |304.0       |150.0     |3433.0|null        |Rebel     |US    |AMC      |\n",
      "|Ford Torino                     |17.0|8        |302.0       |140.0     |3449.0|null        |Torino    |US    |Ford     |\n",
      "|Ford Galaxie 500                |15.0|8        |429.0       |198.0     |4341.0|null        |Galaxie   |US    |Ford     |\n",
      "|Chevrolet Impala                |14.0|8        |454.0       |220.0     |4354.0|null        |Impala    |US    |Chevrolet|\n",
      "|Plymouth Fury iii               |14.0|8        |440.0       |215.0     |4312.0|null        |Fury      |US    |Plymouth |\n",
      "|Pontiac Catalina                |14.0|8        |455.0       |225.0     |4425.0|null        |Catalina  |US    |Pontiac  |\n",
      "|AMC Ambassador DPL              |15.0|8        |390.0       |190.0     |3850.0|null        |Ambassador|US    |AMC      |\n",
      "|Citroen DS-21 Pallas            |0.0 |4        |133.0       |115.0     |3090.0|null        |DS-21     |Europe|Citroen  |\n",
      "|Chevrolet Chevelle Concours (sw)|0.0 |8        |350.0       |165.0     |4142.0|null        |Chevelle  |US    |Chevrolet|\n",
      "|Ford Torino (sw)                |0.0 |8        |351.0       |153.0     |4034.0|null        |Torino    |US    |Ford     |\n",
      "|Plymouth Satellite (sw)         |0.0 |8        |383.0       |175.0     |4166.0|null        |Satellite |US    |Plymouth |\n",
      "|AMC Rebel SST (sw)              |0.0 |8        |360.0       |175.0     |3850.0|null        |Rebel     |US    |AMC      |\n",
      "|Dodge Challenger SE             |15.0|8        |383.0       |170.0     |3563.0|null        |Challenger|US    |Dodge    |\n",
      "|Plymouth 'Cuda 340              |14.0|8        |340.0       |160.0     |3609.0|null        |'Cuda     |US    |Plymouth |\n",
      "|Ford Mustang Boss 302           |0.0 |8        |302.0       |140.0     |3353.0|null        |Mustang   |US    |Ford     |\n",
      "|Chevrolet Monte Carlo           |15.0|8        |400.0       |150.0     |3761.0|null        |Monte     |US    |Chevrolet|\n",
      "|Buick Estate Wagon (sw)         |14.0|8        |455.0       |225.0     |3086.0|null        |Estate    |US    |Buick    |\n",
      "+--------------------------------+----+---------+------------+----------+------+------------+----------+------+---------+\n",
      "only showing top 20 rows\n",
      "\n"
     ]
    }
   ],
   "source": [
    "cars.show(truncate=False)"
   ]
  },
  {
   "cell_type": "markdown",
   "id": "e253cccf-9adb-45f4-a66f-20ccb8b68956",
   "metadata": {},
   "source": [
    "#### Count of rows"
   ]
  },
  {
   "cell_type": "code",
   "execution_count": 38,
   "id": "ae3ca533-3bb8-4012-a97c-13f547338842",
   "metadata": {
    "tags": []
   },
   "outputs": [
    {
     "data": {
      "text/plain": [
       "406"
      ]
     },
     "execution_count": 38,
     "metadata": {},
     "output_type": "execute_result"
    }
   ],
   "source": [
    "cars.count()"
   ]
  },
  {
   "cell_type": "markdown",
   "id": "9e715acc-0962-46a8-9703-9f9583807f12",
   "metadata": {},
   "source": [
    "#### Counts by Groups within a Single Column"
   ]
  },
  {
   "cell_type": "code",
   "execution_count": 39,
   "id": "fae24993-345f-477a-b00a-45d079f65902",
   "metadata": {
    "tags": []
   },
   "outputs": [
    {
     "data": {
      "text/html": [
       "<table border='1'>\n",
       "<tr><th>Origin</th><th>Count</th></tr>\n",
       "<tr><td>Europe</td><td>73</td></tr>\n",
       "<tr><td>US</td><td>254</td></tr>\n",
       "<tr><td>Japan</td><td>79</td></tr>\n",
       "</table>\n"
      ],
      "text/plain": [
       "+------+-----+\n",
       "|Origin|Count|\n",
       "+------+-----+\n",
       "|Europe|   73|\n",
       "|    US|  254|\n",
       "| Japan|   79|\n",
       "+------+-----+"
      ]
     },
     "execution_count": 39,
     "metadata": {},
     "output_type": "execute_result"
    }
   ],
   "source": [
    "cars.groupBy('Origin').count().withColumnRenamed('count', 'Count')"
   ]
  },
  {
   "cell_type": "markdown",
   "id": "e09f39d4-5437-452e-9c80-085e9bf0fa7f",
   "metadata": {},
   "source": [
    "#### Aggregations"
   ]
  },
  {
   "cell_type": "code",
   "execution_count": 40,
   "id": "9a25cc30-7d77-4d87-a605-739b7c1f3959",
   "metadata": {
    "tags": []
   },
   "outputs": [],
   "source": [
    "from pyspark.sql.functions import mean "
   ]
  },
  {
   "cell_type": "code",
   "execution_count": 41,
   "id": "68c422e1-4339-43ad-8238-ba0c714316d9",
   "metadata": {
    "tags": []
   },
   "outputs": [
    {
     "name": "stdout",
     "output_type": "stream",
     "text": [
      "+------+------------------+\n",
      "|Origin|          avg(MPG)|\n",
      "+------+------------------+\n",
      "|Europe|26.745205479452057|\n",
      "|    US|19.688188976377948|\n",
      "| Japan|30.450632911392397|\n",
      "+------+------------------+\n",
      "\n"
     ]
    }
   ],
   "source": [
    "cars.groupBy(\n",
    "    \"Origin\"\n",
    ").agg(\n",
    "    mean('MPG')\n",
    ").show()"
   ]
  },
  {
   "cell_type": "markdown",
   "id": "b2329bdf-72ca-464e-ae4a-8112bf1952b4",
   "metadata": {},
   "source": [
    "<a id=\"running_total\">"
   ]
  },
  {
   "cell_type": "markdown",
   "id": "2752bf47-0dfe-4ca6-bb2c-d6e92efb72de",
   "metadata": {},
   "source": [
    "## Running Total / Cumulative Sum"
   ]
  },
  {
   "cell_type": "markdown",
   "id": "22b7bd49-d0dd-4e54-8356-2f9005d93630",
   "metadata": {},
   "source": [
    "[[Back to Top](#top)]"
   ]
  },
  {
   "cell_type": "markdown",
   "id": "039db552-7a0a-4cab-b4dd-6dd629a068af",
   "metadata": {},
   "source": [
    "`ChatGPT prompt:` Using PySpark 3.2, how do I obtain multiple running totals based on values on one column and the running totals are differentiated based on values from another column?"
   ]
  },
  {
   "cell_type": "code",
   "execution_count": 63,
   "id": "c8f7126a-2b36-4a53-b45f-c473570ddc3b",
   "metadata": {
    "tags": []
   },
   "outputs": [],
   "source": [
    "from pyspark.sql.functions import sum, col\n",
    "from pyspark.sql.window import Window"
   ]
  },
  {
   "cell_type": "code",
   "execution_count": 73,
   "id": "e5c58651-0901-4d69-9dd1-63ae0993fed5",
   "metadata": {
    "tags": []
   },
   "outputs": [],
   "source": [
    "windowSpec = Window.orderBy(col(\"Origin\")).rowsBetween(Window.unboundedPreceding, Window.currentRow)"
   ]
  },
  {
   "cell_type": "code",
   "execution_count": 74,
   "id": "1508ab6e-afeb-4d47-aa0e-2f119a19338e",
   "metadata": {
    "tags": []
   },
   "outputs": [],
   "source": [
    "cars2 = cars.withColumn(\"cumulative_sum\", sum(col(\"MPG\")).over(windowSpec))"
   ]
  },
  {
   "cell_type": "code",
   "execution_count": 75,
   "id": "7b08ffbf-63ef-4a80-b238-5cc47c64b2ef",
   "metadata": {
    "tags": []
   },
   "outputs": [
    {
     "name": "stdout",
     "output_type": "stream",
     "text": [
      "23/04/08 10:07:02 WARN WindowExec: No Partition Defined for Window operation! Moving all data to a single partition, this can cause serious performance degradation.\n",
      "23/04/08 10:07:02 WARN WindowExec: No Partition Defined for Window operation! Moving all data to a single partition, this can cause serious performance degradation.\n",
      "23/04/08 10:07:02 WARN WindowExec: No Partition Defined for Window operation! Moving all data to a single partition, this can cause serious performance degradation.\n",
      "23/04/08 10:07:02 WARN WindowExec: No Partition Defined for Window operation! Moving all data to a single partition, this can cause serious performance degradation.\n",
      "23/04/08 10:07:02 WARN WindowExec: No Partition Defined for Window operation! Moving all data to a single partition, this can cause serious performance degradation.\n",
      "+--------------------+----+---------+------------+----------+------+------------+-----+------+--------------+\n",
      "|                 Car| MPG|Cylinders|Displacement|Horsepower|Weight|Acceleration|Model|Origin|cumulative_sum|\n",
      "+--------------------+----+---------+------------+----------+------+------------+-----+------+--------------+\n",
      "|Citroen DS-21 Pallas| 0.0|        4|       133.0|     115.0|3090.0|        null|   70|Europe|           0.0|\n",
      "|Volkswagen 1131 D...|26.0|        4|        97.0|      46.0|1835.0|        null|   70|Europe|          26.0|\n",
      "|         Peugeot 504|25.0|        4|       110.0|      87.0|2672.0|        null|   70|Europe|          51.0|\n",
      "|         Audi 100 LS|24.0|        4|       107.0|      90.0|2430.0|        null|   70|Europe|          75.0|\n",
      "|            Saab 99e|25.0|        4|       104.0|      95.0|2375.0|        null|   70|Europe|         100.0|\n",
      "|            BMW 2002|26.0|        4|       121.0|     113.0|2234.0|        null|   70|Europe|         126.0|\n",
      "|Volkswagen Super ...| 0.0|        4|        97.0|      48.0|1978.0|        null|   71|Europe|         126.0|\n",
      "|           Opel 1900|28.0|        4|       116.0|      90.0|2123.0|        null|   71|Europe|         154.0|\n",
      "|         Peugeot 304|30.0|        4|        79.0|      70.0|2074.0|        null|   71|Europe|         184.0|\n",
      "|           Fiat 124B|30.0|        4|        88.0|      76.0|2065.0|        null|   71|Europe|         214.0|\n",
      "|Volkswagen Model 111|27.0|        4|        97.0|      60.0|1834.0|        null|   71|Europe|         241.0|\n",
      "|   Volkswagen Type 3|23.0|        4|        97.0|      54.0|2254.0|        null|   72|Europe|         264.0|\n",
      "|     Volvo 145e (sw)|18.0|        4|       121.0|     112.0|2933.0|        null|   72|Europe|         282.0|\n",
      "| Volkswagen 411 (sw)|22.0|        4|       121.0|      76.0|2511.0|        null|   72|Europe|         304.0|\n",
      "|    Peugeot 504 (sw)|21.0|        4|       120.0|      87.0|2979.0|        null|   72|Europe|         325.0|\n",
      "|     Renault 12 (sw)|26.0|        4|        96.0|      69.0|2189.0|        null|   72|Europe|         351.0|\n",
      "|Volkswagen Super ...|26.0|        4|        97.0|      46.0|1950.0|        null|   73|Europe|         377.0|\n",
      "|Fiat 124 Sport Coupe|26.0|        4|        98.0|      90.0|2265.0|        null|   73|Europe|         403.0|\n",
      "|            Fiat 128|29.0|        4|        68.0|      49.0|1867.0|        null|   73|Europe|         432.0|\n",
      "|          Opel Manta|24.0|        4|       116.0|      75.0|2158.0|        null|   73|Europe|         456.0|\n",
      "+--------------------+----+---------+------------+----------+------+------------+-----+------+--------------+\n",
      "only showing top 20 rows\n",
      "\n"
     ]
    }
   ],
   "source": [
    "cars2.show()"
   ]
  },
  {
   "cell_type": "markdown",
   "id": "9b774cb9-6e4b-46f0-9e19-405524c95a01",
   "metadata": {},
   "source": [
    "#### With partitioning on \"Origin\""
   ]
  },
  {
   "cell_type": "code",
   "execution_count": 76,
   "id": "fa784cc8-735a-4054-9194-9d6dd12c4939",
   "metadata": {
    "tags": []
   },
   "outputs": [],
   "source": [
    "windowSpecOrigin = Window.partitionBy(col(\"Origin\")).orderBy(col(\"MPG\")).rowsBetween(Window.unboundedPreceding, Window.currentRow)"
   ]
  },
  {
   "cell_type": "code",
   "execution_count": 77,
   "id": "3fafad73-7b63-4b71-ba0c-bc66ab26901d",
   "metadata": {
    "tags": []
   },
   "outputs": [],
   "source": [
    "cars3 = cars.withColumn(\"cumulative_sum\", sum(col(\"MPG\")).over(windowSpecOrigin))"
   ]
  },
  {
   "cell_type": "code",
   "execution_count": 78,
   "id": "0dea809f-8b55-4d5f-91a8-2c74b6a598a8",
   "metadata": {
    "tags": []
   },
   "outputs": [
    {
     "name": "stdout",
     "output_type": "stream",
     "text": [
      "+--------------------+----+---------+------------+----------+------+------------+-----+------+--------------+\n",
      "|                 Car| MPG|Cylinders|Displacement|Horsepower|Weight|Acceleration|Model|Origin|cumulative_sum|\n",
      "+--------------------+----+---------+------------+----------+------+------------+-----+------+--------------+\n",
      "|Citroen DS-21 Pallas| 0.0|        4|       133.0|     115.0|3090.0|        null|   70|Europe|           0.0|\n",
      "|Volkswagen Super ...| 0.0|        4|        97.0|      48.0|1978.0|        null|   71|Europe|           0.0|\n",
      "|           Saab 900s| 0.0|        4|       121.0|     110.0|2800.0|        null|   81|Europe|           0.0|\n",
      "|       Peugeot 604sl|16.2|        6|       163.0|     133.0|3410.0|        null|   78|Europe|          16.2|\n",
      "|  Mercedes-Benz 280s|16.5|        6|       168.0|     120.0|3820.0|        null|   76|Europe|          32.7|\n",
      "|         Volvo 264gl|17.0|        6|       163.0|     125.0|3140.0|        null|   78|Europe|          49.7|\n",
      "|     Volvo 145e (sw)|18.0|        4|       121.0|     112.0|2933.0|        null|   72|Europe|          67.7|\n",
      "|         Volvo 144ea|19.0|        4|       121.0|     112.0|2868.0|        null|   73|Europe|          86.7|\n",
      "|         Peugeot 504|19.0|        4|       120.0|      88.0|3270.0|        null|   76|Europe|         105.7|\n",
      "|          Audi 100LS|20.0|        4|       114.0|      91.0|2582.0|        null|   73|Europe|         125.7|\n",
      "|           Volvo 245|20.0|        4|       130.0|     102.0|3150.0|        null|   76|Europe|         145.7|\n",
      "|           Audi 5000|20.3|        5|       131.0|     103.0|2830.0|        null|   78|Europe|         166.0|\n",
      "|    Peugeot 504 (sw)|21.0|        4|       120.0|      87.0|2979.0|        null|   72|Europe|         187.0|\n",
      "|            BMW 320i|21.5|        4|       121.0|     110.0|2600.0|        null|   77|Europe|         208.5|\n",
      "|          Saab 99gle|21.6|        4|       121.0|     115.0|2795.0|        null|   78|Europe|         230.1|\n",
      "| Volkswagen 411 (sw)|22.0|        4|       121.0|      76.0|2511.0|        null|   72|Europe|         252.1|\n",
      "|         Volvo 244DL|22.0|        4|       121.0|      98.0|2945.0|        null|   75|Europe|         274.1|\n",
      "|   Volkswagen Type 3|23.0|        4|        97.0|      54.0|2254.0|        null|   72|Europe|         297.1|\n",
      "|          Audi 100LS|23.0|        4|       115.0|      95.0|2694.0|        null|   75|Europe|         320.1|\n",
      "|         Peugeot 504|23.0|        4|       120.0|      88.0|2957.0|        null|   75|Europe|         343.1|\n",
      "+--------------------+----+---------+------------+----------+------+------------+-----+------+--------------+\n",
      "only showing top 20 rows\n",
      "\n"
     ]
    }
   ],
   "source": [
    "cars3.show()"
   ]
  },
  {
   "cell_type": "code",
   "execution_count": 79,
   "id": "ea3027a8-252a-410f-9edb-cb856fcaf61d",
   "metadata": {
    "tags": []
   },
   "outputs": [
    {
     "name": "stdout",
     "output_type": "stream",
     "text": [
      "+--------------------+----+---------+------------+----------+------+------------+-----+------+--------------+\n",
      "|                 Car| MPG|Cylinders|Displacement|Horsepower|Weight|Acceleration|Model|Origin|cumulative_sum|\n",
      "+--------------------+----+---------+------------+----------+------+------------+-----+------+--------------+\n",
      "|Chevrolet Chevell...| 0.0|        8|       350.0|     165.0|4142.0|        null|   70|    US|           0.0|\n",
      "|    Ford Torino (sw)| 0.0|        8|       351.0|     153.0|4034.0|        null|   70|    US|           0.0|\n",
      "|Plymouth Satellit...| 0.0|        8|       383.0|     175.0|4166.0|        null|   70|    US|           0.0|\n",
      "|  AMC Rebel SST (sw)| 0.0|        8|       360.0|     175.0|3850.0|        null|   70|    US|           0.0|\n",
      "|Ford Mustang Boss...| 0.0|        8|       302.0|     140.0|3353.0|        null|   70|    US|           0.0|\n",
      "|            Hi 1200D| 9.0|        8|       304.0|     193.0|4732.0|        null|   70|    US|           9.0|\n",
      "|           Ford F250|10.0|        8|       360.0|     215.0|4615.0|        null|   70|    US|          19.0|\n",
      "|           Chevy C20|10.0|        8|       307.0|     200.0|4376.0|        null|   70|    US|          29.0|\n",
      "|          Dodge D200|11.0|        8|       318.0|     210.0|4382.0|        null|   70|    US|          40.0|\n",
      "|     Mercury Marquis|11.0|        8|       429.0|     208.0|4633.0|        null|   72|    US|          51.0|\n",
      "|    Chevrolet Impala|11.0|        8|       400.0|     150.0|4997.0|        null|   73|    US|          62.0|\n",
      "|    Oldsmobile Omega|11.0|        8|       350.0|     180.0|3664.0|        null|   73|    US|          73.0|\n",
      "|   Dodge Monaco (sw)|12.0|        8|       383.0|     180.0|4955.0|        null|   71|    US|          85.0|\n",
      "|Oldsmobile Delta ...|12.0|        8|       350.0|     160.0|4456.0|        null|   72|    US|          97.0|\n",
      "|Mercury Marquis B...|12.0|        8|       429.0|     198.0|4952.0|        null|   73|    US|         109.0|\n",
      "|Buick Electra 225...|12.0|        8|       455.0|     225.0|4951.0|        null|   73|    US|         121.0|\n",
      "|        Ford Country|12.0|        8|       400.0|     167.0|4906.0|        null|   73|    US|         133.0|\n",
      "|Oldsmobile Vista ...|12.0|        8|       350.0|     180.0|4499.0|        null|   73|    US|         145.0|\n",
      "|Ford Country Squi...|13.0|        8|       400.0|     170.0|4746.0|        null|   71|    US|         158.0|\n",
      "| Pontiac Safari (sw)|13.0|        8|       400.0|     175.0|5140.0|        null|   71|    US|         171.0|\n",
      "+--------------------+----+---------+------------+----------+------+------------+-----+------+--------------+\n",
      "only showing top 20 rows\n",
      "\n"
     ]
    }
   ],
   "source": [
    "cars3.filter(col(\"Origin\")==\"US\").show()"
   ]
  },
  {
   "cell_type": "markdown",
   "id": "70b18909-0fb0-4731-b22c-ab12c0fe59ef",
   "metadata": {},
   "source": [
    "<a id=\"merging\">"
   ]
  },
  {
   "cell_type": "markdown",
   "id": "a3b2f248-7457-4f08-9c83-f2fd6b1c8f88",
   "metadata": {},
   "source": [
    "## Joining / Merging"
   ]
  },
  {
   "cell_type": "markdown",
   "id": "55ecee65-a82d-4259-bf6a-b52402449b45",
   "metadata": {},
   "source": [
    "[[Back to Top](#top)]"
   ]
  },
  {
   "cell_type": "code",
   "execution_count": 42,
   "id": "cd9bdfd6-3dd5-4f51-98c5-4f917a9e72b2",
   "metadata": {
    "tags": []
   },
   "outputs": [],
   "source": [
    "df_counts = cars.groupBy('Origin').count().withColumnRenamed('count', 'Count')"
   ]
  },
  {
   "cell_type": "code",
   "execution_count": 43,
   "id": "564dfb6c-ba31-463a-ad88-a2afb31cfc5d",
   "metadata": {
    "tags": []
   },
   "outputs": [
    {
     "name": "stdout",
     "output_type": "stream",
     "text": [
      "+------+-----+\n",
      "|Origin|Count|\n",
      "+------+-----+\n",
      "|Europe|   73|\n",
      "|    US|  254|\n",
      "| Japan|   79|\n",
      "+------+-----+\n",
      "\n"
     ]
    }
   ],
   "source": [
    "df_counts.show()"
   ]
  },
  {
   "cell_type": "code",
   "execution_count": 44,
   "id": "7ea5a4a4-9f3d-4929-b248-f2d773eece2b",
   "metadata": {
    "tags": []
   },
   "outputs": [],
   "source": [
    "df_avgs = cars.groupBy(\n",
    "    \"Origin\"\n",
    ").agg(\n",
    "    mean('MPG')\n",
    ")"
   ]
  },
  {
   "cell_type": "code",
   "execution_count": 45,
   "id": "c20b3d2d-4770-4a8e-aa46-8dea48012612",
   "metadata": {
    "tags": []
   },
   "outputs": [
    {
     "name": "stdout",
     "output_type": "stream",
     "text": [
      "+------+------------------+\n",
      "|Origin|          avg(MPG)|\n",
      "+------+------------------+\n",
      "|Europe|26.745205479452057|\n",
      "|    US|19.688188976377948|\n",
      "| Japan|30.450632911392397|\n",
      "+------+------------------+\n",
      "\n"
     ]
    }
   ],
   "source": [
    "df_avgs.show()"
   ]
  },
  {
   "cell_type": "code",
   "execution_count": 46,
   "id": "f87e0f4c-efda-4cb1-93cd-f6e18604f16a",
   "metadata": {
    "tags": []
   },
   "outputs": [],
   "source": [
    "df_avgs = df_avgs.withColumnRenamed('avg(MPG)', 'Avg')"
   ]
  },
  {
   "cell_type": "code",
   "execution_count": 47,
   "id": "1b75b141-bde8-45e4-8b5c-30c71c742c61",
   "metadata": {
    "tags": []
   },
   "outputs": [
    {
     "name": "stdout",
     "output_type": "stream",
     "text": [
      "+------+------------------+\n",
      "|Origin|               Avg|\n",
      "+------+------------------+\n",
      "|Europe|26.745205479452057|\n",
      "|    US|19.688188976377948|\n",
      "| Japan|30.450632911392397|\n",
      "+------+------------------+\n",
      "\n"
     ]
    }
   ],
   "source": [
    "df_avgs.show()"
   ]
  },
  {
   "cell_type": "code",
   "execution_count": 48,
   "id": "2493e5b4-7a41-4704-b43e-b7ef1ac50b56",
   "metadata": {
    "tags": []
   },
   "outputs": [
    {
     "data": {
      "text/html": [
       "<table border='1'>\n",
       "<tr><th>Origin</th><th>Count</th><th>Avg</th></tr>\n",
       "<tr><td>Europe</td><td>73</td><td>26.745205479452057</td></tr>\n",
       "<tr><td>US</td><td>254</td><td>19.688188976377948</td></tr>\n",
       "<tr><td>Japan</td><td>79</td><td>30.450632911392397</td></tr>\n",
       "</table>\n"
      ],
      "text/plain": [
       "+------+-----+------------------+\n",
       "|Origin|Count|               Avg|\n",
       "+------+-----+------------------+\n",
       "|Europe|   73|26.745205479452057|\n",
       "|    US|  254|19.688188976377948|\n",
       "| Japan|   79|30.450632911392397|\n",
       "+------+-----+------------------+"
      ]
     },
     "execution_count": 48,
     "metadata": {},
     "output_type": "execute_result"
    }
   ],
   "source": [
    "df_counts.join(df_avgs, df_counts.Origin == df_avgs.Origin, 'inner').select(df_counts.Origin, df_counts.Count, df_avgs.Avg)"
   ]
  },
  {
   "cell_type": "markdown",
   "id": "8ac6bd6e-6018-45a4-ab56-3362241d6cdb",
   "metadata": {},
   "source": [
    "As you can see, we have done an inner join between two dataframes. The following joins are supported by PySpark:\n",
    "\n",
    "- inner (default)\n",
    "- cross\n",
    "- outer\n",
    "- full\n",
    "- full_outer\n",
    "- left\n",
    "- left_outer\n",
    "- right\n",
    "- right_outer\n",
    "- left_semi\n",
    "- left_anti"
   ]
  },
  {
   "cell_type": "markdown",
   "id": "63426937-adce-4f0c-9359-8493dae52f1c",
   "metadata": {},
   "source": [
    "<a id=\"filtering\">"
   ]
  },
  {
   "cell_type": "markdown",
   "id": "82297df2-3335-42af-8689-8f8f45c16ce1",
   "metadata": {},
   "source": [
    "## Filtering"
   ]
  },
  {
   "cell_type": "markdown",
   "id": "d11a0aa7-fce4-4f17-9037-3fabe6a75cf1",
   "metadata": {},
   "source": [
    "[[Back to Top](#top)]"
   ]
  },
  {
   "cell_type": "code",
   "execution_count": 49,
   "id": "986c28ff-f898-41ef-b2da-b4ef6b3da003",
   "metadata": {
    "tags": []
   },
   "outputs": [
    {
     "name": "stdout",
     "output_type": "stream",
     "text": [
      "+--------------------------------+----+---------+------------+----------+------+------------+----------+------+---------+\n",
      "|Car                             |MPG |Cylinders|Displacement|Horsepower|Weight|Acceleration|Model     |Origin|Make     |\n",
      "+--------------------------------+----+---------+------------+----------+------+------------+----------+------+---------+\n",
      "|Chevrolet Chevelle Malibu       |18.0|8        |307.0       |130.0     |3504.0|null        |Chevelle  |US    |Chevrolet|\n",
      "|Buick Skylark 320               |15.0|8        |350.0       |165.0     |3693.0|null        |Skylark   |US    |Buick    |\n",
      "|Plymouth Satellite              |18.0|8        |318.0       |150.0     |3436.0|null        |Satellite |US    |Plymouth |\n",
      "|AMC Rebel SST                   |16.0|8        |304.0       |150.0     |3433.0|null        |Rebel     |US    |AMC      |\n",
      "|Ford Torino                     |17.0|8        |302.0       |140.0     |3449.0|null        |Torino    |US    |Ford     |\n",
      "|Ford Galaxie 500                |15.0|8        |429.0       |198.0     |4341.0|null        |Galaxie   |US    |Ford     |\n",
      "|Chevrolet Impala                |14.0|8        |454.0       |220.0     |4354.0|null        |Impala    |US    |Chevrolet|\n",
      "|Plymouth Fury iii               |14.0|8        |440.0       |215.0     |4312.0|null        |Fury      |US    |Plymouth |\n",
      "|Pontiac Catalina                |14.0|8        |455.0       |225.0     |4425.0|null        |Catalina  |US    |Pontiac  |\n",
      "|AMC Ambassador DPL              |15.0|8        |390.0       |190.0     |3850.0|null        |Ambassador|US    |AMC      |\n",
      "|Citroen DS-21 Pallas            |0.0 |4        |133.0       |115.0     |3090.0|null        |DS-21     |Europe|Citroen  |\n",
      "|Chevrolet Chevelle Concours (sw)|0.0 |8        |350.0       |165.0     |4142.0|null        |Chevelle  |US    |Chevrolet|\n",
      "|Ford Torino (sw)                |0.0 |8        |351.0       |153.0     |4034.0|null        |Torino    |US    |Ford     |\n",
      "|Plymouth Satellite (sw)         |0.0 |8        |383.0       |175.0     |4166.0|null        |Satellite |US    |Plymouth |\n",
      "|AMC Rebel SST (sw)              |0.0 |8        |360.0       |175.0     |3850.0|null        |Rebel     |US    |AMC      |\n",
      "|Dodge Challenger SE             |15.0|8        |383.0       |170.0     |3563.0|null        |Challenger|US    |Dodge    |\n",
      "|Plymouth 'Cuda 340              |14.0|8        |340.0       |160.0     |3609.0|null        |'Cuda     |US    |Plymouth |\n",
      "|Ford Mustang Boss 302           |0.0 |8        |302.0       |140.0     |3353.0|null        |Mustang   |US    |Ford     |\n",
      "|Chevrolet Monte Carlo           |15.0|8        |400.0       |150.0     |3761.0|null        |Monte     |US    |Chevrolet|\n",
      "|Buick Estate Wagon (sw)         |14.0|8        |455.0       |225.0     |3086.0|null        |Estate    |US    |Buick    |\n",
      "+--------------------------------+----+---------+------------+----------+------+------------+----------+------+---------+\n",
      "only showing top 20 rows\n",
      "\n"
     ]
    }
   ],
   "source": [
    "cars.show(truncate=False)"
   ]
  },
  {
   "cell_type": "code",
   "execution_count": 50,
   "id": "b8765e3c-df74-4fee-bf2c-ef996ee618f0",
   "metadata": {
    "tags": []
   },
   "outputs": [
    {
     "name": "stdout",
     "output_type": "stream",
     "text": [
      "+--------------------+----+---------+------------+----------+------+------------+--------+------+---------+\n",
      "|                 Car| MPG|Cylinders|Displacement|Horsepower|Weight|Acceleration|   Model|Origin|     Make|\n",
      "+--------------------+----+---------+------------+----------+------+------------+--------+------+---------+\n",
      "|Chevrolet Chevell...|18.0|        8|       307.0|     130.0|3504.0|        null|Chevelle|    US|Chevrolet|\n",
      "|    Chevrolet Impala|14.0|        8|       454.0|     220.0|4354.0|        null|  Impala|    US|Chevrolet|\n",
      "|Chevrolet Chevell...| 0.0|        8|       350.0|     165.0|4142.0|        null|Chevelle|    US|Chevrolet|\n",
      "|Chevrolet Monte C...|15.0|        8|       400.0|     150.0|3761.0|        null|   Monte|    US|Chevrolet|\n",
      "| Chevrolet Vega 2300|28.0|        4|       140.0|      90.0|2264.0|        null|    Vega|    US|Chevrolet|\n",
      "+--------------------+----+---------+------------+----------+------+------------+--------+------+---------+\n",
      "only showing top 5 rows\n",
      "\n"
     ]
    }
   ],
   "source": [
    "cars.filter(col('Make')=='Chevrolet').show(5)"
   ]
  },
  {
   "cell_type": "code",
   "execution_count": 51,
   "id": "c6d298a2-6c2a-4ca7-b7e9-1aa4665fad6e",
   "metadata": {
    "tags": []
   },
   "outputs": [
    {
     "name": "stdout",
     "output_type": "stream",
     "text": [
      "+--------------------+----+---------+------------+----------+------+------------+--------+------+---------+\n",
      "|                 Car| MPG|Cylinders|Displacement|Horsepower|Weight|Acceleration|   Model|Origin|     Make|\n",
      "+--------------------+----+---------+------------+----------+------+------------+--------+------+---------+\n",
      "|Chevrolet Chevell...|18.0|        8|       307.0|     130.0|3504.0|        null|Chevelle|    US|Chevrolet|\n",
      "|    Chevrolet Impala|14.0|        8|       454.0|     220.0|4354.0|        null|  Impala|    US|Chevrolet|\n",
      "|Chevrolet Chevell...| 0.0|        8|       350.0|     165.0|4142.0|        null|Chevelle|    US|Chevrolet|\n",
      "|Chevrolet Monte C...|15.0|        8|       400.0|     150.0|3761.0|        null|   Monte|    US|Chevrolet|\n",
      "|           Chevy C20|10.0|        8|       307.0|     200.0|4376.0|        null|     C20|    US|    Chevy|\n",
      "+--------------------+----+---------+------------+----------+------+------------+--------+------+---------+\n",
      "only showing top 5 rows\n",
      "\n"
     ]
    }
   ],
   "source": [
    "cars.filter(col('Make').contains('Chev')).show(5)"
   ]
  },
  {
   "cell_type": "code",
   "execution_count": 52,
   "id": "a1687272-10c9-4899-8933-e0d6c20f3592",
   "metadata": {
    "tags": []
   },
   "outputs": [
    {
     "name": "stdout",
     "output_type": "stream",
     "text": [
      "+--------------------+----+---------+------------+----------+------+------------+--------+------+----------+\n",
      "|                 Car| MPG|Cylinders|Displacement|Horsepower|Weight|Acceleration|   Model|Origin|      Make|\n",
      "+--------------------+----+---------+------------+----------+------+------------+--------+------+----------+\n",
      "| Chevrolet Vega 2300|28.0|        4|       140.0|      90.0|2264.0|        null|    Vega|    US| Chevrolet|\n",
      "|Chevrolet Chevell...|17.0|        6|       250.0|     100.0|3329.0|        null|Chevelle|    US| Chevrolet|\n",
      "| Chevrolet Vega (sw)|22.0|        4|       140.0|      72.0|2408.0|        null|    Vega|    US| Chevrolet|\n",
      "|      Chevrolet Vega|20.0|        4|       140.0|      90.0|2408.0|        null|    Vega|    US| Chevrolet|\n",
      "|Chevrolet Nova Cu...|16.0|        6|       250.0|     100.0|3278.0|        null|    Nova|    US| Chevrolet|\n",
      "|      Chevrolet Vega|21.0|        4|       140.0|      72.0|2401.0|        null|    Vega|    US| Chevrolet|\n",
      "|      Chevrolet Nova|15.0|        6|       250.0|     100.0|3336.0|        null|    Nova|    US| Chevrolet|\n",
      "|      Chevrolet Vega|25.0|        4|       140.0|      75.0|2542.0|        null|    Vega|    US| Chevrolet|\n",
      "|Chevrolet Chevell...|16.0|        6|       250.0|     100.0|3781.0|        null|Chevelle|    US| Chevrolet|\n",
      "|      Chevrolet Nova|18.0|        6|       250.0|     105.0|3459.0|        null|    Nova|    US| Chevrolet|\n",
      "|Chevrolete Chevel...|16.0|        6|       250.0|     105.0|3897.0|        null|Chevelle|    US|Chevrolete|\n",
      "|      Chevrolet Nova|22.0|        6|       250.0|     105.0|3353.0|        null|    Nova|    US| Chevrolet|\n",
      "|  Chevrolet Chevette|29.0|        4|        85.0|      52.0|2035.0|        null|Chevette|    US| Chevrolet|\n",
      "|     Chevrolet Woody|24.5|        4|        98.0|      60.0|2164.0|        null|   Woody|    US| Chevrolet|\n",
      "|  Chevrolet Concours|17.5|        6|       250.0|     110.0|3520.0|        null|Concours|    US| Chevrolet|\n",
      "|  Chevrolet Chevette|30.5|        4|        98.0|      63.0|2051.0|        null|Chevette|    US| Chevrolet|\n",
      "|    Chevrolet Malibu|20.5|        6|       200.0|      95.0|3155.0|        null|  Malibu|    US| Chevrolet|\n",
      "|  Chevrolet Chevette|30.0|        4|        98.0|      68.0|2155.0|        null|Chevette|    US| Chevrolet|\n",
      "|  Chevrolet Citation|28.8|        6|       173.0|     115.0|2595.0|        null|Citation|    US| Chevrolet|\n",
      "|  Chevrolet Chevette|32.1|        4|        98.0|      70.0|2120.0|        null|Chevette|    US| Chevrolet|\n",
      "+--------------------+----+---------+------------+----------+------+------------+--------+------+----------+\n",
      "only showing top 20 rows\n",
      "\n"
     ]
    }
   ],
   "source": [
    "cars.filter(\n",
    "    (col('Make').contains('Chev')) &\n",
    "    (col('Cylinders') < 8)\n",
    ").show()"
   ]
  },
  {
   "cell_type": "code",
   "execution_count": 53,
   "id": "4be11f0d-200c-4b84-abbe-ca8e4b112147",
   "metadata": {
    "tags": []
   },
   "outputs": [],
   "source": [
    "spark.stop()"
   ]
  },
  {
   "cell_type": "markdown",
   "id": "47ae2af2-cec9-4a16-9b78-f90a2280f802",
   "metadata": {},
   "source": [
    "<a id=\"exploding_arrays\">"
   ]
  },
  {
   "cell_type": "markdown",
   "id": "6b8474fa-0b59-4b2f-af32-a27ce5943be6",
   "metadata": {},
   "source": [
    "## Exploding Arrays"
   ]
  },
  {
   "cell_type": "markdown",
   "id": "6e7ea2fb-195b-41d2-8bef-4133c9f8588e",
   "metadata": {},
   "source": [
    "[[Back to Top](#top)]"
   ]
  },
  {
   "cell_type": "markdown",
   "id": "f9ebe18d-a835-499e-90f3-0c01191c9efc",
   "metadata": {},
   "source": [
    "Data set: movies data set from movielens"
   ]
  },
  {
   "cell_type": "markdown",
   "id": "685eda16-18ba-43b1-b7e6-74b462e7db0a",
   "metadata": {},
   "source": [
    "Question: Which genre of movie is the most popular?"
   ]
  },
  {
   "cell_type": "code",
   "execution_count": 3,
   "id": "d73b22f3-247b-44f0-ad2e-21e160bcde83",
   "metadata": {},
   "outputs": [
    {
     "name": "stdout",
     "output_type": "stream",
     "text": [
      "movieId,title,genres\n",
      "1,Toy Story (1995),Adventure|Animation|Children|Comedy|Fantasy\n",
      "2,Jumanji (1995),Adventure|Children|Fantasy\n",
      "3,Grumpier Old Men (1995),Comedy|Romance\n",
      "4,Waiting to Exhale (1995),Comedy|Drama|Romance\n",
      "5,Father of the Bride Part II (1995),Comedy\n",
      "6,Heat (1995),Action|Crime|Thriller\n",
      "7,Sabrina (1995),Comedy|Romance\n",
      "8,Tom and Huck (1995),Adventure|Children\n",
      "9,Sudden Death (1995),Action\n"
     ]
    }
   ],
   "source": [
    "!head data/movies.csv"
   ]
  },
  {
   "cell_type": "markdown",
   "id": "2396d15d-0269-4fc0-aaef-1b823293f074",
   "metadata": {},
   "source": [
    "As can be seen by our sample data above, the problem we are facing is that a movie can have more than one genre, delimited by the pipe/\"|\" symbol.  So with the data in its current form, it would be difficult to obtain the counts by genre.  We will need to transform the data such that the counts by genre can be made."
   ]
  },
  {
   "cell_type": "markdown",
   "id": "5dac6156-26a8-4ecd-8d44-e77cf70a7c46",
   "metadata": {},
   "source": [
    "Transformation plan:\n",
    "- We will convert the genres into an array\n",
    "- Then \"explode\" the genres such that each genre will be in its own row.  Consequently, this means the other columns will be repeating.\n",
    "- Then perform a count by \"genre\""
   ]
  },
  {
   "cell_type": "code",
   "execution_count": 4,
   "id": "a904d94b-cb7a-4aac-80a0-953130b548e6",
   "metadata": {},
   "outputs": [
    {
     "name": "stderr",
     "output_type": "stream",
     "text": [
      "                                                                                \r"
     ]
    }
   ],
   "source": [
    "movies = spark.read.csv('data/movies.csv', header=True, sep=\",\", inferSchema=True)"
   ]
  },
  {
   "cell_type": "code",
   "execution_count": 5,
   "id": "f7bc0ae6-6326-4f22-be44-666e1b9f1212",
   "metadata": {},
   "outputs": [
    {
     "name": "stdout",
     "output_type": "stream",
     "text": [
      "+-------+--------------------+--------------------+\n",
      "|movieId|               title|              genres|\n",
      "+-------+--------------------+--------------------+\n",
      "|      1|    Toy Story (1995)|Adventure|Animati...|\n",
      "|      2|      Jumanji (1995)|Adventure|Childre...|\n",
      "|      3|Grumpier Old Men ...|      Comedy|Romance|\n",
      "|      4|Waiting to Exhale...|Comedy|Drama|Romance|\n",
      "|      5|Father of the Bri...|              Comedy|\n",
      "|      6|         Heat (1995)|Action|Crime|Thri...|\n",
      "|      7|      Sabrina (1995)|      Comedy|Romance|\n",
      "|      8| Tom and Huck (1995)|  Adventure|Children|\n",
      "|      9| Sudden Death (1995)|              Action|\n",
      "|     10|    GoldenEye (1995)|Action|Adventure|...|\n",
      "|     11|American Presiden...|Comedy|Drama|Romance|\n",
      "|     12|Dracula: Dead and...|       Comedy|Horror|\n",
      "|     13|        Balto (1995)|Adventure|Animati...|\n",
      "|     14|        Nixon (1995)|               Drama|\n",
      "|     15|Cutthroat Island ...|Action|Adventure|...|\n",
      "|     16|       Casino (1995)|         Crime|Drama|\n",
      "|     17|Sense and Sensibi...|       Drama|Romance|\n",
      "|     18|   Four Rooms (1995)|              Comedy|\n",
      "|     19|Ace Ventura: When...|              Comedy|\n",
      "|     20|  Money Train (1995)|Action|Comedy|Cri...|\n",
      "+-------+--------------------+--------------------+\n",
      "only showing top 20 rows\n",
      "\n"
     ]
    }
   ],
   "source": [
    "movies.show()"
   ]
  },
  {
   "cell_type": "code",
   "execution_count": 12,
   "id": "ef12d9f3-3a15-4897-bb18-f0408a06e5e3",
   "metadata": {},
   "outputs": [],
   "source": [
    "from pyspark.sql.functions import col, split, explode"
   ]
  },
  {
   "cell_type": "markdown",
   "id": "555634a4-9664-4e08-9888-c774616c801b",
   "metadata": {},
   "source": [
    "#### Answer: Drama"
   ]
  },
  {
   "cell_type": "code",
   "execution_count": 22,
   "id": "2b4523d1-d242-44a4-9751-855d62d86bb5",
   "metadata": {},
   "outputs": [
    {
     "name": "stdout",
     "output_type": "stream",
     "text": [
      "+-----+-----+\n",
      "|Genre|Count|\n",
      "+-----+-----+\n",
      "|Drama|25606|\n",
      "+-----+-----+\n",
      "only showing top 1 row\n",
      "\n"
     ]
    }
   ],
   "source": [
    "(\n",
    "    movies\n",
    "    .withColumn(\"genres_array\", split(col(\"genres\"), \"\\|\"))\n",
    "    .drop(col(\"genres\"))\n",
    "    .withColumn(\"genre\", explode(col(\"genres_array\")))\n",
    "    .groupby(col(\"genre\"))\n",
    "    .count()\n",
    "    .withColumnRenamed(\"genre\", \"Genre\")\n",
    "    .withColumnRenamed('count', 'Count')\n",
    "    .sort(col(\"Count\"), ascending=False)\n",
    "    .filter(col(\"Genre\") != '(no genres listed)')\n",
    ").show(1)"
   ]
  },
  {
   "cell_type": "markdown",
   "id": "eed1c896-a0bc-49ba-b627-3a69942f39eb",
   "metadata": {},
   "source": [
    "<a id=\"regex\">"
   ]
  },
  {
   "cell_type": "markdown",
   "id": "fb6f45a1-4825-4875-9ae0-d828de7d5a27",
   "metadata": {},
   "source": [
    "## Using Regular Expressions (RegEx)"
   ]
  },
  {
   "cell_type": "markdown",
   "id": "2f57d9ea-d287-435b-88b1-389b6f9cc434",
   "metadata": {},
   "source": [
    "[[Back to Top](#top)]"
   ]
  },
  {
   "cell_type": "code",
   "execution_count": 23,
   "id": "fd13afb7-334b-4ee3-8121-fe92eb616666",
   "metadata": {},
   "outputs": [],
   "source": [
    "from pyspark.sql.functions import regexp_extract"
   ]
  },
  {
   "cell_type": "code",
   "execution_count": 29,
   "id": "d131ec25-b7ea-4c72-bc52-f1599e007cd3",
   "metadata": {},
   "outputs": [
    {
     "data": {
      "text/html": [
       "<table border='1'>\n",
       "<tr><th>movieId</th><th>title</th><th>genres</th><th>year</th></tr>\n",
       "<tr><td>1</td><td>Toy Story (1995)</td><td>Adventure|Animati...</td><td>1995</td></tr>\n",
       "<tr><td>2</td><td>Jumanji (1995)</td><td>Adventure|Childre...</td><td>1995</td></tr>\n",
       "<tr><td>3</td><td>Grumpier Old Men ...</td><td>Comedy|Romance</td><td>1995</td></tr>\n",
       "<tr><td>4</td><td>Waiting to Exhale...</td><td>Comedy|Drama|Romance</td><td>1995</td></tr>\n",
       "<tr><td>5</td><td>Father of the Bri...</td><td>Comedy</td><td>1995</td></tr>\n",
       "<tr><td>6</td><td>Heat (1995)</td><td>Action|Crime|Thri...</td><td>1995</td></tr>\n",
       "<tr><td>7</td><td>Sabrina (1995)</td><td>Comedy|Romance</td><td>1995</td></tr>\n",
       "<tr><td>8</td><td>Tom and Huck (1995)</td><td>Adventure|Children</td><td>1995</td></tr>\n",
       "<tr><td>9</td><td>Sudden Death (1995)</td><td>Action</td><td>1995</td></tr>\n",
       "<tr><td>10</td><td>GoldenEye (1995)</td><td>Action|Adventure|...</td><td>1995</td></tr>\n",
       "<tr><td>11</td><td>American Presiden...</td><td>Comedy|Drama|Romance</td><td>1995</td></tr>\n",
       "<tr><td>12</td><td>Dracula: Dead and...</td><td>Comedy|Horror</td><td>1995</td></tr>\n",
       "<tr><td>13</td><td>Balto (1995)</td><td>Adventure|Animati...</td><td>1995</td></tr>\n",
       "<tr><td>14</td><td>Nixon (1995)</td><td>Drama</td><td>1995</td></tr>\n",
       "<tr><td>15</td><td>Cutthroat Island ...</td><td>Action|Adventure|...</td><td>1995</td></tr>\n",
       "<tr><td>16</td><td>Casino (1995)</td><td>Crime|Drama</td><td>1995</td></tr>\n",
       "<tr><td>17</td><td>Sense and Sensibi...</td><td>Drama|Romance</td><td>1995</td></tr>\n",
       "<tr><td>18</td><td>Four Rooms (1995)</td><td>Comedy</td><td>1995</td></tr>\n",
       "<tr><td>19</td><td>Ace Ventura: When...</td><td>Comedy</td><td>1995</td></tr>\n",
       "<tr><td>20</td><td>Money Train (1995)</td><td>Action|Comedy|Cri...</td><td>1995</td></tr>\n",
       "</table>\n",
       "only showing top 20 rows\n"
      ],
      "text/plain": [
       "+-------+--------------------+--------------------+----+\n",
       "|movieId|               title|              genres|year|\n",
       "+-------+--------------------+--------------------+----+\n",
       "|      1|    Toy Story (1995)|Adventure|Animati...|1995|\n",
       "|      2|      Jumanji (1995)|Adventure|Childre...|1995|\n",
       "|      3|Grumpier Old Men ...|      Comedy|Romance|1995|\n",
       "|      4|Waiting to Exhale...|Comedy|Drama|Romance|1995|\n",
       "|      5|Father of the Bri...|              Comedy|1995|\n",
       "|      6|         Heat (1995)|Action|Crime|Thri...|1995|\n",
       "|      7|      Sabrina (1995)|      Comedy|Romance|1995|\n",
       "|      8| Tom and Huck (1995)|  Adventure|Children|1995|\n",
       "|      9| Sudden Death (1995)|              Action|1995|\n",
       "|     10|    GoldenEye (1995)|Action|Adventure|...|1995|\n",
       "|     11|American Presiden...|Comedy|Drama|Romance|1995|\n",
       "|     12|Dracula: Dead and...|       Comedy|Horror|1995|\n",
       "|     13|        Balto (1995)|Adventure|Animati...|1995|\n",
       "|     14|        Nixon (1995)|               Drama|1995|\n",
       "|     15|Cutthroat Island ...|Action|Adventure|...|1995|\n",
       "|     16|       Casino (1995)|         Crime|Drama|1995|\n",
       "|     17|Sense and Sensibi...|       Drama|Romance|1995|\n",
       "|     18|   Four Rooms (1995)|              Comedy|1995|\n",
       "|     19|Ace Ventura: When...|              Comedy|1995|\n",
       "|     20|  Money Train (1995)|Action|Comedy|Cri...|1995|\n",
       "+-------+--------------------+--------------------+----+\n",
       "only showing top 20 rows"
      ]
     },
     "execution_count": 29,
     "metadata": {},
     "output_type": "execute_result"
    }
   ],
   "source": [
    "(\n",
    "    movies\n",
    "    .withColumn(\"year\", regexp_extract(col(\"title\"), r\"\\((\\d{4})\\)\", 1))\n",
    ")"
   ]
  },
  {
   "cell_type": "markdown",
   "id": "4141faff-1522-4617-a693-6f376838b12e",
   "metadata": {},
   "source": [
    "<a id=\"databases\">"
   ]
  },
  {
   "cell_type": "markdown",
   "id": "c23b561d-f9ee-4b97-b8ac-44ce624d8996",
   "metadata": {},
   "source": [
    "## Partitioning"
   ]
  },
  {
   "cell_type": "markdown",
   "id": "95c4328d-b613-4de3-8f4a-123b0c766baf",
   "metadata": {},
   "source": [
    "[[Back to Top](#top)]"
   ]
  },
  {
   "cell_type": "markdown",
   "id": "00651701-6828-4f8c-b509-d997c50110e6",
   "metadata": {},
   "source": [
    "Work in Progress"
   ]
  },
  {
   "cell_type": "markdown",
   "id": "67f24dd2-9d44-48ad-8168-3be47d6bdca7",
   "metadata": {},
   "source": [
    "## Connecting to Relational Databases (JDBC)"
   ]
  },
  {
   "cell_type": "markdown",
   "id": "85bebfb8-b8e9-4025-9907-f593f34141cc",
   "metadata": {},
   "source": [
    "[[Back to Top](#top)]"
   ]
  },
  {
   "cell_type": "markdown",
   "id": "7aaf3812-5b6b-47dc-826d-58a83ede3810",
   "metadata": {},
   "source": [
    "[Link](https://spark.apache.org/docs/latest/api/python/user_guide/pandas_on_spark/from_to_dbms.html) to their documentation"
   ]
  },
  {
   "cell_type": "markdown",
   "id": "8575bbba-48d9-44c1-be21-8f1e9a42d47f",
   "metadata": {},
   "source": [
    "The key thing to connect to relational databases using JDBC is to add `\"spark.jars\"` configuration.  You just need to ensure you download the required database driver and/or connector .jar files and reference their location or path.  You can connect to databases other than using JDBC, but since Java is the underlying technology behind Spark/PySpark, it is recommended that you use JDBC drivers for best performance and stability."
   ]
  },
  {
   "cell_type": "markdown",
   "id": "520840de-2119-4385-bb89-83fb7d8cd712",
   "metadata": {},
   "source": [
    "**NOTE:** There are various ways to pass database server and credentials information to your Python application.  The examples below assume the use of a `config.ini` text file that contains database server and credentials information that you would parse using Python's standard library [configparser](https://docs.python.org/3/library/configparser.html)."
   ]
  },
  {
   "cell_type": "markdown",
   "id": "77b439ff-808b-47f1-b64f-dc60e4d0a60a",
   "metadata": {},
   "source": [
    "#### PostgreSQL"
   ]
  },
  {
   "cell_type": "code",
   "execution_count": null,
   "id": "6ab79c5c-1ebb-49ce-bf09-c53aa8aa9cbe",
   "metadata": {},
   "outputs": [],
   "source": [
    "import configparser\n",
    "import os\n",
    "import pyspark\n",
    "from pyspark.sql import SparkSession"
   ]
  },
  {
   "cell_type": "code",
   "execution_count": null,
   "id": "b9204d95-06c5-40d6-a62a-903e2bf59c59",
   "metadata": {},
   "outputs": [],
   "source": [
    "spark = SparkSession.builder.master(\"local[*]\").appName(\"Postgres\")\\\n",
    "    .config(\"spark.jars\", \"C:\\\\Users\\\\some_user\\\\drivers\\\\jdbc\\\\postgresql\\\\postgresql-42.2.23.jar\")\\\n",
    "    .getOrCreate()"
   ]
  },
  {
   "cell_type": "code",
   "execution_count": null,
   "id": "403e4628-bbca-48d9-a781-927b42b76bf8",
   "metadata": {},
   "outputs": [],
   "source": [
    "config_file = os.getenv(\"CONFIG_PATH\")"
   ]
  },
  {
   "cell_type": "code",
   "execution_count": null,
   "id": "e047216b-76da-4cbd-9d0e-d60d1b57e5e1",
   "metadata": {},
   "outputs": [],
   "source": [
    "config = configparser.ConfigParser()\n",
    "try:\n",
    "    config.read(config_file)\n",
    "except ConfigFileNotFound:\n",
    "    print(\"config.ini file not found\")"
   ]
  },
  {
   "cell_type": "code",
   "execution_count": null,
   "id": "9930935b-8cf6-4d44-8e92-8a06ac114162",
   "metadata": {},
   "outputs": [],
   "source": [
    "# Read in the Postgresql database credentials for DSN-less connection\n",
    "PG_HOST = config[\"MY_POSTGRES_DB\"][\"HOST\"]\n",
    "PG_PORT = config[\"MY_POSTGRES_DB\"][\"PORT\"]\n",
    "PG_DB = config[\"MY_POSTGRES_DB\"][\"DB\"]\n",
    "PG_USER = config[\"MY_POSTGRES_DB\"][\"USER\"]\n",
    "PG_PWD = config[\"MY_POSTGRES_DB\"][\"PWD\"]"
   ]
  },
  {
   "cell_type": "code",
   "execution_count": null,
   "id": "52134d1c-e419-4166-b7ec-509088570803",
   "metadata": {},
   "outputs": [],
   "source": [
    "url = f'jdbc:postgresql://{PG_HOST}:{PG_PORT}/{PG_DB}'\n",
    "driver = 'org.postgresql.Driver'"
   ]
  },
  {
   "cell_type": "code",
   "execution_count": null,
   "id": "f2c96542-e8c5-443c-82ec-11b50c44ca7d",
   "metadata": {},
   "outputs": [],
   "source": [
    "query = \"SELECT CURRENT_DATE\""
   ]
  },
  {
   "cell_type": "code",
   "execution_count": null,
   "id": "83298d75-98e1-4838-9ec4-f286d2092fdb",
   "metadata": {},
   "outputs": [],
   "source": [
    "jdbcDF = spark.read \\\n",
    "    .format(\"jdbc\") \\\n",
    "    .option(\"driver\", driver) \\\n",
    "    .option(\"url\", url) \\\n",
    "    .option(\"user\", PG_USER) \\\n",
    "    .option(\"password\", PG_PWD) \\\n",
    "    .option(\"query\", query) \\\n",
    "    .load()"
   ]
  },
  {
   "cell_type": "code",
   "execution_count": null,
   "id": "e2a203ae-0ef0-45c3-a68d-eebe09f7db3c",
   "metadata": {},
   "outputs": [],
   "source": [
    "jdbcDF.show()"
   ]
  },
  {
   "cell_type": "code",
   "execution_count": null,
   "id": "ef2bb206-45f7-4962-85da-098cc9ed9104",
   "metadata": {},
   "outputs": [],
   "source": [
    "spark.stop()"
   ]
  },
  {
   "cell_type": "markdown",
   "id": "e23188b3-d225-4583-a6cc-118a0d83f4b7",
   "metadata": {},
   "source": [
    "#### IBM DB2 LUW"
   ]
  },
  {
   "cell_type": "code",
   "execution_count": null,
   "id": "1ef90ae1-84cb-4aa1-951e-6200fd255cdc",
   "metadata": {},
   "outputs": [],
   "source": [
    "spark = SparkSession.builder.master(\"local[*]\").appName(\"SCOODS\")\\\n",
    "    .config(\"spark.jars\", \"C:\\\\Users\\\\some_user\\\\drivers\\\\jdbc\\\\mainframe\\\\db2jcc.jar\")\\\n",
    "    .getOrCreate()"
   ]
  },
  {
   "cell_type": "code",
   "execution_count": null,
   "id": "dbf50d37-5169-4402-9cdf-bb56f344f194",
   "metadata": {},
   "outputs": [],
   "source": [
    "config_file = os.getenv(\"CONFIG_PATH\")"
   ]
  },
  {
   "cell_type": "code",
   "execution_count": null,
   "id": "b4401005-1539-45f2-b545-9679328e8c8d",
   "metadata": {},
   "outputs": [],
   "source": [
    "config = configparser.ConfigParser()\n",
    "try:\n",
    "    config.read(config_file)\n",
    "except ConfigFileNotFound:\n",
    "    print(\"config.ini file not found\")"
   ]
  },
  {
   "cell_type": "code",
   "execution_count": null,
   "id": "00c879bc-8f56-4ac0-b49d-c6280bdcaee0",
   "metadata": {},
   "outputs": [],
   "source": [
    "# Read in the DB2 LUW credentials for DSN-less connection\n",
    "LUW_HOST = config[\"MY_DB2_LUW\"][\"HOST\"]\n",
    "LUW_PORT = config[\"MY_DB2_LUW\"][\"PORT\"]\n",
    "LUW_DB = config[\"MY_DB2_LUW\"][\"DB\"]\n",
    "LUW_USER = config[\"MY_DB2_LUW\"][\"USER\"]\n",
    "LUW_PWD = config[\"MY_DB2_LUW\"][\"PWD\"]"
   ]
  },
  {
   "cell_type": "code",
   "execution_count": null,
   "id": "40798ee9-fee4-46f0-a629-c07b6c5996f8",
   "metadata": {},
   "outputs": [],
   "source": [
    "url = f'jdbc:db2://{LUW_HOST}:{LUW_PORT}/{LUW_DB}:useJDBC4ColumnNameAndLabelSemantics=false;'\n",
    "driver = 'com.ibm.db2.jcc.DB2Driver'"
   ]
  },
  {
   "cell_type": "code",
   "execution_count": null,
   "id": "69050e16-4dad-4c94-bd28-2a0c5d14264f",
   "metadata": {},
   "outputs": [],
   "source": [
    "query = \"SELECT CURRENT TIMESTAMP as DATETIME_NOW FROM SYSIBM.SYSDUMMY1\""
   ]
  },
  {
   "cell_type": "code",
   "execution_count": null,
   "id": "6a92bea6-590b-4af0-90ce-28974b3c3da6",
   "metadata": {},
   "outputs": [],
   "source": [
    "jdbcDF = spark.read \\\n",
    "    .format(\"jdbc\") \\\n",
    "    .option(\"driver\", driver) \\\n",
    "    .option(\"url\", url) \\\n",
    "    .option(\"user\", SCOODS_USER) \\\n",
    "    .option(\"password\", SCOODS_PWD) \\\n",
    "    .option(\"query\", query) \\\n",
    "    .load()"
   ]
  },
  {
   "cell_type": "code",
   "execution_count": null,
   "id": "c168320b-a79b-4fea-8041-5e46c5fd1e12",
   "metadata": {},
   "outputs": [],
   "source": [
    "jdbcDF.show(truncate=False)"
   ]
  },
  {
   "cell_type": "code",
   "execution_count": null,
   "id": "83e4fc4b-04ca-4ef7-a7eb-2f924bd8b02e",
   "metadata": {},
   "outputs": [],
   "source": [
    "spark.stop()"
   ]
  },
  {
   "cell_type": "markdown",
   "id": "07d4c972-7437-4f3d-9de7-81f35610ae5f",
   "metadata": {},
   "source": [
    "#### Microsoft SQL Server"
   ]
  },
  {
   "cell_type": "code",
   "execution_count": null,
   "id": "fe47315b-26d0-4c81-afd9-c8b98dba6161",
   "metadata": {},
   "outputs": [],
   "source": [
    "spark = SparkSession.builder.master(\"local[*]\").appName(\"NAPS\")\\\n",
    "    .config(\"spark.jars\", \"C:\\\\Users\\\\some_user\\\\drivers\\\\mssql_jdbc\\\\mssql-jdbc-9.4.0.jre8.jar\")\\\n",
    "    .getOrCreate()"
   ]
  },
  {
   "cell_type": "code",
   "execution_count": null,
   "id": "37dbbdfc-71c9-4c9e-84e2-07058516aed5",
   "metadata": {},
   "outputs": [],
   "source": [
    "config_file = os.getenv(\"CONFIG_PATH\")"
   ]
  },
  {
   "cell_type": "code",
   "execution_count": null,
   "id": "2aeb4711-f008-4750-9e36-a140a9f4f07b",
   "metadata": {},
   "outputs": [],
   "source": [
    "config = configparser.ConfigParser()\n",
    "try:\n",
    "    config.read(config_file)\n",
    "except ConfigFileNotFound:\n",
    "    print(\"config.ini file not found\")"
   ]
  },
  {
   "cell_type": "code",
   "execution_count": null,
   "id": "8a7e4803-9ed9-48b7-b5a9-a96b05e20513",
   "metadata": {},
   "outputs": [],
   "source": [
    "# Read in the SQL Server database credentials for DSN-less connection\n",
    "SSQL_HOST = config[\"MY_SQL_SERVER\"][\"HOST\"]\n",
    "SSQL_PORT = config[\"MY_SQL_SERVER\"][\"PORT\"]\n",
    "SSQL_DB = config[\"MY_SQL_SERVER\"][\"DB\"]"
   ]
  },
  {
   "cell_type": "code",
   "execution_count": null,
   "id": "e0654a00-d152-45ee-82cb-656dac8ba43c",
   "metadata": {},
   "outputs": [],
   "source": [
    "url = f'jdbc:sqlserver://{SSQL_HOST}:{SSQL_PORT};databaseName={SSQL_DB};integratedSecurity=true'\n",
    "driver = 'com.microsoft.sqlserver.jdbc.SQLServerDriver'"
   ]
  },
  {
   "cell_type": "code",
   "execution_count": null,
   "id": "57f356a1-2f4b-458f-a4e8-31ed12b8df53",
   "metadata": {},
   "outputs": [],
   "source": [
    "query = \"SELECT * from DimCarrier\""
   ]
  },
  {
   "cell_type": "code",
   "execution_count": null,
   "id": "b852c2ac-9e84-4719-8c72-e1e306f3fb34",
   "metadata": {},
   "outputs": [],
   "source": [
    "jdbcDF = spark.read \\\n",
    "    .format(\"jdbc\") \\\n",
    "    .option(\"driver\", driver) \\\n",
    "    .option(\"url\", url) \\\n",
    "    .option(\"query\", query) \\\n",
    "    .load()"
   ]
  },
  {
   "cell_type": "code",
   "execution_count": null,
   "id": "9020c6f9-27d0-4fe0-9583-ff46cc8b6737",
   "metadata": {},
   "outputs": [],
   "source": [
    "jdbcDF.show(truncate=False)"
   ]
  },
  {
   "cell_type": "code",
   "execution_count": null,
   "id": "d4c9dc9c-0173-45b1-af15-70fb40b884d0",
   "metadata": {},
   "outputs": [],
   "source": [
    "spark.stop()"
   ]
  },
  {
   "cell_type": "markdown",
   "id": "6acdbc66-3ad3-476b-a91a-8b8b0d331249",
   "metadata": {},
   "source": [
    "#### IBM DB2 z/OS"
   ]
  },
  {
   "cell_type": "markdown",
   "id": "37f20298-4928-48e5-a6c5-6c133f6acac2",
   "metadata": {},
   "source": [
    "Unfortunately, the IBM Java JRE does not work with Spark 3.x and thus, we will not be able to connect to mainframe DB2 z/OS platform.  Mainframe is too OLD!  Let it rest in peace."
   ]
  },
  {
   "cell_type": "markdown",
   "id": "93e3132a-bc44-4ec4-ab60-845423e92e23",
   "metadata": {},
   "source": [
    "#### Connecting to Snowflake"
   ]
  },
  {
   "cell_type": "markdown",
   "id": "1cb85857-726f-44b0-96e0-7118fb9addaa",
   "metadata": {},
   "source": [
    "[Link](https://docs.snowflake.com/en/user-guide/spark-connector-install.html) to Snowflake's documentation on working with the PySpark connector"
   ]
  },
  {
   "cell_type": "code",
   "execution_count": null,
   "id": "50d70a07-ce07-4ae1-afc0-464db3f876f7",
   "metadata": {},
   "outputs": [],
   "source": [
    "from pathlib import Path\n",
    "import configparser\n",
    "import os\n",
    "import pyspark\n",
    "from pyspark.sql import SparkSession"
   ]
  },
  {
   "cell_type": "code",
   "execution_count": null,
   "id": "102cb280-1d2b-44b5-af6b-1bc59a04a376",
   "metadata": {},
   "outputs": [],
   "source": [
    "config_file = os.getenv(\"CONFIG_PATH\")"
   ]
  },
  {
   "cell_type": "code",
   "execution_count": null,
   "id": "2528d0dc-9caa-4d9c-a178-42d8b02ebede",
   "metadata": {},
   "outputs": [],
   "source": [
    "config = configparser.ConfigParser()\n",
    "try:\n",
    "    config.read(config_file)\n",
    "except ConfigFileNotFound:\n",
    "    print(\"config.ini file not found\")"
   ]
  },
  {
   "cell_type": "markdown",
   "id": "b86b8fdb-906a-4c9a-ba47-6f3bde18bee8",
   "metadata": {},
   "source": [
    "JDBC driver and Snowflake Spark Connector can be downloaded [here](https://search.maven.org/search?q=g:net.snowflake)"
   ]
  },
  {
   "cell_type": "code",
   "execution_count": null,
   "id": "c71ca348-b85b-47c0-8330-98e8a25558b0",
   "metadata": {},
   "outputs": [],
   "source": [
    "sf_jdbc_driver = config['snowflake']['jdbc_driver_path']\n",
    "sf_spark_driver = config['snowflake']['spark_driver_path']"
   ]
  },
  {
   "cell_type": "code",
   "execution_count": null,
   "id": "6ce8bb40-6583-47fc-99a9-f83807ee6edb",
   "metadata": {},
   "outputs": [],
   "source": [
    "sf_account = config['snowflake']['account']\n",
    "sf_user = config['snowflake']['username']\n",
    "sf_database = config['snowflake']['database']\n",
    "sf_schema = config['snowflake']['schema']\n",
    "sf_role = config['snowflake']['role']\n",
    "sf_warehouse = config['snowflake']['warehouse']\n",
    "sf_authenticator = config['snowflake']['authenticator']"
   ]
  },
  {
   "cell_type": "code",
   "execution_count": null,
   "id": "775e8b88-2ea7-42a8-88b8-0cbb1635a250",
   "metadata": {},
   "outputs": [],
   "source": [
    "spark = (\n",
    "    SparkSession.builder.master(\"local[*]\")\n",
    "    .appName(\"Snowflake_JDBC\")\n",
    "    .config(\"spark.jars\", f\"{sf_jdbc_driver},{sf_spark_driver}\")\n",
    "    .getOrCreate()\n",
    ")"
   ]
  },
  {
   "cell_type": "code",
   "execution_count": null,
   "id": "f7281dd0-734a-4807-af85-318759568703",
   "metadata": {},
   "outputs": [],
   "source": [
    "SNOWFLAKE_SOURCE_NAME = \"net.snowflake.spark.snowflake\""
   ]
  },
  {
   "cell_type": "code",
   "execution_count": null,
   "id": "e05df36a-405c-46a0-b658-2cc2503c590e",
   "metadata": {},
   "outputs": [],
   "source": [
    "# Snowflake connection parameters\n",
    "sfparams = {\n",
    "    \"sfURL\" : f\"{sf_account}.snowflakecomputing.com\",\n",
    "    \"sfUser\" : sf_user,\n",
    "    \"sfPassword\" : \"your_password\",  # Not applicable when using externalbrowser authenticator\n",
    "    \"sfDatabase\" : sf_database,\n",
    "    \"sfSchema\" : sf_schema,\n",
    "    \"sfRole\" : sf_role,\n",
    "    \"sfWarehouse\" : sf_warehouse,\n",
    "    \"sfAuthenticator\" : sf_authenticator\n",
    "}"
   ]
  },
  {
   "cell_type": "code",
   "execution_count": null,
   "id": "8976c5ef-6eab-4314-93ec-55e110773b33",
   "metadata": {},
   "outputs": [],
   "source": [
    "query = \"SELECT CURRENT_DATE as my_date\""
   ]
  },
  {
   "cell_type": "markdown",
   "id": "7dd20121-e611-4fef-9c8b-4040d3d9ccc3",
   "metadata": {},
   "source": [
    "Snowflake query as PySpark dataframe"
   ]
  },
  {
   "cell_type": "code",
   "execution_count": null,
   "id": "2fd443ce-0593-49e8-be2c-fb3a125b8fb9",
   "metadata": {},
   "outputs": [],
   "source": [
    "#run custom query\n",
    "df = (\n",
    "    spark.read.format(SNOWFLAKE_SOURCE_NAME)\n",
    "    .options(**sfparams)\n",
    "    .option(\"query\", query)\n",
    "    .load()\n",
    ")"
   ]
  },
  {
   "cell_type": "code",
   "execution_count": null,
   "id": "05fea43a-8c4d-4448-b82c-e561b1440e6d",
   "metadata": {},
   "outputs": [],
   "source": [
    "df.show()"
   ]
  },
  {
   "cell_type": "markdown",
   "id": "2f9c91da-a569-410d-93da-35167b267d5b",
   "metadata": {},
   "source": [
    "Dataframe as Snowflake table"
   ]
  },
  {
   "cell_type": "code",
   "execution_count": null,
   "id": "efe3a9ae-8ab9-4167-b1b4-acbfed3ec9bf",
   "metadata": {},
   "outputs": [],
   "source": [
    "(df\n",
    " .select(\"my_date\").write.format(SNOWFLAKE_SOURCE_NAME)\n",
    " .options(**sfparams)\n",
    " .option(\"dbtable\", \"my_table\")\n",
    " .mode(\"overwrite\")\n",
    " .save()\n",
    ")"
   ]
  },
  {
   "cell_type": "code",
   "execution_count": null,
   "id": "fe4ef8e9-5e65-4557-8fb2-5d1e93e86cca",
   "metadata": {},
   "outputs": [],
   "source": [
    "spark.stop()"
   ]
  },
  {
   "cell_type": "markdown",
   "id": "b3cb91e6-bc03-476b-9b3a-f13042ed0b2b",
   "metadata": {},
   "source": [
    "#### Practical Scenarios"
   ]
  },
  {
   "cell_type": "markdown",
   "id": "99260575-7409-49d3-944f-bff43bcc29c9",
   "metadata": {},
   "source": [
    "Let's say I have 10 CSV files, in which each CSV file contains stock price of a particular stock symbol.  I want to make a PySpark dataframe for each csv file or stock symbol.  But, we also need to create a new column in each dataframe that is the name of the CSV file without the file extension (\".csv\") which happens to be the stock symbol name.  Then concatenate the dataframes into a single dataframe.  How do I do this with PySpark?"
   ]
  },
  {
   "cell_type": "code",
   "execution_count": 17,
   "id": "2ddcfcbd-332a-48bd-baaf-7f203aa0f2ac",
   "metadata": {},
   "outputs": [
    {
     "name": "stdout",
     "output_type": "stream",
     "text": [
      "+----------+------------------+------------------+------------------+------------------+-------------------+---------+------------+\n",
      "|      Date|              Open|              High|               Low|             Close|          Adj Close|   Volume|Stock Symbol|\n",
      "+----------+------------------+------------------+------------------+------------------+-------------------+---------+------------+\n",
      "|1980-12-12|0.5133928656578064|          0.515625|0.5133928656578064|0.5133928656578064|0.40678155422210693|117258400|        AAPL|\n",
      "|1980-12-15|0.4888392984867096|0.4888392984867096|0.4866071343421936|0.4866071343421936|  0.385558158159256| 43971200|        AAPL|\n",
      "|1980-12-16|          0.453125|          0.453125|0.4508928656578064|0.4508928656578064| 0.3572602868080139| 26432000|        AAPL|\n",
      "|1980-12-17|0.4620535671710968|0.4642857015132904|0.4620535671710968|0.4620535671710968| 0.3661033511161804| 21610400|        AAPL|\n",
      "|1980-12-18|0.4754464328289032|0.4776785671710968|0.4754464328289032|0.4754464328289032|0.37671515345573425| 18362400|        AAPL|\n",
      "|1980-12-19|0.5044642686843872|0.5066964030265808|0.5044642686843872|0.5044642686843872| 0.3997070789337158| 12157600|        AAPL|\n",
      "|1980-12-22|0.5290178656578064|           0.53125|0.5290178656578064|0.5290178656578064| 0.4191618859767914|  9340800|        AAPL|\n",
      "|1980-12-23|0.5513392686843872|0.5535714030265808|0.5513392686843872|0.5513392686843872| 0.4368479549884796| 11737600|        AAPL|\n",
      "|1980-12-24|0.5803571343421936|0.5825892686843872|0.5803571343421936|0.5803571343421936| 0.4598398804664612| 12000800|        AAPL|\n",
      "|1980-12-26|0.6339285969734192|0.6361607313156128|0.6339285969734192|0.6339285969734192| 0.5022867918014526| 13893600|        AAPL|\n",
      "|1980-12-29|0.6428571343421936|0.6450892686843872|0.6428571343421936|0.6428571343421936|  0.509361207485199| 23290400|        AAPL|\n",
      "|1980-12-30|0.6294642686843872|0.6294642686843872|0.6272321343421936|0.6272321343421936| 0.4969809353351593| 17220000|        AAPL|\n",
      "|1980-12-31|0.6116071343421936|0.6116071343421936|          0.609375|          0.609375|0.48283201456069946|  8937600|        AAPL|\n",
      "|1981-01-02|0.6160714030265808|0.6205357313156128|0.6160714030265808|0.6160714030265808| 0.4881376624107361|  5415200|        AAPL|\n",
      "|1981-01-05|0.6049107313156128|0.6049107313156128|0.6026785969734192|0.6026785969734192| 0.4775262176990509|  8932000|        AAPL|\n",
      "|1981-01-06|          0.578125|          0.578125|0.5758928656578064|0.5758928656578064| 0.4563027024269104| 11289600|        AAPL|\n",
      "|1981-01-07|0.5535714030265808|0.5535714030265808|0.5513392686843872|0.5513392686843872| 0.4368479549884796| 13921600|        AAPL|\n",
      "|1981-01-08|0.5424107313156128|0.5424107313156128|0.5401785969734192|0.5401785969734192|0.42800483107566833|  9956800|        AAPL|\n",
      "|1981-01-09|0.5691964030265808|0.5714285969734192|0.5691964030265808|0.5691964030265808|0.45099684596061707|  5376000|        AAPL|\n",
      "|1981-01-12|0.5691964030265808|0.5691964030265808|0.5647321343421936|0.5647321343421936|0.44745975732803345|  5924800|        AAPL|\n",
      "+----------+------------------+------------------+------------------+------------------+-------------------+---------+------------+\n",
      "only showing top 20 rows\n",
      "\n"
     ]
    }
   ],
   "source": [
    "from pyspark.sql import SparkSession\n",
    "from functools import reduce\n",
    "from pathlib import Path\n",
    "from pyspark.sql.functions import lit\n",
    "\n",
    "# Initialize a SparkSession\n",
    "spark = SparkSession.builder.appName(\"ConcatenateCSVFiles\").getOrCreate()\n",
    "\n",
    "# Directory containing the CSV files\n",
    "csv_directory = Path(\"stocks/\")\n",
    "\n",
    "# Get a list of CSV file paths in the directory\n",
    "csv_files = [file for file in csv_directory.iterdir() if file.suffix == \".csv\"]\n",
    "\n",
    "# Create an empty list to store DataFrames\n",
    "dataframes = []\n",
    "\n",
    "# Iterate through the CSV files\n",
    "for csv_file in csv_files:\n",
    "    # Load the CSV file into a DataFrame\n",
    "    df = spark.read.csv(str(csv_file), header=True, inferSchema=True)\n",
    "    \n",
    "    # Extract the file name without the extension\n",
    "    file_name = csv_file.stem\n",
    "    \n",
    "    # Add a new column with the file name\n",
    "    df = df.withColumn(\"Stock Symbol\", lit(file_name))\n",
    "    \n",
    "    # Append the DataFrame to the list\n",
    "    dataframes.append(df)\n",
    "\n",
    "# Concatenate the DataFrames into a single DataFrame\n",
    "concatenated_df = reduce(lambda df1, df2: df1.unionAll(df2), dataframes)\n",
    "\n",
    "# Show the result\n",
    "concatenated_df.show()\n",
    "\n",
    "# Save the concatenated DataFrame as a CSV file, not partition, but single csv file\n",
    "concatenated_df.coalesce(1).write.mode('overwrite').option(\"header\", \"true\").csv(\"stocks/concatenated_data.csv\")\n",
    "\n",
    "pandas_df = concatenated_df.toPandas()\n",
    "pandas_df.to_csv('stocks/pandas_df.csv', index=False)\n",
    "\n",
    "# Stop the SparkSession when done\n",
    "spark.stop()"
   ]
  },
  {
   "cell_type": "code",
   "execution_count": null,
   "id": "cde35ee1-5eab-4504-9c1c-9efe98c8a672",
   "metadata": {},
   "outputs": [],
   "source": []
  }
 ],
 "metadata": {
  "kernelspec": {
   "display_name": "Py3.11 (PySpark 3.4)",
   "language": "python",
   "name": "pyspark_dev"
  },
  "language_info": {
   "codemirror_mode": {
    "name": "ipython",
    "version": 3
   },
   "file_extension": ".py",
   "mimetype": "text/x-python",
   "name": "python",
   "nbconvert_exporter": "python",
   "pygments_lexer": "ipython3",
   "version": "3.11.4"
  },
  "widgets": {
   "application/vnd.jupyter.widget-state+json": {
    "state": {},
    "version_major": 2,
    "version_minor": 0
   }
  }
 },
 "nbformat": 4,
 "nbformat_minor": 5
}
