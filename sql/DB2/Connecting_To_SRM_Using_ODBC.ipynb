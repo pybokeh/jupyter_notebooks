{
 "cells": [
  {
   "cell_type": "code",
   "execution_count": 1,
   "id": "306bfc7c-da99-4221-aba4-1932c2810ed2",
   "metadata": {},
   "outputs": [],
   "source": [
    "import pandas as pd\n",
    "import pyodbc\n",
    "from getpass import getpass"
   ]
  },
  {
   "cell_type": "code",
   "execution_count": 2,
   "id": "c1b19fba-c9ea-4eec-8e8e-0c0cdac05608",
   "metadata": {},
   "outputs": [
    {
     "name": "stdout",
     "output_type": "stream",
     "text": [
      "Python 3.8.10 (default, May 19 2021, 13:12:57) [MSC v.1916 64 bit (AMD64)]\n"
     ]
    }
   ],
   "source": [
    "!python -V -V"
   ]
  },
  {
   "cell_type": "code",
   "execution_count": 3,
   "id": "12816fcf-4778-45d9-8265-3d0966f24a5b",
   "metadata": {},
   "outputs": [],
   "source": [
    "dsn = 'SRMDB_P'"
   ]
  },
  {
   "cell_type": "code",
   "execution_count": 4,
   "id": "8051234e-1432-4bed-9001-8c27b2b826f0",
   "metadata": {},
   "outputs": [
    {
     "name": "stdin",
     "output_type": "stream",
     "text": [
      "Enter your mainframe password: ········\n"
     ]
    }
   ],
   "source": [
    "user = 'some_user'\n",
    "pwd = getpass(\"Enter your mainframe password:\")"
   ]
  },
  {
   "cell_type": "code",
   "execution_count": 5,
   "id": "b5ca1cec-8a48-47e7-bcc1-dd3fe378f3e3",
   "metadata": {},
   "outputs": [],
   "source": [
    "sql = \"\"\"\n",
    "SELECT\n",
    "    CURRENT TIMESTAMP as DATETIME_NOW\n",
    "FROM\n",
    "    SYSIBM.SYSDUMMY1\n",
    "\"\"\""
   ]
  },
  {
   "cell_type": "code",
   "execution_count": 6,
   "id": "ca61b9c4-0ab4-4ebd-a975-a0ee94a6b1a1",
   "metadata": {},
   "outputs": [],
   "source": [
    "# Execute query and save results as a pandas dataframe\n",
    "with pyodbc.connect(f'DSN={dsn};UID={user};PWD={pwd}') as conn:\n",
    "    df = pd.read_sql(sql, conn)"
   ]
  },
  {
   "cell_type": "code",
   "execution_count": 7,
   "id": "e70e4228-6405-4c63-9c13-75a6013a8988",
   "metadata": {},
   "outputs": [
    {
     "data": {
      "text/html": [
       "<div>\n",
       "<style scoped>\n",
       "    .dataframe tbody tr th:only-of-type {\n",
       "        vertical-align: middle;\n",
       "    }\n",
       "\n",
       "    .dataframe tbody tr th {\n",
       "        vertical-align: top;\n",
       "    }\n",
       "\n",
       "    .dataframe thead th {\n",
       "        text-align: right;\n",
       "    }\n",
       "</style>\n",
       "<table border=\"1\" class=\"dataframe\">\n",
       "  <thead>\n",
       "    <tr style=\"text-align: right;\">\n",
       "      <th></th>\n",
       "      <th>DATETIME_NOW</th>\n",
       "    </tr>\n",
       "  </thead>\n",
       "  <tbody>\n",
       "    <tr>\n",
       "      <th>0</th>\n",
       "      <td>2021-05-21 17:52:06.436452</td>\n",
       "    </tr>\n",
       "  </tbody>\n",
       "</table>\n",
       "</div>"
      ],
      "text/plain": [
       "                DATETIME_NOW\n",
       "0 2021-05-21 17:52:06.436452"
      ]
     },
     "execution_count": 7,
     "metadata": {},
     "output_type": "execute_result"
    }
   ],
   "source": [
    "df.head()"
   ]
  }
 ],
 "metadata": {
  "kernelspec": {
   "display_name": "Python 3 (ipykernel)",
   "language": "python",
   "name": "python3"
  },
  "language_info": {
   "codemirror_mode": {
    "name": "ipython",
    "version": 3
   },
   "file_extension": ".py",
   "mimetype": "text/x-python",
   "name": "python",
   "nbconvert_exporter": "python",
   "pygments_lexer": "ipython3",
   "version": "3.8.10"
  }
 },
 "nbformat": 4,
 "nbformat_minor": 5
}
