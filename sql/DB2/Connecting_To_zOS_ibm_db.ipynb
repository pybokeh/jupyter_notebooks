{
 "cells": [
  {
   "cell_type": "markdown",
   "id": "397d40ac-cac6-447a-bef8-6dac6ba88e43",
   "metadata": {},
   "source": [
    "## Purpose: To test connecting to mainframe z/OS with `ibm_db` library"
   ]
  },
  {
   "cell_type": "code",
   "execution_count": 1,
   "id": "7c1b1975-d6f6-4c5a-8194-55af2c16f836",
   "metadata": {},
   "outputs": [],
   "source": [
    "from getpass import getpass"
   ]
  },
  {
   "cell_type": "code",
   "execution_count": null,
   "id": "14fed97f-83da-41a3-b3bb-0802fdca83be",
   "metadata": {},
   "outputs": [],
   "source": [
    "db = input(\"Enter database: \")\n",
    "db_host = input(\"Enter Database Server Host Name: \")\n",
    "db_port = input(\"Enter Database Port: \")\n",
    "db_user = input(\"Enter db user id: \")\n",
    "db_pw   = getpass(\"Enter db password: \")\n",
    "db_table = input(\"Enter table: \")"
   ]
  },
  {
   "cell_type": "code",
   "execution_count": 3,
   "id": "bbded06e-0bbd-4418-be72-2ee521c1767d",
   "metadata": {},
   "outputs": [],
   "source": [
    "import ibm_db\n",
    "import ibm_db_dbi\n",
    "import pandas as pd"
   ]
  },
  {
   "cell_type": "code",
   "execution_count": 4,
   "id": "12c4e10e-1ea0-4e02-98fa-436ce54163c2",
   "metadata": {},
   "outputs": [],
   "source": [
    "conn_str=f\"database={db};hostname={db_host};port={db_port};protocol=tcpip;uid={db_user};pwd={db_pw}\"\n",
    "ibm_db_conn = ibm_db.connect(conn_str,'','')"
   ]
  },
  {
   "cell_type": "markdown",
   "id": "1eeca68c-326e-4afe-bc46-2bd4bf6b8952",
   "metadata": {},
   "source": [
    "#### Use `with` context manager to ensure connection will be closed"
   ]
  },
  {
   "cell_type": "code",
   "execution_count": 5,
   "id": "49a68f05-8da6-42f4-8aea-a8e1f0fddc46",
   "metadata": {},
   "outputs": [],
   "source": [
    "with ibm_db_dbi.Connection(ibm_db_conn) as conn:\n",
    "    sql = f\"SELECT * FROM {db_table} fetch first 10 rows only\"\n",
    "    df = pd.read_sql(sql, conn)"
   ]
  },
  {
   "cell_type": "code",
   "execution_count": null,
   "id": "2f8a6111-e7da-4a20-97a7-4674387ec0bb",
   "metadata": {},
   "outputs": [],
   "source": [
    "df"
   ]
  }
 ],
 "metadata": {
  "kernelspec": {
   "display_name": "Python 3 (ipykernel)",
   "language": "python",
   "name": "python3"
  },
  "language_info": {
   "codemirror_mode": {
    "name": "ipython",
    "version": 3
   },
   "file_extension": ".py",
   "mimetype": "text/x-python",
   "name": "python",
   "nbconvert_exporter": "python",
   "pygments_lexer": "ipython3",
   "version": "3.8.10"
  }
 },
 "nbformat": 4,
 "nbformat_minor": 5
}
