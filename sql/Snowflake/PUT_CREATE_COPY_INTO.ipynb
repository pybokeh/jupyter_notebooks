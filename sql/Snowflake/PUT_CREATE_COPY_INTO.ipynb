{
 "cells": [
  {
   "cell_type": "markdown",
   "id": "1b2c05d9-535a-4d12-b994-f991e6a005f5",
   "metadata": {},
   "source": [
    "# Executing `PUT`, `CREATE TABLE`, and `COPY INTO` Commands Using Python"
   ]
  },
  {
   "cell_type": "markdown",
   "id": "6342b699-f325-46a8-b405-d020e7d1e1d9",
   "metadata": {},
   "source": [
    "**USE CASE:**"
   ]
  },
  {
   "cell_type": "markdown",
   "id": "c268c081-885f-433c-8120-fec5bd68b431",
   "metadata": {},
   "source": [
    "Upload a large, local CSV file to Snowflake so that users can then query it using SQL or upload large quantity of files to Snowflake."
   ]
  },
  {
   "cell_type": "markdown",
   "id": "cb4974e1-d2e5-4a60-962e-2d60e8eea159",
   "metadata": {},
   "source": [
    "**Q:** But why use Python?  Why not just execute the PUT, CREATE, and COPY INTO commands using SnowSQL CLI or Snowflake web UI?<br>\n",
    "**A:** There are situations where we have a need to automate this process and/or schedule this process.  By being able to *programmatically* issue those commands, we no longer have to necessarily rely on a person to manually type and execute those commands."
   ]
  },
  {
   "cell_type": "markdown",
   "id": "3bb77e1c-9064-464b-a2e6-270ec9fef7de",
   "metadata": {},
   "source": [
    "**Q:** Why not use SQLAlchemy and load a pandas dataframe directly as a Snowflake table?  It would be a quicker workflow and requires far less code since no prior DDL statements need to be executed.<br>\n",
    "**A:** Pandas is an `in-memory` solution and would \"choke\" on a large CSV.  With this PUT -> CREATE -> COPY INTO pattern, you are using Snowflake's compute and storage resources which were of course designed for large data.  So this pattern could be used to upload a large batch of files."
   ]
  },
  {
   "cell_type": "markdown",
   "id": "078e0b30-9d77-48e7-a83a-6445f959468b",
   "metadata": {},
   "source": [
    "#### Generally, the process takes 3 steps:"
   ]
  },
  {
   "cell_type": "markdown",
   "id": "5ba2625d-e7fb-4dcc-ab5c-455d1b47b051",
   "metadata": {},
   "source": [
    "`PUT` -> `CREATE TABLE` -> `COPY INTO`"
   ]
  },
  {
   "cell_type": "markdown",
   "id": "556ec416-8650-4508-8b4a-e351f9e6de76",
   "metadata": {},
   "source": [
    "#### Imports of necessary Python libraries"
   ]
  },
  {
   "cell_type": "code",
   "execution_count": 1,
   "id": "2249b42b-98e7-451a-b233-b7eaf4845fb7",
   "metadata": {},
   "outputs": [],
   "source": [
    "from pathlib import Path\n",
    "import configparser\n",
    "import pandas as pd\n",
    "import snowflake.connector as sfc"
   ]
  },
  {
   "cell_type": "markdown",
   "id": "d69a63a4-50ac-477b-8fb2-559ae7acd6f0",
   "metadata": {},
   "source": [
    "#### There are a few different approaches for providing secret credentials without publicly exposing them.  One approach is to obtain them from a config file saved locally on your machine."
   ]
  },
  {
   "cell_type": "code",
   "execution_count": 2,
   "id": "09f8560b-5d0a-431b-a6db-53abdd9f4952",
   "metadata": {},
   "outputs": [],
   "source": [
    "config = configparser.ConfigParser()\n",
    "config.read(Path.home() / '.config' / 'config.ini')\n",
    "SF_USERNAME = config['snowflake']['username']\n",
    "SF_PASSWORD = config['snowflake']['password']\n",
    "SF_ACCOUNT = config['snowflake']['account']\n",
    "SF_AUTHENTICATOR = config['snowflake']['authenticator']"
   ]
  },
  {
   "cell_type": "markdown",
   "id": "f7a9eb58-8139-4ebf-9b79-4b727f65724c",
   "metadata": {},
   "source": [
    "#### Executing a `PUT` command using Python"
   ]
  },
  {
   "cell_type": "markdown",
   "id": "219bc84b-2ff6-4d09-bb3d-cf517d6f220b",
   "metadata": {},
   "source": [
    "**NOTE:** Examples in other notebooks, we did not instantiate or create a cursor object and then execute queries with it.  Since we are using cursor object in the following examples, we should ensure that the cursor will be closed in the event that a problem or error occurs.  The connection object `con` will automatically be disposed of due to the `with` context management, but the cursor object will not be automatically disposed of.  Therefore, I've added `try/finally` clauses to ensure the `cur` object will be closed."
   ]
  },
  {
   "cell_type": "code",
   "execution_count": 3,
   "id": "caf4d8b5-0831-41fc-b57f-c3dbeae3d4bb",
   "metadata": {},
   "outputs": [
    {
     "name": "stdout",
     "output_type": "stream",
     "text": [
      "Initiating login request with your identity provider. A browser window should have opened for you to complete the login. If you can't see it, check existing browser windows, or your OS settings. Press CTRL+C to abort and try again...\n"
     ]
    }
   ],
   "source": [
    "with sfc.connect(\n",
    "    user=SF_USERNAME,\n",
    "    password=SF_PASSWORD,\n",
    "    account=SF_ACCOUNT,\n",
    "    authenticator=SF_AUTHENTICATOR,\n",
    "    database = 'your_db',\n",
    "    schema = 'your_schema',\n",
    "    warehouse = 'your_warehouse',\n",
    "    role='your_role',\n",
    ") as con:\n",
    "    cur = con.cursor()\n",
    "    try:\n",
    "        cur.execute(r'put file://C:\\Users\\i33859\\gitprojects\\jupyter-sql\\Snowflake\\data\\cars.csv @~/test;')\n",
    "    finally:\n",
    "        cur.close()"
   ]
  },
  {
   "cell_type": "markdown",
   "id": "4313453a-2a27-466f-ab00-2ed149242a25",
   "metadata": {},
   "source": [
    "#### Let's confirm that the CSV file was uploaded:"
   ]
  },
  {
   "cell_type": "code",
   "execution_count": 5,
   "id": "768ea13d-5a75-439a-a8e1-183887b477be",
   "metadata": {},
   "outputs": [
    {
     "name": "stdout",
     "output_type": "stream",
     "text": [
      "Initiating login request with your identity provider. A browser window should have opened for you to complete the login. If you can't see it, check existing browser windows, or your OS settings. Press CTRL+C to abort and try again...\n",
      "File path: @~/test/cars.csv.gz\n"
     ]
    }
   ],
   "source": [
    "with sfc.connect(\n",
    "    user=SF_USERNAME,\n",
    "    password=SF_PASSWORD,\n",
    "    account=SF_ACCOUNT,\n",
    "    authenticator=SF_AUTHENTICATOR,\n",
    "    database = 'your_db',\n",
    "    schema = 'your_schema',\n",
    "    warehouse = 'your_warehouse',\n",
    "    role='your_role',\n",
    ") as con:\n",
    "    cur = con.cursor()\n",
    "    try:\n",
    "        cur.execute(\n",
    "            \"\"\"\n",
    "            select distinct\n",
    "                metadata$filename as file_path\n",
    "            from\n",
    "                @~/test;\n",
    "            \"\"\"\n",
    "        )\n",
    "        for (col1,) in cur:\n",
    "            print(f\"File path: {col1}\")\n",
    "    finally:\n",
    "        cur.close()"
   ]
  },
  {
   "cell_type": "markdown",
   "id": "2eeda4b8-c90f-4182-b09c-069f8a120f89",
   "metadata": {},
   "source": [
    "From the output above, we see that `cars.csv.gz` has been uploaded."
   ]
  },
  {
   "cell_type": "markdown",
   "id": "29fd94ea-db35-4df7-b556-c9115965f850",
   "metadata": {},
   "source": [
    "#### Create File Format and Create an Empty `cars` Table"
   ]
  },
  {
   "cell_type": "code",
   "execution_count": 8,
   "id": "4be15e77-980e-4db4-8f65-af53def68c39",
   "metadata": {},
   "outputs": [
    {
     "name": "stdout",
     "output_type": "stream",
     "text": [
      "Initiating login request with your identity provider. A browser window should have opened for you to complete the login. If you can't see it, check existing browser windows, or your OS settings. Press CTRL+C to abort and try again...\n"
     ]
    }
   ],
   "source": [
    "with sfc.connect(\n",
    "    user=SF_USERNAME,\n",
    "    password=SF_PASSWORD,\n",
    "    account=SF_ACCOUNT,\n",
    "    authenticator=SF_AUTHENTICATOR,\n",
    "    database = 'your_db',\n",
    "    schema = 'your_schema',\n",
    "    warehouse = 'your_warehouse',\n",
    "    role='your_role',\n",
    ") as con:\n",
    "    cur = con.cursor()\n",
    "    try:\n",
    "        cur.execute(\n",
    "            \"\"\"\n",
    "            -- Create CSV File Format with semicolon as delimiter\n",
    "            create or replace file format csv_semicolon_format\n",
    "                type = csv\n",
    "                field_delimiter = ';'\n",
    "                skip_header = 1\n",
    "                null_if = ('NULL', 'null')\n",
    "                empty_field_as_null = true\n",
    "                compression = gzip;\n",
    "            \"\"\"\n",
    "        )\n",
    "        cur.execute(\n",
    "            \"\"\"\n",
    "            -- Create \"empyt\" cars table\n",
    "            create or replace table cars (\n",
    "                car varchar(100),\n",
    "                mpg number(6,1),\n",
    "                cylinders integer,\n",
    "                displacement decimal(10,1),\n",
    "                horsepower decimal(10,1),\n",
    "                weight decimal(10,1),\n",
    "                acceleration decimal(6,1),\n",
    "                model varchar(50),\n",
    "                origin varchar(50)\n",
    "            );\n",
    "            \"\"\"\n",
    "        )\n",
    "    finally:\n",
    "        cur.close()"
   ]
  },
  {
   "cell_type": "markdown",
   "id": "467f4304-fbd9-4687-8ff0-f3be171b7ce1",
   "metadata": {},
   "source": [
    "#### Finally, we will execute the `COPY INTO` command to create the `cars` Snowflake table from the uploaded `cars.csv.gz` file"
   ]
  },
  {
   "cell_type": "code",
   "execution_count": 9,
   "id": "7f2f65ec-6dc7-426b-aceb-66e511faa64b",
   "metadata": {},
   "outputs": [
    {
     "name": "stdout",
     "output_type": "stream",
     "text": [
      "Initiating login request with your identity provider. A browser window should have opened for you to complete the login. If you can't see it, check existing browser windows, or your OS settings. Press CTRL+C to abort and try again...\n"
     ]
    }
   ],
   "source": [
    "with sfc.connect(\n",
    "    user=SF_USERNAME,\n",
    "    password=SF_PASSWORD,\n",
    "    account=SF_ACCOUNT,\n",
    "    authenticator=SF_AUTHENTICATOR,\n",
    "    database = 'your_db',\n",
    "    schema = 'your_schema',\n",
    "    warehouse = 'your_warehouse',\n",
    "    role='your_role',\n",
    ") as con:\n",
    "    cur = con.cursor()\n",
    "    try:\n",
    "        cur.execute(r\"copy into cars from @~/test/cars.csv.gz file_format = (format_name = 'csv_semicolon_format');\")\n",
    "    finally:\n",
    "        cur.close()"
   ]
  },
  {
   "cell_type": "markdown",
   "id": "ece91a36-e936-4095-b869-2009bd5ee2b6",
   "metadata": {},
   "source": [
    "#### Now we can query the `cars` table"
   ]
  },
  {
   "cell_type": "code",
   "execution_count": 11,
   "id": "feaaae6e-6ee2-458a-9561-4ff47abbb902",
   "metadata": {},
   "outputs": [
    {
     "name": "stdout",
     "output_type": "stream",
     "text": [
      "Initiating login request with your identity provider. A browser window should have opened for you to complete the login. If you can't see it, check existing browser windows, or your OS settings. Press CTRL+C to abort and try again...\n"
     ]
    },
    {
     "data": {
      "text/html": [
       "<div>\n",
       "<style scoped>\n",
       "    .dataframe tbody tr th:only-of-type {\n",
       "        vertical-align: middle;\n",
       "    }\n",
       "\n",
       "    .dataframe tbody tr th {\n",
       "        vertical-align: top;\n",
       "    }\n",
       "\n",
       "    .dataframe thead th {\n",
       "        text-align: right;\n",
       "    }\n",
       "</style>\n",
       "<table border=\"1\" class=\"dataframe\">\n",
       "  <thead>\n",
       "    <tr style=\"text-align: right;\">\n",
       "      <th></th>\n",
       "      <th>CAR</th>\n",
       "      <th>MPG</th>\n",
       "      <th>CYLINDERS</th>\n",
       "      <th>DISPLACEMENT</th>\n",
       "      <th>HORSEPOWER</th>\n",
       "      <th>WEIGHT</th>\n",
       "      <th>ACCELERATION</th>\n",
       "      <th>MODEL</th>\n",
       "      <th>ORIGIN</th>\n",
       "    </tr>\n",
       "  </thead>\n",
       "  <tbody>\n",
       "    <tr>\n",
       "      <th>0</th>\n",
       "      <td>Chevrolet Chevelle Malibu</td>\n",
       "      <td>18.0</td>\n",
       "      <td>8</td>\n",
       "      <td>307.0</td>\n",
       "      <td>130.0</td>\n",
       "      <td>3504.0</td>\n",
       "      <td>12.0</td>\n",
       "      <td>70</td>\n",
       "      <td>US</td>\n",
       "    </tr>\n",
       "    <tr>\n",
       "      <th>1</th>\n",
       "      <td>Buick Skylark 320</td>\n",
       "      <td>15.0</td>\n",
       "      <td>8</td>\n",
       "      <td>350.0</td>\n",
       "      <td>165.0</td>\n",
       "      <td>3693.0</td>\n",
       "      <td>11.5</td>\n",
       "      <td>70</td>\n",
       "      <td>US</td>\n",
       "    </tr>\n",
       "    <tr>\n",
       "      <th>2</th>\n",
       "      <td>Plymouth Satellite</td>\n",
       "      <td>18.0</td>\n",
       "      <td>8</td>\n",
       "      <td>318.0</td>\n",
       "      <td>150.0</td>\n",
       "      <td>3436.0</td>\n",
       "      <td>11.0</td>\n",
       "      <td>70</td>\n",
       "      <td>US</td>\n",
       "    </tr>\n",
       "    <tr>\n",
       "      <th>3</th>\n",
       "      <td>AMC Rebel SST</td>\n",
       "      <td>16.0</td>\n",
       "      <td>8</td>\n",
       "      <td>304.0</td>\n",
       "      <td>150.0</td>\n",
       "      <td>3433.0</td>\n",
       "      <td>12.0</td>\n",
       "      <td>70</td>\n",
       "      <td>US</td>\n",
       "    </tr>\n",
       "    <tr>\n",
       "      <th>4</th>\n",
       "      <td>Ford Torino</td>\n",
       "      <td>17.0</td>\n",
       "      <td>8</td>\n",
       "      <td>302.0</td>\n",
       "      <td>140.0</td>\n",
       "      <td>3449.0</td>\n",
       "      <td>10.5</td>\n",
       "      <td>70</td>\n",
       "      <td>US</td>\n",
       "    </tr>\n",
       "  </tbody>\n",
       "</table>\n",
       "</div>"
      ],
      "text/plain": [
       "                         CAR   MPG  CYLINDERS  DISPLACEMENT  HORSEPOWER  \\\n",
       "0  Chevrolet Chevelle Malibu  18.0          8         307.0       130.0   \n",
       "1          Buick Skylark 320  15.0          8         350.0       165.0   \n",
       "2         Plymouth Satellite  18.0          8         318.0       150.0   \n",
       "3              AMC Rebel SST  16.0          8         304.0       150.0   \n",
       "4                Ford Torino  17.0          8         302.0       140.0   \n",
       "\n",
       "   WEIGHT  ACCELERATION MODEL ORIGIN  \n",
       "0  3504.0          12.0    70     US  \n",
       "1  3693.0          11.5    70     US  \n",
       "2  3436.0          11.0    70     US  \n",
       "3  3433.0          12.0    70     US  \n",
       "4  3449.0          10.5    70     US  "
      ]
     },
     "execution_count": 11,
     "metadata": {},
     "output_type": "execute_result"
    }
   ],
   "source": [
    "with sfc.connect(\n",
    "    user=SF_USERNAME,\n",
    "    password=SF_PASSWORD,\n",
    "    account=SF_ACCOUNT,\n",
    "    authenticator=SF_AUTHENTICATOR,\n",
    "    database = 'your_db',\n",
    "    schema = 'your_schema',\n",
    "    warehouse = 'your_warehouse',\n",
    "    role='your_role',\n",
    ") as con:\n",
    "    sql = \"SELECT * from cars\"\n",
    "    df = pd.read_sql(sql, con)\n",
    "df.head()"
   ]
  }
 ],
 "metadata": {
  "kernelspec": {
   "display_name": "Py3.9 (pyspark_dev)",
   "language": "python",
   "name": "pyspark_dev"
  },
  "language_info": {
   "codemirror_mode": {
    "name": "ipython",
    "version": 3
   },
   "file_extension": ".py",
   "mimetype": "text/x-python",
   "name": "python",
   "nbconvert_exporter": "python",
   "pygments_lexer": "ipython3",
   "version": "3.9.13"
  },
  "widgets": {
   "application/vnd.jupyter.widget-state+json": {
    "state": {},
    "version_major": 2,
    "version_minor": 0
   }
  }
 },
 "nbformat": 4,
 "nbformat_minor": 5
}
