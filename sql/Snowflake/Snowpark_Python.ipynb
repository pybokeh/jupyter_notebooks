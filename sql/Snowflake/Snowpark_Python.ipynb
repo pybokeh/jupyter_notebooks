{
 "cells": [
  {
   "cell_type": "markdown",
   "id": "c8a47e26-4d5e-4304-a7bd-95f0a935b8c3",
   "metadata": {},
   "source": [
    "# Snowpark for Python Available for Public Release (June 14, 2022)"
   ]
  },
  {
   "cell_type": "markdown",
   "id": "b09b485c-da83-4e9e-99d4-7c2b4c6ce109",
   "metadata": {},
   "source": [
    "#### Pre-Requisites"
   ]
  },
  {
   "cell_type": "markdown",
   "id": "2df553e0-c2c5-4e4d-a9d3-3261ac017bd7",
   "metadata": {},
   "source": [
    "- Python 3.8.x\n",
    "- Already existing Snowflake account/environment\n",
    "- pip install snowflake-snowpark-python or pip install \"snowflake-snowpark-python[pandas]\""
   ]
  },
  {
   "cell_type": "markdown",
   "id": "d38a9173-5a45-41b7-96d1-e4b8646f8ec7",
   "metadata": {},
   "source": [
    "## Reference Material"
   ]
  },
  {
   "cell_type": "markdown",
   "id": "934cec8e-b296-4ab7-a619-1f51ad01b288",
   "metadata": {},
   "source": [
    "- [Developer Guide](https://docs.snowflake.com/en/developer-guide/snowpark/python/index.html)\n",
    "- [Snowpark Python API](https://docs.snowflake.com/en/developer-guide/snowpark/reference/python/_autosummary/snowflake.snowpark.html)\n",
    "- [Quick Start Guide](https://quickstarts.snowflake.com/guide/getting_started_with_snowpark_python/index.html?index=..%2F..index#0) - NOTE: You can pip install instead of using .whl from their github repo\n",
    "- [Article](https://medium.com/snowflake/migrating-from-pyspark-to-snowpark-python-series-part-1-a75058c1e579) on migrating to Snowpark from PySpark\n",
    "- Working with dataframes from official [docs](https://docs.snowflake.com/en/developer-guide/snowpark/python/working-with-dataframes.html#)"
   ]
  },
  {
   "cell_type": "markdown",
   "id": "e268df93-0f10-4278-986d-8e796699ea7a",
   "metadata": {},
   "source": [
    "<a id=\"top\">"
   ]
  },
  {
   "cell_type": "markdown",
   "id": "7fb0d199-024c-40b0-8666-3f6db6f4ccb4",
   "metadata": {},
   "source": [
    "## Table of Contents"
   ]
  },
  {
   "cell_type": "markdown",
   "id": "4a96bc29-7089-40b5-8979-677991975bce",
   "metadata": {},
   "source": [
    "- [Create session and create a basic dataframe](#session)\n",
    "- [Convert Snowpark dataframe to pandas dataframe](#to_pandas)\n",
    "- [Create dataframe from SQL query](#sql)\n",
    "- [List contents of a staging directory](#list)\n",
    "- [Read csv file from staging](#read_csv)"
   ]
  },
  {
   "cell_type": "code",
   "execution_count": 1,
   "id": "a0b5d89a-b903-4ae8-9f84-a7ebf33f4042",
   "metadata": {},
   "outputs": [],
   "source": [
    "from pathlib import Path\n",
    "from snowflake.snowpark import Session\n",
    "import configparser"
   ]
  },
  {
   "cell_type": "markdown",
   "id": "400a6938-1b26-4eef-abb4-2c1ea6884114",
   "metadata": {},
   "source": [
    "#### Obtain Snowflake credentials from a config file so that we don't accidentally expose them to others"
   ]
  },
  {
   "cell_type": "code",
   "execution_count": 2,
   "id": "6c233c5b-0191-4ef4-9f2a-49b7b88393df",
   "metadata": {},
   "outputs": [],
   "source": [
    "config = configparser.ConfigParser()\n",
    "config.read(Path.home() / '.config' / 'config.ini')\n",
    "SF_USERNAME = config['snowflake']['username']\n",
    "# SF_PASSWORD = config['snowflake']['password']  # Not needed when using browser authenticator\n",
    "SF_ROLE = config['snowflake']['role']\n",
    "SF_WAREHOUSE = config['snowflake']['warehouse']\n",
    "SF_DATABASE = config['snowflake']['database']\n",
    "SF_SCHEMA = config['snowflake']['schema']\n",
    "SF_ACCOUNT = config['snowflake']['account']\n",
    "SF_AUTHENTICATOR = config['snowflake']['authenticator']  # Using browser authenticator, not Okta"
   ]
  },
  {
   "cell_type": "markdown",
   "id": "fab2ac86-5873-4977-b132-e688e67f9df6",
   "metadata": {},
   "source": [
    "#### Pass Credentials to a Python Dictionary"
   ]
  },
  {
   "cell_type": "code",
   "execution_count": 3,
   "id": "9191b39e-58f9-4900-ba30-7c7517528bd8",
   "metadata": {},
   "outputs": [],
   "source": [
    "connection_parameters = {\n",
    "  \"account\": SF_ACCOUNT,\n",
    "  \"user\": SF_USERNAME,\n",
    "#  \"password\": SF_PASSWORD,\n",
    "  \"role\": SF_ROLE,\n",
    "  \"warehouse\": SF_WAREHOUSE,\n",
    "  \"database\": SF_DATABASE,\n",
    "  \"schema\": SF_SCHEMA,\n",
    "  \"authenticator\": SF_AUTHENTICATOR\n",
    "}"
   ]
  },
  {
   "cell_type": "markdown",
   "id": "96d80b58-4e17-436d-9082-608952c9e955",
   "metadata": {},
   "source": [
    "<a id=\"session\">"
   ]
  },
  {
   "cell_type": "markdown",
   "id": "364bd45d-e5ff-435b-a737-426e3737e6fb",
   "metadata": {},
   "source": [
    "#### Create Session and Start Doing PySpark-y Things"
   ]
  },
  {
   "cell_type": "markdown",
   "id": "6080d6e5-4ec4-4d4c-b3cc-80c968b97589",
   "metadata": {},
   "source": [
    "[[back to top](#top)]"
   ]
  },
  {
   "cell_type": "code",
   "execution_count": 4,
   "id": "f39dda6a-abd7-419b-a835-9fda892982ee",
   "metadata": {},
   "outputs": [
    {
     "name": "stdout",
     "output_type": "stream",
     "text": [
      "Initiating login request with your identity provider. A browser window should have opened for you to complete the login. If you can't see it, check existing browser windows, or your OS settings. Press CTRL+C to abort and try again...\n",
      "-------------\n",
      "|\"A\"  |\"B\"  |\n",
      "-------------\n",
      "|3    |4    |\n",
      "-------------\n",
      "\n"
     ]
    }
   ],
   "source": [
    "session = Session.builder.configs(connection_parameters).create()\n",
    "df = session.create_dataframe([[1, 2], [3, 4]], schema=[\"a\", \"b\"])\n",
    "df = df.filter(df.a > 1)\n",
    "df.show()"
   ]
  },
  {
   "cell_type": "markdown",
   "id": "cd593cf5-ae5b-4f92-a8cb-7a06616524d7",
   "metadata": {},
   "source": [
    "<a id=\"to_pandas\">"
   ]
  },
  {
   "cell_type": "markdown",
   "id": "4ac6994e-44ef-414a-808f-d3dfd46b37f6",
   "metadata": {},
   "source": [
    "#### Convert Snowpark dataframe to Pandas dataframe"
   ]
  },
  {
   "cell_type": "markdown",
   "id": "1cdca0cc-2986-4a72-a50a-30f19004c652",
   "metadata": {},
   "source": [
    "[[back to top](#top)]"
   ]
  },
  {
   "cell_type": "code",
   "execution_count": 5,
   "id": "3e5ecea0-c5e9-4d6a-a287-6a545265120f",
   "metadata": {},
   "outputs": [],
   "source": [
    "pandas_df = df.to_pandas()  # this requires pandas installed in the Python environment"
   ]
  },
  {
   "cell_type": "code",
   "execution_count": 6,
   "id": "b6d5fb29-9798-4c0b-9118-aa1397384052",
   "metadata": {},
   "outputs": [
    {
     "data": {
      "text/html": [
       "<div>\n",
       "<style scoped>\n",
       "    .dataframe tbody tr th:only-of-type {\n",
       "        vertical-align: middle;\n",
       "    }\n",
       "\n",
       "    .dataframe tbody tr th {\n",
       "        vertical-align: top;\n",
       "    }\n",
       "\n",
       "    .dataframe thead th {\n",
       "        text-align: right;\n",
       "    }\n",
       "</style>\n",
       "<table border=\"1\" class=\"dataframe\">\n",
       "  <thead>\n",
       "    <tr style=\"text-align: right;\">\n",
       "      <th></th>\n",
       "      <th>A</th>\n",
       "      <th>B</th>\n",
       "    </tr>\n",
       "  </thead>\n",
       "  <tbody>\n",
       "    <tr>\n",
       "      <th>0</th>\n",
       "      <td>3</td>\n",
       "      <td>4</td>\n",
       "    </tr>\n",
       "  </tbody>\n",
       "</table>\n",
       "</div>"
      ],
      "text/plain": [
       "   A  B\n",
       "0  3  4"
      ]
     },
     "execution_count": 6,
     "metadata": {},
     "output_type": "execute_result"
    }
   ],
   "source": [
    "pandas_df"
   ]
  },
  {
   "cell_type": "markdown",
   "id": "68696390-f3e0-4eb7-a1b9-b7a66b04f8fc",
   "metadata": {},
   "source": [
    "#### Don't forget to close the session when you're done with it."
   ]
  },
  {
   "cell_type": "code",
   "execution_count": 7,
   "id": "53ff99e5-f796-4179-b46b-302df7e8a5f6",
   "metadata": {},
   "outputs": [],
   "source": [
    "session.close()"
   ]
  },
  {
   "cell_type": "markdown",
   "id": "12d7570f-aeb9-44ce-8401-fe2ccb642ba3",
   "metadata": {},
   "source": [
    "<a id=\"sql\">"
   ]
  },
  {
   "cell_type": "markdown",
   "id": "71d3353f-4cf1-4156-92ed-5ee50090fca4",
   "metadata": {},
   "source": [
    "#### Create dataframe from a SQL query"
   ]
  },
  {
   "cell_type": "markdown",
   "id": "887723da-810f-4279-a075-5b52047b610a",
   "metadata": {},
   "source": [
    "[[back to top](#top)]"
   ]
  },
  {
   "cell_type": "code",
   "execution_count": 8,
   "id": "b32814d1-c63d-4ebf-82db-d529a9efec66",
   "metadata": {},
   "outputs": [
    {
     "name": "stdout",
     "output_type": "stream",
     "text": [
      "Initiating login request with your identity provider. A browser window should have opened for you to complete the login. If you can't see it, check existing browser windows, or your OS settings. Press CTRL+C to abort and try again...\n"
     ]
    }
   ],
   "source": [
    "connection_parameters = {\n",
    "  \"account\": SF_ACCOUNT,\n",
    "  \"user\": SF_USERNAME,\n",
    "#  \"password\": SF_PASSWORD,\n",
    "  \"role\": SF_ROLE,\n",
    "  \"warehouse\": SF_WAREHOUSE,\n",
    "  \"database\": SF_DATABASE,\n",
    "  \"schema\": \"NHTSA\",\n",
    "  \"authenticator\": SF_AUTHENTICATOR\n",
    "}\n",
    "\n",
    "session = Session.builder.configs(connection_parameters).create()\n",
    "sql = \"\"\"\n",
    "select\n",
    "    modelyear\n",
    "    , count(*) as qty\n",
    "from nhtsa.vw_nhtsa_wide_pl\n",
    "group by\n",
    "    modelyear\n",
    "order by\n",
    "    modelyear\n",
    "\"\"\"\n",
    "df = session.sql(sql)"
   ]
  },
  {
   "cell_type": "markdown",
   "id": "ebb85d85-1f0d-4216-9f3a-37aa7fccf833",
   "metadata": {},
   "source": [
    "`show()` will display first 10 rows of data"
   ]
  },
  {
   "cell_type": "code",
   "execution_count": 9,
   "id": "56ebf63f-8b29-4a80-a177-11371a2e2b9c",
   "metadata": {},
   "outputs": [
    {
     "name": "stdout",
     "output_type": "stream",
     "text": [
      "-----------------------\n",
      "|\"MODELYEAR\"  |\"QTY\"  |\n",
      "-----------------------\n",
      "|2000         |585    |\n",
      "|2001         |611    |\n",
      "|2002         |633    |\n",
      "|2003         |640    |\n",
      "|2004         |636    |\n",
      "|2005         |645    |\n",
      "|2006         |659    |\n",
      "|2007         |655    |\n",
      "|2008         |661    |\n",
      "|2009         |574    |\n",
      "-----------------------\n",
      "\n"
     ]
    }
   ],
   "source": [
    "df.show()"
   ]
  },
  {
   "cell_type": "code",
   "execution_count": 10,
   "id": "26fd5fb1-d244-44c4-aa70-5deab021ab6c",
   "metadata": {},
   "outputs": [],
   "source": [
    "pandas_df = df.to_pandas()"
   ]
  },
  {
   "cell_type": "code",
   "execution_count": 11,
   "id": "8ac2ee3c-c75b-4e8c-a6d2-7b1903f92c7f",
   "metadata": {},
   "outputs": [
    {
     "data": {
      "text/html": [
       "<div>\n",
       "<style scoped>\n",
       "    .dataframe tbody tr th:only-of-type {\n",
       "        vertical-align: middle;\n",
       "    }\n",
       "\n",
       "    .dataframe tbody tr th {\n",
       "        vertical-align: top;\n",
       "    }\n",
       "\n",
       "    .dataframe thead th {\n",
       "        text-align: right;\n",
       "    }\n",
       "</style>\n",
       "<table border=\"1\" class=\"dataframe\">\n",
       "  <thead>\n",
       "    <tr style=\"text-align: right;\">\n",
       "      <th></th>\n",
       "      <th>MODELYEAR</th>\n",
       "      <th>QTY</th>\n",
       "    </tr>\n",
       "  </thead>\n",
       "  <tbody>\n",
       "    <tr>\n",
       "      <th>0</th>\n",
       "      <td>2000</td>\n",
       "      <td>585</td>\n",
       "    </tr>\n",
       "    <tr>\n",
       "      <th>1</th>\n",
       "      <td>2001</td>\n",
       "      <td>611</td>\n",
       "    </tr>\n",
       "    <tr>\n",
       "      <th>2</th>\n",
       "      <td>2002</td>\n",
       "      <td>633</td>\n",
       "    </tr>\n",
       "    <tr>\n",
       "      <th>3</th>\n",
       "      <td>2003</td>\n",
       "      <td>640</td>\n",
       "    </tr>\n",
       "    <tr>\n",
       "      <th>4</th>\n",
       "      <td>2004</td>\n",
       "      <td>636</td>\n",
       "    </tr>\n",
       "    <tr>\n",
       "      <th>5</th>\n",
       "      <td>2005</td>\n",
       "      <td>645</td>\n",
       "    </tr>\n",
       "    <tr>\n",
       "      <th>6</th>\n",
       "      <td>2006</td>\n",
       "      <td>659</td>\n",
       "    </tr>\n",
       "    <tr>\n",
       "      <th>7</th>\n",
       "      <td>2007</td>\n",
       "      <td>655</td>\n",
       "    </tr>\n",
       "    <tr>\n",
       "      <th>8</th>\n",
       "      <td>2008</td>\n",
       "      <td>661</td>\n",
       "    </tr>\n",
       "    <tr>\n",
       "      <th>9</th>\n",
       "      <td>2009</td>\n",
       "      <td>574</td>\n",
       "    </tr>\n",
       "    <tr>\n",
       "      <th>10</th>\n",
       "      <td>2010</td>\n",
       "      <td>596</td>\n",
       "    </tr>\n",
       "    <tr>\n",
       "      <th>11</th>\n",
       "      <td>2011</td>\n",
       "      <td>596</td>\n",
       "    </tr>\n",
       "    <tr>\n",
       "      <th>12</th>\n",
       "      <td>2012</td>\n",
       "      <td>628</td>\n",
       "    </tr>\n",
       "    <tr>\n",
       "      <th>13</th>\n",
       "      <td>2013</td>\n",
       "      <td>621</td>\n",
       "    </tr>\n",
       "    <tr>\n",
       "      <th>14</th>\n",
       "      <td>2014</td>\n",
       "      <td>619</td>\n",
       "    </tr>\n",
       "    <tr>\n",
       "      <th>15</th>\n",
       "      <td>2015</td>\n",
       "      <td>620</td>\n",
       "    </tr>\n",
       "    <tr>\n",
       "      <th>16</th>\n",
       "      <td>2016</td>\n",
       "      <td>627</td>\n",
       "    </tr>\n",
       "    <tr>\n",
       "      <th>17</th>\n",
       "      <td>2017</td>\n",
       "      <td>666</td>\n",
       "    </tr>\n",
       "    <tr>\n",
       "      <th>18</th>\n",
       "      <td>2018</td>\n",
       "      <td>643</td>\n",
       "    </tr>\n",
       "    <tr>\n",
       "      <th>19</th>\n",
       "      <td>2019</td>\n",
       "      <td>633</td>\n",
       "    </tr>\n",
       "    <tr>\n",
       "      <th>20</th>\n",
       "      <td>2020</td>\n",
       "      <td>347</td>\n",
       "    </tr>\n",
       "    <tr>\n",
       "      <th>21</th>\n",
       "      <td>2021</td>\n",
       "      <td>173</td>\n",
       "    </tr>\n",
       "    <tr>\n",
       "      <th>22</th>\n",
       "      <td>2022</td>\n",
       "      <td>7</td>\n",
       "    </tr>\n",
       "  </tbody>\n",
       "</table>\n",
       "</div>"
      ],
      "text/plain": [
       "   MODELYEAR  QTY\n",
       "0       2000  585\n",
       "1       2001  611\n",
       "2       2002  633\n",
       "3       2003  640\n",
       "4       2004  636\n",
       "5       2005  645\n",
       "6       2006  659\n",
       "7       2007  655\n",
       "8       2008  661\n",
       "9       2009  574\n",
       "10      2010  596\n",
       "11      2011  596\n",
       "12      2012  628\n",
       "13      2013  621\n",
       "14      2014  619\n",
       "15      2015  620\n",
       "16      2016  627\n",
       "17      2017  666\n",
       "18      2018  643\n",
       "19      2019  633\n",
       "20      2020  347\n",
       "21      2021  173\n",
       "22      2022    7"
      ]
     },
     "execution_count": 11,
     "metadata": {},
     "output_type": "execute_result"
    }
   ],
   "source": [
    "pandas_df"
   ]
  },
  {
   "cell_type": "code",
   "execution_count": 12,
   "id": "70c90bfd-960e-452a-8517-8a3bf4c4c57d",
   "metadata": {},
   "outputs": [],
   "source": [
    "session.close()"
   ]
  },
  {
   "cell_type": "markdown",
   "id": "5741f5be-72b0-4201-8e86-9eb772802a58",
   "metadata": {},
   "source": [
    "#### A more Pythonic way is to use context manager (aka with clause) which will close the session for you."
   ]
  },
  {
   "cell_type": "code",
   "execution_count": 13,
   "id": "843eab0e-9e9a-4433-b05f-3e5a367eb141",
   "metadata": {},
   "outputs": [
    {
     "name": "stdout",
     "output_type": "stream",
     "text": [
      "Initiating login request with your identity provider. A browser window should have opened for you to complete the login. If you can't see it, check existing browser windows, or your OS settings. Press CTRL+C to abort and try again...\n",
      "-------------\n",
      "|\"A\"  |\"B\"  |\n",
      "-------------\n",
      "|3    |4    |\n",
      "-------------\n",
      "\n"
     ]
    }
   ],
   "source": [
    "with Session.builder.configs(connection_parameters).create() as session:\n",
    "    df = session.create_dataframe([[1, 2], [3, 4]], schema=[\"a\", \"b\"])\n",
    "    df = df.filter(df.a > 1)\n",
    "    pandas_df = df.to_pandas()\n",
    "    df.show()"
   ]
  },
  {
   "cell_type": "markdown",
   "id": "89f56d34-6184-4c9e-a1a0-e2b36e16ae93",
   "metadata": {},
   "source": [
    "#### Snowpark dataframe converted to pandas dataframe"
   ]
  },
  {
   "cell_type": "code",
   "execution_count": 14,
   "id": "e95db6aa-cf15-4e81-a942-9e0d74c48427",
   "metadata": {},
   "outputs": [
    {
     "data": {
      "text/html": [
       "<div>\n",
       "<style scoped>\n",
       "    .dataframe tbody tr th:only-of-type {\n",
       "        vertical-align: middle;\n",
       "    }\n",
       "\n",
       "    .dataframe tbody tr th {\n",
       "        vertical-align: top;\n",
       "    }\n",
       "\n",
       "    .dataframe thead th {\n",
       "        text-align: right;\n",
       "    }\n",
       "</style>\n",
       "<table border=\"1\" class=\"dataframe\">\n",
       "  <thead>\n",
       "    <tr style=\"text-align: right;\">\n",
       "      <th></th>\n",
       "      <th>A</th>\n",
       "      <th>B</th>\n",
       "    </tr>\n",
       "  </thead>\n",
       "  <tbody>\n",
       "    <tr>\n",
       "      <th>0</th>\n",
       "      <td>3</td>\n",
       "      <td>4</td>\n",
       "    </tr>\n",
       "  </tbody>\n",
       "</table>\n",
       "</div>"
      ],
      "text/plain": [
       "   A  B\n",
       "0  3  4"
      ]
     },
     "execution_count": 14,
     "metadata": {},
     "output_type": "execute_result"
    }
   ],
   "source": [
    "pandas_df"
   ]
  },
  {
   "cell_type": "code",
   "execution_count": 15,
   "id": "b91d531b-d91c-4772-bbba-0b9ac823ac8a",
   "metadata": {},
   "outputs": [],
   "source": [
    "session.close()"
   ]
  },
  {
   "cell_type": "markdown",
   "id": "5352d9ea-4f19-400c-bc74-38a63b17b147",
   "metadata": {},
   "source": [
    "<a id=\"list\">"
   ]
  },
  {
   "cell_type": "markdown",
   "id": "62937e34-e711-4df2-b6a3-07f79724b154",
   "metadata": {},
   "source": [
    "#### List contents of \"user\" or personal staging directory"
   ]
  },
  {
   "cell_type": "code",
   "execution_count": 16,
   "id": "1131948f-7352-48ee-8b58-c5dcce4687cc",
   "metadata": {},
   "outputs": [
    {
     "name": "stdout",
     "output_type": "stream",
     "text": [
      "Initiating login request with your identity provider. A browser window should have opened for you to complete the login. If you can't see it, check existing browser windows, or your OS settings. Press CTRL+C to abort and try again...\n"
     ]
    }
   ],
   "source": [
    "session = Session.builder.configs(connection_parameters).create()"
   ]
  },
  {
   "cell_type": "code",
   "execution_count": 17,
   "id": "7e90e91b-5e64-435d-aa97-4db11c4ce80a",
   "metadata": {},
   "outputs": [
    {
     "name": "stdout",
     "output_type": "stream",
     "text": [
      "-----------------------------------------------------------------------------------------------\n",
      "|\"name\"            |\"size\"  |\"md5\"                             |\"last_modified\"               |\n",
      "-----------------------------------------------------------------------------------------------\n",
      "|test/cars.csv.gz  |6784    |9bc71daabf25cb048925677469f0a59e  |Sat, 5 Feb 2022 19:42:06 GMT  |\n",
      "-----------------------------------------------------------------------------------------------\n",
      "\n"
     ]
    }
   ],
   "source": [
    "session.sql(\"list @~/test/\").show(max_width=100)"
   ]
  },
  {
   "cell_type": "markdown",
   "id": "5939c181-06e7-4d7e-b2b4-b3602108bb7b",
   "metadata": {},
   "source": [
    "<a id=\"read_csv\">"
   ]
  },
  {
   "cell_type": "markdown",
   "id": "032da049-b42b-426c-8465-2f8e9a256427",
   "metadata": {},
   "source": [
    "#### Read a CSV file from Staging - Currently, Snowpark does not automatically infer schema with CSV or JSON format, you will have to manually define the schema - [reference](https://docs.snowflake.com/en/user-guide/data-load-overview.html#detection-of-column-definitions-in-staged-semi-structured-data-files)"
   ]
  },
  {
   "cell_type": "markdown",
   "id": "9e61e284-0e2c-4c3a-bfa2-91300f884892",
   "metadata": {},
   "source": [
    "Currently, can not load or read a local CSV file.  To read a local csv file, have to first upload it to staging using \"put\" function per [docs](https://docs.snowflake.com/en/developer-guide/snowpark/reference/python/api/snowflake.snowpark.FileOperation.put.html)"
   ]
  },
  {
   "cell_type": "code",
   "execution_count": 18,
   "id": "63eb4029-a215-4037-9a2c-7b422a5d1a1d",
   "metadata": {},
   "outputs": [],
   "source": [
    "from snowflake.snowpark.types import FloatType, IntegerType, StringType, StructField, StructType"
   ]
  },
  {
   "cell_type": "code",
   "execution_count": 19,
   "id": "325d4e30-32af-44a6-a40b-6df4fb6378e8",
   "metadata": {},
   "outputs": [],
   "source": [
    "cars_schema = StructType(\n",
    "    [\n",
    "        StructField(\"Car\", StringType()),\n",
    "        StructField(\"MPG\", FloatType()),\n",
    "        StructField(\"Cylinders\", IntegerType()),\n",
    "        StructField(\"Displacement\", IntegerType()),\n",
    "        StructField(\"Horsepower\", IntegerType()),\n",
    "        StructField(\"Weight\", IntegerType()),\n",
    "        StructField(\"Acceleration\", FloatType()),\n",
    "        StructField(\"Model\", IntegerType()),\n",
    "        StructField(\"Origin\", StringType())\n",
    "    ]\n",
    ")"
   ]
  },
  {
   "cell_type": "code",
   "execution_count": 20,
   "id": "cf3c3fae-a8d0-44b8-8495-0bef6dc4b553",
   "metadata": {},
   "outputs": [],
   "source": [
    "df_cars = (\n",
    "    session.read\n",
    "    .option(\"skip_header\", 1)\n",
    "    .option(\"field_delimiter\", \";\")\n",
    "    .option(\"FIELD_OPTIONALLY_ENCLOSED_BY\", '\"')\n",
    "    .schema(cars_schema)\n",
    "    .csv(\"@~/test/cars.csv\")\n",
    ")"
   ]
  },
  {
   "cell_type": "code",
   "execution_count": 21,
   "id": "77bcb0a0-c03a-4003-a2d2-6953a249cd14",
   "metadata": {},
   "outputs": [
    {
     "name": "stdout",
     "output_type": "stream",
     "text": [
      "------------------------------------------------------------------------------------------------------------------------------------\n",
      "|\"CAR\"                      |\"MPG\"  |\"CYLINDERS\"  |\"DISPLACEMENT\"  |\"HORSEPOWER\"  |\"WEIGHT\"  |\"ACCELERATION\"  |\"MODEL\"  |\"ORIGIN\"  |\n",
      "------------------------------------------------------------------------------------------------------------------------------------\n",
      "|Chevrolet Chevelle Malibu  |18.0   |8            |307             |130           |3504      |12.0            |70       |US        |\n",
      "|Buick Skylark 320          |15.0   |8            |350             |165           |3693      |11.5            |70       |US        |\n",
      "|Plymouth Satellite         |18.0   |8            |318             |150           |3436      |11.0            |70       |US        |\n",
      "|AMC Rebel SST              |16.0   |8            |304             |150           |3433      |12.0            |70       |US        |\n",
      "|Ford Torino                |17.0   |8            |302             |140           |3449      |10.5            |70       |US        |\n",
      "|Ford Galaxie 500           |15.0   |8            |429             |198           |4341      |10.0            |70       |US        |\n",
      "|Chevrolet Impala           |14.0   |8            |454             |220           |4354      |9.0             |70       |US        |\n",
      "|Plymouth Fury iii          |14.0   |8            |440             |215           |4312      |8.5             |70       |US        |\n",
      "|Pontiac Catalina           |14.0   |8            |455             |225           |4425      |10.0            |70       |US        |\n",
      "|AMC Ambassador DPL         |15.0   |8            |390             |190           |3850      |8.5             |70       |US        |\n",
      "------------------------------------------------------------------------------------------------------------------------------------\n",
      "\n"
     ]
    }
   ],
   "source": [
    "df_cars.show()"
   ]
  },
  {
   "cell_type": "code",
   "execution_count": 22,
   "id": "e2f92488-a0d1-4d4d-905a-d84cda23e5a2",
   "metadata": {},
   "outputs": [],
   "source": [
    "df_cars_pandas = df_cars.to_pandas()"
   ]
  },
  {
   "cell_type": "code",
   "execution_count": 23,
   "id": "f307a79b-3fc6-4110-9538-5235d518dfbf",
   "metadata": {},
   "outputs": [
    {
     "data": {
      "text/html": [
       "<div>\n",
       "<style scoped>\n",
       "    .dataframe tbody tr th:only-of-type {\n",
       "        vertical-align: middle;\n",
       "    }\n",
       "\n",
       "    .dataframe tbody tr th {\n",
       "        vertical-align: top;\n",
       "    }\n",
       "\n",
       "    .dataframe thead th {\n",
       "        text-align: right;\n",
       "    }\n",
       "</style>\n",
       "<table border=\"1\" class=\"dataframe\">\n",
       "  <thead>\n",
       "    <tr style=\"text-align: right;\">\n",
       "      <th></th>\n",
       "      <th>CAR</th>\n",
       "      <th>MPG</th>\n",
       "      <th>CYLINDERS</th>\n",
       "      <th>DISPLACEMENT</th>\n",
       "      <th>HORSEPOWER</th>\n",
       "      <th>WEIGHT</th>\n",
       "      <th>ACCELERATION</th>\n",
       "      <th>MODEL</th>\n",
       "      <th>ORIGIN</th>\n",
       "    </tr>\n",
       "  </thead>\n",
       "  <tbody>\n",
       "    <tr>\n",
       "      <th>0</th>\n",
       "      <td>Chevrolet Chevelle Malibu</td>\n",
       "      <td>18.0</td>\n",
       "      <td>8</td>\n",
       "      <td>307</td>\n",
       "      <td>130</td>\n",
       "      <td>3504</td>\n",
       "      <td>12.0</td>\n",
       "      <td>70</td>\n",
       "      <td>US</td>\n",
       "    </tr>\n",
       "    <tr>\n",
       "      <th>1</th>\n",
       "      <td>Buick Skylark 320</td>\n",
       "      <td>15.0</td>\n",
       "      <td>8</td>\n",
       "      <td>350</td>\n",
       "      <td>165</td>\n",
       "      <td>3693</td>\n",
       "      <td>11.5</td>\n",
       "      <td>70</td>\n",
       "      <td>US</td>\n",
       "    </tr>\n",
       "    <tr>\n",
       "      <th>2</th>\n",
       "      <td>Plymouth Satellite</td>\n",
       "      <td>18.0</td>\n",
       "      <td>8</td>\n",
       "      <td>318</td>\n",
       "      <td>150</td>\n",
       "      <td>3436</td>\n",
       "      <td>11.0</td>\n",
       "      <td>70</td>\n",
       "      <td>US</td>\n",
       "    </tr>\n",
       "    <tr>\n",
       "      <th>3</th>\n",
       "      <td>AMC Rebel SST</td>\n",
       "      <td>16.0</td>\n",
       "      <td>8</td>\n",
       "      <td>304</td>\n",
       "      <td>150</td>\n",
       "      <td>3433</td>\n",
       "      <td>12.0</td>\n",
       "      <td>70</td>\n",
       "      <td>US</td>\n",
       "    </tr>\n",
       "    <tr>\n",
       "      <th>4</th>\n",
       "      <td>Ford Torino</td>\n",
       "      <td>17.0</td>\n",
       "      <td>8</td>\n",
       "      <td>302</td>\n",
       "      <td>140</td>\n",
       "      <td>3449</td>\n",
       "      <td>10.5</td>\n",
       "      <td>70</td>\n",
       "      <td>US</td>\n",
       "    </tr>\n",
       "    <tr>\n",
       "      <th>...</th>\n",
       "      <td>...</td>\n",
       "      <td>...</td>\n",
       "      <td>...</td>\n",
       "      <td>...</td>\n",
       "      <td>...</td>\n",
       "      <td>...</td>\n",
       "      <td>...</td>\n",
       "      <td>...</td>\n",
       "      <td>...</td>\n",
       "    </tr>\n",
       "    <tr>\n",
       "      <th>401</th>\n",
       "      <td>Ford Mustang GL</td>\n",
       "      <td>27.0</td>\n",
       "      <td>4</td>\n",
       "      <td>140</td>\n",
       "      <td>86</td>\n",
       "      <td>2790</td>\n",
       "      <td>15.6</td>\n",
       "      <td>82</td>\n",
       "      <td>US</td>\n",
       "    </tr>\n",
       "    <tr>\n",
       "      <th>402</th>\n",
       "      <td>Volkswagen Pickup</td>\n",
       "      <td>44.0</td>\n",
       "      <td>4</td>\n",
       "      <td>97</td>\n",
       "      <td>52</td>\n",
       "      <td>2130</td>\n",
       "      <td>24.6</td>\n",
       "      <td>82</td>\n",
       "      <td>Europe</td>\n",
       "    </tr>\n",
       "    <tr>\n",
       "      <th>403</th>\n",
       "      <td>Dodge Rampage</td>\n",
       "      <td>32.0</td>\n",
       "      <td>4</td>\n",
       "      <td>135</td>\n",
       "      <td>84</td>\n",
       "      <td>2295</td>\n",
       "      <td>11.6</td>\n",
       "      <td>82</td>\n",
       "      <td>US</td>\n",
       "    </tr>\n",
       "    <tr>\n",
       "      <th>404</th>\n",
       "      <td>Ford Ranger</td>\n",
       "      <td>28.0</td>\n",
       "      <td>4</td>\n",
       "      <td>120</td>\n",
       "      <td>79</td>\n",
       "      <td>2625</td>\n",
       "      <td>18.6</td>\n",
       "      <td>82</td>\n",
       "      <td>US</td>\n",
       "    </tr>\n",
       "    <tr>\n",
       "      <th>405</th>\n",
       "      <td>Chevy S-10</td>\n",
       "      <td>31.0</td>\n",
       "      <td>4</td>\n",
       "      <td>119</td>\n",
       "      <td>82</td>\n",
       "      <td>2720</td>\n",
       "      <td>19.4</td>\n",
       "      <td>82</td>\n",
       "      <td>US</td>\n",
       "    </tr>\n",
       "  </tbody>\n",
       "</table>\n",
       "<p>406 rows × 9 columns</p>\n",
       "</div>"
      ],
      "text/plain": [
       "                           CAR   MPG  CYLINDERS  DISPLACEMENT  HORSEPOWER  \\\n",
       "0    Chevrolet Chevelle Malibu  18.0          8           307         130   \n",
       "1            Buick Skylark 320  15.0          8           350         165   \n",
       "2           Plymouth Satellite  18.0          8           318         150   \n",
       "3                AMC Rebel SST  16.0          8           304         150   \n",
       "4                  Ford Torino  17.0          8           302         140   \n",
       "..                         ...   ...        ...           ...         ...   \n",
       "401            Ford Mustang GL  27.0          4           140          86   \n",
       "402          Volkswagen Pickup  44.0          4            97          52   \n",
       "403              Dodge Rampage  32.0          4           135          84   \n",
       "404                Ford Ranger  28.0          4           120          79   \n",
       "405                 Chevy S-10  31.0          4           119          82   \n",
       "\n",
       "     WEIGHT  ACCELERATION  MODEL  ORIGIN  \n",
       "0      3504          12.0     70      US  \n",
       "1      3693          11.5     70      US  \n",
       "2      3436          11.0     70      US  \n",
       "3      3433          12.0     70      US  \n",
       "4      3449          10.5     70      US  \n",
       "..      ...           ...    ...     ...  \n",
       "401    2790          15.6     82      US  \n",
       "402    2130          24.6     82  Europe  \n",
       "403    2295          11.6     82      US  \n",
       "404    2625          18.6     82      US  \n",
       "405    2720          19.4     82      US  \n",
       "\n",
       "[406 rows x 9 columns]"
      ]
     },
     "execution_count": 23,
     "metadata": {},
     "output_type": "execute_result"
    }
   ],
   "source": [
    "df_cars_pandas"
   ]
  },
  {
   "cell_type": "code",
   "execution_count": 24,
   "id": "80c705ba-f9e2-4565-87ab-681c2e679d70",
   "metadata": {},
   "outputs": [],
   "source": [
    "session.close()"
   ]
  }
 ],
 "metadata": {
  "kernelspec": {
   "display_name": "Py3.9 (pyspark_dev)",
   "language": "python",
   "name": "pyspark_dev"
  },
  "language_info": {
   "codemirror_mode": {
    "name": "ipython",
    "version": 3
   },
   "file_extension": ".py",
   "mimetype": "text/x-python",
   "name": "python",
   "nbconvert_exporter": "python",
   "pygments_lexer": "ipython3",
   "version": "3.9.13"
  },
  "widgets": {
   "application/vnd.jupyter.widget-state+json": {
    "state": {},
    "version_major": 2,
    "version_minor": 0
   }
  }
 },
 "nbformat": 4,
 "nbformat_minor": 5
}
