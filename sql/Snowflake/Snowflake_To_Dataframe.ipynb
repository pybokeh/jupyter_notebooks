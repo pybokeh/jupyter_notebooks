{
 "cells": [
  {
   "cell_type": "markdown",
   "id": "fb3e7358-6049-4697-8a24-dcd0ec9f017b",
   "metadata": {},
   "source": [
    "# How to Return Snowflake Query Result as Pandas Dataframe"
   ]
  },
  {
   "cell_type": "markdown",
   "id": "0c652644-e938-4107-854b-ad83723fc65e",
   "metadata": {},
   "source": [
    "#### Install the snowflake-connector library via pip:\n",
    "\n",
    "`pip install snowflake-connector-python`\n",
    "\n",
    "`pip install sqlalchemy`\n",
    "\n",
    "#### and optionally install pandas integration:\n",
    "\n",
    "`pip install \"snowflake-connector-python[pandas]\"`"
   ]
  },
  {
   "cell_type": "code",
   "execution_count": 1,
   "id": "77e44e97-7102-4370-8d5f-4d04264ce67d",
   "metadata": {},
   "outputs": [],
   "source": [
    "from pathlib import Path\n",
    "from snowflake.connector.pandas_tools import write_pandas\n",
    "import configparser\n",
    "import pandas as pd\n",
    "import snowflake.connector as sfc"
   ]
  },
  {
   "cell_type": "markdown",
   "id": "7cf95833-dac3-4f8e-8cad-a365df24e6f4",
   "metadata": {},
   "source": [
    "#### There are a few different approaches for providing secret credentials without publicly exposing them.  One approach is to obtain them from a config file saved locally on your machine."
   ]
  },
  {
   "cell_type": "code",
   "execution_count": 2,
   "id": "db8fff42-c250-420c-ad94-0feabc3b52d7",
   "metadata": {},
   "outputs": [],
   "source": [
    "config = configparser.ConfigParser()\n",
    "config.read(Path.home() / '.config' / 'config.ini')\n",
    "SF_USERNAME = config['snowflake']['USERNAME']\n",
    "SF_PASSWORD = config['snowflake']['PASSWORD']\n",
    "SF_ACCOUNT = config['snowflake']['ACCOUNT']\n",
    "SF_AUTHENTICATOR = config['snowflake']['AUTHENTICATOR']"
   ]
  },
  {
   "cell_type": "markdown",
   "id": "8d6f1c6c-cb1d-46ee-bb89-5e81d2597d63",
   "metadata": {},
   "source": [
    "#### Connect to Snowflake, execute a query, and save results into a pandas dataframe.  You must install `sqlalchemy` to be able to save results into a pandas dataframe."
   ]
  },
  {
   "cell_type": "markdown",
   "id": "233098c3-433d-46c0-afbd-a5a50e48094f",
   "metadata": {},
   "source": [
    "To connect to a specific warehouse, database, and schema, you can supply those parameters as well per their [documentation](https://docs.snowflake.com/en/user-guide/python-connector-api.html)."
   ]
  },
  {
   "cell_type": "code",
   "execution_count": 3,
   "id": "90e18920-bfd5-4729-a6fe-86459206bc33",
   "metadata": {},
   "outputs": [
    {
     "name": "stdout",
     "output_type": "stream",
     "text": [
      "Initiating login request with your identity provider. A browser window should have opened for you to complete the login. If you can't see it, check existing browser windows, or your OS settings. Press CTRL+C to abort and try again...\n"
     ]
    }
   ],
   "source": [
    "with sfc.connect(\n",
    "    user=SF_USERNAME,\n",
    "    password=SF_PASSWORD,\n",
    "    account=SF_ACCOUNT,\n",
    "    authenticator=SF_AUTHENTICATOR,\n",
    "    database = 'your_db',\n",
    "    schema = 'your_schema',\n",
    "    warehouse = 'your_warehouse',\n",
    "    role='your_role',\n",
    ") as con:\n",
    "    sql = \"SELECT current_version()\"\n",
    "    df = pd.read_sql(sql, con)"
   ]
  },
  {
   "cell_type": "markdown",
   "id": "b9174039-928f-4042-942e-972e1ff3ef3c",
   "metadata": {},
   "source": [
    "#### View results saved in a pandas dataframe"
   ]
  },
  {
   "cell_type": "code",
   "execution_count": 4,
   "id": "da1f01ca-9048-4e98-a7e2-e084c66f39b1",
   "metadata": {},
   "outputs": [
    {
     "data": {
      "text/html": [
       "<div>\n",
       "<style scoped>\n",
       "    .dataframe tbody tr th:only-of-type {\n",
       "        vertical-align: middle;\n",
       "    }\n",
       "\n",
       "    .dataframe tbody tr th {\n",
       "        vertical-align: top;\n",
       "    }\n",
       "\n",
       "    .dataframe thead th {\n",
       "        text-align: right;\n",
       "    }\n",
       "</style>\n",
       "<table border=\"1\" class=\"dataframe\">\n",
       "  <thead>\n",
       "    <tr style=\"text-align: right;\">\n",
       "      <th></th>\n",
       "      <th>CURRENT_VERSION()</th>\n",
       "    </tr>\n",
       "  </thead>\n",
       "  <tbody>\n",
       "    <tr>\n",
       "      <th>0</th>\n",
       "      <td>5.41.1</td>\n",
       "    </tr>\n",
       "  </tbody>\n",
       "</table>\n",
       "</div>"
      ],
      "text/plain": [
       "  CURRENT_VERSION()\n",
       "0            5.41.1"
      ]
     },
     "execution_count": 4,
     "metadata": {},
     "output_type": "execute_result"
    }
   ],
   "source": [
    "df"
   ]
  }
 ],
 "metadata": {
  "kernelspec": {
   "display_name": "Py3.9 (pyspark_dev)",
   "language": "python",
   "name": "pyspark_dev"
  },
  "language_info": {
   "codemirror_mode": {
    "name": "ipython",
    "version": 3
   },
   "file_extension": ".py",
   "mimetype": "text/x-python",
   "name": "python",
   "nbconvert_exporter": "python",
   "pygments_lexer": "ipython3",
   "version": "3.9.13"
  }
 },
 "nbformat": 4,
 "nbformat_minor": 5
}
