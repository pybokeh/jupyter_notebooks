{
 "cells": [
  {
   "cell_type": "markdown",
   "id": "e68035fc-b099-4cf0-a297-dd480b3164c6",
   "metadata": {},
   "source": [
    "# PURPOSE"
   ]
  },
  {
   "cell_type": "markdown",
   "id": "6e0737fc-2202-467a-9783-298c111c27c4",
   "metadata": {},
   "source": [
    "#### Extract data from mainframe DB2 and then upload to sqlite"
   ]
  },
  {
   "cell_type": "code",
   "execution_count": null,
   "id": "205c75bf-8d5d-409b-8973-9be9ddccdedf",
   "metadata": {},
   "outputs": [],
   "source": [
    "from sqlalchemy import create_engine\n",
    "import os\n",
    "import pandas as pd\n",
    "import pyodbc"
   ]
  },
  {
   "cell_type": "code",
   "execution_count": null,
   "id": "339a5fe1-7e69-4c23-99a2-67481ebf46d7",
   "metadata": {},
   "outputs": [],
   "source": [
    "dsn = 'your_dsn'\n",
    "user = os.getenv('windowsuser')\n",
    "pwd = os.getenv('mainframepwd')"
   ]
  },
  {
   "cell_type": "code",
   "execution_count": null,
   "id": "f8951dd6-7e1d-46ec-8868-d040f7d7cc53",
   "metadata": {},
   "outputs": [],
   "source": [
    "with pyodbc.connect(f'DSN={dsn};UID={user};PWD={pwd}') as conn:\n",
    "    sql = \"\"\"\n",
    "    SELECT\n",
    "        some_columns\n",
    "    FROM\n",
    "        some_table\n",
    "    WHERE\n",
    "        some_criteria\n",
    "    FOR READ ONLY WITH UR\n",
    "    \"\"\"\n",
    "    df = pd.read_sql(sql, conn)"
   ]
  },
  {
   "cell_type": "code",
   "execution_count": null,
   "id": "645ff628-3897-4661-80cb-080a44056ffd",
   "metadata": {},
   "outputs": [],
   "source": [
    "df = pd.read_clipboard()"
   ]
  },
  {
   "cell_type": "code",
   "execution_count": null,
   "id": "c848ee48-3011-4b4d-884d-9945bd5bc699",
   "metadata": {},
   "outputs": [],
   "source": [
    "df.head()"
   ]
  },
  {
   "cell_type": "code",
   "execution_count": null,
   "id": "93335e2e-57c8-4dbd-9c7a-108e59b61147",
   "metadata": {},
   "outputs": [],
   "source": [
    "df.dtypes"
   ]
  },
  {
   "cell_type": "code",
   "execution_count": null,
   "id": "7e5d379f-bcf2-4cd4-b4a0-d735149c799d",
   "metadata": {},
   "outputs": [],
   "source": [
    "with create_engine('sqlite:///C:/Users/some_user/<path_to_your>/sc_roster.db', echo=False).connect() as conn:\n",
    "    df.to_sql('sc_associates', conn, if_exists='replace')"
   ]
  }
 ],
 "metadata": {
  "kernelspec": {
   "display_name": "Python 3 (ipykernel)",
   "language": "python",
   "name": "python3"
  },
  "language_info": {
   "codemirror_mode": {
    "name": "ipython",
    "version": 3
   },
   "file_extension": ".py",
   "mimetype": "text/x-python",
   "name": "python",
   "nbconvert_exporter": "python",
   "pygments_lexer": "ipython3",
   "version": "3.8.10"
  }
 },
 "nbformat": 4,
 "nbformat_minor": 5
}
