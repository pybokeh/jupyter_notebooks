{
 "cells": [
  {
   "cell_type": "markdown",
   "id": "db87c60c-979a-4a21-9487-504c78594827",
   "metadata": {},
   "source": [
    "<a id=\"back_to_top\">"
   ]
  },
  {
   "cell_type": "markdown",
   "id": "e5281fba-7134-4721-a038-fd1927c5976f",
   "metadata": {},
   "source": [
    "# Ibis Cheat Sheet"
   ]
  },
  {
   "cell_type": "markdown",
   "id": "835b0c10-de4d-4197-bfed-d545949ef39a",
   "metadata": {},
   "source": [
    "#### Table of Contents"
   ]
  },
  {
   "cell_type": "markdown",
   "id": "e14a3d25-560b-4251-a3b1-89899435035e",
   "metadata": {},
   "source": [
    "- [Obtaining built-in sample data sets](#sample_data_sets)\n",
    "- [Reading a local csv file](#csv)\n",
    "- [Viewing schema](#schema)\n",
    "- [Number of rows and columns](#rows_columns)\n",
    "- [Selecting certain columns](#selecting_columns)\n",
    "- [Creating new column based on value from another column using mutate and split() combination](#split)\n",
    "- [Creating new column using CASE statements](#case)\n",
    "- [Aggregations / Summarizations](#aggregations)\n",
    "- [Running Total / Cumulative Sum](#running_total)\n",
    "- [Renaming a column](#renaming)\n",
    "- [Forward fill / backward fill](https://ibis-project.org/posts/ffill-and-bfill-using-ibis/index.html)\n",
    "- [Finding maximum value across all groups](#argmax)\n",
    "- [Filtering](#filtering)\n",
    "- [Convert Pandas dataframe to Ibis table expression](#pandas_to_ibis)\n",
    "- [Convert Ibis table expression to Pandas DataFrame](#ibis_to_pandas)\n",
    "- [Obtain distinct values in column(s)](#distinct)\n",
    "- [Find Duplicate Values](#duplicates)\n",
    "- [Percent of Rows](#perc_of_rows)\n",
    "- [Percent of Columns](#perc_of_columns)\n",
    "- [Adding Leading Zeros](#zfill)\n",
    "- [Creating column values from column names](https://www.youtube.com/watch?v=-0pjPE6VgDs#t=17m)\n",
    "- [Unnest an array](https://www.youtube.com/watch?v=J7sEn9VklKY#t=7m)\n",
    "- [Custom Array Functions](https://www.youtube.com/watch?v=6TgpRMmvNQs)\n",
    "- Additional resources:\n",
    "    - Youtube Videos: [Phillip in the Cloud](https://www.youtube.com/@cpcloud)"
   ]
  },
  {
   "cell_type": "code",
   "execution_count": 1,
   "id": "23b80c64-fa30-42ad-9137-7954dde91ffa",
   "metadata": {
    "tags": []
   },
   "outputs": [],
   "source": [
    "import ibis\n",
    "import ibis.selectors as s\n",
    "import pandas as pd\n",
    "from ibis import _\n",
    "ibis.options.interactive = True\n",
    "\n",
    "# create a DuckDB client\n",
    "client = ibis.duckdb.connect()"
   ]
  },
  {
   "cell_type": "markdown",
   "id": "8d1ab7e9-837c-481a-8c9b-6a26d9db0bf2",
   "metadata": {},
   "source": [
    "<a id=\"sample_data_sets\">"
   ]
  },
  {
   "cell_type": "markdown",
   "id": "4da1e40d-7940-4e30-af57-97bc41e46e4f",
   "metadata": {},
   "source": [
    "## Obtaining built-in sample data sets"
   ]
  },
  {
   "cell_type": "markdown",
   "id": "4b29349b-b6a9-4d78-90cc-1d726c22f035",
   "metadata": {},
   "source": [
    "[[back to top]](#back_to_top)"
   ]
  },
  {
   "cell_type": "code",
   "execution_count": 2,
   "id": "194cfa4b-8683-460e-be13-d2c24865807c",
   "metadata": {
    "tags": []
   },
   "outputs": [],
   "source": [
    "from ibis.interactive import ex"
   ]
  },
  {
   "cell_type": "markdown",
   "id": "b1d98e8a-834b-4dda-b6b5-2bc23a9cc55a",
   "metadata": {},
   "source": [
    "#### To get a list of available data sets"
   ]
  },
  {
   "cell_type": "code",
   "execution_count": 3,
   "id": "8bbe6459-4dba-459f-a646-0348f63aa18e",
   "metadata": {
    "tags": []
   },
   "outputs": [
    {
     "data": {
      "text/plain": [
       "['Aids2',\n",
       " 'Aids2_raw',\n",
       " 'Alfalfa',\n",
       " 'Alfalfa_raw',\n",
       " 'AllstarFull',\n",
       " 'AllstarFull_raw',\n",
       " 'Appearances',\n",
       " 'Appearances_raw',\n",
       " 'Assay',\n",
       " 'Assay_raw',\n",
       " 'AwardsManagers',\n",
       " 'AwardsManagers_raw',\n",
       " 'AwardsPlayers',\n",
       " 'AwardsPlayers_raw',\n",
       " 'AwardsShareManagers',\n",
       " 'AwardsShareManagers_raw',\n",
       " 'AwardsSharePlayers',\n",
       " 'AwardsSharePlayers_raw',\n",
       " 'BOD',\n",
       " 'BOD_raw']"
      ]
     },
     "execution_count": 3,
     "metadata": {},
     "output_type": "execute_result"
    }
   ],
   "source": [
    "dir(ex)[:20]   # The list is quite long, so limited to just 20"
   ]
  },
  {
   "cell_type": "code",
   "execution_count": 4,
   "id": "72873c14-a672-4fc5-8d6a-410c7c9ee033",
   "metadata": {
    "tags": []
   },
   "outputs": [
    {
     "data": {
      "text/plain": [
       "relig_income_raw(name='relig_income_raw', help='Pew religion and income survey')"
      ]
     },
     "execution_count": 4,
     "metadata": {},
     "output_type": "execute_result"
    }
   ],
   "source": [
    "ex.relig_income_raw"
   ]
  },
  {
   "cell_type": "code",
   "execution_count": 5,
   "id": "94e8a1d6-f0f2-42b7-871c-dfe58950282e",
   "metadata": {
    "tags": []
   },
   "outputs": [],
   "source": [
    "relig_income = ex.relig_income_raw.fetch()"
   ]
  },
  {
   "cell_type": "code",
   "execution_count": 6,
   "id": "56207ffb-ea8f-4f83-ae81-5ff4ec34b940",
   "metadata": {
    "tags": []
   },
   "outputs": [
    {
     "data": {
      "text/html": [
       "<pre style=\"white-space:pre;overflow-x:auto;line-height:normal;font-family:Menlo,'DejaVu Sans Mono',consolas,'Courier New',monospace\">┏━━━━━━━━━━━━━━━━━━━━━━━━━┳━━━━━━━┳━━━━━━━━━┳━━━━━━━━━┳━━━━━━━━━┳━━━━━━━━━┳━━━━━━━━━┳━━━━━━━━━━┳━━━━━━━━━━━┳━━━━━━━┳━━━━━━━━━━━━━━━━━━━━┓\n",
       "┃<span style=\"font-weight: bold\"> religion                </span>┃<span style=\"font-weight: bold\"> &lt;$10k </span>┃<span style=\"font-weight: bold\"> $10-20k </span>┃<span style=\"font-weight: bold\"> $20-30k </span>┃<span style=\"font-weight: bold\"> $30-40k </span>┃<span style=\"font-weight: bold\"> $40-50k </span>┃<span style=\"font-weight: bold\"> $50-75k </span>┃<span style=\"font-weight: bold\"> $75-100k </span>┃<span style=\"font-weight: bold\"> $100-150k </span>┃<span style=\"font-weight: bold\"> &gt;150k </span>┃<span style=\"font-weight: bold\"> Don't know/refused </span>┃\n",
       "┡━━━━━━━━━━━━━━━━━━━━━━━━━╇━━━━━━━╇━━━━━━━━━╇━━━━━━━━━╇━━━━━━━━━╇━━━━━━━━━╇━━━━━━━━━╇━━━━━━━━━━╇━━━━━━━━━━━╇━━━━━━━╇━━━━━━━━━━━━━━━━━━━━┩\n",
       "│ <span style=\"color: #7f7f7f; text-decoration-color: #7f7f7f\">string</span>                  │ <span style=\"color: #7f7f7f; text-decoration-color: #7f7f7f\">int64</span> │ <span style=\"color: #7f7f7f; text-decoration-color: #7f7f7f\">int64</span>   │ <span style=\"color: #7f7f7f; text-decoration-color: #7f7f7f\">int64</span>   │ <span style=\"color: #7f7f7f; text-decoration-color: #7f7f7f\">int64</span>   │ <span style=\"color: #7f7f7f; text-decoration-color: #7f7f7f\">int64</span>   │ <span style=\"color: #7f7f7f; text-decoration-color: #7f7f7f\">int64</span>   │ <span style=\"color: #7f7f7f; text-decoration-color: #7f7f7f\">int64</span>    │ <span style=\"color: #7f7f7f; text-decoration-color: #7f7f7f\">int64</span>     │ <span style=\"color: #7f7f7f; text-decoration-color: #7f7f7f\">int64</span> │ <span style=\"color: #7f7f7f; text-decoration-color: #7f7f7f\">int64</span>              │\n",
       "├─────────────────────────┼───────┼─────────┼─────────┼─────────┼─────────┼─────────┼──────────┼───────────┼───────┼────────────────────┤\n",
       "│ <span style=\"color: #008000; text-decoration-color: #008000\">Agnostic               </span> │    <span style=\"color: #008080; text-decoration-color: #008080; font-weight: bold\">27</span> │      <span style=\"color: #008080; text-decoration-color: #008080; font-weight: bold\">34</span> │      <span style=\"color: #008080; text-decoration-color: #008080; font-weight: bold\">60</span> │      <span style=\"color: #008080; text-decoration-color: #008080; font-weight: bold\">81</span> │      <span style=\"color: #008080; text-decoration-color: #008080; font-weight: bold\">76</span> │     <span style=\"color: #008080; text-decoration-color: #008080; font-weight: bold\">137</span> │      <span style=\"color: #008080; text-decoration-color: #008080; font-weight: bold\">122</span> │       <span style=\"color: #008080; text-decoration-color: #008080; font-weight: bold\">109</span> │    <span style=\"color: #008080; text-decoration-color: #008080; font-weight: bold\">84</span> │                 <span style=\"color: #008080; text-decoration-color: #008080; font-weight: bold\">96</span> │\n",
       "│ <span style=\"color: #008000; text-decoration-color: #008000\">Atheist                </span> │    <span style=\"color: #008080; text-decoration-color: #008080; font-weight: bold\">12</span> │      <span style=\"color: #008080; text-decoration-color: #008080; font-weight: bold\">27</span> │      <span style=\"color: #008080; text-decoration-color: #008080; font-weight: bold\">37</span> │      <span style=\"color: #008080; text-decoration-color: #008080; font-weight: bold\">52</span> │      <span style=\"color: #008080; text-decoration-color: #008080; font-weight: bold\">35</span> │      <span style=\"color: #008080; text-decoration-color: #008080; font-weight: bold\">70</span> │       <span style=\"color: #008080; text-decoration-color: #008080; font-weight: bold\">73</span> │        <span style=\"color: #008080; text-decoration-color: #008080; font-weight: bold\">59</span> │    <span style=\"color: #008080; text-decoration-color: #008080; font-weight: bold\">74</span> │                 <span style=\"color: #008080; text-decoration-color: #008080; font-weight: bold\">76</span> │\n",
       "│ <span style=\"color: #008000; text-decoration-color: #008000\">Buddhist               </span> │    <span style=\"color: #008080; text-decoration-color: #008080; font-weight: bold\">27</span> │      <span style=\"color: #008080; text-decoration-color: #008080; font-weight: bold\">21</span> │      <span style=\"color: #008080; text-decoration-color: #008080; font-weight: bold\">30</span> │      <span style=\"color: #008080; text-decoration-color: #008080; font-weight: bold\">34</span> │      <span style=\"color: #008080; text-decoration-color: #008080; font-weight: bold\">33</span> │      <span style=\"color: #008080; text-decoration-color: #008080; font-weight: bold\">58</span> │       <span style=\"color: #008080; text-decoration-color: #008080; font-weight: bold\">62</span> │        <span style=\"color: #008080; text-decoration-color: #008080; font-weight: bold\">39</span> │    <span style=\"color: #008080; text-decoration-color: #008080; font-weight: bold\">53</span> │                 <span style=\"color: #008080; text-decoration-color: #008080; font-weight: bold\">54</span> │\n",
       "│ <span style=\"color: #008000; text-decoration-color: #008000\">Catholic               </span> │   <span style=\"color: #008080; text-decoration-color: #008080; font-weight: bold\">418</span> │     <span style=\"color: #008080; text-decoration-color: #008080; font-weight: bold\">617</span> │     <span style=\"color: #008080; text-decoration-color: #008080; font-weight: bold\">732</span> │     <span style=\"color: #008080; text-decoration-color: #008080; font-weight: bold\">670</span> │     <span style=\"color: #008080; text-decoration-color: #008080; font-weight: bold\">638</span> │    <span style=\"color: #008080; text-decoration-color: #008080; font-weight: bold\">1116</span> │      <span style=\"color: #008080; text-decoration-color: #008080; font-weight: bold\">949</span> │       <span style=\"color: #008080; text-decoration-color: #008080; font-weight: bold\">792</span> │   <span style=\"color: #008080; text-decoration-color: #008080; font-weight: bold\">633</span> │               <span style=\"color: #008080; text-decoration-color: #008080; font-weight: bold\">1489</span> │\n",
       "│ <span style=\"color: #008000; text-decoration-color: #008000\">Don’t know/refused     </span> │    <span style=\"color: #008080; text-decoration-color: #008080; font-weight: bold\">15</span> │      <span style=\"color: #008080; text-decoration-color: #008080; font-weight: bold\">14</span> │      <span style=\"color: #008080; text-decoration-color: #008080; font-weight: bold\">15</span> │      <span style=\"color: #008080; text-decoration-color: #008080; font-weight: bold\">11</span> │      <span style=\"color: #008080; text-decoration-color: #008080; font-weight: bold\">10</span> │      <span style=\"color: #008080; text-decoration-color: #008080; font-weight: bold\">35</span> │       <span style=\"color: #008080; text-decoration-color: #008080; font-weight: bold\">21</span> │        <span style=\"color: #008080; text-decoration-color: #008080; font-weight: bold\">17</span> │    <span style=\"color: #008080; text-decoration-color: #008080; font-weight: bold\">18</span> │                <span style=\"color: #008080; text-decoration-color: #008080; font-weight: bold\">116</span> │\n",
       "│ <span style=\"color: #008000; text-decoration-color: #008000\">Evangelical Prot       </span> │   <span style=\"color: #008080; text-decoration-color: #008080; font-weight: bold\">575</span> │     <span style=\"color: #008080; text-decoration-color: #008080; font-weight: bold\">869</span> │    <span style=\"color: #008080; text-decoration-color: #008080; font-weight: bold\">1064</span> │     <span style=\"color: #008080; text-decoration-color: #008080; font-weight: bold\">982</span> │     <span style=\"color: #008080; text-decoration-color: #008080; font-weight: bold\">881</span> │    <span style=\"color: #008080; text-decoration-color: #008080; font-weight: bold\">1486</span> │      <span style=\"color: #008080; text-decoration-color: #008080; font-weight: bold\">949</span> │       <span style=\"color: #008080; text-decoration-color: #008080; font-weight: bold\">723</span> │   <span style=\"color: #008080; text-decoration-color: #008080; font-weight: bold\">414</span> │               <span style=\"color: #008080; text-decoration-color: #008080; font-weight: bold\">1529</span> │\n",
       "│ <span style=\"color: #008000; text-decoration-color: #008000\">Hindu                  </span> │     <span style=\"color: #008080; text-decoration-color: #008080; font-weight: bold\">1</span> │       <span style=\"color: #008080; text-decoration-color: #008080; font-weight: bold\">9</span> │       <span style=\"color: #008080; text-decoration-color: #008080; font-weight: bold\">7</span> │       <span style=\"color: #008080; text-decoration-color: #008080; font-weight: bold\">9</span> │      <span style=\"color: #008080; text-decoration-color: #008080; font-weight: bold\">11</span> │      <span style=\"color: #008080; text-decoration-color: #008080; font-weight: bold\">34</span> │       <span style=\"color: #008080; text-decoration-color: #008080; font-weight: bold\">47</span> │        <span style=\"color: #008080; text-decoration-color: #008080; font-weight: bold\">48</span> │    <span style=\"color: #008080; text-decoration-color: #008080; font-weight: bold\">54</span> │                 <span style=\"color: #008080; text-decoration-color: #008080; font-weight: bold\">37</span> │\n",
       "│ <span style=\"color: #008000; text-decoration-color: #008000\">Historically Black Prot</span> │   <span style=\"color: #008080; text-decoration-color: #008080; font-weight: bold\">228</span> │     <span style=\"color: #008080; text-decoration-color: #008080; font-weight: bold\">244</span> │     <span style=\"color: #008080; text-decoration-color: #008080; font-weight: bold\">236</span> │     <span style=\"color: #008080; text-decoration-color: #008080; font-weight: bold\">238</span> │     <span style=\"color: #008080; text-decoration-color: #008080; font-weight: bold\">197</span> │     <span style=\"color: #008080; text-decoration-color: #008080; font-weight: bold\">223</span> │      <span style=\"color: #008080; text-decoration-color: #008080; font-weight: bold\">131</span> │        <span style=\"color: #008080; text-decoration-color: #008080; font-weight: bold\">81</span> │    <span style=\"color: #008080; text-decoration-color: #008080; font-weight: bold\">78</span> │                <span style=\"color: #008080; text-decoration-color: #008080; font-weight: bold\">339</span> │\n",
       "│ <span style=\"color: #008000; text-decoration-color: #008000\">Jehovah's Witness      </span> │    <span style=\"color: #008080; text-decoration-color: #008080; font-weight: bold\">20</span> │      <span style=\"color: #008080; text-decoration-color: #008080; font-weight: bold\">27</span> │      <span style=\"color: #008080; text-decoration-color: #008080; font-weight: bold\">24</span> │      <span style=\"color: #008080; text-decoration-color: #008080; font-weight: bold\">24</span> │      <span style=\"color: #008080; text-decoration-color: #008080; font-weight: bold\">21</span> │      <span style=\"color: #008080; text-decoration-color: #008080; font-weight: bold\">30</span> │       <span style=\"color: #008080; text-decoration-color: #008080; font-weight: bold\">15</span> │        <span style=\"color: #008080; text-decoration-color: #008080; font-weight: bold\">11</span> │     <span style=\"color: #008080; text-decoration-color: #008080; font-weight: bold\">6</span> │                 <span style=\"color: #008080; text-decoration-color: #008080; font-weight: bold\">37</span> │\n",
       "│ <span style=\"color: #008000; text-decoration-color: #008000\">Jewish                 </span> │    <span style=\"color: #008080; text-decoration-color: #008080; font-weight: bold\">19</span> │      <span style=\"color: #008080; text-decoration-color: #008080; font-weight: bold\">19</span> │      <span style=\"color: #008080; text-decoration-color: #008080; font-weight: bold\">25</span> │      <span style=\"color: #008080; text-decoration-color: #008080; font-weight: bold\">25</span> │      <span style=\"color: #008080; text-decoration-color: #008080; font-weight: bold\">30</span> │      <span style=\"color: #008080; text-decoration-color: #008080; font-weight: bold\">95</span> │       <span style=\"color: #008080; text-decoration-color: #008080; font-weight: bold\">69</span> │        <span style=\"color: #008080; text-decoration-color: #008080; font-weight: bold\">87</span> │   <span style=\"color: #008080; text-decoration-color: #008080; font-weight: bold\">151</span> │                <span style=\"color: #008080; text-decoration-color: #008080; font-weight: bold\">162</span> │\n",
       "│ <span style=\"color: #7f7f7f; text-decoration-color: #7f7f7f\">…</span>                       │     <span style=\"color: #7f7f7f; text-decoration-color: #7f7f7f\">…</span> │       <span style=\"color: #7f7f7f; text-decoration-color: #7f7f7f\">…</span> │       <span style=\"color: #7f7f7f; text-decoration-color: #7f7f7f\">…</span> │       <span style=\"color: #7f7f7f; text-decoration-color: #7f7f7f\">…</span> │       <span style=\"color: #7f7f7f; text-decoration-color: #7f7f7f\">…</span> │       <span style=\"color: #7f7f7f; text-decoration-color: #7f7f7f\">…</span> │        <span style=\"color: #7f7f7f; text-decoration-color: #7f7f7f\">…</span> │         <span style=\"color: #7f7f7f; text-decoration-color: #7f7f7f\">…</span> │     <span style=\"color: #7f7f7f; text-decoration-color: #7f7f7f\">…</span> │                  <span style=\"color: #7f7f7f; text-decoration-color: #7f7f7f\">…</span> │\n",
       "└─────────────────────────┴───────┴─────────┴─────────┴─────────┴─────────┴─────────┴──────────┴───────────┴───────┴────────────────────┘\n",
       "</pre>\n"
      ],
      "text/plain": [
       "┏━━━━━━━━━━━━━━━━━━━━━━━━━┳━━━━━━━┳━━━━━━━━━┳━━━━━━━━━┳━━━━━━━━━┳━━━━━━━━━┳━━━━━━━━━┳━━━━━━━━━━┳━━━━━━━━━━━┳━━━━━━━┳━━━━━━━━━━━━━━━━━━━━┓\n",
       "┃\u001b[1m \u001b[0m\u001b[1mreligion\u001b[0m\u001b[1m               \u001b[0m\u001b[1m \u001b[0m┃\u001b[1m \u001b[0m\u001b[1m<$10k\u001b[0m\u001b[1m \u001b[0m┃\u001b[1m \u001b[0m\u001b[1m$10-20k\u001b[0m\u001b[1m \u001b[0m┃\u001b[1m \u001b[0m\u001b[1m$20-30k\u001b[0m\u001b[1m \u001b[0m┃\u001b[1m \u001b[0m\u001b[1m$30-40k\u001b[0m\u001b[1m \u001b[0m┃\u001b[1m \u001b[0m\u001b[1m$40-50k\u001b[0m\u001b[1m \u001b[0m┃\u001b[1m \u001b[0m\u001b[1m$50-75k\u001b[0m\u001b[1m \u001b[0m┃\u001b[1m \u001b[0m\u001b[1m$75-100k\u001b[0m\u001b[1m \u001b[0m┃\u001b[1m \u001b[0m\u001b[1m$100-150k\u001b[0m\u001b[1m \u001b[0m┃\u001b[1m \u001b[0m\u001b[1m>150k\u001b[0m\u001b[1m \u001b[0m┃\u001b[1m \u001b[0m\u001b[1mDon't know/refused\u001b[0m\u001b[1m \u001b[0m┃\n",
       "┡━━━━━━━━━━━━━━━━━━━━━━━━━╇━━━━━━━╇━━━━━━━━━╇━━━━━━━━━╇━━━━━━━━━╇━━━━━━━━━╇━━━━━━━━━╇━━━━━━━━━━╇━━━━━━━━━━━╇━━━━━━━╇━━━━━━━━━━━━━━━━━━━━┩\n",
       "│ \u001b[2mstring\u001b[0m                  │ \u001b[2mint64\u001b[0m │ \u001b[2mint64\u001b[0m   │ \u001b[2mint64\u001b[0m   │ \u001b[2mint64\u001b[0m   │ \u001b[2mint64\u001b[0m   │ \u001b[2mint64\u001b[0m   │ \u001b[2mint64\u001b[0m    │ \u001b[2mint64\u001b[0m     │ \u001b[2mint64\u001b[0m │ \u001b[2mint64\u001b[0m              │\n",
       "├─────────────────────────┼───────┼─────────┼─────────┼─────────┼─────────┼─────────┼──────────┼───────────┼───────┼────────────────────┤\n",
       "│ \u001b[32mAgnostic               \u001b[0m │    \u001b[1;36m27\u001b[0m │      \u001b[1;36m34\u001b[0m │      \u001b[1;36m60\u001b[0m │      \u001b[1;36m81\u001b[0m │      \u001b[1;36m76\u001b[0m │     \u001b[1;36m137\u001b[0m │      \u001b[1;36m122\u001b[0m │       \u001b[1;36m109\u001b[0m │    \u001b[1;36m84\u001b[0m │                 \u001b[1;36m96\u001b[0m │\n",
       "│ \u001b[32mAtheist                \u001b[0m │    \u001b[1;36m12\u001b[0m │      \u001b[1;36m27\u001b[0m │      \u001b[1;36m37\u001b[0m │      \u001b[1;36m52\u001b[0m │      \u001b[1;36m35\u001b[0m │      \u001b[1;36m70\u001b[0m │       \u001b[1;36m73\u001b[0m │        \u001b[1;36m59\u001b[0m │    \u001b[1;36m74\u001b[0m │                 \u001b[1;36m76\u001b[0m │\n",
       "│ \u001b[32mBuddhist               \u001b[0m │    \u001b[1;36m27\u001b[0m │      \u001b[1;36m21\u001b[0m │      \u001b[1;36m30\u001b[0m │      \u001b[1;36m34\u001b[0m │      \u001b[1;36m33\u001b[0m │      \u001b[1;36m58\u001b[0m │       \u001b[1;36m62\u001b[0m │        \u001b[1;36m39\u001b[0m │    \u001b[1;36m53\u001b[0m │                 \u001b[1;36m54\u001b[0m │\n",
       "│ \u001b[32mCatholic               \u001b[0m │   \u001b[1;36m418\u001b[0m │     \u001b[1;36m617\u001b[0m │     \u001b[1;36m732\u001b[0m │     \u001b[1;36m670\u001b[0m │     \u001b[1;36m638\u001b[0m │    \u001b[1;36m1116\u001b[0m │      \u001b[1;36m949\u001b[0m │       \u001b[1;36m792\u001b[0m │   \u001b[1;36m633\u001b[0m │               \u001b[1;36m1489\u001b[0m │\n",
       "│ \u001b[32mDon’t know/refused     \u001b[0m │    \u001b[1;36m15\u001b[0m │      \u001b[1;36m14\u001b[0m │      \u001b[1;36m15\u001b[0m │      \u001b[1;36m11\u001b[0m │      \u001b[1;36m10\u001b[0m │      \u001b[1;36m35\u001b[0m │       \u001b[1;36m21\u001b[0m │        \u001b[1;36m17\u001b[0m │    \u001b[1;36m18\u001b[0m │                \u001b[1;36m116\u001b[0m │\n",
       "│ \u001b[32mEvangelical Prot       \u001b[0m │   \u001b[1;36m575\u001b[0m │     \u001b[1;36m869\u001b[0m │    \u001b[1;36m1064\u001b[0m │     \u001b[1;36m982\u001b[0m │     \u001b[1;36m881\u001b[0m │    \u001b[1;36m1486\u001b[0m │      \u001b[1;36m949\u001b[0m │       \u001b[1;36m723\u001b[0m │   \u001b[1;36m414\u001b[0m │               \u001b[1;36m1529\u001b[0m │\n",
       "│ \u001b[32mHindu                  \u001b[0m │     \u001b[1;36m1\u001b[0m │       \u001b[1;36m9\u001b[0m │       \u001b[1;36m7\u001b[0m │       \u001b[1;36m9\u001b[0m │      \u001b[1;36m11\u001b[0m │      \u001b[1;36m34\u001b[0m │       \u001b[1;36m47\u001b[0m │        \u001b[1;36m48\u001b[0m │    \u001b[1;36m54\u001b[0m │                 \u001b[1;36m37\u001b[0m │\n",
       "│ \u001b[32mHistorically Black Prot\u001b[0m │   \u001b[1;36m228\u001b[0m │     \u001b[1;36m244\u001b[0m │     \u001b[1;36m236\u001b[0m │     \u001b[1;36m238\u001b[0m │     \u001b[1;36m197\u001b[0m │     \u001b[1;36m223\u001b[0m │      \u001b[1;36m131\u001b[0m │        \u001b[1;36m81\u001b[0m │    \u001b[1;36m78\u001b[0m │                \u001b[1;36m339\u001b[0m │\n",
       "│ \u001b[32mJehovah's Witness      \u001b[0m │    \u001b[1;36m20\u001b[0m │      \u001b[1;36m27\u001b[0m │      \u001b[1;36m24\u001b[0m │      \u001b[1;36m24\u001b[0m │      \u001b[1;36m21\u001b[0m │      \u001b[1;36m30\u001b[0m │       \u001b[1;36m15\u001b[0m │        \u001b[1;36m11\u001b[0m │     \u001b[1;36m6\u001b[0m │                 \u001b[1;36m37\u001b[0m │\n",
       "│ \u001b[32mJewish                 \u001b[0m │    \u001b[1;36m19\u001b[0m │      \u001b[1;36m19\u001b[0m │      \u001b[1;36m25\u001b[0m │      \u001b[1;36m25\u001b[0m │      \u001b[1;36m30\u001b[0m │      \u001b[1;36m95\u001b[0m │       \u001b[1;36m69\u001b[0m │        \u001b[1;36m87\u001b[0m │   \u001b[1;36m151\u001b[0m │                \u001b[1;36m162\u001b[0m │\n",
       "│ \u001b[2m…\u001b[0m                       │     \u001b[2m…\u001b[0m │       \u001b[2m…\u001b[0m │       \u001b[2m…\u001b[0m │       \u001b[2m…\u001b[0m │       \u001b[2m…\u001b[0m │       \u001b[2m…\u001b[0m │        \u001b[2m…\u001b[0m │         \u001b[2m…\u001b[0m │     \u001b[2m…\u001b[0m │                  \u001b[2m…\u001b[0m │\n",
       "└─────────────────────────┴───────┴─────────┴─────────┴─────────┴─────────┴─────────┴──────────┴───────────┴───────┴────────────────────┘"
      ]
     },
     "execution_count": 6,
     "metadata": {},
     "output_type": "execute_result"
    }
   ],
   "source": [
    "relig_income"
   ]
  },
  {
   "cell_type": "markdown",
   "id": "dbb96765-f0b0-4d0d-ac02-bf8cd98c7e45",
   "metadata": {},
   "source": [
    "<a id=\"csv\">"
   ]
  },
  {
   "cell_type": "markdown",
   "id": "a45ca71b-4a69-491b-8957-cbb3c85da213",
   "metadata": {},
   "source": [
    "## Reading a CSV file"
   ]
  },
  {
   "cell_type": "markdown",
   "id": "53600349-0e20-47b8-943a-16d3d7c50a0c",
   "metadata": {},
   "source": [
    "[[back to top]](#back_to_top)"
   ]
  },
  {
   "cell_type": "code",
   "execution_count": 7,
   "id": "9d064956-c71b-44a2-97dd-ea0eabfc935f",
   "metadata": {
    "tags": []
   },
   "outputs": [],
   "source": [
    "# read in a local CSV file as an Ibis table\n",
    "cars = client.read_csv('./data/cars.csv')"
   ]
  },
  {
   "cell_type": "code",
   "execution_count": 8,
   "id": "00f6afc8-15d6-4fb8-b724-4ffecbd98013",
   "metadata": {
    "tags": []
   },
   "outputs": [
    {
     "data": {
      "text/html": [
       "<pre style=\"white-space:pre;overflow-x:auto;line-height:normal;font-family:Menlo,'DejaVu Sans Mono',consolas,'Courier New',monospace\">┏━━━━━━━━━━━━━━━━━━━━━━━━━━━┳━━━━━━━━━┳━━━━━━━━━━━┳━━━━━━━━━━━━━━┳━━━━━━━━━━━━┳━━━━━━━━━┳━━━━━━━━━━━━━━┳━━━━━━━┳━━━━━━━━┓\n",
       "┃<span style=\"font-weight: bold\"> Car                       </span>┃<span style=\"font-weight: bold\"> MPG     </span>┃<span style=\"font-weight: bold\"> Cylinders </span>┃<span style=\"font-weight: bold\"> Displacement </span>┃<span style=\"font-weight: bold\"> Horsepower </span>┃<span style=\"font-weight: bold\"> Weight  </span>┃<span style=\"font-weight: bold\"> Acceleration </span>┃<span style=\"font-weight: bold\"> Model </span>┃<span style=\"font-weight: bold\"> Origin </span>┃\n",
       "┡━━━━━━━━━━━━━━━━━━━━━━━━━━━╇━━━━━━━━━╇━━━━━━━━━━━╇━━━━━━━━━━━━━━╇━━━━━━━━━━━━╇━━━━━━━━━╇━━━━━━━━━━━━━━╇━━━━━━━╇━━━━━━━━┩\n",
       "│ <span style=\"color: #7f7f7f; text-decoration-color: #7f7f7f\">string</span>                    │ <span style=\"color: #7f7f7f; text-decoration-color: #7f7f7f\">float64</span> │ <span style=\"color: #7f7f7f; text-decoration-color: #7f7f7f\">int64</span>     │ <span style=\"color: #7f7f7f; text-decoration-color: #7f7f7f\">float64</span>      │ <span style=\"color: #7f7f7f; text-decoration-color: #7f7f7f\">float64</span>    │ <span style=\"color: #7f7f7f; text-decoration-color: #7f7f7f\">float64</span> │ <span style=\"color: #7f7f7f; text-decoration-color: #7f7f7f\">float64</span>      │ <span style=\"color: #7f7f7f; text-decoration-color: #7f7f7f\">int64</span> │ <span style=\"color: #7f7f7f; text-decoration-color: #7f7f7f\">string</span> │\n",
       "├───────────────────────────┼─────────┼───────────┼──────────────┼────────────┼─────────┼──────────────┼───────┼────────┤\n",
       "│ <span style=\"color: #008000; text-decoration-color: #008000\">Chevrolet Chevelle Malibu</span> │    <span style=\"color: #008080; text-decoration-color: #008080; font-weight: bold\">18.0</span> │         <span style=\"color: #008080; text-decoration-color: #008080; font-weight: bold\">8</span> │        <span style=\"color: #008080; text-decoration-color: #008080; font-weight: bold\">307.0</span> │      <span style=\"color: #008080; text-decoration-color: #008080; font-weight: bold\">130.0</span> │  <span style=\"color: #008080; text-decoration-color: #008080; font-weight: bold\">3504.0</span> │         <span style=\"color: #008080; text-decoration-color: #008080; font-weight: bold\">12.0</span> │    <span style=\"color: #008080; text-decoration-color: #008080; font-weight: bold\">70</span> │ <span style=\"color: #008000; text-decoration-color: #008000\">US    </span> │\n",
       "│ <span style=\"color: #008000; text-decoration-color: #008000\">Buick Skylark 320        </span> │    <span style=\"color: #008080; text-decoration-color: #008080; font-weight: bold\">15.0</span> │         <span style=\"color: #008080; text-decoration-color: #008080; font-weight: bold\">8</span> │        <span style=\"color: #008080; text-decoration-color: #008080; font-weight: bold\">350.0</span> │      <span style=\"color: #008080; text-decoration-color: #008080; font-weight: bold\">165.0</span> │  <span style=\"color: #008080; text-decoration-color: #008080; font-weight: bold\">3693.0</span> │         <span style=\"color: #008080; text-decoration-color: #008080; font-weight: bold\">11.5</span> │    <span style=\"color: #008080; text-decoration-color: #008080; font-weight: bold\">70</span> │ <span style=\"color: #008000; text-decoration-color: #008000\">US    </span> │\n",
       "│ <span style=\"color: #008000; text-decoration-color: #008000\">Plymouth Satellite       </span> │    <span style=\"color: #008080; text-decoration-color: #008080; font-weight: bold\">18.0</span> │         <span style=\"color: #008080; text-decoration-color: #008080; font-weight: bold\">8</span> │        <span style=\"color: #008080; text-decoration-color: #008080; font-weight: bold\">318.0</span> │      <span style=\"color: #008080; text-decoration-color: #008080; font-weight: bold\">150.0</span> │  <span style=\"color: #008080; text-decoration-color: #008080; font-weight: bold\">3436.0</span> │         <span style=\"color: #008080; text-decoration-color: #008080; font-weight: bold\">11.0</span> │    <span style=\"color: #008080; text-decoration-color: #008080; font-weight: bold\">70</span> │ <span style=\"color: #008000; text-decoration-color: #008000\">US    </span> │\n",
       "│ <span style=\"color: #008000; text-decoration-color: #008000\">AMC Rebel SST            </span> │    <span style=\"color: #008080; text-decoration-color: #008080; font-weight: bold\">16.0</span> │         <span style=\"color: #008080; text-decoration-color: #008080; font-weight: bold\">8</span> │        <span style=\"color: #008080; text-decoration-color: #008080; font-weight: bold\">304.0</span> │      <span style=\"color: #008080; text-decoration-color: #008080; font-weight: bold\">150.0</span> │  <span style=\"color: #008080; text-decoration-color: #008080; font-weight: bold\">3433.0</span> │         <span style=\"color: #008080; text-decoration-color: #008080; font-weight: bold\">12.0</span> │    <span style=\"color: #008080; text-decoration-color: #008080; font-weight: bold\">70</span> │ <span style=\"color: #008000; text-decoration-color: #008000\">US    </span> │\n",
       "│ <span style=\"color: #008000; text-decoration-color: #008000\">Ford Torino              </span> │    <span style=\"color: #008080; text-decoration-color: #008080; font-weight: bold\">17.0</span> │         <span style=\"color: #008080; text-decoration-color: #008080; font-weight: bold\">8</span> │        <span style=\"color: #008080; text-decoration-color: #008080; font-weight: bold\">302.0</span> │      <span style=\"color: #008080; text-decoration-color: #008080; font-weight: bold\">140.0</span> │  <span style=\"color: #008080; text-decoration-color: #008080; font-weight: bold\">3449.0</span> │         <span style=\"color: #008080; text-decoration-color: #008080; font-weight: bold\">10.5</span> │    <span style=\"color: #008080; text-decoration-color: #008080; font-weight: bold\">70</span> │ <span style=\"color: #008000; text-decoration-color: #008000\">US    </span> │\n",
       "└───────────────────────────┴─────────┴───────────┴──────────────┴────────────┴─────────┴──────────────┴───────┴────────┘\n",
       "</pre>\n"
      ],
      "text/plain": [
       "┏━━━━━━━━━━━━━━━━━━━━━━━━━━━┳━━━━━━━━━┳━━━━━━━━━━━┳━━━━━━━━━━━━━━┳━━━━━━━━━━━━┳━━━━━━━━━┳━━━━━━━━━━━━━━┳━━━━━━━┳━━━━━━━━┓\n",
       "┃\u001b[1m \u001b[0m\u001b[1mCar\u001b[0m\u001b[1m                      \u001b[0m\u001b[1m \u001b[0m┃\u001b[1m \u001b[0m\u001b[1mMPG\u001b[0m\u001b[1m    \u001b[0m\u001b[1m \u001b[0m┃\u001b[1m \u001b[0m\u001b[1mCylinders\u001b[0m\u001b[1m \u001b[0m┃\u001b[1m \u001b[0m\u001b[1mDisplacement\u001b[0m\u001b[1m \u001b[0m┃\u001b[1m \u001b[0m\u001b[1mHorsepower\u001b[0m\u001b[1m \u001b[0m┃\u001b[1m \u001b[0m\u001b[1mWeight\u001b[0m\u001b[1m \u001b[0m\u001b[1m \u001b[0m┃\u001b[1m \u001b[0m\u001b[1mAcceleration\u001b[0m\u001b[1m \u001b[0m┃\u001b[1m \u001b[0m\u001b[1mModel\u001b[0m\u001b[1m \u001b[0m┃\u001b[1m \u001b[0m\u001b[1mOrigin\u001b[0m\u001b[1m \u001b[0m┃\n",
       "┡━━━━━━━━━━━━━━━━━━━━━━━━━━━╇━━━━━━━━━╇━━━━━━━━━━━╇━━━━━━━━━━━━━━╇━━━━━━━━━━━━╇━━━━━━━━━╇━━━━━━━━━━━━━━╇━━━━━━━╇━━━━━━━━┩\n",
       "│ \u001b[2mstring\u001b[0m                    │ \u001b[2mfloat64\u001b[0m │ \u001b[2mint64\u001b[0m     │ \u001b[2mfloat64\u001b[0m      │ \u001b[2mfloat64\u001b[0m    │ \u001b[2mfloat64\u001b[0m │ \u001b[2mfloat64\u001b[0m      │ \u001b[2mint64\u001b[0m │ \u001b[2mstring\u001b[0m │\n",
       "├───────────────────────────┼─────────┼───────────┼──────────────┼────────────┼─────────┼──────────────┼───────┼────────┤\n",
       "│ \u001b[32mChevrolet Chevelle Malibu\u001b[0m │    \u001b[1;36m18.0\u001b[0m │         \u001b[1;36m8\u001b[0m │        \u001b[1;36m307.0\u001b[0m │      \u001b[1;36m130.0\u001b[0m │  \u001b[1;36m3504.0\u001b[0m │         \u001b[1;36m12.0\u001b[0m │    \u001b[1;36m70\u001b[0m │ \u001b[32mUS    \u001b[0m │\n",
       "│ \u001b[32mBuick Skylark 320        \u001b[0m │    \u001b[1;36m15.0\u001b[0m │         \u001b[1;36m8\u001b[0m │        \u001b[1;36m350.0\u001b[0m │      \u001b[1;36m165.0\u001b[0m │  \u001b[1;36m3693.0\u001b[0m │         \u001b[1;36m11.5\u001b[0m │    \u001b[1;36m70\u001b[0m │ \u001b[32mUS    \u001b[0m │\n",
       "│ \u001b[32mPlymouth Satellite       \u001b[0m │    \u001b[1;36m18.0\u001b[0m │         \u001b[1;36m8\u001b[0m │        \u001b[1;36m318.0\u001b[0m │      \u001b[1;36m150.0\u001b[0m │  \u001b[1;36m3436.0\u001b[0m │         \u001b[1;36m11.0\u001b[0m │    \u001b[1;36m70\u001b[0m │ \u001b[32mUS    \u001b[0m │\n",
       "│ \u001b[32mAMC Rebel SST            \u001b[0m │    \u001b[1;36m16.0\u001b[0m │         \u001b[1;36m8\u001b[0m │        \u001b[1;36m304.0\u001b[0m │      \u001b[1;36m150.0\u001b[0m │  \u001b[1;36m3433.0\u001b[0m │         \u001b[1;36m12.0\u001b[0m │    \u001b[1;36m70\u001b[0m │ \u001b[32mUS    \u001b[0m │\n",
       "│ \u001b[32mFord Torino              \u001b[0m │    \u001b[1;36m17.0\u001b[0m │         \u001b[1;36m8\u001b[0m │        \u001b[1;36m302.0\u001b[0m │      \u001b[1;36m140.0\u001b[0m │  \u001b[1;36m3449.0\u001b[0m │         \u001b[1;36m10.5\u001b[0m │    \u001b[1;36m70\u001b[0m │ \u001b[32mUS    \u001b[0m │\n",
       "└───────────────────────────┴─────────┴───────────┴──────────────┴────────────┴─────────┴──────────────┴───────┴────────┘"
      ]
     },
     "execution_count": 8,
     "metadata": {},
     "output_type": "execute_result"
    }
   ],
   "source": [
    "cars.head()"
   ]
  },
  {
   "cell_type": "markdown",
   "id": "02a829b1-12ce-4d1c-b0dc-1c1b0bf48cbc",
   "metadata": {},
   "source": [
    "<a id=\"schema\">"
   ]
  },
  {
   "cell_type": "markdown",
   "id": "5b3300fe-3c24-4f4d-83d4-4c9509230f65",
   "metadata": {},
   "source": [
    "## Viewing Schema"
   ]
  },
  {
   "cell_type": "markdown",
   "id": "be93f3c1-d6dc-4fdb-9dbc-3557f252576c",
   "metadata": {},
   "source": [
    "[[back to top]](#back_to_top)"
   ]
  },
  {
   "cell_type": "code",
   "execution_count": 9,
   "id": "f8123534-77e8-47f3-8393-43053ca1c977",
   "metadata": {
    "tags": []
   },
   "outputs": [
    {
     "data": {
      "text/plain": [
       "ibis.Schema {\n",
       "  Car           string\n",
       "  MPG           float64\n",
       "  Cylinders     int64\n",
       "  Displacement  float64\n",
       "  Horsepower    float64\n",
       "  Weight        float64\n",
       "  Acceleration  float64\n",
       "  Model         int64\n",
       "  Origin        string\n",
       "}"
      ]
     },
     "execution_count": 9,
     "metadata": {},
     "output_type": "execute_result"
    }
   ],
   "source": [
    "cars.schema()"
   ]
  },
  {
   "cell_type": "markdown",
   "id": "4ed637d4-1867-4bcc-b67b-1c758f9aa5e5",
   "metadata": {},
   "source": [
    "<a id=\"rows_columns\">"
   ]
  },
  {
   "cell_type": "markdown",
   "id": "b1bcf1bd-c791-4563-a3ca-7d67795a2e4b",
   "metadata": {},
   "source": [
    "## Number of Rows and Columns"
   ]
  },
  {
   "cell_type": "markdown",
   "id": "2d7b0c29-1e9e-487d-a27c-3ab0d6608549",
   "metadata": {},
   "source": [
    "[[back to top]](#back_to_top)"
   ]
  },
  {
   "cell_type": "markdown",
   "id": "80502993-5140-4319-ad68-18c84035deb0",
   "metadata": {},
   "source": [
    "Number of rows:"
   ]
  },
  {
   "cell_type": "code",
   "execution_count": 10,
   "id": "93cd9ac2-dc59-4d4d-9bd2-bb386c6f46a2",
   "metadata": {
    "tags": []
   },
   "outputs": [
    {
     "data": {
      "text/html": [
       "<pre style=\"white-space:pre;overflow-x:auto;line-height:normal;font-family:Menlo,'DejaVu Sans Mono',consolas,'Courier New',monospace\"></pre>\n"
      ],
      "text/plain": []
     },
     "metadata": {},
     "output_type": "display_data"
    },
    {
     "data": {
      "text/plain": [
       "\u001b[1;36m406\u001b[0m"
      ]
     },
     "execution_count": 10,
     "metadata": {},
     "output_type": "execute_result"
    }
   ],
   "source": [
    "cars.count()"
   ]
  },
  {
   "cell_type": "markdown",
   "id": "b141f1ec-ceb9-4ffd-9902-4d674d5aef96",
   "metadata": {},
   "source": [
    "Number of Columns:"
   ]
  },
  {
   "cell_type": "code",
   "execution_count": 11,
   "id": "98bef9cc-9b6f-42f8-89fc-1a04de413fca",
   "metadata": {
    "tags": []
   },
   "outputs": [
    {
     "data": {
      "text/plain": [
       "9"
      ]
     },
     "execution_count": 11,
     "metadata": {},
     "output_type": "execute_result"
    }
   ],
   "source": [
    "len(cars.schema())"
   ]
  },
  {
   "cell_type": "markdown",
   "id": "1f73233a-abbf-426d-8272-23613f68c8f2",
   "metadata": {},
   "source": [
    "<a id=\"selecting_columns\">"
   ]
  },
  {
   "cell_type": "markdown",
   "id": "f8b39e1e-fbfa-446e-9d2e-3c8a69eb33d4",
   "metadata": {},
   "source": [
    "## Selecting Certain Columns"
   ]
  },
  {
   "cell_type": "markdown",
   "id": "84b91b9b-defa-4aed-aac7-e14801a281b0",
   "metadata": {},
   "source": [
    "[[back to top]](#back_to_top)"
   ]
  },
  {
   "cell_type": "markdown",
   "id": "569ec910-3de4-4ed7-8c3b-5fa2e40027e0",
   "metadata": {},
   "source": [
    "#### We can use pandas square bracket syntax"
   ]
  },
  {
   "cell_type": "code",
   "execution_count": 12,
   "id": "3c4abcab-12d6-484a-aa08-295a6b904a5c",
   "metadata": {
    "tags": []
   },
   "outputs": [
    {
     "data": {
      "text/html": [
       "<pre style=\"white-space:pre;overflow-x:auto;line-height:normal;font-family:Menlo,'DejaVu Sans Mono',consolas,'Courier New',monospace\">┏━━━━━━━━┳━━━━━━━━━━━━━━━━━━━━━━━━━━━┳━━━━━━━━━┓\n",
       "┃<span style=\"font-weight: bold\"> Origin </span>┃<span style=\"font-weight: bold\"> Car                       </span>┃<span style=\"font-weight: bold\"> MPG     </span>┃\n",
       "┡━━━━━━━━╇━━━━━━━━━━━━━━━━━━━━━━━━━━━╇━━━━━━━━━┩\n",
       "│ <span style=\"color: #7f7f7f; text-decoration-color: #7f7f7f\">string</span> │ <span style=\"color: #7f7f7f; text-decoration-color: #7f7f7f\">string</span>                    │ <span style=\"color: #7f7f7f; text-decoration-color: #7f7f7f\">float64</span> │\n",
       "├────────┼───────────────────────────┼─────────┤\n",
       "│ <span style=\"color: #008000; text-decoration-color: #008000\">US    </span> │ <span style=\"color: #008000; text-decoration-color: #008000\">Chevrolet Chevelle Malibu</span> │    <span style=\"color: #008080; text-decoration-color: #008080; font-weight: bold\">18.0</span> │\n",
       "│ <span style=\"color: #008000; text-decoration-color: #008000\">US    </span> │ <span style=\"color: #008000; text-decoration-color: #008000\">Buick Skylark 320        </span> │    <span style=\"color: #008080; text-decoration-color: #008080; font-weight: bold\">15.0</span> │\n",
       "│ <span style=\"color: #008000; text-decoration-color: #008000\">US    </span> │ <span style=\"color: #008000; text-decoration-color: #008000\">Plymouth Satellite       </span> │    <span style=\"color: #008080; text-decoration-color: #008080; font-weight: bold\">18.0</span> │\n",
       "│ <span style=\"color: #008000; text-decoration-color: #008000\">US    </span> │ <span style=\"color: #008000; text-decoration-color: #008000\">AMC Rebel SST            </span> │    <span style=\"color: #008080; text-decoration-color: #008080; font-weight: bold\">16.0</span> │\n",
       "│ <span style=\"color: #008000; text-decoration-color: #008000\">US    </span> │ <span style=\"color: #008000; text-decoration-color: #008000\">Ford Torino              </span> │    <span style=\"color: #008080; text-decoration-color: #008080; font-weight: bold\">17.0</span> │\n",
       "└────────┴───────────────────────────┴─────────┘\n",
       "</pre>\n"
      ],
      "text/plain": [
       "┏━━━━━━━━┳━━━━━━━━━━━━━━━━━━━━━━━━━━━┳━━━━━━━━━┓\n",
       "┃\u001b[1m \u001b[0m\u001b[1mOrigin\u001b[0m\u001b[1m \u001b[0m┃\u001b[1m \u001b[0m\u001b[1mCar\u001b[0m\u001b[1m                      \u001b[0m\u001b[1m \u001b[0m┃\u001b[1m \u001b[0m\u001b[1mMPG\u001b[0m\u001b[1m    \u001b[0m\u001b[1m \u001b[0m┃\n",
       "┡━━━━━━━━╇━━━━━━━━━━━━━━━━━━━━━━━━━━━╇━━━━━━━━━┩\n",
       "│ \u001b[2mstring\u001b[0m │ \u001b[2mstring\u001b[0m                    │ \u001b[2mfloat64\u001b[0m │\n",
       "├────────┼───────────────────────────┼─────────┤\n",
       "│ \u001b[32mUS    \u001b[0m │ \u001b[32mChevrolet Chevelle Malibu\u001b[0m │    \u001b[1;36m18.0\u001b[0m │\n",
       "│ \u001b[32mUS    \u001b[0m │ \u001b[32mBuick Skylark 320        \u001b[0m │    \u001b[1;36m15.0\u001b[0m │\n",
       "│ \u001b[32mUS    \u001b[0m │ \u001b[32mPlymouth Satellite       \u001b[0m │    \u001b[1;36m18.0\u001b[0m │\n",
       "│ \u001b[32mUS    \u001b[0m │ \u001b[32mAMC Rebel SST            \u001b[0m │    \u001b[1;36m16.0\u001b[0m │\n",
       "│ \u001b[32mUS    \u001b[0m │ \u001b[32mFord Torino              \u001b[0m │    \u001b[1;36m17.0\u001b[0m │\n",
       "└────────┴───────────────────────────┴─────────┘"
      ]
     },
     "execution_count": 12,
     "metadata": {},
     "output_type": "execute_result"
    }
   ],
   "source": [
    "cars['Origin','Car','MPG'].head()"
   ]
  },
  {
   "cell_type": "markdown",
   "id": "f2e3f0e9-9ae4-4d29-be78-d58a4503dd43",
   "metadata": {},
   "source": [
    "#### or use ibis `select()` method"
   ]
  },
  {
   "cell_type": "code",
   "execution_count": 13,
   "id": "72b28cc7-ce88-43b5-9fe7-05fb053f4e61",
   "metadata": {},
   "outputs": [
    {
     "data": {
      "text/html": [
       "<pre style=\"white-space:pre;overflow-x:auto;line-height:normal;font-family:Menlo,'DejaVu Sans Mono',consolas,'Courier New',monospace\">┏━━━━━━━━┳━━━━━━━━━━━━━━━━━━━━━━━━━━━┳━━━━━━━━━┓\n",
       "┃<span style=\"font-weight: bold\"> Origin </span>┃<span style=\"font-weight: bold\"> Car                       </span>┃<span style=\"font-weight: bold\"> MPG     </span>┃\n",
       "┡━━━━━━━━╇━━━━━━━━━━━━━━━━━━━━━━━━━━━╇━━━━━━━━━┩\n",
       "│ <span style=\"color: #7f7f7f; text-decoration-color: #7f7f7f\">string</span> │ <span style=\"color: #7f7f7f; text-decoration-color: #7f7f7f\">string</span>                    │ <span style=\"color: #7f7f7f; text-decoration-color: #7f7f7f\">float64</span> │\n",
       "├────────┼───────────────────────────┼─────────┤\n",
       "│ <span style=\"color: #008000; text-decoration-color: #008000\">US    </span> │ <span style=\"color: #008000; text-decoration-color: #008000\">Chevrolet Chevelle Malibu</span> │    <span style=\"color: #008080; text-decoration-color: #008080; font-weight: bold\">18.0</span> │\n",
       "│ <span style=\"color: #008000; text-decoration-color: #008000\">US    </span> │ <span style=\"color: #008000; text-decoration-color: #008000\">Buick Skylark 320        </span> │    <span style=\"color: #008080; text-decoration-color: #008080; font-weight: bold\">15.0</span> │\n",
       "│ <span style=\"color: #008000; text-decoration-color: #008000\">US    </span> │ <span style=\"color: #008000; text-decoration-color: #008000\">Plymouth Satellite       </span> │    <span style=\"color: #008080; text-decoration-color: #008080; font-weight: bold\">18.0</span> │\n",
       "│ <span style=\"color: #008000; text-decoration-color: #008000\">US    </span> │ <span style=\"color: #008000; text-decoration-color: #008000\">AMC Rebel SST            </span> │    <span style=\"color: #008080; text-decoration-color: #008080; font-weight: bold\">16.0</span> │\n",
       "│ <span style=\"color: #008000; text-decoration-color: #008000\">US    </span> │ <span style=\"color: #008000; text-decoration-color: #008000\">Ford Torino              </span> │    <span style=\"color: #008080; text-decoration-color: #008080; font-weight: bold\">17.0</span> │\n",
       "└────────┴───────────────────────────┴─────────┘\n",
       "</pre>\n"
      ],
      "text/plain": [
       "┏━━━━━━━━┳━━━━━━━━━━━━━━━━━━━━━━━━━━━┳━━━━━━━━━┓\n",
       "┃\u001b[1m \u001b[0m\u001b[1mOrigin\u001b[0m\u001b[1m \u001b[0m┃\u001b[1m \u001b[0m\u001b[1mCar\u001b[0m\u001b[1m                      \u001b[0m\u001b[1m \u001b[0m┃\u001b[1m \u001b[0m\u001b[1mMPG\u001b[0m\u001b[1m    \u001b[0m\u001b[1m \u001b[0m┃\n",
       "┡━━━━━━━━╇━━━━━━━━━━━━━━━━━━━━━━━━━━━╇━━━━━━━━━┩\n",
       "│ \u001b[2mstring\u001b[0m │ \u001b[2mstring\u001b[0m                    │ \u001b[2mfloat64\u001b[0m │\n",
       "├────────┼───────────────────────────┼─────────┤\n",
       "│ \u001b[32mUS    \u001b[0m │ \u001b[32mChevrolet Chevelle Malibu\u001b[0m │    \u001b[1;36m18.0\u001b[0m │\n",
       "│ \u001b[32mUS    \u001b[0m │ \u001b[32mBuick Skylark 320        \u001b[0m │    \u001b[1;36m15.0\u001b[0m │\n",
       "│ \u001b[32mUS    \u001b[0m │ \u001b[32mPlymouth Satellite       \u001b[0m │    \u001b[1;36m18.0\u001b[0m │\n",
       "│ \u001b[32mUS    \u001b[0m │ \u001b[32mAMC Rebel SST            \u001b[0m │    \u001b[1;36m16.0\u001b[0m │\n",
       "│ \u001b[32mUS    \u001b[0m │ \u001b[32mFord Torino              \u001b[0m │    \u001b[1;36m17.0\u001b[0m │\n",
       "└────────┴───────────────────────────┴─────────┘"
      ]
     },
     "execution_count": 13,
     "metadata": {},
     "output_type": "execute_result"
    }
   ],
   "source": [
    "cars.select('Origin', 'Car', 'MPG').head()"
   ]
  },
  {
   "cell_type": "markdown",
   "id": "ce57eb83-a7e9-43f4-9832-58b61286dd46",
   "metadata": {},
   "source": [
    "#### Select columns based on their data types"
   ]
  },
  {
   "cell_type": "code",
   "execution_count": 14,
   "id": "40a82cab-db51-40bc-bec7-f25add7e197d",
   "metadata": {
    "tags": []
   },
   "outputs": [
    {
     "data": {
      "text/html": [
       "<pre style=\"white-space:pre;overflow-x:auto;line-height:normal;font-family:Menlo,'DejaVu Sans Mono',consolas,'Courier New',monospace\">┏━━━━━━━━━┳━━━━━━━━━━━━━━┳━━━━━━━━━━━━┳━━━━━━━━━┳━━━━━━━━━━━━━━┓\n",
       "┃<span style=\"font-weight: bold\"> MPG     </span>┃<span style=\"font-weight: bold\"> Displacement </span>┃<span style=\"font-weight: bold\"> Horsepower </span>┃<span style=\"font-weight: bold\"> Weight  </span>┃<span style=\"font-weight: bold\"> Acceleration </span>┃\n",
       "┡━━━━━━━━━╇━━━━━━━━━━━━━━╇━━━━━━━━━━━━╇━━━━━━━━━╇━━━━━━━━━━━━━━┩\n",
       "│ <span style=\"color: #7f7f7f; text-decoration-color: #7f7f7f\">float64</span> │ <span style=\"color: #7f7f7f; text-decoration-color: #7f7f7f\">float64</span>      │ <span style=\"color: #7f7f7f; text-decoration-color: #7f7f7f\">float64</span>    │ <span style=\"color: #7f7f7f; text-decoration-color: #7f7f7f\">float64</span> │ <span style=\"color: #7f7f7f; text-decoration-color: #7f7f7f\">float64</span>      │\n",
       "├─────────┼──────────────┼────────────┼─────────┼──────────────┤\n",
       "│    <span style=\"color: #008080; text-decoration-color: #008080; font-weight: bold\">18.0</span> │        <span style=\"color: #008080; text-decoration-color: #008080; font-weight: bold\">307.0</span> │      <span style=\"color: #008080; text-decoration-color: #008080; font-weight: bold\">130.0</span> │  <span style=\"color: #008080; text-decoration-color: #008080; font-weight: bold\">3504.0</span> │         <span style=\"color: #008080; text-decoration-color: #008080; font-weight: bold\">12.0</span> │\n",
       "│    <span style=\"color: #008080; text-decoration-color: #008080; font-weight: bold\">15.0</span> │        <span style=\"color: #008080; text-decoration-color: #008080; font-weight: bold\">350.0</span> │      <span style=\"color: #008080; text-decoration-color: #008080; font-weight: bold\">165.0</span> │  <span style=\"color: #008080; text-decoration-color: #008080; font-weight: bold\">3693.0</span> │         <span style=\"color: #008080; text-decoration-color: #008080; font-weight: bold\">11.5</span> │\n",
       "│    <span style=\"color: #008080; text-decoration-color: #008080; font-weight: bold\">18.0</span> │        <span style=\"color: #008080; text-decoration-color: #008080; font-weight: bold\">318.0</span> │      <span style=\"color: #008080; text-decoration-color: #008080; font-weight: bold\">150.0</span> │  <span style=\"color: #008080; text-decoration-color: #008080; font-weight: bold\">3436.0</span> │         <span style=\"color: #008080; text-decoration-color: #008080; font-weight: bold\">11.0</span> │\n",
       "│    <span style=\"color: #008080; text-decoration-color: #008080; font-weight: bold\">16.0</span> │        <span style=\"color: #008080; text-decoration-color: #008080; font-weight: bold\">304.0</span> │      <span style=\"color: #008080; text-decoration-color: #008080; font-weight: bold\">150.0</span> │  <span style=\"color: #008080; text-decoration-color: #008080; font-weight: bold\">3433.0</span> │         <span style=\"color: #008080; text-decoration-color: #008080; font-weight: bold\">12.0</span> │\n",
       "│    <span style=\"color: #008080; text-decoration-color: #008080; font-weight: bold\">17.0</span> │        <span style=\"color: #008080; text-decoration-color: #008080; font-weight: bold\">302.0</span> │      <span style=\"color: #008080; text-decoration-color: #008080; font-weight: bold\">140.0</span> │  <span style=\"color: #008080; text-decoration-color: #008080; font-weight: bold\">3449.0</span> │         <span style=\"color: #008080; text-decoration-color: #008080; font-weight: bold\">10.5</span> │\n",
       "│    <span style=\"color: #008080; text-decoration-color: #008080; font-weight: bold\">15.0</span> │        <span style=\"color: #008080; text-decoration-color: #008080; font-weight: bold\">429.0</span> │      <span style=\"color: #008080; text-decoration-color: #008080; font-weight: bold\">198.0</span> │  <span style=\"color: #008080; text-decoration-color: #008080; font-weight: bold\">4341.0</span> │         <span style=\"color: #008080; text-decoration-color: #008080; font-weight: bold\">10.0</span> │\n",
       "│    <span style=\"color: #008080; text-decoration-color: #008080; font-weight: bold\">14.0</span> │        <span style=\"color: #008080; text-decoration-color: #008080; font-weight: bold\">454.0</span> │      <span style=\"color: #008080; text-decoration-color: #008080; font-weight: bold\">220.0</span> │  <span style=\"color: #008080; text-decoration-color: #008080; font-weight: bold\">4354.0</span> │          <span style=\"color: #008080; text-decoration-color: #008080; font-weight: bold\">9.0</span> │\n",
       "│    <span style=\"color: #008080; text-decoration-color: #008080; font-weight: bold\">14.0</span> │        <span style=\"color: #008080; text-decoration-color: #008080; font-weight: bold\">440.0</span> │      <span style=\"color: #008080; text-decoration-color: #008080; font-weight: bold\">215.0</span> │  <span style=\"color: #008080; text-decoration-color: #008080; font-weight: bold\">4312.0</span> │          <span style=\"color: #008080; text-decoration-color: #008080; font-weight: bold\">8.5</span> │\n",
       "│    <span style=\"color: #008080; text-decoration-color: #008080; font-weight: bold\">14.0</span> │        <span style=\"color: #008080; text-decoration-color: #008080; font-weight: bold\">455.0</span> │      <span style=\"color: #008080; text-decoration-color: #008080; font-weight: bold\">225.0</span> │  <span style=\"color: #008080; text-decoration-color: #008080; font-weight: bold\">4425.0</span> │         <span style=\"color: #008080; text-decoration-color: #008080; font-weight: bold\">10.0</span> │\n",
       "│    <span style=\"color: #008080; text-decoration-color: #008080; font-weight: bold\">15.0</span> │        <span style=\"color: #008080; text-decoration-color: #008080; font-weight: bold\">390.0</span> │      <span style=\"color: #008080; text-decoration-color: #008080; font-weight: bold\">190.0</span> │  <span style=\"color: #008080; text-decoration-color: #008080; font-weight: bold\">3850.0</span> │          <span style=\"color: #008080; text-decoration-color: #008080; font-weight: bold\">8.5</span> │\n",
       "│       <span style=\"color: #7f7f7f; text-decoration-color: #7f7f7f\">…</span> │            <span style=\"color: #7f7f7f; text-decoration-color: #7f7f7f\">…</span> │          <span style=\"color: #7f7f7f; text-decoration-color: #7f7f7f\">…</span> │       <span style=\"color: #7f7f7f; text-decoration-color: #7f7f7f\">…</span> │            <span style=\"color: #7f7f7f; text-decoration-color: #7f7f7f\">…</span> │\n",
       "└─────────┴──────────────┴────────────┴─────────┴──────────────┘\n",
       "</pre>\n"
      ],
      "text/plain": [
       "┏━━━━━━━━━┳━━━━━━━━━━━━━━┳━━━━━━━━━━━━┳━━━━━━━━━┳━━━━━━━━━━━━━━┓\n",
       "┃\u001b[1m \u001b[0m\u001b[1mMPG\u001b[0m\u001b[1m    \u001b[0m\u001b[1m \u001b[0m┃\u001b[1m \u001b[0m\u001b[1mDisplacement\u001b[0m\u001b[1m \u001b[0m┃\u001b[1m \u001b[0m\u001b[1mHorsepower\u001b[0m\u001b[1m \u001b[0m┃\u001b[1m \u001b[0m\u001b[1mWeight\u001b[0m\u001b[1m \u001b[0m\u001b[1m \u001b[0m┃\u001b[1m \u001b[0m\u001b[1mAcceleration\u001b[0m\u001b[1m \u001b[0m┃\n",
       "┡━━━━━━━━━╇━━━━━━━━━━━━━━╇━━━━━━━━━━━━╇━━━━━━━━━╇━━━━━━━━━━━━━━┩\n",
       "│ \u001b[2mfloat64\u001b[0m │ \u001b[2mfloat64\u001b[0m      │ \u001b[2mfloat64\u001b[0m    │ \u001b[2mfloat64\u001b[0m │ \u001b[2mfloat64\u001b[0m      │\n",
       "├─────────┼──────────────┼────────────┼─────────┼──────────────┤\n",
       "│    \u001b[1;36m18.0\u001b[0m │        \u001b[1;36m307.0\u001b[0m │      \u001b[1;36m130.0\u001b[0m │  \u001b[1;36m3504.0\u001b[0m │         \u001b[1;36m12.0\u001b[0m │\n",
       "│    \u001b[1;36m15.0\u001b[0m │        \u001b[1;36m350.0\u001b[0m │      \u001b[1;36m165.0\u001b[0m │  \u001b[1;36m3693.0\u001b[0m │         \u001b[1;36m11.5\u001b[0m │\n",
       "│    \u001b[1;36m18.0\u001b[0m │        \u001b[1;36m318.0\u001b[0m │      \u001b[1;36m150.0\u001b[0m │  \u001b[1;36m3436.0\u001b[0m │         \u001b[1;36m11.0\u001b[0m │\n",
       "│    \u001b[1;36m16.0\u001b[0m │        \u001b[1;36m304.0\u001b[0m │      \u001b[1;36m150.0\u001b[0m │  \u001b[1;36m3433.0\u001b[0m │         \u001b[1;36m12.0\u001b[0m │\n",
       "│    \u001b[1;36m17.0\u001b[0m │        \u001b[1;36m302.0\u001b[0m │      \u001b[1;36m140.0\u001b[0m │  \u001b[1;36m3449.0\u001b[0m │         \u001b[1;36m10.5\u001b[0m │\n",
       "│    \u001b[1;36m15.0\u001b[0m │        \u001b[1;36m429.0\u001b[0m │      \u001b[1;36m198.0\u001b[0m │  \u001b[1;36m4341.0\u001b[0m │         \u001b[1;36m10.0\u001b[0m │\n",
       "│    \u001b[1;36m14.0\u001b[0m │        \u001b[1;36m454.0\u001b[0m │      \u001b[1;36m220.0\u001b[0m │  \u001b[1;36m4354.0\u001b[0m │          \u001b[1;36m9.0\u001b[0m │\n",
       "│    \u001b[1;36m14.0\u001b[0m │        \u001b[1;36m440.0\u001b[0m │      \u001b[1;36m215.0\u001b[0m │  \u001b[1;36m4312.0\u001b[0m │          \u001b[1;36m8.5\u001b[0m │\n",
       "│    \u001b[1;36m14.0\u001b[0m │        \u001b[1;36m455.0\u001b[0m │      \u001b[1;36m225.0\u001b[0m │  \u001b[1;36m4425.0\u001b[0m │         \u001b[1;36m10.0\u001b[0m │\n",
       "│    \u001b[1;36m15.0\u001b[0m │        \u001b[1;36m390.0\u001b[0m │      \u001b[1;36m190.0\u001b[0m │  \u001b[1;36m3850.0\u001b[0m │          \u001b[1;36m8.5\u001b[0m │\n",
       "│       \u001b[2m…\u001b[0m │            \u001b[2m…\u001b[0m │          \u001b[2m…\u001b[0m │       \u001b[2m…\u001b[0m │            \u001b[2m…\u001b[0m │\n",
       "└─────────┴──────────────┴────────────┴─────────┴──────────────┘"
      ]
     },
     "execution_count": 14,
     "metadata": {},
     "output_type": "execute_result"
    }
   ],
   "source": [
    "from ibis import selectors as s\n",
    "cars.select(s.of_type('float64'))"
   ]
  },
  {
   "cell_type": "markdown",
   "id": "117686fb-457e-4c43-9891-24919b63a934",
   "metadata": {},
   "source": [
    "#### We can also use boolean logic OR using `|` to select columns with different column types"
   ]
  },
  {
   "cell_type": "code",
   "execution_count": 15,
   "id": "e7de397e-25ad-4e98-b54a-ab7acacbd37c",
   "metadata": {
    "tags": []
   },
   "outputs": [
    {
     "data": {
      "text/html": [
       "<pre style=\"white-space:pre;overflow-x:auto;line-height:normal;font-family:Menlo,'DejaVu Sans Mono',consolas,'Courier New',monospace\">┏━━━━━━━━━━━━━━━━━━━━━━━━━━━┳━━━━━━━━━━━┳━━━━━━━┳━━━━━━━━┓\n",
       "┃<span style=\"font-weight: bold\"> Car                       </span>┃<span style=\"font-weight: bold\"> Cylinders </span>┃<span style=\"font-weight: bold\"> Model </span>┃<span style=\"font-weight: bold\"> Origin </span>┃\n",
       "┡━━━━━━━━━━━━━━━━━━━━━━━━━━━╇━━━━━━━━━━━╇━━━━━━━╇━━━━━━━━┩\n",
       "│ <span style=\"color: #7f7f7f; text-decoration-color: #7f7f7f\">string</span>                    │ <span style=\"color: #7f7f7f; text-decoration-color: #7f7f7f\">int64</span>     │ <span style=\"color: #7f7f7f; text-decoration-color: #7f7f7f\">int64</span> │ <span style=\"color: #7f7f7f; text-decoration-color: #7f7f7f\">string</span> │\n",
       "├───────────────────────────┼───────────┼───────┼────────┤\n",
       "│ <span style=\"color: #008000; text-decoration-color: #008000\">Chevrolet Chevelle Malibu</span> │         <span style=\"color: #008080; text-decoration-color: #008080; font-weight: bold\">8</span> │    <span style=\"color: #008080; text-decoration-color: #008080; font-weight: bold\">70</span> │ <span style=\"color: #008000; text-decoration-color: #008000\">US    </span> │\n",
       "│ <span style=\"color: #008000; text-decoration-color: #008000\">Buick Skylark 320        </span> │         <span style=\"color: #008080; text-decoration-color: #008080; font-weight: bold\">8</span> │    <span style=\"color: #008080; text-decoration-color: #008080; font-weight: bold\">70</span> │ <span style=\"color: #008000; text-decoration-color: #008000\">US    </span> │\n",
       "│ <span style=\"color: #008000; text-decoration-color: #008000\">Plymouth Satellite       </span> │         <span style=\"color: #008080; text-decoration-color: #008080; font-weight: bold\">8</span> │    <span style=\"color: #008080; text-decoration-color: #008080; font-weight: bold\">70</span> │ <span style=\"color: #008000; text-decoration-color: #008000\">US    </span> │\n",
       "│ <span style=\"color: #008000; text-decoration-color: #008000\">AMC Rebel SST            </span> │         <span style=\"color: #008080; text-decoration-color: #008080; font-weight: bold\">8</span> │    <span style=\"color: #008080; text-decoration-color: #008080; font-weight: bold\">70</span> │ <span style=\"color: #008000; text-decoration-color: #008000\">US    </span> │\n",
       "│ <span style=\"color: #008000; text-decoration-color: #008000\">Ford Torino              </span> │         <span style=\"color: #008080; text-decoration-color: #008080; font-weight: bold\">8</span> │    <span style=\"color: #008080; text-decoration-color: #008080; font-weight: bold\">70</span> │ <span style=\"color: #008000; text-decoration-color: #008000\">US    </span> │\n",
       "│ <span style=\"color: #008000; text-decoration-color: #008000\">Ford Galaxie 500         </span> │         <span style=\"color: #008080; text-decoration-color: #008080; font-weight: bold\">8</span> │    <span style=\"color: #008080; text-decoration-color: #008080; font-weight: bold\">70</span> │ <span style=\"color: #008000; text-decoration-color: #008000\">US    </span> │\n",
       "│ <span style=\"color: #008000; text-decoration-color: #008000\">Chevrolet Impala         </span> │         <span style=\"color: #008080; text-decoration-color: #008080; font-weight: bold\">8</span> │    <span style=\"color: #008080; text-decoration-color: #008080; font-weight: bold\">70</span> │ <span style=\"color: #008000; text-decoration-color: #008000\">US    </span> │\n",
       "│ <span style=\"color: #008000; text-decoration-color: #008000\">Plymouth Fury iii        </span> │         <span style=\"color: #008080; text-decoration-color: #008080; font-weight: bold\">8</span> │    <span style=\"color: #008080; text-decoration-color: #008080; font-weight: bold\">70</span> │ <span style=\"color: #008000; text-decoration-color: #008000\">US    </span> │\n",
       "│ <span style=\"color: #008000; text-decoration-color: #008000\">Pontiac Catalina         </span> │         <span style=\"color: #008080; text-decoration-color: #008080; font-weight: bold\">8</span> │    <span style=\"color: #008080; text-decoration-color: #008080; font-weight: bold\">70</span> │ <span style=\"color: #008000; text-decoration-color: #008000\">US    </span> │\n",
       "│ <span style=\"color: #008000; text-decoration-color: #008000\">AMC Ambassador DPL       </span> │         <span style=\"color: #008080; text-decoration-color: #008080; font-weight: bold\">8</span> │    <span style=\"color: #008080; text-decoration-color: #008080; font-weight: bold\">70</span> │ <span style=\"color: #008000; text-decoration-color: #008000\">US    </span> │\n",
       "│ <span style=\"color: #7f7f7f; text-decoration-color: #7f7f7f\">…</span>                         │         <span style=\"color: #7f7f7f; text-decoration-color: #7f7f7f\">…</span> │     <span style=\"color: #7f7f7f; text-decoration-color: #7f7f7f\">…</span> │ <span style=\"color: #7f7f7f; text-decoration-color: #7f7f7f\">…</span>      │\n",
       "└───────────────────────────┴───────────┴───────┴────────┘\n",
       "</pre>\n"
      ],
      "text/plain": [
       "┏━━━━━━━━━━━━━━━━━━━━━━━━━━━┳━━━━━━━━━━━┳━━━━━━━┳━━━━━━━━┓\n",
       "┃\u001b[1m \u001b[0m\u001b[1mCar\u001b[0m\u001b[1m                      \u001b[0m\u001b[1m \u001b[0m┃\u001b[1m \u001b[0m\u001b[1mCylinders\u001b[0m\u001b[1m \u001b[0m┃\u001b[1m \u001b[0m\u001b[1mModel\u001b[0m\u001b[1m \u001b[0m┃\u001b[1m \u001b[0m\u001b[1mOrigin\u001b[0m\u001b[1m \u001b[0m┃\n",
       "┡━━━━━━━━━━━━━━━━━━━━━━━━━━━╇━━━━━━━━━━━╇━━━━━━━╇━━━━━━━━┩\n",
       "│ \u001b[2mstring\u001b[0m                    │ \u001b[2mint64\u001b[0m     │ \u001b[2mint64\u001b[0m │ \u001b[2mstring\u001b[0m │\n",
       "├───────────────────────────┼───────────┼───────┼────────┤\n",
       "│ \u001b[32mChevrolet Chevelle Malibu\u001b[0m │         \u001b[1;36m8\u001b[0m │    \u001b[1;36m70\u001b[0m │ \u001b[32mUS    \u001b[0m │\n",
       "│ \u001b[32mBuick Skylark 320        \u001b[0m │         \u001b[1;36m8\u001b[0m │    \u001b[1;36m70\u001b[0m │ \u001b[32mUS    \u001b[0m │\n",
       "│ \u001b[32mPlymouth Satellite       \u001b[0m │         \u001b[1;36m8\u001b[0m │    \u001b[1;36m70\u001b[0m │ \u001b[32mUS    \u001b[0m │\n",
       "│ \u001b[32mAMC Rebel SST            \u001b[0m │         \u001b[1;36m8\u001b[0m │    \u001b[1;36m70\u001b[0m │ \u001b[32mUS    \u001b[0m │\n",
       "│ \u001b[32mFord Torino              \u001b[0m │         \u001b[1;36m8\u001b[0m │    \u001b[1;36m70\u001b[0m │ \u001b[32mUS    \u001b[0m │\n",
       "│ \u001b[32mFord Galaxie 500         \u001b[0m │         \u001b[1;36m8\u001b[0m │    \u001b[1;36m70\u001b[0m │ \u001b[32mUS    \u001b[0m │\n",
       "│ \u001b[32mChevrolet Impala         \u001b[0m │         \u001b[1;36m8\u001b[0m │    \u001b[1;36m70\u001b[0m │ \u001b[32mUS    \u001b[0m │\n",
       "│ \u001b[32mPlymouth Fury iii        \u001b[0m │         \u001b[1;36m8\u001b[0m │    \u001b[1;36m70\u001b[0m │ \u001b[32mUS    \u001b[0m │\n",
       "│ \u001b[32mPontiac Catalina         \u001b[0m │         \u001b[1;36m8\u001b[0m │    \u001b[1;36m70\u001b[0m │ \u001b[32mUS    \u001b[0m │\n",
       "│ \u001b[32mAMC Ambassador DPL       \u001b[0m │         \u001b[1;36m8\u001b[0m │    \u001b[1;36m70\u001b[0m │ \u001b[32mUS    \u001b[0m │\n",
       "│ \u001b[2m…\u001b[0m                         │         \u001b[2m…\u001b[0m │     \u001b[2m…\u001b[0m │ \u001b[2m…\u001b[0m      │\n",
       "└───────────────────────────┴───────────┴───────┴────────┘"
      ]
     },
     "execution_count": 15,
     "metadata": {},
     "output_type": "execute_result"
    }
   ],
   "source": [
    "cars.select(s.of_type('string') | s.of_type('int64'))"
   ]
  },
  {
   "cell_type": "markdown",
   "id": "6b84cca8-933c-4c1c-9f9e-cbc6de615da0",
   "metadata": {},
   "source": [
    "#### We can also select based on range of column indices using special `s.r` object"
   ]
  },
  {
   "cell_type": "code",
   "execution_count": 16,
   "id": "ef1af955-8381-4d1d-927c-69f25828df3c",
   "metadata": {
    "tags": []
   },
   "outputs": [
    {
     "data": {
      "text/html": [
       "<pre style=\"white-space:pre;overflow-x:auto;line-height:normal;font-family:Menlo,'DejaVu Sans Mono',consolas,'Courier New',monospace\">┏━━━━━━━━━━━━━━━━━━━━━━━━━━━┳━━━━━━━━━┳━━━━━━━━━━━┓\n",
       "┃<span style=\"font-weight: bold\"> Car                       </span>┃<span style=\"font-weight: bold\"> MPG     </span>┃<span style=\"font-weight: bold\"> Cylinders </span>┃\n",
       "┡━━━━━━━━━━━━━━━━━━━━━━━━━━━╇━━━━━━━━━╇━━━━━━━━━━━┩\n",
       "│ <span style=\"color: #7f7f7f; text-decoration-color: #7f7f7f\">string</span>                    │ <span style=\"color: #7f7f7f; text-decoration-color: #7f7f7f\">float64</span> │ <span style=\"color: #7f7f7f; text-decoration-color: #7f7f7f\">int64</span>     │\n",
       "├───────────────────────────┼─────────┼───────────┤\n",
       "│ <span style=\"color: #008000; text-decoration-color: #008000\">Chevrolet Chevelle Malibu</span> │    <span style=\"color: #008080; text-decoration-color: #008080; font-weight: bold\">18.0</span> │         <span style=\"color: #008080; text-decoration-color: #008080; font-weight: bold\">8</span> │\n",
       "│ <span style=\"color: #008000; text-decoration-color: #008000\">Buick Skylark 320        </span> │    <span style=\"color: #008080; text-decoration-color: #008080; font-weight: bold\">15.0</span> │         <span style=\"color: #008080; text-decoration-color: #008080; font-weight: bold\">8</span> │\n",
       "│ <span style=\"color: #008000; text-decoration-color: #008000\">Plymouth Satellite       </span> │    <span style=\"color: #008080; text-decoration-color: #008080; font-weight: bold\">18.0</span> │         <span style=\"color: #008080; text-decoration-color: #008080; font-weight: bold\">8</span> │\n",
       "│ <span style=\"color: #008000; text-decoration-color: #008000\">AMC Rebel SST            </span> │    <span style=\"color: #008080; text-decoration-color: #008080; font-weight: bold\">16.0</span> │         <span style=\"color: #008080; text-decoration-color: #008080; font-weight: bold\">8</span> │\n",
       "│ <span style=\"color: #008000; text-decoration-color: #008000\">Ford Torino              </span> │    <span style=\"color: #008080; text-decoration-color: #008080; font-weight: bold\">17.0</span> │         <span style=\"color: #008080; text-decoration-color: #008080; font-weight: bold\">8</span> │\n",
       "│ <span style=\"color: #008000; text-decoration-color: #008000\">Ford Galaxie 500         </span> │    <span style=\"color: #008080; text-decoration-color: #008080; font-weight: bold\">15.0</span> │         <span style=\"color: #008080; text-decoration-color: #008080; font-weight: bold\">8</span> │\n",
       "│ <span style=\"color: #008000; text-decoration-color: #008000\">Chevrolet Impala         </span> │    <span style=\"color: #008080; text-decoration-color: #008080; font-weight: bold\">14.0</span> │         <span style=\"color: #008080; text-decoration-color: #008080; font-weight: bold\">8</span> │\n",
       "│ <span style=\"color: #008000; text-decoration-color: #008000\">Plymouth Fury iii        </span> │    <span style=\"color: #008080; text-decoration-color: #008080; font-weight: bold\">14.0</span> │         <span style=\"color: #008080; text-decoration-color: #008080; font-weight: bold\">8</span> │\n",
       "│ <span style=\"color: #008000; text-decoration-color: #008000\">Pontiac Catalina         </span> │    <span style=\"color: #008080; text-decoration-color: #008080; font-weight: bold\">14.0</span> │         <span style=\"color: #008080; text-decoration-color: #008080; font-weight: bold\">8</span> │\n",
       "│ <span style=\"color: #008000; text-decoration-color: #008000\">AMC Ambassador DPL       </span> │    <span style=\"color: #008080; text-decoration-color: #008080; font-weight: bold\">15.0</span> │         <span style=\"color: #008080; text-decoration-color: #008080; font-weight: bold\">8</span> │\n",
       "│ <span style=\"color: #7f7f7f; text-decoration-color: #7f7f7f\">…</span>                         │       <span style=\"color: #7f7f7f; text-decoration-color: #7f7f7f\">…</span> │         <span style=\"color: #7f7f7f; text-decoration-color: #7f7f7f\">…</span> │\n",
       "└───────────────────────────┴─────────┴───────────┘\n",
       "</pre>\n"
      ],
      "text/plain": [
       "┏━━━━━━━━━━━━━━━━━━━━━━━━━━━┳━━━━━━━━━┳━━━━━━━━━━━┓\n",
       "┃\u001b[1m \u001b[0m\u001b[1mCar\u001b[0m\u001b[1m                      \u001b[0m\u001b[1m \u001b[0m┃\u001b[1m \u001b[0m\u001b[1mMPG\u001b[0m\u001b[1m    \u001b[0m\u001b[1m \u001b[0m┃\u001b[1m \u001b[0m\u001b[1mCylinders\u001b[0m\u001b[1m \u001b[0m┃\n",
       "┡━━━━━━━━━━━━━━━━━━━━━━━━━━━╇━━━━━━━━━╇━━━━━━━━━━━┩\n",
       "│ \u001b[2mstring\u001b[0m                    │ \u001b[2mfloat64\u001b[0m │ \u001b[2mint64\u001b[0m     │\n",
       "├───────────────────────────┼─────────┼───────────┤\n",
       "│ \u001b[32mChevrolet Chevelle Malibu\u001b[0m │    \u001b[1;36m18.0\u001b[0m │         \u001b[1;36m8\u001b[0m │\n",
       "│ \u001b[32mBuick Skylark 320        \u001b[0m │    \u001b[1;36m15.0\u001b[0m │         \u001b[1;36m8\u001b[0m │\n",
       "│ \u001b[32mPlymouth Satellite       \u001b[0m │    \u001b[1;36m18.0\u001b[0m │         \u001b[1;36m8\u001b[0m │\n",
       "│ \u001b[32mAMC Rebel SST            \u001b[0m │    \u001b[1;36m16.0\u001b[0m │         \u001b[1;36m8\u001b[0m │\n",
       "│ \u001b[32mFord Torino              \u001b[0m │    \u001b[1;36m17.0\u001b[0m │         \u001b[1;36m8\u001b[0m │\n",
       "│ \u001b[32mFord Galaxie 500         \u001b[0m │    \u001b[1;36m15.0\u001b[0m │         \u001b[1;36m8\u001b[0m │\n",
       "│ \u001b[32mChevrolet Impala         \u001b[0m │    \u001b[1;36m14.0\u001b[0m │         \u001b[1;36m8\u001b[0m │\n",
       "│ \u001b[32mPlymouth Fury iii        \u001b[0m │    \u001b[1;36m14.0\u001b[0m │         \u001b[1;36m8\u001b[0m │\n",
       "│ \u001b[32mPontiac Catalina         \u001b[0m │    \u001b[1;36m14.0\u001b[0m │         \u001b[1;36m8\u001b[0m │\n",
       "│ \u001b[32mAMC Ambassador DPL       \u001b[0m │    \u001b[1;36m15.0\u001b[0m │         \u001b[1;36m8\u001b[0m │\n",
       "│ \u001b[2m…\u001b[0m                         │       \u001b[2m…\u001b[0m │         \u001b[2m…\u001b[0m │\n",
       "└───────────────────────────┴─────────┴───────────┘"
      ]
     },
     "execution_count": 16,
     "metadata": {},
     "output_type": "execute_result"
    }
   ],
   "source": [
    "cars.select(s.r[:3])"
   ]
  },
  {
   "cell_type": "markdown",
   "id": "b9fb5e1d-5d5f-41c1-921a-f0584379b155",
   "metadata": {},
   "source": [
    "<a id=\"split\">"
   ]
  },
  {
   "cell_type": "markdown",
   "id": "0143bea2-dfb7-4453-9c2a-2911ecac54da",
   "metadata": {},
   "source": [
    "## Creating new column based on value from another column using mutate and split() combination"
   ]
  },
  {
   "cell_type": "markdown",
   "id": "531fcc74-0b38-45b3-92f3-fc4b591253af",
   "metadata": {},
   "source": [
    "[[back to top]](#back_to_top)"
   ]
  },
  {
   "cell_type": "markdown",
   "id": "e27f66db-9237-4638-b9a4-9b973f6e0e65",
   "metadata": {},
   "source": [
    "The `Car` column happens to contain both the car's make and model names.  If we want the make, it looks like we just need to extract the first string token after the splitting the string value in the `Car` column based on a single white space.  The model name is the 2nd token.  We will use array index of zero/0 to obtain the make and index of 1 to obtain the model name."
   ]
  },
  {
   "cell_type": "code",
   "execution_count": 17,
   "id": "9807c034-898c-42bd-b8c1-8064f98e6736",
   "metadata": {
    "tags": []
   },
   "outputs": [],
   "source": [
    "cars = cars.mutate(Make=cars.Car.split(' ')[0])\n",
    "cars = cars.mutate(ModelName=cars.Car.split(' ')[1])"
   ]
  },
  {
   "cell_type": "code",
   "execution_count": 18,
   "id": "0860794d-118b-4033-8c47-daac13e3861f",
   "metadata": {
    "tags": []
   },
   "outputs": [
    {
     "data": {
      "text/html": [
       "<pre style=\"white-space:pre;overflow-x:auto;line-height:normal;font-family:Menlo,'DejaVu Sans Mono',consolas,'Courier New',monospace\">┏━━━━━━━━━━━━━━━━━━━━━━━━━━━┳━━━━━━━━━┳━━━━━━━━━━━┳━━━━━━━━━━━━━━┳━━━━━━━━━━━━┳━━━━━━━━━┳━━━━━━━━━━━━━━┳━━━━━━━┳━━━━━━━━┳━━━━━━━━━━━┳━━━━━━━━━━━┓\n",
       "┃<span style=\"font-weight: bold\"> Car                       </span>┃<span style=\"font-weight: bold\"> MPG     </span>┃<span style=\"font-weight: bold\"> Cylinders </span>┃<span style=\"font-weight: bold\"> Displacement </span>┃<span style=\"font-weight: bold\"> Horsepower </span>┃<span style=\"font-weight: bold\"> Weight  </span>┃<span style=\"font-weight: bold\"> Acceleration </span>┃<span style=\"font-weight: bold\"> Model </span>┃<span style=\"font-weight: bold\"> Origin </span>┃<span style=\"font-weight: bold\"> Make      </span>┃<span style=\"font-weight: bold\"> ModelName </span>┃\n",
       "┡━━━━━━━━━━━━━━━━━━━━━━━━━━━╇━━━━━━━━━╇━━━━━━━━━━━╇━━━━━━━━━━━━━━╇━━━━━━━━━━━━╇━━━━━━━━━╇━━━━━━━━━━━━━━╇━━━━━━━╇━━━━━━━━╇━━━━━━━━━━━╇━━━━━━━━━━━┩\n",
       "│ <span style=\"color: #7f7f7f; text-decoration-color: #7f7f7f\">string</span>                    │ <span style=\"color: #7f7f7f; text-decoration-color: #7f7f7f\">float64</span> │ <span style=\"color: #7f7f7f; text-decoration-color: #7f7f7f\">int64</span>     │ <span style=\"color: #7f7f7f; text-decoration-color: #7f7f7f\">float64</span>      │ <span style=\"color: #7f7f7f; text-decoration-color: #7f7f7f\">float64</span>    │ <span style=\"color: #7f7f7f; text-decoration-color: #7f7f7f\">float64</span> │ <span style=\"color: #7f7f7f; text-decoration-color: #7f7f7f\">float64</span>      │ <span style=\"color: #7f7f7f; text-decoration-color: #7f7f7f\">int64</span> │ <span style=\"color: #7f7f7f; text-decoration-color: #7f7f7f\">string</span> │ <span style=\"color: #7f7f7f; text-decoration-color: #7f7f7f\">string</span>    │ <span style=\"color: #7f7f7f; text-decoration-color: #7f7f7f\">string</span>    │\n",
       "├───────────────────────────┼─────────┼───────────┼──────────────┼────────────┼─────────┼──────────────┼───────┼────────┼───────────┼───────────┤\n",
       "│ <span style=\"color: #008000; text-decoration-color: #008000\">Chevrolet Chevelle Malibu</span> │    <span style=\"color: #008080; text-decoration-color: #008080; font-weight: bold\">18.0</span> │         <span style=\"color: #008080; text-decoration-color: #008080; font-weight: bold\">8</span> │        <span style=\"color: #008080; text-decoration-color: #008080; font-weight: bold\">307.0</span> │      <span style=\"color: #008080; text-decoration-color: #008080; font-weight: bold\">130.0</span> │  <span style=\"color: #008080; text-decoration-color: #008080; font-weight: bold\">3504.0</span> │         <span style=\"color: #008080; text-decoration-color: #008080; font-weight: bold\">12.0</span> │    <span style=\"color: #008080; text-decoration-color: #008080; font-weight: bold\">70</span> │ <span style=\"color: #008000; text-decoration-color: #008000\">US    </span> │ <span style=\"color: #008000; text-decoration-color: #008000\">Chevrolet</span> │ <span style=\"color: #008000; text-decoration-color: #008000\">Chevelle </span> │\n",
       "│ <span style=\"color: #008000; text-decoration-color: #008000\">Buick Skylark 320        </span> │    <span style=\"color: #008080; text-decoration-color: #008080; font-weight: bold\">15.0</span> │         <span style=\"color: #008080; text-decoration-color: #008080; font-weight: bold\">8</span> │        <span style=\"color: #008080; text-decoration-color: #008080; font-weight: bold\">350.0</span> │      <span style=\"color: #008080; text-decoration-color: #008080; font-weight: bold\">165.0</span> │  <span style=\"color: #008080; text-decoration-color: #008080; font-weight: bold\">3693.0</span> │         <span style=\"color: #008080; text-decoration-color: #008080; font-weight: bold\">11.5</span> │    <span style=\"color: #008080; text-decoration-color: #008080; font-weight: bold\">70</span> │ <span style=\"color: #008000; text-decoration-color: #008000\">US    </span> │ <span style=\"color: #008000; text-decoration-color: #008000\">Buick    </span> │ <span style=\"color: #008000; text-decoration-color: #008000\">Skylark  </span> │\n",
       "│ <span style=\"color: #008000; text-decoration-color: #008000\">Plymouth Satellite       </span> │    <span style=\"color: #008080; text-decoration-color: #008080; font-weight: bold\">18.0</span> │         <span style=\"color: #008080; text-decoration-color: #008080; font-weight: bold\">8</span> │        <span style=\"color: #008080; text-decoration-color: #008080; font-weight: bold\">318.0</span> │      <span style=\"color: #008080; text-decoration-color: #008080; font-weight: bold\">150.0</span> │  <span style=\"color: #008080; text-decoration-color: #008080; font-weight: bold\">3436.0</span> │         <span style=\"color: #008080; text-decoration-color: #008080; font-weight: bold\">11.0</span> │    <span style=\"color: #008080; text-decoration-color: #008080; font-weight: bold\">70</span> │ <span style=\"color: #008000; text-decoration-color: #008000\">US    </span> │ <span style=\"color: #008000; text-decoration-color: #008000\">Plymouth </span> │ <span style=\"color: #008000; text-decoration-color: #008000\">Satellite</span> │\n",
       "│ <span style=\"color: #008000; text-decoration-color: #008000\">AMC Rebel SST            </span> │    <span style=\"color: #008080; text-decoration-color: #008080; font-weight: bold\">16.0</span> │         <span style=\"color: #008080; text-decoration-color: #008080; font-weight: bold\">8</span> │        <span style=\"color: #008080; text-decoration-color: #008080; font-weight: bold\">304.0</span> │      <span style=\"color: #008080; text-decoration-color: #008080; font-weight: bold\">150.0</span> │  <span style=\"color: #008080; text-decoration-color: #008080; font-weight: bold\">3433.0</span> │         <span style=\"color: #008080; text-decoration-color: #008080; font-weight: bold\">12.0</span> │    <span style=\"color: #008080; text-decoration-color: #008080; font-weight: bold\">70</span> │ <span style=\"color: #008000; text-decoration-color: #008000\">US    </span> │ <span style=\"color: #008000; text-decoration-color: #008000\">AMC      </span> │ <span style=\"color: #008000; text-decoration-color: #008000\">Rebel    </span> │\n",
       "│ <span style=\"color: #008000; text-decoration-color: #008000\">Ford Torino              </span> │    <span style=\"color: #008080; text-decoration-color: #008080; font-weight: bold\">17.0</span> │         <span style=\"color: #008080; text-decoration-color: #008080; font-weight: bold\">8</span> │        <span style=\"color: #008080; text-decoration-color: #008080; font-weight: bold\">302.0</span> │      <span style=\"color: #008080; text-decoration-color: #008080; font-weight: bold\">140.0</span> │  <span style=\"color: #008080; text-decoration-color: #008080; font-weight: bold\">3449.0</span> │         <span style=\"color: #008080; text-decoration-color: #008080; font-weight: bold\">10.5</span> │    <span style=\"color: #008080; text-decoration-color: #008080; font-weight: bold\">70</span> │ <span style=\"color: #008000; text-decoration-color: #008000\">US    </span> │ <span style=\"color: #008000; text-decoration-color: #008000\">Ford     </span> │ <span style=\"color: #008000; text-decoration-color: #008000\">Torino   </span> │\n",
       "└───────────────────────────┴─────────┴───────────┴──────────────┴────────────┴─────────┴──────────────┴───────┴────────┴───────────┴───────────┘\n",
       "</pre>\n"
      ],
      "text/plain": [
       "┏━━━━━━━━━━━━━━━━━━━━━━━━━━━┳━━━━━━━━━┳━━━━━━━━━━━┳━━━━━━━━━━━━━━┳━━━━━━━━━━━━┳━━━━━━━━━┳━━━━━━━━━━━━━━┳━━━━━━━┳━━━━━━━━┳━━━━━━━━━━━┳━━━━━━━━━━━┓\n",
       "┃\u001b[1m \u001b[0m\u001b[1mCar\u001b[0m\u001b[1m                      \u001b[0m\u001b[1m \u001b[0m┃\u001b[1m \u001b[0m\u001b[1mMPG\u001b[0m\u001b[1m    \u001b[0m\u001b[1m \u001b[0m┃\u001b[1m \u001b[0m\u001b[1mCylinders\u001b[0m\u001b[1m \u001b[0m┃\u001b[1m \u001b[0m\u001b[1mDisplacement\u001b[0m\u001b[1m \u001b[0m┃\u001b[1m \u001b[0m\u001b[1mHorsepower\u001b[0m\u001b[1m \u001b[0m┃\u001b[1m \u001b[0m\u001b[1mWeight\u001b[0m\u001b[1m \u001b[0m\u001b[1m \u001b[0m┃\u001b[1m \u001b[0m\u001b[1mAcceleration\u001b[0m\u001b[1m \u001b[0m┃\u001b[1m \u001b[0m\u001b[1mModel\u001b[0m\u001b[1m \u001b[0m┃\u001b[1m \u001b[0m\u001b[1mOrigin\u001b[0m\u001b[1m \u001b[0m┃\u001b[1m \u001b[0m\u001b[1mMake\u001b[0m\u001b[1m     \u001b[0m\u001b[1m \u001b[0m┃\u001b[1m \u001b[0m\u001b[1mModelName\u001b[0m\u001b[1m \u001b[0m┃\n",
       "┡━━━━━━━━━━━━━━━━━━━━━━━━━━━╇━━━━━━━━━╇━━━━━━━━━━━╇━━━━━━━━━━━━━━╇━━━━━━━━━━━━╇━━━━━━━━━╇━━━━━━━━━━━━━━╇━━━━━━━╇━━━━━━━━╇━━━━━━━━━━━╇━━━━━━━━━━━┩\n",
       "│ \u001b[2mstring\u001b[0m                    │ \u001b[2mfloat64\u001b[0m │ \u001b[2mint64\u001b[0m     │ \u001b[2mfloat64\u001b[0m      │ \u001b[2mfloat64\u001b[0m    │ \u001b[2mfloat64\u001b[0m │ \u001b[2mfloat64\u001b[0m      │ \u001b[2mint64\u001b[0m │ \u001b[2mstring\u001b[0m │ \u001b[2mstring\u001b[0m    │ \u001b[2mstring\u001b[0m    │\n",
       "├───────────────────────────┼─────────┼───────────┼──────────────┼────────────┼─────────┼──────────────┼───────┼────────┼───────────┼───────────┤\n",
       "│ \u001b[32mChevrolet Chevelle Malibu\u001b[0m │    \u001b[1;36m18.0\u001b[0m │         \u001b[1;36m8\u001b[0m │        \u001b[1;36m307.0\u001b[0m │      \u001b[1;36m130.0\u001b[0m │  \u001b[1;36m3504.0\u001b[0m │         \u001b[1;36m12.0\u001b[0m │    \u001b[1;36m70\u001b[0m │ \u001b[32mUS    \u001b[0m │ \u001b[32mChevrolet\u001b[0m │ \u001b[32mChevelle \u001b[0m │\n",
       "│ \u001b[32mBuick Skylark 320        \u001b[0m │    \u001b[1;36m15.0\u001b[0m │         \u001b[1;36m8\u001b[0m │        \u001b[1;36m350.0\u001b[0m │      \u001b[1;36m165.0\u001b[0m │  \u001b[1;36m3693.0\u001b[0m │         \u001b[1;36m11.5\u001b[0m │    \u001b[1;36m70\u001b[0m │ \u001b[32mUS    \u001b[0m │ \u001b[32mBuick    \u001b[0m │ \u001b[32mSkylark  \u001b[0m │\n",
       "│ \u001b[32mPlymouth Satellite       \u001b[0m │    \u001b[1;36m18.0\u001b[0m │         \u001b[1;36m8\u001b[0m │        \u001b[1;36m318.0\u001b[0m │      \u001b[1;36m150.0\u001b[0m │  \u001b[1;36m3436.0\u001b[0m │         \u001b[1;36m11.0\u001b[0m │    \u001b[1;36m70\u001b[0m │ \u001b[32mUS    \u001b[0m │ \u001b[32mPlymouth \u001b[0m │ \u001b[32mSatellite\u001b[0m │\n",
       "│ \u001b[32mAMC Rebel SST            \u001b[0m │    \u001b[1;36m16.0\u001b[0m │         \u001b[1;36m8\u001b[0m │        \u001b[1;36m304.0\u001b[0m │      \u001b[1;36m150.0\u001b[0m │  \u001b[1;36m3433.0\u001b[0m │         \u001b[1;36m12.0\u001b[0m │    \u001b[1;36m70\u001b[0m │ \u001b[32mUS    \u001b[0m │ \u001b[32mAMC      \u001b[0m │ \u001b[32mRebel    \u001b[0m │\n",
       "│ \u001b[32mFord Torino              \u001b[0m │    \u001b[1;36m17.0\u001b[0m │         \u001b[1;36m8\u001b[0m │        \u001b[1;36m302.0\u001b[0m │      \u001b[1;36m140.0\u001b[0m │  \u001b[1;36m3449.0\u001b[0m │         \u001b[1;36m10.5\u001b[0m │    \u001b[1;36m70\u001b[0m │ \u001b[32mUS    \u001b[0m │ \u001b[32mFord     \u001b[0m │ \u001b[32mTorino   \u001b[0m │\n",
       "└───────────────────────────┴─────────┴───────────┴──────────────┴────────────┴─────────┴──────────────┴───────┴────────┴───────────┴───────────┘"
      ]
     },
     "execution_count": 18,
     "metadata": {},
     "output_type": "execute_result"
    }
   ],
   "source": [
    "cars.head()"
   ]
  },
  {
   "cell_type": "markdown",
   "id": "1dd896ff-ebb3-4bfd-861d-382d94029f9b",
   "metadata": {},
   "source": [
    "or we can use \"method chaining\" syntax to use a single mutate function"
   ]
  },
  {
   "cell_type": "code",
   "execution_count": 19,
   "id": "f9941f38-c0aa-42be-a112-2010dac1c897",
   "metadata": {},
   "outputs": [
    {
     "data": {
      "text/html": [
       "<pre style=\"white-space:pre;overflow-x:auto;line-height:normal;font-family:Menlo,'DejaVu Sans Mono',consolas,'Courier New',monospace\">┏━━━━━━━━━━━━━━━━━━━━━━━━━━━┳━━━━━━━━━┳━━━━━━━━━━━┳━━━━━━━━━━━━━━┳━━━━━━━━━━━━┳━━━━━━━━━┳━━━━━━━━━━━━━━┳━━━━━━━┳━━━━━━━━┳━━━━━━━━━━━┳━━━━━━━━━━━━┓\n",
       "┃<span style=\"font-weight: bold\"> Car                       </span>┃<span style=\"font-weight: bold\"> MPG     </span>┃<span style=\"font-weight: bold\"> Cylinders </span>┃<span style=\"font-weight: bold\"> Displacement </span>┃<span style=\"font-weight: bold\"> Horsepower </span>┃<span style=\"font-weight: bold\"> Weight  </span>┃<span style=\"font-weight: bold\"> Acceleration </span>┃<span style=\"font-weight: bold\"> Model </span>┃<span style=\"font-weight: bold\"> Origin </span>┃<span style=\"font-weight: bold\"> Make      </span>┃<span style=\"font-weight: bold\"> ModelName  </span>┃\n",
       "┡━━━━━━━━━━━━━━━━━━━━━━━━━━━╇━━━━━━━━━╇━━━━━━━━━━━╇━━━━━━━━━━━━━━╇━━━━━━━━━━━━╇━━━━━━━━━╇━━━━━━━━━━━━━━╇━━━━━━━╇━━━━━━━━╇━━━━━━━━━━━╇━━━━━━━━━━━━┩\n",
       "│ <span style=\"color: #7f7f7f; text-decoration-color: #7f7f7f\">string</span>                    │ <span style=\"color: #7f7f7f; text-decoration-color: #7f7f7f\">float64</span> │ <span style=\"color: #7f7f7f; text-decoration-color: #7f7f7f\">int64</span>     │ <span style=\"color: #7f7f7f; text-decoration-color: #7f7f7f\">float64</span>      │ <span style=\"color: #7f7f7f; text-decoration-color: #7f7f7f\">float64</span>    │ <span style=\"color: #7f7f7f; text-decoration-color: #7f7f7f\">float64</span> │ <span style=\"color: #7f7f7f; text-decoration-color: #7f7f7f\">float64</span>      │ <span style=\"color: #7f7f7f; text-decoration-color: #7f7f7f\">int64</span> │ <span style=\"color: #7f7f7f; text-decoration-color: #7f7f7f\">string</span> │ <span style=\"color: #7f7f7f; text-decoration-color: #7f7f7f\">string</span>    │ <span style=\"color: #7f7f7f; text-decoration-color: #7f7f7f\">string</span>     │\n",
       "├───────────────────────────┼─────────┼───────────┼──────────────┼────────────┼─────────┼──────────────┼───────┼────────┼───────────┼────────────┤\n",
       "│ <span style=\"color: #008000; text-decoration-color: #008000\">Chevrolet Chevelle Malibu</span> │    <span style=\"color: #008080; text-decoration-color: #008080; font-weight: bold\">18.0</span> │         <span style=\"color: #008080; text-decoration-color: #008080; font-weight: bold\">8</span> │        <span style=\"color: #008080; text-decoration-color: #008080; font-weight: bold\">307.0</span> │      <span style=\"color: #008080; text-decoration-color: #008080; font-weight: bold\">130.0</span> │  <span style=\"color: #008080; text-decoration-color: #008080; font-weight: bold\">3504.0</span> │         <span style=\"color: #008080; text-decoration-color: #008080; font-weight: bold\">12.0</span> │    <span style=\"color: #008080; text-decoration-color: #008080; font-weight: bold\">70</span> │ <span style=\"color: #008000; text-decoration-color: #008000\">US    </span> │ <span style=\"color: #008000; text-decoration-color: #008000\">Chevrolet</span> │ <span style=\"color: #008000; text-decoration-color: #008000\">Chevelle  </span> │\n",
       "│ <span style=\"color: #008000; text-decoration-color: #008000\">Buick Skylark 320        </span> │    <span style=\"color: #008080; text-decoration-color: #008080; font-weight: bold\">15.0</span> │         <span style=\"color: #008080; text-decoration-color: #008080; font-weight: bold\">8</span> │        <span style=\"color: #008080; text-decoration-color: #008080; font-weight: bold\">350.0</span> │      <span style=\"color: #008080; text-decoration-color: #008080; font-weight: bold\">165.0</span> │  <span style=\"color: #008080; text-decoration-color: #008080; font-weight: bold\">3693.0</span> │         <span style=\"color: #008080; text-decoration-color: #008080; font-weight: bold\">11.5</span> │    <span style=\"color: #008080; text-decoration-color: #008080; font-weight: bold\">70</span> │ <span style=\"color: #008000; text-decoration-color: #008000\">US    </span> │ <span style=\"color: #008000; text-decoration-color: #008000\">Buick    </span> │ <span style=\"color: #008000; text-decoration-color: #008000\">Skylark   </span> │\n",
       "│ <span style=\"color: #008000; text-decoration-color: #008000\">Plymouth Satellite       </span> │    <span style=\"color: #008080; text-decoration-color: #008080; font-weight: bold\">18.0</span> │         <span style=\"color: #008080; text-decoration-color: #008080; font-weight: bold\">8</span> │        <span style=\"color: #008080; text-decoration-color: #008080; font-weight: bold\">318.0</span> │      <span style=\"color: #008080; text-decoration-color: #008080; font-weight: bold\">150.0</span> │  <span style=\"color: #008080; text-decoration-color: #008080; font-weight: bold\">3436.0</span> │         <span style=\"color: #008080; text-decoration-color: #008080; font-weight: bold\">11.0</span> │    <span style=\"color: #008080; text-decoration-color: #008080; font-weight: bold\">70</span> │ <span style=\"color: #008000; text-decoration-color: #008000\">US    </span> │ <span style=\"color: #008000; text-decoration-color: #008000\">Plymouth </span> │ <span style=\"color: #008000; text-decoration-color: #008000\">Satellite </span> │\n",
       "│ <span style=\"color: #008000; text-decoration-color: #008000\">AMC Rebel SST            </span> │    <span style=\"color: #008080; text-decoration-color: #008080; font-weight: bold\">16.0</span> │         <span style=\"color: #008080; text-decoration-color: #008080; font-weight: bold\">8</span> │        <span style=\"color: #008080; text-decoration-color: #008080; font-weight: bold\">304.0</span> │      <span style=\"color: #008080; text-decoration-color: #008080; font-weight: bold\">150.0</span> │  <span style=\"color: #008080; text-decoration-color: #008080; font-weight: bold\">3433.0</span> │         <span style=\"color: #008080; text-decoration-color: #008080; font-weight: bold\">12.0</span> │    <span style=\"color: #008080; text-decoration-color: #008080; font-weight: bold\">70</span> │ <span style=\"color: #008000; text-decoration-color: #008000\">US    </span> │ <span style=\"color: #008000; text-decoration-color: #008000\">AMC      </span> │ <span style=\"color: #008000; text-decoration-color: #008000\">Rebel     </span> │\n",
       "│ <span style=\"color: #008000; text-decoration-color: #008000\">Ford Torino              </span> │    <span style=\"color: #008080; text-decoration-color: #008080; font-weight: bold\">17.0</span> │         <span style=\"color: #008080; text-decoration-color: #008080; font-weight: bold\">8</span> │        <span style=\"color: #008080; text-decoration-color: #008080; font-weight: bold\">302.0</span> │      <span style=\"color: #008080; text-decoration-color: #008080; font-weight: bold\">140.0</span> │  <span style=\"color: #008080; text-decoration-color: #008080; font-weight: bold\">3449.0</span> │         <span style=\"color: #008080; text-decoration-color: #008080; font-weight: bold\">10.5</span> │    <span style=\"color: #008080; text-decoration-color: #008080; font-weight: bold\">70</span> │ <span style=\"color: #008000; text-decoration-color: #008000\">US    </span> │ <span style=\"color: #008000; text-decoration-color: #008000\">Ford     </span> │ <span style=\"color: #008000; text-decoration-color: #008000\">Torino    </span> │\n",
       "│ <span style=\"color: #008000; text-decoration-color: #008000\">Ford Galaxie 500         </span> │    <span style=\"color: #008080; text-decoration-color: #008080; font-weight: bold\">15.0</span> │         <span style=\"color: #008080; text-decoration-color: #008080; font-weight: bold\">8</span> │        <span style=\"color: #008080; text-decoration-color: #008080; font-weight: bold\">429.0</span> │      <span style=\"color: #008080; text-decoration-color: #008080; font-weight: bold\">198.0</span> │  <span style=\"color: #008080; text-decoration-color: #008080; font-weight: bold\">4341.0</span> │         <span style=\"color: #008080; text-decoration-color: #008080; font-weight: bold\">10.0</span> │    <span style=\"color: #008080; text-decoration-color: #008080; font-weight: bold\">70</span> │ <span style=\"color: #008000; text-decoration-color: #008000\">US    </span> │ <span style=\"color: #008000; text-decoration-color: #008000\">Ford     </span> │ <span style=\"color: #008000; text-decoration-color: #008000\">Galaxie   </span> │\n",
       "│ <span style=\"color: #008000; text-decoration-color: #008000\">Chevrolet Impala         </span> │    <span style=\"color: #008080; text-decoration-color: #008080; font-weight: bold\">14.0</span> │         <span style=\"color: #008080; text-decoration-color: #008080; font-weight: bold\">8</span> │        <span style=\"color: #008080; text-decoration-color: #008080; font-weight: bold\">454.0</span> │      <span style=\"color: #008080; text-decoration-color: #008080; font-weight: bold\">220.0</span> │  <span style=\"color: #008080; text-decoration-color: #008080; font-weight: bold\">4354.0</span> │          <span style=\"color: #008080; text-decoration-color: #008080; font-weight: bold\">9.0</span> │    <span style=\"color: #008080; text-decoration-color: #008080; font-weight: bold\">70</span> │ <span style=\"color: #008000; text-decoration-color: #008000\">US    </span> │ <span style=\"color: #008000; text-decoration-color: #008000\">Chevrolet</span> │ <span style=\"color: #008000; text-decoration-color: #008000\">Impala    </span> │\n",
       "│ <span style=\"color: #008000; text-decoration-color: #008000\">Plymouth Fury iii        </span> │    <span style=\"color: #008080; text-decoration-color: #008080; font-weight: bold\">14.0</span> │         <span style=\"color: #008080; text-decoration-color: #008080; font-weight: bold\">8</span> │        <span style=\"color: #008080; text-decoration-color: #008080; font-weight: bold\">440.0</span> │      <span style=\"color: #008080; text-decoration-color: #008080; font-weight: bold\">215.0</span> │  <span style=\"color: #008080; text-decoration-color: #008080; font-weight: bold\">4312.0</span> │          <span style=\"color: #008080; text-decoration-color: #008080; font-weight: bold\">8.5</span> │    <span style=\"color: #008080; text-decoration-color: #008080; font-weight: bold\">70</span> │ <span style=\"color: #008000; text-decoration-color: #008000\">US    </span> │ <span style=\"color: #008000; text-decoration-color: #008000\">Plymouth </span> │ <span style=\"color: #008000; text-decoration-color: #008000\">Fury      </span> │\n",
       "│ <span style=\"color: #008000; text-decoration-color: #008000\">Pontiac Catalina         </span> │    <span style=\"color: #008080; text-decoration-color: #008080; font-weight: bold\">14.0</span> │         <span style=\"color: #008080; text-decoration-color: #008080; font-weight: bold\">8</span> │        <span style=\"color: #008080; text-decoration-color: #008080; font-weight: bold\">455.0</span> │      <span style=\"color: #008080; text-decoration-color: #008080; font-weight: bold\">225.0</span> │  <span style=\"color: #008080; text-decoration-color: #008080; font-weight: bold\">4425.0</span> │         <span style=\"color: #008080; text-decoration-color: #008080; font-weight: bold\">10.0</span> │    <span style=\"color: #008080; text-decoration-color: #008080; font-weight: bold\">70</span> │ <span style=\"color: #008000; text-decoration-color: #008000\">US    </span> │ <span style=\"color: #008000; text-decoration-color: #008000\">Pontiac  </span> │ <span style=\"color: #008000; text-decoration-color: #008000\">Catalina  </span> │\n",
       "│ <span style=\"color: #008000; text-decoration-color: #008000\">AMC Ambassador DPL       </span> │    <span style=\"color: #008080; text-decoration-color: #008080; font-weight: bold\">15.0</span> │         <span style=\"color: #008080; text-decoration-color: #008080; font-weight: bold\">8</span> │        <span style=\"color: #008080; text-decoration-color: #008080; font-weight: bold\">390.0</span> │      <span style=\"color: #008080; text-decoration-color: #008080; font-weight: bold\">190.0</span> │  <span style=\"color: #008080; text-decoration-color: #008080; font-weight: bold\">3850.0</span> │          <span style=\"color: #008080; text-decoration-color: #008080; font-weight: bold\">8.5</span> │    <span style=\"color: #008080; text-decoration-color: #008080; font-weight: bold\">70</span> │ <span style=\"color: #008000; text-decoration-color: #008000\">US    </span> │ <span style=\"color: #008000; text-decoration-color: #008000\">AMC      </span> │ <span style=\"color: #008000; text-decoration-color: #008000\">Ambassador</span> │\n",
       "│ <span style=\"color: #7f7f7f; text-decoration-color: #7f7f7f\">…</span>                         │       <span style=\"color: #7f7f7f; text-decoration-color: #7f7f7f\">…</span> │         <span style=\"color: #7f7f7f; text-decoration-color: #7f7f7f\">…</span> │            <span style=\"color: #7f7f7f; text-decoration-color: #7f7f7f\">…</span> │          <span style=\"color: #7f7f7f; text-decoration-color: #7f7f7f\">…</span> │       <span style=\"color: #7f7f7f; text-decoration-color: #7f7f7f\">…</span> │            <span style=\"color: #7f7f7f; text-decoration-color: #7f7f7f\">…</span> │     <span style=\"color: #7f7f7f; text-decoration-color: #7f7f7f\">…</span> │ <span style=\"color: #7f7f7f; text-decoration-color: #7f7f7f\">…</span>      │ <span style=\"color: #7f7f7f; text-decoration-color: #7f7f7f\">…</span>         │ <span style=\"color: #7f7f7f; text-decoration-color: #7f7f7f\">…</span>          │\n",
       "└───────────────────────────┴─────────┴───────────┴──────────────┴────────────┴─────────┴──────────────┴───────┴────────┴───────────┴────────────┘\n",
       "</pre>\n"
      ],
      "text/plain": [
       "┏━━━━━━━━━━━━━━━━━━━━━━━━━━━┳━━━━━━━━━┳━━━━━━━━━━━┳━━━━━━━━━━━━━━┳━━━━━━━━━━━━┳━━━━━━━━━┳━━━━━━━━━━━━━━┳━━━━━━━┳━━━━━━━━┳━━━━━━━━━━━┳━━━━━━━━━━━━┓\n",
       "┃\u001b[1m \u001b[0m\u001b[1mCar\u001b[0m\u001b[1m                      \u001b[0m\u001b[1m \u001b[0m┃\u001b[1m \u001b[0m\u001b[1mMPG\u001b[0m\u001b[1m    \u001b[0m\u001b[1m \u001b[0m┃\u001b[1m \u001b[0m\u001b[1mCylinders\u001b[0m\u001b[1m \u001b[0m┃\u001b[1m \u001b[0m\u001b[1mDisplacement\u001b[0m\u001b[1m \u001b[0m┃\u001b[1m \u001b[0m\u001b[1mHorsepower\u001b[0m\u001b[1m \u001b[0m┃\u001b[1m \u001b[0m\u001b[1mWeight\u001b[0m\u001b[1m \u001b[0m\u001b[1m \u001b[0m┃\u001b[1m \u001b[0m\u001b[1mAcceleration\u001b[0m\u001b[1m \u001b[0m┃\u001b[1m \u001b[0m\u001b[1mModel\u001b[0m\u001b[1m \u001b[0m┃\u001b[1m \u001b[0m\u001b[1mOrigin\u001b[0m\u001b[1m \u001b[0m┃\u001b[1m \u001b[0m\u001b[1mMake\u001b[0m\u001b[1m     \u001b[0m\u001b[1m \u001b[0m┃\u001b[1m \u001b[0m\u001b[1mModelName\u001b[0m\u001b[1m \u001b[0m\u001b[1m \u001b[0m┃\n",
       "┡━━━━━━━━━━━━━━━━━━━━━━━━━━━╇━━━━━━━━━╇━━━━━━━━━━━╇━━━━━━━━━━━━━━╇━━━━━━━━━━━━╇━━━━━━━━━╇━━━━━━━━━━━━━━╇━━━━━━━╇━━━━━━━━╇━━━━━━━━━━━╇━━━━━━━━━━━━┩\n",
       "│ \u001b[2mstring\u001b[0m                    │ \u001b[2mfloat64\u001b[0m │ \u001b[2mint64\u001b[0m     │ \u001b[2mfloat64\u001b[0m      │ \u001b[2mfloat64\u001b[0m    │ \u001b[2mfloat64\u001b[0m │ \u001b[2mfloat64\u001b[0m      │ \u001b[2mint64\u001b[0m │ \u001b[2mstring\u001b[0m │ \u001b[2mstring\u001b[0m    │ \u001b[2mstring\u001b[0m     │\n",
       "├───────────────────────────┼─────────┼───────────┼──────────────┼────────────┼─────────┼──────────────┼───────┼────────┼───────────┼────────────┤\n",
       "│ \u001b[32mChevrolet Chevelle Malibu\u001b[0m │    \u001b[1;36m18.0\u001b[0m │         \u001b[1;36m8\u001b[0m │        \u001b[1;36m307.0\u001b[0m │      \u001b[1;36m130.0\u001b[0m │  \u001b[1;36m3504.0\u001b[0m │         \u001b[1;36m12.0\u001b[0m │    \u001b[1;36m70\u001b[0m │ \u001b[32mUS    \u001b[0m │ \u001b[32mChevrolet\u001b[0m │ \u001b[32mChevelle  \u001b[0m │\n",
       "│ \u001b[32mBuick Skylark 320        \u001b[0m │    \u001b[1;36m15.0\u001b[0m │         \u001b[1;36m8\u001b[0m │        \u001b[1;36m350.0\u001b[0m │      \u001b[1;36m165.0\u001b[0m │  \u001b[1;36m3693.0\u001b[0m │         \u001b[1;36m11.5\u001b[0m │    \u001b[1;36m70\u001b[0m │ \u001b[32mUS    \u001b[0m │ \u001b[32mBuick    \u001b[0m │ \u001b[32mSkylark   \u001b[0m │\n",
       "│ \u001b[32mPlymouth Satellite       \u001b[0m │    \u001b[1;36m18.0\u001b[0m │         \u001b[1;36m8\u001b[0m │        \u001b[1;36m318.0\u001b[0m │      \u001b[1;36m150.0\u001b[0m │  \u001b[1;36m3436.0\u001b[0m │         \u001b[1;36m11.0\u001b[0m │    \u001b[1;36m70\u001b[0m │ \u001b[32mUS    \u001b[0m │ \u001b[32mPlymouth \u001b[0m │ \u001b[32mSatellite \u001b[0m │\n",
       "│ \u001b[32mAMC Rebel SST            \u001b[0m │    \u001b[1;36m16.0\u001b[0m │         \u001b[1;36m8\u001b[0m │        \u001b[1;36m304.0\u001b[0m │      \u001b[1;36m150.0\u001b[0m │  \u001b[1;36m3433.0\u001b[0m │         \u001b[1;36m12.0\u001b[0m │    \u001b[1;36m70\u001b[0m │ \u001b[32mUS    \u001b[0m │ \u001b[32mAMC      \u001b[0m │ \u001b[32mRebel     \u001b[0m │\n",
       "│ \u001b[32mFord Torino              \u001b[0m │    \u001b[1;36m17.0\u001b[0m │         \u001b[1;36m8\u001b[0m │        \u001b[1;36m302.0\u001b[0m │      \u001b[1;36m140.0\u001b[0m │  \u001b[1;36m3449.0\u001b[0m │         \u001b[1;36m10.5\u001b[0m │    \u001b[1;36m70\u001b[0m │ \u001b[32mUS    \u001b[0m │ \u001b[32mFord     \u001b[0m │ \u001b[32mTorino    \u001b[0m │\n",
       "│ \u001b[32mFord Galaxie 500         \u001b[0m │    \u001b[1;36m15.0\u001b[0m │         \u001b[1;36m8\u001b[0m │        \u001b[1;36m429.0\u001b[0m │      \u001b[1;36m198.0\u001b[0m │  \u001b[1;36m4341.0\u001b[0m │         \u001b[1;36m10.0\u001b[0m │    \u001b[1;36m70\u001b[0m │ \u001b[32mUS    \u001b[0m │ \u001b[32mFord     \u001b[0m │ \u001b[32mGalaxie   \u001b[0m │\n",
       "│ \u001b[32mChevrolet Impala         \u001b[0m │    \u001b[1;36m14.0\u001b[0m │         \u001b[1;36m8\u001b[0m │        \u001b[1;36m454.0\u001b[0m │      \u001b[1;36m220.0\u001b[0m │  \u001b[1;36m4354.0\u001b[0m │          \u001b[1;36m9.0\u001b[0m │    \u001b[1;36m70\u001b[0m │ \u001b[32mUS    \u001b[0m │ \u001b[32mChevrolet\u001b[0m │ \u001b[32mImpala    \u001b[0m │\n",
       "│ \u001b[32mPlymouth Fury iii        \u001b[0m │    \u001b[1;36m14.0\u001b[0m │         \u001b[1;36m8\u001b[0m │        \u001b[1;36m440.0\u001b[0m │      \u001b[1;36m215.0\u001b[0m │  \u001b[1;36m4312.0\u001b[0m │          \u001b[1;36m8.5\u001b[0m │    \u001b[1;36m70\u001b[0m │ \u001b[32mUS    \u001b[0m │ \u001b[32mPlymouth \u001b[0m │ \u001b[32mFury      \u001b[0m │\n",
       "│ \u001b[32mPontiac Catalina         \u001b[0m │    \u001b[1;36m14.0\u001b[0m │         \u001b[1;36m8\u001b[0m │        \u001b[1;36m455.0\u001b[0m │      \u001b[1;36m225.0\u001b[0m │  \u001b[1;36m4425.0\u001b[0m │         \u001b[1;36m10.0\u001b[0m │    \u001b[1;36m70\u001b[0m │ \u001b[32mUS    \u001b[0m │ \u001b[32mPontiac  \u001b[0m │ \u001b[32mCatalina  \u001b[0m │\n",
       "│ \u001b[32mAMC Ambassador DPL       \u001b[0m │    \u001b[1;36m15.0\u001b[0m │         \u001b[1;36m8\u001b[0m │        \u001b[1;36m390.0\u001b[0m │      \u001b[1;36m190.0\u001b[0m │  \u001b[1;36m3850.0\u001b[0m │          \u001b[1;36m8.5\u001b[0m │    \u001b[1;36m70\u001b[0m │ \u001b[32mUS    \u001b[0m │ \u001b[32mAMC      \u001b[0m │ \u001b[32mAmbassador\u001b[0m │\n",
       "│ \u001b[2m…\u001b[0m                         │       \u001b[2m…\u001b[0m │         \u001b[2m…\u001b[0m │            \u001b[2m…\u001b[0m │          \u001b[2m…\u001b[0m │       \u001b[2m…\u001b[0m │            \u001b[2m…\u001b[0m │     \u001b[2m…\u001b[0m │ \u001b[2m…\u001b[0m      │ \u001b[2m…\u001b[0m         │ \u001b[2m…\u001b[0m          │\n",
       "└───────────────────────────┴─────────┴───────────┴──────────────┴────────────┴─────────┴──────────────┴───────┴────────┴───────────┴────────────┘"
      ]
     },
     "execution_count": 19,
     "metadata": {},
     "output_type": "execute_result"
    }
   ],
   "source": [
    "cars.mutate(\n",
    "    Make=cars.Car.split(' ')[0],\n",
    "    ModelName=cars.Car.split(' ')[1]\n",
    ")"
   ]
  },
  {
   "cell_type": "markdown",
   "id": "29cf9e41-9437-4cba-96af-6db0c898c6aa",
   "metadata": {},
   "source": [
    "<a id=\"case\">"
   ]
  },
  {
   "cell_type": "markdown",
   "id": "3ac4f01a-4853-421b-9334-98cc02652fd7",
   "metadata": {},
   "source": [
    "## Creating new column using CASE statements"
   ]
  },
  {
   "cell_type": "markdown",
   "id": "7a0cac70-33e1-46bc-9660-562c49ebe633",
   "metadata": {},
   "source": [
    "[[back to top]](#back_to_top)"
   ]
  },
  {
   "cell_type": "code",
   "execution_count": 20,
   "id": "fba99bc8-9e21-46ee-8604-64b4783127ff",
   "metadata": {
    "tags": []
   },
   "outputs": [],
   "source": [
    "foods = client.read_csv('./data/food.csv')"
   ]
  },
  {
   "cell_type": "code",
   "execution_count": 21,
   "id": "c1a66ff6-7062-4ab5-a5a5-a9b86b3d4b0d",
   "metadata": {
    "tags": []
   },
   "outputs": [
    {
     "data": {
      "text/html": [
       "<pre style=\"white-space:pre;overflow-x:auto;line-height:normal;font-family:Menlo,'DejaVu Sans Mono',consolas,'Courier New',monospace\">┏━━━━━━━━━━━━━┳━━━━━━━━━┓\n",
       "┃<span style=\"font-weight: bold\"> food        </span>┃<span style=\"font-weight: bold\"> ounces  </span>┃\n",
       "┡━━━━━━━━━━━━━╇━━━━━━━━━┩\n",
       "│ <span style=\"color: #7f7f7f; text-decoration-color: #7f7f7f\">string</span>      │ <span style=\"color: #7f7f7f; text-decoration-color: #7f7f7f\">float64</span> │\n",
       "├─────────────┼─────────┤\n",
       "│ <span style=\"color: #008000; text-decoration-color: #008000\">bacon      </span> │     <span style=\"color: #008080; text-decoration-color: #008080; font-weight: bold\">4.0</span> │\n",
       "│ <span style=\"color: #008000; text-decoration-color: #008000\">pulled pork</span> │     <span style=\"color: #008080; text-decoration-color: #008080; font-weight: bold\">3.0</span> │\n",
       "│ <span style=\"color: #008000; text-decoration-color: #008000\">bacon      </span> │    <span style=\"color: #008080; text-decoration-color: #008080; font-weight: bold\">12.0</span> │\n",
       "│ <span style=\"color: #008000; text-decoration-color: #008000\">pastrami   </span> │     <span style=\"color: #008080; text-decoration-color: #008080; font-weight: bold\">6.0</span> │\n",
       "│ <span style=\"color: #008000; text-decoration-color: #008000\">corned beef</span> │     <span style=\"color: #008080; text-decoration-color: #008080; font-weight: bold\">7.5</span> │\n",
       "│ <span style=\"color: #008000; text-decoration-color: #008000\">bacon      </span> │     <span style=\"color: #008080; text-decoration-color: #008080; font-weight: bold\">8.0</span> │\n",
       "│ <span style=\"color: #008000; text-decoration-color: #008000\">pastrami   </span> │     <span style=\"color: #008080; text-decoration-color: #008080; font-weight: bold\">3.0</span> │\n",
       "│ <span style=\"color: #008000; text-decoration-color: #008000\">honey ham  </span> │     <span style=\"color: #008080; text-decoration-color: #008080; font-weight: bold\">5.0</span> │\n",
       "│ <span style=\"color: #008000; text-decoration-color: #008000\">nova lox   </span> │     <span style=\"color: #008080; text-decoration-color: #008080; font-weight: bold\">6.0</span> │\n",
       "└─────────────┴─────────┘\n",
       "</pre>\n"
      ],
      "text/plain": [
       "┏━━━━━━━━━━━━━┳━━━━━━━━━┓\n",
       "┃\u001b[1m \u001b[0m\u001b[1mfood\u001b[0m\u001b[1m       \u001b[0m\u001b[1m \u001b[0m┃\u001b[1m \u001b[0m\u001b[1mounces\u001b[0m\u001b[1m \u001b[0m\u001b[1m \u001b[0m┃\n",
       "┡━━━━━━━━━━━━━╇━━━━━━━━━┩\n",
       "│ \u001b[2mstring\u001b[0m      │ \u001b[2mfloat64\u001b[0m │\n",
       "├─────────────┼─────────┤\n",
       "│ \u001b[32mbacon      \u001b[0m │     \u001b[1;36m4.0\u001b[0m │\n",
       "│ \u001b[32mpulled pork\u001b[0m │     \u001b[1;36m3.0\u001b[0m │\n",
       "│ \u001b[32mbacon      \u001b[0m │    \u001b[1;36m12.0\u001b[0m │\n",
       "│ \u001b[32mpastrami   \u001b[0m │     \u001b[1;36m6.0\u001b[0m │\n",
       "│ \u001b[32mcorned beef\u001b[0m │     \u001b[1;36m7.5\u001b[0m │\n",
       "│ \u001b[32mbacon      \u001b[0m │     \u001b[1;36m8.0\u001b[0m │\n",
       "│ \u001b[32mpastrami   \u001b[0m │     \u001b[1;36m3.0\u001b[0m │\n",
       "│ \u001b[32mhoney ham  \u001b[0m │     \u001b[1;36m5.0\u001b[0m │\n",
       "│ \u001b[32mnova lox   \u001b[0m │     \u001b[1;36m6.0\u001b[0m │\n",
       "└─────────────┴─────────┘"
      ]
     },
     "execution_count": 21,
     "metadata": {},
     "output_type": "execute_result"
    }
   ],
   "source": [
    "foods"
   ]
  },
  {
   "cell_type": "code",
   "execution_count": 22,
   "id": "03d5fed7-391d-4e61-a024-40a4a0545359",
   "metadata": {
    "tags": []
   },
   "outputs": [],
   "source": [
    "case = (\n",
    "    foods.food\n",
    "    .case()\n",
    "    .when('bacon', 'pig')\n",
    "    .when('pulled pork', 'pig')\n",
    "    .when('pastrami', 'cow')\n",
    "    .when('corned beef', 'cow')\n",
    "    .when('honey ham', 'pig')\n",
    "    .else_('salmon')\n",
    "    .end()\n",
    ")\n",
    "\n",
    "foods = foods.mutate(animal=case)"
   ]
  },
  {
   "cell_type": "code",
   "execution_count": 23,
   "id": "a4e3a561-e41e-4665-b226-c414a4472854",
   "metadata": {
    "tags": []
   },
   "outputs": [
    {
     "data": {
      "text/html": [
       "<pre style=\"white-space:pre;overflow-x:auto;line-height:normal;font-family:Menlo,'DejaVu Sans Mono',consolas,'Courier New',monospace\">┏━━━━━━━━━━━━━┳━━━━━━━━━┳━━━━━━━━┓\n",
       "┃<span style=\"font-weight: bold\"> food        </span>┃<span style=\"font-weight: bold\"> ounces  </span>┃<span style=\"font-weight: bold\"> animal </span>┃\n",
       "┡━━━━━━━━━━━━━╇━━━━━━━━━╇━━━━━━━━┩\n",
       "│ <span style=\"color: #7f7f7f; text-decoration-color: #7f7f7f\">string</span>      │ <span style=\"color: #7f7f7f; text-decoration-color: #7f7f7f\">float64</span> │ <span style=\"color: #7f7f7f; text-decoration-color: #7f7f7f\">string</span> │\n",
       "├─────────────┼─────────┼────────┤\n",
       "│ <span style=\"color: #008000; text-decoration-color: #008000\">bacon      </span> │     <span style=\"color: #008080; text-decoration-color: #008080; font-weight: bold\">4.0</span> │ <span style=\"color: #008000; text-decoration-color: #008000\">pig   </span> │\n",
       "│ <span style=\"color: #008000; text-decoration-color: #008000\">pulled pork</span> │     <span style=\"color: #008080; text-decoration-color: #008080; font-weight: bold\">3.0</span> │ <span style=\"color: #008000; text-decoration-color: #008000\">pig   </span> │\n",
       "│ <span style=\"color: #008000; text-decoration-color: #008000\">bacon      </span> │    <span style=\"color: #008080; text-decoration-color: #008080; font-weight: bold\">12.0</span> │ <span style=\"color: #008000; text-decoration-color: #008000\">pig   </span> │\n",
       "│ <span style=\"color: #008000; text-decoration-color: #008000\">pastrami   </span> │     <span style=\"color: #008080; text-decoration-color: #008080; font-weight: bold\">6.0</span> │ <span style=\"color: #008000; text-decoration-color: #008000\">cow   </span> │\n",
       "│ <span style=\"color: #008000; text-decoration-color: #008000\">corned beef</span> │     <span style=\"color: #008080; text-decoration-color: #008080; font-weight: bold\">7.5</span> │ <span style=\"color: #008000; text-decoration-color: #008000\">cow   </span> │\n",
       "│ <span style=\"color: #008000; text-decoration-color: #008000\">bacon      </span> │     <span style=\"color: #008080; text-decoration-color: #008080; font-weight: bold\">8.0</span> │ <span style=\"color: #008000; text-decoration-color: #008000\">pig   </span> │\n",
       "│ <span style=\"color: #008000; text-decoration-color: #008000\">pastrami   </span> │     <span style=\"color: #008080; text-decoration-color: #008080; font-weight: bold\">3.0</span> │ <span style=\"color: #008000; text-decoration-color: #008000\">cow   </span> │\n",
       "│ <span style=\"color: #008000; text-decoration-color: #008000\">honey ham  </span> │     <span style=\"color: #008080; text-decoration-color: #008080; font-weight: bold\">5.0</span> │ <span style=\"color: #008000; text-decoration-color: #008000\">pig   </span> │\n",
       "│ <span style=\"color: #008000; text-decoration-color: #008000\">nova lox   </span> │     <span style=\"color: #008080; text-decoration-color: #008080; font-weight: bold\">6.0</span> │ <span style=\"color: #008000; text-decoration-color: #008000\">salmon</span> │\n",
       "└─────────────┴─────────┴────────┘\n",
       "</pre>\n"
      ],
      "text/plain": [
       "┏━━━━━━━━━━━━━┳━━━━━━━━━┳━━━━━━━━┓\n",
       "┃\u001b[1m \u001b[0m\u001b[1mfood\u001b[0m\u001b[1m       \u001b[0m\u001b[1m \u001b[0m┃\u001b[1m \u001b[0m\u001b[1mounces\u001b[0m\u001b[1m \u001b[0m\u001b[1m \u001b[0m┃\u001b[1m \u001b[0m\u001b[1manimal\u001b[0m\u001b[1m \u001b[0m┃\n",
       "┡━━━━━━━━━━━━━╇━━━━━━━━━╇━━━━━━━━┩\n",
       "│ \u001b[2mstring\u001b[0m      │ \u001b[2mfloat64\u001b[0m │ \u001b[2mstring\u001b[0m │\n",
       "├─────────────┼─────────┼────────┤\n",
       "│ \u001b[32mbacon      \u001b[0m │     \u001b[1;36m4.0\u001b[0m │ \u001b[32mpig   \u001b[0m │\n",
       "│ \u001b[32mpulled pork\u001b[0m │     \u001b[1;36m3.0\u001b[0m │ \u001b[32mpig   \u001b[0m │\n",
       "│ \u001b[32mbacon      \u001b[0m │    \u001b[1;36m12.0\u001b[0m │ \u001b[32mpig   \u001b[0m │\n",
       "│ \u001b[32mpastrami   \u001b[0m │     \u001b[1;36m6.0\u001b[0m │ \u001b[32mcow   \u001b[0m │\n",
       "│ \u001b[32mcorned beef\u001b[0m │     \u001b[1;36m7.5\u001b[0m │ \u001b[32mcow   \u001b[0m │\n",
       "│ \u001b[32mbacon      \u001b[0m │     \u001b[1;36m8.0\u001b[0m │ \u001b[32mpig   \u001b[0m │\n",
       "│ \u001b[32mpastrami   \u001b[0m │     \u001b[1;36m3.0\u001b[0m │ \u001b[32mcow   \u001b[0m │\n",
       "│ \u001b[32mhoney ham  \u001b[0m │     \u001b[1;36m5.0\u001b[0m │ \u001b[32mpig   \u001b[0m │\n",
       "│ \u001b[32mnova lox   \u001b[0m │     \u001b[1;36m6.0\u001b[0m │ \u001b[32msalmon\u001b[0m │\n",
       "└─────────────┴─────────┴────────┘"
      ]
     },
     "execution_count": 23,
     "metadata": {},
     "output_type": "execute_result"
    }
   ],
   "source": [
    "foods"
   ]
  },
  {
   "cell_type": "markdown",
   "id": "57ba2e4c-ca55-4d32-9bc9-8ba4b648f75c",
   "metadata": {},
   "source": [
    "<a id=\"aggregations\">"
   ]
  },
  {
   "cell_type": "markdown",
   "id": "1e162e2b-a08e-4b1a-a150-86011e4b1a4b",
   "metadata": {},
   "source": [
    "## Aggregations / Summarizations"
   ]
  },
  {
   "cell_type": "markdown",
   "id": "9a2cb111-b6d8-47fe-8f8c-57e416c02ba9",
   "metadata": {},
   "source": [
    "[[back to top]](#back_to_top)"
   ]
  },
  {
   "cell_type": "code",
   "execution_count": 24,
   "id": "75fde7ae-d235-4e61-b35b-51ad4ff0a27f",
   "metadata": {},
   "outputs": [
    {
     "data": {
      "text/html": [
       "<pre style=\"white-space:pre;overflow-x:auto;line-height:normal;font-family:Menlo,'DejaVu Sans Mono',consolas,'Courier New',monospace\"></pre>\n"
      ],
      "text/plain": []
     },
     "metadata": {},
     "output_type": "display_data"
    },
    {
     "data": {
      "text/plain": [
       "\u001b[1;36m46.6\u001b[0m"
      ]
     },
     "execution_count": 24,
     "metadata": {},
     "output_type": "execute_result"
    }
   ],
   "source": [
    "cars.MPG.max()"
   ]
  },
  {
   "cell_type": "code",
   "execution_count": 25,
   "id": "a3b8e22e-5ed3-4b85-9732-dca1b097ccb7",
   "metadata": {},
   "outputs": [
    {
     "data": {
      "text/html": [
       "<pre style=\"white-space:pre;overflow-x:auto;line-height:normal;font-family:Menlo,'DejaVu Sans Mono',consolas,'Courier New',monospace\"></pre>\n"
      ],
      "text/plain": []
     },
     "metadata": {},
     "output_type": "display_data"
    },
    {
     "data": {
      "text/plain": [
       "\u001b[1;36m46.6\u001b[0m"
      ]
     },
     "execution_count": 25,
     "metadata": {},
     "output_type": "execute_result"
    }
   ],
   "source": [
    "cars['MPG'].max()"
   ]
  },
  {
   "cell_type": "markdown",
   "id": "361c0619-eb2c-4e0b-ac07-9dfbb006dcfb",
   "metadata": {},
   "source": [
    "It may be surprising that you can't perform min, max, etc after doing a `select()`"
   ]
  },
  {
   "cell_type": "code",
   "execution_count": 26,
   "id": "e4856758-9a91-49cb-9873-018d45eb071b",
   "metadata": {},
   "outputs": [
    {
     "ename": "AttributeError",
     "evalue": "'Table' object has no attribute 'max'",
     "output_type": "error",
     "traceback": [
      "\u001b[1;31m---------------------------------------------------------------------------\u001b[0m",
      "\u001b[1;31mAttributeError\u001b[0m                            Traceback (most recent call last)",
      "Cell \u001b[1;32mIn[26], line 1\u001b[0m\n\u001b[1;32m----> 1\u001b[0m \u001b[43mcars\u001b[49m\u001b[38;5;241;43m.\u001b[39;49m\u001b[43mselect\u001b[49m\u001b[43m(\u001b[49m\u001b[38;5;124;43m'\u001b[39;49m\u001b[38;5;124;43mMPG\u001b[39;49m\u001b[38;5;124;43m'\u001b[39;49m\u001b[43m)\u001b[49m\u001b[38;5;241;43m.\u001b[39;49m\u001b[43mmax\u001b[49m()\n",
      "File \u001b[1;32m~\\envs\\sql_dev\\Lib\\site-packages\\ibis\\expr\\types\\relations.py:695\u001b[0m, in \u001b[0;36mTable.__getattr__\u001b[1;34m(self, key)\u001b[0m\n\u001b[0;32m    691\u001b[0m     hint \u001b[38;5;241m=\u001b[39m common_typos[key]\n\u001b[0;32m    692\u001b[0m     \u001b[38;5;28;01mraise\u001b[39;00m \u001b[38;5;167;01mAttributeError\u001b[39;00m(\n\u001b[0;32m    693\u001b[0m         \u001b[38;5;124mf\u001b[39m\u001b[38;5;124m\"\u001b[39m\u001b[38;5;132;01m{\u001b[39;00m\u001b[38;5;28mtype\u001b[39m(\u001b[38;5;28mself\u001b[39m)\u001b[38;5;241m.\u001b[39m\u001b[38;5;18m__name__\u001b[39m\u001b[38;5;132;01m}\u001b[39;00m\u001b[38;5;124m object has no attribute \u001b[39m\u001b[38;5;132;01m{\u001b[39;00mkey\u001b[38;5;132;01m!r}\u001b[39;00m\u001b[38;5;124m, did you mean \u001b[39m\u001b[38;5;132;01m{\u001b[39;00mhint\u001b[38;5;132;01m!r}\u001b[39;00m\u001b[38;5;124m\"\u001b[39m\n\u001b[0;32m    694\u001b[0m     )\n\u001b[1;32m--> 695\u001b[0m \u001b[38;5;28;01mraise\u001b[39;00m \u001b[38;5;167;01mAttributeError\u001b[39;00m(\u001b[38;5;124mf\u001b[39m\u001b[38;5;124m\"\u001b[39m\u001b[38;5;124m'\u001b[39m\u001b[38;5;124mTable\u001b[39m\u001b[38;5;124m'\u001b[39m\u001b[38;5;124m object has no attribute \u001b[39m\u001b[38;5;132;01m{\u001b[39;00mkey\u001b[38;5;132;01m!r}\u001b[39;00m\u001b[38;5;124m\"\u001b[39m)\n",
      "\u001b[1;31mAttributeError\u001b[0m: 'Table' object has no attribute 'max'"
     ]
    }
   ],
   "source": [
    "cars.select('MPG').max()"
   ]
  },
  {
   "cell_type": "markdown",
   "id": "4c6422e6-302a-4f17-b8fe-c5ed50432cbc",
   "metadata": {},
   "source": [
    "**GOAL:** By country of origin, calculate min mpg, max mpg, and avg mpg."
   ]
  },
  {
   "cell_type": "markdown",
   "id": "1fa6fe5b-4516-41cf-a38f-c3a463b37db8",
   "metadata": {},
   "source": [
    "**NOTE:** If you want to group by more than one column, need to pass in a list of column names"
   ]
  },
  {
   "cell_type": "code",
   "execution_count": 27,
   "id": "81a89acd-4ee4-4c14-bff7-37f8f7a4d1d0",
   "metadata": {
    "tags": []
   },
   "outputs": [
    {
     "data": {
      "text/html": [
       "<pre style=\"white-space:pre;overflow-x:auto;line-height:normal;font-family:Menlo,'DejaVu Sans Mono',consolas,'Courier New',monospace\">┏━━━━━━━━┳━━━━━━━━━┳━━━━━━━━━┳━━━━━━━━━━━┓\n",
       "┃<span style=\"font-weight: bold\"> Origin </span>┃<span style=\"font-weight: bold\"> min_mpg </span>┃<span style=\"font-weight: bold\"> max_mpg </span>┃<span style=\"font-weight: bold\"> avg_mpg   </span>┃\n",
       "┡━━━━━━━━╇━━━━━━━━━╇━━━━━━━━━╇━━━━━━━━━━━┩\n",
       "│ <span style=\"color: #7f7f7f; text-decoration-color: #7f7f7f\">string</span> │ <span style=\"color: #7f7f7f; text-decoration-color: #7f7f7f\">float64</span> │ <span style=\"color: #7f7f7f; text-decoration-color: #7f7f7f\">float64</span> │ <span style=\"color: #7f7f7f; text-decoration-color: #7f7f7f\">float64</span>   │\n",
       "├────────┼─────────┼─────────┼───────────┤\n",
       "│ <span style=\"color: #008000; text-decoration-color: #008000\">Japan </span> │    <span style=\"color: #008080; text-decoration-color: #008080; font-weight: bold\">18.0</span> │    <span style=\"color: #008080; text-decoration-color: #008080; font-weight: bold\">46.6</span> │ <span style=\"color: #008080; text-decoration-color: #008080; font-weight: bold\">30.450633</span> │\n",
       "│ <span style=\"color: #008000; text-decoration-color: #008000\">US    </span> │     <span style=\"color: #008080; text-decoration-color: #008080; font-weight: bold\">0.0</span> │    <span style=\"color: #008080; text-decoration-color: #008080; font-weight: bold\">39.0</span> │ <span style=\"color: #008080; text-decoration-color: #008080; font-weight: bold\">19.688189</span> │\n",
       "│ <span style=\"color: #008000; text-decoration-color: #008000\">Europe</span> │     <span style=\"color: #008080; text-decoration-color: #008080; font-weight: bold\">0.0</span> │    <span style=\"color: #008080; text-decoration-color: #008080; font-weight: bold\">44.3</span> │ <span style=\"color: #008080; text-decoration-color: #008080; font-weight: bold\">26.745205</span> │\n",
       "└────────┴─────────┴─────────┴───────────┘\n",
       "</pre>\n"
      ],
      "text/plain": [
       "┏━━━━━━━━┳━━━━━━━━━┳━━━━━━━━━┳━━━━━━━━━━━┓\n",
       "┃\u001b[1m \u001b[0m\u001b[1mOrigin\u001b[0m\u001b[1m \u001b[0m┃\u001b[1m \u001b[0m\u001b[1mmin_mpg\u001b[0m\u001b[1m \u001b[0m┃\u001b[1m \u001b[0m\u001b[1mmax_mpg\u001b[0m\u001b[1m \u001b[0m┃\u001b[1m \u001b[0m\u001b[1mavg_mpg\u001b[0m\u001b[1m  \u001b[0m\u001b[1m \u001b[0m┃\n",
       "┡━━━━━━━━╇━━━━━━━━━╇━━━━━━━━━╇━━━━━━━━━━━┩\n",
       "│ \u001b[2mstring\u001b[0m │ \u001b[2mfloat64\u001b[0m │ \u001b[2mfloat64\u001b[0m │ \u001b[2mfloat64\u001b[0m   │\n",
       "├────────┼─────────┼─────────┼───────────┤\n",
       "│ \u001b[32mJapan \u001b[0m │    \u001b[1;36m18.0\u001b[0m │    \u001b[1;36m46.6\u001b[0m │ \u001b[1;36m30.450633\u001b[0m │\n",
       "│ \u001b[32mUS    \u001b[0m │     \u001b[1;36m0.0\u001b[0m │    \u001b[1;36m39.0\u001b[0m │ \u001b[1;36m19.688189\u001b[0m │\n",
       "│ \u001b[32mEurope\u001b[0m │     \u001b[1;36m0.0\u001b[0m │    \u001b[1;36m44.3\u001b[0m │ \u001b[1;36m26.745205\u001b[0m │\n",
       "└────────┴─────────┴─────────┴───────────┘"
      ]
     },
     "execution_count": 27,
     "metadata": {},
     "output_type": "execute_result"
    }
   ],
   "source": [
    "agged = cars.group_by('Origin').aggregate(\n",
    "    min_mpg=cars['MPG'].min(),\n",
    "    max_mpg=cars['MPG'].max(),\n",
    "    avg_mpg=cars['MPG'].mean(),\n",
    ")\n",
    "agged"
   ]
  },
  {
   "cell_type": "markdown",
   "id": "874906db-5448-44d8-89ae-ddeb0829b560",
   "metadata": {},
   "source": [
    "<a id=\"renaming\">"
   ]
  },
  {
   "cell_type": "markdown",
   "id": "6638fa7e-018a-4301-9b83-e03f71d676ab",
   "metadata": {},
   "source": [
    "## Renaming column names"
   ]
  },
  {
   "cell_type": "markdown",
   "id": "c6c40930-9bb3-49e0-9deb-e9243f9c14a8",
   "metadata": {},
   "source": [
    "[[back to top]](#back_to_top)"
   ]
  },
  {
   "cell_type": "markdown",
   "id": "56392bd8-d357-4d74-b082-d2bc8742aa47",
   "metadata": {},
   "source": [
    "In case you want to rename the columns:"
   ]
  },
  {
   "cell_type": "code",
   "execution_count": 28,
   "id": "adda2bbf-94ea-47b2-99e0-efe40d3e63a6",
   "metadata": {},
   "outputs": [
    {
     "data": {
      "text/html": [
       "<pre style=\"white-space:pre;overflow-x:auto;line-height:normal;font-family:Menlo,'DejaVu Sans Mono',consolas,'Courier New',monospace\">┏━━━━━━━━┳━━━━━━━━━━━━━━━━━━━━━━┳━━━━━━━━━━━━━━━━━━━━━━┳━━━━━━━━━━━━━━━━━━━━━━┓\n",
       "┃<span style=\"font-weight: bold\"> Origin </span>┃<span style=\"font-weight: bold\"> min_miles_per_gallon </span>┃<span style=\"font-weight: bold\"> max_miles_per_gallon </span>┃<span style=\"font-weight: bold\"> avg_miles_per_gallon </span>┃\n",
       "┡━━━━━━━━╇━━━━━━━━━━━━━━━━━━━━━━╇━━━━━━━━━━━━━━━━━━━━━━╇━━━━━━━━━━━━━━━━━━━━━━┩\n",
       "│ <span style=\"color: #7f7f7f; text-decoration-color: #7f7f7f\">string</span> │ <span style=\"color: #7f7f7f; text-decoration-color: #7f7f7f\">float64</span>              │ <span style=\"color: #7f7f7f; text-decoration-color: #7f7f7f\">float64</span>              │ <span style=\"color: #7f7f7f; text-decoration-color: #7f7f7f\">float64</span>              │\n",
       "├────────┼──────────────────────┼──────────────────────┼──────────────────────┤\n",
       "│ <span style=\"color: #008000; text-decoration-color: #008000\">US    </span> │                  <span style=\"color: #008080; text-decoration-color: #008080; font-weight: bold\">0.0</span> │                 <span style=\"color: #008080; text-decoration-color: #008080; font-weight: bold\">39.0</span> │            <span style=\"color: #008080; text-decoration-color: #008080; font-weight: bold\">19.688189</span> │\n",
       "│ <span style=\"color: #008000; text-decoration-color: #008000\">Europe</span> │                  <span style=\"color: #008080; text-decoration-color: #008080; font-weight: bold\">0.0</span> │                 <span style=\"color: #008080; text-decoration-color: #008080; font-weight: bold\">44.3</span> │            <span style=\"color: #008080; text-decoration-color: #008080; font-weight: bold\">26.745205</span> │\n",
       "│ <span style=\"color: #008000; text-decoration-color: #008000\">Japan </span> │                 <span style=\"color: #008080; text-decoration-color: #008080; font-weight: bold\">18.0</span> │                 <span style=\"color: #008080; text-decoration-color: #008080; font-weight: bold\">46.6</span> │            <span style=\"color: #008080; text-decoration-color: #008080; font-weight: bold\">30.450633</span> │\n",
       "└────────┴──────────────────────┴──────────────────────┴──────────────────────┘\n",
       "</pre>\n"
      ],
      "text/plain": [
       "┏━━━━━━━━┳━━━━━━━━━━━━━━━━━━━━━━┳━━━━━━━━━━━━━━━━━━━━━━┳━━━━━━━━━━━━━━━━━━━━━━┓\n",
       "┃\u001b[1m \u001b[0m\u001b[1mOrigin\u001b[0m\u001b[1m \u001b[0m┃\u001b[1m \u001b[0m\u001b[1mmin_miles_per_gallon\u001b[0m\u001b[1m \u001b[0m┃\u001b[1m \u001b[0m\u001b[1mmax_miles_per_gallon\u001b[0m\u001b[1m \u001b[0m┃\u001b[1m \u001b[0m\u001b[1mavg_miles_per_gallon\u001b[0m\u001b[1m \u001b[0m┃\n",
       "┡━━━━━━━━╇━━━━━━━━━━━━━━━━━━━━━━╇━━━━━━━━━━━━━━━━━━━━━━╇━━━━━━━━━━━━━━━━━━━━━━┩\n",
       "│ \u001b[2mstring\u001b[0m │ \u001b[2mfloat64\u001b[0m              │ \u001b[2mfloat64\u001b[0m              │ \u001b[2mfloat64\u001b[0m              │\n",
       "├────────┼──────────────────────┼──────────────────────┼──────────────────────┤\n",
       "│ \u001b[32mUS    \u001b[0m │                  \u001b[1;36m0.0\u001b[0m │                 \u001b[1;36m39.0\u001b[0m │            \u001b[1;36m19.688189\u001b[0m │\n",
       "│ \u001b[32mEurope\u001b[0m │                  \u001b[1;36m0.0\u001b[0m │                 \u001b[1;36m44.3\u001b[0m │            \u001b[1;36m26.745205\u001b[0m │\n",
       "│ \u001b[32mJapan \u001b[0m │                 \u001b[1;36m18.0\u001b[0m │                 \u001b[1;36m46.6\u001b[0m │            \u001b[1;36m30.450633\u001b[0m │\n",
       "└────────┴──────────────────────┴──────────────────────┴──────────────────────┘"
      ]
     },
     "execution_count": 28,
     "metadata": {},
     "output_type": "execute_result"
    }
   ],
   "source": [
    "agged.rename(\n",
    "    min_miles_per_gallon='min_mpg',\n",
    "    max_miles_per_gallon='max_mpg',\n",
    "    avg_miles_per_gallon='avg_mpg',\n",
    ")"
   ]
  },
  {
   "cell_type": "markdown",
   "id": "e9dcd1b7-3f78-4880-96fb-14c88958766a",
   "metadata": {},
   "source": [
    "Using a window function like `row_number()` to obtain the top 3 most fuel efficient car from each Origin/Country:"
   ]
  },
  {
   "cell_type": "code",
   "execution_count": 29,
   "id": "bdfcbc18-47cd-4ef9-9360-79de9d2eb494",
   "metadata": {},
   "outputs": [
    {
     "data": {
      "text/html": [
       "<pre style=\"white-space:pre;overflow-x:auto;line-height:normal;font-family:Menlo,'DejaVu Sans Mono',consolas,'Courier New',monospace\">┏━━━━━━━━━━━━━━━━━━━━━━━━━━━━━━━━━━━┳━━━━━━━━━┳━━━━━━━━━━━┳━━━━━━━━━━━━━━┳━━━━━━━━━━━━┳━━━━━━━━━┳━━━━━━━━━━━━━━┳━━━━━━━┳━━━━━━━━┳━━━━━━━━━━━━┳━━━━━━━━━━━┳━━━━━━━┓\n",
       "┃<span style=\"font-weight: bold\"> Car                               </span>┃<span style=\"font-weight: bold\"> MPG     </span>┃<span style=\"font-weight: bold\"> Cylinders </span>┃<span style=\"font-weight: bold\"> Displacement </span>┃<span style=\"font-weight: bold\"> Horsepower </span>┃<span style=\"font-weight: bold\"> Weight  </span>┃<span style=\"font-weight: bold\"> Acceleration </span>┃<span style=\"font-weight: bold\"> Model </span>┃<span style=\"font-weight: bold\"> Origin </span>┃<span style=\"font-weight: bold\"> Make       </span>┃<span style=\"font-weight: bold\"> ModelName </span>┃<span style=\"font-weight: bold\"> rank  </span>┃\n",
       "┡━━━━━━━━━━━━━━━━━━━━━━━━━━━━━━━━━━━╇━━━━━━━━━╇━━━━━━━━━━━╇━━━━━━━━━━━━━━╇━━━━━━━━━━━━╇━━━━━━━━━╇━━━━━━━━━━━━━━╇━━━━━━━╇━━━━━━━━╇━━━━━━━━━━━━╇━━━━━━━━━━━╇━━━━━━━┩\n",
       "│ <span style=\"color: #7f7f7f; text-decoration-color: #7f7f7f\">string</span>                            │ <span style=\"color: #7f7f7f; text-decoration-color: #7f7f7f\">float64</span> │ <span style=\"color: #7f7f7f; text-decoration-color: #7f7f7f\">int64</span>     │ <span style=\"color: #7f7f7f; text-decoration-color: #7f7f7f\">float64</span>      │ <span style=\"color: #7f7f7f; text-decoration-color: #7f7f7f\">float64</span>    │ <span style=\"color: #7f7f7f; text-decoration-color: #7f7f7f\">float64</span> │ <span style=\"color: #7f7f7f; text-decoration-color: #7f7f7f\">float64</span>      │ <span style=\"color: #7f7f7f; text-decoration-color: #7f7f7f\">int64</span> │ <span style=\"color: #7f7f7f; text-decoration-color: #7f7f7f\">string</span> │ <span style=\"color: #7f7f7f; text-decoration-color: #7f7f7f\">string</span>     │ <span style=\"color: #7f7f7f; text-decoration-color: #7f7f7f\">string</span>    │ <span style=\"color: #7f7f7f; text-decoration-color: #7f7f7f\">int64</span> │\n",
       "├───────────────────────────────────┼─────────┼───────────┼──────────────┼────────────┼─────────┼──────────────┼───────┼────────┼────────────┼───────────┼───────┤\n",
       "│ <span style=\"color: #008000; text-decoration-color: #008000\">Volkswagen Rabbit C (Diesel)     </span> │    <span style=\"color: #008080; text-decoration-color: #008080; font-weight: bold\">44.3</span> │         <span style=\"color: #008080; text-decoration-color: #008080; font-weight: bold\">4</span> │         <span style=\"color: #008080; text-decoration-color: #008080; font-weight: bold\">90.0</span> │       <span style=\"color: #008080; text-decoration-color: #008080; font-weight: bold\">48.0</span> │  <span style=\"color: #008080; text-decoration-color: #008080; font-weight: bold\">2085.0</span> │         <span style=\"color: #008080; text-decoration-color: #008080; font-weight: bold\">21.7</span> │    <span style=\"color: #008080; text-decoration-color: #008080; font-weight: bold\">80</span> │ <span style=\"color: #008000; text-decoration-color: #008000\">Europe</span> │ <span style=\"color: #008000; text-decoration-color: #008000\">Volkswagen</span> │ <span style=\"color: #008000; text-decoration-color: #008000\">Rabbit   </span> │     <span style=\"color: #008080; text-decoration-color: #008080; font-weight: bold\">1</span> │\n",
       "│ <span style=\"color: #008000; text-decoration-color: #008000\">Volkswagen Pickup                </span> │    <span style=\"color: #008080; text-decoration-color: #008080; font-weight: bold\">44.0</span> │         <span style=\"color: #008080; text-decoration-color: #008080; font-weight: bold\">4</span> │         <span style=\"color: #008080; text-decoration-color: #008080; font-weight: bold\">97.0</span> │       <span style=\"color: #008080; text-decoration-color: #008080; font-weight: bold\">52.0</span> │  <span style=\"color: #008080; text-decoration-color: #008080; font-weight: bold\">2130.0</span> │         <span style=\"color: #008080; text-decoration-color: #008080; font-weight: bold\">24.6</span> │    <span style=\"color: #008080; text-decoration-color: #008080; font-weight: bold\">82</span> │ <span style=\"color: #008000; text-decoration-color: #008000\">Europe</span> │ <span style=\"color: #008000; text-decoration-color: #008000\">Volkswagen</span> │ <span style=\"color: #008000; text-decoration-color: #008000\">Pickup   </span> │     <span style=\"color: #008080; text-decoration-color: #008080; font-weight: bold\">2</span> │\n",
       "│ <span style=\"color: #008000; text-decoration-color: #008000\">Volkswagen Dasher (diesel)       </span> │    <span style=\"color: #008080; text-decoration-color: #008080; font-weight: bold\">43.4</span> │         <span style=\"color: #008080; text-decoration-color: #008080; font-weight: bold\">4</span> │         <span style=\"color: #008080; text-decoration-color: #008080; font-weight: bold\">90.0</span> │       <span style=\"color: #008080; text-decoration-color: #008080; font-weight: bold\">48.0</span> │  <span style=\"color: #008080; text-decoration-color: #008080; font-weight: bold\">2335.0</span> │         <span style=\"color: #008080; text-decoration-color: #008080; font-weight: bold\">23.7</span> │    <span style=\"color: #008080; text-decoration-color: #008080; font-weight: bold\">80</span> │ <span style=\"color: #008000; text-decoration-color: #008000\">Europe</span> │ <span style=\"color: #008000; text-decoration-color: #008000\">Volkswagen</span> │ <span style=\"color: #008000; text-decoration-color: #008000\">Dasher   </span> │     <span style=\"color: #008080; text-decoration-color: #008080; font-weight: bold\">3</span> │\n",
       "│ <span style=\"color: #008000; text-decoration-color: #008000\">Mazda GLC                        </span> │    <span style=\"color: #008080; text-decoration-color: #008080; font-weight: bold\">46.6</span> │         <span style=\"color: #008080; text-decoration-color: #008080; font-weight: bold\">4</span> │         <span style=\"color: #008080; text-decoration-color: #008080; font-weight: bold\">86.0</span> │       <span style=\"color: #008080; text-decoration-color: #008080; font-weight: bold\">65.0</span> │  <span style=\"color: #008080; text-decoration-color: #008080; font-weight: bold\">2110.0</span> │         <span style=\"color: #008080; text-decoration-color: #008080; font-weight: bold\">17.9</span> │    <span style=\"color: #008080; text-decoration-color: #008080; font-weight: bold\">80</span> │ <span style=\"color: #008000; text-decoration-color: #008000\">Japan </span> │ <span style=\"color: #008000; text-decoration-color: #008000\">Mazda     </span> │ <span style=\"color: #008000; text-decoration-color: #008000\">GLC      </span> │     <span style=\"color: #008080; text-decoration-color: #008080; font-weight: bold\">1</span> │\n",
       "│ <span style=\"color: #008000; text-decoration-color: #008000\">Honda Civic 1500 gl              </span> │    <span style=\"color: #008080; text-decoration-color: #008080; font-weight: bold\">44.6</span> │         <span style=\"color: #008080; text-decoration-color: #008080; font-weight: bold\">4</span> │         <span style=\"color: #008080; text-decoration-color: #008080; font-weight: bold\">91.0</span> │       <span style=\"color: #008080; text-decoration-color: #008080; font-weight: bold\">67.0</span> │  <span style=\"color: #008080; text-decoration-color: #008080; font-weight: bold\">1850.0</span> │         <span style=\"color: #008080; text-decoration-color: #008080; font-weight: bold\">13.8</span> │    <span style=\"color: #008080; text-decoration-color: #008080; font-weight: bold\">80</span> │ <span style=\"color: #008000; text-decoration-color: #008000\">Japan </span> │ <span style=\"color: #008000; text-decoration-color: #008000\">Honda     </span> │ <span style=\"color: #008000; text-decoration-color: #008000\">Civic    </span> │     <span style=\"color: #008080; text-decoration-color: #008080; font-weight: bold\">2</span> │\n",
       "│ <span style=\"color: #008000; text-decoration-color: #008000\">Datsun 210                       </span> │    <span style=\"color: #008080; text-decoration-color: #008080; font-weight: bold\">40.8</span> │         <span style=\"color: #008080; text-decoration-color: #008080; font-weight: bold\">4</span> │         <span style=\"color: #008080; text-decoration-color: #008080; font-weight: bold\">85.0</span> │       <span style=\"color: #008080; text-decoration-color: #008080; font-weight: bold\">65.0</span> │  <span style=\"color: #008080; text-decoration-color: #008080; font-weight: bold\">2110.0</span> │         <span style=\"color: #008080; text-decoration-color: #008080; font-weight: bold\">19.2</span> │    <span style=\"color: #008080; text-decoration-color: #008080; font-weight: bold\">80</span> │ <span style=\"color: #008000; text-decoration-color: #008000\">Japan </span> │ <span style=\"color: #008000; text-decoration-color: #008000\">Datsun    </span> │ <span style=\"color: #008000; text-decoration-color: #008000\">210      </span> │     <span style=\"color: #008080; text-decoration-color: #008080; font-weight: bold\">3</span> │\n",
       "│ <span style=\"color: #008000; text-decoration-color: #008000\">Plymouth Champ                   </span> │    <span style=\"color: #008080; text-decoration-color: #008080; font-weight: bold\">39.0</span> │         <span style=\"color: #008080; text-decoration-color: #008080; font-weight: bold\">4</span> │         <span style=\"color: #008080; text-decoration-color: #008080; font-weight: bold\">86.0</span> │       <span style=\"color: #008080; text-decoration-color: #008080; font-weight: bold\">64.0</span> │  <span style=\"color: #008080; text-decoration-color: #008080; font-weight: bold\">1875.0</span> │         <span style=\"color: #008080; text-decoration-color: #008080; font-weight: bold\">16.4</span> │    <span style=\"color: #008080; text-decoration-color: #008080; font-weight: bold\">81</span> │ <span style=\"color: #008000; text-decoration-color: #008000\">US    </span> │ <span style=\"color: #008000; text-decoration-color: #008000\">Plymouth  </span> │ <span style=\"color: #008000; text-decoration-color: #008000\">Champ    </span> │     <span style=\"color: #008080; text-decoration-color: #008080; font-weight: bold\">1</span> │\n",
       "│ <span style=\"color: #008000; text-decoration-color: #008000\">Plymouth Horizon Miser           </span> │    <span style=\"color: #008080; text-decoration-color: #008080; font-weight: bold\">38.0</span> │         <span style=\"color: #008080; text-decoration-color: #008080; font-weight: bold\">4</span> │        <span style=\"color: #008080; text-decoration-color: #008080; font-weight: bold\">105.0</span> │       <span style=\"color: #008080; text-decoration-color: #008080; font-weight: bold\">63.0</span> │  <span style=\"color: #008080; text-decoration-color: #008080; font-weight: bold\">2125.0</span> │         <span style=\"color: #008080; text-decoration-color: #008080; font-weight: bold\">14.7</span> │    <span style=\"color: #008080; text-decoration-color: #008080; font-weight: bold\">82</span> │ <span style=\"color: #008000; text-decoration-color: #008000\">US    </span> │ <span style=\"color: #008000; text-decoration-color: #008000\">Plymouth  </span> │ <span style=\"color: #008000; text-decoration-color: #008000\">Horizon  </span> │     <span style=\"color: #008080; text-decoration-color: #008080; font-weight: bold\">2</span> │\n",
       "│ <span style=\"color: #008000; text-decoration-color: #008000\">Oldsmobile Cutlass Ciera (diesel)</span> │    <span style=\"color: #008080; text-decoration-color: #008080; font-weight: bold\">38.0</span> │         <span style=\"color: #008080; text-decoration-color: #008080; font-weight: bold\">6</span> │        <span style=\"color: #008080; text-decoration-color: #008080; font-weight: bold\">262.0</span> │       <span style=\"color: #008080; text-decoration-color: #008080; font-weight: bold\">85.0</span> │  <span style=\"color: #008080; text-decoration-color: #008080; font-weight: bold\">3015.0</span> │         <span style=\"color: #008080; text-decoration-color: #008080; font-weight: bold\">17.0</span> │    <span style=\"color: #008080; text-decoration-color: #008080; font-weight: bold\">82</span> │ <span style=\"color: #008000; text-decoration-color: #008000\">US    </span> │ <span style=\"color: #008000; text-decoration-color: #008000\">Oldsmobile</span> │ <span style=\"color: #008000; text-decoration-color: #008000\">Cutlass  </span> │     <span style=\"color: #008080; text-decoration-color: #008080; font-weight: bold\">3</span> │\n",
       "└───────────────────────────────────┴─────────┴───────────┴──────────────┴────────────┴─────────┴──────────────┴───────┴────────┴────────────┴───────────┴───────┘\n",
       "</pre>\n"
      ],
      "text/plain": [
       "┏━━━━━━━━━━━━━━━━━━━━━━━━━━━━━━━━━━━┳━━━━━━━━━┳━━━━━━━━━━━┳━━━━━━━━━━━━━━┳━━━━━━━━━━━━┳━━━━━━━━━┳━━━━━━━━━━━━━━┳━━━━━━━┳━━━━━━━━┳━━━━━━━━━━━━┳━━━━━━━━━━━┳━━━━━━━┓\n",
       "┃\u001b[1m \u001b[0m\u001b[1mCar\u001b[0m\u001b[1m                              \u001b[0m\u001b[1m \u001b[0m┃\u001b[1m \u001b[0m\u001b[1mMPG\u001b[0m\u001b[1m    \u001b[0m\u001b[1m \u001b[0m┃\u001b[1m \u001b[0m\u001b[1mCylinders\u001b[0m\u001b[1m \u001b[0m┃\u001b[1m \u001b[0m\u001b[1mDisplacement\u001b[0m\u001b[1m \u001b[0m┃\u001b[1m \u001b[0m\u001b[1mHorsepower\u001b[0m\u001b[1m \u001b[0m┃\u001b[1m \u001b[0m\u001b[1mWeight\u001b[0m\u001b[1m \u001b[0m\u001b[1m \u001b[0m┃\u001b[1m \u001b[0m\u001b[1mAcceleration\u001b[0m\u001b[1m \u001b[0m┃\u001b[1m \u001b[0m\u001b[1mModel\u001b[0m\u001b[1m \u001b[0m┃\u001b[1m \u001b[0m\u001b[1mOrigin\u001b[0m\u001b[1m \u001b[0m┃\u001b[1m \u001b[0m\u001b[1mMake\u001b[0m\u001b[1m      \u001b[0m\u001b[1m \u001b[0m┃\u001b[1m \u001b[0m\u001b[1mModelName\u001b[0m\u001b[1m \u001b[0m┃\u001b[1m \u001b[0m\u001b[1mrank\u001b[0m\u001b[1m \u001b[0m\u001b[1m \u001b[0m┃\n",
       "┡━━━━━━━━━━━━━━━━━━━━━━━━━━━━━━━━━━━╇━━━━━━━━━╇━━━━━━━━━━━╇━━━━━━━━━━━━━━╇━━━━━━━━━━━━╇━━━━━━━━━╇━━━━━━━━━━━━━━╇━━━━━━━╇━━━━━━━━╇━━━━━━━━━━━━╇━━━━━━━━━━━╇━━━━━━━┩\n",
       "│ \u001b[2mstring\u001b[0m                            │ \u001b[2mfloat64\u001b[0m │ \u001b[2mint64\u001b[0m     │ \u001b[2mfloat64\u001b[0m      │ \u001b[2mfloat64\u001b[0m    │ \u001b[2mfloat64\u001b[0m │ \u001b[2mfloat64\u001b[0m      │ \u001b[2mint64\u001b[0m │ \u001b[2mstring\u001b[0m │ \u001b[2mstring\u001b[0m     │ \u001b[2mstring\u001b[0m    │ \u001b[2mint64\u001b[0m │\n",
       "├───────────────────────────────────┼─────────┼───────────┼──────────────┼────────────┼─────────┼──────────────┼───────┼────────┼────────────┼───────────┼───────┤\n",
       "│ \u001b[32mVolkswagen Rabbit C (Diesel)     \u001b[0m │    \u001b[1;36m44.3\u001b[0m │         \u001b[1;36m4\u001b[0m │         \u001b[1;36m90.0\u001b[0m │       \u001b[1;36m48.0\u001b[0m │  \u001b[1;36m2085.0\u001b[0m │         \u001b[1;36m21.7\u001b[0m │    \u001b[1;36m80\u001b[0m │ \u001b[32mEurope\u001b[0m │ \u001b[32mVolkswagen\u001b[0m │ \u001b[32mRabbit   \u001b[0m │     \u001b[1;36m1\u001b[0m │\n",
       "│ \u001b[32mVolkswagen Pickup                \u001b[0m │    \u001b[1;36m44.0\u001b[0m │         \u001b[1;36m4\u001b[0m │         \u001b[1;36m97.0\u001b[0m │       \u001b[1;36m52.0\u001b[0m │  \u001b[1;36m2130.0\u001b[0m │         \u001b[1;36m24.6\u001b[0m │    \u001b[1;36m82\u001b[0m │ \u001b[32mEurope\u001b[0m │ \u001b[32mVolkswagen\u001b[0m │ \u001b[32mPickup   \u001b[0m │     \u001b[1;36m2\u001b[0m │\n",
       "│ \u001b[32mVolkswagen Dasher (diesel)       \u001b[0m │    \u001b[1;36m43.4\u001b[0m │         \u001b[1;36m4\u001b[0m │         \u001b[1;36m90.0\u001b[0m │       \u001b[1;36m48.0\u001b[0m │  \u001b[1;36m2335.0\u001b[0m │         \u001b[1;36m23.7\u001b[0m │    \u001b[1;36m80\u001b[0m │ \u001b[32mEurope\u001b[0m │ \u001b[32mVolkswagen\u001b[0m │ \u001b[32mDasher   \u001b[0m │     \u001b[1;36m3\u001b[0m │\n",
       "│ \u001b[32mMazda GLC                        \u001b[0m │    \u001b[1;36m46.6\u001b[0m │         \u001b[1;36m4\u001b[0m │         \u001b[1;36m86.0\u001b[0m │       \u001b[1;36m65.0\u001b[0m │  \u001b[1;36m2110.0\u001b[0m │         \u001b[1;36m17.9\u001b[0m │    \u001b[1;36m80\u001b[0m │ \u001b[32mJapan \u001b[0m │ \u001b[32mMazda     \u001b[0m │ \u001b[32mGLC      \u001b[0m │     \u001b[1;36m1\u001b[0m │\n",
       "│ \u001b[32mHonda Civic 1500 gl              \u001b[0m │    \u001b[1;36m44.6\u001b[0m │         \u001b[1;36m4\u001b[0m │         \u001b[1;36m91.0\u001b[0m │       \u001b[1;36m67.0\u001b[0m │  \u001b[1;36m1850.0\u001b[0m │         \u001b[1;36m13.8\u001b[0m │    \u001b[1;36m80\u001b[0m │ \u001b[32mJapan \u001b[0m │ \u001b[32mHonda     \u001b[0m │ \u001b[32mCivic    \u001b[0m │     \u001b[1;36m2\u001b[0m │\n",
       "│ \u001b[32mDatsun 210                       \u001b[0m │    \u001b[1;36m40.8\u001b[0m │         \u001b[1;36m4\u001b[0m │         \u001b[1;36m85.0\u001b[0m │       \u001b[1;36m65.0\u001b[0m │  \u001b[1;36m2110.0\u001b[0m │         \u001b[1;36m19.2\u001b[0m │    \u001b[1;36m80\u001b[0m │ \u001b[32mJapan \u001b[0m │ \u001b[32mDatsun    \u001b[0m │ \u001b[32m210      \u001b[0m │     \u001b[1;36m3\u001b[0m │\n",
       "│ \u001b[32mPlymouth Champ                   \u001b[0m │    \u001b[1;36m39.0\u001b[0m │         \u001b[1;36m4\u001b[0m │         \u001b[1;36m86.0\u001b[0m │       \u001b[1;36m64.0\u001b[0m │  \u001b[1;36m1875.0\u001b[0m │         \u001b[1;36m16.4\u001b[0m │    \u001b[1;36m81\u001b[0m │ \u001b[32mUS    \u001b[0m │ \u001b[32mPlymouth  \u001b[0m │ \u001b[32mChamp    \u001b[0m │     \u001b[1;36m1\u001b[0m │\n",
       "│ \u001b[32mPlymouth Horizon Miser           \u001b[0m │    \u001b[1;36m38.0\u001b[0m │         \u001b[1;36m4\u001b[0m │        \u001b[1;36m105.0\u001b[0m │       \u001b[1;36m63.0\u001b[0m │  \u001b[1;36m2125.0\u001b[0m │         \u001b[1;36m14.7\u001b[0m │    \u001b[1;36m82\u001b[0m │ \u001b[32mUS    \u001b[0m │ \u001b[32mPlymouth  \u001b[0m │ \u001b[32mHorizon  \u001b[0m │     \u001b[1;36m2\u001b[0m │\n",
       "│ \u001b[32mOldsmobile Cutlass Ciera (diesel)\u001b[0m │    \u001b[1;36m38.0\u001b[0m │         \u001b[1;36m6\u001b[0m │        \u001b[1;36m262.0\u001b[0m │       \u001b[1;36m85.0\u001b[0m │  \u001b[1;36m3015.0\u001b[0m │         \u001b[1;36m17.0\u001b[0m │    \u001b[1;36m82\u001b[0m │ \u001b[32mUS    \u001b[0m │ \u001b[32mOldsmobile\u001b[0m │ \u001b[32mCutlass  \u001b[0m │     \u001b[1;36m3\u001b[0m │\n",
       "└───────────────────────────────────┴─────────┴───────────┴──────────────┴────────────┴─────────┴──────────────┴───────┴────────┴────────────┴───────────┴───────┘"
      ]
     },
     "execution_count": 29,
     "metadata": {},
     "output_type": "execute_result"
    }
   ],
   "source": [
    "(\n",
    "    cars\n",
    "    .mutate(rank=ibis.row_number().over(group_by=_.Origin, order_by=ibis.desc(_.MPG)) + 1)\n",
    "    .order_by(['Origin', ibis.desc('MPG')])\n",
    "    .filter(_.rank <= 3)\n",
    ")"
   ]
  },
  {
   "cell_type": "markdown",
   "id": "d0a324a1-e58c-4b8f-97c0-707898787fec",
   "metadata": {},
   "source": [
    "<a id=\"running_total\">"
   ]
  },
  {
   "cell_type": "markdown",
   "id": "2114ca61-4927-4511-9dd2-7e628070e6e9",
   "metadata": {},
   "source": [
    "## Running Total / Cumulative Sum"
   ]
  },
  {
   "cell_type": "markdown",
   "id": "16ef3124-c3e1-4c96-b7ba-8ea5ae20dcbb",
   "metadata": {},
   "source": [
    "[[back to top]](#back_to_top)"
   ]
  },
  {
   "cell_type": "markdown",
   "id": "d0a601a7-d389-41cb-b029-c001bd15b612",
   "metadata": {},
   "source": [
    "Let's calculate running total or cumulative sum of MPG by country of origin."
   ]
  },
  {
   "cell_type": "markdown",
   "id": "ad7b9952-3c13-4913-8f24-0248e250f5f2",
   "metadata": {},
   "source": [
    "If you have a background in SQL and familiar with window functions, below is defining our \"window\" to order and group our data by:"
   ]
  },
  {
   "cell_type": "code",
   "execution_count": 30,
   "id": "a60c2a28-559f-405b-b317-f53f66a7c772",
   "metadata": {
    "tags": []
   },
   "outputs": [],
   "source": [
    "# Define running total calculation\n",
    "window_spec = ibis.window(\n",
    "    order_by='MPG',\n",
    "    group_by='Origin'\n",
    ")"
   ]
  },
  {
   "cell_type": "markdown",
   "id": "157c78c8-b774-4650-b3f9-0177097b153c",
   "metadata": {},
   "source": [
    "Then we will calcuate our running total of MPG (cumulative sum) utilizing the window we just defined above, the cumulative sum will be in a column called \"running_total\""
   ]
  },
  {
   "cell_type": "code",
   "execution_count": 31,
   "id": "2aafb916-150e-4142-8eb9-6aeab9304cd0",
   "metadata": {
    "tags": []
   },
   "outputs": [],
   "source": [
    "running_total = cars['MPG'].cumsum().over(window_spec).name('running_total')"
   ]
  },
  {
   "cell_type": "code",
   "execution_count": 32,
   "id": "46734121-de2e-460a-af70-9f3fb5bd8539",
   "metadata": {},
   "outputs": [
    {
     "data": {
      "text/html": [
       "<pre style=\"white-space:pre;overflow-x:auto;line-height:normal;font-family:Menlo,'DejaVu Sans Mono',consolas,'Courier New',monospace\">┏━━━━━━━━━━━━━━━┓\n",
       "┃<span style=\"font-weight: bold\"> running_total </span>┃\n",
       "┡━━━━━━━━━━━━━━━┩\n",
       "│ <span style=\"color: #7f7f7f; text-decoration-color: #7f7f7f\">float64</span>       │\n",
       "├───────────────┤\n",
       "│        <span style=\"color: #008080; text-decoration-color: #008080; font-weight: bold\">2405.6</span> │\n",
       "│        <span style=\"color: #008080; text-decoration-color: #008080; font-weight: bold\">2405.6</span> │\n",
       "│        <span style=\"color: #008080; text-decoration-color: #008080; font-weight: bold\">2405.6</span> │\n",
       "│        <span style=\"color: #008080; text-decoration-color: #008080; font-weight: bold\">2405.6</span> │\n",
       "│        <span style=\"color: #008080; text-decoration-color: #008080; font-weight: bold\">2405.6</span> │\n",
       "│        <span style=\"color: #008080; text-decoration-color: #008080; font-weight: bold\">2405.6</span> │\n",
       "│        <span style=\"color: #008080; text-decoration-color: #008080; font-weight: bold\">2405.6</span> │\n",
       "│        <span style=\"color: #008080; text-decoration-color: #008080; font-weight: bold\">2405.6</span> │\n",
       "│        <span style=\"color: #008080; text-decoration-color: #008080; font-weight: bold\">2405.6</span> │\n",
       "│        <span style=\"color: #008080; text-decoration-color: #008080; font-weight: bold\">2405.6</span> │\n",
       "│             <span style=\"color: #7f7f7f; text-decoration-color: #7f7f7f\">…</span> │\n",
       "└───────────────┘\n",
       "</pre>\n"
      ],
      "text/plain": [
       "┏━━━━━━━━━━━━━━━┓\n",
       "┃\u001b[1m \u001b[0m\u001b[1mrunning_total\u001b[0m\u001b[1m \u001b[0m┃\n",
       "┡━━━━━━━━━━━━━━━┩\n",
       "│ \u001b[2mfloat64\u001b[0m       │\n",
       "├───────────────┤\n",
       "│        \u001b[1;36m2405.6\u001b[0m │\n",
       "│        \u001b[1;36m2405.6\u001b[0m │\n",
       "│        \u001b[1;36m2405.6\u001b[0m │\n",
       "│        \u001b[1;36m2405.6\u001b[0m │\n",
       "│        \u001b[1;36m2405.6\u001b[0m │\n",
       "│        \u001b[1;36m2405.6\u001b[0m │\n",
       "│        \u001b[1;36m2405.6\u001b[0m │\n",
       "│        \u001b[1;36m2405.6\u001b[0m │\n",
       "│        \u001b[1;36m2405.6\u001b[0m │\n",
       "│        \u001b[1;36m2405.6\u001b[0m │\n",
       "│             \u001b[2m…\u001b[0m │\n",
       "└───────────────┘"
      ]
     },
     "execution_count": 32,
     "metadata": {},
     "output_type": "execute_result"
    }
   ],
   "source": [
    "running_total"
   ]
  },
  {
   "cell_type": "markdown",
   "id": "240a1f60-0066-4e87-b30d-c79456f25596",
   "metadata": {},
   "source": [
    "Apply running_total window spec in the mutate() function."
   ]
  },
  {
   "cell_type": "code",
   "execution_count": 33,
   "id": "38abe37f-b1a2-4987-8958-df1e066d0abc",
   "metadata": {
    "tags": []
   },
   "outputs": [],
   "source": [
    "cars_cumulative_mpg = cars['Origin','Car','MPG'].mutate(running_total=running_total)"
   ]
  },
  {
   "cell_type": "markdown",
   "id": "4e1976a9-600a-4b5a-8f3c-fecfb0eb1e85",
   "metadata": {},
   "source": [
    "Since we can't view the entire results, we will look at results for each Origin and find out which of their respective model had the highest MPG."
   ]
  },
  {
   "cell_type": "code",
   "execution_count": 34,
   "id": "43e38e76-1ae0-465a-8fa9-1c05093f6e26",
   "metadata": {
    "tags": []
   },
   "outputs": [
    {
     "data": {
      "text/html": [
       "<pre style=\"white-space:pre;overflow-x:auto;line-height:normal;font-family:Menlo,'DejaVu Sans Mono',consolas,'Courier New',monospace\">┏━━━━━━━━┳━━━━━━━━━━━━━━━━━━━━━━━━━━━━━━━━━━┳━━━━━━━━━┳━━━━━━━━━━━━━━━┓\n",
       "┃<span style=\"font-weight: bold\"> Origin </span>┃<span style=\"font-weight: bold\"> Car                              </span>┃<span style=\"font-weight: bold\"> MPG     </span>┃<span style=\"font-weight: bold\"> running_total </span>┃\n",
       "┡━━━━━━━━╇━━━━━━━━━━━━━━━━━━━━━━━━━━━━━━━━━━╇━━━━━━━━━╇━━━━━━━━━━━━━━━┩\n",
       "│ <span style=\"color: #7f7f7f; text-decoration-color: #7f7f7f\">string</span> │ <span style=\"color: #7f7f7f; text-decoration-color: #7f7f7f\">string</span>                           │ <span style=\"color: #7f7f7f; text-decoration-color: #7f7f7f\">float64</span> │ <span style=\"color: #7f7f7f; text-decoration-color: #7f7f7f\">float64</span>       │\n",
       "├────────┼──────────────────────────────────┼─────────┼───────────────┤\n",
       "│ <span style=\"color: #008000; text-decoration-color: #008000\">US    </span> │ <span style=\"color: #008000; text-decoration-color: #008000\">Chevrolet Chevelle Concours (sw)</span> │     <span style=\"color: #008080; text-decoration-color: #008080; font-weight: bold\">0.0</span> │        <span style=\"color: #008080; text-decoration-color: #008080; font-weight: bold\">5000.8</span> │\n",
       "│ <span style=\"color: #008000; text-decoration-color: #008000\">US    </span> │ <span style=\"color: #008000; text-decoration-color: #008000\">Ford Torino (sw)                </span> │     <span style=\"color: #008080; text-decoration-color: #008080; font-weight: bold\">0.0</span> │        <span style=\"color: #008080; text-decoration-color: #008080; font-weight: bold\">5000.8</span> │\n",
       "│ <span style=\"color: #008000; text-decoration-color: #008000\">US    </span> │ <span style=\"color: #008000; text-decoration-color: #008000\">Plymouth Satellite (sw)         </span> │     <span style=\"color: #008080; text-decoration-color: #008080; font-weight: bold\">0.0</span> │        <span style=\"color: #008080; text-decoration-color: #008080; font-weight: bold\">5000.8</span> │\n",
       "│ <span style=\"color: #008000; text-decoration-color: #008000\">US    </span> │ <span style=\"color: #008000; text-decoration-color: #008000\">AMC Rebel SST (sw)              </span> │     <span style=\"color: #008080; text-decoration-color: #008080; font-weight: bold\">0.0</span> │        <span style=\"color: #008080; text-decoration-color: #008080; font-weight: bold\">5000.8</span> │\n",
       "│ <span style=\"color: #008000; text-decoration-color: #008000\">US    </span> │ <span style=\"color: #008000; text-decoration-color: #008000\">Ford Mustang Boss 302           </span> │     <span style=\"color: #008080; text-decoration-color: #008080; font-weight: bold\">0.0</span> │        <span style=\"color: #008080; text-decoration-color: #008080; font-weight: bold\">5000.8</span> │\n",
       "│ <span style=\"color: #008000; text-decoration-color: #008000\">US    </span> │ <span style=\"color: #008000; text-decoration-color: #008000\">Hi 1200D                        </span> │     <span style=\"color: #008080; text-decoration-color: #008080; font-weight: bold\">9.0</span> │        <span style=\"color: #008080; text-decoration-color: #008080; font-weight: bold\">5000.8</span> │\n",
       "│ <span style=\"color: #008000; text-decoration-color: #008000\">US    </span> │ <span style=\"color: #008000; text-decoration-color: #008000\">Ford F250                       </span> │    <span style=\"color: #008080; text-decoration-color: #008080; font-weight: bold\">10.0</span> │        <span style=\"color: #008080; text-decoration-color: #008080; font-weight: bold\">5000.8</span> │\n",
       "│ <span style=\"color: #008000; text-decoration-color: #008000\">US    </span> │ <span style=\"color: #008000; text-decoration-color: #008000\">Chevy C20                       </span> │    <span style=\"color: #008080; text-decoration-color: #008080; font-weight: bold\">10.0</span> │        <span style=\"color: #008080; text-decoration-color: #008080; font-weight: bold\">5000.8</span> │\n",
       "│ <span style=\"color: #008000; text-decoration-color: #008000\">US    </span> │ <span style=\"color: #008000; text-decoration-color: #008000\">Dodge D200                      </span> │    <span style=\"color: #008080; text-decoration-color: #008080; font-weight: bold\">11.0</span> │        <span style=\"color: #008080; text-decoration-color: #008080; font-weight: bold\">5000.8</span> │\n",
       "│ <span style=\"color: #008000; text-decoration-color: #008000\">US    </span> │ <span style=\"color: #008000; text-decoration-color: #008000\">Mercury Marquis                 </span> │    <span style=\"color: #008080; text-decoration-color: #008080; font-weight: bold\">11.0</span> │        <span style=\"color: #008080; text-decoration-color: #008080; font-weight: bold\">5000.8</span> │\n",
       "│ <span style=\"color: #7f7f7f; text-decoration-color: #7f7f7f\">…</span>      │ <span style=\"color: #7f7f7f; text-decoration-color: #7f7f7f\">…</span>                                │       <span style=\"color: #7f7f7f; text-decoration-color: #7f7f7f\">…</span> │             <span style=\"color: #7f7f7f; text-decoration-color: #7f7f7f\">…</span> │\n",
       "└────────┴──────────────────────────────────┴─────────┴───────────────┘\n",
       "</pre>\n"
      ],
      "text/plain": [
       "┏━━━━━━━━┳━━━━━━━━━━━━━━━━━━━━━━━━━━━━━━━━━━┳━━━━━━━━━┳━━━━━━━━━━━━━━━┓\n",
       "┃\u001b[1m \u001b[0m\u001b[1mOrigin\u001b[0m\u001b[1m \u001b[0m┃\u001b[1m \u001b[0m\u001b[1mCar\u001b[0m\u001b[1m                             \u001b[0m\u001b[1m \u001b[0m┃\u001b[1m \u001b[0m\u001b[1mMPG\u001b[0m\u001b[1m    \u001b[0m\u001b[1m \u001b[0m┃\u001b[1m \u001b[0m\u001b[1mrunning_total\u001b[0m\u001b[1m \u001b[0m┃\n",
       "┡━━━━━━━━╇━━━━━━━━━━━━━━━━━━━━━━━━━━━━━━━━━━╇━━━━━━━━━╇━━━━━━━━━━━━━━━┩\n",
       "│ \u001b[2mstring\u001b[0m │ \u001b[2mstring\u001b[0m                           │ \u001b[2mfloat64\u001b[0m │ \u001b[2mfloat64\u001b[0m       │\n",
       "├────────┼──────────────────────────────────┼─────────┼───────────────┤\n",
       "│ \u001b[32mUS    \u001b[0m │ \u001b[32mChevrolet Chevelle Concours (sw)\u001b[0m │     \u001b[1;36m0.0\u001b[0m │        \u001b[1;36m5000.8\u001b[0m │\n",
       "│ \u001b[32mUS    \u001b[0m │ \u001b[32mFord Torino (sw)                \u001b[0m │     \u001b[1;36m0.0\u001b[0m │        \u001b[1;36m5000.8\u001b[0m │\n",
       "│ \u001b[32mUS    \u001b[0m │ \u001b[32mPlymouth Satellite (sw)         \u001b[0m │     \u001b[1;36m0.0\u001b[0m │        \u001b[1;36m5000.8\u001b[0m │\n",
       "│ \u001b[32mUS    \u001b[0m │ \u001b[32mAMC Rebel SST (sw)              \u001b[0m │     \u001b[1;36m0.0\u001b[0m │        \u001b[1;36m5000.8\u001b[0m │\n",
       "│ \u001b[32mUS    \u001b[0m │ \u001b[32mFord Mustang Boss 302           \u001b[0m │     \u001b[1;36m0.0\u001b[0m │        \u001b[1;36m5000.8\u001b[0m │\n",
       "│ \u001b[32mUS    \u001b[0m │ \u001b[32mHi 1200D                        \u001b[0m │     \u001b[1;36m9.0\u001b[0m │        \u001b[1;36m5000.8\u001b[0m │\n",
       "│ \u001b[32mUS    \u001b[0m │ \u001b[32mFord F250                       \u001b[0m │    \u001b[1;36m10.0\u001b[0m │        \u001b[1;36m5000.8\u001b[0m │\n",
       "│ \u001b[32mUS    \u001b[0m │ \u001b[32mChevy C20                       \u001b[0m │    \u001b[1;36m10.0\u001b[0m │        \u001b[1;36m5000.8\u001b[0m │\n",
       "│ \u001b[32mUS    \u001b[0m │ \u001b[32mDodge D200                      \u001b[0m │    \u001b[1;36m11.0\u001b[0m │        \u001b[1;36m5000.8\u001b[0m │\n",
       "│ \u001b[32mUS    \u001b[0m │ \u001b[32mMercury Marquis                 \u001b[0m │    \u001b[1;36m11.0\u001b[0m │        \u001b[1;36m5000.8\u001b[0m │\n",
       "│ \u001b[2m…\u001b[0m      │ \u001b[2m…\u001b[0m                                │       \u001b[2m…\u001b[0m │             \u001b[2m…\u001b[0m │\n",
       "└────────┴──────────────────────────────────┴─────────┴───────────────┘"
      ]
     },
     "execution_count": 34,
     "metadata": {},
     "output_type": "execute_result"
    }
   ],
   "source": [
    "cars_cumulative_mpg.filter(cars_cumulative_mpg['Origin'] == 'US')"
   ]
  },
  {
   "cell_type": "code",
   "execution_count": 35,
   "id": "1a3fe86b-7d74-4af0-ac0b-f0e7fd358c56",
   "metadata": {
    "tags": []
   },
   "outputs": [
    {
     "data": {
      "text/html": [
       "<pre style=\"white-space:pre;overflow-x:auto;line-height:normal;font-family:Menlo,'DejaVu Sans Mono',consolas,'Courier New',monospace\">┏━━━━━━━━┳━━━━━━━━━━━━━━━━┳━━━━━━━━━┳━━━━━━━━━━━━━━━┓\n",
       "┃<span style=\"font-weight: bold\"> Origin </span>┃<span style=\"font-weight: bold\"> Car            </span>┃<span style=\"font-weight: bold\"> MPG     </span>┃<span style=\"font-weight: bold\"> running_total </span>┃\n",
       "┡━━━━━━━━╇━━━━━━━━━━━━━━━━╇━━━━━━━━━╇━━━━━━━━━━━━━━━┩\n",
       "│ <span style=\"color: #7f7f7f; text-decoration-color: #7f7f7f\">string</span> │ <span style=\"color: #7f7f7f; text-decoration-color: #7f7f7f\">string</span>         │ <span style=\"color: #7f7f7f; text-decoration-color: #7f7f7f\">float64</span> │ <span style=\"color: #7f7f7f; text-decoration-color: #7f7f7f\">float64</span>       │\n",
       "├────────┼────────────────┼─────────┼───────────────┤\n",
       "│ <span style=\"color: #008000; text-decoration-color: #008000\">US    </span> │ <span style=\"color: #008000; text-decoration-color: #008000\">Plymouth Champ</span> │    <span style=\"color: #008080; text-decoration-color: #008080; font-weight: bold\">39.0</span> │        <span style=\"color: #008080; text-decoration-color: #008080; font-weight: bold\">5000.8</span> │\n",
       "└────────┴────────────────┴─────────┴───────────────┘\n",
       "</pre>\n"
      ],
      "text/plain": [
       "┏━━━━━━━━┳━━━━━━━━━━━━━━━━┳━━━━━━━━━┳━━━━━━━━━━━━━━━┓\n",
       "┃\u001b[1m \u001b[0m\u001b[1mOrigin\u001b[0m\u001b[1m \u001b[0m┃\u001b[1m \u001b[0m\u001b[1mCar\u001b[0m\u001b[1m           \u001b[0m\u001b[1m \u001b[0m┃\u001b[1m \u001b[0m\u001b[1mMPG\u001b[0m\u001b[1m    \u001b[0m\u001b[1m \u001b[0m┃\u001b[1m \u001b[0m\u001b[1mrunning_total\u001b[0m\u001b[1m \u001b[0m┃\n",
       "┡━━━━━━━━╇━━━━━━━━━━━━━━━━╇━━━━━━━━━╇━━━━━━━━━━━━━━━┩\n",
       "│ \u001b[2mstring\u001b[0m │ \u001b[2mstring\u001b[0m         │ \u001b[2mfloat64\u001b[0m │ \u001b[2mfloat64\u001b[0m       │\n",
       "├────────┼────────────────┼─────────┼───────────────┤\n",
       "│ \u001b[32mUS    \u001b[0m │ \u001b[32mPlymouth Champ\u001b[0m │    \u001b[1;36m39.0\u001b[0m │        \u001b[1;36m5000.8\u001b[0m │\n",
       "└────────┴────────────────┴─────────┴───────────────┘"
      ]
     },
     "execution_count": 35,
     "metadata": {},
     "output_type": "execute_result"
    }
   ],
   "source": [
    "cars_cumulative_mpg.filter(cars_cumulative_mpg['Origin'] == 'US').filter(_.MPG == _.MPG.max())"
   ]
  },
  {
   "cell_type": "code",
   "execution_count": 36,
   "id": "ce2d5017-5ea9-4d49-aa96-7fb0bbe0a71c",
   "metadata": {
    "tags": []
   },
   "outputs": [
    {
     "data": {
      "text/html": [
       "<pre style=\"white-space:pre;overflow-x:auto;line-height:normal;font-family:Menlo,'DejaVu Sans Mono',consolas,'Courier New',monospace\">┏━━━━━━━━┳━━━━━━━━━━━━━━━━━━━━━━━━━━━━━┳━━━━━━━━━┳━━━━━━━━━━━━━━━┓\n",
       "┃<span style=\"font-weight: bold\"> Origin </span>┃<span style=\"font-weight: bold\"> Car                         </span>┃<span style=\"font-weight: bold\"> MPG     </span>┃<span style=\"font-weight: bold\"> running_total </span>┃\n",
       "┡━━━━━━━━╇━━━━━━━━━━━━━━━━━━━━━━━━━━━━━╇━━━━━━━━━╇━━━━━━━━━━━━━━━┩\n",
       "│ <span style=\"color: #7f7f7f; text-decoration-color: #7f7f7f\">string</span> │ <span style=\"color: #7f7f7f; text-decoration-color: #7f7f7f\">string</span>                      │ <span style=\"color: #7f7f7f; text-decoration-color: #7f7f7f\">float64</span> │ <span style=\"color: #7f7f7f; text-decoration-color: #7f7f7f\">float64</span>       │\n",
       "├────────┼─────────────────────────────┼─────────┼───────────────┤\n",
       "│ <span style=\"color: #008000; text-decoration-color: #008000\">Japan </span> │ <span style=\"color: #008000; text-decoration-color: #008000\">Mazda RX3                  </span> │    <span style=\"color: #008080; text-decoration-color: #008080; font-weight: bold\">18.0</span> │        <span style=\"color: #008080; text-decoration-color: #008080; font-weight: bold\">2405.6</span> │\n",
       "│ <span style=\"color: #008000; text-decoration-color: #008000\">Japan </span> │ <span style=\"color: #008000; text-decoration-color: #008000\">Mazda RX2 Coupe            </span> │    <span style=\"color: #008080; text-decoration-color: #008080; font-weight: bold\">19.0</span> │        <span style=\"color: #008080; text-decoration-color: #008080; font-weight: bold\">2405.6</span> │\n",
       "│ <span style=\"color: #008000; text-decoration-color: #008000\">Japan </span> │ <span style=\"color: #008000; text-decoration-color: #008000\">Toyota Mark II             </span> │    <span style=\"color: #008080; text-decoration-color: #008080; font-weight: bold\">19.0</span> │        <span style=\"color: #008080; text-decoration-color: #008080; font-weight: bold\">2405.6</span> │\n",
       "│ <span style=\"color: #008000; text-decoration-color: #008000\">Japan </span> │ <span style=\"color: #008000; text-decoration-color: #008000\">Toyota Camry               </span> │    <span style=\"color: #008080; text-decoration-color: #008080; font-weight: bold\">20.0</span> │        <span style=\"color: #008080; text-decoration-color: #008080; font-weight: bold\">2405.6</span> │\n",
       "│ <span style=\"color: #008000; text-decoration-color: #008000\">Japan </span> │ <span style=\"color: #008000; text-decoration-color: #008000\">Toyota Mark II             </span> │    <span style=\"color: #008080; text-decoration-color: #008080; font-weight: bold\">20.0</span> │        <span style=\"color: #008080; text-decoration-color: #008080; font-weight: bold\">2405.6</span> │\n",
       "│ <span style=\"color: #008000; text-decoration-color: #008000\">Japan </span> │ <span style=\"color: #008000; text-decoration-color: #008000\">Toyota Celica GT Liftback  </span> │    <span style=\"color: #008080; text-decoration-color: #008080; font-weight: bold\">21.1</span> │        <span style=\"color: #008080; text-decoration-color: #008080; font-weight: bold\">2405.6</span> │\n",
       "│ <span style=\"color: #008000; text-decoration-color: #008000\">Japan </span> │ <span style=\"color: #008000; text-decoration-color: #008000\">Mazda RX-4                 </span> │    <span style=\"color: #008080; text-decoration-color: #008080; font-weight: bold\">21.5</span> │        <span style=\"color: #008080; text-decoration-color: #008080; font-weight: bold\">2405.6</span> │\n",
       "│ <span style=\"color: #008000; text-decoration-color: #008000\">Japan </span> │ <span style=\"color: #008000; text-decoration-color: #008000\">Datsun 610                 </span> │    <span style=\"color: #008080; text-decoration-color: #008080; font-weight: bold\">22.0</span> │        <span style=\"color: #008080; text-decoration-color: #008080; font-weight: bold\">2405.6</span> │\n",
       "│ <span style=\"color: #008000; text-decoration-color: #008000\">Japan </span> │ <span style=\"color: #008000; text-decoration-color: #008000\">Datsun 810                 </span> │    <span style=\"color: #008080; text-decoration-color: #008080; font-weight: bold\">22.0</span> │        <span style=\"color: #008080; text-decoration-color: #008080; font-weight: bold\">2405.6</span> │\n",
       "│ <span style=\"color: #008000; text-decoration-color: #008000\">Japan </span> │ <span style=\"color: #008000; text-decoration-color: #008000\">Toyota Corolla Mark II (sw)</span> │    <span style=\"color: #008080; text-decoration-color: #008080; font-weight: bold\">23.0</span> │        <span style=\"color: #008080; text-decoration-color: #008080; font-weight: bold\">2405.6</span> │\n",
       "│ <span style=\"color: #7f7f7f; text-decoration-color: #7f7f7f\">…</span>      │ <span style=\"color: #7f7f7f; text-decoration-color: #7f7f7f\">…</span>                           │       <span style=\"color: #7f7f7f; text-decoration-color: #7f7f7f\">…</span> │             <span style=\"color: #7f7f7f; text-decoration-color: #7f7f7f\">…</span> │\n",
       "└────────┴─────────────────────────────┴─────────┴───────────────┘\n",
       "</pre>\n"
      ],
      "text/plain": [
       "┏━━━━━━━━┳━━━━━━━━━━━━━━━━━━━━━━━━━━━━━┳━━━━━━━━━┳━━━━━━━━━━━━━━━┓\n",
       "┃\u001b[1m \u001b[0m\u001b[1mOrigin\u001b[0m\u001b[1m \u001b[0m┃\u001b[1m \u001b[0m\u001b[1mCar\u001b[0m\u001b[1m                        \u001b[0m\u001b[1m \u001b[0m┃\u001b[1m \u001b[0m\u001b[1mMPG\u001b[0m\u001b[1m    \u001b[0m\u001b[1m \u001b[0m┃\u001b[1m \u001b[0m\u001b[1mrunning_total\u001b[0m\u001b[1m \u001b[0m┃\n",
       "┡━━━━━━━━╇━━━━━━━━━━━━━━━━━━━━━━━━━━━━━╇━━━━━━━━━╇━━━━━━━━━━━━━━━┩\n",
       "│ \u001b[2mstring\u001b[0m │ \u001b[2mstring\u001b[0m                      │ \u001b[2mfloat64\u001b[0m │ \u001b[2mfloat64\u001b[0m       │\n",
       "├────────┼─────────────────────────────┼─────────┼───────────────┤\n",
       "│ \u001b[32mJapan \u001b[0m │ \u001b[32mMazda RX3                  \u001b[0m │    \u001b[1;36m18.0\u001b[0m │        \u001b[1;36m2405.6\u001b[0m │\n",
       "│ \u001b[32mJapan \u001b[0m │ \u001b[32mMazda RX2 Coupe            \u001b[0m │    \u001b[1;36m19.0\u001b[0m │        \u001b[1;36m2405.6\u001b[0m │\n",
       "│ \u001b[32mJapan \u001b[0m │ \u001b[32mToyota Mark II             \u001b[0m │    \u001b[1;36m19.0\u001b[0m │        \u001b[1;36m2405.6\u001b[0m │\n",
       "│ \u001b[32mJapan \u001b[0m │ \u001b[32mToyota Camry               \u001b[0m │    \u001b[1;36m20.0\u001b[0m │        \u001b[1;36m2405.6\u001b[0m │\n",
       "│ \u001b[32mJapan \u001b[0m │ \u001b[32mToyota Mark II             \u001b[0m │    \u001b[1;36m20.0\u001b[0m │        \u001b[1;36m2405.6\u001b[0m │\n",
       "│ \u001b[32mJapan \u001b[0m │ \u001b[32mToyota Celica GT Liftback  \u001b[0m │    \u001b[1;36m21.1\u001b[0m │        \u001b[1;36m2405.6\u001b[0m │\n",
       "│ \u001b[32mJapan \u001b[0m │ \u001b[32mMazda RX-4                 \u001b[0m │    \u001b[1;36m21.5\u001b[0m │        \u001b[1;36m2405.6\u001b[0m │\n",
       "│ \u001b[32mJapan \u001b[0m │ \u001b[32mDatsun 610                 \u001b[0m │    \u001b[1;36m22.0\u001b[0m │        \u001b[1;36m2405.6\u001b[0m │\n",
       "│ \u001b[32mJapan \u001b[0m │ \u001b[32mDatsun 810                 \u001b[0m │    \u001b[1;36m22.0\u001b[0m │        \u001b[1;36m2405.6\u001b[0m │\n",
       "│ \u001b[32mJapan \u001b[0m │ \u001b[32mToyota Corolla Mark II (sw)\u001b[0m │    \u001b[1;36m23.0\u001b[0m │        \u001b[1;36m2405.6\u001b[0m │\n",
       "│ \u001b[2m…\u001b[0m      │ \u001b[2m…\u001b[0m                           │       \u001b[2m…\u001b[0m │             \u001b[2m…\u001b[0m │\n",
       "└────────┴─────────────────────────────┴─────────┴───────────────┘"
      ]
     },
     "execution_count": 36,
     "metadata": {},
     "output_type": "execute_result"
    }
   ],
   "source": [
    "cars_cumulative_mpg.filter(cars_cumulative_mpg['Origin'] == 'Japan')"
   ]
  },
  {
   "cell_type": "code",
   "execution_count": 37,
   "id": "05788cd7-e5c1-4275-9f03-3692f27771cf",
   "metadata": {
    "tags": []
   },
   "outputs": [
    {
     "data": {
      "text/html": [
       "<pre style=\"white-space:pre;overflow-x:auto;line-height:normal;font-family:Menlo,'DejaVu Sans Mono',consolas,'Courier New',monospace\">┏━━━━━━━━┳━━━━━━━━━━━┳━━━━━━━━━┳━━━━━━━━━━━━━━━┓\n",
       "┃<span style=\"font-weight: bold\"> Origin </span>┃<span style=\"font-weight: bold\"> Car       </span>┃<span style=\"font-weight: bold\"> MPG     </span>┃<span style=\"font-weight: bold\"> running_total </span>┃\n",
       "┡━━━━━━━━╇━━━━━━━━━━━╇━━━━━━━━━╇━━━━━━━━━━━━━━━┩\n",
       "│ <span style=\"color: #7f7f7f; text-decoration-color: #7f7f7f\">string</span> │ <span style=\"color: #7f7f7f; text-decoration-color: #7f7f7f\">string</span>    │ <span style=\"color: #7f7f7f; text-decoration-color: #7f7f7f\">float64</span> │ <span style=\"color: #7f7f7f; text-decoration-color: #7f7f7f\">float64</span>       │\n",
       "├────────┼───────────┼─────────┼───────────────┤\n",
       "│ <span style=\"color: #008000; text-decoration-color: #008000\">Japan </span> │ <span style=\"color: #008000; text-decoration-color: #008000\">Mazda GLC</span> │    <span style=\"color: #008080; text-decoration-color: #008080; font-weight: bold\">46.6</span> │        <span style=\"color: #008080; text-decoration-color: #008080; font-weight: bold\">2405.6</span> │\n",
       "└────────┴───────────┴─────────┴───────────────┘\n",
       "</pre>\n"
      ],
      "text/plain": [
       "┏━━━━━━━━┳━━━━━━━━━━━┳━━━━━━━━━┳━━━━━━━━━━━━━━━┓\n",
       "┃\u001b[1m \u001b[0m\u001b[1mOrigin\u001b[0m\u001b[1m \u001b[0m┃\u001b[1m \u001b[0m\u001b[1mCar\u001b[0m\u001b[1m      \u001b[0m\u001b[1m \u001b[0m┃\u001b[1m \u001b[0m\u001b[1mMPG\u001b[0m\u001b[1m    \u001b[0m\u001b[1m \u001b[0m┃\u001b[1m \u001b[0m\u001b[1mrunning_total\u001b[0m\u001b[1m \u001b[0m┃\n",
       "┡━━━━━━━━╇━━━━━━━━━━━╇━━━━━━━━━╇━━━━━━━━━━━━━━━┩\n",
       "│ \u001b[2mstring\u001b[0m │ \u001b[2mstring\u001b[0m    │ \u001b[2mfloat64\u001b[0m │ \u001b[2mfloat64\u001b[0m       │\n",
       "├────────┼───────────┼─────────┼───────────────┤\n",
       "│ \u001b[32mJapan \u001b[0m │ \u001b[32mMazda GLC\u001b[0m │    \u001b[1;36m46.6\u001b[0m │        \u001b[1;36m2405.6\u001b[0m │\n",
       "└────────┴───────────┴─────────┴───────────────┘"
      ]
     },
     "execution_count": 37,
     "metadata": {},
     "output_type": "execute_result"
    }
   ],
   "source": [
    "cars_cumulative_mpg.filter(cars_cumulative_mpg['Origin'] == 'Japan').filter(_.MPG == _.MPG.max())"
   ]
  },
  {
   "cell_type": "code",
   "execution_count": 38,
   "id": "c0c41e61-2bc8-40d6-a5f8-a31e464c28fd",
   "metadata": {
    "tags": []
   },
   "outputs": [
    {
     "data": {
      "text/html": [
       "<pre style=\"white-space:pre;overflow-x:auto;line-height:normal;font-family:Menlo,'DejaVu Sans Mono',consolas,'Courier New',monospace\">┏━━━━━━━━┳━━━━━━━━━━━━━━━━━━━━━━━━━━━━━┳━━━━━━━━━┳━━━━━━━━━━━━━━━┓\n",
       "┃<span style=\"font-weight: bold\"> Origin </span>┃<span style=\"font-weight: bold\"> Car                         </span>┃<span style=\"font-weight: bold\"> MPG     </span>┃<span style=\"font-weight: bold\"> running_total </span>┃\n",
       "┡━━━━━━━━╇━━━━━━━━━━━━━━━━━━━━━━━━━━━━━╇━━━━━━━━━╇━━━━━━━━━━━━━━━┩\n",
       "│ <span style=\"color: #7f7f7f; text-decoration-color: #7f7f7f\">string</span> │ <span style=\"color: #7f7f7f; text-decoration-color: #7f7f7f\">string</span>                      │ <span style=\"color: #7f7f7f; text-decoration-color: #7f7f7f\">float64</span> │ <span style=\"color: #7f7f7f; text-decoration-color: #7f7f7f\">float64</span>       │\n",
       "├────────┼─────────────────────────────┼─────────┼───────────────┤\n",
       "│ <span style=\"color: #008000; text-decoration-color: #008000\">Europe</span> │ <span style=\"color: #008000; text-decoration-color: #008000\">Citroen DS-21 Pallas       </span> │     <span style=\"color: #008080; text-decoration-color: #008080; font-weight: bold\">0.0</span> │        <span style=\"color: #008080; text-decoration-color: #008080; font-weight: bold\">1952.4</span> │\n",
       "│ <span style=\"color: #008000; text-decoration-color: #008000\">Europe</span> │ <span style=\"color: #008000; text-decoration-color: #008000\">Volkswagen Super Beetle 117</span> │     <span style=\"color: #008080; text-decoration-color: #008080; font-weight: bold\">0.0</span> │        <span style=\"color: #008080; text-decoration-color: #008080; font-weight: bold\">1952.4</span> │\n",
       "│ <span style=\"color: #008000; text-decoration-color: #008000\">Europe</span> │ <span style=\"color: #008000; text-decoration-color: #008000\">Saab 900s                  </span> │     <span style=\"color: #008080; text-decoration-color: #008080; font-weight: bold\">0.0</span> │        <span style=\"color: #008080; text-decoration-color: #008080; font-weight: bold\">1952.4</span> │\n",
       "│ <span style=\"color: #008000; text-decoration-color: #008000\">Europe</span> │ <span style=\"color: #008000; text-decoration-color: #008000\">Peugeot 604sl              </span> │    <span style=\"color: #008080; text-decoration-color: #008080; font-weight: bold\">16.2</span> │        <span style=\"color: #008080; text-decoration-color: #008080; font-weight: bold\">1952.4</span> │\n",
       "│ <span style=\"color: #008000; text-decoration-color: #008000\">Europe</span> │ <span style=\"color: #008000; text-decoration-color: #008000\">Mercedes-Benz 280s         </span> │    <span style=\"color: #008080; text-decoration-color: #008080; font-weight: bold\">16.5</span> │        <span style=\"color: #008080; text-decoration-color: #008080; font-weight: bold\">1952.4</span> │\n",
       "│ <span style=\"color: #008000; text-decoration-color: #008000\">Europe</span> │ <span style=\"color: #008000; text-decoration-color: #008000\">Volvo 264gl                </span> │    <span style=\"color: #008080; text-decoration-color: #008080; font-weight: bold\">17.0</span> │        <span style=\"color: #008080; text-decoration-color: #008080; font-weight: bold\">1952.4</span> │\n",
       "│ <span style=\"color: #008000; text-decoration-color: #008000\">Europe</span> │ <span style=\"color: #008000; text-decoration-color: #008000\">Volvo 145e (sw)            </span> │    <span style=\"color: #008080; text-decoration-color: #008080; font-weight: bold\">18.0</span> │        <span style=\"color: #008080; text-decoration-color: #008080; font-weight: bold\">1952.4</span> │\n",
       "│ <span style=\"color: #008000; text-decoration-color: #008000\">Europe</span> │ <span style=\"color: #008000; text-decoration-color: #008000\">Volvo 144ea                </span> │    <span style=\"color: #008080; text-decoration-color: #008080; font-weight: bold\">19.0</span> │        <span style=\"color: #008080; text-decoration-color: #008080; font-weight: bold\">1952.4</span> │\n",
       "│ <span style=\"color: #008000; text-decoration-color: #008000\">Europe</span> │ <span style=\"color: #008000; text-decoration-color: #008000\">Peugeot 504                </span> │    <span style=\"color: #008080; text-decoration-color: #008080; font-weight: bold\">19.0</span> │        <span style=\"color: #008080; text-decoration-color: #008080; font-weight: bold\">1952.4</span> │\n",
       "│ <span style=\"color: #008000; text-decoration-color: #008000\">Europe</span> │ <span style=\"color: #008000; text-decoration-color: #008000\">Audi 100LS                 </span> │    <span style=\"color: #008080; text-decoration-color: #008080; font-weight: bold\">20.0</span> │        <span style=\"color: #008080; text-decoration-color: #008080; font-weight: bold\">1952.4</span> │\n",
       "│ <span style=\"color: #7f7f7f; text-decoration-color: #7f7f7f\">…</span>      │ <span style=\"color: #7f7f7f; text-decoration-color: #7f7f7f\">…</span>                           │       <span style=\"color: #7f7f7f; text-decoration-color: #7f7f7f\">…</span> │             <span style=\"color: #7f7f7f; text-decoration-color: #7f7f7f\">…</span> │\n",
       "└────────┴─────────────────────────────┴─────────┴───────────────┘\n",
       "</pre>\n"
      ],
      "text/plain": [
       "┏━━━━━━━━┳━━━━━━━━━━━━━━━━━━━━━━━━━━━━━┳━━━━━━━━━┳━━━━━━━━━━━━━━━┓\n",
       "┃\u001b[1m \u001b[0m\u001b[1mOrigin\u001b[0m\u001b[1m \u001b[0m┃\u001b[1m \u001b[0m\u001b[1mCar\u001b[0m\u001b[1m                        \u001b[0m\u001b[1m \u001b[0m┃\u001b[1m \u001b[0m\u001b[1mMPG\u001b[0m\u001b[1m    \u001b[0m\u001b[1m \u001b[0m┃\u001b[1m \u001b[0m\u001b[1mrunning_total\u001b[0m\u001b[1m \u001b[0m┃\n",
       "┡━━━━━━━━╇━━━━━━━━━━━━━━━━━━━━━━━━━━━━━╇━━━━━━━━━╇━━━━━━━━━━━━━━━┩\n",
       "│ \u001b[2mstring\u001b[0m │ \u001b[2mstring\u001b[0m                      │ \u001b[2mfloat64\u001b[0m │ \u001b[2mfloat64\u001b[0m       │\n",
       "├────────┼─────────────────────────────┼─────────┼───────────────┤\n",
       "│ \u001b[32mEurope\u001b[0m │ \u001b[32mCitroen DS-21 Pallas       \u001b[0m │     \u001b[1;36m0.0\u001b[0m │        \u001b[1;36m1952.4\u001b[0m │\n",
       "│ \u001b[32mEurope\u001b[0m │ \u001b[32mVolkswagen Super Beetle 117\u001b[0m │     \u001b[1;36m0.0\u001b[0m │        \u001b[1;36m1952.4\u001b[0m │\n",
       "│ \u001b[32mEurope\u001b[0m │ \u001b[32mSaab 900s                  \u001b[0m │     \u001b[1;36m0.0\u001b[0m │        \u001b[1;36m1952.4\u001b[0m │\n",
       "│ \u001b[32mEurope\u001b[0m │ \u001b[32mPeugeot 604sl              \u001b[0m │    \u001b[1;36m16.2\u001b[0m │        \u001b[1;36m1952.4\u001b[0m │\n",
       "│ \u001b[32mEurope\u001b[0m │ \u001b[32mMercedes-Benz 280s         \u001b[0m │    \u001b[1;36m16.5\u001b[0m │        \u001b[1;36m1952.4\u001b[0m │\n",
       "│ \u001b[32mEurope\u001b[0m │ \u001b[32mVolvo 264gl                \u001b[0m │    \u001b[1;36m17.0\u001b[0m │        \u001b[1;36m1952.4\u001b[0m │\n",
       "│ \u001b[32mEurope\u001b[0m │ \u001b[32mVolvo 145e (sw)            \u001b[0m │    \u001b[1;36m18.0\u001b[0m │        \u001b[1;36m1952.4\u001b[0m │\n",
       "│ \u001b[32mEurope\u001b[0m │ \u001b[32mVolvo 144ea                \u001b[0m │    \u001b[1;36m19.0\u001b[0m │        \u001b[1;36m1952.4\u001b[0m │\n",
       "│ \u001b[32mEurope\u001b[0m │ \u001b[32mPeugeot 504                \u001b[0m │    \u001b[1;36m19.0\u001b[0m │        \u001b[1;36m1952.4\u001b[0m │\n",
       "│ \u001b[32mEurope\u001b[0m │ \u001b[32mAudi 100LS                 \u001b[0m │    \u001b[1;36m20.0\u001b[0m │        \u001b[1;36m1952.4\u001b[0m │\n",
       "│ \u001b[2m…\u001b[0m      │ \u001b[2m…\u001b[0m                           │       \u001b[2m…\u001b[0m │             \u001b[2m…\u001b[0m │\n",
       "└────────┴─────────────────────────────┴─────────┴───────────────┘"
      ]
     },
     "execution_count": 38,
     "metadata": {},
     "output_type": "execute_result"
    }
   ],
   "source": [
    "cars_cumulative_mpg.filter(cars_cumulative_mpg['Origin'] == 'Europe')"
   ]
  },
  {
   "cell_type": "code",
   "execution_count": 39,
   "id": "c2d5527f-ac4a-4a80-a73c-b756283441d7",
   "metadata": {
    "tags": []
   },
   "outputs": [
    {
     "data": {
      "text/html": [
       "<pre style=\"white-space:pre;overflow-x:auto;line-height:normal;font-family:Menlo,'DejaVu Sans Mono',consolas,'Courier New',monospace\">┏━━━━━━━━┳━━━━━━━━━━━━━━━━━━━━━━━━━━━━━━┳━━━━━━━━━┳━━━━━━━━━━━━━━━┓\n",
       "┃<span style=\"font-weight: bold\"> Origin </span>┃<span style=\"font-weight: bold\"> Car                          </span>┃<span style=\"font-weight: bold\"> MPG     </span>┃<span style=\"font-weight: bold\"> running_total </span>┃\n",
       "┡━━━━━━━━╇━━━━━━━━━━━━━━━━━━━━━━━━━━━━━━╇━━━━━━━━━╇━━━━━━━━━━━━━━━┩\n",
       "│ <span style=\"color: #7f7f7f; text-decoration-color: #7f7f7f\">string</span> │ <span style=\"color: #7f7f7f; text-decoration-color: #7f7f7f\">string</span>                       │ <span style=\"color: #7f7f7f; text-decoration-color: #7f7f7f\">float64</span> │ <span style=\"color: #7f7f7f; text-decoration-color: #7f7f7f\">float64</span>       │\n",
       "├────────┼──────────────────────────────┼─────────┼───────────────┤\n",
       "│ <span style=\"color: #008000; text-decoration-color: #008000\">Europe</span> │ <span style=\"color: #008000; text-decoration-color: #008000\">Volkswagen Rabbit C (Diesel)</span> │    <span style=\"color: #008080; text-decoration-color: #008080; font-weight: bold\">44.3</span> │        <span style=\"color: #008080; text-decoration-color: #008080; font-weight: bold\">1952.4</span> │\n",
       "└────────┴──────────────────────────────┴─────────┴───────────────┘\n",
       "</pre>\n"
      ],
      "text/plain": [
       "┏━━━━━━━━┳━━━━━━━━━━━━━━━━━━━━━━━━━━━━━━┳━━━━━━━━━┳━━━━━━━━━━━━━━━┓\n",
       "┃\u001b[1m \u001b[0m\u001b[1mOrigin\u001b[0m\u001b[1m \u001b[0m┃\u001b[1m \u001b[0m\u001b[1mCar\u001b[0m\u001b[1m                         \u001b[0m\u001b[1m \u001b[0m┃\u001b[1m \u001b[0m\u001b[1mMPG\u001b[0m\u001b[1m    \u001b[0m\u001b[1m \u001b[0m┃\u001b[1m \u001b[0m\u001b[1mrunning_total\u001b[0m\u001b[1m \u001b[0m┃\n",
       "┡━━━━━━━━╇━━━━━━━━━━━━━━━━━━━━━━━━━━━━━━╇━━━━━━━━━╇━━━━━━━━━━━━━━━┩\n",
       "│ \u001b[2mstring\u001b[0m │ \u001b[2mstring\u001b[0m                       │ \u001b[2mfloat64\u001b[0m │ \u001b[2mfloat64\u001b[0m       │\n",
       "├────────┼──────────────────────────────┼─────────┼───────────────┤\n",
       "│ \u001b[32mEurope\u001b[0m │ \u001b[32mVolkswagen Rabbit C (Diesel)\u001b[0m │    \u001b[1;36m44.3\u001b[0m │        \u001b[1;36m1952.4\u001b[0m │\n",
       "└────────┴──────────────────────────────┴─────────┴───────────────┘"
      ]
     },
     "execution_count": 39,
     "metadata": {},
     "output_type": "execute_result"
    }
   ],
   "source": [
    "cars_cumulative_mpg.filter(cars_cumulative_mpg['Origin'] == 'Europe').filter(_.MPG == _.MPG.max())"
   ]
  },
  {
   "cell_type": "markdown",
   "id": "f0068baf-0f5b-498e-9ef8-780238366dcb",
   "metadata": {},
   "source": [
    "<a id=\"argmax\">"
   ]
  },
  {
   "cell_type": "markdown",
   "id": "6c985ecc-7335-439a-91d6-f17adb98802b",
   "metadata": {},
   "source": [
    "## Finding maximum value across all groups"
   ]
  },
  {
   "cell_type": "markdown",
   "id": "368ed0e9-87d2-46e5-b403-a9ab57fb16b6",
   "metadata": {},
   "source": [
    "[[back to top]](#back_to_top)"
   ]
  },
  {
   "cell_type": "markdown",
   "id": "78bdfcb1-7af7-4e6f-a2df-25894bc5f5d2",
   "metadata": {},
   "source": [
    "Above, we had to issue 3 filters to find the country with the maximum MPG.  But, what if there's a way to do this with fewer steps?  `argmax()` returns the largest value in a column that also happens to be in groupings.  `argmax()` will then return the largest value regardless of the group."
   ]
  },
  {
   "cell_type": "markdown",
   "id": "681164ef-45f7-4712-9dff-29bea12ae465",
   "metadata": {},
   "source": [
    "The country or origin with largest MPG for all origins:"
   ]
  },
  {
   "cell_type": "code",
   "execution_count": 40,
   "id": "e7198976-6dfb-4dae-9d18-dda851b69e46",
   "metadata": {
    "tags": []
   },
   "outputs": [
    {
     "data": {
      "text/html": [
       "<pre style=\"white-space:pre;overflow-x:auto;line-height:normal;font-family:Menlo,'DejaVu Sans Mono',consolas,'Courier New',monospace\"></pre>\n"
      ],
      "text/plain": []
     },
     "metadata": {},
     "output_type": "display_data"
    },
    {
     "data": {
      "text/plain": [
       "\u001b[32m'Japan'\u001b[0m"
      ]
     },
     "execution_count": 40,
     "metadata": {},
     "output_type": "execute_result"
    }
   ],
   "source": [
    "cars_cumulative_mpg.Origin.argmax(cars_cumulative_mpg.MPG)"
   ]
  },
  {
   "cell_type": "markdown",
   "id": "a125f282-7e46-4aeb-896e-f8dad97ce636",
   "metadata": {},
   "source": [
    "The criteria above can then be used in our subsequent filtering below to obtain max MPG:"
   ]
  },
  {
   "cell_type": "code",
   "execution_count": 41,
   "id": "be8bd793-b01e-49d5-a067-0e3ced716fdf",
   "metadata": {
    "tags": []
   },
   "outputs": [
    {
     "data": {
      "text/html": [
       "<pre style=\"white-space:pre;overflow-x:auto;line-height:normal;font-family:Menlo,'DejaVu Sans Mono',consolas,'Courier New',monospace\">┏━━━━━━━━┳━━━━━━━━━━━┳━━━━━━━━━┳━━━━━━━━━━━━━━━┓\n",
       "┃<span style=\"font-weight: bold\"> Origin </span>┃<span style=\"font-weight: bold\"> Car       </span>┃<span style=\"font-weight: bold\"> MPG     </span>┃<span style=\"font-weight: bold\"> running_total </span>┃\n",
       "┡━━━━━━━━╇━━━━━━━━━━━╇━━━━━━━━━╇━━━━━━━━━━━━━━━┩\n",
       "│ <span style=\"color: #7f7f7f; text-decoration-color: #7f7f7f\">string</span> │ <span style=\"color: #7f7f7f; text-decoration-color: #7f7f7f\">string</span>    │ <span style=\"color: #7f7f7f; text-decoration-color: #7f7f7f\">float64</span> │ <span style=\"color: #7f7f7f; text-decoration-color: #7f7f7f\">float64</span>       │\n",
       "├────────┼───────────┼─────────┼───────────────┤\n",
       "│ <span style=\"color: #008000; text-decoration-color: #008000\">Japan </span> │ <span style=\"color: #008000; text-decoration-color: #008000\">Mazda GLC</span> │    <span style=\"color: #008080; text-decoration-color: #008080; font-weight: bold\">46.6</span> │        <span style=\"color: #008080; text-decoration-color: #008080; font-weight: bold\">2405.6</span> │\n",
       "└────────┴───────────┴─────────┴───────────────┘\n",
       "</pre>\n"
      ],
      "text/plain": [
       "┏━━━━━━━━┳━━━━━━━━━━━┳━━━━━━━━━┳━━━━━━━━━━━━━━━┓\n",
       "┃\u001b[1m \u001b[0m\u001b[1mOrigin\u001b[0m\u001b[1m \u001b[0m┃\u001b[1m \u001b[0m\u001b[1mCar\u001b[0m\u001b[1m      \u001b[0m\u001b[1m \u001b[0m┃\u001b[1m \u001b[0m\u001b[1mMPG\u001b[0m\u001b[1m    \u001b[0m\u001b[1m \u001b[0m┃\u001b[1m \u001b[0m\u001b[1mrunning_total\u001b[0m\u001b[1m \u001b[0m┃\n",
       "┡━━━━━━━━╇━━━━━━━━━━━╇━━━━━━━━━╇━━━━━━━━━━━━━━━┩\n",
       "│ \u001b[2mstring\u001b[0m │ \u001b[2mstring\u001b[0m    │ \u001b[2mfloat64\u001b[0m │ \u001b[2mfloat64\u001b[0m       │\n",
       "├────────┼───────────┼─────────┼───────────────┤\n",
       "│ \u001b[32mJapan \u001b[0m │ \u001b[32mMazda GLC\u001b[0m │    \u001b[1;36m46.6\u001b[0m │        \u001b[1;36m2405.6\u001b[0m │\n",
       "└────────┴───────────┴─────────┴───────────────┘"
      ]
     },
     "execution_count": 41,
     "metadata": {},
     "output_type": "execute_result"
    }
   ],
   "source": [
    "cars_cumulative_mpg.filter(\n",
    "    (_.Origin == cars_cumulative_mpg.Origin.argmax(cars_cumulative_mpg.MPG))\n",
    "    & (_.MPG == _.MPG.max())\n",
    ")"
   ]
  },
  {
   "cell_type": "markdown",
   "id": "29434156-b8ce-4d4e-9923-fd246de14aeb",
   "metadata": {},
   "source": [
    "<a id=\"filtering\">"
   ]
  },
  {
   "cell_type": "markdown",
   "id": "0e6c02b2-2a67-496f-ab52-98fac4664de1",
   "metadata": {},
   "source": [
    "## Filtering"
   ]
  },
  {
   "cell_type": "markdown",
   "id": "432119e5-3853-41a3-8f0c-8898e7ccad04",
   "metadata": {},
   "source": [
    "[[back to top]](#back_to_top)"
   ]
  },
  {
   "cell_type": "code",
   "execution_count": 42,
   "id": "74d5b144-3f90-4c24-87ef-9b9b9f11dff9",
   "metadata": {
    "tags": []
   },
   "outputs": [
    {
     "data": {
      "text/html": [
       "<pre style=\"white-space:pre;overflow-x:auto;line-height:normal;font-family:Menlo,'DejaVu Sans Mono',consolas,'Courier New',monospace\">┏━━━━━━━━━━━━━━━━━━━━━━━━━━━┳━━━━━━━━━┳━━━━━━━━━━━┳━━━━━━━━━━━━━━┳━━━━━━━━━━━━┳━━━━━━━━━┳━━━━━━━━━━━━━━┳━━━━━━━┳━━━━━━━━┳━━━━━━━━━━━┳━━━━━━━━━━━━┓\n",
       "┃<span style=\"font-weight: bold\"> Car                       </span>┃<span style=\"font-weight: bold\"> MPG     </span>┃<span style=\"font-weight: bold\"> Cylinders </span>┃<span style=\"font-weight: bold\"> Displacement </span>┃<span style=\"font-weight: bold\"> Horsepower </span>┃<span style=\"font-weight: bold\"> Weight  </span>┃<span style=\"font-weight: bold\"> Acceleration </span>┃<span style=\"font-weight: bold\"> Model </span>┃<span style=\"font-weight: bold\"> Origin </span>┃<span style=\"font-weight: bold\"> Make      </span>┃<span style=\"font-weight: bold\"> ModelName  </span>┃\n",
       "┡━━━━━━━━━━━━━━━━━━━━━━━━━━━╇━━━━━━━━━╇━━━━━━━━━━━╇━━━━━━━━━━━━━━╇━━━━━━━━━━━━╇━━━━━━━━━╇━━━━━━━━━━━━━━╇━━━━━━━╇━━━━━━━━╇━━━━━━━━━━━╇━━━━━━━━━━━━┩\n",
       "│ <span style=\"color: #7f7f7f; text-decoration-color: #7f7f7f\">string</span>                    │ <span style=\"color: #7f7f7f; text-decoration-color: #7f7f7f\">float64</span> │ <span style=\"color: #7f7f7f; text-decoration-color: #7f7f7f\">int64</span>     │ <span style=\"color: #7f7f7f; text-decoration-color: #7f7f7f\">float64</span>      │ <span style=\"color: #7f7f7f; text-decoration-color: #7f7f7f\">float64</span>    │ <span style=\"color: #7f7f7f; text-decoration-color: #7f7f7f\">float64</span> │ <span style=\"color: #7f7f7f; text-decoration-color: #7f7f7f\">float64</span>      │ <span style=\"color: #7f7f7f; text-decoration-color: #7f7f7f\">int64</span> │ <span style=\"color: #7f7f7f; text-decoration-color: #7f7f7f\">string</span> │ <span style=\"color: #7f7f7f; text-decoration-color: #7f7f7f\">string</span>    │ <span style=\"color: #7f7f7f; text-decoration-color: #7f7f7f\">string</span>     │\n",
       "├───────────────────────────┼─────────┼───────────┼──────────────┼────────────┼─────────┼──────────────┼───────┼────────┼───────────┼────────────┤\n",
       "│ <span style=\"color: #008000; text-decoration-color: #008000\">Chevrolet Chevelle Malibu</span> │    <span style=\"color: #008080; text-decoration-color: #008080; font-weight: bold\">18.0</span> │         <span style=\"color: #008080; text-decoration-color: #008080; font-weight: bold\">8</span> │        <span style=\"color: #008080; text-decoration-color: #008080; font-weight: bold\">307.0</span> │      <span style=\"color: #008080; text-decoration-color: #008080; font-weight: bold\">130.0</span> │  <span style=\"color: #008080; text-decoration-color: #008080; font-weight: bold\">3504.0</span> │         <span style=\"color: #008080; text-decoration-color: #008080; font-weight: bold\">12.0</span> │    <span style=\"color: #008080; text-decoration-color: #008080; font-weight: bold\">70</span> │ <span style=\"color: #008000; text-decoration-color: #008000\">US    </span> │ <span style=\"color: #008000; text-decoration-color: #008000\">Chevrolet</span> │ <span style=\"color: #008000; text-decoration-color: #008000\">Chevelle  </span> │\n",
       "│ <span style=\"color: #008000; text-decoration-color: #008000\">Buick Skylark 320        </span> │    <span style=\"color: #008080; text-decoration-color: #008080; font-weight: bold\">15.0</span> │         <span style=\"color: #008080; text-decoration-color: #008080; font-weight: bold\">8</span> │        <span style=\"color: #008080; text-decoration-color: #008080; font-weight: bold\">350.0</span> │      <span style=\"color: #008080; text-decoration-color: #008080; font-weight: bold\">165.0</span> │  <span style=\"color: #008080; text-decoration-color: #008080; font-weight: bold\">3693.0</span> │         <span style=\"color: #008080; text-decoration-color: #008080; font-weight: bold\">11.5</span> │    <span style=\"color: #008080; text-decoration-color: #008080; font-weight: bold\">70</span> │ <span style=\"color: #008000; text-decoration-color: #008000\">US    </span> │ <span style=\"color: #008000; text-decoration-color: #008000\">Buick    </span> │ <span style=\"color: #008000; text-decoration-color: #008000\">Skylark   </span> │\n",
       "│ <span style=\"color: #008000; text-decoration-color: #008000\">Plymouth Satellite       </span> │    <span style=\"color: #008080; text-decoration-color: #008080; font-weight: bold\">18.0</span> │         <span style=\"color: #008080; text-decoration-color: #008080; font-weight: bold\">8</span> │        <span style=\"color: #008080; text-decoration-color: #008080; font-weight: bold\">318.0</span> │      <span style=\"color: #008080; text-decoration-color: #008080; font-weight: bold\">150.0</span> │  <span style=\"color: #008080; text-decoration-color: #008080; font-weight: bold\">3436.0</span> │         <span style=\"color: #008080; text-decoration-color: #008080; font-weight: bold\">11.0</span> │    <span style=\"color: #008080; text-decoration-color: #008080; font-weight: bold\">70</span> │ <span style=\"color: #008000; text-decoration-color: #008000\">US    </span> │ <span style=\"color: #008000; text-decoration-color: #008000\">Plymouth </span> │ <span style=\"color: #008000; text-decoration-color: #008000\">Satellite </span> │\n",
       "│ <span style=\"color: #008000; text-decoration-color: #008000\">AMC Rebel SST            </span> │    <span style=\"color: #008080; text-decoration-color: #008080; font-weight: bold\">16.0</span> │         <span style=\"color: #008080; text-decoration-color: #008080; font-weight: bold\">8</span> │        <span style=\"color: #008080; text-decoration-color: #008080; font-weight: bold\">304.0</span> │      <span style=\"color: #008080; text-decoration-color: #008080; font-weight: bold\">150.0</span> │  <span style=\"color: #008080; text-decoration-color: #008080; font-weight: bold\">3433.0</span> │         <span style=\"color: #008080; text-decoration-color: #008080; font-weight: bold\">12.0</span> │    <span style=\"color: #008080; text-decoration-color: #008080; font-weight: bold\">70</span> │ <span style=\"color: #008000; text-decoration-color: #008000\">US    </span> │ <span style=\"color: #008000; text-decoration-color: #008000\">AMC      </span> │ <span style=\"color: #008000; text-decoration-color: #008000\">Rebel     </span> │\n",
       "│ <span style=\"color: #008000; text-decoration-color: #008000\">Ford Torino              </span> │    <span style=\"color: #008080; text-decoration-color: #008080; font-weight: bold\">17.0</span> │         <span style=\"color: #008080; text-decoration-color: #008080; font-weight: bold\">8</span> │        <span style=\"color: #008080; text-decoration-color: #008080; font-weight: bold\">302.0</span> │      <span style=\"color: #008080; text-decoration-color: #008080; font-weight: bold\">140.0</span> │  <span style=\"color: #008080; text-decoration-color: #008080; font-weight: bold\">3449.0</span> │         <span style=\"color: #008080; text-decoration-color: #008080; font-weight: bold\">10.5</span> │    <span style=\"color: #008080; text-decoration-color: #008080; font-weight: bold\">70</span> │ <span style=\"color: #008000; text-decoration-color: #008000\">US    </span> │ <span style=\"color: #008000; text-decoration-color: #008000\">Ford     </span> │ <span style=\"color: #008000; text-decoration-color: #008000\">Torino    </span> │\n",
       "│ <span style=\"color: #008000; text-decoration-color: #008000\">Ford Galaxie 500         </span> │    <span style=\"color: #008080; text-decoration-color: #008080; font-weight: bold\">15.0</span> │         <span style=\"color: #008080; text-decoration-color: #008080; font-weight: bold\">8</span> │        <span style=\"color: #008080; text-decoration-color: #008080; font-weight: bold\">429.0</span> │      <span style=\"color: #008080; text-decoration-color: #008080; font-weight: bold\">198.0</span> │  <span style=\"color: #008080; text-decoration-color: #008080; font-weight: bold\">4341.0</span> │         <span style=\"color: #008080; text-decoration-color: #008080; font-weight: bold\">10.0</span> │    <span style=\"color: #008080; text-decoration-color: #008080; font-weight: bold\">70</span> │ <span style=\"color: #008000; text-decoration-color: #008000\">US    </span> │ <span style=\"color: #008000; text-decoration-color: #008000\">Ford     </span> │ <span style=\"color: #008000; text-decoration-color: #008000\">Galaxie   </span> │\n",
       "│ <span style=\"color: #008000; text-decoration-color: #008000\">Chevrolet Impala         </span> │    <span style=\"color: #008080; text-decoration-color: #008080; font-weight: bold\">14.0</span> │         <span style=\"color: #008080; text-decoration-color: #008080; font-weight: bold\">8</span> │        <span style=\"color: #008080; text-decoration-color: #008080; font-weight: bold\">454.0</span> │      <span style=\"color: #008080; text-decoration-color: #008080; font-weight: bold\">220.0</span> │  <span style=\"color: #008080; text-decoration-color: #008080; font-weight: bold\">4354.0</span> │          <span style=\"color: #008080; text-decoration-color: #008080; font-weight: bold\">9.0</span> │    <span style=\"color: #008080; text-decoration-color: #008080; font-weight: bold\">70</span> │ <span style=\"color: #008000; text-decoration-color: #008000\">US    </span> │ <span style=\"color: #008000; text-decoration-color: #008000\">Chevrolet</span> │ <span style=\"color: #008000; text-decoration-color: #008000\">Impala    </span> │\n",
       "│ <span style=\"color: #008000; text-decoration-color: #008000\">Plymouth Fury iii        </span> │    <span style=\"color: #008080; text-decoration-color: #008080; font-weight: bold\">14.0</span> │         <span style=\"color: #008080; text-decoration-color: #008080; font-weight: bold\">8</span> │        <span style=\"color: #008080; text-decoration-color: #008080; font-weight: bold\">440.0</span> │      <span style=\"color: #008080; text-decoration-color: #008080; font-weight: bold\">215.0</span> │  <span style=\"color: #008080; text-decoration-color: #008080; font-weight: bold\">4312.0</span> │          <span style=\"color: #008080; text-decoration-color: #008080; font-weight: bold\">8.5</span> │    <span style=\"color: #008080; text-decoration-color: #008080; font-weight: bold\">70</span> │ <span style=\"color: #008000; text-decoration-color: #008000\">US    </span> │ <span style=\"color: #008000; text-decoration-color: #008000\">Plymouth </span> │ <span style=\"color: #008000; text-decoration-color: #008000\">Fury      </span> │\n",
       "│ <span style=\"color: #008000; text-decoration-color: #008000\">Pontiac Catalina         </span> │    <span style=\"color: #008080; text-decoration-color: #008080; font-weight: bold\">14.0</span> │         <span style=\"color: #008080; text-decoration-color: #008080; font-weight: bold\">8</span> │        <span style=\"color: #008080; text-decoration-color: #008080; font-weight: bold\">455.0</span> │      <span style=\"color: #008080; text-decoration-color: #008080; font-weight: bold\">225.0</span> │  <span style=\"color: #008080; text-decoration-color: #008080; font-weight: bold\">4425.0</span> │         <span style=\"color: #008080; text-decoration-color: #008080; font-weight: bold\">10.0</span> │    <span style=\"color: #008080; text-decoration-color: #008080; font-weight: bold\">70</span> │ <span style=\"color: #008000; text-decoration-color: #008000\">US    </span> │ <span style=\"color: #008000; text-decoration-color: #008000\">Pontiac  </span> │ <span style=\"color: #008000; text-decoration-color: #008000\">Catalina  </span> │\n",
       "│ <span style=\"color: #008000; text-decoration-color: #008000\">AMC Ambassador DPL       </span> │    <span style=\"color: #008080; text-decoration-color: #008080; font-weight: bold\">15.0</span> │         <span style=\"color: #008080; text-decoration-color: #008080; font-weight: bold\">8</span> │        <span style=\"color: #008080; text-decoration-color: #008080; font-weight: bold\">390.0</span> │      <span style=\"color: #008080; text-decoration-color: #008080; font-weight: bold\">190.0</span> │  <span style=\"color: #008080; text-decoration-color: #008080; font-weight: bold\">3850.0</span> │          <span style=\"color: #008080; text-decoration-color: #008080; font-weight: bold\">8.5</span> │    <span style=\"color: #008080; text-decoration-color: #008080; font-weight: bold\">70</span> │ <span style=\"color: #008000; text-decoration-color: #008000\">US    </span> │ <span style=\"color: #008000; text-decoration-color: #008000\">AMC      </span> │ <span style=\"color: #008000; text-decoration-color: #008000\">Ambassador</span> │\n",
       "│ <span style=\"color: #7f7f7f; text-decoration-color: #7f7f7f\">…</span>                         │       <span style=\"color: #7f7f7f; text-decoration-color: #7f7f7f\">…</span> │         <span style=\"color: #7f7f7f; text-decoration-color: #7f7f7f\">…</span> │            <span style=\"color: #7f7f7f; text-decoration-color: #7f7f7f\">…</span> │          <span style=\"color: #7f7f7f; text-decoration-color: #7f7f7f\">…</span> │       <span style=\"color: #7f7f7f; text-decoration-color: #7f7f7f\">…</span> │            <span style=\"color: #7f7f7f; text-decoration-color: #7f7f7f\">…</span> │     <span style=\"color: #7f7f7f; text-decoration-color: #7f7f7f\">…</span> │ <span style=\"color: #7f7f7f; text-decoration-color: #7f7f7f\">…</span>      │ <span style=\"color: #7f7f7f; text-decoration-color: #7f7f7f\">…</span>         │ <span style=\"color: #7f7f7f; text-decoration-color: #7f7f7f\">…</span>          │\n",
       "└───────────────────────────┴─────────┴───────────┴──────────────┴────────────┴─────────┴──────────────┴───────┴────────┴───────────┴────────────┘\n",
       "</pre>\n"
      ],
      "text/plain": [
       "┏━━━━━━━━━━━━━━━━━━━━━━━━━━━┳━━━━━━━━━┳━━━━━━━━━━━┳━━━━━━━━━━━━━━┳━━━━━━━━━━━━┳━━━━━━━━━┳━━━━━━━━━━━━━━┳━━━━━━━┳━━━━━━━━┳━━━━━━━━━━━┳━━━━━━━━━━━━┓\n",
       "┃\u001b[1m \u001b[0m\u001b[1mCar\u001b[0m\u001b[1m                      \u001b[0m\u001b[1m \u001b[0m┃\u001b[1m \u001b[0m\u001b[1mMPG\u001b[0m\u001b[1m    \u001b[0m\u001b[1m \u001b[0m┃\u001b[1m \u001b[0m\u001b[1mCylinders\u001b[0m\u001b[1m \u001b[0m┃\u001b[1m \u001b[0m\u001b[1mDisplacement\u001b[0m\u001b[1m \u001b[0m┃\u001b[1m \u001b[0m\u001b[1mHorsepower\u001b[0m\u001b[1m \u001b[0m┃\u001b[1m \u001b[0m\u001b[1mWeight\u001b[0m\u001b[1m \u001b[0m\u001b[1m \u001b[0m┃\u001b[1m \u001b[0m\u001b[1mAcceleration\u001b[0m\u001b[1m \u001b[0m┃\u001b[1m \u001b[0m\u001b[1mModel\u001b[0m\u001b[1m \u001b[0m┃\u001b[1m \u001b[0m\u001b[1mOrigin\u001b[0m\u001b[1m \u001b[0m┃\u001b[1m \u001b[0m\u001b[1mMake\u001b[0m\u001b[1m     \u001b[0m\u001b[1m \u001b[0m┃\u001b[1m \u001b[0m\u001b[1mModelName\u001b[0m\u001b[1m \u001b[0m\u001b[1m \u001b[0m┃\n",
       "┡━━━━━━━━━━━━━━━━━━━━━━━━━━━╇━━━━━━━━━╇━━━━━━━━━━━╇━━━━━━━━━━━━━━╇━━━━━━━━━━━━╇━━━━━━━━━╇━━━━━━━━━━━━━━╇━━━━━━━╇━━━━━━━━╇━━━━━━━━━━━╇━━━━━━━━━━━━┩\n",
       "│ \u001b[2mstring\u001b[0m                    │ \u001b[2mfloat64\u001b[0m │ \u001b[2mint64\u001b[0m     │ \u001b[2mfloat64\u001b[0m      │ \u001b[2mfloat64\u001b[0m    │ \u001b[2mfloat64\u001b[0m │ \u001b[2mfloat64\u001b[0m      │ \u001b[2mint64\u001b[0m │ \u001b[2mstring\u001b[0m │ \u001b[2mstring\u001b[0m    │ \u001b[2mstring\u001b[0m     │\n",
       "├───────────────────────────┼─────────┼───────────┼──────────────┼────────────┼─────────┼──────────────┼───────┼────────┼───────────┼────────────┤\n",
       "│ \u001b[32mChevrolet Chevelle Malibu\u001b[0m │    \u001b[1;36m18.0\u001b[0m │         \u001b[1;36m8\u001b[0m │        \u001b[1;36m307.0\u001b[0m │      \u001b[1;36m130.0\u001b[0m │  \u001b[1;36m3504.0\u001b[0m │         \u001b[1;36m12.0\u001b[0m │    \u001b[1;36m70\u001b[0m │ \u001b[32mUS    \u001b[0m │ \u001b[32mChevrolet\u001b[0m │ \u001b[32mChevelle  \u001b[0m │\n",
       "│ \u001b[32mBuick Skylark 320        \u001b[0m │    \u001b[1;36m15.0\u001b[0m │         \u001b[1;36m8\u001b[0m │        \u001b[1;36m350.0\u001b[0m │      \u001b[1;36m165.0\u001b[0m │  \u001b[1;36m3693.0\u001b[0m │         \u001b[1;36m11.5\u001b[0m │    \u001b[1;36m70\u001b[0m │ \u001b[32mUS    \u001b[0m │ \u001b[32mBuick    \u001b[0m │ \u001b[32mSkylark   \u001b[0m │\n",
       "│ \u001b[32mPlymouth Satellite       \u001b[0m │    \u001b[1;36m18.0\u001b[0m │         \u001b[1;36m8\u001b[0m │        \u001b[1;36m318.0\u001b[0m │      \u001b[1;36m150.0\u001b[0m │  \u001b[1;36m3436.0\u001b[0m │         \u001b[1;36m11.0\u001b[0m │    \u001b[1;36m70\u001b[0m │ \u001b[32mUS    \u001b[0m │ \u001b[32mPlymouth \u001b[0m │ \u001b[32mSatellite \u001b[0m │\n",
       "│ \u001b[32mAMC Rebel SST            \u001b[0m │    \u001b[1;36m16.0\u001b[0m │         \u001b[1;36m8\u001b[0m │        \u001b[1;36m304.0\u001b[0m │      \u001b[1;36m150.0\u001b[0m │  \u001b[1;36m3433.0\u001b[0m │         \u001b[1;36m12.0\u001b[0m │    \u001b[1;36m70\u001b[0m │ \u001b[32mUS    \u001b[0m │ \u001b[32mAMC      \u001b[0m │ \u001b[32mRebel     \u001b[0m │\n",
       "│ \u001b[32mFord Torino              \u001b[0m │    \u001b[1;36m17.0\u001b[0m │         \u001b[1;36m8\u001b[0m │        \u001b[1;36m302.0\u001b[0m │      \u001b[1;36m140.0\u001b[0m │  \u001b[1;36m3449.0\u001b[0m │         \u001b[1;36m10.5\u001b[0m │    \u001b[1;36m70\u001b[0m │ \u001b[32mUS    \u001b[0m │ \u001b[32mFord     \u001b[0m │ \u001b[32mTorino    \u001b[0m │\n",
       "│ \u001b[32mFord Galaxie 500         \u001b[0m │    \u001b[1;36m15.0\u001b[0m │         \u001b[1;36m8\u001b[0m │        \u001b[1;36m429.0\u001b[0m │      \u001b[1;36m198.0\u001b[0m │  \u001b[1;36m4341.0\u001b[0m │         \u001b[1;36m10.0\u001b[0m │    \u001b[1;36m70\u001b[0m │ \u001b[32mUS    \u001b[0m │ \u001b[32mFord     \u001b[0m │ \u001b[32mGalaxie   \u001b[0m │\n",
       "│ \u001b[32mChevrolet Impala         \u001b[0m │    \u001b[1;36m14.0\u001b[0m │         \u001b[1;36m8\u001b[0m │        \u001b[1;36m454.0\u001b[0m │      \u001b[1;36m220.0\u001b[0m │  \u001b[1;36m4354.0\u001b[0m │          \u001b[1;36m9.0\u001b[0m │    \u001b[1;36m70\u001b[0m │ \u001b[32mUS    \u001b[0m │ \u001b[32mChevrolet\u001b[0m │ \u001b[32mImpala    \u001b[0m │\n",
       "│ \u001b[32mPlymouth Fury iii        \u001b[0m │    \u001b[1;36m14.0\u001b[0m │         \u001b[1;36m8\u001b[0m │        \u001b[1;36m440.0\u001b[0m │      \u001b[1;36m215.0\u001b[0m │  \u001b[1;36m4312.0\u001b[0m │          \u001b[1;36m8.5\u001b[0m │    \u001b[1;36m70\u001b[0m │ \u001b[32mUS    \u001b[0m │ \u001b[32mPlymouth \u001b[0m │ \u001b[32mFury      \u001b[0m │\n",
       "│ \u001b[32mPontiac Catalina         \u001b[0m │    \u001b[1;36m14.0\u001b[0m │         \u001b[1;36m8\u001b[0m │        \u001b[1;36m455.0\u001b[0m │      \u001b[1;36m225.0\u001b[0m │  \u001b[1;36m4425.0\u001b[0m │         \u001b[1;36m10.0\u001b[0m │    \u001b[1;36m70\u001b[0m │ \u001b[32mUS    \u001b[0m │ \u001b[32mPontiac  \u001b[0m │ \u001b[32mCatalina  \u001b[0m │\n",
       "│ \u001b[32mAMC Ambassador DPL       \u001b[0m │    \u001b[1;36m15.0\u001b[0m │         \u001b[1;36m8\u001b[0m │        \u001b[1;36m390.0\u001b[0m │      \u001b[1;36m190.0\u001b[0m │  \u001b[1;36m3850.0\u001b[0m │          \u001b[1;36m8.5\u001b[0m │    \u001b[1;36m70\u001b[0m │ \u001b[32mUS    \u001b[0m │ \u001b[32mAMC      \u001b[0m │ \u001b[32mAmbassador\u001b[0m │\n",
       "│ \u001b[2m…\u001b[0m                         │       \u001b[2m…\u001b[0m │         \u001b[2m…\u001b[0m │            \u001b[2m…\u001b[0m │          \u001b[2m…\u001b[0m │       \u001b[2m…\u001b[0m │            \u001b[2m…\u001b[0m │     \u001b[2m…\u001b[0m │ \u001b[2m…\u001b[0m      │ \u001b[2m…\u001b[0m         │ \u001b[2m…\u001b[0m          │\n",
       "└───────────────────────────┴─────────┴───────────┴──────────────┴────────────┴─────────┴──────────────┴───────┴────────┴───────────┴────────────┘"
      ]
     },
     "execution_count": 42,
     "metadata": {},
     "output_type": "execute_result"
    }
   ],
   "source": [
    "cars"
   ]
  },
  {
   "cell_type": "markdown",
   "id": "0e848ac0-c4b1-4557-bf1a-c07a8e00d59b",
   "metadata": {},
   "source": [
    "When using `filter()` and multiple conditions, you need to wrap each condition with parenthesis.  When using boolean logic, use `&` and `|` symbols for `AND` or `OR` logic, respectively."
   ]
  },
  {
   "cell_type": "code",
   "execution_count": 43,
   "id": "fe133723-6c99-4d48-bfb7-d88d8b3534cb",
   "metadata": {
    "tags": []
   },
   "outputs": [
    {
     "data": {
      "text/html": [
       "<pre style=\"white-space:pre;overflow-x:auto;line-height:normal;font-family:Menlo,'DejaVu Sans Mono',consolas,'Courier New',monospace\"></pre>\n"
      ],
      "text/plain": []
     },
     "metadata": {},
     "output_type": "display_data"
    },
    {
     "data": {
      "text/plain": [
       "\u001b[1;36m29.118750000000002\u001b[0m"
      ]
     },
     "execution_count": 43,
     "metadata": {},
     "output_type": "execute_result"
    }
   ],
   "source": [
    "cars.filter(\n",
    "    (cars['MPG'] > 0)\n",
    "    & (cars['Cylinders'] < 5)\n",
    ")['MPG'].mean()"
   ]
  },
  {
   "cell_type": "code",
   "execution_count": 44,
   "id": "cf8495e9-44b3-42e0-ad99-46612a86a704",
   "metadata": {
    "tags": []
   },
   "outputs": [
    {
     "data": {
      "text/html": [
       "<pre style=\"white-space:pre;overflow-x:auto;line-height:normal;font-family:Menlo,'DejaVu Sans Mono',consolas,'Courier New',monospace\">┏━━━━━━━━━━━━━━━━━━━━━━━━━━━━━━┳━━━━━━━━━┳━━━━━━━━━━━┳━━━━━━━━━━━━━━┳━━━━━━━━━━━━┳━━━━━━━━━┳━━━━━━━━━━━━━━┳━━━━━━━┳━━━━━━━━┳━━━━━━━━━━━━┳━━━━━━━━━━━┓\n",
       "┃<span style=\"font-weight: bold\"> Car                          </span>┃<span style=\"font-weight: bold\"> MPG     </span>┃<span style=\"font-weight: bold\"> Cylinders </span>┃<span style=\"font-weight: bold\"> Displacement </span>┃<span style=\"font-weight: bold\"> Horsepower </span>┃<span style=\"font-weight: bold\"> Weight  </span>┃<span style=\"font-weight: bold\"> Acceleration </span>┃<span style=\"font-weight: bold\"> Model </span>┃<span style=\"font-weight: bold\"> Origin </span>┃<span style=\"font-weight: bold\"> Make       </span>┃<span style=\"font-weight: bold\"> ModelName </span>┃\n",
       "┡━━━━━━━━━━━━━━━━━━━━━━━━━━━━━━╇━━━━━━━━━╇━━━━━━━━━━━╇━━━━━━━━━━━━━━╇━━━━━━━━━━━━╇━━━━━━━━━╇━━━━━━━━━━━━━━╇━━━━━━━╇━━━━━━━━╇━━━━━━━━━━━━╇━━━━━━━━━━━┩\n",
       "│ <span style=\"color: #7f7f7f; text-decoration-color: #7f7f7f\">string</span>                       │ <span style=\"color: #7f7f7f; text-decoration-color: #7f7f7f\">float64</span> │ <span style=\"color: #7f7f7f; text-decoration-color: #7f7f7f\">int64</span>     │ <span style=\"color: #7f7f7f; text-decoration-color: #7f7f7f\">float64</span>      │ <span style=\"color: #7f7f7f; text-decoration-color: #7f7f7f\">float64</span>    │ <span style=\"color: #7f7f7f; text-decoration-color: #7f7f7f\">float64</span> │ <span style=\"color: #7f7f7f; text-decoration-color: #7f7f7f\">float64</span>      │ <span style=\"color: #7f7f7f; text-decoration-color: #7f7f7f\">int64</span> │ <span style=\"color: #7f7f7f; text-decoration-color: #7f7f7f\">string</span> │ <span style=\"color: #7f7f7f; text-decoration-color: #7f7f7f\">string</span>     │ <span style=\"color: #7f7f7f; text-decoration-color: #7f7f7f\">string</span>    │\n",
       "├──────────────────────────────┼─────────┼───────────┼──────────────┼────────────┼─────────┼──────────────┼───────┼────────┼────────────┼───────────┤\n",
       "│ <span style=\"color: #008000; text-decoration-color: #008000\">Toyota Corolla Mark ii      </span> │    <span style=\"color: #008080; text-decoration-color: #008080; font-weight: bold\">24.0</span> │         <span style=\"color: #008080; text-decoration-color: #008080; font-weight: bold\">4</span> │        <span style=\"color: #008080; text-decoration-color: #008080; font-weight: bold\">113.0</span> │       <span style=\"color: #008080; text-decoration-color: #008080; font-weight: bold\">95.0</span> │  <span style=\"color: #008080; text-decoration-color: #008080; font-weight: bold\">2372.0</span> │         <span style=\"color: #008080; text-decoration-color: #008080; font-weight: bold\">15.0</span> │    <span style=\"color: #008080; text-decoration-color: #008080; font-weight: bold\">70</span> │ <span style=\"color: #008000; text-decoration-color: #008000\">Japan </span> │ <span style=\"color: #008000; text-decoration-color: #008000\">Toyota    </span> │ <span style=\"color: #008000; text-decoration-color: #008000\">Corolla  </span> │\n",
       "│ <span style=\"color: #008000; text-decoration-color: #008000\">Datsun PL510                </span> │    <span style=\"color: #008080; text-decoration-color: #008080; font-weight: bold\">27.0</span> │         <span style=\"color: #008080; text-decoration-color: #008080; font-weight: bold\">4</span> │         <span style=\"color: #008080; text-decoration-color: #008080; font-weight: bold\">97.0</span> │       <span style=\"color: #008080; text-decoration-color: #008080; font-weight: bold\">88.0</span> │  <span style=\"color: #008080; text-decoration-color: #008080; font-weight: bold\">2130.0</span> │         <span style=\"color: #008080; text-decoration-color: #008080; font-weight: bold\">14.5</span> │    <span style=\"color: #008080; text-decoration-color: #008080; font-weight: bold\">70</span> │ <span style=\"color: #008000; text-decoration-color: #008000\">Japan </span> │ <span style=\"color: #008000; text-decoration-color: #008000\">Datsun    </span> │ <span style=\"color: #008000; text-decoration-color: #008000\">PL510    </span> │\n",
       "│ <span style=\"color: #008000; text-decoration-color: #008000\">Volkswagen 1131 Deluxe Sedan</span> │    <span style=\"color: #008080; text-decoration-color: #008080; font-weight: bold\">26.0</span> │         <span style=\"color: #008080; text-decoration-color: #008080; font-weight: bold\">4</span> │         <span style=\"color: #008080; text-decoration-color: #008080; font-weight: bold\">97.0</span> │       <span style=\"color: #008080; text-decoration-color: #008080; font-weight: bold\">46.0</span> │  <span style=\"color: #008080; text-decoration-color: #008080; font-weight: bold\">1835.0</span> │         <span style=\"color: #008080; text-decoration-color: #008080; font-weight: bold\">20.5</span> │    <span style=\"color: #008080; text-decoration-color: #008080; font-weight: bold\">70</span> │ <span style=\"color: #008000; text-decoration-color: #008000\">Europe</span> │ <span style=\"color: #008000; text-decoration-color: #008000\">Volkswagen</span> │ <span style=\"color: #008000; text-decoration-color: #008000\">1131     </span> │\n",
       "│ <span style=\"color: #008000; text-decoration-color: #008000\">Peugeot 504                 </span> │    <span style=\"color: #008080; text-decoration-color: #008080; font-weight: bold\">25.0</span> │         <span style=\"color: #008080; text-decoration-color: #008080; font-weight: bold\">4</span> │        <span style=\"color: #008080; text-decoration-color: #008080; font-weight: bold\">110.0</span> │       <span style=\"color: #008080; text-decoration-color: #008080; font-weight: bold\">87.0</span> │  <span style=\"color: #008080; text-decoration-color: #008080; font-weight: bold\">2672.0</span> │         <span style=\"color: #008080; text-decoration-color: #008080; font-weight: bold\">17.5</span> │    <span style=\"color: #008080; text-decoration-color: #008080; font-weight: bold\">70</span> │ <span style=\"color: #008000; text-decoration-color: #008000\">Europe</span> │ <span style=\"color: #008000; text-decoration-color: #008000\">Peugeot   </span> │ <span style=\"color: #008000; text-decoration-color: #008000\">504      </span> │\n",
       "│ <span style=\"color: #008000; text-decoration-color: #008000\">Audi 100 LS                 </span> │    <span style=\"color: #008080; text-decoration-color: #008080; font-weight: bold\">24.0</span> │         <span style=\"color: #008080; text-decoration-color: #008080; font-weight: bold\">4</span> │        <span style=\"color: #008080; text-decoration-color: #008080; font-weight: bold\">107.0</span> │       <span style=\"color: #008080; text-decoration-color: #008080; font-weight: bold\">90.0</span> │  <span style=\"color: #008080; text-decoration-color: #008080; font-weight: bold\">2430.0</span> │         <span style=\"color: #008080; text-decoration-color: #008080; font-weight: bold\">14.5</span> │    <span style=\"color: #008080; text-decoration-color: #008080; font-weight: bold\">70</span> │ <span style=\"color: #008000; text-decoration-color: #008000\">Europe</span> │ <span style=\"color: #008000; text-decoration-color: #008000\">Audi      </span> │ <span style=\"color: #008000; text-decoration-color: #008000\">100      </span> │\n",
       "│ <span style=\"color: #008000; text-decoration-color: #008000\">Saab 99e                    </span> │    <span style=\"color: #008080; text-decoration-color: #008080; font-weight: bold\">25.0</span> │         <span style=\"color: #008080; text-decoration-color: #008080; font-weight: bold\">4</span> │        <span style=\"color: #008080; text-decoration-color: #008080; font-weight: bold\">104.0</span> │       <span style=\"color: #008080; text-decoration-color: #008080; font-weight: bold\">95.0</span> │  <span style=\"color: #008080; text-decoration-color: #008080; font-weight: bold\">2375.0</span> │         <span style=\"color: #008080; text-decoration-color: #008080; font-weight: bold\">17.5</span> │    <span style=\"color: #008080; text-decoration-color: #008080; font-weight: bold\">70</span> │ <span style=\"color: #008000; text-decoration-color: #008000\">Europe</span> │ <span style=\"color: #008000; text-decoration-color: #008000\">Saab      </span> │ <span style=\"color: #008000; text-decoration-color: #008000\">99e      </span> │\n",
       "│ <span style=\"color: #008000; text-decoration-color: #008000\">BMW 2002                    </span> │    <span style=\"color: #008080; text-decoration-color: #008080; font-weight: bold\">26.0</span> │         <span style=\"color: #008080; text-decoration-color: #008080; font-weight: bold\">4</span> │        <span style=\"color: #008080; text-decoration-color: #008080; font-weight: bold\">121.0</span> │      <span style=\"color: #008080; text-decoration-color: #008080; font-weight: bold\">113.0</span> │  <span style=\"color: #008080; text-decoration-color: #008080; font-weight: bold\">2234.0</span> │         <span style=\"color: #008080; text-decoration-color: #008080; font-weight: bold\">12.5</span> │    <span style=\"color: #008080; text-decoration-color: #008080; font-weight: bold\">70</span> │ <span style=\"color: #008000; text-decoration-color: #008000\">Europe</span> │ <span style=\"color: #008000; text-decoration-color: #008000\">BMW       </span> │ <span style=\"color: #008000; text-decoration-color: #008000\">2002     </span> │\n",
       "│ <span style=\"color: #008000; text-decoration-color: #008000\">Datsun PL510                </span> │    <span style=\"color: #008080; text-decoration-color: #008080; font-weight: bold\">27.0</span> │         <span style=\"color: #008080; text-decoration-color: #008080; font-weight: bold\">4</span> │         <span style=\"color: #008080; text-decoration-color: #008080; font-weight: bold\">97.0</span> │       <span style=\"color: #008080; text-decoration-color: #008080; font-weight: bold\">88.0</span> │  <span style=\"color: #008080; text-decoration-color: #008080; font-weight: bold\">2130.0</span> │         <span style=\"color: #008080; text-decoration-color: #008080; font-weight: bold\">14.5</span> │    <span style=\"color: #008080; text-decoration-color: #008080; font-weight: bold\">71</span> │ <span style=\"color: #008000; text-decoration-color: #008000\">Japan </span> │ <span style=\"color: #008000; text-decoration-color: #008000\">Datsun    </span> │ <span style=\"color: #008000; text-decoration-color: #008000\">PL510    </span> │\n",
       "│ <span style=\"color: #008000; text-decoration-color: #008000\">Chevrolet Vega 2300         </span> │    <span style=\"color: #008080; text-decoration-color: #008080; font-weight: bold\">28.0</span> │         <span style=\"color: #008080; text-decoration-color: #008080; font-weight: bold\">4</span> │        <span style=\"color: #008080; text-decoration-color: #008080; font-weight: bold\">140.0</span> │       <span style=\"color: #008080; text-decoration-color: #008080; font-weight: bold\">90.0</span> │  <span style=\"color: #008080; text-decoration-color: #008080; font-weight: bold\">2264.0</span> │         <span style=\"color: #008080; text-decoration-color: #008080; font-weight: bold\">15.5</span> │    <span style=\"color: #008080; text-decoration-color: #008080; font-weight: bold\">71</span> │ <span style=\"color: #008000; text-decoration-color: #008000\">US    </span> │ <span style=\"color: #008000; text-decoration-color: #008000\">Chevrolet </span> │ <span style=\"color: #008000; text-decoration-color: #008000\">Vega     </span> │\n",
       "│ <span style=\"color: #008000; text-decoration-color: #008000\">Toyota Corolla              </span> │    <span style=\"color: #008080; text-decoration-color: #008080; font-weight: bold\">25.0</span> │         <span style=\"color: #008080; text-decoration-color: #008080; font-weight: bold\">4</span> │        <span style=\"color: #008080; text-decoration-color: #008080; font-weight: bold\">113.0</span> │       <span style=\"color: #008080; text-decoration-color: #008080; font-weight: bold\">95.0</span> │  <span style=\"color: #008080; text-decoration-color: #008080; font-weight: bold\">2228.0</span> │         <span style=\"color: #008080; text-decoration-color: #008080; font-weight: bold\">14.0</span> │    <span style=\"color: #008080; text-decoration-color: #008080; font-weight: bold\">71</span> │ <span style=\"color: #008000; text-decoration-color: #008000\">Japan </span> │ <span style=\"color: #008000; text-decoration-color: #008000\">Toyota    </span> │ <span style=\"color: #008000; text-decoration-color: #008000\">Corolla  </span> │\n",
       "│ <span style=\"color: #7f7f7f; text-decoration-color: #7f7f7f\">…</span>                            │       <span style=\"color: #7f7f7f; text-decoration-color: #7f7f7f\">…</span> │         <span style=\"color: #7f7f7f; text-decoration-color: #7f7f7f\">…</span> │            <span style=\"color: #7f7f7f; text-decoration-color: #7f7f7f\">…</span> │          <span style=\"color: #7f7f7f; text-decoration-color: #7f7f7f\">…</span> │       <span style=\"color: #7f7f7f; text-decoration-color: #7f7f7f\">…</span> │            <span style=\"color: #7f7f7f; text-decoration-color: #7f7f7f\">…</span> │     <span style=\"color: #7f7f7f; text-decoration-color: #7f7f7f\">…</span> │ <span style=\"color: #7f7f7f; text-decoration-color: #7f7f7f\">…</span>      │ <span style=\"color: #7f7f7f; text-decoration-color: #7f7f7f\">…</span>          │ <span style=\"color: #7f7f7f; text-decoration-color: #7f7f7f\">…</span>         │\n",
       "└──────────────────────────────┴─────────┴───────────┴──────────────┴────────────┴─────────┴──────────────┴───────┴────────┴────────────┴───────────┘\n",
       "</pre>\n"
      ],
      "text/plain": [
       "┏━━━━━━━━━━━━━━━━━━━━━━━━━━━━━━┳━━━━━━━━━┳━━━━━━━━━━━┳━━━━━━━━━━━━━━┳━━━━━━━━━━━━┳━━━━━━━━━┳━━━━━━━━━━━━━━┳━━━━━━━┳━━━━━━━━┳━━━━━━━━━━━━┳━━━━━━━━━━━┓\n",
       "┃\u001b[1m \u001b[0m\u001b[1mCar\u001b[0m\u001b[1m                         \u001b[0m\u001b[1m \u001b[0m┃\u001b[1m \u001b[0m\u001b[1mMPG\u001b[0m\u001b[1m    \u001b[0m\u001b[1m \u001b[0m┃\u001b[1m \u001b[0m\u001b[1mCylinders\u001b[0m\u001b[1m \u001b[0m┃\u001b[1m \u001b[0m\u001b[1mDisplacement\u001b[0m\u001b[1m \u001b[0m┃\u001b[1m \u001b[0m\u001b[1mHorsepower\u001b[0m\u001b[1m \u001b[0m┃\u001b[1m \u001b[0m\u001b[1mWeight\u001b[0m\u001b[1m \u001b[0m\u001b[1m \u001b[0m┃\u001b[1m \u001b[0m\u001b[1mAcceleration\u001b[0m\u001b[1m \u001b[0m┃\u001b[1m \u001b[0m\u001b[1mModel\u001b[0m\u001b[1m \u001b[0m┃\u001b[1m \u001b[0m\u001b[1mOrigin\u001b[0m\u001b[1m \u001b[0m┃\u001b[1m \u001b[0m\u001b[1mMake\u001b[0m\u001b[1m      \u001b[0m\u001b[1m \u001b[0m┃\u001b[1m \u001b[0m\u001b[1mModelName\u001b[0m\u001b[1m \u001b[0m┃\n",
       "┡━━━━━━━━━━━━━━━━━━━━━━━━━━━━━━╇━━━━━━━━━╇━━━━━━━━━━━╇━━━━━━━━━━━━━━╇━━━━━━━━━━━━╇━━━━━━━━━╇━━━━━━━━━━━━━━╇━━━━━━━╇━━━━━━━━╇━━━━━━━━━━━━╇━━━━━━━━━━━┩\n",
       "│ \u001b[2mstring\u001b[0m                       │ \u001b[2mfloat64\u001b[0m │ \u001b[2mint64\u001b[0m     │ \u001b[2mfloat64\u001b[0m      │ \u001b[2mfloat64\u001b[0m    │ \u001b[2mfloat64\u001b[0m │ \u001b[2mfloat64\u001b[0m      │ \u001b[2mint64\u001b[0m │ \u001b[2mstring\u001b[0m │ \u001b[2mstring\u001b[0m     │ \u001b[2mstring\u001b[0m    │\n",
       "├──────────────────────────────┼─────────┼───────────┼──────────────┼────────────┼─────────┼──────────────┼───────┼────────┼────────────┼───────────┤\n",
       "│ \u001b[32mToyota Corolla Mark ii      \u001b[0m │    \u001b[1;36m24.0\u001b[0m │         \u001b[1;36m4\u001b[0m │        \u001b[1;36m113.0\u001b[0m │       \u001b[1;36m95.0\u001b[0m │  \u001b[1;36m2372.0\u001b[0m │         \u001b[1;36m15.0\u001b[0m │    \u001b[1;36m70\u001b[0m │ \u001b[32mJapan \u001b[0m │ \u001b[32mToyota    \u001b[0m │ \u001b[32mCorolla  \u001b[0m │\n",
       "│ \u001b[32mDatsun PL510                \u001b[0m │    \u001b[1;36m27.0\u001b[0m │         \u001b[1;36m4\u001b[0m │         \u001b[1;36m97.0\u001b[0m │       \u001b[1;36m88.0\u001b[0m │  \u001b[1;36m2130.0\u001b[0m │         \u001b[1;36m14.5\u001b[0m │    \u001b[1;36m70\u001b[0m │ \u001b[32mJapan \u001b[0m │ \u001b[32mDatsun    \u001b[0m │ \u001b[32mPL510    \u001b[0m │\n",
       "│ \u001b[32mVolkswagen 1131 Deluxe Sedan\u001b[0m │    \u001b[1;36m26.0\u001b[0m │         \u001b[1;36m4\u001b[0m │         \u001b[1;36m97.0\u001b[0m │       \u001b[1;36m46.0\u001b[0m │  \u001b[1;36m1835.0\u001b[0m │         \u001b[1;36m20.5\u001b[0m │    \u001b[1;36m70\u001b[0m │ \u001b[32mEurope\u001b[0m │ \u001b[32mVolkswagen\u001b[0m │ \u001b[32m1131     \u001b[0m │\n",
       "│ \u001b[32mPeugeot 504                 \u001b[0m │    \u001b[1;36m25.0\u001b[0m │         \u001b[1;36m4\u001b[0m │        \u001b[1;36m110.0\u001b[0m │       \u001b[1;36m87.0\u001b[0m │  \u001b[1;36m2672.0\u001b[0m │         \u001b[1;36m17.5\u001b[0m │    \u001b[1;36m70\u001b[0m │ \u001b[32mEurope\u001b[0m │ \u001b[32mPeugeot   \u001b[0m │ \u001b[32m504      \u001b[0m │\n",
       "│ \u001b[32mAudi 100 LS                 \u001b[0m │    \u001b[1;36m24.0\u001b[0m │         \u001b[1;36m4\u001b[0m │        \u001b[1;36m107.0\u001b[0m │       \u001b[1;36m90.0\u001b[0m │  \u001b[1;36m2430.0\u001b[0m │         \u001b[1;36m14.5\u001b[0m │    \u001b[1;36m70\u001b[0m │ \u001b[32mEurope\u001b[0m │ \u001b[32mAudi      \u001b[0m │ \u001b[32m100      \u001b[0m │\n",
       "│ \u001b[32mSaab 99e                    \u001b[0m │    \u001b[1;36m25.0\u001b[0m │         \u001b[1;36m4\u001b[0m │        \u001b[1;36m104.0\u001b[0m │       \u001b[1;36m95.0\u001b[0m │  \u001b[1;36m2375.0\u001b[0m │         \u001b[1;36m17.5\u001b[0m │    \u001b[1;36m70\u001b[0m │ \u001b[32mEurope\u001b[0m │ \u001b[32mSaab      \u001b[0m │ \u001b[32m99e      \u001b[0m │\n",
       "│ \u001b[32mBMW 2002                    \u001b[0m │    \u001b[1;36m26.0\u001b[0m │         \u001b[1;36m4\u001b[0m │        \u001b[1;36m121.0\u001b[0m │      \u001b[1;36m113.0\u001b[0m │  \u001b[1;36m2234.0\u001b[0m │         \u001b[1;36m12.5\u001b[0m │    \u001b[1;36m70\u001b[0m │ \u001b[32mEurope\u001b[0m │ \u001b[32mBMW       \u001b[0m │ \u001b[32m2002     \u001b[0m │\n",
       "│ \u001b[32mDatsun PL510                \u001b[0m │    \u001b[1;36m27.0\u001b[0m │         \u001b[1;36m4\u001b[0m │         \u001b[1;36m97.0\u001b[0m │       \u001b[1;36m88.0\u001b[0m │  \u001b[1;36m2130.0\u001b[0m │         \u001b[1;36m14.5\u001b[0m │    \u001b[1;36m71\u001b[0m │ \u001b[32mJapan \u001b[0m │ \u001b[32mDatsun    \u001b[0m │ \u001b[32mPL510    \u001b[0m │\n",
       "│ \u001b[32mChevrolet Vega 2300         \u001b[0m │    \u001b[1;36m28.0\u001b[0m │         \u001b[1;36m4\u001b[0m │        \u001b[1;36m140.0\u001b[0m │       \u001b[1;36m90.0\u001b[0m │  \u001b[1;36m2264.0\u001b[0m │         \u001b[1;36m15.5\u001b[0m │    \u001b[1;36m71\u001b[0m │ \u001b[32mUS    \u001b[0m │ \u001b[32mChevrolet \u001b[0m │ \u001b[32mVega     \u001b[0m │\n",
       "│ \u001b[32mToyota Corolla              \u001b[0m │    \u001b[1;36m25.0\u001b[0m │         \u001b[1;36m4\u001b[0m │        \u001b[1;36m113.0\u001b[0m │       \u001b[1;36m95.0\u001b[0m │  \u001b[1;36m2228.0\u001b[0m │         \u001b[1;36m14.0\u001b[0m │    \u001b[1;36m71\u001b[0m │ \u001b[32mJapan \u001b[0m │ \u001b[32mToyota    \u001b[0m │ \u001b[32mCorolla  \u001b[0m │\n",
       "│ \u001b[2m…\u001b[0m                            │       \u001b[2m…\u001b[0m │         \u001b[2m…\u001b[0m │            \u001b[2m…\u001b[0m │          \u001b[2m…\u001b[0m │       \u001b[2m…\u001b[0m │            \u001b[2m…\u001b[0m │     \u001b[2m…\u001b[0m │ \u001b[2m…\u001b[0m      │ \u001b[2m…\u001b[0m          │ \u001b[2m…\u001b[0m         │\n",
       "└──────────────────────────────┴─────────┴───────────┴──────────────┴────────────┴─────────┴──────────────┴───────┴────────┴────────────┴───────────┘"
      ]
     },
     "execution_count": 44,
     "metadata": {},
     "output_type": "execute_result"
    }
   ],
   "source": [
    "cars.filter(\n",
    "    (cars['MPG'] > 0) & (cars['Cylinders'] < 5)\n",
    ")"
   ]
  },
  {
   "cell_type": "code",
   "execution_count": 45,
   "id": "6fb1ba99-f12a-4585-b6aa-2ecba3f24ab2",
   "metadata": {
    "tags": []
   },
   "outputs": [
    {
     "data": {
      "text/html": [
       "<pre style=\"white-space:pre;overflow-x:auto;line-height:normal;font-family:Menlo,'DejaVu Sans Mono',consolas,'Courier New',monospace\">┏━━━━━━━━━━━━━━━━━━━━━━━━━━━━━━┳━━━━━━━━━┳━━━━━━━━━━━┳━━━━━━━━━━━━━━┳━━━━━━━━━━━━┳━━━━━━━━━┳━━━━━━━━━━━━━━┳━━━━━━━┳━━━━━━━━┳━━━━━━━━━━━━┳━━━━━━━━━━━┓\n",
       "┃<span style=\"font-weight: bold\"> Car                          </span>┃<span style=\"font-weight: bold\"> MPG     </span>┃<span style=\"font-weight: bold\"> Cylinders </span>┃<span style=\"font-weight: bold\"> Displacement </span>┃<span style=\"font-weight: bold\"> Horsepower </span>┃<span style=\"font-weight: bold\"> Weight  </span>┃<span style=\"font-weight: bold\"> Acceleration </span>┃<span style=\"font-weight: bold\"> Model </span>┃<span style=\"font-weight: bold\"> Origin </span>┃<span style=\"font-weight: bold\"> Make       </span>┃<span style=\"font-weight: bold\"> ModelName </span>┃\n",
       "┡━━━━━━━━━━━━━━━━━━━━━━━━━━━━━━╇━━━━━━━━━╇━━━━━━━━━━━╇━━━━━━━━━━━━━━╇━━━━━━━━━━━━╇━━━━━━━━━╇━━━━━━━━━━━━━━╇━━━━━━━╇━━━━━━━━╇━━━━━━━━━━━━╇━━━━━━━━━━━┩\n",
       "│ <span style=\"color: #7f7f7f; text-decoration-color: #7f7f7f\">string</span>                       │ <span style=\"color: #7f7f7f; text-decoration-color: #7f7f7f\">float64</span> │ <span style=\"color: #7f7f7f; text-decoration-color: #7f7f7f\">int64</span>     │ <span style=\"color: #7f7f7f; text-decoration-color: #7f7f7f\">float64</span>      │ <span style=\"color: #7f7f7f; text-decoration-color: #7f7f7f\">float64</span>    │ <span style=\"color: #7f7f7f; text-decoration-color: #7f7f7f\">float64</span> │ <span style=\"color: #7f7f7f; text-decoration-color: #7f7f7f\">float64</span>      │ <span style=\"color: #7f7f7f; text-decoration-color: #7f7f7f\">int64</span> │ <span style=\"color: #7f7f7f; text-decoration-color: #7f7f7f\">string</span> │ <span style=\"color: #7f7f7f; text-decoration-color: #7f7f7f\">string</span>     │ <span style=\"color: #7f7f7f; text-decoration-color: #7f7f7f\">string</span>    │\n",
       "├──────────────────────────────┼─────────┼───────────┼──────────────┼────────────┼─────────┼──────────────┼───────┼────────┼────────────┼───────────┤\n",
       "│ <span style=\"color: #008000; text-decoration-color: #008000\">Toyota Corolla Mark ii      </span> │    <span style=\"color: #008080; text-decoration-color: #008080; font-weight: bold\">24.0</span> │         <span style=\"color: #008080; text-decoration-color: #008080; font-weight: bold\">4</span> │        <span style=\"color: #008080; text-decoration-color: #008080; font-weight: bold\">113.0</span> │       <span style=\"color: #008080; text-decoration-color: #008080; font-weight: bold\">95.0</span> │  <span style=\"color: #008080; text-decoration-color: #008080; font-weight: bold\">2372.0</span> │         <span style=\"color: #008080; text-decoration-color: #008080; font-weight: bold\">15.0</span> │    <span style=\"color: #008080; text-decoration-color: #008080; font-weight: bold\">70</span> │ <span style=\"color: #008000; text-decoration-color: #008000\">Japan </span> │ <span style=\"color: #008000; text-decoration-color: #008000\">Toyota    </span> │ <span style=\"color: #008000; text-decoration-color: #008000\">Corolla  </span> │\n",
       "│ <span style=\"color: #008000; text-decoration-color: #008000\">Datsun PL510                </span> │    <span style=\"color: #008080; text-decoration-color: #008080; font-weight: bold\">27.0</span> │         <span style=\"color: #008080; text-decoration-color: #008080; font-weight: bold\">4</span> │         <span style=\"color: #008080; text-decoration-color: #008080; font-weight: bold\">97.0</span> │       <span style=\"color: #008080; text-decoration-color: #008080; font-weight: bold\">88.0</span> │  <span style=\"color: #008080; text-decoration-color: #008080; font-weight: bold\">2130.0</span> │         <span style=\"color: #008080; text-decoration-color: #008080; font-weight: bold\">14.5</span> │    <span style=\"color: #008080; text-decoration-color: #008080; font-weight: bold\">70</span> │ <span style=\"color: #008000; text-decoration-color: #008000\">Japan </span> │ <span style=\"color: #008000; text-decoration-color: #008000\">Datsun    </span> │ <span style=\"color: #008000; text-decoration-color: #008000\">PL510    </span> │\n",
       "│ <span style=\"color: #008000; text-decoration-color: #008000\">Volkswagen 1131 Deluxe Sedan</span> │    <span style=\"color: #008080; text-decoration-color: #008080; font-weight: bold\">26.0</span> │         <span style=\"color: #008080; text-decoration-color: #008080; font-weight: bold\">4</span> │         <span style=\"color: #008080; text-decoration-color: #008080; font-weight: bold\">97.0</span> │       <span style=\"color: #008080; text-decoration-color: #008080; font-weight: bold\">46.0</span> │  <span style=\"color: #008080; text-decoration-color: #008080; font-weight: bold\">1835.0</span> │         <span style=\"color: #008080; text-decoration-color: #008080; font-weight: bold\">20.5</span> │    <span style=\"color: #008080; text-decoration-color: #008080; font-weight: bold\">70</span> │ <span style=\"color: #008000; text-decoration-color: #008000\">Europe</span> │ <span style=\"color: #008000; text-decoration-color: #008000\">Volkswagen</span> │ <span style=\"color: #008000; text-decoration-color: #008000\">1131     </span> │\n",
       "│ <span style=\"color: #008000; text-decoration-color: #008000\">Peugeot 504                 </span> │    <span style=\"color: #008080; text-decoration-color: #008080; font-weight: bold\">25.0</span> │         <span style=\"color: #008080; text-decoration-color: #008080; font-weight: bold\">4</span> │        <span style=\"color: #008080; text-decoration-color: #008080; font-weight: bold\">110.0</span> │       <span style=\"color: #008080; text-decoration-color: #008080; font-weight: bold\">87.0</span> │  <span style=\"color: #008080; text-decoration-color: #008080; font-weight: bold\">2672.0</span> │         <span style=\"color: #008080; text-decoration-color: #008080; font-weight: bold\">17.5</span> │    <span style=\"color: #008080; text-decoration-color: #008080; font-weight: bold\">70</span> │ <span style=\"color: #008000; text-decoration-color: #008000\">Europe</span> │ <span style=\"color: #008000; text-decoration-color: #008000\">Peugeot   </span> │ <span style=\"color: #008000; text-decoration-color: #008000\">504      </span> │\n",
       "│ <span style=\"color: #008000; text-decoration-color: #008000\">Audi 100 LS                 </span> │    <span style=\"color: #008080; text-decoration-color: #008080; font-weight: bold\">24.0</span> │         <span style=\"color: #008080; text-decoration-color: #008080; font-weight: bold\">4</span> │        <span style=\"color: #008080; text-decoration-color: #008080; font-weight: bold\">107.0</span> │       <span style=\"color: #008080; text-decoration-color: #008080; font-weight: bold\">90.0</span> │  <span style=\"color: #008080; text-decoration-color: #008080; font-weight: bold\">2430.0</span> │         <span style=\"color: #008080; text-decoration-color: #008080; font-weight: bold\">14.5</span> │    <span style=\"color: #008080; text-decoration-color: #008080; font-weight: bold\">70</span> │ <span style=\"color: #008000; text-decoration-color: #008000\">Europe</span> │ <span style=\"color: #008000; text-decoration-color: #008000\">Audi      </span> │ <span style=\"color: #008000; text-decoration-color: #008000\">100      </span> │\n",
       "│ <span style=\"color: #008000; text-decoration-color: #008000\">Saab 99e                    </span> │    <span style=\"color: #008080; text-decoration-color: #008080; font-weight: bold\">25.0</span> │         <span style=\"color: #008080; text-decoration-color: #008080; font-weight: bold\">4</span> │        <span style=\"color: #008080; text-decoration-color: #008080; font-weight: bold\">104.0</span> │       <span style=\"color: #008080; text-decoration-color: #008080; font-weight: bold\">95.0</span> │  <span style=\"color: #008080; text-decoration-color: #008080; font-weight: bold\">2375.0</span> │         <span style=\"color: #008080; text-decoration-color: #008080; font-weight: bold\">17.5</span> │    <span style=\"color: #008080; text-decoration-color: #008080; font-weight: bold\">70</span> │ <span style=\"color: #008000; text-decoration-color: #008000\">Europe</span> │ <span style=\"color: #008000; text-decoration-color: #008000\">Saab      </span> │ <span style=\"color: #008000; text-decoration-color: #008000\">99e      </span> │\n",
       "│ <span style=\"color: #008000; text-decoration-color: #008000\">BMW 2002                    </span> │    <span style=\"color: #008080; text-decoration-color: #008080; font-weight: bold\">26.0</span> │         <span style=\"color: #008080; text-decoration-color: #008080; font-weight: bold\">4</span> │        <span style=\"color: #008080; text-decoration-color: #008080; font-weight: bold\">121.0</span> │      <span style=\"color: #008080; text-decoration-color: #008080; font-weight: bold\">113.0</span> │  <span style=\"color: #008080; text-decoration-color: #008080; font-weight: bold\">2234.0</span> │         <span style=\"color: #008080; text-decoration-color: #008080; font-weight: bold\">12.5</span> │    <span style=\"color: #008080; text-decoration-color: #008080; font-weight: bold\">70</span> │ <span style=\"color: #008000; text-decoration-color: #008000\">Europe</span> │ <span style=\"color: #008000; text-decoration-color: #008000\">BMW       </span> │ <span style=\"color: #008000; text-decoration-color: #008000\">2002     </span> │\n",
       "│ <span style=\"color: #008000; text-decoration-color: #008000\">Datsun PL510                </span> │    <span style=\"color: #008080; text-decoration-color: #008080; font-weight: bold\">27.0</span> │         <span style=\"color: #008080; text-decoration-color: #008080; font-weight: bold\">4</span> │         <span style=\"color: #008080; text-decoration-color: #008080; font-weight: bold\">97.0</span> │       <span style=\"color: #008080; text-decoration-color: #008080; font-weight: bold\">88.0</span> │  <span style=\"color: #008080; text-decoration-color: #008080; font-weight: bold\">2130.0</span> │         <span style=\"color: #008080; text-decoration-color: #008080; font-weight: bold\">14.5</span> │    <span style=\"color: #008080; text-decoration-color: #008080; font-weight: bold\">71</span> │ <span style=\"color: #008000; text-decoration-color: #008000\">Japan </span> │ <span style=\"color: #008000; text-decoration-color: #008000\">Datsun    </span> │ <span style=\"color: #008000; text-decoration-color: #008000\">PL510    </span> │\n",
       "│ <span style=\"color: #008000; text-decoration-color: #008000\">Chevrolet Vega 2300         </span> │    <span style=\"color: #008080; text-decoration-color: #008080; font-weight: bold\">28.0</span> │         <span style=\"color: #008080; text-decoration-color: #008080; font-weight: bold\">4</span> │        <span style=\"color: #008080; text-decoration-color: #008080; font-weight: bold\">140.0</span> │       <span style=\"color: #008080; text-decoration-color: #008080; font-weight: bold\">90.0</span> │  <span style=\"color: #008080; text-decoration-color: #008080; font-weight: bold\">2264.0</span> │         <span style=\"color: #008080; text-decoration-color: #008080; font-weight: bold\">15.5</span> │    <span style=\"color: #008080; text-decoration-color: #008080; font-weight: bold\">71</span> │ <span style=\"color: #008000; text-decoration-color: #008000\">US    </span> │ <span style=\"color: #008000; text-decoration-color: #008000\">Chevrolet </span> │ <span style=\"color: #008000; text-decoration-color: #008000\">Vega     </span> │\n",
       "│ <span style=\"color: #008000; text-decoration-color: #008000\">Toyota Corolla              </span> │    <span style=\"color: #008080; text-decoration-color: #008080; font-weight: bold\">25.0</span> │         <span style=\"color: #008080; text-decoration-color: #008080; font-weight: bold\">4</span> │        <span style=\"color: #008080; text-decoration-color: #008080; font-weight: bold\">113.0</span> │       <span style=\"color: #008080; text-decoration-color: #008080; font-weight: bold\">95.0</span> │  <span style=\"color: #008080; text-decoration-color: #008080; font-weight: bold\">2228.0</span> │         <span style=\"color: #008080; text-decoration-color: #008080; font-weight: bold\">14.0</span> │    <span style=\"color: #008080; text-decoration-color: #008080; font-weight: bold\">71</span> │ <span style=\"color: #008000; text-decoration-color: #008000\">Japan </span> │ <span style=\"color: #008000; text-decoration-color: #008000\">Toyota    </span> │ <span style=\"color: #008000; text-decoration-color: #008000\">Corolla  </span> │\n",
       "│ <span style=\"color: #7f7f7f; text-decoration-color: #7f7f7f\">…</span>                            │       <span style=\"color: #7f7f7f; text-decoration-color: #7f7f7f\">…</span> │         <span style=\"color: #7f7f7f; text-decoration-color: #7f7f7f\">…</span> │            <span style=\"color: #7f7f7f; text-decoration-color: #7f7f7f\">…</span> │          <span style=\"color: #7f7f7f; text-decoration-color: #7f7f7f\">…</span> │       <span style=\"color: #7f7f7f; text-decoration-color: #7f7f7f\">…</span> │            <span style=\"color: #7f7f7f; text-decoration-color: #7f7f7f\">…</span> │     <span style=\"color: #7f7f7f; text-decoration-color: #7f7f7f\">…</span> │ <span style=\"color: #7f7f7f; text-decoration-color: #7f7f7f\">…</span>      │ <span style=\"color: #7f7f7f; text-decoration-color: #7f7f7f\">…</span>          │ <span style=\"color: #7f7f7f; text-decoration-color: #7f7f7f\">…</span>         │\n",
       "└──────────────────────────────┴─────────┴───────────┴──────────────┴────────────┴─────────┴──────────────┴───────┴────────┴────────────┴───────────┘\n",
       "</pre>\n"
      ],
      "text/plain": [
       "┏━━━━━━━━━━━━━━━━━━━━━━━━━━━━━━┳━━━━━━━━━┳━━━━━━━━━━━┳━━━━━━━━━━━━━━┳━━━━━━━━━━━━┳━━━━━━━━━┳━━━━━━━━━━━━━━┳━━━━━━━┳━━━━━━━━┳━━━━━━━━━━━━┳━━━━━━━━━━━┓\n",
       "┃\u001b[1m \u001b[0m\u001b[1mCar\u001b[0m\u001b[1m                         \u001b[0m\u001b[1m \u001b[0m┃\u001b[1m \u001b[0m\u001b[1mMPG\u001b[0m\u001b[1m    \u001b[0m\u001b[1m \u001b[0m┃\u001b[1m \u001b[0m\u001b[1mCylinders\u001b[0m\u001b[1m \u001b[0m┃\u001b[1m \u001b[0m\u001b[1mDisplacement\u001b[0m\u001b[1m \u001b[0m┃\u001b[1m \u001b[0m\u001b[1mHorsepower\u001b[0m\u001b[1m \u001b[0m┃\u001b[1m \u001b[0m\u001b[1mWeight\u001b[0m\u001b[1m \u001b[0m\u001b[1m \u001b[0m┃\u001b[1m \u001b[0m\u001b[1mAcceleration\u001b[0m\u001b[1m \u001b[0m┃\u001b[1m \u001b[0m\u001b[1mModel\u001b[0m\u001b[1m \u001b[0m┃\u001b[1m \u001b[0m\u001b[1mOrigin\u001b[0m\u001b[1m \u001b[0m┃\u001b[1m \u001b[0m\u001b[1mMake\u001b[0m\u001b[1m      \u001b[0m\u001b[1m \u001b[0m┃\u001b[1m \u001b[0m\u001b[1mModelName\u001b[0m\u001b[1m \u001b[0m┃\n",
       "┡━━━━━━━━━━━━━━━━━━━━━━━━━━━━━━╇━━━━━━━━━╇━━━━━━━━━━━╇━━━━━━━━━━━━━━╇━━━━━━━━━━━━╇━━━━━━━━━╇━━━━━━━━━━━━━━╇━━━━━━━╇━━━━━━━━╇━━━━━━━━━━━━╇━━━━━━━━━━━┩\n",
       "│ \u001b[2mstring\u001b[0m                       │ \u001b[2mfloat64\u001b[0m │ \u001b[2mint64\u001b[0m     │ \u001b[2mfloat64\u001b[0m      │ \u001b[2mfloat64\u001b[0m    │ \u001b[2mfloat64\u001b[0m │ \u001b[2mfloat64\u001b[0m      │ \u001b[2mint64\u001b[0m │ \u001b[2mstring\u001b[0m │ \u001b[2mstring\u001b[0m     │ \u001b[2mstring\u001b[0m    │\n",
       "├──────────────────────────────┼─────────┼───────────┼──────────────┼────────────┼─────────┼──────────────┼───────┼────────┼────────────┼───────────┤\n",
       "│ \u001b[32mToyota Corolla Mark ii      \u001b[0m │    \u001b[1;36m24.0\u001b[0m │         \u001b[1;36m4\u001b[0m │        \u001b[1;36m113.0\u001b[0m │       \u001b[1;36m95.0\u001b[0m │  \u001b[1;36m2372.0\u001b[0m │         \u001b[1;36m15.0\u001b[0m │    \u001b[1;36m70\u001b[0m │ \u001b[32mJapan \u001b[0m │ \u001b[32mToyota    \u001b[0m │ \u001b[32mCorolla  \u001b[0m │\n",
       "│ \u001b[32mDatsun PL510                \u001b[0m │    \u001b[1;36m27.0\u001b[0m │         \u001b[1;36m4\u001b[0m │         \u001b[1;36m97.0\u001b[0m │       \u001b[1;36m88.0\u001b[0m │  \u001b[1;36m2130.0\u001b[0m │         \u001b[1;36m14.5\u001b[0m │    \u001b[1;36m70\u001b[0m │ \u001b[32mJapan \u001b[0m │ \u001b[32mDatsun    \u001b[0m │ \u001b[32mPL510    \u001b[0m │\n",
       "│ \u001b[32mVolkswagen 1131 Deluxe Sedan\u001b[0m │    \u001b[1;36m26.0\u001b[0m │         \u001b[1;36m4\u001b[0m │         \u001b[1;36m97.0\u001b[0m │       \u001b[1;36m46.0\u001b[0m │  \u001b[1;36m1835.0\u001b[0m │         \u001b[1;36m20.5\u001b[0m │    \u001b[1;36m70\u001b[0m │ \u001b[32mEurope\u001b[0m │ \u001b[32mVolkswagen\u001b[0m │ \u001b[32m1131     \u001b[0m │\n",
       "│ \u001b[32mPeugeot 504                 \u001b[0m │    \u001b[1;36m25.0\u001b[0m │         \u001b[1;36m4\u001b[0m │        \u001b[1;36m110.0\u001b[0m │       \u001b[1;36m87.0\u001b[0m │  \u001b[1;36m2672.0\u001b[0m │         \u001b[1;36m17.5\u001b[0m │    \u001b[1;36m70\u001b[0m │ \u001b[32mEurope\u001b[0m │ \u001b[32mPeugeot   \u001b[0m │ \u001b[32m504      \u001b[0m │\n",
       "│ \u001b[32mAudi 100 LS                 \u001b[0m │    \u001b[1;36m24.0\u001b[0m │         \u001b[1;36m4\u001b[0m │        \u001b[1;36m107.0\u001b[0m │       \u001b[1;36m90.0\u001b[0m │  \u001b[1;36m2430.0\u001b[0m │         \u001b[1;36m14.5\u001b[0m │    \u001b[1;36m70\u001b[0m │ \u001b[32mEurope\u001b[0m │ \u001b[32mAudi      \u001b[0m │ \u001b[32m100      \u001b[0m │\n",
       "│ \u001b[32mSaab 99e                    \u001b[0m │    \u001b[1;36m25.0\u001b[0m │         \u001b[1;36m4\u001b[0m │        \u001b[1;36m104.0\u001b[0m │       \u001b[1;36m95.0\u001b[0m │  \u001b[1;36m2375.0\u001b[0m │         \u001b[1;36m17.5\u001b[0m │    \u001b[1;36m70\u001b[0m │ \u001b[32mEurope\u001b[0m │ \u001b[32mSaab      \u001b[0m │ \u001b[32m99e      \u001b[0m │\n",
       "│ \u001b[32mBMW 2002                    \u001b[0m │    \u001b[1;36m26.0\u001b[0m │         \u001b[1;36m4\u001b[0m │        \u001b[1;36m121.0\u001b[0m │      \u001b[1;36m113.0\u001b[0m │  \u001b[1;36m2234.0\u001b[0m │         \u001b[1;36m12.5\u001b[0m │    \u001b[1;36m70\u001b[0m │ \u001b[32mEurope\u001b[0m │ \u001b[32mBMW       \u001b[0m │ \u001b[32m2002     \u001b[0m │\n",
       "│ \u001b[32mDatsun PL510                \u001b[0m │    \u001b[1;36m27.0\u001b[0m │         \u001b[1;36m4\u001b[0m │         \u001b[1;36m97.0\u001b[0m │       \u001b[1;36m88.0\u001b[0m │  \u001b[1;36m2130.0\u001b[0m │         \u001b[1;36m14.5\u001b[0m │    \u001b[1;36m71\u001b[0m │ \u001b[32mJapan \u001b[0m │ \u001b[32mDatsun    \u001b[0m │ \u001b[32mPL510    \u001b[0m │\n",
       "│ \u001b[32mChevrolet Vega 2300         \u001b[0m │    \u001b[1;36m28.0\u001b[0m │         \u001b[1;36m4\u001b[0m │        \u001b[1;36m140.0\u001b[0m │       \u001b[1;36m90.0\u001b[0m │  \u001b[1;36m2264.0\u001b[0m │         \u001b[1;36m15.5\u001b[0m │    \u001b[1;36m71\u001b[0m │ \u001b[32mUS    \u001b[0m │ \u001b[32mChevrolet \u001b[0m │ \u001b[32mVega     \u001b[0m │\n",
       "│ \u001b[32mToyota Corolla              \u001b[0m │    \u001b[1;36m25.0\u001b[0m │         \u001b[1;36m4\u001b[0m │        \u001b[1;36m113.0\u001b[0m │       \u001b[1;36m95.0\u001b[0m │  \u001b[1;36m2228.0\u001b[0m │         \u001b[1;36m14.0\u001b[0m │    \u001b[1;36m71\u001b[0m │ \u001b[32mJapan \u001b[0m │ \u001b[32mToyota    \u001b[0m │ \u001b[32mCorolla  \u001b[0m │\n",
       "│ \u001b[2m…\u001b[0m                            │       \u001b[2m…\u001b[0m │         \u001b[2m…\u001b[0m │            \u001b[2m…\u001b[0m │          \u001b[2m…\u001b[0m │       \u001b[2m…\u001b[0m │            \u001b[2m…\u001b[0m │     \u001b[2m…\u001b[0m │ \u001b[2m…\u001b[0m      │ \u001b[2m…\u001b[0m          │ \u001b[2m…\u001b[0m         │\n",
       "└──────────────────────────────┴─────────┴───────────┴──────────────┴────────────┴─────────┴──────────────┴───────┴────────┴────────────┴───────────┘"
      ]
     },
     "execution_count": 45,
     "metadata": {},
     "output_type": "execute_result"
    }
   ],
   "source": [
    "min_mpg = 0\n",
    "max_cyl = 5\n",
    "condition = (cars['MPG'] > min_mpg) & (cars['Cylinders'] < max_cyl)\n",
    "\n",
    "cars.filter(condition)"
   ]
  },
  {
   "cell_type": "markdown",
   "id": "8ca26d42-6d34-4fc4-9b6c-f15b294d4ce2",
   "metadata": {},
   "source": [
    "<a id=\"pandas_to_ibis\">"
   ]
  },
  {
   "cell_type": "markdown",
   "id": "5d483a89-5958-4406-b6c7-95f5e855c4b5",
   "metadata": {},
   "source": [
    "## Convert Pandas dataframe to Ibis table expression"
   ]
  },
  {
   "cell_type": "markdown",
   "id": "f37ee6a4-d69d-4f93-b674-532cff43ab2a",
   "metadata": {},
   "source": [
    "[[back to top]](#back_to_top)"
   ]
  },
  {
   "cell_type": "code",
   "execution_count": 46,
   "id": "c19b8c82-7cea-4f4b-b1df-76c620f34fa8",
   "metadata": {},
   "outputs": [],
   "source": [
    "data = pd.DataFrame({'k1': ['one'] * 3 + ['two'] * 4 + ['three'] * 1, 'k2': [3, 2, 1, 3, 3, 4, 4, 1]})"
   ]
  },
  {
   "cell_type": "code",
   "execution_count": 47,
   "id": "686ed10d-21b1-4adb-8f19-2e124f1dce9e",
   "metadata": {},
   "outputs": [
    {
     "data": {
      "text/html": [
       "<div>\n",
       "<style scoped>\n",
       "    .dataframe tbody tr th:only-of-type {\n",
       "        vertical-align: middle;\n",
       "    }\n",
       "\n",
       "    .dataframe tbody tr th {\n",
       "        vertical-align: top;\n",
       "    }\n",
       "\n",
       "    .dataframe thead th {\n",
       "        text-align: right;\n",
       "    }\n",
       "</style>\n",
       "<table border=\"1\" class=\"dataframe\">\n",
       "  <thead>\n",
       "    <tr style=\"text-align: right;\">\n",
       "      <th></th>\n",
       "      <th>k1</th>\n",
       "      <th>k2</th>\n",
       "    </tr>\n",
       "  </thead>\n",
       "  <tbody>\n",
       "    <tr>\n",
       "      <th>0</th>\n",
       "      <td>one</td>\n",
       "      <td>3</td>\n",
       "    </tr>\n",
       "    <tr>\n",
       "      <th>1</th>\n",
       "      <td>one</td>\n",
       "      <td>2</td>\n",
       "    </tr>\n",
       "    <tr>\n",
       "      <th>2</th>\n",
       "      <td>one</td>\n",
       "      <td>1</td>\n",
       "    </tr>\n",
       "    <tr>\n",
       "      <th>3</th>\n",
       "      <td>two</td>\n",
       "      <td>3</td>\n",
       "    </tr>\n",
       "    <tr>\n",
       "      <th>4</th>\n",
       "      <td>two</td>\n",
       "      <td>3</td>\n",
       "    </tr>\n",
       "    <tr>\n",
       "      <th>5</th>\n",
       "      <td>two</td>\n",
       "      <td>4</td>\n",
       "    </tr>\n",
       "    <tr>\n",
       "      <th>6</th>\n",
       "      <td>two</td>\n",
       "      <td>4</td>\n",
       "    </tr>\n",
       "    <tr>\n",
       "      <th>7</th>\n",
       "      <td>three</td>\n",
       "      <td>1</td>\n",
       "    </tr>\n",
       "  </tbody>\n",
       "</table>\n",
       "</div>"
      ],
      "text/plain": [
       "      k1  k2\n",
       "0    one   3\n",
       "1    one   2\n",
       "2    one   1\n",
       "3    two   3\n",
       "4    two   3\n",
       "5    two   4\n",
       "6    two   4\n",
       "7  three   1"
      ]
     },
     "execution_count": 47,
     "metadata": {},
     "output_type": "execute_result"
    }
   ],
   "source": [
    "data"
   ]
  },
  {
   "cell_type": "code",
   "execution_count": 48,
   "id": "16d484aa-20a6-49cf-bc6a-723a92f25f7a",
   "metadata": {},
   "outputs": [],
   "source": [
    "ibis_data = ibis.memtable(data)"
   ]
  },
  {
   "cell_type": "code",
   "execution_count": 49,
   "id": "4a8c58f5-2505-4f54-93be-eb9d69c6fb3a",
   "metadata": {},
   "outputs": [
    {
     "data": {
      "text/html": [
       "<pre style=\"white-space:pre;overflow-x:auto;line-height:normal;font-family:Menlo,'DejaVu Sans Mono',consolas,'Courier New',monospace\">┏━━━━━━━━┳━━━━━━━┓\n",
       "┃<span style=\"font-weight: bold\"> k1     </span>┃<span style=\"font-weight: bold\"> k2    </span>┃\n",
       "┡━━━━━━━━╇━━━━━━━┩\n",
       "│ <span style=\"color: #7f7f7f; text-decoration-color: #7f7f7f\">string</span> │ <span style=\"color: #7f7f7f; text-decoration-color: #7f7f7f\">int64</span> │\n",
       "├────────┼───────┤\n",
       "│ <span style=\"color: #008000; text-decoration-color: #008000\">one   </span> │     <span style=\"color: #008080; text-decoration-color: #008080; font-weight: bold\">3</span> │\n",
       "│ <span style=\"color: #008000; text-decoration-color: #008000\">one   </span> │     <span style=\"color: #008080; text-decoration-color: #008080; font-weight: bold\">2</span> │\n",
       "│ <span style=\"color: #008000; text-decoration-color: #008000\">one   </span> │     <span style=\"color: #008080; text-decoration-color: #008080; font-weight: bold\">1</span> │\n",
       "│ <span style=\"color: #008000; text-decoration-color: #008000\">two   </span> │     <span style=\"color: #008080; text-decoration-color: #008080; font-weight: bold\">3</span> │\n",
       "│ <span style=\"color: #008000; text-decoration-color: #008000\">two   </span> │     <span style=\"color: #008080; text-decoration-color: #008080; font-weight: bold\">3</span> │\n",
       "│ <span style=\"color: #008000; text-decoration-color: #008000\">two   </span> │     <span style=\"color: #008080; text-decoration-color: #008080; font-weight: bold\">4</span> │\n",
       "│ <span style=\"color: #008000; text-decoration-color: #008000\">two   </span> │     <span style=\"color: #008080; text-decoration-color: #008080; font-weight: bold\">4</span> │\n",
       "│ <span style=\"color: #008000; text-decoration-color: #008000\">three </span> │     <span style=\"color: #008080; text-decoration-color: #008080; font-weight: bold\">1</span> │\n",
       "└────────┴───────┘\n",
       "</pre>\n"
      ],
      "text/plain": [
       "┏━━━━━━━━┳━━━━━━━┓\n",
       "┃\u001b[1m \u001b[0m\u001b[1mk1\u001b[0m\u001b[1m    \u001b[0m\u001b[1m \u001b[0m┃\u001b[1m \u001b[0m\u001b[1mk2\u001b[0m\u001b[1m   \u001b[0m\u001b[1m \u001b[0m┃\n",
       "┡━━━━━━━━╇━━━━━━━┩\n",
       "│ \u001b[2mstring\u001b[0m │ \u001b[2mint64\u001b[0m │\n",
       "├────────┼───────┤\n",
       "│ \u001b[32mone   \u001b[0m │     \u001b[1;36m3\u001b[0m │\n",
       "│ \u001b[32mone   \u001b[0m │     \u001b[1;36m2\u001b[0m │\n",
       "│ \u001b[32mone   \u001b[0m │     \u001b[1;36m1\u001b[0m │\n",
       "│ \u001b[32mtwo   \u001b[0m │     \u001b[1;36m3\u001b[0m │\n",
       "│ \u001b[32mtwo   \u001b[0m │     \u001b[1;36m3\u001b[0m │\n",
       "│ \u001b[32mtwo   \u001b[0m │     \u001b[1;36m4\u001b[0m │\n",
       "│ \u001b[32mtwo   \u001b[0m │     \u001b[1;36m4\u001b[0m │\n",
       "│ \u001b[32mthree \u001b[0m │     \u001b[1;36m1\u001b[0m │\n",
       "└────────┴───────┘"
      ]
     },
     "execution_count": 49,
     "metadata": {},
     "output_type": "execute_result"
    }
   ],
   "source": [
    "ibis_data"
   ]
  },
  {
   "cell_type": "markdown",
   "id": "febac427-c2a7-400c-86e8-7896b80e2c1c",
   "metadata": {},
   "source": [
    "<a id=\"ibis_to_pandas\">"
   ]
  },
  {
   "cell_type": "markdown",
   "id": "e161a95e-8241-4489-b378-c2dd36b2ada3",
   "metadata": {},
   "source": [
    "## Convert Ibis table expression to Pandas DataFrame"
   ]
  },
  {
   "cell_type": "markdown",
   "id": "aefe8dcc-2725-42eb-aae7-7a4bd275fe2b",
   "metadata": {},
   "source": [
    "[[back to top]](#back_to_top)"
   ]
  },
  {
   "cell_type": "code",
   "execution_count": 50,
   "id": "fa6aa511-c04b-40c1-a3db-c6ad20d146c7",
   "metadata": {},
   "outputs": [],
   "source": [
    "pdf = ibis_data.to_pandas()"
   ]
  },
  {
   "cell_type": "code",
   "execution_count": 51,
   "id": "6eff80d1-4ff9-498e-8999-651277c18b04",
   "metadata": {},
   "outputs": [
    {
     "data": {
      "text/html": [
       "<div>\n",
       "<style scoped>\n",
       "    .dataframe tbody tr th:only-of-type {\n",
       "        vertical-align: middle;\n",
       "    }\n",
       "\n",
       "    .dataframe tbody tr th {\n",
       "        vertical-align: top;\n",
       "    }\n",
       "\n",
       "    .dataframe thead th {\n",
       "        text-align: right;\n",
       "    }\n",
       "</style>\n",
       "<table border=\"1\" class=\"dataframe\">\n",
       "  <thead>\n",
       "    <tr style=\"text-align: right;\">\n",
       "      <th></th>\n",
       "      <th>k1</th>\n",
       "      <th>k2</th>\n",
       "    </tr>\n",
       "  </thead>\n",
       "  <tbody>\n",
       "    <tr>\n",
       "      <th>0</th>\n",
       "      <td>one</td>\n",
       "      <td>3</td>\n",
       "    </tr>\n",
       "    <tr>\n",
       "      <th>1</th>\n",
       "      <td>one</td>\n",
       "      <td>2</td>\n",
       "    </tr>\n",
       "    <tr>\n",
       "      <th>2</th>\n",
       "      <td>one</td>\n",
       "      <td>1</td>\n",
       "    </tr>\n",
       "    <tr>\n",
       "      <th>3</th>\n",
       "      <td>two</td>\n",
       "      <td>3</td>\n",
       "    </tr>\n",
       "    <tr>\n",
       "      <th>4</th>\n",
       "      <td>two</td>\n",
       "      <td>3</td>\n",
       "    </tr>\n",
       "    <tr>\n",
       "      <th>5</th>\n",
       "      <td>two</td>\n",
       "      <td>4</td>\n",
       "    </tr>\n",
       "    <tr>\n",
       "      <th>6</th>\n",
       "      <td>two</td>\n",
       "      <td>4</td>\n",
       "    </tr>\n",
       "    <tr>\n",
       "      <th>7</th>\n",
       "      <td>three</td>\n",
       "      <td>1</td>\n",
       "    </tr>\n",
       "  </tbody>\n",
       "</table>\n",
       "</div>"
      ],
      "text/plain": [
       "      k1  k2\n",
       "0    one   3\n",
       "1    one   2\n",
       "2    one   1\n",
       "3    two   3\n",
       "4    two   3\n",
       "5    two   4\n",
       "6    two   4\n",
       "7  three   1"
      ]
     },
     "execution_count": 51,
     "metadata": {},
     "output_type": "execute_result"
    }
   ],
   "source": [
    "pdf"
   ]
  },
  {
   "cell_type": "markdown",
   "id": "ac65523d-efbe-474c-9f0a-5d70c5a62a36",
   "metadata": {},
   "source": [
    "<a id=\"distinct\">"
   ]
  },
  {
   "cell_type": "markdown",
   "id": "1d04da82-8052-41cd-8b29-126dec36de04",
   "metadata": {},
   "source": [
    "## Obtain distinct values in column(s)"
   ]
  },
  {
   "cell_type": "markdown",
   "id": "9c7906ed-b3b1-4da1-aaf8-1f07d2ae9234",
   "metadata": {},
   "source": [
    "[[back to top]](#back_to_top)"
   ]
  },
  {
   "cell_type": "markdown",
   "id": "1a619cd6-9203-4850-b434-f925bd06684b",
   "metadata": {},
   "source": [
    "Distinct values in specific column"
   ]
  },
  {
   "cell_type": "code",
   "execution_count": 52,
   "id": "cbe6c8fe-4405-4d46-9155-94fdc79e794f",
   "metadata": {},
   "outputs": [
    {
     "data": {
      "text/html": [
       "<pre style=\"white-space:pre;overflow-x:auto;line-height:normal;font-family:Menlo,'DejaVu Sans Mono',consolas,'Courier New',monospace\">┏━━━━━━━━┓\n",
       "┃<span style=\"font-weight: bold\"> k1     </span>┃\n",
       "┡━━━━━━━━┩\n",
       "│ <span style=\"color: #7f7f7f; text-decoration-color: #7f7f7f\">string</span> │\n",
       "├────────┤\n",
       "│ <span style=\"color: #008000; text-decoration-color: #008000\">two   </span> │\n",
       "│ <span style=\"color: #008000; text-decoration-color: #008000\">three </span> │\n",
       "│ <span style=\"color: #008000; text-decoration-color: #008000\">one   </span> │\n",
       "└────────┘\n",
       "</pre>\n"
      ],
      "text/plain": [
       "┏━━━━━━━━┓\n",
       "┃\u001b[1m \u001b[0m\u001b[1mk1\u001b[0m\u001b[1m    \u001b[0m\u001b[1m \u001b[0m┃\n",
       "┡━━━━━━━━┩\n",
       "│ \u001b[2mstring\u001b[0m │\n",
       "├────────┤\n",
       "│ \u001b[32mtwo   \u001b[0m │\n",
       "│ \u001b[32mthree \u001b[0m │\n",
       "│ \u001b[32mone   \u001b[0m │\n",
       "└────────┘"
      ]
     },
     "execution_count": 52,
     "metadata": {},
     "output_type": "execute_result"
    }
   ],
   "source": [
    "ibis_data.select(\"k1\").distinct()"
   ]
  },
  {
   "cell_type": "markdown",
   "id": "9649c74e-4b68-4757-a9a0-c797bf52927b",
   "metadata": {},
   "source": [
    "or across all columns"
   ]
  },
  {
   "cell_type": "code",
   "execution_count": 53,
   "id": "d8da7ba3-9c69-4ca1-b154-21c785044b89",
   "metadata": {},
   "outputs": [
    {
     "data": {
      "text/html": [
       "<pre style=\"white-space:pre;overflow-x:auto;line-height:normal;font-family:Menlo,'DejaVu Sans Mono',consolas,'Courier New',monospace\">┏━━━━━━━━┳━━━━━━━┓\n",
       "┃<span style=\"font-weight: bold\"> k1     </span>┃<span style=\"font-weight: bold\"> k2    </span>┃\n",
       "┡━━━━━━━━╇━━━━━━━┩\n",
       "│ <span style=\"color: #7f7f7f; text-decoration-color: #7f7f7f\">string</span> │ <span style=\"color: #7f7f7f; text-decoration-color: #7f7f7f\">int64</span> │\n",
       "├────────┼───────┤\n",
       "│ <span style=\"color: #008000; text-decoration-color: #008000\">one   </span> │     <span style=\"color: #008080; text-decoration-color: #008080; font-weight: bold\">2</span> │\n",
       "│ <span style=\"color: #008000; text-decoration-color: #008000\">two   </span> │     <span style=\"color: #008080; text-decoration-color: #008080; font-weight: bold\">4</span> │\n",
       "│ <span style=\"color: #008000; text-decoration-color: #008000\">three </span> │     <span style=\"color: #008080; text-decoration-color: #008080; font-weight: bold\">1</span> │\n",
       "│ <span style=\"color: #008000; text-decoration-color: #008000\">one   </span> │     <span style=\"color: #008080; text-decoration-color: #008080; font-weight: bold\">1</span> │\n",
       "│ <span style=\"color: #008000; text-decoration-color: #008000\">two   </span> │     <span style=\"color: #008080; text-decoration-color: #008080; font-weight: bold\">3</span> │\n",
       "│ <span style=\"color: #008000; text-decoration-color: #008000\">one   </span> │     <span style=\"color: #008080; text-decoration-color: #008080; font-weight: bold\">3</span> │\n",
       "└────────┴───────┘\n",
       "</pre>\n"
      ],
      "text/plain": [
       "┏━━━━━━━━┳━━━━━━━┓\n",
       "┃\u001b[1m \u001b[0m\u001b[1mk1\u001b[0m\u001b[1m    \u001b[0m\u001b[1m \u001b[0m┃\u001b[1m \u001b[0m\u001b[1mk2\u001b[0m\u001b[1m   \u001b[0m\u001b[1m \u001b[0m┃\n",
       "┡━━━━━━━━╇━━━━━━━┩\n",
       "│ \u001b[2mstring\u001b[0m │ \u001b[2mint64\u001b[0m │\n",
       "├────────┼───────┤\n",
       "│ \u001b[32mone   \u001b[0m │     \u001b[1;36m2\u001b[0m │\n",
       "│ \u001b[32mtwo   \u001b[0m │     \u001b[1;36m4\u001b[0m │\n",
       "│ \u001b[32mthree \u001b[0m │     \u001b[1;36m1\u001b[0m │\n",
       "│ \u001b[32mone   \u001b[0m │     \u001b[1;36m1\u001b[0m │\n",
       "│ \u001b[32mtwo   \u001b[0m │     \u001b[1;36m3\u001b[0m │\n",
       "│ \u001b[32mone   \u001b[0m │     \u001b[1;36m3\u001b[0m │\n",
       "└────────┴───────┘"
      ]
     },
     "execution_count": 53,
     "metadata": {},
     "output_type": "execute_result"
    }
   ],
   "source": [
    "ibis_data.distinct()"
   ]
  },
  {
   "cell_type": "markdown",
   "id": "9d9f0ec0-1719-4ac3-bc18-7dbb9d938c4f",
   "metadata": {},
   "source": [
    "<a id=\"duplicates\">"
   ]
  },
  {
   "cell_type": "markdown",
   "id": "cacebc6b-43ab-4976-9b22-2b926f108e03",
   "metadata": {},
   "source": [
    "## Find Duplicate Values"
   ]
  },
  {
   "cell_type": "markdown",
   "id": "3f079a0d-e4c9-4eae-b333-d36eb697de48",
   "metadata": {},
   "source": [
    "[[back to top]](#back_to_top)"
   ]
  },
  {
   "cell_type": "code",
   "execution_count": 54,
   "id": "d506123e-7c9f-4390-b8f8-2b3b2dcd21ee",
   "metadata": {},
   "outputs": [
    {
     "data": {
      "text/html": [
       "<pre style=\"white-space:pre;overflow-x:auto;line-height:normal;font-family:Menlo,'DejaVu Sans Mono',consolas,'Courier New',monospace\">┏━━━━━━━━┳━━━━━━━┓\n",
       "┃<span style=\"font-weight: bold\"> k1     </span>┃<span style=\"font-weight: bold\"> Count </span>┃\n",
       "┡━━━━━━━━╇━━━━━━━┩\n",
       "│ <span style=\"color: #7f7f7f; text-decoration-color: #7f7f7f\">string</span> │ <span style=\"color: #7f7f7f; text-decoration-color: #7f7f7f\">int64</span> │\n",
       "├────────┼───────┤\n",
       "│ <span style=\"color: #008000; text-decoration-color: #008000\">two   </span> │     <span style=\"color: #008080; text-decoration-color: #008080; font-weight: bold\">4</span> │\n",
       "│ <span style=\"color: #008000; text-decoration-color: #008000\">one   </span> │     <span style=\"color: #008080; text-decoration-color: #008080; font-weight: bold\">3</span> │\n",
       "└────────┴───────┘\n",
       "</pre>\n"
      ],
      "text/plain": [
       "┏━━━━━━━━┳━━━━━━━┓\n",
       "┃\u001b[1m \u001b[0m\u001b[1mk1\u001b[0m\u001b[1m    \u001b[0m\u001b[1m \u001b[0m┃\u001b[1m \u001b[0m\u001b[1mCount\u001b[0m\u001b[1m \u001b[0m┃\n",
       "┡━━━━━━━━╇━━━━━━━┩\n",
       "│ \u001b[2mstring\u001b[0m │ \u001b[2mint64\u001b[0m │\n",
       "├────────┼───────┤\n",
       "│ \u001b[32mtwo   \u001b[0m │     \u001b[1;36m4\u001b[0m │\n",
       "│ \u001b[32mone   \u001b[0m │     \u001b[1;36m3\u001b[0m │\n",
       "└────────┴───────┘"
      ]
     },
     "execution_count": 54,
     "metadata": {},
     "output_type": "execute_result"
    }
   ],
   "source": [
    "(\n",
    "    ibis_data\n",
    "    .group_by('k1')\n",
    "    .aggregate(\n",
    "        Count = _.k1.count()\n",
    "    )\n",
    "    .filter(_.Count > 1)\n",
    ")"
   ]
  },
  {
   "cell_type": "markdown",
   "id": "bb9e92c3-6001-4af3-9288-7ffbe438dbcd",
   "metadata": {},
   "source": [
    "<a id=\"perc_of_rows\">"
   ]
  },
  {
   "cell_type": "markdown",
   "id": "97d7d2b4-b94e-4085-a626-1fd377f0de39",
   "metadata": {},
   "source": [
    "## Percent of Rows"
   ]
  },
  {
   "cell_type": "markdown",
   "id": "6070ff10-8c1b-464f-b820-4e6578e2d470",
   "metadata": {},
   "source": [
    "[[back to top]](#back_to_top)"
   ]
  },
  {
   "cell_type": "code",
   "execution_count": 55,
   "id": "6940829d-7715-4d82-aeb0-31a6e50a4a3a",
   "metadata": {},
   "outputs": [],
   "source": [
    "data = pd.DataFrame(\n",
    "    {'group': [80, 70, 75, 75],\n",
    "     'ounces': [20, 30, 25, 25],\n",
    "     'size': [100, 100, 100, 100]\n",
    "    }\n",
    ")"
   ]
  },
  {
   "cell_type": "code",
   "execution_count": 56,
   "id": "5efc90be-83c1-4c12-ba30-465e670561dc",
   "metadata": {},
   "outputs": [],
   "source": [
    "ibis_data = ibis.memtable(data)"
   ]
  },
  {
   "cell_type": "code",
   "execution_count": 57,
   "id": "98a939d8-60dc-4b55-9322-283f32aee606",
   "metadata": {},
   "outputs": [
    {
     "data": {
      "text/html": [
       "<pre style=\"white-space:pre;overflow-x:auto;line-height:normal;font-family:Menlo,'DejaVu Sans Mono',consolas,'Courier New',monospace\">┏━━━━━━━┳━━━━━━━━┳━━━━━━━┓\n",
       "┃<span style=\"font-weight: bold\"> group </span>┃<span style=\"font-weight: bold\"> ounces </span>┃<span style=\"font-weight: bold\"> size  </span>┃\n",
       "┡━━━━━━━╇━━━━━━━━╇━━━━━━━┩\n",
       "│ <span style=\"color: #7f7f7f; text-decoration-color: #7f7f7f\">int64</span> │ <span style=\"color: #7f7f7f; text-decoration-color: #7f7f7f\">int64</span>  │ <span style=\"color: #7f7f7f; text-decoration-color: #7f7f7f\">int64</span> │\n",
       "├───────┼────────┼───────┤\n",
       "│    <span style=\"color: #008080; text-decoration-color: #008080; font-weight: bold\">80</span> │     <span style=\"color: #008080; text-decoration-color: #008080; font-weight: bold\">20</span> │   <span style=\"color: #008080; text-decoration-color: #008080; font-weight: bold\">100</span> │\n",
       "│    <span style=\"color: #008080; text-decoration-color: #008080; font-weight: bold\">70</span> │     <span style=\"color: #008080; text-decoration-color: #008080; font-weight: bold\">30</span> │   <span style=\"color: #008080; text-decoration-color: #008080; font-weight: bold\">100</span> │\n",
       "│    <span style=\"color: #008080; text-decoration-color: #008080; font-weight: bold\">75</span> │     <span style=\"color: #008080; text-decoration-color: #008080; font-weight: bold\">25</span> │   <span style=\"color: #008080; text-decoration-color: #008080; font-weight: bold\">100</span> │\n",
       "│    <span style=\"color: #008080; text-decoration-color: #008080; font-weight: bold\">75</span> │     <span style=\"color: #008080; text-decoration-color: #008080; font-weight: bold\">25</span> │   <span style=\"color: #008080; text-decoration-color: #008080; font-weight: bold\">100</span> │\n",
       "└───────┴────────┴───────┘\n",
       "</pre>\n"
      ],
      "text/plain": [
       "┏━━━━━━━┳━━━━━━━━┳━━━━━━━┓\n",
       "┃\u001b[1m \u001b[0m\u001b[1mgroup\u001b[0m\u001b[1m \u001b[0m┃\u001b[1m \u001b[0m\u001b[1mounces\u001b[0m\u001b[1m \u001b[0m┃\u001b[1m \u001b[0m\u001b[1msize\u001b[0m\u001b[1m \u001b[0m\u001b[1m \u001b[0m┃\n",
       "┡━━━━━━━╇━━━━━━━━╇━━━━━━━┩\n",
       "│ \u001b[2mint64\u001b[0m │ \u001b[2mint64\u001b[0m  │ \u001b[2mint64\u001b[0m │\n",
       "├───────┼────────┼───────┤\n",
       "│    \u001b[1;36m80\u001b[0m │     \u001b[1;36m20\u001b[0m │   \u001b[1;36m100\u001b[0m │\n",
       "│    \u001b[1;36m70\u001b[0m │     \u001b[1;36m30\u001b[0m │   \u001b[1;36m100\u001b[0m │\n",
       "│    \u001b[1;36m75\u001b[0m │     \u001b[1;36m25\u001b[0m │   \u001b[1;36m100\u001b[0m │\n",
       "│    \u001b[1;36m75\u001b[0m │     \u001b[1;36m25\u001b[0m │   \u001b[1;36m100\u001b[0m │\n",
       "└───────┴────────┴───────┘"
      ]
     },
     "execution_count": 57,
     "metadata": {},
     "output_type": "execute_result"
    }
   ],
   "source": [
    "ibis_data"
   ]
  },
  {
   "cell_type": "code",
   "execution_count": 58,
   "id": "2db53ef5-a550-463d-821f-2a2af7431a93",
   "metadata": {},
   "outputs": [
    {
     "data": {
      "text/html": [
       "<pre style=\"white-space:pre;overflow-x:auto;line-height:normal;font-family:Menlo,'DejaVu Sans Mono',consolas,'Courier New',monospace\">┏━━━━━━━━━━━━┳━━━━━━━━━━━━━┳━━━━━━━━━━━┓\n",
       "┃<span style=\"font-weight: bold\"> group_perc </span>┃<span style=\"font-weight: bold\"> ounces_perc </span>┃<span style=\"font-weight: bold\"> size_perc </span>┃\n",
       "┡━━━━━━━━━━━━╇━━━━━━━━━━━━━╇━━━━━━━━━━━┩\n",
       "│ <span style=\"color: #7f7f7f; text-decoration-color: #7f7f7f\">float64</span>    │ <span style=\"color: #7f7f7f; text-decoration-color: #7f7f7f\">float64</span>     │ <span style=\"color: #7f7f7f; text-decoration-color: #7f7f7f\">float64</span>   │\n",
       "├────────────┼─────────────┼───────────┤\n",
       "│       <span style=\"color: #008080; text-decoration-color: #008080; font-weight: bold\">40.0</span> │        <span style=\"color: #008080; text-decoration-color: #008080; font-weight: bold\">10.0</span> │      <span style=\"color: #008080; text-decoration-color: #008080; font-weight: bold\">50.0</span> │\n",
       "│       <span style=\"color: #008080; text-decoration-color: #008080; font-weight: bold\">35.0</span> │        <span style=\"color: #008080; text-decoration-color: #008080; font-weight: bold\">15.0</span> │      <span style=\"color: #008080; text-decoration-color: #008080; font-weight: bold\">50.0</span> │\n",
       "│       <span style=\"color: #008080; text-decoration-color: #008080; font-weight: bold\">37.5</span> │        <span style=\"color: #008080; text-decoration-color: #008080; font-weight: bold\">12.5</span> │      <span style=\"color: #008080; text-decoration-color: #008080; font-weight: bold\">50.0</span> │\n",
       "│       <span style=\"color: #008080; text-decoration-color: #008080; font-weight: bold\">37.5</span> │        <span style=\"color: #008080; text-decoration-color: #008080; font-weight: bold\">12.5</span> │      <span style=\"color: #008080; text-decoration-color: #008080; font-weight: bold\">50.0</span> │\n",
       "└────────────┴─────────────┴───────────┘\n",
       "</pre>\n"
      ],
      "text/plain": [
       "┏━━━━━━━━━━━━┳━━━━━━━━━━━━━┳━━━━━━━━━━━┓\n",
       "┃\u001b[1m \u001b[0m\u001b[1mgroup_perc\u001b[0m\u001b[1m \u001b[0m┃\u001b[1m \u001b[0m\u001b[1mounces_perc\u001b[0m\u001b[1m \u001b[0m┃\u001b[1m \u001b[0m\u001b[1msize_perc\u001b[0m\u001b[1m \u001b[0m┃\n",
       "┡━━━━━━━━━━━━╇━━━━━━━━━━━━━╇━━━━━━━━━━━┩\n",
       "│ \u001b[2mfloat64\u001b[0m    │ \u001b[2mfloat64\u001b[0m     │ \u001b[2mfloat64\u001b[0m   │\n",
       "├────────────┼─────────────┼───────────┤\n",
       "│       \u001b[1;36m40.0\u001b[0m │        \u001b[1;36m10.0\u001b[0m │      \u001b[1;36m50.0\u001b[0m │\n",
       "│       \u001b[1;36m35.0\u001b[0m │        \u001b[1;36m15.0\u001b[0m │      \u001b[1;36m50.0\u001b[0m │\n",
       "│       \u001b[1;36m37.5\u001b[0m │        \u001b[1;36m12.5\u001b[0m │      \u001b[1;36m50.0\u001b[0m │\n",
       "│       \u001b[1;36m37.5\u001b[0m │        \u001b[1;36m12.5\u001b[0m │      \u001b[1;36m50.0\u001b[0m │\n",
       "└────────────┴─────────────┴───────────┘"
      ]
     },
     "execution_count": 58,
     "metadata": {},
     "output_type": "execute_result"
    }
   ],
   "source": [
    "(\n",
    "    ibis_data\n",
    "    .mutate(group_perc=_.group / (_.group + _.ounces + _.size) * 100)\n",
    "    .mutate(ounces_perc=_.ounces / (_.group + _.ounces + _.size) * 100)\n",
    "    .mutate(size_perc=_.size / (_.group + _.ounces + _.size) * 100)\n",
    "    .select(s.contains('perc'))\n",
    ")"
   ]
  },
  {
   "cell_type": "markdown",
   "id": "d2e0dc93-641a-43bf-8298-e1808bc7b5da",
   "metadata": {},
   "source": [
    "<a id=\"perc_of_columns\">"
   ]
  },
  {
   "cell_type": "markdown",
   "id": "e27452f0-fa6d-49e4-a121-e5ce3248ada7",
   "metadata": {},
   "source": [
    "## Percent of Columns"
   ]
  },
  {
   "cell_type": "markdown",
   "id": "9e97a770-902d-4214-aee2-3f75f0211dd7",
   "metadata": {},
   "source": [
    "[[back to top]](#back_to_top)"
   ]
  },
  {
   "cell_type": "code",
   "execution_count": 59,
   "id": "a42871c8-123c-4da3-9df0-0a6f26e43f95",
   "metadata": {
    "tags": []
   },
   "outputs": [
    {
     "data": {
      "text/html": [
       "<pre style=\"white-space:pre;overflow-x:auto;line-height:normal;font-family:Menlo,'DejaVu Sans Mono',consolas,'Courier New',monospace\">┏━━━━━━━━━━━━┳━━━━━━━━━━━━━┳━━━━━━━━━━━┓\n",
       "┃<span style=\"font-weight: bold\"> group_perc </span>┃<span style=\"font-weight: bold\"> ounces_perc </span>┃<span style=\"font-weight: bold\"> size_perc </span>┃\n",
       "┡━━━━━━━━━━━━╇━━━━━━━━━━━━━╇━━━━━━━━━━━┩\n",
       "│ <span style=\"color: #7f7f7f; text-decoration-color: #7f7f7f\">float64</span>    │ <span style=\"color: #7f7f7f; text-decoration-color: #7f7f7f\">float64</span>     │ <span style=\"color: #7f7f7f; text-decoration-color: #7f7f7f\">float64</span>   │\n",
       "├────────────┼─────────────┼───────────┤\n",
       "│  <span style=\"color: #008080; text-decoration-color: #008080; font-weight: bold\">26.666667</span> │        <span style=\"color: #008080; text-decoration-color: #008080; font-weight: bold\">20.0</span> │      <span style=\"color: #008080; text-decoration-color: #008080; font-weight: bold\">25.0</span> │\n",
       "│  <span style=\"color: #008080; text-decoration-color: #008080; font-weight: bold\">23.333333</span> │        <span style=\"color: #008080; text-decoration-color: #008080; font-weight: bold\">30.0</span> │      <span style=\"color: #008080; text-decoration-color: #008080; font-weight: bold\">25.0</span> │\n",
       "│  <span style=\"color: #008080; text-decoration-color: #008080; font-weight: bold\">25.000000</span> │        <span style=\"color: #008080; text-decoration-color: #008080; font-weight: bold\">25.0</span> │      <span style=\"color: #008080; text-decoration-color: #008080; font-weight: bold\">25.0</span> │\n",
       "│  <span style=\"color: #008080; text-decoration-color: #008080; font-weight: bold\">25.000000</span> │        <span style=\"color: #008080; text-decoration-color: #008080; font-weight: bold\">25.0</span> │      <span style=\"color: #008080; text-decoration-color: #008080; font-weight: bold\">25.0</span> │\n",
       "└────────────┴─────────────┴───────────┘\n",
       "</pre>\n"
      ],
      "text/plain": [
       "┏━━━━━━━━━━━━┳━━━━━━━━━━━━━┳━━━━━━━━━━━┓\n",
       "┃\u001b[1m \u001b[0m\u001b[1mgroup_perc\u001b[0m\u001b[1m \u001b[0m┃\u001b[1m \u001b[0m\u001b[1mounces_perc\u001b[0m\u001b[1m \u001b[0m┃\u001b[1m \u001b[0m\u001b[1msize_perc\u001b[0m\u001b[1m \u001b[0m┃\n",
       "┡━━━━━━━━━━━━╇━━━━━━━━━━━━━╇━━━━━━━━━━━┩\n",
       "│ \u001b[2mfloat64\u001b[0m    │ \u001b[2mfloat64\u001b[0m     │ \u001b[2mfloat64\u001b[0m   │\n",
       "├────────────┼─────────────┼───────────┤\n",
       "│  \u001b[1;36m26.666667\u001b[0m │        \u001b[1;36m20.0\u001b[0m │      \u001b[1;36m25.0\u001b[0m │\n",
       "│  \u001b[1;36m23.333333\u001b[0m │        \u001b[1;36m30.0\u001b[0m │      \u001b[1;36m25.0\u001b[0m │\n",
       "│  \u001b[1;36m25.000000\u001b[0m │        \u001b[1;36m25.0\u001b[0m │      \u001b[1;36m25.0\u001b[0m │\n",
       "│  \u001b[1;36m25.000000\u001b[0m │        \u001b[1;36m25.0\u001b[0m │      \u001b[1;36m25.0\u001b[0m │\n",
       "└────────────┴─────────────┴───────────┘"
      ]
     },
     "execution_count": 59,
     "metadata": {},
     "output_type": "execute_result"
    }
   ],
   "source": [
    "(\n",
    "    ibis_data\n",
    "    .mutate(group_perc=_.group / (_.group.sum()) * 100)\n",
    "    .mutate(ounces_perc=_.ounces / (_.ounces.sum()) * 100)\n",
    "    .mutate(size_perc=_.size / (_.size.sum()) * 100)\n",
    "    .select(s.contains('perc'))\n",
    ")"
   ]
  },
  {
   "cell_type": "markdown",
   "id": "55d92ff4-86a7-47b6-ae1c-baff93024016",
   "metadata": {},
   "source": [
    "<a id=\"zfill\">"
   ]
  },
  {
   "cell_type": "markdown",
   "id": "8f06703f-742e-41de-9f0b-de04a9f991cf",
   "metadata": {},
   "source": [
    "## Adding Leading Zeros"
   ]
  },
  {
   "cell_type": "markdown",
   "id": "e26a9754-c357-4858-bf9a-b799dd77425c",
   "metadata": {},
   "source": [
    "[[back to top]](#back_to_top)"
   ]
  },
  {
   "cell_type": "markdown",
   "id": "16ef3c84-a2fd-40b8-81d1-a62f79e0138e",
   "metadata": {},
   "source": [
    "pandas has a handy [zfill()](https://pandas.pydata.org/docs/reference/api/pandas.Series.str.zfill.html) method which ibis does not have.  But it is easy relatively easy to implement this using ibis."
   ]
  },
  {
   "cell_type": "code",
   "execution_count": 60,
   "id": "7385cfb0-5dc7-4d85-9aa5-98ac1ac9c6b9",
   "metadata": {},
   "outputs": [],
   "source": [
    "us_fips_codes = client.read_csv('data/co-est2020-alldata.csv')"
   ]
  },
  {
   "cell_type": "code",
   "execution_count": 61,
   "id": "f76e2208-041f-4ce6-a2aa-65f8d34c6e02",
   "metadata": {},
   "outputs": [
    {
     "data": {
      "text/html": [
       "<pre style=\"white-space:pre;overflow-x:auto;line-height:normal;font-family:Menlo,'DejaVu Sans Mono',consolas,'Courier New',monospace\">┏━━━━━━━┳━━━━━━━━┳━━━━━━━━━┳━━━━━━━━━━━━━━━━━┓\n",
       "┃<span style=\"font-weight: bold\"> STATE </span>┃<span style=\"font-weight: bold\"> COUNTY </span>┃<span style=\"font-weight: bold\"> STNAME  </span>┃<span style=\"font-weight: bold\"> CTYNAME         </span>┃\n",
       "┡━━━━━━━╇━━━━━━━━╇━━━━━━━━━╇━━━━━━━━━━━━━━━━━┩\n",
       "│ <span style=\"color: #7f7f7f; text-decoration-color: #7f7f7f\">int64</span> │ <span style=\"color: #7f7f7f; text-decoration-color: #7f7f7f\">int64</span>  │ <span style=\"color: #7f7f7f; text-decoration-color: #7f7f7f\">string</span>  │ <span style=\"color: #7f7f7f; text-decoration-color: #7f7f7f\">string</span>          │\n",
       "├───────┼────────┼─────────┼─────────────────┤\n",
       "│     <span style=\"color: #008080; text-decoration-color: #008080; font-weight: bold\">1</span> │      <span style=\"color: #008080; text-decoration-color: #008080; font-weight: bold\">0</span> │ <span style=\"color: #008000; text-decoration-color: #008000\">Alabama</span> │ <span style=\"color: #008000; text-decoration-color: #008000\">Alabama        </span> │\n",
       "│     <span style=\"color: #008080; text-decoration-color: #008080; font-weight: bold\">1</span> │      <span style=\"color: #008080; text-decoration-color: #008080; font-weight: bold\">1</span> │ <span style=\"color: #008000; text-decoration-color: #008000\">Alabama</span> │ <span style=\"color: #008000; text-decoration-color: #008000\">Autauga County </span> │\n",
       "│     <span style=\"color: #008080; text-decoration-color: #008080; font-weight: bold\">1</span> │      <span style=\"color: #008080; text-decoration-color: #008080; font-weight: bold\">3</span> │ <span style=\"color: #008000; text-decoration-color: #008000\">Alabama</span> │ <span style=\"color: #008000; text-decoration-color: #008000\">Baldwin County </span> │\n",
       "│     <span style=\"color: #008080; text-decoration-color: #008080; font-weight: bold\">1</span> │      <span style=\"color: #008080; text-decoration-color: #008080; font-weight: bold\">5</span> │ <span style=\"color: #008000; text-decoration-color: #008000\">Alabama</span> │ <span style=\"color: #008000; text-decoration-color: #008000\">Barbour County </span> │\n",
       "│     <span style=\"color: #008080; text-decoration-color: #008080; font-weight: bold\">1</span> │      <span style=\"color: #008080; text-decoration-color: #008080; font-weight: bold\">7</span> │ <span style=\"color: #008000; text-decoration-color: #008000\">Alabama</span> │ <span style=\"color: #008000; text-decoration-color: #008000\">Bibb County    </span> │\n",
       "│     <span style=\"color: #008080; text-decoration-color: #008080; font-weight: bold\">1</span> │      <span style=\"color: #008080; text-decoration-color: #008080; font-weight: bold\">9</span> │ <span style=\"color: #008000; text-decoration-color: #008000\">Alabama</span> │ <span style=\"color: #008000; text-decoration-color: #008000\">Blount County  </span> │\n",
       "│     <span style=\"color: #008080; text-decoration-color: #008080; font-weight: bold\">1</span> │     <span style=\"color: #008080; text-decoration-color: #008080; font-weight: bold\">11</span> │ <span style=\"color: #008000; text-decoration-color: #008000\">Alabama</span> │ <span style=\"color: #008000; text-decoration-color: #008000\">Bullock County </span> │\n",
       "│     <span style=\"color: #008080; text-decoration-color: #008080; font-weight: bold\">1</span> │     <span style=\"color: #008080; text-decoration-color: #008080; font-weight: bold\">13</span> │ <span style=\"color: #008000; text-decoration-color: #008000\">Alabama</span> │ <span style=\"color: #008000; text-decoration-color: #008000\">Butler County  </span> │\n",
       "│     <span style=\"color: #008080; text-decoration-color: #008080; font-weight: bold\">1</span> │     <span style=\"color: #008080; text-decoration-color: #008080; font-weight: bold\">15</span> │ <span style=\"color: #008000; text-decoration-color: #008000\">Alabama</span> │ <span style=\"color: #008000; text-decoration-color: #008000\">Calhoun County </span> │\n",
       "│     <span style=\"color: #008080; text-decoration-color: #008080; font-weight: bold\">1</span> │     <span style=\"color: #008080; text-decoration-color: #008080; font-weight: bold\">17</span> │ <span style=\"color: #008000; text-decoration-color: #008000\">Alabama</span> │ <span style=\"color: #008000; text-decoration-color: #008000\">Chambers County</span> │\n",
       "│     <span style=\"color: #7f7f7f; text-decoration-color: #7f7f7f\">…</span> │      <span style=\"color: #7f7f7f; text-decoration-color: #7f7f7f\">…</span> │ <span style=\"color: #7f7f7f; text-decoration-color: #7f7f7f\">…</span>       │ <span style=\"color: #7f7f7f; text-decoration-color: #7f7f7f\">…</span>               │\n",
       "└───────┴────────┴─────────┴─────────────────┘\n",
       "</pre>\n"
      ],
      "text/plain": [
       "┏━━━━━━━┳━━━━━━━━┳━━━━━━━━━┳━━━━━━━━━━━━━━━━━┓\n",
       "┃\u001b[1m \u001b[0m\u001b[1mSTATE\u001b[0m\u001b[1m \u001b[0m┃\u001b[1m \u001b[0m\u001b[1mCOUNTY\u001b[0m\u001b[1m \u001b[0m┃\u001b[1m \u001b[0m\u001b[1mSTNAME\u001b[0m\u001b[1m \u001b[0m\u001b[1m \u001b[0m┃\u001b[1m \u001b[0m\u001b[1mCTYNAME\u001b[0m\u001b[1m        \u001b[0m\u001b[1m \u001b[0m┃\n",
       "┡━━━━━━━╇━━━━━━━━╇━━━━━━━━━╇━━━━━━━━━━━━━━━━━┩\n",
       "│ \u001b[2mint64\u001b[0m │ \u001b[2mint64\u001b[0m  │ \u001b[2mstring\u001b[0m  │ \u001b[2mstring\u001b[0m          │\n",
       "├───────┼────────┼─────────┼─────────────────┤\n",
       "│     \u001b[1;36m1\u001b[0m │      \u001b[1;36m0\u001b[0m │ \u001b[32mAlabama\u001b[0m │ \u001b[32mAlabama        \u001b[0m │\n",
       "│     \u001b[1;36m1\u001b[0m │      \u001b[1;36m1\u001b[0m │ \u001b[32mAlabama\u001b[0m │ \u001b[32mAutauga County \u001b[0m │\n",
       "│     \u001b[1;36m1\u001b[0m │      \u001b[1;36m3\u001b[0m │ \u001b[32mAlabama\u001b[0m │ \u001b[32mBaldwin County \u001b[0m │\n",
       "│     \u001b[1;36m1\u001b[0m │      \u001b[1;36m5\u001b[0m │ \u001b[32mAlabama\u001b[0m │ \u001b[32mBarbour County \u001b[0m │\n",
       "│     \u001b[1;36m1\u001b[0m │      \u001b[1;36m7\u001b[0m │ \u001b[32mAlabama\u001b[0m │ \u001b[32mBibb County    \u001b[0m │\n",
       "│     \u001b[1;36m1\u001b[0m │      \u001b[1;36m9\u001b[0m │ \u001b[32mAlabama\u001b[0m │ \u001b[32mBlount County  \u001b[0m │\n",
       "│     \u001b[1;36m1\u001b[0m │     \u001b[1;36m11\u001b[0m │ \u001b[32mAlabama\u001b[0m │ \u001b[32mBullock County \u001b[0m │\n",
       "│     \u001b[1;36m1\u001b[0m │     \u001b[1;36m13\u001b[0m │ \u001b[32mAlabama\u001b[0m │ \u001b[32mButler County  \u001b[0m │\n",
       "│     \u001b[1;36m1\u001b[0m │     \u001b[1;36m15\u001b[0m │ \u001b[32mAlabama\u001b[0m │ \u001b[32mCalhoun County \u001b[0m │\n",
       "│     \u001b[1;36m1\u001b[0m │     \u001b[1;36m17\u001b[0m │ \u001b[32mAlabama\u001b[0m │ \u001b[32mChambers County\u001b[0m │\n",
       "│     \u001b[2m…\u001b[0m │      \u001b[2m…\u001b[0m │ \u001b[2m…\u001b[0m       │ \u001b[2m…\u001b[0m               │\n",
       "└───────┴────────┴─────────┴─────────────────┘"
      ]
     },
     "execution_count": 61,
     "metadata": {},
     "output_type": "execute_result"
    }
   ],
   "source": [
    "us_fips_codes"
   ]
  },
  {
   "cell_type": "markdown",
   "id": "116e8dab-a046-4fa7-9f05-57443cf665f0",
   "metadata": {},
   "source": [
    "Goal:\n",
    "- New column: The state FIPS code is a 2-character code that should have a leading zero when the state code is a single digit code\n",
    "- New column: The county FIPS codes is a 3-character code that should have 2 leading zeros when the county code is a single digit code, 1 leading zero when it is a 2 digit code"
   ]
  },
  {
   "cell_type": "code",
   "execution_count": 62,
   "id": "045f1397-eff8-4aea-b0d8-29829a2e3548",
   "metadata": {},
   "outputs": [
    {
     "data": {
      "text/html": [
       "<pre style=\"white-space:pre;overflow-x:auto;line-height:normal;font-family:Menlo,'DejaVu Sans Mono',consolas,'Courier New',monospace\">┏━━━━━━━┳━━━━━━━━┳━━━━━━━━━┳━━━━━━━━━━━━━━━━━┳━━━━━━━━━━━━┳━━━━━━━━━━━━━┓\n",
       "┃<span style=\"font-weight: bold\"> STATE </span>┃<span style=\"font-weight: bold\"> COUNTY </span>┃<span style=\"font-weight: bold\"> STNAME  </span>┃<span style=\"font-weight: bold\"> CTYNAME         </span>┃<span style=\"font-weight: bold\"> state_fips </span>┃<span style=\"font-weight: bold\"> county_fips </span>┃\n",
       "┡━━━━━━━╇━━━━━━━━╇━━━━━━━━━╇━━━━━━━━━━━━━━━━━╇━━━━━━━━━━━━╇━━━━━━━━━━━━━┩\n",
       "│ <span style=\"color: #7f7f7f; text-decoration-color: #7f7f7f\">int64</span> │ <span style=\"color: #7f7f7f; text-decoration-color: #7f7f7f\">int64</span>  │ <span style=\"color: #7f7f7f; text-decoration-color: #7f7f7f\">string</span>  │ <span style=\"color: #7f7f7f; text-decoration-color: #7f7f7f\">string</span>          │ <span style=\"color: #7f7f7f; text-decoration-color: #7f7f7f\">string</span>     │ <span style=\"color: #7f7f7f; text-decoration-color: #7f7f7f\">string</span>      │\n",
       "├───────┼────────┼─────────┼─────────────────┼────────────┼─────────────┤\n",
       "│     <span style=\"color: #008080; text-decoration-color: #008080; font-weight: bold\">1</span> │      <span style=\"color: #008080; text-decoration-color: #008080; font-weight: bold\">0</span> │ <span style=\"color: #008000; text-decoration-color: #008000\">Alabama</span> │ <span style=\"color: #008000; text-decoration-color: #008000\">Alabama        </span> │ <span style=\"color: #008000; text-decoration-color: #008000\">01        </span> │ <span style=\"color: #008000; text-decoration-color: #008000\">000        </span> │\n",
       "│     <span style=\"color: #008080; text-decoration-color: #008080; font-weight: bold\">1</span> │      <span style=\"color: #008080; text-decoration-color: #008080; font-weight: bold\">1</span> │ <span style=\"color: #008000; text-decoration-color: #008000\">Alabama</span> │ <span style=\"color: #008000; text-decoration-color: #008000\">Autauga County </span> │ <span style=\"color: #008000; text-decoration-color: #008000\">01        </span> │ <span style=\"color: #008000; text-decoration-color: #008000\">001        </span> │\n",
       "│     <span style=\"color: #008080; text-decoration-color: #008080; font-weight: bold\">1</span> │      <span style=\"color: #008080; text-decoration-color: #008080; font-weight: bold\">3</span> │ <span style=\"color: #008000; text-decoration-color: #008000\">Alabama</span> │ <span style=\"color: #008000; text-decoration-color: #008000\">Baldwin County </span> │ <span style=\"color: #008000; text-decoration-color: #008000\">01        </span> │ <span style=\"color: #008000; text-decoration-color: #008000\">003        </span> │\n",
       "│     <span style=\"color: #008080; text-decoration-color: #008080; font-weight: bold\">1</span> │      <span style=\"color: #008080; text-decoration-color: #008080; font-weight: bold\">5</span> │ <span style=\"color: #008000; text-decoration-color: #008000\">Alabama</span> │ <span style=\"color: #008000; text-decoration-color: #008000\">Barbour County </span> │ <span style=\"color: #008000; text-decoration-color: #008000\">01        </span> │ <span style=\"color: #008000; text-decoration-color: #008000\">005        </span> │\n",
       "│     <span style=\"color: #008080; text-decoration-color: #008080; font-weight: bold\">1</span> │      <span style=\"color: #008080; text-decoration-color: #008080; font-weight: bold\">7</span> │ <span style=\"color: #008000; text-decoration-color: #008000\">Alabama</span> │ <span style=\"color: #008000; text-decoration-color: #008000\">Bibb County    </span> │ <span style=\"color: #008000; text-decoration-color: #008000\">01        </span> │ <span style=\"color: #008000; text-decoration-color: #008000\">007        </span> │\n",
       "│     <span style=\"color: #008080; text-decoration-color: #008080; font-weight: bold\">1</span> │      <span style=\"color: #008080; text-decoration-color: #008080; font-weight: bold\">9</span> │ <span style=\"color: #008000; text-decoration-color: #008000\">Alabama</span> │ <span style=\"color: #008000; text-decoration-color: #008000\">Blount County  </span> │ <span style=\"color: #008000; text-decoration-color: #008000\">01        </span> │ <span style=\"color: #008000; text-decoration-color: #008000\">009        </span> │\n",
       "│     <span style=\"color: #008080; text-decoration-color: #008080; font-weight: bold\">1</span> │     <span style=\"color: #008080; text-decoration-color: #008080; font-weight: bold\">11</span> │ <span style=\"color: #008000; text-decoration-color: #008000\">Alabama</span> │ <span style=\"color: #008000; text-decoration-color: #008000\">Bullock County </span> │ <span style=\"color: #008000; text-decoration-color: #008000\">01        </span> │ <span style=\"color: #008000; text-decoration-color: #008000\">011        </span> │\n",
       "│     <span style=\"color: #008080; text-decoration-color: #008080; font-weight: bold\">1</span> │     <span style=\"color: #008080; text-decoration-color: #008080; font-weight: bold\">13</span> │ <span style=\"color: #008000; text-decoration-color: #008000\">Alabama</span> │ <span style=\"color: #008000; text-decoration-color: #008000\">Butler County  </span> │ <span style=\"color: #008000; text-decoration-color: #008000\">01        </span> │ <span style=\"color: #008000; text-decoration-color: #008000\">013        </span> │\n",
       "│     <span style=\"color: #008080; text-decoration-color: #008080; font-weight: bold\">1</span> │     <span style=\"color: #008080; text-decoration-color: #008080; font-weight: bold\">15</span> │ <span style=\"color: #008000; text-decoration-color: #008000\">Alabama</span> │ <span style=\"color: #008000; text-decoration-color: #008000\">Calhoun County </span> │ <span style=\"color: #008000; text-decoration-color: #008000\">01        </span> │ <span style=\"color: #008000; text-decoration-color: #008000\">015        </span> │\n",
       "│     <span style=\"color: #008080; text-decoration-color: #008080; font-weight: bold\">1</span> │     <span style=\"color: #008080; text-decoration-color: #008080; font-weight: bold\">17</span> │ <span style=\"color: #008000; text-decoration-color: #008000\">Alabama</span> │ <span style=\"color: #008000; text-decoration-color: #008000\">Chambers County</span> │ <span style=\"color: #008000; text-decoration-color: #008000\">01        </span> │ <span style=\"color: #008000; text-decoration-color: #008000\">017        </span> │\n",
       "│     <span style=\"color: #7f7f7f; text-decoration-color: #7f7f7f\">…</span> │      <span style=\"color: #7f7f7f; text-decoration-color: #7f7f7f\">…</span> │ <span style=\"color: #7f7f7f; text-decoration-color: #7f7f7f\">…</span>       │ <span style=\"color: #7f7f7f; text-decoration-color: #7f7f7f\">…</span>               │ <span style=\"color: #7f7f7f; text-decoration-color: #7f7f7f\">…</span>          │ <span style=\"color: #7f7f7f; text-decoration-color: #7f7f7f\">…</span>           │\n",
       "└───────┴────────┴─────────┴─────────────────┴────────────┴─────────────┘\n",
       "</pre>\n"
      ],
      "text/plain": [
       "┏━━━━━━━┳━━━━━━━━┳━━━━━━━━━┳━━━━━━━━━━━━━━━━━┳━━━━━━━━━━━━┳━━━━━━━━━━━━━┓\n",
       "┃\u001b[1m \u001b[0m\u001b[1mSTATE\u001b[0m\u001b[1m \u001b[0m┃\u001b[1m \u001b[0m\u001b[1mCOUNTY\u001b[0m\u001b[1m \u001b[0m┃\u001b[1m \u001b[0m\u001b[1mSTNAME\u001b[0m\u001b[1m \u001b[0m\u001b[1m \u001b[0m┃\u001b[1m \u001b[0m\u001b[1mCTYNAME\u001b[0m\u001b[1m        \u001b[0m\u001b[1m \u001b[0m┃\u001b[1m \u001b[0m\u001b[1mstate_fips\u001b[0m\u001b[1m \u001b[0m┃\u001b[1m \u001b[0m\u001b[1mcounty_fips\u001b[0m\u001b[1m \u001b[0m┃\n",
       "┡━━━━━━━╇━━━━━━━━╇━━━━━━━━━╇━━━━━━━━━━━━━━━━━╇━━━━━━━━━━━━╇━━━━━━━━━━━━━┩\n",
       "│ \u001b[2mint64\u001b[0m │ \u001b[2mint64\u001b[0m  │ \u001b[2mstring\u001b[0m  │ \u001b[2mstring\u001b[0m          │ \u001b[2mstring\u001b[0m     │ \u001b[2mstring\u001b[0m      │\n",
       "├───────┼────────┼─────────┼─────────────────┼────────────┼─────────────┤\n",
       "│     \u001b[1;36m1\u001b[0m │      \u001b[1;36m0\u001b[0m │ \u001b[32mAlabama\u001b[0m │ \u001b[32mAlabama        \u001b[0m │ \u001b[32m01        \u001b[0m │ \u001b[32m000        \u001b[0m │\n",
       "│     \u001b[1;36m1\u001b[0m │      \u001b[1;36m1\u001b[0m │ \u001b[32mAlabama\u001b[0m │ \u001b[32mAutauga County \u001b[0m │ \u001b[32m01        \u001b[0m │ \u001b[32m001        \u001b[0m │\n",
       "│     \u001b[1;36m1\u001b[0m │      \u001b[1;36m3\u001b[0m │ \u001b[32mAlabama\u001b[0m │ \u001b[32mBaldwin County \u001b[0m │ \u001b[32m01        \u001b[0m │ \u001b[32m003        \u001b[0m │\n",
       "│     \u001b[1;36m1\u001b[0m │      \u001b[1;36m5\u001b[0m │ \u001b[32mAlabama\u001b[0m │ \u001b[32mBarbour County \u001b[0m │ \u001b[32m01        \u001b[0m │ \u001b[32m005        \u001b[0m │\n",
       "│     \u001b[1;36m1\u001b[0m │      \u001b[1;36m7\u001b[0m │ \u001b[32mAlabama\u001b[0m │ \u001b[32mBibb County    \u001b[0m │ \u001b[32m01        \u001b[0m │ \u001b[32m007        \u001b[0m │\n",
       "│     \u001b[1;36m1\u001b[0m │      \u001b[1;36m9\u001b[0m │ \u001b[32mAlabama\u001b[0m │ \u001b[32mBlount County  \u001b[0m │ \u001b[32m01        \u001b[0m │ \u001b[32m009        \u001b[0m │\n",
       "│     \u001b[1;36m1\u001b[0m │     \u001b[1;36m11\u001b[0m │ \u001b[32mAlabama\u001b[0m │ \u001b[32mBullock County \u001b[0m │ \u001b[32m01        \u001b[0m │ \u001b[32m011        \u001b[0m │\n",
       "│     \u001b[1;36m1\u001b[0m │     \u001b[1;36m13\u001b[0m │ \u001b[32mAlabama\u001b[0m │ \u001b[32mButler County  \u001b[0m │ \u001b[32m01        \u001b[0m │ \u001b[32m013        \u001b[0m │\n",
       "│     \u001b[1;36m1\u001b[0m │     \u001b[1;36m15\u001b[0m │ \u001b[32mAlabama\u001b[0m │ \u001b[32mCalhoun County \u001b[0m │ \u001b[32m01        \u001b[0m │ \u001b[32m015        \u001b[0m │\n",
       "│     \u001b[1;36m1\u001b[0m │     \u001b[1;36m17\u001b[0m │ \u001b[32mAlabama\u001b[0m │ \u001b[32mChambers County\u001b[0m │ \u001b[32m01        \u001b[0m │ \u001b[32m017        \u001b[0m │\n",
       "│     \u001b[2m…\u001b[0m │      \u001b[2m…\u001b[0m │ \u001b[2m…\u001b[0m       │ \u001b[2m…\u001b[0m               │ \u001b[2m…\u001b[0m          │ \u001b[2m…\u001b[0m           │\n",
       "└───────┴────────┴─────────┴─────────────────┴────────────┴─────────────┘"
      ]
     },
     "execution_count": 62,
     "metadata": {},
     "output_type": "execute_result"
    }
   ],
   "source": [
    "(\n",
    "    us_fips_codes\n",
    "    .mutate(state_fips=ibis.literal(\"0\") * (2 - us_fips_codes.STATE.cast('string').length()) + us_fips_codes.STATE.cast('string'))\n",
    "    .mutate(county_fips=ibis.literal(\"0\") * (3 - us_fips_codes.COUNTY.cast('string').length()) + us_fips_codes.COUNTY.cast('string'))\n",
    ")"
   ]
  }
 ],
 "metadata": {
  "kernelspec": {
   "display_name": "Py3.11 (eda_dev)",
   "language": "python",
   "name": "eda_dev"
  },
  "language_info": {
   "codemirror_mode": {
    "name": "ipython",
    "version": 3
   },
   "file_extension": ".py",
   "mimetype": "text/x-python",
   "name": "python",
   "nbconvert_exporter": "python",
   "pygments_lexer": "ipython3",
   "version": "3.11.5"
  }
 },
 "nbformat": 4,
 "nbformat_minor": 5
}
