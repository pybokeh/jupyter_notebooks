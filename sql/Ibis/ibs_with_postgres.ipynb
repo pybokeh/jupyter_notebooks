{
 "cells": [
  {
   "cell_type": "code",
   "execution_count": 1,
   "id": "576d36cd-36b8-4c83-ba3d-83daf475bf43",
   "metadata": {},
   "outputs": [
    {
     "data": {
      "text/plain": [
       "True"
      ]
     },
     "execution_count": 1,
     "metadata": {},
     "output_type": "execute_result"
    }
   ],
   "source": [
    "import ibis\n",
    "import ibis.selectors as s\n",
    "import os\n",
    "import pandas as pd\n",
    "from dotenv import load_dotenv\n",
    "from ibis import _\n",
    "ibis.options.interactive = True\n",
    "load_dotenv()"
   ]
  },
  {
   "cell_type": "code",
   "execution_count": 2,
   "id": "45db37fe-1aa9-4042-bbba-e7481dc36c92",
   "metadata": {},
   "outputs": [],
   "source": [
    "con = ibis.postgres.connect(\n",
    "    user=os.getenv('pg_user'),\n",
    "    password=os.getenv('pg_password'),\n",
    "    host=os.getenv('pg_host'),\n",
    "    port=os.getenv('pg_port'),\n",
    "    database=os.getenv('pg_database'),\n",
    "    schema='oh'\n",
    ")"
   ]
  },
  {
   "cell_type": "code",
   "execution_count": 3,
   "id": "71cc3c46-4d37-4b7d-bf96-c802dfb4fd09",
   "metadata": {},
   "outputs": [
    {
     "data": {
      "text/plain": [
       "['county_crash_stats_per_capita',\n",
       " 'crash_statistics',\n",
       " 'odot_statistics',\n",
       " 'person_statistics',\n",
       " 'unit_statistics']"
      ]
     },
     "execution_count": 3,
     "metadata": {},
     "output_type": "execute_result"
    }
   ],
   "source": [
    "con.list_tables()"
   ]
  }
 ],
 "metadata": {
  "kernelspec": {
   "display_name": "Py3.11 (eda_dev)",
   "language": "python",
   "name": "eda_dev"
  },
  "language_info": {
   "codemirror_mode": {
    "name": "ipython",
    "version": 3
   },
   "file_extension": ".py",
   "mimetype": "text/x-python",
   "name": "python",
   "nbconvert_exporter": "python",
   "pygments_lexer": "ipython3",
   "version": "3.11.5"
  }
 },
 "nbformat": 4,
 "nbformat_minor": 5
}
