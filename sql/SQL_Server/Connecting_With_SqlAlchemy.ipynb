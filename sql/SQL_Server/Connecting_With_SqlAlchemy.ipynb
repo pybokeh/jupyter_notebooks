{
 "cells": [
  {
   "cell_type": "markdown",
   "metadata": {},
   "source": [
    "# PURPOSE"
   ]
  },
  {
   "cell_type": "markdown",
   "metadata": {},
   "source": [
    "#### Save a pandas dataframe as a SQL Server table"
   ]
  },
  {
   "cell_type": "markdown",
   "metadata": {},
   "source": [
    "**PROs:** With this method, you do not need to issue a CREATE statement prior to performing this method."
   ]
  },
  {
   "cell_type": "markdown",
   "metadata": {},
   "source": [
    "**CONs:** Your data must fit in memory and you may have to define data types for columns if or when SQL Server does not correctly guess them."
   ]
  },
  {
   "cell_type": "code",
   "execution_count": null,
   "metadata": {},
   "outputs": [],
   "source": [
    "from getpass import getpass\n",
    "from sqlalchemy import create_engine\n",
    "import pandas as pd"
   ]
  },
  {
   "cell_type": "code",
   "execution_count": null,
   "metadata": {},
   "outputs": [],
   "source": [
    "# Not needed with trusted connection aka Windows Authentication\n",
    "#username = input(\"Enter username: \")\n",
    "#pwd = getpass(\"Enter password: \")"
   ]
  },
  {
   "cell_type": "markdown",
   "metadata": {},
   "source": [
    "#### Database Server details"
   ]
  },
  {
   "cell_type": "code",
   "execution_count": null,
   "metadata": {},
   "outputs": [],
   "source": [
    "host = 'some_host'\n",
    "port = '1433'\n",
    "db = 'some_database'"
   ]
  },
  {
   "cell_type": "markdown",
   "metadata": {},
   "source": [
    "#### Create sqlalchemy engine with `fast_executemany` option enabled for quicker writes to the database"
   ]
  },
  {
   "cell_type": "markdown",
   "metadata": {},
   "source": [
    "Documentation for details on using `fast_executemany` is available [here](https://docs.sqlalchemy.org/en/14/dialects/mssql.html#fast-executemany-mode) and reference [docs](https://docs.sqlalchemy.org/en/14/dialects/mssql.html#hostname-connections) for connecting with DSN-less or using hostname connection details"
   ]
  },
  {
   "cell_type": "markdown",
   "metadata": {},
   "source": [
    "Per the documentation, after the database name in the connection string below, you delimit using question mark and then use ampersand symbol for additional settings.  In driver names, replace space with +/plus symbol.  To find out what drivers are available, navigate to your ODBC manager screens and click on \"Add\".  You should see a list of available ODBC drivers for SQL Server."
   ]
  },
  {
   "cell_type": "code",
   "execution_count": null,
   "metadata": {},
   "outputs": [],
   "source": [
    "# If not using Windows Authentication / trusted connection\n",
    "# engine = create_engine(f\"mssql+pyodbc://{username}:{pwd}@{host}:{port}/{db}?driver=ODBC+Driver+11+for+SQL+Server\")"
   ]
  },
  {
   "cell_type": "code",
   "execution_count": null,
   "metadata": {},
   "outputs": [],
   "source": [
    "# If using trusted connection aka Windows Authentication\n",
    "engine = create_engine(f\"mssql+pyodbc://@{host}:{port}/{db}?trusted_connection=yes&driver=ODBC+Driver+11+for+SQL+Server\", fast_executemany=True)"
   ]
  },
  {
   "cell_type": "markdown",
   "metadata": {},
   "source": [
    "#### Let's take a peek at 2 random rows from our data set"
   ]
  },
  {
   "cell_type": "code",
   "execution_count": null,
   "metadata": {},
   "outputs": [],
   "source": [
    "df = pd.read_csv('data/tbl_Assets.txt')\n",
    "df.sample(n=2).transpose()"
   ]
  },
  {
   "cell_type": "code",
   "execution_count": null,
   "metadata": {},
   "outputs": [],
   "source": [
    "df.dtypes"
   ]
  },
  {
   "cell_type": "markdown",
   "metadata": {},
   "source": [
    "#### Now send data to SQL Server, specifying table name and schema"
   ]
  },
  {
   "cell_type": "code",
   "execution_count": null,
   "metadata": {},
   "outputs": [],
   "source": [
    "df.to_sql('assets', engine, schema='HDMASC', index=False)"
   ]
  }
 ],
 "metadata": {
  "kernelspec": {
   "display_name": "Python 3 (ipykernel)",
   "language": "python",
   "name": "python3"
  },
  "language_info": {
   "codemirror_mode": {
    "name": "ipython",
    "version": 3
   },
   "file_extension": ".py",
   "mimetype": "text/x-python",
   "name": "python",
   "nbconvert_exporter": "python",
   "pygments_lexer": "ipython3",
   "version": "3.8.10"
  },
  "widgets": {
   "application/vnd.jupyter.widget-state+json": {
    "state": {},
    "version_major": 2,
    "version_minor": 0
   }
  }
 },
 "nbformat": 4,
 "nbformat_minor": 4
}
