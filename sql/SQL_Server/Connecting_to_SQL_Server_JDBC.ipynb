{
 "cells": [
  {
   "cell_type": "markdown",
   "metadata": {},
   "source": [
    "# Connecting to SQL Server with JayDeBeApi"
   ]
  },
  {
   "cell_type": "markdown",
   "metadata": {},
   "source": [
    "**GOAL:** Query SQL Server using Single Sign-On (SSO) and return results as a pandas dataframe"
   ]
  },
  {
   "cell_type": "markdown",
   "metadata": {},
   "source": [
    "To get started, need 2 things:"
   ]
  },
  {
   "cell_type": "markdown",
   "metadata": {},
   "source": [
    "1. Open-source jtds drivers from [here](https://sourceforge.net/projects/jtds/files/jtds/).\n",
    "2. Java runtime environment (JRE).  **NOTE:** If you also need to query mainframe DB2, it is recommended that you use the same JRE used to connect to mainframe DB2"
   ]
  },
  {
   "cell_type": "markdown",
   "metadata": {},
   "source": [
    "Then review this StackOverflow [example](https://stackoverflow.com/questions/55376100/create-a-jtds-connection-string-in-python) for SQL Server connection string details."
   ]
  },
  {
   "cell_type": "markdown",
   "metadata": {},
   "source": [
    "Review this StackOverflow [example](https://stackoverflow.com/questions/13267764/i-o-error-sso-failed-native-sspi-library-not-loaded) to determine where to save the \"ntlmauth.dll\" file used for SSO (\"Single Sign On\" authentication).  Looks like you need to save it in the `java/bin` or `jre/bin` folder."
   ]
  },
  {
   "cell_type": "code",
   "execution_count": null,
   "metadata": {},
   "outputs": [],
   "source": [
    "from getpass import getpass\n",
    "import jaydebeapi as jdpa\n",
    "import pandas as pd"
   ]
  },
  {
   "cell_type": "code",
   "execution_count": null,
   "metadata": {},
   "outputs": [],
   "source": [
    "!echo %JAVA_HOME%"
   ]
  },
  {
   "cell_type": "markdown",
   "metadata": {},
   "source": [
    "#### Database server details"
   ]
  },
  {
   "cell_type": "code",
   "execution_count": null,
   "metadata": {},
   "outputs": [],
   "source": [
    "host = 'some_host'\n",
    "port = '1433'\n",
    "database = 'some_database'"
   ]
  },
  {
   "cell_type": "markdown",
   "metadata": {},
   "source": [
    "#### Please use `WITH (NOLOCK)` after table name or table alias to prevent blocking others or jobs from accessing table concurrently."
   ]
  },
  {
   "cell_type": "code",
   "execution_count": null,
   "metadata": {},
   "outputs": [],
   "source": [
    "sql = \"\"\"\n",
    "SELECT DISTINCT\n",
    "    some_columns_FROM some_table\n",
    "FROM\n",
    "    dbo.some_table WITH (NOLOCK)\n",
    "WHERE\n",
    "    PDTLS.IsPartActive = 1\n",
    "    AND PDTLS.PartEffectiveBeginDate <= getdate()\n",
    "    AND PDTLS.PartEffectiveEndDate > getdate()\n",
    "\"\"\""
   ]
  },
  {
   "cell_type": "markdown",
   "metadata": {},
   "source": [
    "#### Usually best practice to use `with` statement when making a database connection so that we can ensure database connections are closed"
   ]
  },
  {
   "cell_type": "markdown",
   "metadata": {},
   "source": [
    "Connect, execute query, return results back as a pandas dataframe"
   ]
  },
  {
   "cell_type": "code",
   "execution_count": null,
   "metadata": {},
   "outputs": [],
   "source": [
    "with jdpa.connect(\n",
    "    'net.sourceforge.jtds.jdbc.Driver',\n",
    "    f'jdbc:jtds:sqlserver://{host}:{port}/{database};Trusted_Connection=yes;',\n",
    "    jars=['C:/Users/some_user/jtds/jtds-1.3.1.jar']\n",
    ") as conn:\n",
    "    df_mbpn = pd.read_sql(sql, conn, index_col=None)"
   ]
  },
  {
   "cell_type": "markdown",
   "metadata": {},
   "source": [
    "Number of (rows, columns):"
   ]
  },
  {
   "cell_type": "code",
   "execution_count": null,
   "metadata": {},
   "outputs": [],
   "source": [
    "df_mbpn.shape"
   ]
  },
  {
   "cell_type": "markdown",
   "metadata": {},
   "source": [
    "First 5 rows of data:"
   ]
  },
  {
   "cell_type": "code",
   "execution_count": null,
   "metadata": {},
   "outputs": [],
   "source": [
    "df_mbpn.head()"
   ]
  }
 ],
 "metadata": {
  "kernelspec": {
   "display_name": "Python 3 (ipykernel)",
   "language": "python",
   "name": "python3"
  },
  "language_info": {
   "codemirror_mode": {
    "name": "ipython",
    "version": 3
   },
   "file_extension": ".py",
   "mimetype": "text/x-python",
   "name": "python",
   "nbconvert_exporter": "python",
   "pygments_lexer": "ipython3",
   "version": "3.8.10"
  },
  "widgets": {
   "application/vnd.jupyter.widget-state+json": {
    "state": {},
    "version_major": 2,
    "version_minor": 0
   }
  }
 },
 "nbformat": 4,
 "nbformat_minor": 4
}
