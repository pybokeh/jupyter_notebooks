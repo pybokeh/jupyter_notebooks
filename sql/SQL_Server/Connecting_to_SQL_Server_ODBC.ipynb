{
 "cells": [
  {
   "cell_type": "code",
   "execution_count": null,
   "metadata": {},
   "outputs": [],
   "source": [
    "import pandas as pd\n",
    "import pyodbc"
   ]
  },
  {
   "cell_type": "code",
   "execution_count": null,
   "metadata": {},
   "outputs": [],
   "source": [
    "sql = \"\"\"\n",
    "SELECT DISTINCT\n",
    "    some_columns_FROM some_table\n",
    "FROM\n",
    "    dbo.some_table WITH (NOLOCK)\n",
    "WHERE\n",
    "    PDTLS.IsPartActive = 1\n",
    "    AND PDTLS.PartEffectiveBeginDate <= getdate()\n",
    "    AND PDTLS.PartEffectiveEndDate > getdate()\n",
    "\"\"\""
   ]
  },
  {
   "cell_type": "markdown",
   "metadata": {},
   "source": [
    "#### Usually best practice to use context manager (\"with\" statement) so that we don't need to worry about closing database connections"
   ]
  },
  {
   "cell_type": "markdown",
   "metadata": {},
   "source": [
    "Review this [page](https://github.com/mkleehammer/pyodbc/wiki/Connecting-to-SQL-Server-from-Windows) for connection string settings for both DSN and DSN-less (hostname) connection strings"
   ]
  },
  {
   "cell_type": "code",
   "execution_count": null,
   "metadata": {},
   "outputs": [],
   "source": [
    "with pyodbc.connect('Driver={SQL Server};'\n",
    "                    'Server=some_host;'\n",
    "                    'Database=some_database;'\n",
    "                    'Trusted_Connection=yes;') as conn:\n",
    "    df = pd.read_sql(sql, conn)"
   ]
  },
  {
   "cell_type": "code",
   "execution_count": null,
   "metadata": {},
   "outputs": [],
   "source": [
    "df.head()"
   ]
  }
 ],
 "metadata": {
  "kernelspec": {
   "display_name": "Python 3 (ipykernel)",
   "language": "python",
   "name": "python3"
  },
  "language_info": {
   "codemirror_mode": {
    "name": "ipython",
    "version": 3
   },
   "file_extension": ".py",
   "mimetype": "text/x-python",
   "name": "python",
   "nbconvert_exporter": "python",
   "pygments_lexer": "ipython3",
   "version": "3.8.10"
  },
  "widgets": {
   "application/vnd.jupyter.widget-state+json": {
    "state": {},
    "version_major": 2,
    "version_minor": 0
   }
  }
 },
 "nbformat": 4,
 "nbformat_minor": 4
}
